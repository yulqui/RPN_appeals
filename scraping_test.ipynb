{
 "cells": [
  {
   "cell_type": "code",
   "execution_count": 2,
   "metadata": {},
   "outputs": [],
   "source": [
    "import scrapy"
   ]
  },
  {
   "cell_type": "code",
   "execution_count": 2,
   "metadata": {},
   "outputs": [],
   "source": [
    "import pandas as pd\n",
    "import numpy as np\n",
    "import matplotlib.pyplot as plt\n",
    "import seaborn as sns\n",
    "%matplotlib inline\n",
    "import re\n",
    "import time\n",
    "from datetime import datetime\n",
    "import matplotlib.dates as mdates\n",
    "import matplotlib.ticker as ticker\n",
    "from urllib.request import urlopen\n",
    "from bs4 import BeautifulSoup"
   ]
  },
  {
   "cell_type": "code",
   "execution_count": 5,
   "metadata": {},
   "outputs": [],
   "source": [
    "url = \"https://www.datacamp.com/community/tutorials\"\n",
    "html = urlopen(url)\n",
    "soup = BeautifulSoup(html, 'html')\n",
    "\n",
    "pages = [i.text for i in soup.find_all('a') if 'community/tutorials?page=' in str(i)]\n",
    "lastpage = pages[-1]"
   ]
  },
  {
   "cell_type": "code",
   "execution_count": 21,
   "metadata": {},
   "outputs": [
    {
     "data": {
      "text/plain": [
       "['2', '3', '4', '5', '6', '7', '24']"
      ]
     },
     "execution_count": 21,
     "metadata": {},
     "output_type": "execute_result"
    }
   ],
   "source": [
    "pages"
   ]
  },
  {
   "cell_type": "code",
   "execution_count": 6,
   "metadata": {},
   "outputs": [
    {
     "name": "stdout",
     "output_type": "stream",
     "text": [
      "24\n"
     ]
    }
   ],
   "source": [
    "print(lastpage)"
   ]
  },
  {
   "cell_type": "code",
   "execution_count": 8,
   "metadata": {},
   "outputs": [],
   "source": [
    "url2 = 'http://zpp.rospotrebnadzor.ru/Forum/Appeals'"
   ]
  },
  {
   "cell_type": "code",
   "execution_count": 11,
   "metadata": {},
   "outputs": [
    {
     "data": {
      "text/plain": [
       "<Response [200]>"
      ]
     },
     "execution_count": 11,
     "metadata": {},
     "output_type": "execute_result"
    }
   ],
   "source": [
    "import requests\n",
    "requests.get(url2)"
   ]
  },
  {
   "cell_type": "code",
   "execution_count": 12,
   "metadata": {},
   "outputs": [],
   "source": [
    "response = requests.get(url2)"
   ]
  },
  {
   "cell_type": "code",
   "execution_count": 13,
   "metadata": {},
   "outputs": [
    {
     "data": {
      "text/plain": [
       "b'<!DOCTYPE html>\\r\\n<html>\\r\\n<head>\\r\\n    <meta http-equiv=\"Content-Type\" content=\"text/html; charset=utf-8\" />\\r\\n    <meta charset=\"utf-8\" />\\r\\n    <meta name=\"viewport\" content=\"width=device-width, initial-scale=1.0\">\\r\\n    <meta http-equiv=\"X-UA-Compatible\" content=\"IE=edge\">\\r\\n    <meta name=\"description\">\\r\\n    <meta name=\"keywords\">\\r\\n    <meta http-equiv=\"X-UA-Compatible\" content=\"IE=edge\">\\r\\n    <meta name=\"sputnik-verification\" content=\"lH6Z9PWIRq3180Y6\" />\\r\\n    <title>\\xd0\\xa1\\xd0\\xbf\\xd0\\xb8\\xd1\\x81\\xd0\\xbe\\xd0\\xba \\xd1\\x81\\xd0\\xbe\\xd0\\xbe\\xd0\\xb1\\xd1\\x89\\xd0\\xb5\\xd0\\xbd\\xd0\\xb8\\xd0\\xb9 - \\xd0\\x92\\xd0\\xb8\\xd1\\x80\\xd1\\x82\\xd1\\x83\\xd0\\xb0\\xd0\\xbb\\xd1\\x8c\\xd0\\xbd\\xd0\\xb0\\xd1\\x8f \\xd0\\xbf\\xd1\\x80\\xd0\\xb8\\xd0\\xb5\\xd0\\xbc\\xd0\\xbd\\xd0\\xb0\\xd1\\x8f - \\xd0\\xa0\\xd0\\xbe\\xd1\\x81\\xd0\\xbf\\xd0\\xbe\\xd1\\x82\\xd1\\x80\\xd0\\xb5\\xd0\\xb1\\xd0\\xbd\\xd0\\xb0\\xd0\\xb4\\xd0\\xb7\\xd0\\xbe\\xd1\\x80</title>\\r\\n    <link href=\"/fonts/firasans/firasans.css\" rel=\"stylesheet\" />\\r\\n    <!--[if lt IE 9]>\\r\\n    <script src=\"http://ie7-js.googlecode.com/svn/version/2.1(beta4)/IE9.js\"></script>\\r\\n    <![endif]-->\\r\\n\\r\\n    <link href=\"/Skin/rpn2/font/font.css\" rel=\"stylesheet\"/>\\r\\n\\r\\n    <link href=\"/Content/font-awesome.min.css\" rel=\"stylesheet\"/>\\r\\n\\r\\n    <link href=\"/Content/css?v=NQGD633p8LVb3M5_IWEqJHuZWbhsiDqS1PMl-WIDzL01\" rel=\"stylesheet\"/>\\r\\n\\r\\n    <script src=\"/bundles/modernizr?v=inCVuEFe6J4Q07A0AcRsbJic_UE5MwpRMNGcOtk94TE1\"></script>\\r\\n\\r\\n    <link href=\"/Skin/rpn2/css/Main.css?v2\" rel=\"stylesheet\"/>\\r\\n\\r\\n<script src=\"/bundles/jquery?v=gkWyJthHPtwkFjvHuNinBjchIfwLwc_KbE-H26J2kAI1\"></script>\\r\\n    <script src=\"/Scripts/portal.js\"></script>\\r\\n\\r\\n    <script src=\"/Skin/rpn2/js/design.js\"></script>\\r\\n\\r\\n    \\r\\n    \\r\\n\\r\\n    \\r\\n</head>\\r\\n<body >\\r\\n    <div id=\"mainmenu_container_short\">\\r\\n        <nav class=\"navbar navbar-default\">\\r\\n            <div class=\"navbar-header\">\\r\\n                <button type=\"button\" class=\"navbar-toggle collapsed\" data-toggle=\"collapse\" data-target=\"#mainmenu_container_short_menu\" aria-expanded=\"false\">\\r\\n                    <span class=\"sr-only\">\\xd0\\x9f\\xd0\\xbe\\xd0\\xba\\xd0\\xb0\\xd0\\xb7\\xd0\\xb0\\xd1\\x82\\xd1\\x8c</span>\\r\\n                    <span class=\"icon-bar\"></span>\\r\\n                    <span class=\"icon-bar\"></span>\\r\\n                    <span class=\"icon-bar\"></span>\\r\\n                </button>\\r\\n                <a class=\"navbar-brand\" href=\"/\">\\r\\n                    \\xd0\\xa0\\xd0\\xbe\\xd1\\x81\\xd0\\xbf\\xd0\\xbe\\xd1\\x82\\xd1\\x80\\xd0\\xb5\\xd0\\xb1\\xd0\\xbd\\xd0\\xb0\\xd0\\xb4\\xd0\\xb7\\xd0\\xbe\\xd1\\x80<br/>\\r\\n                    <span class=\"description\">\\xd0\\x93\\xd0\\xbe\\xd1\\x81\\xd1\\x83\\xd0\\xb4\\xd0\\xb0\\xd1\\x80\\xd1\\x81\\xd1\\x82\\xd0\\xb2\\xd0\\xb5\\xd0\\xbd\\xd0\\xbd\\xd1\\x8b\\xd0\\xb9 \\xd0\\xb8\\xd0\\xbd\\xd1\\x84\\xd0\\xbe\\xd1\\x80\\xd0\\xbc\\xd0\\xb0\\xd1\\x86\\xd0\\xb8\\xd0\\xbe\\xd0\\xbd\\xd0\\xbd\\xd1\\x8b\\xd0\\xb9 \\xd1\\x80\\xd0\\xb5\\xd1\\x81\\xd1\\x83\\xd1\\x80\\xd1\\x81 \\xd0\\xb2 \\xd1\\x81\\xd1\\x84\\xd0\\xb5\\xd1\\x80\\xd0\\xb5 \\xd0\\xb7\\xd0\\xb0\\xd1\\x89\\xd0\\xb8\\xd1\\x82\\xd1\\x8b \\xd0\\xbf\\xd1\\x80\\xd0\\xb0\\xd0\\xb2 \\xd0\\xbf\\xd0\\xbe\\xd1\\x82\\xd1\\x80\\xd0\\xb5\\xd0\\xb1\\xd0\\xb8\\xd1\\x82\\xd0\\xb5\\xd0\\xbb\\xd0\\xb5\\xd0\\xb9</span>\\r\\n                    <span class=\"description600\"><abbr title=\"\\xd0\\x93\\xd0\\xbe\\xd1\\x81\\xd1\\x83\\xd0\\xb4\\xd0\\xb0\\xd1\\x80\\xd1\\x81\\xd1\\x82\\xd0\\xb2\\xd0\\xb5\\xd0\\xbd\\xd0\\xbd\\xd1\\x8b\\xd0\\xb9 \\xd0\\xb8\\xd0\\xbd\\xd1\\x84\\xd0\\xbe\\xd1\\x80\\xd0\\xbc\\xd0\\xb0\\xd1\\x86\\xd0\\xb8\\xd0\\xbe\\xd0\\xbd\\xd0\\xbd\\xd1\\x8b\\xd0\\xb9 \\xd1\\x80\\xd0\\xb5\\xd1\\x81\\xd1\\x83\\xd1\\x80\\xd1\\x81 \\xd0\\xb2 \\xd1\\x81\\xd1\\x84\\xd0\\xb5\\xd1\\x80\\xd0\\xb5 \\xd0\\xb7\\xd0\\xb0\\xd1\\x89\\xd0\\xb8\\xd1\\x82\\xd1\\x8b \\xd0\\xbf\\xd1\\x80\\xd0\\xb0\\xd0\\xb2 \\xd0\\xbf\\xd0\\xbe\\xd1\\x82\\xd1\\x80\\xd0\\xb5\\xd0\\xb1\\xd0\\xb8\\xd1\\x82\\xd0\\xb5\\xd0\\xbb\\xd0\\xb5\\xd0\\xb9\">\\xd0\\x93\\xd0\\x98\\xd0\\xa1 \\xd0\\x97\\xd0\\x9f\\xd0\\x9f</abbr></span>\\r\\n\\r\\n                </a>\\r\\n            </div>\\r\\n            <div class=\"collapse navbar-collapse\" id=\"mainmenu_container_short_menu\">\\r\\n                <ul class=\"nav navbar-nav\"></ul>\\r\\n            </div>\\r\\n        </nav>\\r\\n    </div>\\r\\n    <div id=\"mainmenu_container\">\\r\\n        <table class=\"mainmenu_block\">\\r\\n            <tr>\\r\\n                <td style=\"padding-right:0\">\\r\\n                    <a href=\"/\" id=\"logo-link2root\">\\r\\n                        <div><img src=\"/Skin/rpn2/assets/rpn-logo.png\" class=\"logo\" /></div>\\r\\n                    </a>\\r\\n                </td>\\r\\n            </tr>\\r\\n            <tr>\\r\\n                <td height=\"100%\">\\r\\n                        <div class=\\'position position_mainmenu \\'>\\r\\n    <div class=\\'module moduletype_menu\\'>\\r\\n                    <div class=\\'module_body\\'>\\r\\n                    \\r\\n\\r\\n\\r\\n<div>\\r\\n        <ul>\\r\\n                <li class=\"mmi-consumer   level1 \">\\r\\n                        <a href=\"/handbook/actual\"><span class=\"text\">\\xd0\\xa1\\xd0\\xbf\\xd1\\x80\\xd0\\xb0\\xd0\\xb2\\xd0\\xbe\\xd1\\x87\\xd0\\xbd\\xd0\\xb8\\xd0\\xba \\xd0\\xbf\\xd0\\xbe\\xd1\\x82\\xd1\\x80\\xd0\\xb5\\xd0\\xb1\\xd0\\xb8\\xd1\\x82\\xd0\\xb5\\xd0\\xbb\\xd1\\x8f</span></a>\\r\\n                </li>\\r\\n                <li class=\"   level1 \">\\r\\n                        <a href=\"/advices\"><span class=\"text\">\\xd0\\xa1\\xd0\\xbe\\xd0\\xb2\\xd0\\xb5\\xd1\\x82\\xd1\\x8b \\xd0\\xbf\\xd0\\xbe \\xd0\\xb7\\xd0\\xb4\\xd0\\xbe\\xd1\\x80\\xd0\\xbe\\xd0\\xb2\\xd0\\xbe\\xd0\\xbc\\xd1\\x83 \\xd0\\xbf\\xd0\\xb8\\xd1\\x82\\xd0\\xb0\\xd0\\xbd\\xd0\\xb8\\xd1\\x8e</span></a>\\r\\n                </li>\\r\\n                <li class=\"mmi-npa   level1 \">\\r\\n                        <a href=\"/npa/global\"><span class=\"text\">\\xd0\\x9d\\xd0\\xbe\\xd1\\x80\\xd0\\xbc\\xd0\\xb0\\xd1\\x82\\xd0\\xb8\\xd0\\xb2\\xd0\\xbd\\xd1\\x8b\\xd0\\xb5 \\xd0\\xbf\\xd1\\x80\\xd0\\xb0\\xd0\\xb2\\xd0\\xbe\\xd0\\xb2\\xd1\\x8b\\xd0\\xb5 \\xd0\\xb0\\xd0\\xba\\xd1\\x82\\xd1\\x8b</span></a>\\r\\n                </li>\\r\\n                <li class=\"mmi-info   level1 \">\\r\\n                        <a href=\"/info/doclad\"><span class=\"text\">\\xd0\\x98\\xd0\\xbd\\xd1\\x84\\xd0\\xbe\\xd1\\x80\\xd0\\xbc\\xd0\\xb0\\xd1\\x86\\xd0\\xb8\\xd0\\xbe\\xd0\\xbd\\xd0\\xbd\\xd0\\xbe-\\xd0\\xb0\\xd0\\xbd\\xd0\\xb0\\xd0\\xbb\\xd0\\xb8\\xd1\\x82\\xd0\\xb8\\xd1\\x87\\xd0\\xb5\\xd1\\x81\\xd0\\xba\\xd0\\xb8\\xd0\\xb5 \\xd0\\xbc\\xd0\\xb0\\xd1\\x82\\xd0\\xb5\\xd1\\x80\\xd0\\xb8\\xd0\\xb0\\xd0\\xbb\\xd1\\x8b</span></a>\\r\\n                </li>\\r\\n                <li class=\"mmi-organizations   level1 \">\\r\\n                        <a href=\"/organizations/gos\"><span class=\"text\">\\xd0\\x9e\\xd1\\x80\\xd0\\xb3\\xd0\\xb0\\xd0\\xbd\\xd1\\x8b \\xd0\\xb8 \\xd0\\xbe\\xd1\\x80\\xd0\\xb3\\xd0\\xb0\\xd0\\xbd\\xd0\\xb8\\xd0\\xb7\\xd0\\xb0\\xd1\\x86\\xd0\\xb8\\xd0\\xb8 \\xd0\\xb2 \\xd1\\x81\\xd1\\x84\\xd0\\xb5\\xd1\\x80\\xd0\\xb5 \\xd0\\xb7\\xd0\\xb0\\xd1\\x89\\xd0\\xb8\\xd1\\x82\\xd1\\x8b \\xd0\\xbf\\xd1\\x80\\xd0\\xb0\\xd0\\xb2 \\xd0\\xbf\\xd0\\xbe\\xd1\\x82\\xd1\\x80\\xd0\\xb5\\xd0\\xb1\\xd0\\xb8\\xd1\\x82\\xd0\\xb5\\xd0\\xbb\\xd0\\xb5\\xd0\\xb9</span></a>\\r\\n                </li>\\r\\n                <li class=\"mmi-verifications   level1 \">\\r\\n                        <a href=\"/verifications\"><span class=\"text\">\\xd0\\xa0\\xd0\\xb5\\xd0\\xb7\\xd1\\x83\\xd0\\xbb\\xd1\\x8c\\xd1\\x82\\xd0\\xb0\\xd1\\x82\\xd1\\x8b \\xd0\\xbf\\xd1\\x80\\xd0\\xbe\\xd0\\xb2\\xd0\\xb5\\xd1\\x80\\xd0\\xbe\\xd0\\xba</span></a>\\r\\n                </li>\\r\\n                <li class=\"mmi-badproducts   level1 \">\\r\\n                        <a href=\"/badproducts/violations\"><span class=\"text\">\\xd0\\x9f\\xd1\\x80\\xd0\\xbe\\xd0\\xb4\\xd1\\x83\\xd0\\xba\\xd1\\x86\\xd0\\xb8\\xd1\\x8f, \\xd0\\xbd\\xd0\\xb5 \\xd1\\x81\\xd0\\xbe\\xd0\\xbe\\xd1\\x82\\xd0\\xb2\\xd0\\xb5\\xd1\\x82\\xd1\\x81\\xd1\\x82\\xd0\\xb2\\xd1\\x83\\xd1\\x8e\\xd1\\x89\\xd0\\xb0\\xd1\\x8f \\xd0\\xbe\\xd0\\xb1\\xd1\\x8f\\xd0\\xb7\\xd0\\xb0\\xd1\\x82\\xd0\\xb5\\xd0\\xbb\\xd1\\x8c\\xd0\\xbd\\xd1\\x8b\\xd0\\xbc \\xd1\\x82\\xd1\\x80\\xd0\\xb5\\xd0\\xb1\\xd0\\xbe\\xd0\\xb2\\xd0\\xb0\\xd0\\xbd\\xd0\\xb8\\xd1\\x8f\\xd0\\xbc</span></a>\\r\\n                </li>\\r\\n                <li class=\"mmi-adjudications   level1 \">\\r\\n                        <a href=\"/adjudications/federal\"><span class=\"text\">\\xd0\\xa1\\xd1\\x83\\xd0\\xb4\\xd0\\xb5\\xd0\\xb1\\xd0\\xbd\\xd0\\xb0\\xd1\\x8f \\xd0\\xbf\\xd1\\x80\\xd0\\xb0\\xd0\\xba\\xd1\\x82\\xd0\\xb8\\xd0\\xba\\xd0\\xb0</span></a>\\r\\n                </li>\\r\\n                <li class=\"mmi-news   level1 \">\\r\\n                        <a href=\"/news/federal\"><span class=\"text\">\\xd0\\x9d\\xd0\\xbe\\xd0\\xb2\\xd0\\xbe\\xd1\\x81\\xd1\\x82\\xd0\\xb8</span></a>\\r\\n                </li>\\r\\n                <li class=\"   level1 \">\\r\\n                        <a href=\"/staff\"><span class=\"text\">\\xd0\\x94\\xd0\\xbb\\xd1\\x8f \\xd1\\x81\\xd0\\xbe\\xd1\\x82\\xd1\\x80\\xd1\\x83\\xd0\\xb4\\xd0\\xbd\\xd0\\xb8\\xd0\\xba\\xd0\\xbe\\xd0\\xb2</span></a>\\r\\n                </li>\\r\\n    </ul>\\r\\n\\r\\n</div>\\r\\n            </div>\\r\\n    </div>\\r\\n    </div>\\r\\n\\r\\n                </td>\\r\\n            </tr>\\r\\n            <tr>\\r\\n                <td>\\r\\n                    <div id=\"search-form\" class=\"search-form\">\\r\\n                        <form method=\"get\" action=\"/Search/Index\">\\r\\n                            <div class=\"form-group input-group\">\\r\\n                                <input id=\"autocompleteSearch\" type=\"text\" name=\"SearchQuery\" class=\"form-control search-button\" placeholder=\"\\xd0\\x9f\\xd0\\xbe\\xd0\\xb8\\xd1\\x81\\xd0\\xba\" autocomplete=\"off\">\\r\\n                                <span class=\"input-group-btn\">\\r\\n                                    <button class=\"btn search-button-icon\" type=\"submit\">\\r\\n                                        <i class=\"fa fa-search\"></i>\\r\\n                                    </button>\\r\\n                                </span>\\r\\n                            </div>\\r\\n                        </form>\\r\\n                    </div>\\r\\n                </td>\\r\\n            </tr>\\r\\n            <tr>\\r\\n                <td>\\r\\n                    <div class=\"mainmenu_optmenu\">\\r\\n                        <ul>\\r\\n                            <li><a href=\"/Show/Special\">\\xd0\\x92\\xd0\\xb5\\xd1\\x80\\xd1\\x81\\xd0\\xb8\\xd1\\x8f \\xd0\\xb4\\xd0\\xbb\\xd1\\x8f \\xd1\\x81\\xd0\\xbb\\xd0\\xb0\\xd0\\xb1\\xd0\\xbe\\xd0\\xb2\\xd0\\xb8\\xd0\\xb4\\xd1\\x8f\\xd1\\x89\\xd0\\xb8\\xd1\\x85</a></li>\\r\\n                            <li><a href=\"/Forum/Appeals\">\\xd0\\x92\\xd0\\xb8\\xd1\\x80\\xd1\\x82\\xd1\\x83\\xd0\\xb0\\xd0\\xbb\\xd1\\x8c\\xd0\\xbd\\xd0\\xb0\\xd1\\x8f \\xd0\\xbf\\xd1\\x80\\xd0\\xb8\\xd0\\xb5\\xd0\\xbc\\xd0\\xbd\\xd0\\xb0\\xd1\\x8f</a></li>\\r\\n                        </ul>\\r\\n                    </div>\\r\\n                </td>\\r\\n            </tr>\\r\\n            <tr>\\r\\n                <td>\\r\\n                    <div class=\"mainmenu_copyright\">\\r\\n                        2019<span class=\"copy\">&copy;</span>\\xd0\\xa0\\xd0\\xbe\\xd1\\x81\\xd0\\xbf\\xd0\\xbe\\xd1\\x82\\xd1\\x80\\xd0\\xb5\\xd0\\xb1\\xd0\\xbd\\xd0\\xb0\\xd0\\xb4\\xd0\\xb7\\xd0\\xbe\\xd1\\x80\\r\\n                    </div>\\r\\n                </td>\\r\\n            </tr>\\r\\n        </table>\\r\\n    </div>\\r\\n    <div id=\"main_container\">\\r\\n        <div>\\r\\n\\r\\n            \\r\\n\\r\\n\\r\\n            \\r\\n\\r\\n            <div id=\"mainbody\">\\r\\n\\r\\n<link href=\\'/Skin/rpn2/css/forum/forum-styles.css\\' rel=\\'stylesheet\\' type=\\'text/css\\'>\\r\\n<link href=\"/Skin/rpn2/css/formcomponents/components.css\" rel=\"stylesheet\" type=\\'text/css\\' />\\r\\n<link href=\\'/Skin/rpn2/css/formcomponents/icons/icomoon/styles.css\\' rel=\\'stylesheet\\' type=\\'text/css\\'>\\r\\n<script src=\"/Scripts/styling/blockui.min.js\" type=\"text/javascript\"></script>\\r\\n\\r\\n\\r\\n<div class=\"row\">\\r\\n    <div class=\"col-md-12\">\\r\\n        <h2>\\xd0\\x92\\xd0\\xb8\\xd1\\x80\\xd1\\x82\\xd1\\x83\\xd0\\xb0\\xd0\\xbb\\xd1\\x8c\\xd0\\xbd\\xd0\\xb0\\xd1\\x8f \\xd0\\xbf\\xd1\\x80\\xd0\\xb8\\xd0\\xb5\\xd0\\xbc\\xd0\\xbd\\xd0\\xb0\\xd1\\x8f</h2>\\r\\n    </div>\\r\\n</div>\\r\\n\\r\\n\\r\\n\\r\\n<div class=\"row\">\\r\\n    <div class=\"vm-20 col-md-3 col-md-push-9\">\\r\\n        <div class=\"row\">\\r\\n            <div class=\"col-md-12\">\\r\\n                <a class=\"btn btn-lg btn-success col-md-12 btnAddAppeal\" href=\"/Forum/Appeals/AddAppeal\">\\xd0\\x9e\\xd1\\x81\\xd1\\x82\\xd0\\xb0\\xd0\\xb2\\xd0\\xb8\\xd1\\x82\\xd1\\x8c \\xd1\\x81\\xd0\\xbe\\xd0\\xbe\\xd0\\xb1\\xd1\\x89\\xd0\\xb5\\xd0\\xbd\\xd0\\xb8\\xd0\\xb5</a>\\r\\n            </div>\\r\\n        </div>\\r\\n\\r\\n        <div class=\"appeals-cat-list-container vm-20\">\\r\\n            <div class=\"row\">\\r\\n                <div class=\"col-md-12\">\\r\\n                    <div class=\"appeal-cat-element-title\">\\r\\n                        <p class=\"appeal-cat-list-title\">\\xd0\\x9a\\xd0\\xb0\\xd1\\x82\\xd0\\xb5\\xd0\\xb3\\xd0\\xbe\\xd1\\x80\\xd0\\xb8\\xd0\\xb8</p>\\r\\n                    </div>\\r\\n                </div>\\r\\n                    <div class=\"col-md-12\">\\r\\n                        <div class=\"appeal-cat-element\" data-cat-id=\"1\">\\r\\n                            <a href=\"#\">\\r\\n                                <span class=\"custom-underline\">\\r\\n                                    \\xd0\\xa0\\xd0\\xbe\\xd0\\xb7\\xd0\\xbd\\xd0\\xb8\\xd1\\x87\\xd0\\xbd\\xd0\\xb0\\xd1\\x8f \\xd1\\x82\\xd0\\xbe\\xd1\\x80\\xd0\\xb3\\xd0\\xbe\\xd0\\xb2\\xd0\\xbb\\xd1\\x8f\\r\\n                                </span>\\r\\n                            </a>\\r\\n                        </div>\\r\\n                    </div>\\r\\n                    <div class=\"col-md-12\">\\r\\n                        <div class=\"appeal-cat-element\" data-cat-id=\"2\">\\r\\n                            <a href=\"#\">\\r\\n                                <span class=\"custom-underline\">\\r\\n                                    \\xd0\\x9e\\xd0\\xb1\\xd1\\x89\\xd0\\xb5\\xd1\\x81\\xd1\\x82\\xd0\\xb2\\xd0\\xb5\\xd0\\xbd\\xd0\\xbd\\xd0\\xbe\\xd0\\xb5 \\xd0\\xbf\\xd0\\xb8\\xd1\\x82\\xd0\\xb0\\xd0\\xbd\\xd0\\xb8\\xd0\\xb5\\r\\n                                </span>\\r\\n                            </a>\\r\\n                        </div>\\r\\n                    </div>\\r\\n                    <div class=\"col-md-12\">\\r\\n                        <div class=\"appeal-cat-element\" data-cat-id=\"3\">\\r\\n                            <a href=\"#\">\\r\\n                                <span class=\"custom-underline\">\\r\\n                                    \\xd0\\x91\\xd1\\x8b\\xd1\\x82\\xd0\\xbe\\xd0\\xb2\\xd0\\xbe\\xd0\\xb5 \\xd0\\xbe\\xd0\\xb1\\xd1\\x81\\xd0\\xbb\\xd1\\x83\\xd0\\xb6\\xd0\\xb8\\xd0\\xb2\\xd0\\xb0\\xd0\\xbd\\xd0\\xb8\\xd0\\xb5\\r\\n                                </span>\\r\\n                            </a>\\r\\n                        </div>\\r\\n                    </div>\\r\\n                    <div class=\"col-md-12\">\\r\\n                        <div class=\"appeal-cat-element\" data-cat-id=\"4\">\\r\\n                            <a href=\"#\">\\r\\n                                <span class=\"custom-underline\">\\r\\n                                    \\xd0\\x96\\xd0\\xb8\\xd0\\xbb\\xd0\\xb8\\xd1\\x89\\xd0\\xbd\\xd0\\xbe-\\xd0\\xba\\xd0\\xbe\\xd0\\xbc\\xd0\\xbc\\xd1\\x83\\xd0\\xbd\\xd0\\xb0\\xd0\\xbb\\xd1\\x8c\\xd0\\xbd\\xd1\\x8b\\xd0\\xb5 \\xd1\\x83\\xd1\\x81\\xd0\\xbb\\xd1\\x83\\xd0\\xb3\\xd0\\xb8\\r\\n                                </span>\\r\\n                            </a>\\r\\n                        </div>\\r\\n                    </div>\\r\\n                    <div class=\"col-md-12\">\\r\\n                        <div class=\"appeal-cat-element\" data-cat-id=\"5\">\\r\\n                            <a href=\"#\">\\r\\n                                <span class=\"custom-underline\">\\r\\n                                    \\xd0\\x9c\\xd0\\xb5\\xd0\\xb4\\xd0\\xb8\\xd1\\x86\\xd0\\xb8\\xd0\\xbd\\xd1\\x81\\xd0\\xba\\xd0\\xb8\\xd0\\xb5 \\xd1\\x83\\xd1\\x81\\xd0\\xbb\\xd1\\x83\\xd0\\xb3\\xd0\\xb8\\r\\n                                </span>\\r\\n                            </a>\\r\\n                        </div>\\r\\n                    </div>\\r\\n                    <div class=\"col-md-12\">\\r\\n                        <div class=\"appeal-cat-element\" data-cat-id=\"6\">\\r\\n                            <a href=\"#\">\\r\\n                                <span class=\"custom-underline\">\\r\\n                                    \\xd0\\xa2\\xd1\\x80\\xd0\\xb0\\xd0\\xbd\\xd1\\x81\\xd0\\xbf\\xd0\\xbe\\xd1\\x80\\xd1\\x82\\xd0\\xbd\\xd1\\x8b\\xd0\\xb5 \\xd1\\x83\\xd1\\x81\\xd0\\xbb\\xd1\\x83\\xd0\\xb3\\xd0\\xb8\\r\\n                                </span>\\r\\n                            </a>\\r\\n                        </div>\\r\\n                    </div>\\r\\n                    <div class=\"col-md-12\">\\r\\n                        <div class=\"appeal-cat-element\" data-cat-id=\"7\">\\r\\n                            <a href=\"#\">\\r\\n                                <span class=\"custom-underline\">\\r\\n                                    \\xd0\\x9e\\xd0\\xb1\\xd1\\x80\\xd0\\xb0\\xd0\\xb7\\xd0\\xbe\\xd0\\xb2\\xd0\\xb0\\xd1\\x82\\xd0\\xb5\\xd0\\xbb\\xd1\\x8c\\xd0\\xbd\\xd1\\x8b\\xd0\\xb5 \\xd1\\x83\\xd1\\x81\\xd0\\xbb\\xd1\\x83\\xd0\\xb3\\xd0\\xb8\\r\\n                                </span>\\r\\n                            </a>\\r\\n                        </div>\\r\\n                    </div>\\r\\n                    <div class=\"col-md-12\">\\r\\n                        <div class=\"appeal-cat-element\" data-cat-id=\"8\">\\r\\n                            <a href=\"#\">\\r\\n                                <span class=\"custom-underline\">\\r\\n                                    \\xd0\\xa4\\xd0\\xb8\\xd0\\xbd\\xd0\\xb0\\xd0\\xbd\\xd1\\x81\\xd0\\xbe\\xd0\\xb2\\xd1\\x8b\\xd0\\xb5 \\xd1\\x83\\xd1\\x81\\xd0\\xbb\\xd1\\x83\\xd0\\xb3\\xd0\\xb8\\r\\n                                </span>\\r\\n                            </a>\\r\\n                        </div>\\r\\n                    </div>\\r\\n                    <div class=\"col-md-12\">\\r\\n                        <div class=\"appeal-cat-element\" data-cat-id=\"9\">\\r\\n                            <a href=\"#\">\\r\\n                                <span class=\"custom-underline\">\\r\\n                                    \\xd0\\xa3\\xd1\\x81\\xd0\\xbb\\xd1\\x83\\xd0\\xb3\\xd0\\xb8 \\xd1\\x81\\xd0\\xb2\\xd1\\x8f\\xd0\\xb7\\xd0\\xb8\\r\\n                                </span>\\r\\n                            </a>\\r\\n                        </div>\\r\\n                    </div>\\r\\n                    <div class=\"col-md-12\">\\r\\n                        <div class=\"appeal-cat-element\" data-cat-id=\"10\">\\r\\n                            <a href=\"#\">\\r\\n                                <span class=\"custom-underline\">\\r\\n                                    \\xd0\\xa2\\xd1\\x83\\xd1\\x80\\xd0\\xb8\\xd1\\x81\\xd1\\x82\\xd1\\x81\\xd0\\xba\\xd0\\xb8\\xd0\\xb5 \\xd1\\x83\\xd1\\x81\\xd0\\xbb\\xd1\\x83\\xd0\\xb3\\xd0\\xb8\\r\\n                                </span>\\r\\n                            </a>\\r\\n                        </div>\\r\\n                    </div>\\r\\n                    <div class=\"col-md-12\">\\r\\n                        <div class=\"appeal-cat-element\" data-cat-id=\"11\">\\r\\n                            <a href=\"#\">\\r\\n                                <span class=\"custom-underline\">\\r\\n                                    \\xd0\\x9f\\xd1\\x80\\xd0\\xbe\\xd1\\x87\\xd0\\xb8\\xd0\\xb5 \\xd0\\xb2\\xd0\\xb8\\xd0\\xb4\\xd1\\x8b \\xd0\\xb4\\xd0\\xb5\\xd1\\x8f\\xd1\\x82\\xd0\\xb5\\xd0\\xbb\\xd1\\x8c\\xd0\\xbd\\xd0\\xbe\\xd1\\x81\\xd1\\x82\\xd0\\xb8\\r\\n                                </span>\\r\\n                            </a>\\r\\n                        </div>\\r\\n                    </div>\\r\\n            </div>\\r\\n        </div>\\r\\n    </div>\\r\\n    <div class=\"vm-20 col-md-9 col-md-pull-3\" id=\"appeals-list\">\\r\\n        <div id=\"list-overlay\"></div>\\r\\n<div class=\"appeals-list-container\">\\r\\n    <div class=\"row\">\\r\\n        <div class=\"col-lg-12\">\\r\\n            <form onsubmit=\"SubmitForm(this)\">\\r\\n                <div class=\"input-group\">\\r\\n                    <input autocomplete=\"off\" class=\"form-control\" id=\"SearchText\" name=\"SearchText\" placeholder=\"\\xd0\\x92\\xd0\\xb2\\xd0\\xb5\\xd0\\xb4\\xd0\\xb8\\xd1\\x82\\xd0\\xb5 \\xd1\\x84\\xd1\\x80\\xd0\\xb0\\xd0\\xb7\\xd1\\x83 \\xd0\\xb4\\xd0\\xbb\\xd1\\x8f \\xd0\\xbf\\xd0\\xbe\\xd0\\xb8\\xd1\\x81\\xd0\\xba\\xd0\\xb0...\" type=\"text\" value=\"\" />\\r\\n                    <span class=\"input-group-btn appeal-search-custom-btn\">\\r\\n                        <button class=\"btn btn-default\" type=\"button\">\\r\\n                            \\xd0\\x9d\\xd0\\xb0\\xd0\\xb9\\xd1\\x82\\xd0\\xb8\\r\\n                        </button>\\r\\n                    </span>\\r\\n                </div>\\r\\n            </form>\\r\\n        </div>\\r\\n    </div>\\r\\n\\r\\n    <div class=\"row\">\\r\\n                <div class=\"col-md-12\">\\r\\n<div class=\"appeal-element\">\\r\\n    <div class=\"row\">\\r\\n        <div class=\"col-md-12\">\\r\\n            <p class=\"appeal-cat-title\">\\xd0\\xa0\\xd0\\xbe\\xd0\\xb7\\xd0\\xbd\\xd0\\xb8\\xd1\\x87\\xd0\\xbd\\xd0\\xb0\\xd1\\x8f \\xd1\\x82\\xd0\\xbe\\xd1\\x80\\xd0\\xb3\\xd0\\xbe\\xd0\\xb2\\xd0\\xbb\\xd1\\x8f</p>\\r\\n        </div>\\r\\n    </div>\\r\\n    <div class=\"row\">\\r\\n        <div class=\"col-md-12\">\\r\\n            <a href=\"/Forum/Appeals/Details/12781\" class=\"appeal-title-link\">\\r\\n                <span class=\"custom-underline\">\\r\\n                    \\xd0\\x9f\\xd1\\x80\\xd0\\xbe\\xd0\\xb4\\xd0\\xb0\\xd0\\xb6\\xd0\\xb0 \\xd0\\xb1\\xd1\\x80\\xd0\\xb0\\xd0\\xba\\xd0\\xb0 \\xd0\\xb2 \\xd0\\xb0\\xd0\\xb2\\xd1\\x82\\xd0\\xbe \\xd0\\xbc\\xd0\\xb0\\xd0\\xb3\\xd0\\xb0\\xd0\\xb7\\xd0\\xb8\\xd0\\xbd\\xd0\\xb5.\\r\\n                </span>\\r\\n            </a>\\r\\n        </div>\\r\\n    </div>\\r\\n    <div class=\"row\">\\r\\n        <div class=\"col-md-12\">\\r\\n            <p class=\"appeal-element-bottom\"><span> \\xd0\\x9e\\xd0\\xbf\\xd1\\x83\\xd0\\xb1\\xd0\\xbb\\xd0\\xb8\\xd0\\xba\\xd0\\xbe\\xd0\\xb2\\xd0\\xb0\\xd0\\xbd\\xd0\\xbe: </span> 22.10.2019</p>\\r\\n<p class=\"appeal-element-bottom\"><span> \\xd0\\x90\\xd0\\xb2\\xd1\\x82\\xd0\\xbe\\xd1\\x80: </span> \\xd0\\x90\\xd0\\xbd\\xd0\\xbd\\xd0\\xb0</p>            <p class=\"appeal-element-bottom\"><span> \\xd0\\xa0\\xd0\\xb5\\xd0\\xb3\\xd0\\xb8\\xd0\\xbe\\xd0\\xbd: </span> \\xd0\\x91\\xd0\\xb5\\xd0\\xbb\\xd0\\xb3\\xd0\\xbe\\xd1\\x80\\xd0\\xbe\\xd0\\xb4\\xd1\\x81\\xd0\\xba\\xd0\\xb0\\xd1\\x8f \\xd0\\xbe\\xd0\\xb1\\xd0\\xbb\\xd0\\xb0\\xd1\\x81\\xd1\\x82\\xd1\\x8c</p>        </div>\\r\\n    </div>\\r\\n</div>\\r\\n                </div>\\r\\n                <div class=\"col-md-12\">\\r\\n<div class=\"appeal-element\">\\r\\n    <div class=\"row\">\\r\\n        <div class=\"col-md-12\">\\r\\n            <p class=\"appeal-cat-title\">\\xd0\\xa0\\xd0\\xbe\\xd0\\xb7\\xd0\\xbd\\xd0\\xb8\\xd1\\x87\\xd0\\xbd\\xd0\\xb0\\xd1\\x8f \\xd1\\x82\\xd0\\xbe\\xd1\\x80\\xd0\\xb3\\xd0\\xbe\\xd0\\xb2\\xd0\\xbb\\xd1\\x8f</p>\\r\\n        </div>\\r\\n    </div>\\r\\n    <div class=\"row\">\\r\\n        <div class=\"col-md-12\">\\r\\n            <a href=\"/Forum/Appeals/Details/12780\" class=\"appeal-title-link\">\\r\\n                <span class=\"custom-underline\">\\r\\n                    \\xd0\\x9c\\xd0\\xbe\\xd1\\x88\\xd0\\xb5\\xd0\\xbd\\xd0\\xbd\\xd0\\xb8\\xd0\\xba\\xd0\\xb8\\r\\n                </span>\\r\\n            </a>\\r\\n        </div>\\r\\n    </div>\\r\\n    <div class=\"row\">\\r\\n        <div class=\"col-md-12\">\\r\\n            <p class=\"appeal-element-bottom\"><span> \\xd0\\x9e\\xd0\\xbf\\xd1\\x83\\xd0\\xb1\\xd0\\xbb\\xd0\\xb8\\xd0\\xba\\xd0\\xbe\\xd0\\xb2\\xd0\\xb0\\xd0\\xbd\\xd0\\xbe: </span> 22.10.2019</p>\\r\\n<p class=\"appeal-element-bottom\"><span> \\xd0\\x90\\xd0\\xb2\\xd1\\x82\\xd0\\xbe\\xd1\\x80: </span> \\xd0\\xa2\\xd0\\xb0\\xd1\\x82\\xd1\\x8c\\xd1\\x8f\\xd0\\xbd\\xd0\\xb0 </p>            <p class=\"appeal-element-bottom\"><span> \\xd0\\xa0\\xd0\\xb5\\xd0\\xb3\\xd0\\xb8\\xd0\\xbe\\xd0\\xbd: </span> \\xd0\\x9b\\xd0\\xb5\\xd0\\xbd\\xd0\\xb8\\xd0\\xbd\\xd0\\xb3\\xd1\\x80\\xd0\\xb0\\xd0\\xb4\\xd1\\x81\\xd0\\xba\\xd0\\xb0\\xd1\\x8f \\xd0\\xbe\\xd0\\xb1\\xd0\\xbb\\xd0\\xb0\\xd1\\x81\\xd1\\x82\\xd1\\x8c</p>        </div>\\r\\n    </div>\\r\\n</div>\\r\\n                </div>\\r\\n                <div class=\"col-md-12\">\\r\\n<div class=\"appeal-element\">\\r\\n    <div class=\"row\">\\r\\n        <div class=\"col-md-12\">\\r\\n            <p class=\"appeal-cat-title\">\\xd0\\xa0\\xd0\\xbe\\xd0\\xb7\\xd0\\xbd\\xd0\\xb8\\xd1\\x87\\xd0\\xbd\\xd0\\xb0\\xd1\\x8f \\xd1\\x82\\xd0\\xbe\\xd1\\x80\\xd0\\xb3\\xd0\\xbe\\xd0\\xb2\\xd0\\xbb\\xd1\\x8f</p>\\r\\n        </div>\\r\\n    </div>\\r\\n    <div class=\"row\">\\r\\n        <div class=\"col-md-12\">\\r\\n            <a href=\"/Forum/Appeals/Details/12775\" class=\"appeal-title-link\">\\r\\n                <span class=\"custom-underline\">\\r\\n                    \\xd0\\x97\\xd0\\xb4\\xd1\\x80\\xd0\\xb0\\xd0\\xb2\\xd1\\x81\\xd1\\x82\\xd0\\xb2\\xd1\\x83\\xd0\\xb9\\xd1\\x82\\xd0\\xb5! \\xd0\\x92\\xd0\\xbe\\xd0\\xb7\\xd0\\xbc\\xd0\\xbe\\xd0\\xb6\\xd0\\xbd\\xd0\\xbe \\xd0\\xbb\\xd0\\xb8 \\xd0\\xbe\\xd0\\xb1\\xd0\\xbc\\xd0\\xb5\\xd0\\xbd\\xd1\\x8f\\xd1\\x82\\xd1\\x8c \\xd0\\xbd\\xd0\\xb0\\xd1\\x83\\xd1\\x88\\xd0\\xbd\\xd0\\xb8\\xd0\\xba\\xd0\\xb8, \\xd1\\x84\\xd0\\xbb\\xd0\\xb5\\xd1\\x88\\xd0\\xba\\xd1\\x83 \\xd0\\xb8 \\xd0\\xba\\xd0\\xbe\\xd0\\xbb\\xd0\\xbe\\xd0\\xbd\\xd0\\xba\\xd1\\x83, \\xd0\\xb5\\xd1\\x81\\xd0\\xbb\\xd0\\xb8 \\xd0\\xbd\\xd0\\xb5 \\xd0\\xbf\\xd0\\xbe\\xd0\\xb4\\xd0\\xbe\\xd1\\x88\\xd0\\xbb\\xd0\\xb8?\\r\\n                </span>\\r\\n            </a>\\r\\n        </div>\\r\\n    </div>\\r\\n    <div class=\"row\">\\r\\n        <div class=\"col-md-12\">\\r\\n            <p class=\"appeal-element-bottom\"><span> \\xd0\\x9e\\xd0\\xbf\\xd1\\x83\\xd0\\xb1\\xd0\\xbb\\xd0\\xb8\\xd0\\xba\\xd0\\xbe\\xd0\\xb2\\xd0\\xb0\\xd0\\xbd\\xd0\\xbe: </span> 22.10.2019</p>\\r\\n<p class=\"appeal-element-bottom\"><span> \\xd0\\x90\\xd0\\xb2\\xd1\\x82\\xd0\\xbe\\xd1\\x80: </span> \\xd0\\xa1\\xd0\\xb2\\xd0\\xb5\\xd1\\x82\\xd0\\xbb\\xd0\\xb0\\xd0\\xbd\\xd0\\xb0</p>            <p class=\"appeal-element-bottom\"><span> \\xd0\\xa0\\xd0\\xb5\\xd0\\xb3\\xd0\\xb8\\xd0\\xbe\\xd0\\xbd: </span> \\xd0\\xa0\\xd0\\xb5\\xd1\\x81\\xd0\\xbf\\xd1\\x83\\xd0\\xb1\\xd0\\xbb\\xd0\\xb8\\xd0\\xba\\xd0\\xb0 \\xd0\\x91\\xd0\\xb0\\xd1\\x88\\xd0\\xba\\xd0\\xbe\\xd1\\x80\\xd1\\x82\\xd0\\xbe\\xd1\\x81\\xd1\\x82\\xd0\\xb0\\xd0\\xbd</p>        </div>\\r\\n    </div>\\r\\n</div>\\r\\n                </div>\\r\\n                <div class=\"col-md-12\">\\r\\n<div class=\"appeal-element\">\\r\\n    <div class=\"row\">\\r\\n        <div class=\"col-md-12\">\\r\\n            <p class=\"appeal-cat-title\">\\xd0\\xa0\\xd0\\xbe\\xd0\\xb7\\xd0\\xbd\\xd0\\xb8\\xd1\\x87\\xd0\\xbd\\xd0\\xb0\\xd1\\x8f \\xd1\\x82\\xd0\\xbe\\xd1\\x80\\xd0\\xb3\\xd0\\xbe\\xd0\\xb2\\xd0\\xbb\\xd1\\x8f</p>\\r\\n        </div>\\r\\n    </div>\\r\\n    <div class=\"row\">\\r\\n        <div class=\"col-md-12\">\\r\\n            <a href=\"/Forum/Appeals/Details/12774\" class=\"appeal-title-link\">\\r\\n                <span class=\"custom-underline\">\\r\\n                    \\xd0\\x9e\\xd0\\xb1\\xd0\\xbc\\xd0\\xb0\\xd0\\xbd \\xd0\\xbf\\xd1\\x80\\xd0\\xb8 \\xd0\\xbf\\xd1\\x80\\xd0\\xbe\\xd0\\xb4\\xd0\\xb0\\xd0\\xb6\\xd0\\xb5 \\xd0\\xbe\\xd0\\xb1\\xd1\\x83\\xd0\\xb2\\xd0\\xb8.\\r\\n                </span>\\r\\n            </a>\\r\\n        </div>\\r\\n    </div>\\r\\n    <div class=\"row\">\\r\\n        <div class=\"col-md-12\">\\r\\n            <p class=\"appeal-element-bottom\"><span> \\xd0\\x9e\\xd0\\xbf\\xd1\\x83\\xd0\\xb1\\xd0\\xbb\\xd0\\xb8\\xd0\\xba\\xd0\\xbe\\xd0\\xb2\\xd0\\xb0\\xd0\\xbd\\xd0\\xbe: </span> 22.10.2019</p>\\r\\n<p class=\"appeal-element-bottom\"><span> \\xd0\\x90\\xd0\\xb2\\xd1\\x82\\xd0\\xbe\\xd1\\x80: </span> \\xd0\\xae\\xd0\\xbb\\xd0\\xb8\\xd1\\x8f </p>            <p class=\"appeal-element-bottom\"><span> \\xd0\\xa0\\xd0\\xb5\\xd0\\xb3\\xd0\\xb8\\xd0\\xbe\\xd0\\xbd: </span> \\xd0\\x9d\\xd0\\xb8\\xd0\\xb6\\xd0\\xb5\\xd0\\xb3\\xd0\\xbe\\xd1\\x80\\xd0\\xbe\\xd0\\xb4\\xd1\\x81\\xd0\\xba\\xd0\\xb0\\xd1\\x8f \\xd0\\xbe\\xd0\\xb1\\xd0\\xbb\\xd0\\xb0\\xd1\\x81\\xd1\\x82\\xd1\\x8c</p>        </div>\\r\\n    </div>\\r\\n</div>\\r\\n                </div>\\r\\n                <div class=\"col-md-12\">\\r\\n<div class=\"appeal-element\">\\r\\n    <div class=\"row\">\\r\\n        <div class=\"col-md-12\">\\r\\n            <p class=\"appeal-cat-title\">\\xd0\\x9c\\xd0\\xb5\\xd0\\xb4\\xd0\\xb8\\xd1\\x86\\xd0\\xb8\\xd0\\xbd\\xd1\\x81\\xd0\\xba\\xd0\\xb8\\xd0\\xb5 \\xd1\\x83\\xd1\\x81\\xd0\\xbb\\xd1\\x83\\xd0\\xb3\\xd0\\xb8</p>\\r\\n        </div>\\r\\n    </div>\\r\\n    <div class=\"row\">\\r\\n        <div class=\"col-md-12\">\\r\\n            <a href=\"/Forum/Appeals/Details/12769\" class=\"appeal-title-link\">\\r\\n                <span class=\"custom-underline\">\\r\\n                    \\xd0\\x9e\\xd0\\xba\\xd0\\xb0\\xd0\\xb7\\xd0\\xb0\\xd0\\xbd\\xd0\\xb8\\xd0\\xb5 \\xd0\\xbc\\xd0\\xb5\\xd0\\xb4.\\xd1\\x83\\xd1\\x81\\xd0\\xbb\\xd1\\x83\\xd0\\xb3 \\xd0\\xb1\\xd0\\xb5\\xd0\\xb7 \\xd0\\xbb\\xd0\\xb8\\xd1\\x86\\xd0\\xb5\\xd0\\xbd\\xd0\\xb7\\xd0\\xb8\\xd0\\xb8\\r\\n                </span>\\r\\n            </a>\\r\\n        </div>\\r\\n    </div>\\r\\n    <div class=\"row\">\\r\\n        <div class=\"col-md-12\">\\r\\n            <p class=\"appeal-element-bottom\"><span> \\xd0\\x9e\\xd0\\xbf\\xd1\\x83\\xd0\\xb1\\xd0\\xbb\\xd0\\xb8\\xd0\\xba\\xd0\\xbe\\xd0\\xb2\\xd0\\xb0\\xd0\\xbd\\xd0\\xbe: </span> 22.10.2019</p>\\r\\n<p class=\"appeal-element-bottom\"><span> \\xd0\\x90\\xd0\\xb2\\xd1\\x82\\xd0\\xbe\\xd1\\x80: </span> \\xd0\\x95\\xd0\\xba\\xd0\\xb0\\xd1\\x82\\xd0\\xb5\\xd1\\x80\\xd0\\xb8\\xd0\\xbd\\xd0\\xb0</p>            <p class=\"appeal-element-bottom\"><span> \\xd0\\xa0\\xd0\\xb5\\xd0\\xb3\\xd0\\xb8\\xd0\\xbe\\xd0\\xbd: </span> \\xd0\\x9d\\xd0\\xbe\\xd0\\xb2\\xd0\\xbe\\xd1\\x81\\xd0\\xb8\\xd0\\xb1\\xd0\\xb8\\xd1\\x80\\xd1\\x81\\xd0\\xba\\xd0\\xb0\\xd1\\x8f \\xd0\\xbe\\xd0\\xb1\\xd0\\xbb\\xd0\\xb0\\xd1\\x81\\xd1\\x82\\xd1\\x8c</p>        </div>\\r\\n    </div>\\r\\n</div>\\r\\n                </div>\\r\\n    </div>\\r\\n</div>\\r\\n\\r\\n<div class=\"row\">\\r\\n    <div class=\"col-md-12\">\\r\\n        \\r\\n<input type=\"hidden\" id=\"appeals-list-number-of-pages\" value=\"2033\" />\\r\\n<ul class=\"pagination custom-pager\">\\r\\n\\r\\n    <li class=\"custom-pager-prev disabled\">\\r\\n        <a aria-label=\"Previous\" onclick=\"PagerPrevClick()\">\\r\\n            <span aria-hidden=\"true\">\\xd0\\x9f\\xd1\\x80\\xd0\\xb5\\xd0\\xb4\\xd1\\x8b\\xd0\\xb4\\xd1\\x83\\xd1\\x89\\xd0\\xb0\\xd1\\x8f</span>\\r\\n        </a>\\r\\n    </li>\\r\\n            <li class=\"active pager-link\">\\r\\n                <a><span class=\"\">1</span></a>\\r\\n            </li>\\r\\n            <li class=\"pager-link\">\\r\\n                <a class=\"page-number\" onclick=\"PagerClick(this)\">2</a>\\r\\n            </li>\\r\\n            <li class=\"pager-link\">\\r\\n                <a class=\"page-number\" onclick=\"PagerClick(this)\">3</a>\\r\\n            </li>\\r\\n                <li class=\"pager-link\">...</li>\\r\\n            <li class=\"pager-link\">\\r\\n                <a class=\"page-number\" onclick=\"PagerClick(this)\">2032</a>\\r\\n            </li>\\r\\n            <li class=\"pager-link\">\\r\\n                <a class=\"page-number\" onclick=\"PagerClick(this)\">2033</a>\\r\\n            </li>\\r\\n\\r\\n\\r\\n    <li class=\"custom-pager-next \">\\r\\n        <a aria-label=\"Next\" onclick=\"PagerNextClick()\">\\r\\n            <span aria-hidden=\"true\">\\xd0\\xa1\\xd0\\xbb\\xd0\\xb5\\xd0\\xb4\\xd1\\x83\\xd1\\x8e\\xd1\\x89\\xd0\\xb0\\xd1\\x8f</span>\\r\\n        </a>\\r\\n    </li>\\r\\n    <li class=\"pull-right\">\\r\\n        <input id=\"pagerCustomPage\" type=\"text\" value=\"1\" title=\"\\xd0\\x9d\\xd0\\xbe\\xd0\\xbc\\xd0\\xb5\\xd1\\x80 \\xd1\\x81\\xd1\\x82\\xd1\\x80\\xd0\\xb0\\xd0\\xbd\\xd0\\xb8\\xd1\\x86\\xd1\\x8b \\xd0\\xb4\\xd0\\xbb\\xd1\\x8f \\xd0\\xbf\\xd0\\xb5\\xd1\\x80\\xd0\\xb5\\xd1\\x85\\xd0\\xbe\\xd0\\xb4\\xd0\\xb0\" style=\"width:60px;\" class=\"form-control pull-left\" aria-describedby=\"pagerCustomPageAddon\" />\\r\\n        <button id=\"pagerCustomPageAddon\" class=\"btn btn-default pull-left\" title=\"\\xd0\\x9f\\xd0\\xb5\\xd1\\x80\\xd0\\xb5\\xd0\\xb9\\xd1\\x82\\xd0\\xb8 \\xd0\\xbd\\xd0\\xb0 \\xd1\\x81\\xd1\\x82\\xd1\\x80\\xd0\\xb0\\xd0\\xbd\\xd0\\xb8\\xd1\\x86\\xd1\\x83\" type=\"button\" onclick=\"PagerGoPage(document.getElementById(\\'pagerCustomPage\\').value)\"><i class=\"fa fa-indent\" aria-hidden=\"true\"></i><span class=\"sr-only\">\\xd0\\x9f\\xd0\\xb5\\xd1\\x80\\xd0\\xb5\\xd0\\xb9\\xd1\\x82\\xd0\\xb8</span></button>\\r\\n        &nbsp;&nbsp;\\r\\n    </li>\\r\\n</ul>\\r\\n    </div>\\r\\n</div>\\r\\n\\r\\n    </div>\\r\\n</div>\\r\\n\\r\\n<script type=\"text/javascript\">\\r\\n\\r\\n    var currentPage = 1;\\r\\n    var pageCount = 2033;\\r\\n\\r\\n    $(document).ready(function() {\\r\\n        $(\".appeal-cat-element\").click(function() {\\r\\n            $(this).toggleClass(\"selected\");\\r\\n            updateAppealsList(1, GetSearchText(), GetCategories());\\r\\n            return false;\\r\\n        });\\r\\n    });\\r\\n\\r\\n    function GetCategories() {\\r\\n        var categoriesarr = new Array();\\r\\n        $(\".appeal-cat-element\").each(function(index) {\\r\\n            if ($(this).hasClass(\"selected\")) {\\r\\n                categoriesarr.push($(this).attr(\"data-cat-id\"));\\r\\n            }\\r\\n        });\\r\\n        return categoriesarr;\\r\\n    }\\r\\n\\r\\n    function GetSearchText() {\\r\\n        return $(\"#SearchText\").val();\\r\\n    }\\r\\n\\r\\n    function PagerClick(obj) {\\r\\n        var page = parseInt($(obj).html());\\r\\n        updateAppealsList(page, GetSearchText(), GetCategories());\\r\\n    }\\r\\n\\r\\n    function PagerGoPage(page) {\\r\\n        updateAppealsList(parseInt(page), GetSearchText(), GetCategories());\\r\\n    }\\r\\n\\r\\n    function PagerPrevClick() {\\r\\n        if (currentPage <= 1 || pageCount <= 1) {\\r\\n            return;\\r\\n        } else {\\r\\n            updateAppealsList(currentPage - 1, GetSearchText(), GetCategories());\\r\\n        }\\r\\n\\r\\n    }\\r\\n\\r\\n    function PagerNextClick() {\\r\\n        if (currentPage >= pageCount || pageCount <= 1) {\\r\\n            return;\\r\\n        } else {\\r\\n            updateAppealsList(currentPage + 1, GetSearchText(), GetCategories());\\r\\n        }\\r\\n    }\\r\\n\\r\\n    function updateAppealsList(page, searchString, categoriesarr) {\\r\\n        $(\"#list-overlay\").show();\\r\\n\\r\\n        $.ajax({\\r\\n            url: \\'/Forum/Appeals/AjaxindexList\\',\\r\\n            data: {\\r\\n                page: page,\\r\\n                searchtext: searchString,\\r\\n                categories: JSON.stringify(categoriesarr)\\r\\n            },\\r\\n            beforeSend: function() {\\r\\n            },\\r\\n            success: function(data) {\\r\\n                $(\"#appeals-list\").html(data);\\r\\n                currentPage = page;\\r\\n                pageCount = parseInt($(\"#appeals-list-number-of-pages\").val());\\r\\n            }\\r\\n        });\\r\\n    }\\r\\n\\r\\n    function SubmitForm(obj) {\\r\\n        updateAppealsList(1, GetSearchText(), GetCategories());\\r\\n        event.preventDefault();\\r\\n        return false;\\r\\n    }\\r\\n\\r\\n    function AcceptAppeal(obj, state) {\\r\\n        //event.preventDefault();\\r\\n        var appealid = parseInt($(obj).parent().parent().parent(\\'.appeal-element\\').attr(\\'data-appeal-id\\'));\\r\\n\\r\\n        $.ajax({\\r\\n            url: \\'/Forum/Appeals/AcceptAppeal\\',\\r\\n            data: {\\r\\n                appealId: appealid,\\r\\n                accept: state\\r\\n            },\\r\\n            success: function(data) {\\r\\n                $(\"[data-appeal-id=\\'\" + data.retAppealId + \"\\']\").first().parent().html(data.html);\\r\\n            }\\r\\n        });\\r\\n        return false;\\r\\n    }\\r\\n\\r\\n    function DeleteAppeal(obj) {\\r\\n        //event.preventDefault();\\r\\n        var appealid = parseInt($(obj).parent().parent().parent(\\'.appeal-element\\').attr(\\'data-appeal-id\\'));\\r\\n\\r\\n        if (confirm(\\'\\xd0\\xa2\\xd0\\xbe\\xd1\\x87\\xd0\\xbd\\xd0\\xbe \\xd1\\x83\\xd0\\xb4\\xd0\\xb0\\xd0\\xbb\\xd0\\xb8\\xd1\\x82\\xd1\\x8c \\xd1\\x81\\xd0\\xbe\\xd0\\xbe\\xd0\\xb1\\xd1\\x89\\xd0\\xb5\\xd0\\xbd\\xd0\\xb8\\xd0\\xb5 (\\xd1\\x81\\xd0\\xbe\\xd0\\xbe\\xd0\\xb1\\xd1\\x89\\xd0\\xb5\\xd0\\xbd\\xd0\\xb8\\xd0\\xb5 \\xd0\\xb1\\xd1\\x83\\xd0\\xb4\\xd0\\xb5\\xd1\\x82 \\xd1\\x83\\xd0\\xb4\\xd0\\xb0\\xd0\\xbb\\xd0\\xb5\\xd0\\xbd\\xd0\\xbe \\xd0\\xb1\\xd0\\xb5\\xd0\\xb7\\xd0\\xb2\\xd0\\xbe\\xd0\\xb7\\xd0\\xb2\\xd1\\x80\\xd0\\xb0\\xd1\\x82\\xd0\\xbd\\xd0\\xbe) ?\\')) {\\r\\n            $.ajax({\\r\\n                url: \\'/Forum/Appeals/DeleteAppeal\\',\\r\\n                data: {\\r\\n                    appealId: appealid\\r\\n                    \\r\\n                },\\r\\n                success: function(data) {\\r\\n                    $(\"[data-appeal-id=\\'\" + data.retAppealId + \"\\']\").first().parent().html(\"\");\\r\\n                }\\r\\n            });\\r\\n        }\\r\\n        return false;\\r\\n    }\\r\\n\\r\\n</script></div>\\r\\n\\r\\n\\r\\n            <footer>\\r\\n                <div class=\"container-fluid\">\\r\\n                    <div id=\"bottom\">\\r\\n                        \\r\\n                        <div class=\"text-center bottom-extlinks\">\\r\\n                            <a href=\"http://www.kremlin.ru/\">\\r\\n                                <div class=\"img-container\"><img src=\"/Skin/rpn/images/footerLinks2/prezident.png\" /></div>\\r\\n                                <span class=\"img-description\">\\xd0\\x9f\\xd1\\x80\\xd0\\xb5\\xd0\\xb7\\xd0\\xb8\\xd0\\xb4\\xd0\\xb5\\xd0\\xbd\\xd1\\x82 \\xd0\\xa0\\xd0\\xbe\\xd1\\x81\\xd1\\x81\\xd0\\xb8\\xd0\\xb8</span>\\r\\n                            </a>\\r\\n                            <a href=\"http://government.ru/\">\\r\\n                                <div class=\"img-container\"><img src=\"/Skin/rpn/images/footerLinks2/gov.png\" /></div>\\r\\n                                <span class=\"img-description\">\\xd0\\x9f\\xd1\\x80\\xd0\\xb0\\xd0\\xb2\\xd0\\xb8\\xd1\\x82\\xd0\\xb5\\xd0\\xbb\\xd1\\x8c\\xd1\\x81\\xd1\\x82\\xd0\\xb2\\xd0\\xbe \\xd0\\xa0\\xd0\\xbe\\xd1\\x81\\xd1\\x81\\xd0\\xb8\\xd0\\xb8</span>\\r\\n                            </a>\\r\\n                            <a href=\"http://rospotrebnadzor.ru/\">\\r\\n                                <div class=\"img-container\"><img src=\"/Skin/rpn/images/footerLinks2/Rospotreb.png\" /></div>\\r\\n                                <span class=\"img-description\">\\xd0\\xa0\\xd0\\xbe\\xd1\\x81\\xd0\\xbf\\xd0\\xbe\\xd1\\x82\\xd1\\x80\\xd0\\xb5\\xd0\\xb1\\xd0\\xbd\\xd0\\xb0\\xd0\\xb4\\xd0\\xb7\\xd0\\xbe\\xd1\\x80</span>\\r\\n                            </a>\\r\\n                            <a href=\"http://open.gov.ru/\">\\r\\n                                <div class=\"img-container\"><img src=\"/Skin/rpn/images/footerLinks2/open.png\" /></div>\\r\\n                                <span class=\"img-description\">\\xd0\\x9e\\xd1\\x82\\xd0\\xba\\xd1\\x80\\xd1\\x8b\\xd1\\x82\\xd0\\xbe\\xd0\\xb5 \\xd0\\x9f\\xd1\\x80\\xd0\\xb0\\xd0\\xb2\\xd0\\xb8\\xd1\\x82\\xd0\\xb5\\xd0\\xbb\\xd1\\x8c\\xd1\\x81\\xd1\\x82\\xd0\\xb2\\xd0\\xbe</span>\\r\\n                            </a>\\r\\n                            <a href=\"http://www.gosuslugi.ru/\">\\r\\n                                <div class=\"img-container\"><img src=\"/Skin/rpn/images/footerLinks2/gosuslugi.png\" /></div>\\r\\n                                <span class=\"img-description\">\\xd0\\x93\\xd0\\xbe\\xd1\\x81\\xd1\\x83\\xd1\\x81\\xd0\\xbb\\xd1\\x83\\xd0\\xb3\\xd0\\xb8</span>\\r\\n                            </a>\\r\\n                            <a href=\"http://fcgie.ru/\">\\r\\n                                <div class=\"img-container\"><img src=\"/Skin/rpn/images/footerLinks2/fcgie.png\" /></div>\\r\\n                                <span class=\"img-description\">\\xd0\\xa4\\xd0\\x91\\xd0\\xa3\\xd0\\x97 \\xd0\\xa4\\xd0\\xa6\\xd0\\x93\\xd0\\xb8\\xd0\\xad</span>\\r\\n                            </a>\\r\\n                        </div>\\r\\n                    </div>\\r\\n                </div>\\r\\n                <div class=\"container-fluid\">\\r\\n                    <div id=\"copyright\">\\r\\n                        <div class=\"pull-left copyright-text\">\\r\\n                            \\xd0\\x9f\\xd0\\xbe\\xd0\\xb6\\xd0\\xb5\\xd0\\xbb\\xd0\\xb0\\xd0\\xbd\\xd0\\xb8\\xd1\\x8f \\xd0\\xb8 \\xd0\\xbf\\xd1\\x80\\xd0\\xb5\\xd0\\xb4\\xd0\\xbb\\xd0\\xbe\\xd0\\xb6\\xd0\\xb5\\xd0\\xbd\\xd0\\xb8\\xd1\\x8f \\xd0\\xbf\\xd0\\xbe \\xd1\\x80\\xd0\\xb0\\xd0\\xb1\\xd0\\xbe\\xd1\\x82\\xd0\\xb5 \\xd0\\xbf\\xd0\\xbe\\xd1\\x80\\xd1\\x82\\xd0\\xb0\\xd0\\xbb\\xd0\\xb0 \\xd0\\x93\\xd0\\x98\\xd0\\xa1 \\xd0\\x97\\xd0\\x9f\\xd0\\x9f \\xd0\\xbf\\xd1\\x80\\xd0\\xbe\\xd1\\x81\\xd0\\xb8\\xd0\\xbc \\xd0\\xbd\\xd0\\xb0\\xd0\\xbf\\xd1\\x80\\xd0\\xb0\\xd0\\xb2\\xd0\\xbb\\xd1\\x8f\\xd1\\x82\\xd1\\x8c \\xd0\\xbd\\xd0\\xb0 \\xd0\\xb0\\xd0\\xb4\\xd1\\x80\\xd0\\xb5\\xd1\\x81 <a href=\"mailto:zpp@gsen.ru\">zpp@gsen.ru</a>\\r\\n                        </div>\\r\\n                        <div class=\"pull-right counters\">\\r\\n                                <div class=\\'position position_counters \\'>\\r\\n    <div class=\\'module moduletype_html\\'>\\r\\n                    <div class=\\'module_body\\'>\\r\\n                    <div style=\"width:1px;height:1px;overflow:hidden\">\\r\\n<!--LiveInternet counter--><script type=\"text/javascript\">\\r\\ndocument.write(\"<a href=\\'//www.liveinternet.ru/click\\' \"+\\r\\n\"target=_blank><img style=src=\\'//counter.yadro.ru/hit?t44.6;r\"+\\r\\nescape(document.referrer)+((typeof(screen)==\"undefined\")?\"\":\\r\\n\";s\"+screen.width+\"*\"+screen.height+\"*\"+(screen.colorDepth?\\r\\nscreen.colorDepth:screen.pixelDepth))+\";u\"+escape(document.URL)+\\r\\n\";h\"+escape(document.title.substring(0,80))+\";\"+Math.random()+\\r\\n\"\\' alt=\\'\\' title=\\'LiveInternet\\' \"+\\r\\n\"border=\\'0\\' width=\\'31\\' height=\\'31\\'><\\\\/a>\")\\r\\n</script><!--/LiveInternet-->\\r\\n</div>\\r\\n<script>\\r\\n  (function(d, t, p) {\\r\\n  var j = d.createElement(t); j.async = true; j.type = \"text/javascript\";\\r\\n  j.src = (\"https:\" == p ? \"https:\" : \"http:\") + \"//stat.sputnik.ru/cnt.js\";\\r\\n  var s = d.getElementsByTagName(t)[0]; s.parentNode.insertBefore(j, s);\\r\\n  })(document, \"script\", document.location.protocol);\\r\\n</script>\\r\\n\\r\\n            </div>\\r\\n    </div>\\r\\n    </div>\\r\\n\\r\\n                        </div>\\r\\n                    </div>\\r\\n                </div>\\r\\n            </footer>\\r\\n        </div>\\r\\n    </div>\\r\\n\\r\\n    <script src=\"/bundles/bootstrap?v=OfX192nbUgK5NE8ftV4Ef6ToCtjUTli3wC5jn344bfM1\"></script>\\r\\n\\r\\n    \\r\\n    \\r\\n    \\r\\n</body>\\r\\n</html>\\r\\n'"
      ]
     },
     "execution_count": 13,
     "metadata": {},
     "output_type": "execute_result"
    }
   ],
   "source": [
    "response.content"
   ]
  },
  {
   "cell_type": "code",
   "execution_count": 14,
   "metadata": {},
   "outputs": [
    {
     "data": {
      "text/plain": [
       "'<!DOCTYPE html>\\r\\n<html>\\r\\n<head>\\r\\n    <meta http-equiv=\"Content-Type\" content=\"text/html; charset=utf-8\" />\\r\\n    <meta charset=\"utf-8\" />\\r\\n    <meta name=\"viewport\" content=\"width=device-width, initial-scale=1.0\">\\r\\n    <meta http-equiv=\"X-UA-Compatible\" content=\"IE=edge\">\\r\\n    <meta name=\"description\">\\r\\n    <meta name=\"keywords\">\\r\\n    <meta http-equiv=\"X-UA-Compatible\" content=\"IE=edge\">\\r\\n    <meta name=\"sputnik-verification\" content=\"lH6Z9PWIRq3180Y6\" />\\r\\n    <title>Список сообщений - Виртуальная приемная - Роспотребнадзор</title>\\r\\n    <link href=\"/fonts/firasans/firasans.css\" rel=\"stylesheet\" />\\r\\n    <!--[if lt IE 9]>\\r\\n    <script src=\"http://ie7-js.googlecode.com/svn/version/2.1(beta4)/IE9.js\"></script>\\r\\n    <![endif]-->\\r\\n\\r\\n    <link href=\"/Skin/rpn2/font/font.css\" rel=\"stylesheet\"/>\\r\\n\\r\\n    <link href=\"/Content/font-awesome.min.css\" rel=\"stylesheet\"/>\\r\\n\\r\\n    <link href=\"/Content/css?v=NQGD633p8LVb3M5_IWEqJHuZWbhsiDqS1PMl-WIDzL01\" rel=\"stylesheet\"/>\\r\\n\\r\\n    <script src=\"/bundles/modernizr?v=inCVuEFe6J4Q07A0AcRsbJic_UE5MwpRMNGcOtk94TE1\"></script>\\r\\n\\r\\n    <link href=\"/Skin/rpn2/css/Main.css?v2\" rel=\"stylesheet\"/>\\r\\n\\r\\n<script src=\"/bundles/jquery?v=gkWyJthHPtwkFjvHuNinBjchIfwLwc_KbE-H26J2kAI1\"></script>\\r\\n    <script src=\"/Scripts/portal.js\"></script>\\r\\n\\r\\n    <script src=\"/Skin/rpn2/js/design.js\"></script>\\r\\n\\r\\n    \\r\\n    \\r\\n\\r\\n    \\r\\n</head>\\r\\n<body >\\r\\n    <div id=\"mainmenu_container_short\">\\r\\n        <nav class=\"navbar navbar-default\">\\r\\n            <div class=\"navbar-header\">\\r\\n                <button type=\"button\" class=\"navbar-toggle collapsed\" data-toggle=\"collapse\" data-target=\"#mainmenu_container_short_menu\" aria-expanded=\"false\">\\r\\n                    <span class=\"sr-only\">Показать</span>\\r\\n                    <span class=\"icon-bar\"></span>\\r\\n                    <span class=\"icon-bar\"></span>\\r\\n                    <span class=\"icon-bar\"></span>\\r\\n                </button>\\r\\n                <a class=\"navbar-brand\" href=\"/\">\\r\\n                    Роспотребнадзор<br/>\\r\\n                    <span class=\"description\">Государственный информационный ресурс в сфере защиты прав потребителей</span>\\r\\n                    <span class=\"description600\"><abbr title=\"Государственный информационный ресурс в сфере защиты прав потребителей\">ГИС ЗПП</abbr></span>\\r\\n\\r\\n                </a>\\r\\n            </div>\\r\\n            <div class=\"collapse navbar-collapse\" id=\"mainmenu_container_short_menu\">\\r\\n                <ul class=\"nav navbar-nav\"></ul>\\r\\n            </div>\\r\\n        </nav>\\r\\n    </div>\\r\\n    <div id=\"mainmenu_container\">\\r\\n        <table class=\"mainmenu_block\">\\r\\n            <tr>\\r\\n                <td style=\"padding-right:0\">\\r\\n                    <a href=\"/\" id=\"logo-link2root\">\\r\\n                        <div><img src=\"/Skin/rpn2/assets/rpn-logo.png\" class=\"logo\" /></div>\\r\\n                    </a>\\r\\n                </td>\\r\\n            </tr>\\r\\n            <tr>\\r\\n                <td height=\"100%\">\\r\\n                        <div class=\\'position position_mainmenu \\'>\\r\\n    <div class=\\'module moduletype_menu\\'>\\r\\n                    <div class=\\'module_body\\'>\\r\\n                    \\r\\n\\r\\n\\r\\n<div>\\r\\n        <ul>\\r\\n                <li class=\"mmi-consumer   level1 \">\\r\\n                        <a href=\"/handbook/actual\"><span class=\"text\">Справочник потребителя</span></a>\\r\\n                </li>\\r\\n                <li class=\"   level1 \">\\r\\n                        <a href=\"/advices\"><span class=\"text\">Советы по здоровому питанию</span></a>\\r\\n                </li>\\r\\n                <li class=\"mmi-npa   level1 \">\\r\\n                        <a href=\"/npa/global\"><span class=\"text\">Нормативные правовые акты</span></a>\\r\\n                </li>\\r\\n                <li class=\"mmi-info   level1 \">\\r\\n                        <a href=\"/info/doclad\"><span class=\"text\">Информационно-аналитические материалы</span></a>\\r\\n                </li>\\r\\n                <li class=\"mmi-organizations   level1 \">\\r\\n                        <a href=\"/organizations/gos\"><span class=\"text\">Органы и организации в сфере защиты прав потребителей</span></a>\\r\\n                </li>\\r\\n                <li class=\"mmi-verifications   level1 \">\\r\\n                        <a href=\"/verifications\"><span class=\"text\">Результаты проверок</span></a>\\r\\n                </li>\\r\\n                <li class=\"mmi-badproducts   level1 \">\\r\\n                        <a href=\"/badproducts/violations\"><span class=\"text\">Продукция, не соответствующая обязательным требованиям</span></a>\\r\\n                </li>\\r\\n                <li class=\"mmi-adjudications   level1 \">\\r\\n                        <a href=\"/adjudications/federal\"><span class=\"text\">Судебная практика</span></a>\\r\\n                </li>\\r\\n                <li class=\"mmi-news   level1 \">\\r\\n                        <a href=\"/news/federal\"><span class=\"text\">Новости</span></a>\\r\\n                </li>\\r\\n                <li class=\"   level1 \">\\r\\n                        <a href=\"/staff\"><span class=\"text\">Для сотрудников</span></a>\\r\\n                </li>\\r\\n    </ul>\\r\\n\\r\\n</div>\\r\\n            </div>\\r\\n    </div>\\r\\n    </div>\\r\\n\\r\\n                </td>\\r\\n            </tr>\\r\\n            <tr>\\r\\n                <td>\\r\\n                    <div id=\"search-form\" class=\"search-form\">\\r\\n                        <form method=\"get\" action=\"/Search/Index\">\\r\\n                            <div class=\"form-group input-group\">\\r\\n                                <input id=\"autocompleteSearch\" type=\"text\" name=\"SearchQuery\" class=\"form-control search-button\" placeholder=\"Поиск\" autocomplete=\"off\">\\r\\n                                <span class=\"input-group-btn\">\\r\\n                                    <button class=\"btn search-button-icon\" type=\"submit\">\\r\\n                                        <i class=\"fa fa-search\"></i>\\r\\n                                    </button>\\r\\n                                </span>\\r\\n                            </div>\\r\\n                        </form>\\r\\n                    </div>\\r\\n                </td>\\r\\n            </tr>\\r\\n            <tr>\\r\\n                <td>\\r\\n                    <div class=\"mainmenu_optmenu\">\\r\\n                        <ul>\\r\\n                            <li><a href=\"/Show/Special\">Версия для слабовидящих</a></li>\\r\\n                            <li><a href=\"/Forum/Appeals\">Виртуальная приемная</a></li>\\r\\n                        </ul>\\r\\n                    </div>\\r\\n                </td>\\r\\n            </tr>\\r\\n            <tr>\\r\\n                <td>\\r\\n                    <div class=\"mainmenu_copyright\">\\r\\n                        2019<span class=\"copy\">&copy;</span>Роспотребнадзор\\r\\n                    </div>\\r\\n                </td>\\r\\n            </tr>\\r\\n        </table>\\r\\n    </div>\\r\\n    <div id=\"main_container\">\\r\\n        <div>\\r\\n\\r\\n            \\r\\n\\r\\n\\r\\n            \\r\\n\\r\\n            <div id=\"mainbody\">\\r\\n\\r\\n<link href=\\'/Skin/rpn2/css/forum/forum-styles.css\\' rel=\\'stylesheet\\' type=\\'text/css\\'>\\r\\n<link href=\"/Skin/rpn2/css/formcomponents/components.css\" rel=\"stylesheet\" type=\\'text/css\\' />\\r\\n<link href=\\'/Skin/rpn2/css/formcomponents/icons/icomoon/styles.css\\' rel=\\'stylesheet\\' type=\\'text/css\\'>\\r\\n<script src=\"/Scripts/styling/blockui.min.js\" type=\"text/javascript\"></script>\\r\\n\\r\\n\\r\\n<div class=\"row\">\\r\\n    <div class=\"col-md-12\">\\r\\n        <h2>Виртуальная приемная</h2>\\r\\n    </div>\\r\\n</div>\\r\\n\\r\\n\\r\\n\\r\\n<div class=\"row\">\\r\\n    <div class=\"vm-20 col-md-3 col-md-push-9\">\\r\\n        <div class=\"row\">\\r\\n            <div class=\"col-md-12\">\\r\\n                <a class=\"btn btn-lg btn-success col-md-12 btnAddAppeal\" href=\"/Forum/Appeals/AddAppeal\">Оставить сообщение</a>\\r\\n            </div>\\r\\n        </div>\\r\\n\\r\\n        <div class=\"appeals-cat-list-container vm-20\">\\r\\n            <div class=\"row\">\\r\\n                <div class=\"col-md-12\">\\r\\n                    <div class=\"appeal-cat-element-title\">\\r\\n                        <p class=\"appeal-cat-list-title\">Категории</p>\\r\\n                    </div>\\r\\n                </div>\\r\\n                    <div class=\"col-md-12\">\\r\\n                        <div class=\"appeal-cat-element\" data-cat-id=\"1\">\\r\\n                            <a href=\"#\">\\r\\n                                <span class=\"custom-underline\">\\r\\n                                    Розничная торговля\\r\\n                                </span>\\r\\n                            </a>\\r\\n                        </div>\\r\\n                    </div>\\r\\n                    <div class=\"col-md-12\">\\r\\n                        <div class=\"appeal-cat-element\" data-cat-id=\"2\">\\r\\n                            <a href=\"#\">\\r\\n                                <span class=\"custom-underline\">\\r\\n                                    Общественное питание\\r\\n                                </span>\\r\\n                            </a>\\r\\n                        </div>\\r\\n                    </div>\\r\\n                    <div class=\"col-md-12\">\\r\\n                        <div class=\"appeal-cat-element\" data-cat-id=\"3\">\\r\\n                            <a href=\"#\">\\r\\n                                <span class=\"custom-underline\">\\r\\n                                    Бытовое обслуживание\\r\\n                                </span>\\r\\n                            </a>\\r\\n                        </div>\\r\\n                    </div>\\r\\n                    <div class=\"col-md-12\">\\r\\n                        <div class=\"appeal-cat-element\" data-cat-id=\"4\">\\r\\n                            <a href=\"#\">\\r\\n                                <span class=\"custom-underline\">\\r\\n                                    Жилищно-коммунальные услуги\\r\\n                                </span>\\r\\n                            </a>\\r\\n                        </div>\\r\\n                    </div>\\r\\n                    <div class=\"col-md-12\">\\r\\n                        <div class=\"appeal-cat-element\" data-cat-id=\"5\">\\r\\n                            <a href=\"#\">\\r\\n                                <span class=\"custom-underline\">\\r\\n                                    Медицинские услуги\\r\\n                                </span>\\r\\n                            </a>\\r\\n                        </div>\\r\\n                    </div>\\r\\n                    <div class=\"col-md-12\">\\r\\n                        <div class=\"appeal-cat-element\" data-cat-id=\"6\">\\r\\n                            <a href=\"#\">\\r\\n                                <span class=\"custom-underline\">\\r\\n                                    Транспортные услуги\\r\\n                                </span>\\r\\n                            </a>\\r\\n                        </div>\\r\\n                    </div>\\r\\n                    <div class=\"col-md-12\">\\r\\n                        <div class=\"appeal-cat-element\" data-cat-id=\"7\">\\r\\n                            <a href=\"#\">\\r\\n                                <span class=\"custom-underline\">\\r\\n                                    Образовательные услуги\\r\\n                                </span>\\r\\n                            </a>\\r\\n                        </div>\\r\\n                    </div>\\r\\n                    <div class=\"col-md-12\">\\r\\n                        <div class=\"appeal-cat-element\" data-cat-id=\"8\">\\r\\n                            <a href=\"#\">\\r\\n                                <span class=\"custom-underline\">\\r\\n                                    Финансовые услуги\\r\\n                                </span>\\r\\n                            </a>\\r\\n                        </div>\\r\\n                    </div>\\r\\n                    <div class=\"col-md-12\">\\r\\n                        <div class=\"appeal-cat-element\" data-cat-id=\"9\">\\r\\n                            <a href=\"#\">\\r\\n                                <span class=\"custom-underline\">\\r\\n                                    Услуги связи\\r\\n                                </span>\\r\\n                            </a>\\r\\n                        </div>\\r\\n                    </div>\\r\\n                    <div class=\"col-md-12\">\\r\\n                        <div class=\"appeal-cat-element\" data-cat-id=\"10\">\\r\\n                            <a href=\"#\">\\r\\n                                <span class=\"custom-underline\">\\r\\n                                    Туристские услуги\\r\\n                                </span>\\r\\n                            </a>\\r\\n                        </div>\\r\\n                    </div>\\r\\n                    <div class=\"col-md-12\">\\r\\n                        <div class=\"appeal-cat-element\" data-cat-id=\"11\">\\r\\n                            <a href=\"#\">\\r\\n                                <span class=\"custom-underline\">\\r\\n                                    Прочие виды деятельности\\r\\n                                </span>\\r\\n                            </a>\\r\\n                        </div>\\r\\n                    </div>\\r\\n            </div>\\r\\n        </div>\\r\\n    </div>\\r\\n    <div class=\"vm-20 col-md-9 col-md-pull-3\" id=\"appeals-list\">\\r\\n        <div id=\"list-overlay\"></div>\\r\\n<div class=\"appeals-list-container\">\\r\\n    <div class=\"row\">\\r\\n        <div class=\"col-lg-12\">\\r\\n            <form onsubmit=\"SubmitForm(this)\">\\r\\n                <div class=\"input-group\">\\r\\n                    <input autocomplete=\"off\" class=\"form-control\" id=\"SearchText\" name=\"SearchText\" placeholder=\"Введите фразу для поиска...\" type=\"text\" value=\"\" />\\r\\n                    <span class=\"input-group-btn appeal-search-custom-btn\">\\r\\n                        <button class=\"btn btn-default\" type=\"button\">\\r\\n                            Найти\\r\\n                        </button>\\r\\n                    </span>\\r\\n                </div>\\r\\n            </form>\\r\\n        </div>\\r\\n    </div>\\r\\n\\r\\n    <div class=\"row\">\\r\\n                <div class=\"col-md-12\">\\r\\n<div class=\"appeal-element\">\\r\\n    <div class=\"row\">\\r\\n        <div class=\"col-md-12\">\\r\\n            <p class=\"appeal-cat-title\">Розничная торговля</p>\\r\\n        </div>\\r\\n    </div>\\r\\n    <div class=\"row\">\\r\\n        <div class=\"col-md-12\">\\r\\n            <a href=\"/Forum/Appeals/Details/12781\" class=\"appeal-title-link\">\\r\\n                <span class=\"custom-underline\">\\r\\n                    Продажа брака в авто магазине.\\r\\n                </span>\\r\\n            </a>\\r\\n        </div>\\r\\n    </div>\\r\\n    <div class=\"row\">\\r\\n        <div class=\"col-md-12\">\\r\\n            <p class=\"appeal-element-bottom\"><span> Опубликовано: </span> 22.10.2019</p>\\r\\n<p class=\"appeal-element-bottom\"><span> Автор: </span> Анна</p>            <p class=\"appeal-element-bottom\"><span> Регион: </span> Белгородская область</p>        </div>\\r\\n    </div>\\r\\n</div>\\r\\n                </div>\\r\\n                <div class=\"col-md-12\">\\r\\n<div class=\"appeal-element\">\\r\\n    <div class=\"row\">\\r\\n        <div class=\"col-md-12\">\\r\\n            <p class=\"appeal-cat-title\">Розничная торговля</p>\\r\\n        </div>\\r\\n    </div>\\r\\n    <div class=\"row\">\\r\\n        <div class=\"col-md-12\">\\r\\n            <a href=\"/Forum/Appeals/Details/12780\" class=\"appeal-title-link\">\\r\\n                <span class=\"custom-underline\">\\r\\n                    Мошенники\\r\\n                </span>\\r\\n            </a>\\r\\n        </div>\\r\\n    </div>\\r\\n    <div class=\"row\">\\r\\n        <div class=\"col-md-12\">\\r\\n            <p class=\"appeal-element-bottom\"><span> Опубликовано: </span> 22.10.2019</p>\\r\\n<p class=\"appeal-element-bottom\"><span> Автор: </span> Татьяна </p>            <p class=\"appeal-element-bottom\"><span> Регион: </span> Ленинградская область</p>        </div>\\r\\n    </div>\\r\\n</div>\\r\\n                </div>\\r\\n                <div class=\"col-md-12\">\\r\\n<div class=\"appeal-element\">\\r\\n    <div class=\"row\">\\r\\n        <div class=\"col-md-12\">\\r\\n            <p class=\"appeal-cat-title\">Розничная торговля</p>\\r\\n        </div>\\r\\n    </div>\\r\\n    <div class=\"row\">\\r\\n        <div class=\"col-md-12\">\\r\\n            <a href=\"/Forum/Appeals/Details/12775\" class=\"appeal-title-link\">\\r\\n                <span class=\"custom-underline\">\\r\\n                    Здравствуйте! Возможно ли обменять наушники, флешку и колонку, если не подошли?\\r\\n                </span>\\r\\n            </a>\\r\\n        </div>\\r\\n    </div>\\r\\n    <div class=\"row\">\\r\\n        <div class=\"col-md-12\">\\r\\n            <p class=\"appeal-element-bottom\"><span> Опубликовано: </span> 22.10.2019</p>\\r\\n<p class=\"appeal-element-bottom\"><span> Автор: </span> Светлана</p>            <p class=\"appeal-element-bottom\"><span> Регион: </span> Республика Башкортостан</p>        </div>\\r\\n    </div>\\r\\n</div>\\r\\n                </div>\\r\\n                <div class=\"col-md-12\">\\r\\n<div class=\"appeal-element\">\\r\\n    <div class=\"row\">\\r\\n        <div class=\"col-md-12\">\\r\\n            <p class=\"appeal-cat-title\">Розничная торговля</p>\\r\\n        </div>\\r\\n    </div>\\r\\n    <div class=\"row\">\\r\\n        <div class=\"col-md-12\">\\r\\n            <a href=\"/Forum/Appeals/Details/12774\" class=\"appeal-title-link\">\\r\\n                <span class=\"custom-underline\">\\r\\n                    Обман при продаже обуви.\\r\\n                </span>\\r\\n            </a>\\r\\n        </div>\\r\\n    </div>\\r\\n    <div class=\"row\">\\r\\n        <div class=\"col-md-12\">\\r\\n            <p class=\"appeal-element-bottom\"><span> Опубликовано: </span> 22.10.2019</p>\\r\\n<p class=\"appeal-element-bottom\"><span> Автор: </span> Юлия </p>            <p class=\"appeal-element-bottom\"><span> Регион: </span> Нижегородская область</p>        </div>\\r\\n    </div>\\r\\n</div>\\r\\n                </div>\\r\\n                <div class=\"col-md-12\">\\r\\n<div class=\"appeal-element\">\\r\\n    <div class=\"row\">\\r\\n        <div class=\"col-md-12\">\\r\\n            <p class=\"appeal-cat-title\">Медицинские услуги</p>\\r\\n        </div>\\r\\n    </div>\\r\\n    <div class=\"row\">\\r\\n        <div class=\"col-md-12\">\\r\\n            <a href=\"/Forum/Appeals/Details/12769\" class=\"appeal-title-link\">\\r\\n                <span class=\"custom-underline\">\\r\\n                    Оказание мед.услуг без лицензии\\r\\n                </span>\\r\\n            </a>\\r\\n        </div>\\r\\n    </div>\\r\\n    <div class=\"row\">\\r\\n        <div class=\"col-md-12\">\\r\\n            <p class=\"appeal-element-bottom\"><span> Опубликовано: </span> 22.10.2019</p>\\r\\n<p class=\"appeal-element-bottom\"><span> Автор: </span> Екатерина</p>            <p class=\"appeal-element-bottom\"><span> Регион: </span> Новосибирская область</p>        </div>\\r\\n    </div>\\r\\n</div>\\r\\n                </div>\\r\\n    </div>\\r\\n</div>\\r\\n\\r\\n<div class=\"row\">\\r\\n    <div class=\"col-md-12\">\\r\\n        \\r\\n<input type=\"hidden\" id=\"appeals-list-number-of-pages\" value=\"2033\" />\\r\\n<ul class=\"pagination custom-pager\">\\r\\n\\r\\n    <li class=\"custom-pager-prev disabled\">\\r\\n        <a aria-label=\"Previous\" onclick=\"PagerPrevClick()\">\\r\\n            <span aria-hidden=\"true\">Предыдущая</span>\\r\\n        </a>\\r\\n    </li>\\r\\n            <li class=\"active pager-link\">\\r\\n                <a><span class=\"\">1</span></a>\\r\\n            </li>\\r\\n            <li class=\"pager-link\">\\r\\n                <a class=\"page-number\" onclick=\"PagerClick(this)\">2</a>\\r\\n            </li>\\r\\n            <li class=\"pager-link\">\\r\\n                <a class=\"page-number\" onclick=\"PagerClick(this)\">3</a>\\r\\n            </li>\\r\\n                <li class=\"pager-link\">...</li>\\r\\n            <li class=\"pager-link\">\\r\\n                <a class=\"page-number\" onclick=\"PagerClick(this)\">2032</a>\\r\\n            </li>\\r\\n            <li class=\"pager-link\">\\r\\n                <a class=\"page-number\" onclick=\"PagerClick(this)\">2033</a>\\r\\n            </li>\\r\\n\\r\\n\\r\\n    <li class=\"custom-pager-next \">\\r\\n        <a aria-label=\"Next\" onclick=\"PagerNextClick()\">\\r\\n            <span aria-hidden=\"true\">Следующая</span>\\r\\n        </a>\\r\\n    </li>\\r\\n    <li class=\"pull-right\">\\r\\n        <input id=\"pagerCustomPage\" type=\"text\" value=\"1\" title=\"Номер страницы для перехода\" style=\"width:60px;\" class=\"form-control pull-left\" aria-describedby=\"pagerCustomPageAddon\" />\\r\\n        <button id=\"pagerCustomPageAddon\" class=\"btn btn-default pull-left\" title=\"Перейти на страницу\" type=\"button\" onclick=\"PagerGoPage(document.getElementById(\\'pagerCustomPage\\').value)\"><i class=\"fa fa-indent\" aria-hidden=\"true\"></i><span class=\"sr-only\">Перейти</span></button>\\r\\n        &nbsp;&nbsp;\\r\\n    </li>\\r\\n</ul>\\r\\n    </div>\\r\\n</div>\\r\\n\\r\\n    </div>\\r\\n</div>\\r\\n\\r\\n<script type=\"text/javascript\">\\r\\n\\r\\n    var currentPage = 1;\\r\\n    var pageCount = 2033;\\r\\n\\r\\n    $(document).ready(function() {\\r\\n        $(\".appeal-cat-element\").click(function() {\\r\\n            $(this).toggleClass(\"selected\");\\r\\n            updateAppealsList(1, GetSearchText(), GetCategories());\\r\\n            return false;\\r\\n        });\\r\\n    });\\r\\n\\r\\n    function GetCategories() {\\r\\n        var categoriesarr = new Array();\\r\\n        $(\".appeal-cat-element\").each(function(index) {\\r\\n            if ($(this).hasClass(\"selected\")) {\\r\\n                categoriesarr.push($(this).attr(\"data-cat-id\"));\\r\\n            }\\r\\n        });\\r\\n        return categoriesarr;\\r\\n    }\\r\\n\\r\\n    function GetSearchText() {\\r\\n        return $(\"#SearchText\").val();\\r\\n    }\\r\\n\\r\\n    function PagerClick(obj) {\\r\\n        var page = parseInt($(obj).html());\\r\\n        updateAppealsList(page, GetSearchText(), GetCategories());\\r\\n    }\\r\\n\\r\\n    function PagerGoPage(page) {\\r\\n        updateAppealsList(parseInt(page), GetSearchText(), GetCategories());\\r\\n    }\\r\\n\\r\\n    function PagerPrevClick() {\\r\\n        if (currentPage <= 1 || pageCount <= 1) {\\r\\n            return;\\r\\n        } else {\\r\\n            updateAppealsList(currentPage - 1, GetSearchText(), GetCategories());\\r\\n        }\\r\\n\\r\\n    }\\r\\n\\r\\n    function PagerNextClick() {\\r\\n        if (currentPage >= pageCount || pageCount <= 1) {\\r\\n            return;\\r\\n        } else {\\r\\n            updateAppealsList(currentPage + 1, GetSearchText(), GetCategories());\\r\\n        }\\r\\n    }\\r\\n\\r\\n    function updateAppealsList(page, searchString, categoriesarr) {\\r\\n        $(\"#list-overlay\").show();\\r\\n\\r\\n        $.ajax({\\r\\n            url: \\'/Forum/Appeals/AjaxindexList\\',\\r\\n            data: {\\r\\n                page: page,\\r\\n                searchtext: searchString,\\r\\n                categories: JSON.stringify(categoriesarr)\\r\\n            },\\r\\n            beforeSend: function() {\\r\\n            },\\r\\n            success: function(data) {\\r\\n                $(\"#appeals-list\").html(data);\\r\\n                currentPage = page;\\r\\n                pageCount = parseInt($(\"#appeals-list-number-of-pages\").val());\\r\\n            }\\r\\n        });\\r\\n    }\\r\\n\\r\\n    function SubmitForm(obj) {\\r\\n        updateAppealsList(1, GetSearchText(), GetCategories());\\r\\n        event.preventDefault();\\r\\n        return false;\\r\\n    }\\r\\n\\r\\n    function AcceptAppeal(obj, state) {\\r\\n        //event.preventDefault();\\r\\n        var appealid = parseInt($(obj).parent().parent().parent(\\'.appeal-element\\').attr(\\'data-appeal-id\\'));\\r\\n\\r\\n        $.ajax({\\r\\n            url: \\'/Forum/Appeals/AcceptAppeal\\',\\r\\n            data: {\\r\\n                appealId: appealid,\\r\\n                accept: state\\r\\n            },\\r\\n            success: function(data) {\\r\\n                $(\"[data-appeal-id=\\'\" + data.retAppealId + \"\\']\").first().parent().html(data.html);\\r\\n            }\\r\\n        });\\r\\n        return false;\\r\\n    }\\r\\n\\r\\n    function DeleteAppeal(obj) {\\r\\n        //event.preventDefault();\\r\\n        var appealid = parseInt($(obj).parent().parent().parent(\\'.appeal-element\\').attr(\\'data-appeal-id\\'));\\r\\n\\r\\n        if (confirm(\\'Точно удалить сообщение (сообщение будет удалено безвозвратно) ?\\')) {\\r\\n            $.ajax({\\r\\n                url: \\'/Forum/Appeals/DeleteAppeal\\',\\r\\n                data: {\\r\\n                    appealId: appealid\\r\\n                    \\r\\n                },\\r\\n                success: function(data) {\\r\\n                    $(\"[data-appeal-id=\\'\" + data.retAppealId + \"\\']\").first().parent().html(\"\");\\r\\n                }\\r\\n            });\\r\\n        }\\r\\n        return false;\\r\\n    }\\r\\n\\r\\n</script></div>\\r\\n\\r\\n\\r\\n            <footer>\\r\\n                <div class=\"container-fluid\">\\r\\n                    <div id=\"bottom\">\\r\\n                        \\r\\n                        <div class=\"text-center bottom-extlinks\">\\r\\n                            <a href=\"http://www.kremlin.ru/\">\\r\\n                                <div class=\"img-container\"><img src=\"/Skin/rpn/images/footerLinks2/prezident.png\" /></div>\\r\\n                                <span class=\"img-description\">Президент России</span>\\r\\n                            </a>\\r\\n                            <a href=\"http://government.ru/\">\\r\\n                                <div class=\"img-container\"><img src=\"/Skin/rpn/images/footerLinks2/gov.png\" /></div>\\r\\n                                <span class=\"img-description\">Правительство России</span>\\r\\n                            </a>\\r\\n                            <a href=\"http://rospotrebnadzor.ru/\">\\r\\n                                <div class=\"img-container\"><img src=\"/Skin/rpn/images/footerLinks2/Rospotreb.png\" /></div>\\r\\n                                <span class=\"img-description\">Роспотребнадзор</span>\\r\\n                            </a>\\r\\n                            <a href=\"http://open.gov.ru/\">\\r\\n                                <div class=\"img-container\"><img src=\"/Skin/rpn/images/footerLinks2/open.png\" /></div>\\r\\n                                <span class=\"img-description\">Открытое Правительство</span>\\r\\n                            </a>\\r\\n                            <a href=\"http://www.gosuslugi.ru/\">\\r\\n                                <div class=\"img-container\"><img src=\"/Skin/rpn/images/footerLinks2/gosuslugi.png\" /></div>\\r\\n                                <span class=\"img-description\">Госуслуги</span>\\r\\n                            </a>\\r\\n                            <a href=\"http://fcgie.ru/\">\\r\\n                                <div class=\"img-container\"><img src=\"/Skin/rpn/images/footerLinks2/fcgie.png\" /></div>\\r\\n                                <span class=\"img-description\">ФБУЗ ФЦГиЭ</span>\\r\\n                            </a>\\r\\n                        </div>\\r\\n                    </div>\\r\\n                </div>\\r\\n                <div class=\"container-fluid\">\\r\\n                    <div id=\"copyright\">\\r\\n                        <div class=\"pull-left copyright-text\">\\r\\n                            Пожелания и предложения по работе портала ГИС ЗПП просим направлять на адрес <a href=\"mailto:zpp@gsen.ru\">zpp@gsen.ru</a>\\r\\n                        </div>\\r\\n                        <div class=\"pull-right counters\">\\r\\n                                <div class=\\'position position_counters \\'>\\r\\n    <div class=\\'module moduletype_html\\'>\\r\\n                    <div class=\\'module_body\\'>\\r\\n                    <div style=\"width:1px;height:1px;overflow:hidden\">\\r\\n<!--LiveInternet counter--><script type=\"text/javascript\">\\r\\ndocument.write(\"<a href=\\'//www.liveinternet.ru/click\\' \"+\\r\\n\"target=_blank><img style=src=\\'//counter.yadro.ru/hit?t44.6;r\"+\\r\\nescape(document.referrer)+((typeof(screen)==\"undefined\")?\"\":\\r\\n\";s\"+screen.width+\"*\"+screen.height+\"*\"+(screen.colorDepth?\\r\\nscreen.colorDepth:screen.pixelDepth))+\";u\"+escape(document.URL)+\\r\\n\";h\"+escape(document.title.substring(0,80))+\";\"+Math.random()+\\r\\n\"\\' alt=\\'\\' title=\\'LiveInternet\\' \"+\\r\\n\"border=\\'0\\' width=\\'31\\' height=\\'31\\'><\\\\/a>\")\\r\\n</script><!--/LiveInternet-->\\r\\n</div>\\r\\n<script>\\r\\n  (function(d, t, p) {\\r\\n  var j = d.createElement(t); j.async = true; j.type = \"text/javascript\";\\r\\n  j.src = (\"https:\" == p ? \"https:\" : \"http:\") + \"//stat.sputnik.ru/cnt.js\";\\r\\n  var s = d.getElementsByTagName(t)[0]; s.parentNode.insertBefore(j, s);\\r\\n  })(document, \"script\", document.location.protocol);\\r\\n</script>\\r\\n\\r\\n            </div>\\r\\n    </div>\\r\\n    </div>\\r\\n\\r\\n                        </div>\\r\\n                    </div>\\r\\n                </div>\\r\\n            </footer>\\r\\n        </div>\\r\\n    </div>\\r\\n\\r\\n    <script src=\"/bundles/bootstrap?v=OfX192nbUgK5NE8ftV4Ef6ToCtjUTli3wC5jn344bfM1\"></script>\\r\\n\\r\\n    \\r\\n    \\r\\n    \\r\\n</body>\\r\\n</html>\\r\\n'"
      ]
     },
     "execution_count": 14,
     "metadata": {},
     "output_type": "execute_result"
    }
   ],
   "source": [
    "response.encoding = 'utf-8' # Optional: requests infers this internally\n",
    "response.text"
   ]
  },
  {
   "cell_type": "markdown",
   "metadata": {},
   "source": [
    " <div class=\"col-md-12\">\\r\\n<div class=\"appeal-element\">\\r\\n    <div class=\"row\">\\r\\n        <div class=\"col-md-12\">\\r\\n            <p class=\"appeal-cat-title\">Розничная торговля</p>\\r\\n        </div>\\r\\n    </div>\\r\\n    <div class=\"row\">\\r\\n        <div class=\"col-md-12\">\\r\\n            <a href=\"/Forum/Appeals/Details/12781\" class=\"appeal-title-link\">\\r\\n                <span class=\"custom-underline\">\\r\\n                    Продажа брака в авто магазине.\\r\\n                </span>\\r\\n            </a>\\r\\n        </div>\\r\\n    </div>\\r\\n    <div class=\"row\">\\r\\n        <div class=\"col-md-12\">\\r\\n            <p class=\"appeal-element-bottom\"><span> Опубликовано: </span> 22.10.2019</p>\\r\\n<p class=\"appeal-element-bottom\"><span> Автор: </span> Анна</p>            <p class=\"appeal-element-bottom\"><span> Регион: </span> Белгородская область</p>        </div>\\r\\n    </div>\\r\\n</div>\\r\\n                </div>\\r\\n  "
   ]
  },
  {
   "cell_type": "code",
   "execution_count": 15,
   "metadata": {},
   "outputs": [
    {
     "ename": "SyntaxError",
     "evalue": "invalid syntax (<ipython-input-15-ddb5488dbd66>, line 1)",
     "output_type": "error",
     "traceback": [
      "\u001b[1;36m  File \u001b[1;32m\"<ipython-input-15-ddb5488dbd66>\"\u001b[1;36m, line \u001b[1;32m1\u001b[0m\n\u001b[1;33m    \" <div class=\"col-md-12\">\\r\\n<div class=\"appeal-element\">\\r\\n    <div class=\"row\">\\r\\n        <div class=\"col-md-12\">\\r\\n            <p class=\"appeal-cat-title\">Розничная торговля</p>\\r\\n        </div>\\r\\n    </div>\\r\\n    <div class=\"row\">\\r\\n        <div class=\"col-md-12\">\\r\\n            <a href=\"/Forum/Appeals/Details/12781\" class=\"appeal-title-link\">\\r\\n                <span class=\"custom-underline\">\\r\\n                    Продажа брака в авто магазине.\\r\\n                </span>\\r\\n            </a>\\r\\n        </div>\\r\\n    </div>\\r\\n    <div class=\"row\">\\r\\n        <div class=\"col-md-12\">\\r\\n            <p class=\"appeal-element-bottom\"><span> Опубликовано: </span> 22.10.2019</p>\\r\\n<p class=\"appeal-element-bottom\"><span> Автор: </span> Анна</p>            <p class=\"appeal-element-bottom\"><span> Регион: </span> Белгородская область</p>        </div>\\r\\n    </div>\\r\\n</div>\\r\\n                </div>\\r\\n  \"\u001b[0m\n\u001b[1;37m                    ^\u001b[0m\n\u001b[1;31mSyntaxError\u001b[0m\u001b[1;31m:\u001b[0m invalid syntax\n"
     ]
    }
   ],
   "source": [
    "\" <div class=\"col-md-12\">\\r\\n<div class=\"appeal-element\">\\r\\n    <div class=\"row\">\\r\\n        <div class=\"col-md-12\">\\r\\n            <p class=\"appeal-cat-title\">Розничная торговля</p>\\r\\n        </div>\\r\\n    </div>\\r\\n    <div class=\"row\">\\r\\n        <div class=\"col-md-12\">\\r\\n            <a href=\"/Forum/Appeals/Details/12781\" class=\"appeal-title-link\">\\r\\n                <span class=\"custom-underline\">\\r\\n                    Продажа брака в авто магазине.\\r\\n                </span>\\r\\n            </a>\\r\\n        </div>\\r\\n    </div>\\r\\n    <div class=\"row\">\\r\\n        <div class=\"col-md-12\">\\r\\n            <p class=\"appeal-element-bottom\"><span> Опубликовано: </span> 22.10.2019</p>\\r\\n<p class=\"appeal-element-bottom\"><span> Автор: </span> Анна</p>            <p class=\"appeal-element-bottom\"><span> Регион: </span> Белгородская область</p>        </div>\\r\\n    </div>\\r\\n</div>\\r\\n                </div>\\r\\n  \""
   ]
  },
  {
   "cell_type": "code",
   "execution_count": 16,
   "metadata": {},
   "outputs": [],
   "source": [
    "url2 = \"http://zpp.rospotrebnadzor.ru/Forum/Appeals\"\n",
    "html2 = urlopen(url2)\n",
    "soup2 = BeautifulSoup(html2, 'html')\n",
    "\n",
    "pages2 = [i.text for i in soup2.find_all('a') if '/Forum/Appeals/Details/' in str(i)]\n",
    "lastpage2 = pages2[-1]"
   ]
  },
  {
   "cell_type": "code",
   "execution_count": 17,
   "metadata": {},
   "outputs": [
    {
     "name": "stdout",
     "output_type": "stream",
     "text": [
      "\n",
      "\r\n",
      "                    Оказание мед.услуг без лицензии\r\n",
      "                \n",
      "\n"
     ]
    }
   ],
   "source": [
    "print(lastpage2)"
   ]
  },
  {
   "cell_type": "code",
   "execution_count": 18,
   "metadata": {},
   "outputs": [
    {
     "data": {
      "text/plain": [
       "<http.client.HTTPResponse at 0x21f6a5d1780>"
      ]
     },
     "execution_count": 18,
     "metadata": {},
     "output_type": "execute_result"
    }
   ],
   "source": [
    "html2"
   ]
  },
  {
   "cell_type": "code",
   "execution_count": 19,
   "metadata": {},
   "outputs": [
    {
     "data": {
      "text/plain": [
       "<!DOCTYPE html>\n",
       "<html>\n",
       "<head>\n",
       "<meta content=\"text/html; charset=utf-8\" http-equiv=\"Content-Type\"/>\n",
       "<meta charset=\"utf-8\"/>\n",
       "<meta content=\"width=device-width, initial-scale=1.0\" name=\"viewport\"/>\n",
       "<meta content=\"IE=edge\" http-equiv=\"X-UA-Compatible\"/>\n",
       "<meta name=\"description\"/>\n",
       "<meta name=\"keywords\"/>\n",
       "<meta content=\"IE=edge\" http-equiv=\"X-UA-Compatible\"/>\n",
       "<meta content=\"lH6Z9PWIRq3180Y6\" name=\"sputnik-verification\"/>\n",
       "<title>Список сообщений - Виртуальная приемная - Роспотребнадзор</title>\n",
       "<link href=\"/fonts/firasans/firasans.css\" rel=\"stylesheet\"/>\n",
       "<!--[if lt IE 9]>\n",
       "    <script src=\"http://ie7-js.googlecode.com/svn/version/2.1(beta4)/IE9.js\"></script>\n",
       "    <![endif]-->\n",
       "<link href=\"/Skin/rpn2/font/font.css\" rel=\"stylesheet\"/>\n",
       "<link href=\"/Content/font-awesome.min.css\" rel=\"stylesheet\"/>\n",
       "<link href=\"/Content/css?v=NQGD633p8LVb3M5_IWEqJHuZWbhsiDqS1PMl-WIDzL01\" rel=\"stylesheet\"/>\n",
       "<script src=\"/bundles/modernizr?v=inCVuEFe6J4Q07A0AcRsbJic_UE5MwpRMNGcOtk94TE1\"></script>\n",
       "<link href=\"/Skin/rpn2/css/Main.css?v2\" rel=\"stylesheet\"/>\n",
       "<script src=\"/bundles/jquery?v=gkWyJthHPtwkFjvHuNinBjchIfwLwc_KbE-H26J2kAI1\"></script>\n",
       "<script src=\"/Scripts/portal.js\"></script>\n",
       "<script src=\"/Skin/rpn2/js/design.js\"></script>\n",
       "</head>\n",
       "<body>\n",
       "<div id=\"mainmenu_container_short\">\n",
       "<nav class=\"navbar navbar-default\">\n",
       "<div class=\"navbar-header\">\n",
       "<button aria-expanded=\"false\" class=\"navbar-toggle collapsed\" data-target=\"#mainmenu_container_short_menu\" data-toggle=\"collapse\" type=\"button\">\n",
       "<span class=\"sr-only\">Показать</span>\n",
       "<span class=\"icon-bar\"></span>\n",
       "<span class=\"icon-bar\"></span>\n",
       "<span class=\"icon-bar\"></span>\n",
       "</button>\n",
       "<a class=\"navbar-brand\" href=\"/\">\n",
       "                    Роспотребнадзор<br/>\n",
       "<span class=\"description\">Государственный информационный ресурс в сфере защиты прав потребителей</span>\n",
       "<span class=\"description600\"><abbr title=\"Государственный информационный ресурс в сфере защиты прав потребителей\">ГИС ЗПП</abbr></span>\n",
       "</a>\n",
       "</div>\n",
       "<div class=\"collapse navbar-collapse\" id=\"mainmenu_container_short_menu\">\n",
       "<ul class=\"nav navbar-nav\"></ul>\n",
       "</div>\n",
       "</nav>\n",
       "</div>\n",
       "<div id=\"mainmenu_container\">\n",
       "<table class=\"mainmenu_block\">\n",
       "<tr>\n",
       "<td style=\"padding-right:0\">\n",
       "<a href=\"/\" id=\"logo-link2root\">\n",
       "<div><img class=\"logo\" src=\"/Skin/rpn2/assets/rpn-logo.png\"/></div>\n",
       "</a>\n",
       "</td>\n",
       "</tr>\n",
       "<tr>\n",
       "<td height=\"100%\">\n",
       "<div class=\"position position_mainmenu\">\n",
       "<div class=\"module moduletype_menu\">\n",
       "<div class=\"module_body\">\n",
       "<div>\n",
       "<ul>\n",
       "<li class=\"mmi-consumer level1\">\n",
       "<a href=\"/handbook/actual\"><span class=\"text\">Справочник потребителя</span></a>\n",
       "</li>\n",
       "<li class=\"level1\">\n",
       "<a href=\"/advices\"><span class=\"text\">Советы по здоровому питанию</span></a>\n",
       "</li>\n",
       "<li class=\"mmi-npa level1\">\n",
       "<a href=\"/npa/global\"><span class=\"text\">Нормативные правовые акты</span></a>\n",
       "</li>\n",
       "<li class=\"mmi-info level1\">\n",
       "<a href=\"/info/doclad\"><span class=\"text\">Информационно-аналитические материалы</span></a>\n",
       "</li>\n",
       "<li class=\"mmi-organizations level1\">\n",
       "<a href=\"/organizations/gos\"><span class=\"text\">Органы и организации в сфере защиты прав потребителей</span></a>\n",
       "</li>\n",
       "<li class=\"mmi-verifications level1\">\n",
       "<a href=\"/verifications\"><span class=\"text\">Результаты проверок</span></a>\n",
       "</li>\n",
       "<li class=\"mmi-badproducts level1\">\n",
       "<a href=\"/badproducts/violations\"><span class=\"text\">Продукция, не соответствующая обязательным требованиям</span></a>\n",
       "</li>\n",
       "<li class=\"mmi-adjudications level1\">\n",
       "<a href=\"/adjudications/federal\"><span class=\"text\">Судебная практика</span></a>\n",
       "</li>\n",
       "<li class=\"mmi-news level1\">\n",
       "<a href=\"/news/federal\"><span class=\"text\">Новости</span></a>\n",
       "</li>\n",
       "<li class=\"level1\">\n",
       "<a href=\"/staff\"><span class=\"text\">Для сотрудников</span></a>\n",
       "</li>\n",
       "</ul>\n",
       "</div>\n",
       "</div>\n",
       "</div>\n",
       "</div>\n",
       "</td>\n",
       "</tr>\n",
       "<tr>\n",
       "<td>\n",
       "<div class=\"search-form\" id=\"search-form\">\n",
       "<form action=\"/Search/Index\" method=\"get\">\n",
       "<div class=\"form-group input-group\">\n",
       "<input autocomplete=\"off\" class=\"form-control search-button\" id=\"autocompleteSearch\" name=\"SearchQuery\" placeholder=\"Поиск\" type=\"text\"/>\n",
       "<span class=\"input-group-btn\">\n",
       "<button class=\"btn search-button-icon\" type=\"submit\">\n",
       "<i class=\"fa fa-search\"></i>\n",
       "</button>\n",
       "</span>\n",
       "</div>\n",
       "</form>\n",
       "</div>\n",
       "</td>\n",
       "</tr>\n",
       "<tr>\n",
       "<td>\n",
       "<div class=\"mainmenu_optmenu\">\n",
       "<ul>\n",
       "<li><a href=\"/Show/Special\">Версия для слабовидящих</a></li>\n",
       "<li><a href=\"/Forum/Appeals\">Виртуальная приемная</a></li>\n",
       "</ul>\n",
       "</div>\n",
       "</td>\n",
       "</tr>\n",
       "<tr>\n",
       "<td>\n",
       "<div class=\"mainmenu_copyright\">\n",
       "                        2019<span class=\"copy\">©</span>Роспотребнадзор\n",
       "                    </div>\n",
       "</td>\n",
       "</tr>\n",
       "</table>\n",
       "</div>\n",
       "<div id=\"main_container\">\n",
       "<div>\n",
       "<div id=\"mainbody\">\n",
       "<link href=\"/Skin/rpn2/css/forum/forum-styles.css\" rel=\"stylesheet\" type=\"text/css\"/>\n",
       "<link href=\"/Skin/rpn2/css/formcomponents/components.css\" rel=\"stylesheet\" type=\"text/css\"/>\n",
       "<link href=\"/Skin/rpn2/css/formcomponents/icons/icomoon/styles.css\" rel=\"stylesheet\" type=\"text/css\"/>\n",
       "<script src=\"/Scripts/styling/blockui.min.js\" type=\"text/javascript\"></script>\n",
       "<div class=\"row\">\n",
       "<div class=\"col-md-12\">\n",
       "<h2>Виртуальная приемная</h2>\n",
       "</div>\n",
       "</div>\n",
       "<div class=\"row\">\n",
       "<div class=\"vm-20 col-md-3 col-md-push-9\">\n",
       "<div class=\"row\">\n",
       "<div class=\"col-md-12\">\n",
       "<a class=\"btn btn-lg btn-success col-md-12 btnAddAppeal\" href=\"/Forum/Appeals/AddAppeal\">Оставить сообщение</a>\n",
       "</div>\n",
       "</div>\n",
       "<div class=\"appeals-cat-list-container vm-20\">\n",
       "<div class=\"row\">\n",
       "<div class=\"col-md-12\">\n",
       "<div class=\"appeal-cat-element-title\">\n",
       "<p class=\"appeal-cat-list-title\">Категории</p>\n",
       "</div>\n",
       "</div>\n",
       "<div class=\"col-md-12\">\n",
       "<div class=\"appeal-cat-element\" data-cat-id=\"1\">\n",
       "<a href=\"#\">\n",
       "<span class=\"custom-underline\">\n",
       "                                    Розничная торговля\n",
       "                                </span>\n",
       "</a>\n",
       "</div>\n",
       "</div>\n",
       "<div class=\"col-md-12\">\n",
       "<div class=\"appeal-cat-element\" data-cat-id=\"2\">\n",
       "<a href=\"#\">\n",
       "<span class=\"custom-underline\">\n",
       "                                    Общественное питание\n",
       "                                </span>\n",
       "</a>\n",
       "</div>\n",
       "</div>\n",
       "<div class=\"col-md-12\">\n",
       "<div class=\"appeal-cat-element\" data-cat-id=\"3\">\n",
       "<a href=\"#\">\n",
       "<span class=\"custom-underline\">\n",
       "                                    Бытовое обслуживание\n",
       "                                </span>\n",
       "</a>\n",
       "</div>\n",
       "</div>\n",
       "<div class=\"col-md-12\">\n",
       "<div class=\"appeal-cat-element\" data-cat-id=\"4\">\n",
       "<a href=\"#\">\n",
       "<span class=\"custom-underline\">\n",
       "                                    Жилищно-коммунальные услуги\n",
       "                                </span>\n",
       "</a>\n",
       "</div>\n",
       "</div>\n",
       "<div class=\"col-md-12\">\n",
       "<div class=\"appeal-cat-element\" data-cat-id=\"5\">\n",
       "<a href=\"#\">\n",
       "<span class=\"custom-underline\">\n",
       "                                    Медицинские услуги\n",
       "                                </span>\n",
       "</a>\n",
       "</div>\n",
       "</div>\n",
       "<div class=\"col-md-12\">\n",
       "<div class=\"appeal-cat-element\" data-cat-id=\"6\">\n",
       "<a href=\"#\">\n",
       "<span class=\"custom-underline\">\n",
       "                                    Транспортные услуги\n",
       "                                </span>\n",
       "</a>\n",
       "</div>\n",
       "</div>\n",
       "<div class=\"col-md-12\">\n",
       "<div class=\"appeal-cat-element\" data-cat-id=\"7\">\n",
       "<a href=\"#\">\n",
       "<span class=\"custom-underline\">\n",
       "                                    Образовательные услуги\n",
       "                                </span>\n",
       "</a>\n",
       "</div>\n",
       "</div>\n",
       "<div class=\"col-md-12\">\n",
       "<div class=\"appeal-cat-element\" data-cat-id=\"8\">\n",
       "<a href=\"#\">\n",
       "<span class=\"custom-underline\">\n",
       "                                    Финансовые услуги\n",
       "                                </span>\n",
       "</a>\n",
       "</div>\n",
       "</div>\n",
       "<div class=\"col-md-12\">\n",
       "<div class=\"appeal-cat-element\" data-cat-id=\"9\">\n",
       "<a href=\"#\">\n",
       "<span class=\"custom-underline\">\n",
       "                                    Услуги связи\n",
       "                                </span>\n",
       "</a>\n",
       "</div>\n",
       "</div>\n",
       "<div class=\"col-md-12\">\n",
       "<div class=\"appeal-cat-element\" data-cat-id=\"10\">\n",
       "<a href=\"#\">\n",
       "<span class=\"custom-underline\">\n",
       "                                    Туристские услуги\n",
       "                                </span>\n",
       "</a>\n",
       "</div>\n",
       "</div>\n",
       "<div class=\"col-md-12\">\n",
       "<div class=\"appeal-cat-element\" data-cat-id=\"11\">\n",
       "<a href=\"#\">\n",
       "<span class=\"custom-underline\">\n",
       "                                    Прочие виды деятельности\n",
       "                                </span>\n",
       "</a>\n",
       "</div>\n",
       "</div>\n",
       "</div>\n",
       "</div>\n",
       "</div>\n",
       "<div class=\"vm-20 col-md-9 col-md-pull-3\" id=\"appeals-list\">\n",
       "<div id=\"list-overlay\"></div>\n",
       "<div class=\"appeals-list-container\">\n",
       "<div class=\"row\">\n",
       "<div class=\"col-lg-12\">\n",
       "<form onsubmit=\"SubmitForm(this)\">\n",
       "<div class=\"input-group\">\n",
       "<input autocomplete=\"off\" class=\"form-control\" id=\"SearchText\" name=\"SearchText\" placeholder=\"Введите фразу для поиска...\" type=\"text\" value=\"\"/>\n",
       "<span class=\"input-group-btn appeal-search-custom-btn\">\n",
       "<button class=\"btn btn-default\" type=\"button\">\n",
       "                            Найти\n",
       "                        </button>\n",
       "</span>\n",
       "</div>\n",
       "</form>\n",
       "</div>\n",
       "</div>\n",
       "<div class=\"row\">\n",
       "<div class=\"col-md-12\">\n",
       "<div class=\"appeal-element\">\n",
       "<div class=\"row\">\n",
       "<div class=\"col-md-12\">\n",
       "<p class=\"appeal-cat-title\">Розничная торговля</p>\n",
       "</div>\n",
       "</div>\n",
       "<div class=\"row\">\n",
       "<div class=\"col-md-12\">\n",
       "<a class=\"appeal-title-link\" href=\"/Forum/Appeals/Details/12781\">\n",
       "<span class=\"custom-underline\">\n",
       "                    Продажа брака в авто магазине.\n",
       "                </span>\n",
       "</a>\n",
       "</div>\n",
       "</div>\n",
       "<div class=\"row\">\n",
       "<div class=\"col-md-12\">\n",
       "<p class=\"appeal-element-bottom\"><span> Опубликовано: </span> 22.10.2019</p>\n",
       "<p class=\"appeal-element-bottom\"><span> Автор: </span> Анна</p> <p class=\"appeal-element-bottom\"><span> Регион: </span> Белгородская область</p> </div>\n",
       "</div>\n",
       "</div>\n",
       "</div>\n",
       "<div class=\"col-md-12\">\n",
       "<div class=\"appeal-element\">\n",
       "<div class=\"row\">\n",
       "<div class=\"col-md-12\">\n",
       "<p class=\"appeal-cat-title\">Розничная торговля</p>\n",
       "</div>\n",
       "</div>\n",
       "<div class=\"row\">\n",
       "<div class=\"col-md-12\">\n",
       "<a class=\"appeal-title-link\" href=\"/Forum/Appeals/Details/12780\">\n",
       "<span class=\"custom-underline\">\n",
       "                    Мошенники\n",
       "                </span>\n",
       "</a>\n",
       "</div>\n",
       "</div>\n",
       "<div class=\"row\">\n",
       "<div class=\"col-md-12\">\n",
       "<p class=\"appeal-element-bottom\"><span> Опубликовано: </span> 22.10.2019</p>\n",
       "<p class=\"appeal-element-bottom\"><span> Автор: </span> Татьяна </p> <p class=\"appeal-element-bottom\"><span> Регион: </span> Ленинградская область</p> </div>\n",
       "</div>\n",
       "</div>\n",
       "</div>\n",
       "<div class=\"col-md-12\">\n",
       "<div class=\"appeal-element\">\n",
       "<div class=\"row\">\n",
       "<div class=\"col-md-12\">\n",
       "<p class=\"appeal-cat-title\">Розничная торговля</p>\n",
       "</div>\n",
       "</div>\n",
       "<div class=\"row\">\n",
       "<div class=\"col-md-12\">\n",
       "<a class=\"appeal-title-link\" href=\"/Forum/Appeals/Details/12775\">\n",
       "<span class=\"custom-underline\">\n",
       "                    Здравствуйте! Возможно ли обменять наушники, флешку и колонку, если не подошли?\n",
       "                </span>\n",
       "</a>\n",
       "</div>\n",
       "</div>\n",
       "<div class=\"row\">\n",
       "<div class=\"col-md-12\">\n",
       "<p class=\"appeal-element-bottom\"><span> Опубликовано: </span> 22.10.2019</p>\n",
       "<p class=\"appeal-element-bottom\"><span> Автор: </span> Светлана</p> <p class=\"appeal-element-bottom\"><span> Регион: </span> Республика Башкортостан</p> </div>\n",
       "</div>\n",
       "</div>\n",
       "</div>\n",
       "<div class=\"col-md-12\">\n",
       "<div class=\"appeal-element\">\n",
       "<div class=\"row\">\n",
       "<div class=\"col-md-12\">\n",
       "<p class=\"appeal-cat-title\">Розничная торговля</p>\n",
       "</div>\n",
       "</div>\n",
       "<div class=\"row\">\n",
       "<div class=\"col-md-12\">\n",
       "<a class=\"appeal-title-link\" href=\"/Forum/Appeals/Details/12774\">\n",
       "<span class=\"custom-underline\">\n",
       "                    Обман при продаже обуви.\n",
       "                </span>\n",
       "</a>\n",
       "</div>\n",
       "</div>\n",
       "<div class=\"row\">\n",
       "<div class=\"col-md-12\">\n",
       "<p class=\"appeal-element-bottom\"><span> Опубликовано: </span> 22.10.2019</p>\n",
       "<p class=\"appeal-element-bottom\"><span> Автор: </span> Юлия </p> <p class=\"appeal-element-bottom\"><span> Регион: </span> Нижегородская область</p> </div>\n",
       "</div>\n",
       "</div>\n",
       "</div>\n",
       "<div class=\"col-md-12\">\n",
       "<div class=\"appeal-element\">\n",
       "<div class=\"row\">\n",
       "<div class=\"col-md-12\">\n",
       "<p class=\"appeal-cat-title\">Медицинские услуги</p>\n",
       "</div>\n",
       "</div>\n",
       "<div class=\"row\">\n",
       "<div class=\"col-md-12\">\n",
       "<a class=\"appeal-title-link\" href=\"/Forum/Appeals/Details/12769\">\n",
       "<span class=\"custom-underline\">\n",
       "                    Оказание мед.услуг без лицензии\n",
       "                </span>\n",
       "</a>\n",
       "</div>\n",
       "</div>\n",
       "<div class=\"row\">\n",
       "<div class=\"col-md-12\">\n",
       "<p class=\"appeal-element-bottom\"><span> Опубликовано: </span> 22.10.2019</p>\n",
       "<p class=\"appeal-element-bottom\"><span> Автор: </span> Екатерина</p> <p class=\"appeal-element-bottom\"><span> Регион: </span> Новосибирская область</p> </div>\n",
       "</div>\n",
       "</div>\n",
       "</div>\n",
       "</div>\n",
       "</div>\n",
       "<div class=\"row\">\n",
       "<div class=\"col-md-12\">\n",
       "<input id=\"appeals-list-number-of-pages\" type=\"hidden\" value=\"2033\"/>\n",
       "<ul class=\"pagination custom-pager\">\n",
       "<li class=\"custom-pager-prev disabled\">\n",
       "<a aria-label=\"Previous\" onclick=\"PagerPrevClick()\">\n",
       "<span aria-hidden=\"true\">Предыдущая</span>\n",
       "</a>\n",
       "</li>\n",
       "<li class=\"active pager-link\">\n",
       "<a><span class=\"\">1</span></a>\n",
       "</li>\n",
       "<li class=\"pager-link\">\n",
       "<a class=\"page-number\" onclick=\"PagerClick(this)\">2</a>\n",
       "</li>\n",
       "<li class=\"pager-link\">\n",
       "<a class=\"page-number\" onclick=\"PagerClick(this)\">3</a>\n",
       "</li>\n",
       "<li class=\"pager-link\">...</li>\n",
       "<li class=\"pager-link\">\n",
       "<a class=\"page-number\" onclick=\"PagerClick(this)\">2032</a>\n",
       "</li>\n",
       "<li class=\"pager-link\">\n",
       "<a class=\"page-number\" onclick=\"PagerClick(this)\">2033</a>\n",
       "</li>\n",
       "<li class=\"custom-pager-next\">\n",
       "<a aria-label=\"Next\" onclick=\"PagerNextClick()\">\n",
       "<span aria-hidden=\"true\">Следующая</span>\n",
       "</a>\n",
       "</li>\n",
       "<li class=\"pull-right\">\n",
       "<input aria-describedby=\"pagerCustomPageAddon\" class=\"form-control pull-left\" id=\"pagerCustomPage\" style=\"width:60px;\" title=\"Номер страницы для перехода\" type=\"text\" value=\"1\"/>\n",
       "<button class=\"btn btn-default pull-left\" id=\"pagerCustomPageAddon\" onclick=\"PagerGoPage(document.getElementById('pagerCustomPage').value)\" title=\"Перейти на страницу\" type=\"button\"><i aria-hidden=\"true\" class=\"fa fa-indent\"></i><span class=\"sr-only\">Перейти</span></button>\n",
       "          \n",
       "    </li>\n",
       "</ul>\n",
       "</div>\n",
       "</div>\n",
       "</div>\n",
       "</div>\n",
       "<script type=\"text/javascript\">\n",
       "\n",
       "    var currentPage = 1;\n",
       "    var pageCount = 2033;\n",
       "\n",
       "    $(document).ready(function() {\n",
       "        $(\".appeal-cat-element\").click(function() {\n",
       "            $(this).toggleClass(\"selected\");\n",
       "            updateAppealsList(1, GetSearchText(), GetCategories());\n",
       "            return false;\n",
       "        });\n",
       "    });\n",
       "\n",
       "    function GetCategories() {\n",
       "        var categoriesarr = new Array();\n",
       "        $(\".appeal-cat-element\").each(function(index) {\n",
       "            if ($(this).hasClass(\"selected\")) {\n",
       "                categoriesarr.push($(this).attr(\"data-cat-id\"));\n",
       "            }\n",
       "        });\n",
       "        return categoriesarr;\n",
       "    }\n",
       "\n",
       "    function GetSearchText() {\n",
       "        return $(\"#SearchText\").val();\n",
       "    }\n",
       "\n",
       "    function PagerClick(obj) {\n",
       "        var page = parseInt($(obj).html());\n",
       "        updateAppealsList(page, GetSearchText(), GetCategories());\n",
       "    }\n",
       "\n",
       "    function PagerGoPage(page) {\n",
       "        updateAppealsList(parseInt(page), GetSearchText(), GetCategories());\n",
       "    }\n",
       "\n",
       "    function PagerPrevClick() {\n",
       "        if (currentPage <= 1 || pageCount <= 1) {\n",
       "            return;\n",
       "        } else {\n",
       "            updateAppealsList(currentPage - 1, GetSearchText(), GetCategories());\n",
       "        }\n",
       "\n",
       "    }\n",
       "\n",
       "    function PagerNextClick() {\n",
       "        if (currentPage >= pageCount || pageCount <= 1) {\n",
       "            return;\n",
       "        } else {\n",
       "            updateAppealsList(currentPage + 1, GetSearchText(), GetCategories());\n",
       "        }\n",
       "    }\n",
       "\n",
       "    function updateAppealsList(page, searchString, categoriesarr) {\n",
       "        $(\"#list-overlay\").show();\n",
       "\n",
       "        $.ajax({\n",
       "            url: '/Forum/Appeals/AjaxindexList',\n",
       "            data: {\n",
       "                page: page,\n",
       "                searchtext: searchString,\n",
       "                categories: JSON.stringify(categoriesarr)\n",
       "            },\n",
       "            beforeSend: function() {\n",
       "            },\n",
       "            success: function(data) {\n",
       "                $(\"#appeals-list\").html(data);\n",
       "                currentPage = page;\n",
       "                pageCount = parseInt($(\"#appeals-list-number-of-pages\").val());\n",
       "            }\n",
       "        });\n",
       "    }\n",
       "\n",
       "    function SubmitForm(obj) {\n",
       "        updateAppealsList(1, GetSearchText(), GetCategories());\n",
       "        event.preventDefault();\n",
       "        return false;\n",
       "    }\n",
       "\n",
       "    function AcceptAppeal(obj, state) {\n",
       "        //event.preventDefault();\n",
       "        var appealid = parseInt($(obj).parent().parent().parent('.appeal-element').attr('data-appeal-id'));\n",
       "\n",
       "        $.ajax({\n",
       "            url: '/Forum/Appeals/AcceptAppeal',\n",
       "            data: {\n",
       "                appealId: appealid,\n",
       "                accept: state\n",
       "            },\n",
       "            success: function(data) {\n",
       "                $(\"[data-appeal-id='\" + data.retAppealId + \"']\").first().parent().html(data.html);\n",
       "            }\n",
       "        });\n",
       "        return false;\n",
       "    }\n",
       "\n",
       "    function DeleteAppeal(obj) {\n",
       "        //event.preventDefault();\n",
       "        var appealid = parseInt($(obj).parent().parent().parent('.appeal-element').attr('data-appeal-id'));\n",
       "\n",
       "        if (confirm('Точно удалить сообщение (сообщение будет удалено безвозвратно) ?')) {\n",
       "            $.ajax({\n",
       "                url: '/Forum/Appeals/DeleteAppeal',\n",
       "                data: {\n",
       "                    appealId: appealid\n",
       "                    \n",
       "                },\n",
       "                success: function(data) {\n",
       "                    $(\"[data-appeal-id='\" + data.retAppealId + \"']\").first().parent().html(\"\");\n",
       "                }\n",
       "            });\n",
       "        }\n",
       "        return false;\n",
       "    }\n",
       "\n",
       "</script></div>\n",
       "<footer>\n",
       "<div class=\"container-fluid\">\n",
       "<div id=\"bottom\">\n",
       "<div class=\"text-center bottom-extlinks\">\n",
       "<a href=\"http://www.kremlin.ru/\">\n",
       "<div class=\"img-container\"><img src=\"/Skin/rpn/images/footerLinks2/prezident.png\"/></div>\n",
       "<span class=\"img-description\">Президент России</span>\n",
       "</a>\n",
       "<a href=\"http://government.ru/\">\n",
       "<div class=\"img-container\"><img src=\"/Skin/rpn/images/footerLinks2/gov.png\"/></div>\n",
       "<span class=\"img-description\">Правительство России</span>\n",
       "</a>\n",
       "<a href=\"http://rospotrebnadzor.ru/\">\n",
       "<div class=\"img-container\"><img src=\"/Skin/rpn/images/footerLinks2/Rospotreb.png\"/></div>\n",
       "<span class=\"img-description\">Роспотребнадзор</span>\n",
       "</a>\n",
       "<a href=\"http://open.gov.ru/\">\n",
       "<div class=\"img-container\"><img src=\"/Skin/rpn/images/footerLinks2/open.png\"/></div>\n",
       "<span class=\"img-description\">Открытое Правительство</span>\n",
       "</a>\n",
       "<a href=\"http://www.gosuslugi.ru/\">\n",
       "<div class=\"img-container\"><img src=\"/Skin/rpn/images/footerLinks2/gosuslugi.png\"/></div>\n",
       "<span class=\"img-description\">Госуслуги</span>\n",
       "</a>\n",
       "<a href=\"http://fcgie.ru/\">\n",
       "<div class=\"img-container\"><img src=\"/Skin/rpn/images/footerLinks2/fcgie.png\"/></div>\n",
       "<span class=\"img-description\">ФБУЗ ФЦГиЭ</span>\n",
       "</a>\n",
       "</div>\n",
       "</div>\n",
       "</div>\n",
       "<div class=\"container-fluid\">\n",
       "<div id=\"copyright\">\n",
       "<div class=\"pull-left copyright-text\">\n",
       "                            Пожелания и предложения по работе портала ГИС ЗПП просим направлять на адрес <a href=\"mailto:zpp@gsen.ru\">zpp@gsen.ru</a>\n",
       "</div>\n",
       "<div class=\"pull-right counters\">\n",
       "<div class=\"position position_counters\">\n",
       "<div class=\"module moduletype_html\">\n",
       "<div class=\"module_body\">\n",
       "<div style=\"width:1px;height:1px;overflow:hidden\">\n",
       "<!--LiveInternet counter--><script type=\"text/javascript\">\n",
       "document.write(\"<a href='//www.liveinternet.ru/click' \"+\n",
       "\"target=_blank><img style=src='//counter.yadro.ru/hit?t44.6;r\"+\n",
       "escape(document.referrer)+((typeof(screen)==\"undefined\")?\"\":\n",
       "\";s\"+screen.width+\"*\"+screen.height+\"*\"+(screen.colorDepth?\n",
       "screen.colorDepth:screen.pixelDepth))+\";u\"+escape(document.URL)+\n",
       "\";h\"+escape(document.title.substring(0,80))+\";\"+Math.random()+\n",
       "\"' alt='' title='LiveInternet' \"+\n",
       "\"border='0' width='31' height='31'><\\/a>\")\n",
       "</script><!--/LiveInternet-->\n",
       "</div>\n",
       "<script>\n",
       "  (function(d, t, p) {\n",
       "  var j = d.createElement(t); j.async = true; j.type = \"text/javascript\";\n",
       "  j.src = (\"https:\" == p ? \"https:\" : \"http:\") + \"//stat.sputnik.ru/cnt.js\";\n",
       "  var s = d.getElementsByTagName(t)[0]; s.parentNode.insertBefore(j, s);\n",
       "  })(document, \"script\", document.location.protocol);\n",
       "</script>\n",
       "</div>\n",
       "</div>\n",
       "</div>\n",
       "</div>\n",
       "</div>\n",
       "</div>\n",
       "</footer>\n",
       "</div>\n",
       "</div>\n",
       "<script src=\"/bundles/bootstrap?v=OfX192nbUgK5NE8ftV4Ef6ToCtjUTli3wC5jn344bfM1\"></script>\n",
       "</body>\n",
       "</html>"
      ]
     },
     "execution_count": 19,
     "metadata": {},
     "output_type": "execute_result"
    }
   ],
   "source": [
    "soup2"
   ]
  },
  {
   "cell_type": "code",
   "execution_count": 20,
   "metadata": {},
   "outputs": [
    {
     "data": {
      "text/plain": [
       "['\\n\\r\\n                    Продажа брака в авто магазине.\\r\\n                \\n',\n",
       " '\\n\\r\\n                    Мошенники\\r\\n                \\n',\n",
       " '\\n\\r\\n                    Здравствуйте! Возможно ли обменять наушники, флешку и колонку, если не подошли?\\r\\n                \\n',\n",
       " '\\n\\r\\n                    Обман при продаже обуви.\\r\\n                \\n',\n",
       " '\\n\\r\\n                    Оказание мед.услуг без лицензии\\r\\n                \\n']"
      ]
     },
     "execution_count": 20,
     "metadata": {},
     "output_type": "execute_result"
    }
   ],
   "source": [
    "pages2"
   ]
  },
  {
   "cell_type": "markdown",
   "metadata": {},
   "source": [
    "var currentPage = 1;\n",
    "    var pageCount = 2033;"
   ]
  },
  {
   "cell_type": "code",
   "execution_count": 2,
   "metadata": {},
   "outputs": [],
   "source": [
    "description=[]\n",
    "upvote=[]\n",
    "author=[]\n",
    "publishdate=[]\n",
    "title=[]"
   ]
  },
  {
   "cell_type": "code",
   "execution_count": 28,
   "metadata": {},
   "outputs": [
    {
     "name": "stdout",
     "output_type": "stream",
     "text": [
      "Done!\n"
     ]
    }
   ],
   "source": [
    "for cp in np.arange(1,int(lastpage)+1):\n",
    "    url = \"https://www.datacamp.com/community/tutorials?page=\" + str(cp)\n",
    "    html = urlopen(url)\n",
    "    soup = BeautifulSoup(html, 'html')\n",
    "    description.append([i.text for i in soup.find_all(class_='jsx-379356511 blocText description')])\n",
    "    upvote.append([i.text for i in soup.find_all(class_='jsx-4192737526 voted')])\n",
    "    author.append([i.text for i in soup.find_all(class_='jsx-566588255 name')])\n",
    "    publishdate.append([i.text for i in soup.find_all(class_='jsx-566588255 date')])\n",
    "    title.append([i.text for i in soup.find_all(class_='jsx-379356511 blue')])\n",
    "    time.sleep(3)\n",
    "print (\"Done!\")"
   ]
  },
  {
   "cell_type": "markdown",
   "metadata": {},
   "source": [
    "Set the url to a variable\n",
    "Opened the url using urlopen which was imported earlier\n",
    "Scraped the specified page and assigned it to soup variable\n",
    "Identified and extracted values for Description, Up Vote, Author, Publish Date, Title by using their relevant class names. These class names were found using Developer Tools\n",
    "The time function has been used to be easy on the website this time :)"
   ]
  },
  {
   "cell_type": "code",
   "execution_count": 29,
   "metadata": {},
   "outputs": [],
   "source": [
    "#Flattening List of Lists\n",
    "descriptionflat = [y for x in description for y in x]\n",
    "upvoteflat = [y for x in upvote for y in x]\n",
    "authorflat = [y for x in author for y in x]\n",
    "publishdateflat = [y for x in publishdate for y in x]\n",
    "titleflat = [y for x in title for y in x]\n",
    "publishdateformatted = [datetime.strptime(re.sub('rd, ', ', ', re.sub('st, ', ', ', re.sub('nd, ', ', ', re.sub('th, ',', ',a)))), \"%B %d, %Y\") for a in publishdateflat]"
   ]
  },
  {
   "cell_type": "code",
   "execution_count": 35,
   "metadata": {},
   "outputs": [],
   "source": [
    "lst = [descriptionflat, upvoteflat, authorflat, publishdateformatted, titleflat]\n",
    "lengths_of_data = [len(i) for i in lst]"
   ]
  },
  {
   "cell_type": "code",
   "execution_count": 36,
   "metadata": {},
   "outputs": [
    {
     "name": "stdout",
     "output_type": "stream",
     "text": [
      "[348, 0, 348, 348, 348]\n"
     ]
    }
   ],
   "source": [
    "print(lengths_of_data)"
   ]
  },
  {
   "cell_type": "code",
   "execution_count": 37,
   "metadata": {},
   "outputs": [],
   "source": [
    "#Making a Data Frame and Saving as CSV File\n",
    "cdata = {\"author\":authorflat,\"publishdate\":publishdateformatted,\"title\":titleflat,\"description\":descriptionflat}\n",
    "df = pd.DataFrame(data = cdata)\n",
    "df.to_csv(\"datacamp241019.csv\", header=True, index=False)"
   ]
  },
  {
   "cell_type": "code",
   "execution_count": 38,
   "metadata": {},
   "outputs": [],
   "source": [
    "datacamp = pd.read_csv(\"datacamp241019.csv\", parse_dates=[\"publishdate\"], infer_datetime_format=True)"
   ]
  },
  {
   "cell_type": "code",
   "execution_count": 39,
   "metadata": {},
   "outputs": [
    {
     "data": {
      "text/plain": [
       "(348, 4)"
      ]
     },
     "execution_count": 39,
     "metadata": {},
     "output_type": "execute_result"
    }
   ],
   "source": [
    "datacamp.shape"
   ]
  },
  {
   "cell_type": "code",
   "execution_count": 40,
   "metadata": {},
   "outputs": [
    {
     "data": {
      "text/html": [
       "<div>\n",
       "<style scoped>\n",
       "    .dataframe tbody tr th:only-of-type {\n",
       "        vertical-align: middle;\n",
       "    }\n",
       "\n",
       "    .dataframe tbody tr th {\n",
       "        vertical-align: top;\n",
       "    }\n",
       "\n",
       "    .dataframe thead th {\n",
       "        text-align: right;\n",
       "    }\n",
       "</style>\n",
       "<table border=\"1\" class=\"dataframe\">\n",
       "  <thead>\n",
       "    <tr style=\"text-align: right;\">\n",
       "      <th></th>\n",
       "      <th>author</th>\n",
       "      <th>publishdate</th>\n",
       "      <th>title</th>\n",
       "      <th>description</th>\n",
       "    </tr>\n",
       "  </thead>\n",
       "  <tbody>\n",
       "    <tr>\n",
       "      <th>0</th>\n",
       "      <td>Aditya Sharma</td>\n",
       "      <td>2019-10-22</td>\n",
       "      <td>Scala Classes and Objects</td>\n",
       "      <td>In this tutorial, you will learn about the fun...</td>\n",
       "    </tr>\n",
       "    <tr>\n",
       "      <th>1</th>\n",
       "      <td>Olivia Smith</td>\n",
       "      <td>2019-10-22</td>\n",
       "      <td>Variables in Scala</td>\n",
       "      <td>Learn about Scala's variables, rules for defin...</td>\n",
       "    </tr>\n",
       "    <tr>\n",
       "      <th>2</th>\n",
       "      <td>Aditya Sharma</td>\n",
       "      <td>2019-10-04</td>\n",
       "      <td>Lists in Scala</td>\n",
       "      <td>Learn what lists are and how they can be lever...</td>\n",
       "    </tr>\n",
       "    <tr>\n",
       "      <th>3</th>\n",
       "      <td>Francisco  Javier Carrera Arias</td>\n",
       "      <td>2019-10-03</td>\n",
       "      <td>Building Data Pipelines using R</td>\n",
       "      <td>Learn how to transform and load (ETL)  a data ...</td>\n",
       "    </tr>\n",
       "    <tr>\n",
       "      <th>4</th>\n",
       "      <td>Aditya Sharma</td>\n",
       "      <td>2019-09-20</td>\n",
       "      <td>Operators in Scala</td>\n",
       "      <td>Learn about the different operators used in th...</td>\n",
       "    </tr>\n",
       "  </tbody>\n",
       "</table>\n",
       "</div>"
      ],
      "text/plain": [
       "                            author publishdate  \\\n",
       "0                    Aditya Sharma  2019-10-22   \n",
       "1                     Olivia Smith  2019-10-22   \n",
       "2                    Aditya Sharma  2019-10-04   \n",
       "3  Francisco  Javier Carrera Arias  2019-10-03   \n",
       "4                    Aditya Sharma  2019-09-20   \n",
       "\n",
       "                             title  \\\n",
       "0        Scala Classes and Objects   \n",
       "1               Variables in Scala   \n",
       "2                   Lists in Scala   \n",
       "3  Building Data Pipelines using R   \n",
       "4               Operators in Scala   \n",
       "\n",
       "                                         description  \n",
       "0  In this tutorial, you will learn about the fun...  \n",
       "1  Learn about Scala's variables, rules for defin...  \n",
       "2  Learn what lists are and how they can be lever...  \n",
       "3  Learn how to transform and load (ETL)  a data ...  \n",
       "4  Learn about the different operators used in th...  "
      ]
     },
     "execution_count": 40,
     "metadata": {},
     "output_type": "execute_result"
    }
   ],
   "source": [
    "datacamp.head()"
   ]
  },
  {
   "cell_type": "code",
   "execution_count": 41,
   "metadata": {},
   "outputs": [],
   "source": [
    "datacamp['publishyymm'] = datacamp['publishdate'].dt.strftime(\"%Y-%b\")\n",
    "datacamp[\"posts\"] = 1"
   ]
  },
  {
   "cell_type": "code",
   "execution_count": 42,
   "metadata": {},
   "outputs": [
    {
     "data": {
      "text/plain": [
       "<matplotlib.axes._subplots.AxesSubplot at 0x21f6bcef4a8>"
      ]
     },
     "execution_count": 42,
     "metadata": {},
     "output_type": "execute_result"
    },
    {
     "data": {
      "image/png": "[encoded data removed]",
      "text/plain": [
       "<Figure size 1080x504 with 1 Axes>"
      ]
     },
     "metadata": {
      "needs_background": "light"
     },
     "output_type": "display_data"
    }
   ],
   "source": [
    "datacamp.groupby([datacamp['publishdate'].dt.year, datacamp['publishdate'].dt.month]).size().plot(kind='bar', figsize=(15,7), color='b')"
   ]
  },
  {
   "cell_type": "code",
   "execution_count": 43,
   "metadata": {},
   "outputs": [
    {
     "data": {
      "text/plain": [
       "<matplotlib.axes._subplots.AxesSubplot at 0x21f6c7926d8>"
      ]
     },
     "execution_count": 43,
     "metadata": {},
     "output_type": "execute_result"
    },
    {
     "data": {
      "image/png": "[encoded data removed]",
      "text/plain": [
       "<Figure size 1080x504 with 1 Axes>"
      ]
     },
     "metadata": {
      "needs_background": "light"
     },
     "output_type": "display_data"
    }
   ],
   "source": [
    "datacamp[datacamp[\"publishdate\"]>='2017-01-01'].sort_values(by=\"publishdate\", ascending=True).groupby([datacamp['publishyymm']],sort=False).size().plot(kind='bar', figsize=(15,7), color='b')"
   ]
  },
  {
   "cell_type": "code",
   "execution_count": 44,
   "metadata": {},
   "outputs": [
    {
     "data": {
      "text/plain": [
       "<matplotlib.axes._subplots.AxesSubplot at 0x21f6c939860>"
      ]
     },
     "execution_count": 44,
     "metadata": {},
     "output_type": "execute_result"
    },
    {
     "data": {
      "image/png": "[encoded data removed]",
      "text/plain": [
       "<Figure size 432x288 with 1 Axes>"
      ]
     },
     "metadata": {
      "needs_background": "light"
     },
     "output_type": "display_data"
    }
   ],
   "source": [
    "datacamp[datacamp[\"publishdate\"]>='2017-01-01'][\"author\"].value_counts(sort=True, ascending=False)[:10].plot(kind='bar')"
   ]
  },
  {
   "cell_type": "code",
   "execution_count": 58,
   "metadata": {},
   "outputs": [],
   "source": [
    "topauthors = datacamp[datacamp[\"publishdate\"]>='2017-01-01'][\"author\"].value_counts(sort=True, ascending=False)[:10].index"
   ]
  },
  {
   "cell_type": "code",
   "execution_count": 65,
   "metadata": {},
   "outputs": [],
   "source": [
    "#Tutorials Paced over Timeline\n",
    "dh = datacamp[datacamp[\"publishdate\"]>='2017-01-01'].sort_values(by=\"publishdate\", ascending=True).set_index(\"publishdate\", drop=False)"
   ]
  },
  {
   "cell_type": "code",
   "execution_count": 66,
   "metadata": {},
   "outputs": [
    {
     "data": {
      "text/plain": [
       "Index(['author', 'publishdate', 'title', 'description', 'publishyymm',\n",
       "       'posts'],\n",
       "      dtype='object')"
      ]
     },
     "execution_count": 66,
     "metadata": {},
     "output_type": "execute_result"
    }
   ],
   "source": [
    "dh.columns"
   ]
  },
  {
   "cell_type": "code",
   "execution_count": 67,
   "metadata": {},
   "outputs": [],
   "source": [
    "dh[\"publishdateone\"] = pd.to_datetime(dh.publishdate.astype(str).str[0:7]+'-01')"
   ]
  },
  {
   "cell_type": "code",
   "execution_count": 68,
   "metadata": {},
   "outputs": [
    {
     "data": {
      "image/png": "[encoded data removed]",
      "text/plain": [
       "<Figure size 1080x504 with 1 Axes>"
      ]
     },
     "metadata": {
      "needs_background": "light"
     },
     "output_type": "display_data"
    }
   ],
   "source": [
    "dhp = dh[dh[\"author\"].isin(topauthors)].pivot_table(index=\"publishdateone\",values=\"posts\",columns=\"author\", aggfunc=np.sum)\n",
    "fig, ax = plt.subplots(figsize=(15,7))\n",
    "dhp.plot(ax=ax, kind='bar', stacked=True)\n",
    "ticklabels = [item.strftime('%Y %b') for item in dhp.index]\n",
    "ax.xaxis.set_major_formatter(ticker.FixedFormatter(ticklabels))\n"
   ]
  },
  {
   "cell_type": "code",
   "execution_count": 3,
   "metadata": {},
   "outputs": [],
   "source": [
    "url3 = 'http://zpp.rospotrebnadzor.ru/Forum/Appeals/AjaxindexList?page=1&searchtext=&categories=%5B%5D'\n",
    "html3 = urlopen(url3)\n",
    "soup3 = BeautifulSoup(html3, 'html')\n"
   ]
  },
  {
   "cell_type": "code",
   "execution_count": 4,
   "metadata": {},
   "outputs": [
    {
     "data": {
      "text/plain": [
       "['2', '3', '2035', '2036']"
      ]
     },
     "execution_count": 4,
     "metadata": {},
     "output_type": "execute_result"
    }
   ],
   "source": [
    "pages3 = [i.text for i in soup3.find_all(class_='page-number')]\n",
    "pages3"
   ]
  },
  {
   "cell_type": "code",
   "execution_count": 5,
   "metadata": {},
   "outputs": [
    {
     "data": {
      "text/plain": [
       "'2036'"
      ]
     },
     "execution_count": 5,
     "metadata": {},
     "output_type": "execute_result"
    }
   ],
   "source": [
    "lastpage3 = pages3[-1]\n",
    "lastpage3"
   ]
  },
  {
   "cell_type": "code",
   "execution_count": 6,
   "metadata": {},
   "outputs": [
    {
     "data": {
      "text/plain": [
       "<html><body><div id=\"list-overlay\"></div>\n",
       "<div class=\"appeals-list-container\">\n",
       "<div class=\"row\">\n",
       "<div class=\"col-lg-12\">\n",
       "<form onsubmit=\"SubmitForm(this)\">\n",
       "<div class=\"input-group\">\n",
       "<input autocomplete=\"off\" class=\"form-control\" id=\"SearchText\" name=\"SearchText\" placeholder=\"Введите фразу для поиска...\" type=\"text\" value=\"\"/>\n",
       "<span class=\"input-group-btn appeal-search-custom-btn\">\n",
       "<button class=\"btn btn-default\" type=\"button\">\n",
       "                            Найти\n",
       "                        </button>\n",
       "</span>\n",
       "</div>\n",
       "</form>\n",
       "</div>\n",
       "</div>\n",
       "<div class=\"row\">\n",
       "<div class=\"col-md-12\">\n",
       "<div class=\"appeal-element\">\n",
       "<div class=\"row\">\n",
       "<div class=\"col-md-12\">\n",
       "<p class=\"appeal-cat-title\">Розничная торговля</p>\n",
       "</div>\n",
       "</div>\n",
       "<div class=\"row\">\n",
       "<div class=\"col-md-12\">\n",
       "<a class=\"appeal-title-link\" href=\"/Forum/Appeals/Details/12851\">\n",
       "<span class=\"custom-underline\">\n",
       "                    Возврат товара\n",
       "                </span>\n",
       "</a>\n",
       "</div>\n",
       "</div>\n",
       "<div class=\"row\">\n",
       "<div class=\"col-md-12\">\n",
       "<p class=\"appeal-element-bottom\"><span> Опубликовано: </span> 28.10.2019</p>\n",
       "<p class=\"appeal-element-bottom\"><span> Автор: </span> Ирина</p> <p class=\"appeal-element-bottom\"><span> Регион: </span> Республика Башкортостан</p> </div>\n",
       "</div>\n",
       "</div>\n",
       "</div>\n",
       "<div class=\"col-md-12\">\n",
       "<div class=\"appeal-element\">\n",
       "<div class=\"row\">\n",
       "<div class=\"col-md-12\">\n",
       "<p class=\"appeal-cat-title\">Услуги связи</p>\n",
       "</div>\n",
       "</div>\n",
       "<div class=\"row\">\n",
       "<div class=\"col-md-12\">\n",
       "<a class=\"appeal-title-link\" href=\"/Forum/Appeals/Details/12828\">\n",
       "<span class=\"custom-underline\">\n",
       "                    МТС обманули на деньги (видео могу выслать)\n",
       "                </span>\n",
       "</a>\n",
       "</div>\n",
       "</div>\n",
       "<div class=\"row\">\n",
       "<div class=\"col-md-12\">\n",
       "<p class=\"appeal-element-bottom\"><span> Опубликовано: </span> 26.10.2019</p>\n",
       "<p class=\"appeal-element-bottom\"><span> Автор: </span> Екатерина </p> <p class=\"appeal-element-bottom\"><span> Регион: </span> Орловская область</p> </div>\n",
       "</div>\n",
       "</div>\n",
       "</div>\n",
       "<div class=\"col-md-12\">\n",
       "<div class=\"appeal-element\">\n",
       "<div class=\"row\">\n",
       "<div class=\"col-md-12\">\n",
       "<p class=\"appeal-cat-title\">Розничная торговля</p>\n",
       "</div>\n",
       "</div>\n",
       "<div class=\"row\">\n",
       "<div class=\"col-md-12\">\n",
       "<a class=\"appeal-title-link\" href=\"/Forum/Appeals/Details/12821\">\n",
       "<span class=\"custom-underline\">\n",
       "                    отравление в общепите\n",
       "                </span>\n",
       "</a>\n",
       "</div>\n",
       "</div>\n",
       "<div class=\"row\">\n",
       "<div class=\"col-md-12\">\n",
       "<p class=\"appeal-element-bottom\"><span> Опубликовано: </span> 25.10.2019</p>\n",
       "<p class=\"appeal-element-bottom\"><span> Автор: </span> ольга</p> <p class=\"appeal-element-bottom\"><span> Регион: </span> Ленинградская область</p> </div>\n",
       "</div>\n",
       "</div>\n",
       "</div>\n",
       "<div class=\"col-md-12\">\n",
       "<div class=\"appeal-element\">\n",
       "<div class=\"row\">\n",
       "<div class=\"col-md-12\">\n",
       "<p class=\"appeal-cat-title\">Розничная торговля</p>\n",
       "</div>\n",
       "</div>\n",
       "<div class=\"row\">\n",
       "<div class=\"col-md-12\">\n",
       "<a class=\"appeal-title-link\" href=\"/Forum/Appeals/Details/12815\">\n",
       "<span class=\"custom-underline\">\n",
       "                    Обман интернет магазин\n",
       "                </span>\n",
       "</a>\n",
       "</div>\n",
       "</div>\n",
       "<div class=\"row\">\n",
       "<div class=\"col-md-12\">\n",
       "<p class=\"appeal-element-bottom\"><span> Опубликовано: </span> 25.10.2019</p>\n",
       "<p class=\"appeal-element-bottom\"><span> Автор: </span> Иван</p> <p class=\"appeal-element-bottom\"><span> Регион: </span> Архангельская область</p> </div>\n",
       "</div>\n",
       "</div>\n",
       "</div>\n",
       "<div class=\"col-md-12\">\n",
       "<div class=\"appeal-element\">\n",
       "<div class=\"row\">\n",
       "<div class=\"col-md-12\">\n",
       "<p class=\"appeal-cat-title\">Услуги связи</p>\n",
       "</div>\n",
       "</div>\n",
       "<div class=\"row\">\n",
       "<div class=\"col-md-12\">\n",
       "<a class=\"appeal-title-link\" href=\"/Forum/Appeals/Details/12797\">\n",
       "<span class=\"custom-underline\">\n",
       "                    неоказание услуг связи ПАО Мегафон\n",
       "                </span>\n",
       "</a>\n",
       "</div>\n",
       "</div>\n",
       "<div class=\"row\">\n",
       "<div class=\"col-md-12\">\n",
       "<p class=\"appeal-element-bottom\"><span> Опубликовано: </span> 24.10.2019</p>\n",
       "<p class=\"appeal-element-bottom\"><span> Автор: </span> Наталия Леонидовна</p> <p class=\"appeal-element-bottom\"><span> Регион: </span> Ростовская область</p> </div>\n",
       "</div>\n",
       "</div>\n",
       "</div>\n",
       "</div>\n",
       "</div>\n",
       "<div class=\"row\">\n",
       "<div class=\"col-md-12\">\n",
       "<input id=\"appeals-list-number-of-pages\" type=\"hidden\" value=\"2036\"/>\n",
       "<ul class=\"pagination custom-pager\">\n",
       "<li class=\"custom-pager-prev disabled\">\n",
       "<a aria-label=\"Previous\" onclick=\"PagerPrevClick()\">\n",
       "<span aria-hidden=\"true\">Предыдущая</span>\n",
       "</a>\n",
       "</li>\n",
       "<li class=\"active pager-link\">\n",
       "<a><span class=\"\">1</span></a>\n",
       "</li>\n",
       "<li class=\"pager-link\">\n",
       "<a class=\"page-number\" onclick=\"PagerClick(this)\">2</a>\n",
       "</li>\n",
       "<li class=\"pager-link\">\n",
       "<a class=\"page-number\" onclick=\"PagerClick(this)\">3</a>\n",
       "</li>\n",
       "<li class=\"pager-link\">...</li>\n",
       "<li class=\"pager-link\">\n",
       "<a class=\"page-number\" onclick=\"PagerClick(this)\">2035</a>\n",
       "</li>\n",
       "<li class=\"pager-link\">\n",
       "<a class=\"page-number\" onclick=\"PagerClick(this)\">2036</a>\n",
       "</li>\n",
       "<li class=\"custom-pager-next\">\n",
       "<a aria-label=\"Next\" onclick=\"PagerNextClick()\">\n",
       "<span aria-hidden=\"true\">Следующая</span>\n",
       "</a>\n",
       "</li>\n",
       "<li class=\"pull-right\">\n",
       "<input aria-describedby=\"pagerCustomPageAddon\" class=\"form-control pull-left\" id=\"pagerCustomPage\" style=\"width:60px;\" title=\"Номер страницы для перехода\" type=\"text\" value=\"1\"/>\n",
       "<button class=\"btn btn-default pull-left\" id=\"pagerCustomPageAddon\" onclick=\"PagerGoPage(document.getElementById('pagerCustomPage').value)\" title=\"Перейти на страницу\" type=\"button\"><i aria-hidden=\"true\" class=\"fa fa-indent\"></i><span class=\"sr-only\">Перейти</span></button>\n",
       "          \n",
       "    </li>\n",
       "</ul>\n",
       "</div>\n",
       "</div>\n",
       "</body></html>"
      ]
     },
     "execution_count": 6,
     "metadata": {},
     "output_type": "execute_result"
    }
   ],
   "source": [
    "soup3"
   ]
  },
  {
   "cell_type": "code",
   "execution_count": 83,
   "metadata": {},
   "outputs": [
    {
     "name": "stdout",
     "output_type": "stream",
     "text": [
      "[['/Forum/Appeals/Details/12828', '/Forum/Appeals/Details/12797', '/Forum/Appeals/Details/12796', '/Forum/Appeals/Details/12788', '/Forum/Appeals/Details/12784']]\n"
     ]
    }
   ],
   "source": [
    "findurls = []\n",
    "findurls.append([i.get('href') for i in soup3.find_all(class_='appeal-title-link')])\n",
    "print(findurls)\n"
   ]
  },
  {
   "cell_type": "code",
   "execution_count": 84,
   "metadata": {},
   "outputs": [
    {
     "name": "stdout",
     "output_type": "stream",
     "text": [
      "[['\\r\\n                    МТС обманули на деньги (видео могу выслать)\\r\\n                ', '\\r\\n                    неоказание услуг связи ПАО Мегафон\\r\\n                ', '\\r\\n                    Незаконное отключение электроэнергии\\r\\n                ', '\\r\\n                    Грязь и антисанитария в сан.узлах аэропорта Толмачево\\r\\n                ', '\\r\\n                    Некачественный товар\\r\\n                ']]\n"
     ]
    }
   ],
   "source": [
    "findtitles = []\n",
    "findtitles.append([i.text for i in soup3.find_all(class_='custom-underline')])\n",
    "print(findtitles)\n"
   ]
  },
  {
   "cell_type": "code",
   "execution_count": 54,
   "metadata": {},
   "outputs": [
    {
     "name": "stdout",
     "output_type": "stream",
     "text": [
      "[[' Регион:  Республика Башкортостан', ' Регион:  Орловская область', ' Регион:  Ленинградская область', ' Регион:  Архангельская область', ' Регион:  Ростовская область']]\n"
     ]
    }
   ],
   "source": [
    "findregion = []\n",
    "findregion.append([i.text for i in soup3.find_all(class_='appeal-element-bottom') if 'Регион' in i.text])\n",
    "print(findregion)"
   ]
  },
  {
   "cell_type": "code",
   "execution_count": 59,
   "metadata": {},
   "outputs": [
    {
     "name": "stdout",
     "output_type": "stream",
     "text": [
      "[[' Автор:  Ирина', ' Автор:  Екатерина ', ' Автор:  ольга', ' Автор:  Иван', ' Автор:  Наталия Леонидовна']]\n"
     ]
    }
   ],
   "source": [
    "findauthor = []\n",
    "findauthor.append([i.text for i in soup3.find_all(class_='appeal-element-bottom') if 'автор' in i.text.lower()])\n",
    "print(findauthor)"
   ]
  },
  {
   "cell_type": "code",
   "execution_count": 57,
   "metadata": {},
   "outputs": [
    {
     "name": "stdout",
     "output_type": "stream",
     "text": [
      "[[' Опубликовано:  28.10.2019', ' Опубликовано:  26.10.2019', ' Опубликовано:  25.10.2019', ' Опубликовано:  25.10.2019', ' Опубликовано:  24.10.2019']]\n"
     ]
    }
   ],
   "source": [
    "findpublishdate = []\n",
    "findpublishdate.append([i.text for i in soup3.find_all(class_='appeal-element-bottom') if 'Опубликовано' in i.text])\n",
    "print(findpublishdate)"
   ]
  },
  {
   "cell_type": "code",
   "execution_count": 58,
   "metadata": {},
   "outputs": [
    {
     "name": "stdout",
     "output_type": "stream",
     "text": [
      "[['Розничная торговля', 'Услуги связи', 'Розничная торговля', 'Розничная торговля', 'Услуги связи']]\n"
     ]
    }
   ],
   "source": [
    "findcategory = []\n",
    "findcategory.append([i.text for i in soup3.find_all(class_='appeal-cat-title')])\n",
    "print(findcategory)"
   ]
  },
  {
   "cell_type": "code",
   "execution_count": 7,
   "metadata": {},
   "outputs": [],
   "source": [
    "links=[]\n",
    "author=[]\n",
    "publishdate=[]\n",
    "region=[]\n",
    "category=[]\n",
    "title=[]"
   ]
  },
  {
   "cell_type": "code",
   "execution_count": 61,
   "metadata": {},
   "outputs": [],
   "source": [
    "links_second = []"
   ]
  },
  {
   "cell_type": "code",
   "execution_count": 62,
   "metadata": {},
   "outputs": [
    {
     "name": "stdout",
     "output_type": "stream",
     "text": [
      "100\n"
     ]
    },
    {
     "ename": "URLError",
     "evalue": "<urlopen error [WinError 10060] Попытка установить соединение была безуспешной, т.к. от другого компьютера за требуемое время не получен нужный отклик, или было разорвано уже установленное соединение из-за неверного отклика уже подключенного компьютера>",
     "output_type": "error",
     "traceback": [
      "\u001b[1;31m---------------------------------------------------------------------------\u001b[0m",
      "\u001b[1;31mTimeoutError\u001b[0m                              Traceback (most recent call last)",
      "\u001b[1;32m~\\Anaconda3\\lib\\urllib\\request.py\u001b[0m in \u001b[0;36mdo_open\u001b[1;34m(self, http_class, req, **http_conn_args)\u001b[0m\n\u001b[0;32m   1316\u001b[0m                 h.request(req.get_method(), req.selector, req.data, headers,\n\u001b[1;32m-> 1317\u001b[1;33m                           encode_chunked=req.has_header('Transfer-encoding'))\n\u001b[0m\u001b[0;32m   1318\u001b[0m             \u001b[1;32mexcept\u001b[0m \u001b[0mOSError\u001b[0m \u001b[1;32mas\u001b[0m \u001b[0merr\u001b[0m\u001b[1;33m:\u001b[0m \u001b[1;31m# timeout error\u001b[0m\u001b[1;33m\u001b[0m\u001b[1;33m\u001b[0m\u001b[0m\n",
      "\u001b[1;32m~\\Anaconda3\\lib\\http\\client.py\u001b[0m in \u001b[0;36mrequest\u001b[1;34m(self, method, url, body, headers, encode_chunked)\u001b[0m\n\u001b[0;32m   1228\u001b[0m         \u001b[1;34m\"\"\"Send a complete request to the server.\"\"\"\u001b[0m\u001b[1;33m\u001b[0m\u001b[1;33m\u001b[0m\u001b[0m\n\u001b[1;32m-> 1229\u001b[1;33m         \u001b[0mself\u001b[0m\u001b[1;33m.\u001b[0m\u001b[0m_send_request\u001b[0m\u001b[1;33m(\u001b[0m\u001b[0mmethod\u001b[0m\u001b[1;33m,\u001b[0m \u001b[0murl\u001b[0m\u001b[1;33m,\u001b[0m \u001b[0mbody\u001b[0m\u001b[1;33m,\u001b[0m \u001b[0mheaders\u001b[0m\u001b[1;33m,\u001b[0m \u001b[0mencode_chunked\u001b[0m\u001b[1;33m)\u001b[0m\u001b[1;33m\u001b[0m\u001b[1;33m\u001b[0m\u001b[0m\n\u001b[0m\u001b[0;32m   1230\u001b[0m \u001b[1;33m\u001b[0m\u001b[0m\n",
      "\u001b[1;32m~\\Anaconda3\\lib\\http\\client.py\u001b[0m in \u001b[0;36m_send_request\u001b[1;34m(self, method, url, body, headers, encode_chunked)\u001b[0m\n\u001b[0;32m   1274\u001b[0m             \u001b[0mbody\u001b[0m \u001b[1;33m=\u001b[0m \u001b[0m_encode\u001b[0m\u001b[1;33m(\u001b[0m\u001b[0mbody\u001b[0m\u001b[1;33m,\u001b[0m \u001b[1;34m'body'\u001b[0m\u001b[1;33m)\u001b[0m\u001b[1;33m\u001b[0m\u001b[1;33m\u001b[0m\u001b[0m\n\u001b[1;32m-> 1275\u001b[1;33m         \u001b[0mself\u001b[0m\u001b[1;33m.\u001b[0m\u001b[0mendheaders\u001b[0m\u001b[1;33m(\u001b[0m\u001b[0mbody\u001b[0m\u001b[1;33m,\u001b[0m \u001b[0mencode_chunked\u001b[0m\u001b[1;33m=\u001b[0m\u001b[0mencode_chunked\u001b[0m\u001b[1;33m)\u001b[0m\u001b[1;33m\u001b[0m\u001b[1;33m\u001b[0m\u001b[0m\n\u001b[0m\u001b[0;32m   1276\u001b[0m \u001b[1;33m\u001b[0m\u001b[0m\n",
      "\u001b[1;32m~\\Anaconda3\\lib\\http\\client.py\u001b[0m in \u001b[0;36mendheaders\u001b[1;34m(self, message_body, encode_chunked)\u001b[0m\n\u001b[0;32m   1223\u001b[0m             \u001b[1;32mraise\u001b[0m \u001b[0mCannotSendHeader\u001b[0m\u001b[1;33m(\u001b[0m\u001b[1;33m)\u001b[0m\u001b[1;33m\u001b[0m\u001b[1;33m\u001b[0m\u001b[0m\n\u001b[1;32m-> 1224\u001b[1;33m         \u001b[0mself\u001b[0m\u001b[1;33m.\u001b[0m\u001b[0m_send_output\u001b[0m\u001b[1;33m(\u001b[0m\u001b[0mmessage_body\u001b[0m\u001b[1;33m,\u001b[0m \u001b[0mencode_chunked\u001b[0m\u001b[1;33m=\u001b[0m\u001b[0mencode_chunked\u001b[0m\u001b[1;33m)\u001b[0m\u001b[1;33m\u001b[0m\u001b[1;33m\u001b[0m\u001b[0m\n\u001b[0m\u001b[0;32m   1225\u001b[0m \u001b[1;33m\u001b[0m\u001b[0m\n",
      "\u001b[1;32m~\\Anaconda3\\lib\\http\\client.py\u001b[0m in \u001b[0;36m_send_output\u001b[1;34m(self, message_body, encode_chunked)\u001b[0m\n\u001b[0;32m   1015\u001b[0m         \u001b[1;32mdel\u001b[0m \u001b[0mself\u001b[0m\u001b[1;33m.\u001b[0m\u001b[0m_buffer\u001b[0m\u001b[1;33m[\u001b[0m\u001b[1;33m:\u001b[0m\u001b[1;33m]\u001b[0m\u001b[1;33m\u001b[0m\u001b[1;33m\u001b[0m\u001b[0m\n\u001b[1;32m-> 1016\u001b[1;33m         \u001b[0mself\u001b[0m\u001b[1;33m.\u001b[0m\u001b[0msend\u001b[0m\u001b[1;33m(\u001b[0m\u001b[0mmsg\u001b[0m\u001b[1;33m)\u001b[0m\u001b[1;33m\u001b[0m\u001b[1;33m\u001b[0m\u001b[0m\n\u001b[0m\u001b[0;32m   1017\u001b[0m \u001b[1;33m\u001b[0m\u001b[0m\n",
      "\u001b[1;32m~\\Anaconda3\\lib\\http\\client.py\u001b[0m in \u001b[0;36msend\u001b[1;34m(self, data)\u001b[0m\n\u001b[0;32m    955\u001b[0m             \u001b[1;32mif\u001b[0m \u001b[0mself\u001b[0m\u001b[1;33m.\u001b[0m\u001b[0mauto_open\u001b[0m\u001b[1;33m:\u001b[0m\u001b[1;33m\u001b[0m\u001b[1;33m\u001b[0m\u001b[0m\n\u001b[1;32m--> 956\u001b[1;33m                 \u001b[0mself\u001b[0m\u001b[1;33m.\u001b[0m\u001b[0mconnect\u001b[0m\u001b[1;33m(\u001b[0m\u001b[1;33m)\u001b[0m\u001b[1;33m\u001b[0m\u001b[1;33m\u001b[0m\u001b[0m\n\u001b[0m\u001b[0;32m    957\u001b[0m             \u001b[1;32melse\u001b[0m\u001b[1;33m:\u001b[0m\u001b[1;33m\u001b[0m\u001b[1;33m\u001b[0m\u001b[0m\n",
      "\u001b[1;32m~\\Anaconda3\\lib\\http\\client.py\u001b[0m in \u001b[0;36mconnect\u001b[1;34m(self)\u001b[0m\n\u001b[0;32m    927\u001b[0m         self.sock = self._create_connection(\n\u001b[1;32m--> 928\u001b[1;33m             (self.host,self.port), self.timeout, self.source_address)\n\u001b[0m\u001b[0;32m    929\u001b[0m         \u001b[0mself\u001b[0m\u001b[1;33m.\u001b[0m\u001b[0msock\u001b[0m\u001b[1;33m.\u001b[0m\u001b[0msetsockopt\u001b[0m\u001b[1;33m(\u001b[0m\u001b[0msocket\u001b[0m\u001b[1;33m.\u001b[0m\u001b[0mIPPROTO_TCP\u001b[0m\u001b[1;33m,\u001b[0m \u001b[0msocket\u001b[0m\u001b[1;33m.\u001b[0m\u001b[0mTCP_NODELAY\u001b[0m\u001b[1;33m,\u001b[0m \u001b[1;36m1\u001b[0m\u001b[1;33m)\u001b[0m\u001b[1;33m\u001b[0m\u001b[1;33m\u001b[0m\u001b[0m\n",
      "\u001b[1;32m~\\Anaconda3\\lib\\socket.py\u001b[0m in \u001b[0;36mcreate_connection\u001b[1;34m(address, timeout, source_address)\u001b[0m\n\u001b[0;32m    726\u001b[0m     \u001b[1;32mif\u001b[0m \u001b[0merr\u001b[0m \u001b[1;32mis\u001b[0m \u001b[1;32mnot\u001b[0m \u001b[1;32mNone\u001b[0m\u001b[1;33m:\u001b[0m\u001b[1;33m\u001b[0m\u001b[1;33m\u001b[0m\u001b[0m\n\u001b[1;32m--> 727\u001b[1;33m         \u001b[1;32mraise\u001b[0m \u001b[0merr\u001b[0m\u001b[1;33m\u001b[0m\u001b[1;33m\u001b[0m\u001b[0m\n\u001b[0m\u001b[0;32m    728\u001b[0m     \u001b[1;32melse\u001b[0m\u001b[1;33m:\u001b[0m\u001b[1;33m\u001b[0m\u001b[1;33m\u001b[0m\u001b[0m\n",
      "\u001b[1;32m~\\Anaconda3\\lib\\socket.py\u001b[0m in \u001b[0;36mcreate_connection\u001b[1;34m(address, timeout, source_address)\u001b[0m\n\u001b[0;32m    715\u001b[0m                 \u001b[0msock\u001b[0m\u001b[1;33m.\u001b[0m\u001b[0mbind\u001b[0m\u001b[1;33m(\u001b[0m\u001b[0msource_address\u001b[0m\u001b[1;33m)\u001b[0m\u001b[1;33m\u001b[0m\u001b[1;33m\u001b[0m\u001b[0m\n\u001b[1;32m--> 716\u001b[1;33m             \u001b[0msock\u001b[0m\u001b[1;33m.\u001b[0m\u001b[0mconnect\u001b[0m\u001b[1;33m(\u001b[0m\u001b[0msa\u001b[0m\u001b[1;33m)\u001b[0m\u001b[1;33m\u001b[0m\u001b[1;33m\u001b[0m\u001b[0m\n\u001b[0m\u001b[0;32m    717\u001b[0m             \u001b[1;31m# Break explicitly a reference cycle\u001b[0m\u001b[1;33m\u001b[0m\u001b[1;33m\u001b[0m\u001b[1;33m\u001b[0m\u001b[0m\n",
      "\u001b[1;31mTimeoutError\u001b[0m: [WinError 10060] Попытка установить соединение была безуспешной, т.к. от другого компьютера за требуемое время не получен нужный отклик, или было разорвано уже установленное соединение из-за неверного отклика уже подключенного компьютера",
      "\nDuring handling of the above exception, another exception occurred:\n",
      "\u001b[1;31mURLError\u001b[0m                                  Traceback (most recent call last)",
      "\u001b[1;32m<ipython-input-62-e80fa0d95273>\u001b[0m in \u001b[0;36m<module>\u001b[1;34m\u001b[0m\n\u001b[0;32m      1\u001b[0m \u001b[1;32mfor\u001b[0m \u001b[0mcp\u001b[0m \u001b[1;32min\u001b[0m \u001b[0mnp\u001b[0m\u001b[1;33m.\u001b[0m\u001b[0marange\u001b[0m\u001b[1;33m(\u001b[0m\u001b[1;36m1\u001b[0m\u001b[1;33m,\u001b[0m\u001b[0mint\u001b[0m\u001b[1;33m(\u001b[0m\u001b[0mlastpage3\u001b[0m\u001b[1;33m)\u001b[0m\u001b[1;33m+\u001b[0m\u001b[1;36m1\u001b[0m\u001b[1;33m)\u001b[0m\u001b[1;33m:\u001b[0m\u001b[1;33m\u001b[0m\u001b[1;33m\u001b[0m\u001b[0m\n\u001b[0;32m      2\u001b[0m     \u001b[0murl\u001b[0m \u001b[1;33m=\u001b[0m \u001b[1;34m\"http://zpp.rospotrebnadzor.ru/Forum/Appeals/AjaxindexList?page=\"\u001b[0m \u001b[1;33m+\u001b[0m \u001b[0mstr\u001b[0m\u001b[1;33m(\u001b[0m\u001b[0mcp\u001b[0m\u001b[1;33m)\u001b[0m \u001b[1;33m+\u001b[0m \u001b[1;34m\"&searchtext=&categories=%5B%5D\"\u001b[0m\u001b[1;33m\u001b[0m\u001b[1;33m\u001b[0m\u001b[0m\n\u001b[1;32m----> 3\u001b[1;33m     \u001b[0mhtml\u001b[0m \u001b[1;33m=\u001b[0m \u001b[0murlopen\u001b[0m\u001b[1;33m(\u001b[0m\u001b[0murl\u001b[0m\u001b[1;33m)\u001b[0m\u001b[1;33m\u001b[0m\u001b[1;33m\u001b[0m\u001b[0m\n\u001b[0m\u001b[0;32m      4\u001b[0m     \u001b[0msoup\u001b[0m \u001b[1;33m=\u001b[0m \u001b[0mBeautifulSoup\u001b[0m\u001b[1;33m(\u001b[0m\u001b[0mhtml\u001b[0m\u001b[1;33m,\u001b[0m \u001b[1;34m'html'\u001b[0m\u001b[1;33m)\u001b[0m\u001b[1;33m\u001b[0m\u001b[1;33m\u001b[0m\u001b[0m\n\u001b[0;32m      5\u001b[0m     \u001b[0mlinks_second\u001b[0m\u001b[1;33m.\u001b[0m\u001b[0mappend\u001b[0m\u001b[1;33m(\u001b[0m\u001b[1;33m[\u001b[0m\u001b[0mi\u001b[0m\u001b[1;33m.\u001b[0m\u001b[0mget\u001b[0m\u001b[1;33m(\u001b[0m\u001b[1;34m'href'\u001b[0m\u001b[1;33m)\u001b[0m \u001b[1;32mfor\u001b[0m \u001b[0mi\u001b[0m \u001b[1;32min\u001b[0m \u001b[0msoup\u001b[0m\u001b[1;33m.\u001b[0m\u001b[0mfind_all\u001b[0m\u001b[1;33m(\u001b[0m\u001b[0mclass_\u001b[0m\u001b[1;33m=\u001b[0m\u001b[1;34m'appeal-title-link'\u001b[0m\u001b[1;33m)\u001b[0m\u001b[1;33m]\u001b[0m\u001b[1;33m)\u001b[0m\u001b[1;33m\u001b[0m\u001b[1;33m\u001b[0m\u001b[0m\n",
      "\u001b[1;32m~\\Anaconda3\\lib\\urllib\\request.py\u001b[0m in \u001b[0;36murlopen\u001b[1;34m(url, data, timeout, cafile, capath, cadefault, context)\u001b[0m\n\u001b[0;32m    220\u001b[0m     \u001b[1;32melse\u001b[0m\u001b[1;33m:\u001b[0m\u001b[1;33m\u001b[0m\u001b[1;33m\u001b[0m\u001b[0m\n\u001b[0;32m    221\u001b[0m         \u001b[0mopener\u001b[0m \u001b[1;33m=\u001b[0m \u001b[0m_opener\u001b[0m\u001b[1;33m\u001b[0m\u001b[1;33m\u001b[0m\u001b[0m\n\u001b[1;32m--> 222\u001b[1;33m     \u001b[1;32mreturn\u001b[0m \u001b[0mopener\u001b[0m\u001b[1;33m.\u001b[0m\u001b[0mopen\u001b[0m\u001b[1;33m(\u001b[0m\u001b[0murl\u001b[0m\u001b[1;33m,\u001b[0m \u001b[0mdata\u001b[0m\u001b[1;33m,\u001b[0m \u001b[0mtimeout\u001b[0m\u001b[1;33m)\u001b[0m\u001b[1;33m\u001b[0m\u001b[1;33m\u001b[0m\u001b[0m\n\u001b[0m\u001b[0;32m    223\u001b[0m \u001b[1;33m\u001b[0m\u001b[0m\n\u001b[0;32m    224\u001b[0m \u001b[1;32mdef\u001b[0m \u001b[0minstall_opener\u001b[0m\u001b[1;33m(\u001b[0m\u001b[0mopener\u001b[0m\u001b[1;33m)\u001b[0m\u001b[1;33m:\u001b[0m\u001b[1;33m\u001b[0m\u001b[1;33m\u001b[0m\u001b[0m\n",
      "\u001b[1;32m~\\Anaconda3\\lib\\urllib\\request.py\u001b[0m in \u001b[0;36mopen\u001b[1;34m(self, fullurl, data, timeout)\u001b[0m\n\u001b[0;32m    523\u001b[0m             \u001b[0mreq\u001b[0m \u001b[1;33m=\u001b[0m \u001b[0mmeth\u001b[0m\u001b[1;33m(\u001b[0m\u001b[0mreq\u001b[0m\u001b[1;33m)\u001b[0m\u001b[1;33m\u001b[0m\u001b[1;33m\u001b[0m\u001b[0m\n\u001b[0;32m    524\u001b[0m \u001b[1;33m\u001b[0m\u001b[0m\n\u001b[1;32m--> 525\u001b[1;33m         \u001b[0mresponse\u001b[0m \u001b[1;33m=\u001b[0m \u001b[0mself\u001b[0m\u001b[1;33m.\u001b[0m\u001b[0m_open\u001b[0m\u001b[1;33m(\u001b[0m\u001b[0mreq\u001b[0m\u001b[1;33m,\u001b[0m \u001b[0mdata\u001b[0m\u001b[1;33m)\u001b[0m\u001b[1;33m\u001b[0m\u001b[1;33m\u001b[0m\u001b[0m\n\u001b[0m\u001b[0;32m    526\u001b[0m \u001b[1;33m\u001b[0m\u001b[0m\n\u001b[0;32m    527\u001b[0m         \u001b[1;31m# post-process response\u001b[0m\u001b[1;33m\u001b[0m\u001b[1;33m\u001b[0m\u001b[1;33m\u001b[0m\u001b[0m\n",
      "\u001b[1;32m~\\Anaconda3\\lib\\urllib\\request.py\u001b[0m in \u001b[0;36m_open\u001b[1;34m(self, req, data)\u001b[0m\n\u001b[0;32m    541\u001b[0m         \u001b[0mprotocol\u001b[0m \u001b[1;33m=\u001b[0m \u001b[0mreq\u001b[0m\u001b[1;33m.\u001b[0m\u001b[0mtype\u001b[0m\u001b[1;33m\u001b[0m\u001b[1;33m\u001b[0m\u001b[0m\n\u001b[0;32m    542\u001b[0m         result = self._call_chain(self.handle_open, protocol, protocol +\n\u001b[1;32m--> 543\u001b[1;33m                                   '_open', req)\n\u001b[0m\u001b[0;32m    544\u001b[0m         \u001b[1;32mif\u001b[0m \u001b[0mresult\u001b[0m\u001b[1;33m:\u001b[0m\u001b[1;33m\u001b[0m\u001b[1;33m\u001b[0m\u001b[0m\n\u001b[0;32m    545\u001b[0m             \u001b[1;32mreturn\u001b[0m \u001b[0mresult\u001b[0m\u001b[1;33m\u001b[0m\u001b[1;33m\u001b[0m\u001b[0m\n",
      "\u001b[1;32m~\\Anaconda3\\lib\\urllib\\request.py\u001b[0m in \u001b[0;36m_call_chain\u001b[1;34m(self, chain, kind, meth_name, *args)\u001b[0m\n\u001b[0;32m    501\u001b[0m         \u001b[1;32mfor\u001b[0m \u001b[0mhandler\u001b[0m \u001b[1;32min\u001b[0m \u001b[0mhandlers\u001b[0m\u001b[1;33m:\u001b[0m\u001b[1;33m\u001b[0m\u001b[1;33m\u001b[0m\u001b[0m\n\u001b[0;32m    502\u001b[0m             \u001b[0mfunc\u001b[0m \u001b[1;33m=\u001b[0m \u001b[0mgetattr\u001b[0m\u001b[1;33m(\u001b[0m\u001b[0mhandler\u001b[0m\u001b[1;33m,\u001b[0m \u001b[0mmeth_name\u001b[0m\u001b[1;33m)\u001b[0m\u001b[1;33m\u001b[0m\u001b[1;33m\u001b[0m\u001b[0m\n\u001b[1;32m--> 503\u001b[1;33m             \u001b[0mresult\u001b[0m \u001b[1;33m=\u001b[0m \u001b[0mfunc\u001b[0m\u001b[1;33m(\u001b[0m\u001b[1;33m*\u001b[0m\u001b[0margs\u001b[0m\u001b[1;33m)\u001b[0m\u001b[1;33m\u001b[0m\u001b[1;33m\u001b[0m\u001b[0m\n\u001b[0m\u001b[0;32m    504\u001b[0m             \u001b[1;32mif\u001b[0m \u001b[0mresult\u001b[0m \u001b[1;32mis\u001b[0m \u001b[1;32mnot\u001b[0m \u001b[1;32mNone\u001b[0m\u001b[1;33m:\u001b[0m\u001b[1;33m\u001b[0m\u001b[1;33m\u001b[0m\u001b[0m\n\u001b[0;32m    505\u001b[0m                 \u001b[1;32mreturn\u001b[0m \u001b[0mresult\u001b[0m\u001b[1;33m\u001b[0m\u001b[1;33m\u001b[0m\u001b[0m\n",
      "\u001b[1;32m~\\Anaconda3\\lib\\urllib\\request.py\u001b[0m in \u001b[0;36mhttp_open\u001b[1;34m(self, req)\u001b[0m\n\u001b[0;32m   1343\u001b[0m \u001b[1;33m\u001b[0m\u001b[0m\n\u001b[0;32m   1344\u001b[0m     \u001b[1;32mdef\u001b[0m \u001b[0mhttp_open\u001b[0m\u001b[1;33m(\u001b[0m\u001b[0mself\u001b[0m\u001b[1;33m,\u001b[0m \u001b[0mreq\u001b[0m\u001b[1;33m)\u001b[0m\u001b[1;33m:\u001b[0m\u001b[1;33m\u001b[0m\u001b[1;33m\u001b[0m\u001b[0m\n\u001b[1;32m-> 1345\u001b[1;33m         \u001b[1;32mreturn\u001b[0m \u001b[0mself\u001b[0m\u001b[1;33m.\u001b[0m\u001b[0mdo_open\u001b[0m\u001b[1;33m(\u001b[0m\u001b[0mhttp\u001b[0m\u001b[1;33m.\u001b[0m\u001b[0mclient\u001b[0m\u001b[1;33m.\u001b[0m\u001b[0mHTTPConnection\u001b[0m\u001b[1;33m,\u001b[0m \u001b[0mreq\u001b[0m\u001b[1;33m)\u001b[0m\u001b[1;33m\u001b[0m\u001b[1;33m\u001b[0m\u001b[0m\n\u001b[0m\u001b[0;32m   1346\u001b[0m \u001b[1;33m\u001b[0m\u001b[0m\n\u001b[0;32m   1347\u001b[0m     \u001b[0mhttp_request\u001b[0m \u001b[1;33m=\u001b[0m \u001b[0mAbstractHTTPHandler\u001b[0m\u001b[1;33m.\u001b[0m\u001b[0mdo_request_\u001b[0m\u001b[1;33m\u001b[0m\u001b[1;33m\u001b[0m\u001b[0m\n",
      "\u001b[1;32m~\\Anaconda3\\lib\\urllib\\request.py\u001b[0m in \u001b[0;36mdo_open\u001b[1;34m(self, http_class, req, **http_conn_args)\u001b[0m\n\u001b[0;32m   1317\u001b[0m                           encode_chunked=req.has_header('Transfer-encoding'))\n\u001b[0;32m   1318\u001b[0m             \u001b[1;32mexcept\u001b[0m \u001b[0mOSError\u001b[0m \u001b[1;32mas\u001b[0m \u001b[0merr\u001b[0m\u001b[1;33m:\u001b[0m \u001b[1;31m# timeout error\u001b[0m\u001b[1;33m\u001b[0m\u001b[1;33m\u001b[0m\u001b[0m\n\u001b[1;32m-> 1319\u001b[1;33m                 \u001b[1;32mraise\u001b[0m \u001b[0mURLError\u001b[0m\u001b[1;33m(\u001b[0m\u001b[0merr\u001b[0m\u001b[1;33m)\u001b[0m\u001b[1;33m\u001b[0m\u001b[1;33m\u001b[0m\u001b[0m\n\u001b[0m\u001b[0;32m   1320\u001b[0m             \u001b[0mr\u001b[0m \u001b[1;33m=\u001b[0m \u001b[0mh\u001b[0m\u001b[1;33m.\u001b[0m\u001b[0mgetresponse\u001b[0m\u001b[1;33m(\u001b[0m\u001b[1;33m)\u001b[0m\u001b[1;33m\u001b[0m\u001b[1;33m\u001b[0m\u001b[0m\n\u001b[0;32m   1321\u001b[0m         \u001b[1;32mexcept\u001b[0m\u001b[1;33m:\u001b[0m\u001b[1;33m\u001b[0m\u001b[1;33m\u001b[0m\u001b[0m\n",
      "\u001b[1;31mURLError\u001b[0m: <urlopen error [WinError 10060] Попытка установить соединение была безуспешной, т.к. от другого компьютера за требуемое время не получен нужный отклик, или было разорвано уже установленное соединение из-за неверного отклика уже подключенного компьютера>"
     ]
    }
   ],
   "source": [
    "for cp in np.arange(1,int(lastpage3)+1):\n",
    "    url = \"http://zpp.rospotrebnadzor.ru/Forum/Appeals/AjaxindexList?page=\" + str(cp) + \"&searchtext=&categories=%5B%5D\"\n",
    "    html = urlopen(url)\n",
    "    soup = BeautifulSoup(html, 'html')\n",
    "    links_second.append([i.get('href') for i in soup.find_all(class_='appeal-title-link')])\n",
    "    title.append([i.text for i in soup.find_all(class_='custom-underline')])\n",
    "    author.append([i.text for i in soup.find_all(class_='appeal-element-bottom') if 'автор' in i.text.lower()])\n",
    "    publishdate.append([i.text for i in soup.find_all(class_='appeal-element-bottom') if 'опубликовано' in i.text.lower()])\n",
    "    region.append([i.text for i in soup.find_all(class_='appeal-element-bottom') if 'регион' in i.text.lower()])\n",
    "    category.append([i.text for i in soup.find_all(class_='appeal-cat-title')])\n",
    "    if cp%100==0:\n",
    "        print(cp)\n",
    "    time.sleep(3)\n",
    "print (\"Done!\")"
   ]
  },
  {
   "cell_type": "code",
   "execution_count": 70,
   "metadata": {},
   "outputs": [
    {
     "data": {
      "text/plain": [
       "2037"
      ]
     },
     "execution_count": 70,
     "metadata": {},
     "output_type": "execute_result"
    }
   ],
   "source": [
    "len(links_second)"
   ]
  },
  {
   "cell_type": "code",
   "execution_count": 64,
   "metadata": {},
   "outputs": [
    {
     "name": "stdout",
     "output_type": "stream",
     "text": [
      "200\n",
      "300\n",
      "400\n",
      "500\n",
      "600\n",
      "700\n",
      "800\n",
      "900\n",
      "1000\n",
      "1100\n",
      "1200\n",
      "1300\n"
     ]
    },
    {
     "ename": "URLError",
     "evalue": "<urlopen error [WinError 10060] Попытка установить соединение была безуспешной, т.к. от другого компьютера за требуемое время не получен нужный отклик, или было разорвано уже установленное соединение из-за неверного отклика уже подключенного компьютера>",
     "output_type": "error",
     "traceback": [
      "\u001b[1;31m---------------------------------------------------------------------------\u001b[0m",
      "\u001b[1;31mTimeoutError\u001b[0m                              Traceback (most recent call last)",
      "\u001b[1;32m~\\Anaconda3\\lib\\urllib\\request.py\u001b[0m in \u001b[0;36mdo_open\u001b[1;34m(self, http_class, req, **http_conn_args)\u001b[0m\n\u001b[0;32m   1316\u001b[0m                 h.request(req.get_method(), req.selector, req.data, headers,\n\u001b[1;32m-> 1317\u001b[1;33m                           encode_chunked=req.has_header('Transfer-encoding'))\n\u001b[0m\u001b[0;32m   1318\u001b[0m             \u001b[1;32mexcept\u001b[0m \u001b[0mOSError\u001b[0m \u001b[1;32mas\u001b[0m \u001b[0merr\u001b[0m\u001b[1;33m:\u001b[0m \u001b[1;31m# timeout error\u001b[0m\u001b[1;33m\u001b[0m\u001b[1;33m\u001b[0m\u001b[0m\n",
      "\u001b[1;32m~\\Anaconda3\\lib\\http\\client.py\u001b[0m in \u001b[0;36mrequest\u001b[1;34m(self, method, url, body, headers, encode_chunked)\u001b[0m\n\u001b[0;32m   1228\u001b[0m         \u001b[1;34m\"\"\"Send a complete request to the server.\"\"\"\u001b[0m\u001b[1;33m\u001b[0m\u001b[1;33m\u001b[0m\u001b[0m\n\u001b[1;32m-> 1229\u001b[1;33m         \u001b[0mself\u001b[0m\u001b[1;33m.\u001b[0m\u001b[0m_send_request\u001b[0m\u001b[1;33m(\u001b[0m\u001b[0mmethod\u001b[0m\u001b[1;33m,\u001b[0m \u001b[0murl\u001b[0m\u001b[1;33m,\u001b[0m \u001b[0mbody\u001b[0m\u001b[1;33m,\u001b[0m \u001b[0mheaders\u001b[0m\u001b[1;33m,\u001b[0m \u001b[0mencode_chunked\u001b[0m\u001b[1;33m)\u001b[0m\u001b[1;33m\u001b[0m\u001b[1;33m\u001b[0m\u001b[0m\n\u001b[0m\u001b[0;32m   1230\u001b[0m \u001b[1;33m\u001b[0m\u001b[0m\n",
      "\u001b[1;32m~\\Anaconda3\\lib\\http\\client.py\u001b[0m in \u001b[0;36m_send_request\u001b[1;34m(self, method, url, body, headers, encode_chunked)\u001b[0m\n\u001b[0;32m   1274\u001b[0m             \u001b[0mbody\u001b[0m \u001b[1;33m=\u001b[0m \u001b[0m_encode\u001b[0m\u001b[1;33m(\u001b[0m\u001b[0mbody\u001b[0m\u001b[1;33m,\u001b[0m \u001b[1;34m'body'\u001b[0m\u001b[1;33m)\u001b[0m\u001b[1;33m\u001b[0m\u001b[1;33m\u001b[0m\u001b[0m\n\u001b[1;32m-> 1275\u001b[1;33m         \u001b[0mself\u001b[0m\u001b[1;33m.\u001b[0m\u001b[0mendheaders\u001b[0m\u001b[1;33m(\u001b[0m\u001b[0mbody\u001b[0m\u001b[1;33m,\u001b[0m \u001b[0mencode_chunked\u001b[0m\u001b[1;33m=\u001b[0m\u001b[0mencode_chunked\u001b[0m\u001b[1;33m)\u001b[0m\u001b[1;33m\u001b[0m\u001b[1;33m\u001b[0m\u001b[0m\n\u001b[0m\u001b[0;32m   1276\u001b[0m \u001b[1;33m\u001b[0m\u001b[0m\n",
      "\u001b[1;32m~\\Anaconda3\\lib\\http\\client.py\u001b[0m in \u001b[0;36mendheaders\u001b[1;34m(self, message_body, encode_chunked)\u001b[0m\n\u001b[0;32m   1223\u001b[0m             \u001b[1;32mraise\u001b[0m \u001b[0mCannotSendHeader\u001b[0m\u001b[1;33m(\u001b[0m\u001b[1;33m)\u001b[0m\u001b[1;33m\u001b[0m\u001b[1;33m\u001b[0m\u001b[0m\n\u001b[1;32m-> 1224\u001b[1;33m         \u001b[0mself\u001b[0m\u001b[1;33m.\u001b[0m\u001b[0m_send_output\u001b[0m\u001b[1;33m(\u001b[0m\u001b[0mmessage_body\u001b[0m\u001b[1;33m,\u001b[0m \u001b[0mencode_chunked\u001b[0m\u001b[1;33m=\u001b[0m\u001b[0mencode_chunked\u001b[0m\u001b[1;33m)\u001b[0m\u001b[1;33m\u001b[0m\u001b[1;33m\u001b[0m\u001b[0m\n\u001b[0m\u001b[0;32m   1225\u001b[0m \u001b[1;33m\u001b[0m\u001b[0m\n",
      "\u001b[1;32m~\\Anaconda3\\lib\\http\\client.py\u001b[0m in \u001b[0;36m_send_output\u001b[1;34m(self, message_body, encode_chunked)\u001b[0m\n\u001b[0;32m   1015\u001b[0m         \u001b[1;32mdel\u001b[0m \u001b[0mself\u001b[0m\u001b[1;33m.\u001b[0m\u001b[0m_buffer\u001b[0m\u001b[1;33m[\u001b[0m\u001b[1;33m:\u001b[0m\u001b[1;33m]\u001b[0m\u001b[1;33m\u001b[0m\u001b[1;33m\u001b[0m\u001b[0m\n\u001b[1;32m-> 1016\u001b[1;33m         \u001b[0mself\u001b[0m\u001b[1;33m.\u001b[0m\u001b[0msend\u001b[0m\u001b[1;33m(\u001b[0m\u001b[0mmsg\u001b[0m\u001b[1;33m)\u001b[0m\u001b[1;33m\u001b[0m\u001b[1;33m\u001b[0m\u001b[0m\n\u001b[0m\u001b[0;32m   1017\u001b[0m \u001b[1;33m\u001b[0m\u001b[0m\n",
      "\u001b[1;32m~\\Anaconda3\\lib\\http\\client.py\u001b[0m in \u001b[0;36msend\u001b[1;34m(self, data)\u001b[0m\n\u001b[0;32m    955\u001b[0m             \u001b[1;32mif\u001b[0m \u001b[0mself\u001b[0m\u001b[1;33m.\u001b[0m\u001b[0mauto_open\u001b[0m\u001b[1;33m:\u001b[0m\u001b[1;33m\u001b[0m\u001b[1;33m\u001b[0m\u001b[0m\n\u001b[1;32m--> 956\u001b[1;33m                 \u001b[0mself\u001b[0m\u001b[1;33m.\u001b[0m\u001b[0mconnect\u001b[0m\u001b[1;33m(\u001b[0m\u001b[1;33m)\u001b[0m\u001b[1;33m\u001b[0m\u001b[1;33m\u001b[0m\u001b[0m\n\u001b[0m\u001b[0;32m    957\u001b[0m             \u001b[1;32melse\u001b[0m\u001b[1;33m:\u001b[0m\u001b[1;33m\u001b[0m\u001b[1;33m\u001b[0m\u001b[0m\n",
      "\u001b[1;32m~\\Anaconda3\\lib\\http\\client.py\u001b[0m in \u001b[0;36mconnect\u001b[1;34m(self)\u001b[0m\n\u001b[0;32m    927\u001b[0m         self.sock = self._create_connection(\n\u001b[1;32m--> 928\u001b[1;33m             (self.host,self.port), self.timeout, self.source_address)\n\u001b[0m\u001b[0;32m    929\u001b[0m         \u001b[0mself\u001b[0m\u001b[1;33m.\u001b[0m\u001b[0msock\u001b[0m\u001b[1;33m.\u001b[0m\u001b[0msetsockopt\u001b[0m\u001b[1;33m(\u001b[0m\u001b[0msocket\u001b[0m\u001b[1;33m.\u001b[0m\u001b[0mIPPROTO_TCP\u001b[0m\u001b[1;33m,\u001b[0m \u001b[0msocket\u001b[0m\u001b[1;33m.\u001b[0m\u001b[0mTCP_NODELAY\u001b[0m\u001b[1;33m,\u001b[0m \u001b[1;36m1\u001b[0m\u001b[1;33m)\u001b[0m\u001b[1;33m\u001b[0m\u001b[1;33m\u001b[0m\u001b[0m\n",
      "\u001b[1;32m~\\Anaconda3\\lib\\socket.py\u001b[0m in \u001b[0;36mcreate_connection\u001b[1;34m(address, timeout, source_address)\u001b[0m\n\u001b[0;32m    726\u001b[0m     \u001b[1;32mif\u001b[0m \u001b[0merr\u001b[0m \u001b[1;32mis\u001b[0m \u001b[1;32mnot\u001b[0m \u001b[1;32mNone\u001b[0m\u001b[1;33m:\u001b[0m\u001b[1;33m\u001b[0m\u001b[1;33m\u001b[0m\u001b[0m\n\u001b[1;32m--> 727\u001b[1;33m         \u001b[1;32mraise\u001b[0m \u001b[0merr\u001b[0m\u001b[1;33m\u001b[0m\u001b[1;33m\u001b[0m\u001b[0m\n\u001b[0m\u001b[0;32m    728\u001b[0m     \u001b[1;32melse\u001b[0m\u001b[1;33m:\u001b[0m\u001b[1;33m\u001b[0m\u001b[1;33m\u001b[0m\u001b[0m\n",
      "\u001b[1;32m~\\Anaconda3\\lib\\socket.py\u001b[0m in \u001b[0;36mcreate_connection\u001b[1;34m(address, timeout, source_address)\u001b[0m\n\u001b[0;32m    715\u001b[0m                 \u001b[0msock\u001b[0m\u001b[1;33m.\u001b[0m\u001b[0mbind\u001b[0m\u001b[1;33m(\u001b[0m\u001b[0msource_address\u001b[0m\u001b[1;33m)\u001b[0m\u001b[1;33m\u001b[0m\u001b[1;33m\u001b[0m\u001b[0m\n\u001b[1;32m--> 716\u001b[1;33m             \u001b[0msock\u001b[0m\u001b[1;33m.\u001b[0m\u001b[0mconnect\u001b[0m\u001b[1;33m(\u001b[0m\u001b[0msa\u001b[0m\u001b[1;33m)\u001b[0m\u001b[1;33m\u001b[0m\u001b[1;33m\u001b[0m\u001b[0m\n\u001b[0m\u001b[0;32m    717\u001b[0m             \u001b[1;31m# Break explicitly a reference cycle\u001b[0m\u001b[1;33m\u001b[0m\u001b[1;33m\u001b[0m\u001b[1;33m\u001b[0m\u001b[0m\n",
      "\u001b[1;31mTimeoutError\u001b[0m: [WinError 10060] Попытка установить соединение была безуспешной, т.к. от другого компьютера за требуемое время не получен нужный отклик, или было разорвано уже установленное соединение из-за неверного отклика уже подключенного компьютера",
      "\nDuring handling of the above exception, another exception occurred:\n",
      "\u001b[1;31mURLError\u001b[0m                                  Traceback (most recent call last)",
      "\u001b[1;32m<ipython-input-64-07ee840811c7>\u001b[0m in \u001b[0;36m<module>\u001b[1;34m\u001b[0m\n\u001b[0;32m      1\u001b[0m \u001b[1;32mfor\u001b[0m \u001b[0mcp\u001b[0m \u001b[1;32min\u001b[0m \u001b[0mnp\u001b[0m\u001b[1;33m.\u001b[0m\u001b[0marange\u001b[0m\u001b[1;33m(\u001b[0m\u001b[1;36m116\u001b[0m\u001b[1;33m,\u001b[0m\u001b[0mint\u001b[0m\u001b[1;33m(\u001b[0m\u001b[0mlastpage3\u001b[0m\u001b[1;33m)\u001b[0m\u001b[1;33m+\u001b[0m\u001b[1;36m1\u001b[0m\u001b[1;33m)\u001b[0m\u001b[1;33m:\u001b[0m\u001b[1;33m\u001b[0m\u001b[1;33m\u001b[0m\u001b[0m\n\u001b[0;32m      2\u001b[0m     \u001b[0murl\u001b[0m \u001b[1;33m=\u001b[0m \u001b[1;34m\"http://zpp.rospotrebnadzor.ru/Forum/Appeals/AjaxindexList?page=\"\u001b[0m \u001b[1;33m+\u001b[0m \u001b[0mstr\u001b[0m\u001b[1;33m(\u001b[0m\u001b[0mcp\u001b[0m\u001b[1;33m)\u001b[0m \u001b[1;33m+\u001b[0m \u001b[1;34m\"&searchtext=&categories=%5B%5D\"\u001b[0m\u001b[1;33m\u001b[0m\u001b[1;33m\u001b[0m\u001b[0m\n\u001b[1;32m----> 3\u001b[1;33m     \u001b[0mhtml\u001b[0m \u001b[1;33m=\u001b[0m \u001b[0murlopen\u001b[0m\u001b[1;33m(\u001b[0m\u001b[0murl\u001b[0m\u001b[1;33m)\u001b[0m\u001b[1;33m\u001b[0m\u001b[1;33m\u001b[0m\u001b[0m\n\u001b[0m\u001b[0;32m      4\u001b[0m     \u001b[0msoup\u001b[0m \u001b[1;33m=\u001b[0m \u001b[0mBeautifulSoup\u001b[0m\u001b[1;33m(\u001b[0m\u001b[0mhtml\u001b[0m\u001b[1;33m,\u001b[0m \u001b[1;34m'html'\u001b[0m\u001b[1;33m)\u001b[0m\u001b[1;33m\u001b[0m\u001b[1;33m\u001b[0m\u001b[0m\n\u001b[0;32m      5\u001b[0m     \u001b[0mlinks_second\u001b[0m\u001b[1;33m.\u001b[0m\u001b[0mappend\u001b[0m\u001b[1;33m(\u001b[0m\u001b[1;33m[\u001b[0m\u001b[0mi\u001b[0m\u001b[1;33m.\u001b[0m\u001b[0mget\u001b[0m\u001b[1;33m(\u001b[0m\u001b[1;34m'href'\u001b[0m\u001b[1;33m)\u001b[0m \u001b[1;32mfor\u001b[0m \u001b[0mi\u001b[0m \u001b[1;32min\u001b[0m \u001b[0msoup\u001b[0m\u001b[1;33m.\u001b[0m\u001b[0mfind_all\u001b[0m\u001b[1;33m(\u001b[0m\u001b[0mclass_\u001b[0m\u001b[1;33m=\u001b[0m\u001b[1;34m'appeal-title-link'\u001b[0m\u001b[1;33m)\u001b[0m\u001b[1;33m]\u001b[0m\u001b[1;33m)\u001b[0m\u001b[1;33m\u001b[0m\u001b[1;33m\u001b[0m\u001b[0m\n",
      "\u001b[1;32m~\\Anaconda3\\lib\\urllib\\request.py\u001b[0m in \u001b[0;36murlopen\u001b[1;34m(url, data, timeout, cafile, capath, cadefault, context)\u001b[0m\n\u001b[0;32m    220\u001b[0m     \u001b[1;32melse\u001b[0m\u001b[1;33m:\u001b[0m\u001b[1;33m\u001b[0m\u001b[1;33m\u001b[0m\u001b[0m\n\u001b[0;32m    221\u001b[0m         \u001b[0mopener\u001b[0m \u001b[1;33m=\u001b[0m \u001b[0m_opener\u001b[0m\u001b[1;33m\u001b[0m\u001b[1;33m\u001b[0m\u001b[0m\n\u001b[1;32m--> 222\u001b[1;33m     \u001b[1;32mreturn\u001b[0m \u001b[0mopener\u001b[0m\u001b[1;33m.\u001b[0m\u001b[0mopen\u001b[0m\u001b[1;33m(\u001b[0m\u001b[0murl\u001b[0m\u001b[1;33m,\u001b[0m \u001b[0mdata\u001b[0m\u001b[1;33m,\u001b[0m \u001b[0mtimeout\u001b[0m\u001b[1;33m)\u001b[0m\u001b[1;33m\u001b[0m\u001b[1;33m\u001b[0m\u001b[0m\n\u001b[0m\u001b[0;32m    223\u001b[0m \u001b[1;33m\u001b[0m\u001b[0m\n\u001b[0;32m    224\u001b[0m \u001b[1;32mdef\u001b[0m \u001b[0minstall_opener\u001b[0m\u001b[1;33m(\u001b[0m\u001b[0mopener\u001b[0m\u001b[1;33m)\u001b[0m\u001b[1;33m:\u001b[0m\u001b[1;33m\u001b[0m\u001b[1;33m\u001b[0m\u001b[0m\n",
      "\u001b[1;32m~\\Anaconda3\\lib\\urllib\\request.py\u001b[0m in \u001b[0;36mopen\u001b[1;34m(self, fullurl, data, timeout)\u001b[0m\n\u001b[0;32m    523\u001b[0m             \u001b[0mreq\u001b[0m \u001b[1;33m=\u001b[0m \u001b[0mmeth\u001b[0m\u001b[1;33m(\u001b[0m\u001b[0mreq\u001b[0m\u001b[1;33m)\u001b[0m\u001b[1;33m\u001b[0m\u001b[1;33m\u001b[0m\u001b[0m\n\u001b[0;32m    524\u001b[0m \u001b[1;33m\u001b[0m\u001b[0m\n\u001b[1;32m--> 525\u001b[1;33m         \u001b[0mresponse\u001b[0m \u001b[1;33m=\u001b[0m \u001b[0mself\u001b[0m\u001b[1;33m.\u001b[0m\u001b[0m_open\u001b[0m\u001b[1;33m(\u001b[0m\u001b[0mreq\u001b[0m\u001b[1;33m,\u001b[0m \u001b[0mdata\u001b[0m\u001b[1;33m)\u001b[0m\u001b[1;33m\u001b[0m\u001b[1;33m\u001b[0m\u001b[0m\n\u001b[0m\u001b[0;32m    526\u001b[0m \u001b[1;33m\u001b[0m\u001b[0m\n\u001b[0;32m    527\u001b[0m         \u001b[1;31m# post-process response\u001b[0m\u001b[1;33m\u001b[0m\u001b[1;33m\u001b[0m\u001b[1;33m\u001b[0m\u001b[0m\n",
      "\u001b[1;32m~\\Anaconda3\\lib\\urllib\\request.py\u001b[0m in \u001b[0;36m_open\u001b[1;34m(self, req, data)\u001b[0m\n\u001b[0;32m    541\u001b[0m         \u001b[0mprotocol\u001b[0m \u001b[1;33m=\u001b[0m \u001b[0mreq\u001b[0m\u001b[1;33m.\u001b[0m\u001b[0mtype\u001b[0m\u001b[1;33m\u001b[0m\u001b[1;33m\u001b[0m\u001b[0m\n\u001b[0;32m    542\u001b[0m         result = self._call_chain(self.handle_open, protocol, protocol +\n\u001b[1;32m--> 543\u001b[1;33m                                   '_open', req)\n\u001b[0m\u001b[0;32m    544\u001b[0m         \u001b[1;32mif\u001b[0m \u001b[0mresult\u001b[0m\u001b[1;33m:\u001b[0m\u001b[1;33m\u001b[0m\u001b[1;33m\u001b[0m\u001b[0m\n\u001b[0;32m    545\u001b[0m             \u001b[1;32mreturn\u001b[0m \u001b[0mresult\u001b[0m\u001b[1;33m\u001b[0m\u001b[1;33m\u001b[0m\u001b[0m\n",
      "\u001b[1;32m~\\Anaconda3\\lib\\urllib\\request.py\u001b[0m in \u001b[0;36m_call_chain\u001b[1;34m(self, chain, kind, meth_name, *args)\u001b[0m\n\u001b[0;32m    501\u001b[0m         \u001b[1;32mfor\u001b[0m \u001b[0mhandler\u001b[0m \u001b[1;32min\u001b[0m \u001b[0mhandlers\u001b[0m\u001b[1;33m:\u001b[0m\u001b[1;33m\u001b[0m\u001b[1;33m\u001b[0m\u001b[0m\n\u001b[0;32m    502\u001b[0m             \u001b[0mfunc\u001b[0m \u001b[1;33m=\u001b[0m \u001b[0mgetattr\u001b[0m\u001b[1;33m(\u001b[0m\u001b[0mhandler\u001b[0m\u001b[1;33m,\u001b[0m \u001b[0mmeth_name\u001b[0m\u001b[1;33m)\u001b[0m\u001b[1;33m\u001b[0m\u001b[1;33m\u001b[0m\u001b[0m\n\u001b[1;32m--> 503\u001b[1;33m             \u001b[0mresult\u001b[0m \u001b[1;33m=\u001b[0m \u001b[0mfunc\u001b[0m\u001b[1;33m(\u001b[0m\u001b[1;33m*\u001b[0m\u001b[0margs\u001b[0m\u001b[1;33m)\u001b[0m\u001b[1;33m\u001b[0m\u001b[1;33m\u001b[0m\u001b[0m\n\u001b[0m\u001b[0;32m    504\u001b[0m             \u001b[1;32mif\u001b[0m \u001b[0mresult\u001b[0m \u001b[1;32mis\u001b[0m \u001b[1;32mnot\u001b[0m \u001b[1;32mNone\u001b[0m\u001b[1;33m:\u001b[0m\u001b[1;33m\u001b[0m\u001b[1;33m\u001b[0m\u001b[0m\n\u001b[0;32m    505\u001b[0m                 \u001b[1;32mreturn\u001b[0m \u001b[0mresult\u001b[0m\u001b[1;33m\u001b[0m\u001b[1;33m\u001b[0m\u001b[0m\n",
      "\u001b[1;32m~\\Anaconda3\\lib\\urllib\\request.py\u001b[0m in \u001b[0;36mhttp_open\u001b[1;34m(self, req)\u001b[0m\n\u001b[0;32m   1343\u001b[0m \u001b[1;33m\u001b[0m\u001b[0m\n\u001b[0;32m   1344\u001b[0m     \u001b[1;32mdef\u001b[0m \u001b[0mhttp_open\u001b[0m\u001b[1;33m(\u001b[0m\u001b[0mself\u001b[0m\u001b[1;33m,\u001b[0m \u001b[0mreq\u001b[0m\u001b[1;33m)\u001b[0m\u001b[1;33m:\u001b[0m\u001b[1;33m\u001b[0m\u001b[1;33m\u001b[0m\u001b[0m\n\u001b[1;32m-> 1345\u001b[1;33m         \u001b[1;32mreturn\u001b[0m \u001b[0mself\u001b[0m\u001b[1;33m.\u001b[0m\u001b[0mdo_open\u001b[0m\u001b[1;33m(\u001b[0m\u001b[0mhttp\u001b[0m\u001b[1;33m.\u001b[0m\u001b[0mclient\u001b[0m\u001b[1;33m.\u001b[0m\u001b[0mHTTPConnection\u001b[0m\u001b[1;33m,\u001b[0m \u001b[0mreq\u001b[0m\u001b[1;33m)\u001b[0m\u001b[1;33m\u001b[0m\u001b[1;33m\u001b[0m\u001b[0m\n\u001b[0m\u001b[0;32m   1346\u001b[0m \u001b[1;33m\u001b[0m\u001b[0m\n\u001b[0;32m   1347\u001b[0m     \u001b[0mhttp_request\u001b[0m \u001b[1;33m=\u001b[0m \u001b[0mAbstractHTTPHandler\u001b[0m\u001b[1;33m.\u001b[0m\u001b[0mdo_request_\u001b[0m\u001b[1;33m\u001b[0m\u001b[1;33m\u001b[0m\u001b[0m\n",
      "\u001b[1;32m~\\Anaconda3\\lib\\urllib\\request.py\u001b[0m in \u001b[0;36mdo_open\u001b[1;34m(self, http_class, req, **http_conn_args)\u001b[0m\n\u001b[0;32m   1317\u001b[0m                           encode_chunked=req.has_header('Transfer-encoding'))\n\u001b[0;32m   1318\u001b[0m             \u001b[1;32mexcept\u001b[0m \u001b[0mOSError\u001b[0m \u001b[1;32mas\u001b[0m \u001b[0merr\u001b[0m\u001b[1;33m:\u001b[0m \u001b[1;31m# timeout error\u001b[0m\u001b[1;33m\u001b[0m\u001b[1;33m\u001b[0m\u001b[0m\n\u001b[1;32m-> 1319\u001b[1;33m                 \u001b[1;32mraise\u001b[0m \u001b[0mURLError\u001b[0m\u001b[1;33m(\u001b[0m\u001b[0merr\u001b[0m\u001b[1;33m)\u001b[0m\u001b[1;33m\u001b[0m\u001b[1;33m\u001b[0m\u001b[0m\n\u001b[0m\u001b[0;32m   1320\u001b[0m             \u001b[0mr\u001b[0m \u001b[1;33m=\u001b[0m \u001b[0mh\u001b[0m\u001b[1;33m.\u001b[0m\u001b[0mgetresponse\u001b[0m\u001b[1;33m(\u001b[0m\u001b[1;33m)\u001b[0m\u001b[1;33m\u001b[0m\u001b[1;33m\u001b[0m\u001b[0m\n\u001b[0;32m   1321\u001b[0m         \u001b[1;32mexcept\u001b[0m\u001b[1;33m:\u001b[0m\u001b[1;33m\u001b[0m\u001b[1;33m\u001b[0m\u001b[0m\n",
      "\u001b[1;31mURLError\u001b[0m: <urlopen error [WinError 10060] Попытка установить соединение была безуспешной, т.к. от другого компьютера за требуемое время не получен нужный отклик, или было разорвано уже установленное соединение из-за неверного отклика уже подключенного компьютера>"
     ]
    }
   ],
   "source": [
    "for cp in np.arange(116,int(lastpage3)+1):\n",
    "    url = \"http://zpp.rospotrebnadzor.ru/Forum/Appeals/AjaxindexList?page=\" + str(cp) + \"&searchtext=&categories=%5B%5D\"\n",
    "    html = urlopen(url)\n",
    "    soup = BeautifulSoup(html, 'html')\n",
    "    links_second.append([i.get('href') for i in soup.find_all(class_='appeal-title-link')])\n",
    "    title.append([i.text for i in soup.find_all(class_='custom-underline')])\n",
    "    author.append([i.text for i in soup.find_all(class_='appeal-element-bottom') if 'автор' in i.text.lower()])\n",
    "    publishdate.append([i.text for i in soup.find_all(class_='appeal-element-bottom') if 'опубликовано' in i.text.lower()])\n",
    "    region.append([i.text for i in soup.find_all(class_='appeal-element-bottom') if 'регион' in i.text.lower()])\n",
    "    category.append([i.text for i in soup.find_all(class_='appeal-cat-title')])\n",
    "    if cp%100==0:\n",
    "        print(cp)\n",
    "    time.sleep(3)\n",
    "print (\"Done!\")"
   ]
  },
  {
   "cell_type": "code",
   "execution_count": 66,
   "metadata": {},
   "outputs": [
    {
     "name": "stdout",
     "output_type": "stream",
     "text": [
      "1400\n",
      "1500\n",
      "1600\n",
      "1700\n",
      "1800\n",
      "1900\n",
      "2000\n",
      "Done!\n"
     ]
    }
   ],
   "source": [
    "for cp in np.arange(1360,int(lastpage3)+1):\n",
    "    url = \"http://zpp.rospotrebnadzor.ru/Forum/Appeals/AjaxindexList?page=\" + str(cp) + \"&searchtext=&categories=%5B%5D\"\n",
    "    html = urlopen(url)\n",
    "    soup = BeautifulSoup(html, 'html')\n",
    "    links_second.append([i.get('href') for i in soup.find_all(class_='appeal-title-link')])\n",
    "    title.append([i.text for i in soup.find_all(class_='custom-underline')])\n",
    "    author.append([i.text for i in soup.find_all(class_='appeal-element-bottom') if 'автор' in i.text.lower()])\n",
    "    publishdate.append([i.text for i in soup.find_all(class_='appeal-element-bottom') if 'опубликовано' in i.text.lower()])\n",
    "    region.append([i.text for i in soup.find_all(class_='appeal-element-bottom') if 'регион' in i.text.lower()])\n",
    "    category.append([i.text for i in soup.find_all(class_='appeal-cat-title')])\n",
    "    if cp%100==0:\n",
    "        print(cp)\n",
    "    time.sleep(3)\n",
    "print (\"Done!\")"
   ]
  },
  {
   "cell_type": "code",
   "execution_count": 78,
   "metadata": {},
   "outputs": [
    {
     "name": "stdout",
     "output_type": "stream",
     "text": [
      "[['/Forum/Appeals/Details/11892', '/Forum/Appeals/Details/11891', '/Forum/Appeals/Details/11889', '/Forum/Appeals/Details/11888', '/Forum/Appeals/Details/11886'], ['/Forum/Appeals/Details/11892', '/Forum/Appeals/Details/11891', '/Forum/Appeals/Details/11889', '/Forum/Appeals/Details/11888', '/Forum/Appeals/Details/11886'], ['/Forum/Appeals/Details/11884', '/Forum/Appeals/Details/11883', '/Forum/Appeals/Details/11881', '/Forum/Appeals/Details/11880', '/Forum/Appeals/Details/11879']]\n",
      "[[' Регион:  Свердловская область', ' Регион:  Новосибирская область', ' Регион:  Московская область', ' Регион:  Ярославская область', ' Регион:  Республика Башкортостан'], [' Регион:  Свердловская область', ' Регион:  Новосибирская область', ' Регион:  Московская область', ' Регион:  Ярославская область', ' Регион:  Республика Башкортостан'], [' Регион:  Челябинская область', ' Регион:  Ленинградская область', ' Регион:  Ульяновская область', ' Регион:  г. Санкт-Петербург', ' Регион:  Республика Башкортостан']]\n",
      "[[' Автор:  Елена ', ' Автор:  Александр', ' Автор:  Юлия', ' Автор:  Татьяна', ' Автор:  Ильнур'], [' Автор:  Елена ', ' Автор:  Александр', ' Автор:  Юлия', ' Автор:  Татьяна', ' Автор:  Ильнур'], [' Автор:  Ольга Веселова', ' Автор:  Евгения', ' Автор:  Евгений', ' Автор:  Андрей', ' Автор:  Белов Валентин']]\n",
      "[[' Опубликовано:  05.08.2019', ' Опубликовано:  05.08.2019', ' Опубликовано:  05.08.2019', ' Опубликовано:  05.08.2019', ' Опубликовано:  05.08.2019'], [' Опубликовано:  05.08.2019', ' Опубликовано:  05.08.2019', ' Опубликовано:  05.08.2019', ' Опубликовано:  05.08.2019', ' Опубликовано:  05.08.2019'], [' Опубликовано:  04.08.2019', ' Опубликовано:  04.08.2019', ' Опубликовано:  03.08.2019', ' Опубликовано:  03.08.2019', ' Опубликовано:  03.08.2019']]\n",
      "[['\\r\\n                    Установление СЗЗ\\r\\n                ', '\\r\\n                    История о кухонном фартуке\\r\\n                ', '\\r\\n                    Не отдают деньги, не соблюдают закон. \\r\\n                ', '\\r\\n                    Возврат денежных средств \\r\\n                ', '\\r\\n                    Мегафон в одностороннем порядке без надлежащего уведомления и без согласия абонента меняет тарифный план \\r\\n                '], ['\\r\\n                    Сайт-мошенники\\r\\n                ', '\\r\\n                    Массовые заболевания кишечной инфекцией \\r\\n                ', '\\r\\n                    Гарантийная диагностика телефона для последующего обмена.\\r\\n                ', '\\r\\n                    Некачественное оказание услуг по ремонту \\r\\n                ', '\\r\\n                    Обман ООО Пост  Сервис Мошенничество\\r\\n                '], ['\\r\\n                    Обращение \\r\\n                ', '\\r\\n                    Установление СЗЗ\\r\\n                ', '\\r\\n                    Консультация по косметической продукции\\r\\n                ', '\\r\\n                    Оказание платных услуг без моего согласия\\r\\n                ', '\\r\\n                    Ип Леденев Дмитрий Александрович, оказал не качественный услуги по обслуживанию кондиционеров\\r\\n                ']]\n",
      "[['Прочие виды деятельности', 'Розничная торговля', 'Общественное питание', 'Прочие виды деятельности', 'Услуги связи'], ['Прочие виды деятельности', 'Розничная торговля', 'Общественное питание', 'Прочие виды деятельности', 'Услуги связи'], ['Жилищно-коммунальные услуги', 'Розничная торговля', 'Жилищно-коммунальные услуги', 'Розничная торговля', 'Розничная торговля']]\n"
     ]
    }
   ],
   "source": [
    "print(links_second[115:118])\n",
    "print(region[115:118])\n",
    "print(author[115:118])\n",
    "print(publishdate[115:118])\n",
    "print(title[115:118])\n",
    "print(category[115:118])"
   ]
  },
  {
   "cell_type": "code",
   "execution_count": 79,
   "metadata": {},
   "outputs": [
    {
     "data": {
      "text/plain": [
       "['Прочие виды деятельности',\n",
       " 'Розничная торговля',\n",
       " 'Общественное питание',\n",
       " 'Прочие виды деятельности',\n",
       " 'Услуги связи']"
      ]
     },
     "execution_count": 79,
     "metadata": {},
     "output_type": "execute_result"
    }
   ],
   "source": [
    "links_second.pop(116)\n",
    "region.pop(116)\n",
    "author.pop(116)\n",
    "publishdate.pop(116)\n",
    "title.pop(116)\n",
    "category.pop(116)"
   ]
  },
  {
   "cell_type": "code",
   "execution_count": 80,
   "metadata": {},
   "outputs": [
    {
     "name": "stdout",
     "output_type": "stream",
     "text": [
      "[['/Forum/Appeals/Details/11892', '/Forum/Appeals/Details/11891', '/Forum/Appeals/Details/11889', '/Forum/Appeals/Details/11888', '/Forum/Appeals/Details/11886'], ['/Forum/Appeals/Details/11884', '/Forum/Appeals/Details/11883', '/Forum/Appeals/Details/11881', '/Forum/Appeals/Details/11880', '/Forum/Appeals/Details/11879'], ['/Forum/Appeals/Details/11878', '/Forum/Appeals/Details/11877', '/Forum/Appeals/Details/11875', '/Forum/Appeals/Details/11874', '/Forum/Appeals/Details/11872']]\n",
      "[[' Регион:  Свердловская область', ' Регион:  Новосибирская область', ' Регион:  Московская область', ' Регион:  Ярославская область', ' Регион:  Республика Башкортостан'], [' Регион:  Челябинская область', ' Регион:  Ленинградская область', ' Регион:  Ульяновская область', ' Регион:  г. Санкт-Петербург', ' Регион:  Республика Башкортостан'], [' Регион:  Пензенская область', ' Регион:  Вологодская область', ' Регион:  Московская область', ' Регион:  Республика Башкортостан', ' Регион:  Саратовская область']]\n",
      "[[' Автор:  Елена ', ' Автор:  Александр', ' Автор:  Юлия', ' Автор:  Татьяна', ' Автор:  Ильнур'], [' Автор:  Ольга Веселова', ' Автор:  Евгения', ' Автор:  Евгений', ' Автор:  Андрей', ' Автор:  Белов Валентин'], [' Автор:  Иван', ' Автор:  Марина', ' Автор:  Эвелина', ' Автор:  Римма', ' Автор:  Анастасия']]\n",
      "[[' Опубликовано:  05.08.2019', ' Опубликовано:  05.08.2019', ' Опубликовано:  05.08.2019', ' Опубликовано:  05.08.2019', ' Опубликовано:  05.08.2019'], [' Опубликовано:  04.08.2019', ' Опубликовано:  04.08.2019', ' Опубликовано:  03.08.2019', ' Опубликовано:  03.08.2019', ' Опубликовано:  03.08.2019'], [' Опубликовано:  03.08.2019', ' Опубликовано:  03.08.2019', ' Опубликовано:  02.08.2019', ' Опубликовано:  02.08.2019', ' Опубликовано:  02.08.2019']]\n",
      "[['\\r\\n                    Установление СЗЗ\\r\\n                ', '\\r\\n                    История о кухонном фартуке\\r\\n                ', '\\r\\n                    Не отдают деньги, не соблюдают закон. \\r\\n                ', '\\r\\n                    Возврат денежных средств \\r\\n                ', '\\r\\n                    Мегафон в одностороннем порядке без надлежащего уведомления и без согласия абонента меняет тарифный план \\r\\n                '], ['\\r\\n                    Обращение \\r\\n                ', '\\r\\n                    Установление СЗЗ\\r\\n                ', '\\r\\n                    Консультация по косметической продукции\\r\\n                ', '\\r\\n                    Оказание платных услуг без моего согласия\\r\\n                ', '\\r\\n                    Ип Леденев Дмитрий Александрович, оказал не качественный услуги по обслуживанию кондиционеров\\r\\n                '], ['\\r\\n                    Возврат денежных средств от ПАО \"Сбербанк\"\\r\\n                ', '\\r\\n                    Возврат денег за ошибочно забронированный билет\\r\\n                ', '\\r\\n                    Отказ в возврате денег в течении гарантийного срока (14 дней), при возврате обуви в магазин.\\r\\n                ', '\\r\\n                    Подмена заказанного товара\\r\\n                ', '\\r\\n                    Относится ли кнопочный телефон к технически сложным товарам\\r\\n                ']]\n",
      "[['Прочие виды деятельности', 'Розничная торговля', 'Общественное питание', 'Прочие виды деятельности', 'Услуги связи'], ['Жилищно-коммунальные услуги', 'Розничная торговля', 'Жилищно-коммунальные услуги', 'Розничная торговля', 'Розничная торговля'], ['Прочие виды деятельности', 'Жилищно-коммунальные услуги', 'Общественное питание', 'Розничная торговля', 'Розничная торговля']]\n"
     ]
    }
   ],
   "source": [
    "print(links_second[115:118])\n",
    "print(region[115:118])\n",
    "print(author[115:118])\n",
    "print(publishdate[115:118])\n",
    "print(title[115:118])\n",
    "print(category[115:118])"
   ]
  },
  {
   "cell_type": "code",
   "execution_count": 81,
   "metadata": {},
   "outputs": [
    {
     "name": "stdout",
     "output_type": "stream",
     "text": [
      "[['/Forum/Appeals/Details/4014', '/Forum/Appeals/Details/4013', '/Forum/Appeals/Details/4012', '/Forum/Appeals/Details/4010', '/Forum/Appeals/Details/4009'], ['/Forum/Appeals/Details/4008', '/Forum/Appeals/Details/4007', '/Forum/Appeals/Details/4006', '/Forum/Appeals/Details/4004', '/Forum/Appeals/Details/4002'], ['/Forum/Appeals/Details/4001', '/Forum/Appeals/Details/4000', '/Forum/Appeals/Details/3999', '/Forum/Appeals/Details/3998', '/Forum/Appeals/Details/3997']]\n",
      "[[' Регион:  г. Санкт-Петербург', ' Регион:  Московская область', ' Регион:  Ярославская область', ' Регион:  Саратовская область', ' Регион:  Московская область'], [' Регион:  Курганская область', ' Регион:  Воронежская область', ' Регион:  Красноярский край', ' Регион:  Республика Татарстан (Татарстан)', ' Регион:  г. Москва'], [' Регион:  Республика Башкортостан', ' Регион:  Нижегородская область', ' Регион:  Московская область', ' Регион:  Московская область', ' Регион:  Ростовская область']]\n",
      "[[' Автор:  Ирина Трофимова ', ' Автор:  Павел', ' Автор:  Светлана Вячеславовна Кекелева, председатель Совета МКД 3 по ул.Мирная, п.Красный Бор, Яр.обл.', ' Автор:  Владимир', ' Автор:  Юлия'], [' Автор:  Анатолий', ' Автор:  Сластин Александр Владимирович', ' Автор:  Светлана Николаевна', ' Автор:  Елена', ' Автор:  Наталья С.'], [' Автор:  Алёна', ' Автор:  Елена Евгеньевна', ' Автор:  Татьяна', ' Автор:  Александр', ' Автор:  Державцев Е С']]\n",
      "[[' Опубликовано:  14.10.2017', ' Опубликовано:  13.10.2017', ' Опубликовано:  13.10.2017', ' Опубликовано:  13.10.2017', ' Опубликовано:  13.10.2017'], [' Опубликовано:  13.10.2017', ' Опубликовано:  12.10.2017', ' Опубликовано:  12.10.2017', ' Опубликовано:  12.10.2017', ' Опубликовано:  12.10.2017'], [' Опубликовано:  12.10.2017', ' Опубликовано:  12.10.2017', ' Опубликовано:  11.10.2017', ' Опубликовано:  11.10.2017', ' Опубликовано:  11.10.2017']]\n",
      "[['\\r\\n                    Товар ненадлежащего качества, недостатки не были оговорены продавцом\\r\\n                ', '\\r\\n                    Смета к договору\\r\\n                ', '\\r\\n                    Не возвращают деньги в интернет магазине\\r\\n                ', '\\r\\n                    Необоснованная блокировка номера МТС.\\r\\n                ', '\\r\\n                    несоответствие договора\\r\\n                '], ['\\r\\n                    Не возвращают телефон по страховке\\r\\n                ', '\\r\\n                    Возврат средств за задержку рейса\\r\\n                ', '\\r\\n                    Магазин Добрострой (Севастополь) отказал в обмене товара\\r\\n                ', '\\r\\n                    Невыкуп товара присланного наложенным платежом\\r\\n                ', '\\r\\n                    Обращение в Роспотребнадзор (Ваша копия обращения) / от: 03.05.2017 22:27:26 (Мск)\\r\\n                '], ['\\r\\n                    Поведение жильцов в МКД\\r\\n                ', '\\r\\n                    Обман в сервисном центре\\r\\n                ', '\\r\\n                    возврат денежных средств\\r\\n                ', '\\r\\n                    Услуга не оказана\\r\\n                ', '\\r\\n                    Некорректное общение сотрудника с клиентом. Неправомерное и безосновательное ограничение доступа\\r\\n                ']]\n",
      "[['Финансовые услуги', 'Медицинские услуги', 'Жилищно-коммунальные услуги', 'Прочие виды деятельности', 'Розничная торговля'], ['Бытовое обслуживание', 'Жилищно-коммунальные услуги', 'Жилищно-коммунальные услуги', 'Розничная торговля', 'Розничная торговля'], ['Розничная торговля', 'Прочие виды деятельности', 'Розничная торговля', 'Розничная торговля', 'Розничная торговля']]\n"
     ]
    }
   ],
   "source": [
    "print(links_second[1359:1362])\n",
    "print(region[1359:1362])\n",
    "print(author[1359:1362])\n",
    "print(publishdate[1359:1362])\n",
    "print(title[1359:1362])\n",
    "print(category[1359:1362])"
   ]
  },
  {
   "cell_type": "code",
   "execution_count": 82,
   "metadata": {},
   "outputs": [],
   "source": [
    "#Flattening List of Lists\n",
    "links_second_flat = [y for x in links_second for y in x]\n",
    "regionflat = [y for x in region for y in x]\n",
    "authorflat = [y for x in author for y in x]\n",
    "publishdateflat = [y for x in publishdate for y in x]\n",
    "titleflat = [y for x in title for y in x]\n",
    "categoryflat = [y for x in category for y in x]"
   ]
  },
  {
   "cell_type": "code",
   "execution_count": 83,
   "metadata": {},
   "outputs": [
    {
     "name": "stdout",
     "output_type": "stream",
     "text": [
      "10179\n",
      "10179\n",
      "10179\n",
      "10179\n",
      "10209\n",
      "10179\n"
     ]
    }
   ],
   "source": [
    "print(len(links_second_flat))\n",
    "print(len(regionflat))\n",
    "print(len(authorflat))\n",
    "print(len(publishdateflat))\n",
    "print(len(titleflat))\n",
    "print(len(categoryflat))"
   ]
  },
  {
   "cell_type": "code",
   "execution_count": 93,
   "metadata": {},
   "outputs": [
    {
     "data": {
      "text/html": [
       "<div>\n",
       "<style scoped>\n",
       "    .dataframe tbody tr th:only-of-type {\n",
       "        vertical-align: middle;\n",
       "    }\n",
       "\n",
       "    .dataframe tbody tr th {\n",
       "        vertical-align: top;\n",
       "    }\n",
       "\n",
       "    .dataframe thead th {\n",
       "        text-align: right;\n",
       "    }\n",
       "</style>\n",
       "<table border=\"1\" class=\"dataframe\">\n",
       "  <thead>\n",
       "    <tr style=\"text-align: right;\">\n",
       "      <th></th>\n",
       "      <th>titles</th>\n",
       "    </tr>\n",
       "  </thead>\n",
       "  <tbody>\n",
       "    <tr>\n",
       "      <th>0</th>\n",
       "      <td>\\r\\n                    Возврат товара\\r\\n    ...</td>\n",
       "    </tr>\n",
       "    <tr>\n",
       "      <th>1</th>\n",
       "      <td>\\r\\n                    МТС обманули на деньги...</td>\n",
       "    </tr>\n",
       "    <tr>\n",
       "      <th>2</th>\n",
       "      <td>\\r\\n                    отравление в общепите\\...</td>\n",
       "    </tr>\n",
       "    <tr>\n",
       "      <th>3</th>\n",
       "      <td>\\r\\n                    Обман интернет магазин...</td>\n",
       "    </tr>\n",
       "    <tr>\n",
       "      <th>4</th>\n",
       "      <td>\\r\\n                    неоказание услуг связи...</td>\n",
       "    </tr>\n",
       "  </tbody>\n",
       "</table>\n",
       "</div>"
      ],
      "text/plain": [
       "                                              titles\n",
       "0  \\r\\n                    Возврат товара\\r\\n    ...\n",
       "1  \\r\\n                    МТС обманули на деньги...\n",
       "2  \\r\\n                    отравление в общепите\\...\n",
       "3  \\r\\n                    Обман интернет магазин...\n",
       "4  \\r\\n                    неоказание услуг связи..."
      ]
     },
     "execution_count": 93,
     "metadata": {},
     "output_type": "execute_result"
    }
   ],
   "source": [
    "titleflatdf = pd.DataFrame(data=titleflat, columns=['titles'])\n",
    "titleflatdf.head()"
   ]
  },
  {
   "cell_type": "code",
   "execution_count": 94,
   "metadata": {},
   "outputs": [
    {
     "data": {
      "text/plain": [
       "\\r\\n                    Жалоба\\r\\n                                                                                               74\n",
       "\\r\\n                    Возврат товара\\r\\n                                                                                       46\n",
       "\\r\\n                    Некачественный товар\\r\\n                                                                                 23\n",
       "\\r\\n                    Возврат денежных средств\\r\\n                                                                             22\n",
       "\\r\\n                    жалоба\\r\\n                                                                                               21\n",
       "\\r\\n                    Мошенничество\\r\\n                                                                                        15\n",
       "\\r\\n                    Обращение\\r\\n                                                                                            15\n",
       "\\r\\n                    Вопрос\\r\\n                                                                                               15\n",
       "\\r\\n                    Заявление\\r\\n                                                                                            14\n",
       "\\r\\n                    Товар ненадлежащего качества\\r\\n                                                                         14\n",
       "\\r\\n                    Нарушение прав потребителя\\r\\n                                                                           11\n",
       "\\r\\n                    Нарушение прав потребителей\\r\\n                                                                          11\n",
       "\\r\\n                    Жалоба \\r\\n                                                                                              11\n",
       "\\r\\n                    Просроченный товар\\r\\n                                                                                   11\n",
       "\\r\\n                    ЖАЛОБА\\r\\n                                                                                               10\n",
       "\\r\\n                    Возврат товара надлежащего качества\\r\\n                                                                  10\n",
       "\\r\\n                    Отказ в возврате товара\\r\\n                                                                              10\n",
       "\\r\\n                    Розничная торговля\\r\\n                                                                                    9\n",
       "\\r\\n                    Возврат некачественного товара\\r\\n                                                                        9\n",
       "\\r\\n                    Претензия\\r\\n                                                                                             9\n",
       "\\r\\n                    Возврат товара ненадлежащего качества\\r\\n                                                                 9\n",
       "\\r\\n                    Мошенники\\r\\n                                                                                             9\n",
       "\\r\\n                    Возврат денег\\r\\n                                                                                         9\n",
       "\\r\\n                    Обман\\r\\n                                                                                                 9\n",
       "\\r\\n                    Консультация\\r\\n                                                                                          8\n",
       "\\r\\n                    Возврат телефона\\r\\n                                                                                      8\n",
       "\\r\\n                    Не возвращают деньги\\r\\n                                                                                  7\n",
       "\\r\\n                    Интернет-магазин\\r\\n                                                                                      7\n",
       "\\r\\n                    Навязывание услуг\\r\\n                                                                                     7\n",
       "\\r\\n                    Возврат денег за некачественный товар\\r\\n                                                                 7\n",
       "                                                                                                                                 ..\n",
       "\\r\\n                    Магазин обуви\\r\\n                                                                                         1\n",
       "\\r\\n                    Неправильный расчет\\r\\n                                                                                   1\n",
       "\\r\\n                    Хранение стерильных инструментов\\r\\n                                                                      1\n",
       "\\r\\n                    Посторонние предметы в хлебе\\r\\n                                                                          1\n",
       "\\r\\n                    Руководителю г-же Андреевой Е.Е.\\r\\n                                                                      1\n",
       "\\r\\n                    Состояние городского транспорта\\r\\n                                                                       1\n",
       "\\r\\n                    Неоказанная услуга\\r\\n                                                                                    1\n",
       "\\r\\n                    Вышка сотовой связи установлена в трёх метрах от жилого дома\\r\\n                                          1\n",
       "\\r\\n                    Прекращение подачи воды более чем на 24 часа \\r\\n                                                         1\n",
       "\\r\\n                    Вода в ванной бьет током\\r\\n                                                                              1\n",
       "\\r\\n                    Обман в интернет магазине\\r\\n                                                                             1\n",
       "\\r\\n                    Мошенничество сотрудников интернет-магазина\\r\\n                                                           1\n",
       "\\r\\n                    М видео не выполняют заявленную бонусную программу.\\r\\n                                                   1\n",
       "\\r\\n                    Утеря посылки сдэк\\r\\n                                                                                    1\n",
       "\\r\\n                    Протечка кровли \\r\\n                                                                                      1\n",
       "\\r\\n                    Кассовые аппараты не соответствуют 54-ФЗ.\\r\\n                                                             1\n",
       "\\r\\n                    Возврат холодильника ненадлежащего качества на гарантийном сроке.\\r\\n                                     1\n",
       "\\r\\n                    Прислали товар ненадлежащего качества \\r\\n                                                                1\n",
       "\\r\\n                    В квартире воняет мочой от соседей пьяниц снизу\\r\\n                                                       1\n",
       "\\r\\n                    Временное прекращение деятельности ООО \"Феникс-плюс\" ИНН 0273081136\\r\\n                                   1\n",
       "\\r\\n                    жалоба на торговлю санкционными продуктами\\r\\n                                                            1\n",
       "\\r\\n                    Вернуть деньги за очки\\r\\n                                                                                1\n",
       "\\r\\n                    О незаконной установке септика\\r\\n                                                                        1\n",
       "\\r\\n                    Заболели в санатории\\r\\n                                                                                  1\n",
       "\\r\\n                    Питание в МДОУ\\r\\n                                                                                        1\n",
       "\\r\\n                    Банк отказывается вернуть деньги за страховку\\r\\n                                                         1\n",
       "\\r\\n                    просим разъяснения норм СанПиН\\r\\n                                                                        1\n",
       "\\r\\n                    Возврат денежных средств за расторжение договора\\r\\n                                                      1\n",
       "\\r\\n                    Замена прибора учета с класса точности 2.0 на прибор учета 2.5. Начисление оплаты\\r\\n                     1\n",
       "\\r\\n                    МВидео возврат некачественной посудомойки\\r\\n                                                             1\n",
       "Name: titles, Length: 9156, dtype: int64"
      ]
     },
     "execution_count": 94,
     "metadata": {},
     "output_type": "execute_result"
    }
   ],
   "source": [
    "titleflatdf['titles'].value_counts()"
   ]
  },
  {
   "cell_type": "code",
   "execution_count": 96,
   "metadata": {},
   "outputs": [
    {
     "name": "stdout",
     "output_type": "stream",
     "text": [
      "[datetime.datetime(2019, 10, 28, 0, 0), datetime.datetime(2019, 10, 26, 0, 0), datetime.datetime(2019, 10, 25, 0, 0), datetime.datetime(2019, 10, 25, 0, 0), datetime.datetime(2019, 10, 24, 0, 0), datetime.datetime(2019, 10, 24, 0, 0), datetime.datetime(2019, 10, 23, 0, 0), datetime.datetime(2019, 10, 23, 0, 0), datetime.datetime(2019, 10, 23, 0, 0), datetime.datetime(2019, 10, 22, 0, 0), datetime.datetime(2019, 10, 22, 0, 0), datetime.datetime(2019, 10, 22, 0, 0), datetime.datetime(2019, 10, 22, 0, 0), datetime.datetime(2019, 10, 22, 0, 0), datetime.datetime(2019, 10, 22, 0, 0), datetime.datetime(2019, 10, 22, 0, 0), datetime.datetime(2019, 10, 21, 0, 0), datetime.datetime(2019, 10, 21, 0, 0), datetime.datetime(2019, 10, 20, 0, 0), datetime.datetime(2019, 10, 19, 0, 0), datetime.datetime(2019, 10, 19, 0, 0), datetime.datetime(2019, 10, 18, 0, 0), datetime.datetime(2019, 10, 18, 0, 0), datetime.datetime(2019, 10, 18, 0, 0), datetime.datetime(2019, 10, 18, 0, 0), datetime.datetime(2019, 10, 18, 0, 0), datetime.datetime(2019, 10, 18, 0, 0), datetime.datetime(2019, 10, 17, 0, 0), datetime.datetime(2019, 10, 17, 0, 0), datetime.datetime(2019, 10, 17, 0, 0), datetime.datetime(2019, 10, 17, 0, 0), datetime.datetime(2019, 10, 17, 0, 0), datetime.datetime(2019, 10, 17, 0, 0), datetime.datetime(2019, 10, 17, 0, 0), datetime.datetime(2019, 10, 17, 0, 0), datetime.datetime(2019, 10, 16, 0, 0), datetime.datetime(2019, 10, 16, 0, 0), datetime.datetime(2019, 10, 16, 0, 0), datetime.datetime(2019, 10, 15, 0, 0), datetime.datetime(2019, 10, 15, 0, 0), datetime.datetime(2019, 10, 15, 0, 0), datetime.datetime(2019, 10, 15, 0, 0), datetime.datetime(2019, 10, 15, 0, 0), datetime.datetime(2019, 10, 15, 0, 0), datetime.datetime(2019, 10, 15, 0, 0), datetime.datetime(2019, 10, 14, 0, 0), datetime.datetime(2019, 10, 14, 0, 0), datetime.datetime(2019, 10, 14, 0, 0), datetime.datetime(2019, 10, 14, 0, 0), datetime.datetime(2019, 10, 14, 0, 0), datetime.datetime(2019, 10, 14, 0, 0), datetime.datetime(2019, 10, 14, 0, 0), datetime.datetime(2019, 10, 14, 0, 0), datetime.datetime(2019, 10, 14, 0, 0), datetime.datetime(2019, 10, 14, 0, 0), datetime.datetime(2019, 10, 14, 0, 0), datetime.datetime(2019, 10, 13, 0, 0), datetime.datetime(2019, 10, 13, 0, 0), datetime.datetime(2019, 10, 13, 0, 0), datetime.datetime(2019, 10, 13, 0, 0), datetime.datetime(2019, 10, 12, 0, 0), datetime.datetime(2019, 10, 12, 0, 0), datetime.datetime(2019, 10, 12, 0, 0), datetime.datetime(2019, 10, 12, 0, 0), datetime.datetime(2019, 10, 12, 0, 0), datetime.datetime(2019, 10, 11, 0, 0), datetime.datetime(2019, 10, 11, 0, 0), datetime.datetime(2019, 10, 11, 0, 0), datetime.datetime(2019, 10, 11, 0, 0), datetime.datetime(2019, 10, 10, 0, 0), datetime.datetime(2019, 10, 10, 0, 0), datetime.datetime(2019, 10, 10, 0, 0), datetime.datetime(2019, 10, 10, 0, 0), datetime.datetime(2019, 10, 10, 0, 0), datetime.datetime(2019, 10, 10, 0, 0), datetime.datetime(2019, 10, 10, 0, 0), datetime.datetime(2019, 10, 10, 0, 0), datetime.datetime(2019, 10, 9, 0, 0), datetime.datetime(2019, 10, 9, 0, 0), datetime.datetime(2019, 10, 9, 0, 0), datetime.datetime(2019, 10, 9, 0, 0), datetime.datetime(2019, 10, 9, 0, 0), datetime.datetime(2019, 10, 9, 0, 0), datetime.datetime(2019, 10, 9, 0, 0), datetime.datetime(2019, 10, 9, 0, 0), datetime.datetime(2019, 10, 8, 0, 0), datetime.datetime(2019, 10, 8, 0, 0), datetime.datetime(2019, 10, 8, 0, 0), datetime.datetime(2019, 10, 8, 0, 0), datetime.datetime(2019, 10, 8, 0, 0), datetime.datetime(2019, 10, 7, 0, 0), datetime.datetime(2019, 10, 7, 0, 0), datetime.datetime(2019, 10, 7, 0, 0), datetime.datetime(2019, 10, 7, 0, 0), datetime.datetime(2019, 10, 7, 0, 0), datetime.datetime(2019, 10, 7, 0, 0), datetime.datetime(2019, 10, 7, 0, 0), datetime.datetime(2019, 10, 7, 0, 0), datetime.datetime(2019, 10, 7, 0, 0), datetime.datetime(2019, 10, 6, 0, 0), datetime.datetime(2019, 10, 6, 0, 0), datetime.datetime(2019, 10, 6, 0, 0), datetime.datetime(2019, 10, 5, 0, 0), datetime.datetime(2019, 10, 5, 0, 0), datetime.datetime(2019, 10, 5, 0, 0), datetime.datetime(2019, 10, 4, 0, 0), datetime.datetime(2019, 10, 4, 0, 0), datetime.datetime(2019, 10, 4, 0, 0), datetime.datetime(2019, 10, 4, 0, 0), datetime.datetime(2019, 10, 4, 0, 0), datetime.datetime(2019, 10, 3, 0, 0), datetime.datetime(2019, 10, 3, 0, 0), datetime.datetime(2019, 10, 3, 0, 0), datetime.datetime(2019, 10, 3, 0, 0), datetime.datetime(2019, 10, 2, 0, 0), datetime.datetime(2019, 10, 2, 0, 0), datetime.datetime(2019, 10, 2, 0, 0), datetime.datetime(2019, 10, 2, 0, 0), datetime.datetime(2019, 10, 2, 0, 0), datetime.datetime(2019, 10, 2, 0, 0), datetime.datetime(2019, 10, 2, 0, 0), datetime.datetime(2019, 10, 2, 0, 0), datetime.datetime(2019, 10, 2, 0, 0), datetime.datetime(2019, 10, 1, 0, 0), datetime.datetime(2019, 10, 1, 0, 0), datetime.datetime(2019, 10, 1, 0, 0), datetime.datetime(2019, 10, 1, 0, 0), datetime.datetime(2019, 10, 1, 0, 0), datetime.datetime(2019, 10, 1, 0, 0), datetime.datetime(2019, 10, 1, 0, 0), datetime.datetime(2019, 9, 30, 0, 0), datetime.datetime(2019, 9, 30, 0, 0), datetime.datetime(2019, 9, 30, 0, 0), datetime.datetime(2019, 9, 30, 0, 0), datetime.datetime(2019, 9, 30, 0, 0), datetime.datetime(2019, 9, 30, 0, 0), datetime.datetime(2019, 9, 29, 0, 0), datetime.datetime(2019, 9, 29, 0, 0), datetime.datetime(2019, 9, 29, 0, 0), datetime.datetime(2019, 9, 29, 0, 0), datetime.datetime(2019, 9, 29, 0, 0), datetime.datetime(2019, 9, 29, 0, 0), datetime.datetime(2019, 9, 29, 0, 0), datetime.datetime(2019, 9, 29, 0, 0), datetime.datetime(2019, 9, 29, 0, 0), datetime.datetime(2019, 9, 29, 0, 0), datetime.datetime(2019, 9, 28, 0, 0), datetime.datetime(2019, 9, 28, 0, 0), datetime.datetime(2019, 9, 28, 0, 0), datetime.datetime(2019, 9, 28, 0, 0), datetime.datetime(2019, 9, 27, 0, 0), datetime.datetime(2019, 9, 27, 0, 0), datetime.datetime(2019, 9, 27, 0, 0), datetime.datetime(2019, 9, 27, 0, 0), datetime.datetime(2019, 9, 27, 0, 0), datetime.datetime(2019, 9, 27, 0, 0), datetime.datetime(2019, 9, 27, 0, 0), datetime.datetime(2019, 9, 26, 0, 0), datetime.datetime(2019, 9, 26, 0, 0), datetime.datetime(2019, 9, 26, 0, 0), datetime.datetime(2019, 9, 26, 0, 0), datetime.datetime(2019, 9, 26, 0, 0), datetime.datetime(2019, 9, 26, 0, 0), datetime.datetime(2019, 9, 26, 0, 0), datetime.datetime(2019, 9, 26, 0, 0), datetime.datetime(2019, 9, 26, 0, 0), datetime.datetime(2019, 9, 26, 0, 0), datetime.datetime(2019, 9, 26, 0, 0), datetime.datetime(2019, 9, 26, 0, 0), datetime.datetime(2019, 9, 26, 0, 0), datetime.datetime(2019, 9, 25, 0, 0), datetime.datetime(2019, 9, 25, 0, 0), datetime.datetime(2019, 9, 25, 0, 0), datetime.datetime(2019, 9, 25, 0, 0), datetime.datetime(2019, 9, 25, 0, 0), datetime.datetime(2019, 9, 25, 0, 0), datetime.datetime(2019, 9, 24, 0, 0), datetime.datetime(2019, 9, 24, 0, 0), datetime.datetime(2019, 9, 24, 0, 0), datetime.datetime(2019, 9, 24, 0, 0), datetime.datetime(2019, 9, 24, 0, 0), datetime.datetime(2019, 9, 24, 0, 0), datetime.datetime(2019, 9, 24, 0, 0), datetime.datetime(2019, 9, 24, 0, 0), datetime.datetime(2019, 9, 24, 0, 0), datetime.datetime(2019, 9, 24, 0, 0), datetime.datetime(2019, 9, 23, 0, 0), datetime.datetime(2019, 9, 23, 0, 0), datetime.datetime(2019, 9, 23, 0, 0), datetime.datetime(2019, 9, 23, 0, 0), datetime.datetime(2019, 9, 23, 0, 0), datetime.datetime(2019, 9, 23, 0, 0), datetime.datetime(2019, 9, 23, 0, 0), datetime.datetime(2019, 9, 23, 0, 0), datetime.datetime(2019, 9, 23, 0, 0), datetime.datetime(2019, 9, 23, 0, 0), datetime.datetime(2019, 9, 23, 0, 0), datetime.datetime(2019, 9, 23, 0, 0), datetime.datetime(2019, 9, 23, 0, 0), datetime.datetime(2019, 9, 23, 0, 0), datetime.datetime(2019, 9, 23, 0, 0), datetime.datetime(2019, 9, 23, 0, 0), datetime.datetime(2019, 9, 23, 0, 0), datetime.datetime(2019, 9, 23, 0, 0), datetime.datetime(2019, 9, 22, 0, 0), datetime.datetime(2019, 9, 22, 0, 0), datetime.datetime(2019, 9, 22, 0, 0), datetime.datetime(2019, 9, 21, 0, 0), datetime.datetime(2019, 9, 21, 0, 0), datetime.datetime(2019, 9, 21, 0, 0), datetime.datetime(2019, 9, 20, 0, 0), datetime.datetime(2019, 9, 20, 0, 0), datetime.datetime(2019, 9, 20, 0, 0), datetime.datetime(2019, 9, 20, 0, 0), datetime.datetime(2019, 9, 20, 0, 0), datetime.datetime(2019, 9, 20, 0, 0), datetime.datetime(2019, 9, 20, 0, 0), datetime.datetime(2019, 9, 19, 0, 0), datetime.datetime(2019, 9, 19, 0, 0), datetime.datetime(2019, 9, 19, 0, 0), datetime.datetime(2019, 9, 19, 0, 0), datetime.datetime(2019, 9, 19, 0, 0), datetime.datetime(2019, 9, 19, 0, 0), datetime.datetime(2019, 9, 19, 0, 0), datetime.datetime(2019, 9, 19, 0, 0), datetime.datetime(2019, 9, 19, 0, 0), datetime.datetime(2019, 9, 18, 0, 0), datetime.datetime(2019, 9, 18, 0, 0), datetime.datetime(2019, 9, 18, 0, 0), datetime.datetime(2019, 9, 18, 0, 0), datetime.datetime(2019, 9, 18, 0, 0), datetime.datetime(2019, 9, 18, 0, 0), datetime.datetime(2019, 9, 17, 0, 0), datetime.datetime(2019, 9, 17, 0, 0), datetime.datetime(2019, 9, 17, 0, 0), datetime.datetime(2019, 9, 17, 0, 0), datetime.datetime(2019, 9, 17, 0, 0), datetime.datetime(2019, 9, 17, 0, 0), datetime.datetime(2019, 9, 17, 0, 0), datetime.datetime(2019, 9, 17, 0, 0), datetime.datetime(2019, 9, 16, 0, 0), datetime.datetime(2019, 9, 16, 0, 0), datetime.datetime(2019, 9, 16, 0, 0), datetime.datetime(2019, 9, 16, 0, 0), datetime.datetime(2019, 9, 16, 0, 0), datetime.datetime(2019, 9, 16, 0, 0), datetime.datetime(2019, 9, 16, 0, 0), datetime.datetime(2019, 9, 16, 0, 0), datetime.datetime(2019, 9, 16, 0, 0), datetime.datetime(2019, 9, 16, 0, 0), datetime.datetime(2019, 9, 16, 0, 0), datetime.datetime(2019, 9, 16, 0, 0), datetime.datetime(2019, 9, 16, 0, 0), datetime.datetime(2019, 9, 16, 0, 0), datetime.datetime(2019, 9, 15, 0, 0), datetime.datetime(2019, 9, 14, 0, 0), datetime.datetime(2019, 9, 14, 0, 0), datetime.datetime(2019, 9, 14, 0, 0), datetime.datetime(2019, 9, 14, 0, 0), datetime.datetime(2019, 9, 14, 0, 0), datetime.datetime(2019, 9, 14, 0, 0), datetime.datetime(2019, 9, 13, 0, 0), datetime.datetime(2019, 9, 13, 0, 0), datetime.datetime(2019, 9, 13, 0, 0), datetime.datetime(2019, 9, 13, 0, 0), datetime.datetime(2019, 9, 13, 0, 0), datetime.datetime(2019, 9, 13, 0, 0), datetime.datetime(2019, 9, 13, 0, 0), datetime.datetime(2019, 9, 12, 0, 0), datetime.datetime(2019, 9, 12, 0, 0), datetime.datetime(2019, 9, 12, 0, 0), datetime.datetime(2019, 9, 12, 0, 0), datetime.datetime(2019, 9, 12, 0, 0), datetime.datetime(2019, 9, 12, 0, 0), datetime.datetime(2019, 9, 12, 0, 0), datetime.datetime(2019, 9, 12, 0, 0), datetime.datetime(2019, 9, 12, 0, 0), datetime.datetime(2019, 9, 12, 0, 0), datetime.datetime(2019, 9, 11, 0, 0), datetime.datetime(2019, 9, 11, 0, 0), datetime.datetime(2019, 9, 11, 0, 0), datetime.datetime(2019, 9, 11, 0, 0), datetime.datetime(2019, 9, 11, 0, 0), datetime.datetime(2019, 9, 11, 0, 0), datetime.datetime(2019, 9, 11, 0, 0), datetime.datetime(2019, 9, 11, 0, 0), datetime.datetime(2019, 9, 11, 0, 0), datetime.datetime(2019, 9, 11, 0, 0), datetime.datetime(2019, 9, 11, 0, 0), datetime.datetime(2019, 9, 11, 0, 0), datetime.datetime(2019, 9, 11, 0, 0), datetime.datetime(2019, 9, 11, 0, 0), datetime.datetime(2019, 9, 11, 0, 0), datetime.datetime(2019, 9, 10, 0, 0), datetime.datetime(2019, 9, 10, 0, 0), datetime.datetime(2019, 9, 10, 0, 0), datetime.datetime(2019, 9, 10, 0, 0), datetime.datetime(2019, 9, 10, 0, 0), datetime.datetime(2019, 9, 10, 0, 0), datetime.datetime(2019, 9, 10, 0, 0), datetime.datetime(2019, 9, 10, 0, 0), datetime.datetime(2019, 9, 10, 0, 0), datetime.datetime(2019, 9, 10, 0, 0), datetime.datetime(2019, 9, 10, 0, 0), datetime.datetime(2019, 9, 10, 0, 0), datetime.datetime(2019, 9, 10, 0, 0), datetime.datetime(2019, 9, 10, 0, 0), datetime.datetime(2019, 9, 9, 0, 0), datetime.datetime(2019, 9, 9, 0, 0), datetime.datetime(2019, 9, 9, 0, 0), datetime.datetime(2019, 9, 9, 0, 0), datetime.datetime(2019, 9, 9, 0, 0), datetime.datetime(2019, 9, 9, 0, 0), datetime.datetime(2019, 9, 9, 0, 0), datetime.datetime(2019, 9, 8, 0, 0), datetime.datetime(2019, 9, 8, 0, 0), datetime.datetime(2019, 9, 8, 0, 0), datetime.datetime(2019, 9, 8, 0, 0), datetime.datetime(2019, 9, 8, 0, 0), datetime.datetime(2019, 9, 7, 0, 0), datetime.datetime(2019, 9, 6, 0, 0), datetime.datetime(2019, 9, 6, 0, 0), datetime.datetime(2019, 9, 6, 0, 0), datetime.datetime(2019, 9, 6, 0, 0), datetime.datetime(2019, 9, 6, 0, 0), datetime.datetime(2019, 9, 6, 0, 0), datetime.datetime(2019, 9, 6, 0, 0), datetime.datetime(2019, 9, 6, 0, 0), datetime.datetime(2019, 9, 6, 0, 0), datetime.datetime(2019, 9, 6, 0, 0), datetime.datetime(2019, 9, 6, 0, 0), datetime.datetime(2019, 9, 5, 0, 0), datetime.datetime(2019, 9, 5, 0, 0), datetime.datetime(2019, 9, 5, 0, 0), datetime.datetime(2019, 9, 5, 0, 0), datetime.datetime(2019, 9, 5, 0, 0), datetime.datetime(2019, 9, 5, 0, 0), datetime.datetime(2019, 9, 5, 0, 0), datetime.datetime(2019, 9, 5, 0, 0), datetime.datetime(2019, 9, 4, 0, 0), datetime.datetime(2019, 9, 4, 0, 0), datetime.datetime(2019, 9, 4, 0, 0), datetime.datetime(2019, 9, 4, 0, 0), datetime.datetime(2019, 9, 4, 0, 0), datetime.datetime(2019, 9, 4, 0, 0), datetime.datetime(2019, 9, 4, 0, 0), datetime.datetime(2019, 9, 3, 0, 0), datetime.datetime(2019, 9, 3, 0, 0), datetime.datetime(2019, 9, 3, 0, 0), datetime.datetime(2019, 9, 3, 0, 0), datetime.datetime(2019, 9, 3, 0, 0), datetime.datetime(2019, 9, 3, 0, 0), datetime.datetime(2019, 9, 3, 0, 0), datetime.datetime(2019, 9, 3, 0, 0), datetime.datetime(2019, 9, 3, 0, 0), datetime.datetime(2019, 9, 3, 0, 0), datetime.datetime(2019, 9, 3, 0, 0), datetime.datetime(2019, 9, 3, 0, 0), datetime.datetime(2019, 9, 3, 0, 0), datetime.datetime(2019, 9, 2, 0, 0), datetime.datetime(2019, 9, 2, 0, 0), datetime.datetime(2019, 9, 2, 0, 0), datetime.datetime(2019, 9, 2, 0, 0), datetime.datetime(2019, 9, 2, 0, 0), datetime.datetime(2019, 9, 1, 0, 0), datetime.datetime(2019, 9, 1, 0, 0), datetime.datetime(2019, 9, 1, 0, 0), datetime.datetime(2019, 8, 31, 0, 0), datetime.datetime(2019, 8, 31, 0, 0), datetime.datetime(2019, 8, 31, 0, 0), datetime.datetime(2019, 8, 31, 0, 0), datetime.datetime(2019, 8, 31, 0, 0), datetime.datetime(2019, 8, 31, 0, 0), datetime.datetime(2019, 8, 30, 0, 0), datetime.datetime(2019, 8, 30, 0, 0), datetime.datetime(2019, 8, 30, 0, 0), datetime.datetime(2019, 8, 30, 0, 0), datetime.datetime(2019, 8, 30, 0, 0), datetime.datetime(2019, 8, 30, 0, 0), datetime.datetime(2019, 8, 29, 0, 0), datetime.datetime(2019, 8, 29, 0, 0), datetime.datetime(2019, 8, 29, 0, 0), datetime.datetime(2019, 8, 29, 0, 0), datetime.datetime(2019, 8, 29, 0, 0), datetime.datetime(2019, 8, 29, 0, 0), datetime.datetime(2019, 8, 29, 0, 0), datetime.datetime(2019, 8, 29, 0, 0), datetime.datetime(2019, 8, 29, 0, 0), datetime.datetime(2019, 8, 28, 0, 0), datetime.datetime(2019, 8, 28, 0, 0), datetime.datetime(2019, 8, 28, 0, 0), datetime.datetime(2019, 8, 28, 0, 0), datetime.datetime(2019, 8, 28, 0, 0), datetime.datetime(2019, 8, 28, 0, 0), datetime.datetime(2019, 8, 28, 0, 0), datetime.datetime(2019, 8, 28, 0, 0), datetime.datetime(2019, 8, 28, 0, 0), datetime.datetime(2019, 8, 27, 0, 0), datetime.datetime(2019, 8, 27, 0, 0), datetime.datetime(2019, 8, 27, 0, 0), datetime.datetime(2019, 8, 27, 0, 0), datetime.datetime(2019, 8, 27, 0, 0), datetime.datetime(2019, 8, 27, 0, 0), datetime.datetime(2019, 8, 27, 0, 0), datetime.datetime(2019, 8, 27, 0, 0), datetime.datetime(2019, 8, 27, 0, 0), datetime.datetime(2019, 8, 27, 0, 0), datetime.datetime(2019, 8, 27, 0, 0), datetime.datetime(2019, 8, 26, 0, 0), datetime.datetime(2019, 8, 26, 0, 0), datetime.datetime(2019, 8, 26, 0, 0), datetime.datetime(2019, 8, 26, 0, 0), datetime.datetime(2019, 8, 26, 0, 0), datetime.datetime(2019, 8, 26, 0, 0), datetime.datetime(2019, 8, 26, 0, 0), datetime.datetime(2019, 8, 25, 0, 0), datetime.datetime(2019, 8, 24, 0, 0), datetime.datetime(2019, 8, 24, 0, 0), datetime.datetime(2019, 8, 24, 0, 0), datetime.datetime(2019, 8, 24, 0, 0), datetime.datetime(2019, 8, 24, 0, 0), datetime.datetime(2019, 8, 24, 0, 0), datetime.datetime(2019, 8, 24, 0, 0), datetime.datetime(2019, 8, 23, 0, 0), datetime.datetime(2019, 8, 23, 0, 0), datetime.datetime(2019, 8, 23, 0, 0), datetime.datetime(2019, 8, 23, 0, 0), datetime.datetime(2019, 8, 23, 0, 0), datetime.datetime(2019, 8, 23, 0, 0), datetime.datetime(2019, 8, 23, 0, 0), datetime.datetime(2019, 8, 23, 0, 0), datetime.datetime(2019, 8, 23, 0, 0), datetime.datetime(2019, 8, 23, 0, 0), datetime.datetime(2019, 8, 22, 0, 0), datetime.datetime(2019, 8, 22, 0, 0), datetime.datetime(2019, 8, 22, 0, 0), datetime.datetime(2019, 8, 22, 0, 0), datetime.datetime(2019, 8, 22, 0, 0), datetime.datetime(2019, 8, 22, 0, 0), datetime.datetime(2019, 8, 22, 0, 0), datetime.datetime(2019, 8, 22, 0, 0), datetime.datetime(2019, 8, 22, 0, 0), datetime.datetime(2019, 8, 22, 0, 0), datetime.datetime(2019, 8, 22, 0, 0), datetime.datetime(2019, 8, 22, 0, 0), datetime.datetime(2019, 8, 22, 0, 0), datetime.datetime(2019, 8, 22, 0, 0), datetime.datetime(2019, 8, 22, 0, 0), datetime.datetime(2019, 8, 21, 0, 0), datetime.datetime(2019, 8, 21, 0, 0), datetime.datetime(2019, 8, 21, 0, 0), datetime.datetime(2019, 8, 21, 0, 0), datetime.datetime(2019, 8, 21, 0, 0), datetime.datetime(2019, 8, 21, 0, 0), datetime.datetime(2019, 8, 21, 0, 0), datetime.datetime(2019, 8, 21, 0, 0), datetime.datetime(2019, 8, 20, 0, 0), datetime.datetime(2019, 8, 20, 0, 0), datetime.datetime(2019, 8, 20, 0, 0), datetime.datetime(2019, 8, 20, 0, 0), datetime.datetime(2019, 8, 20, 0, 0), datetime.datetime(2019, 8, 20, 0, 0), datetime.datetime(2019, 8, 20, 0, 0), datetime.datetime(2019, 8, 20, 0, 0), datetime.datetime(2019, 8, 19, 0, 0), datetime.datetime(2019, 8, 19, 0, 0), datetime.datetime(2019, 8, 19, 0, 0), datetime.datetime(2019, 8, 19, 0, 0), datetime.datetime(2019, 8, 19, 0, 0), datetime.datetime(2019, 8, 19, 0, 0), datetime.datetime(2019, 8, 19, 0, 0), datetime.datetime(2019, 8, 19, 0, 0), datetime.datetime(2019, 8, 19, 0, 0), datetime.datetime(2019, 8, 19, 0, 0), datetime.datetime(2019, 8, 18, 0, 0), datetime.datetime(2019, 8, 18, 0, 0), datetime.datetime(2019, 8, 18, 0, 0), datetime.datetime(2019, 8, 18, 0, 0), datetime.datetime(2019, 8, 18, 0, 0), datetime.datetime(2019, 8, 18, 0, 0), datetime.datetime(2019, 8, 18, 0, 0), datetime.datetime(2019, 8, 18, 0, 0), datetime.datetime(2019, 8, 18, 0, 0), datetime.datetime(2019, 8, 18, 0, 0), datetime.datetime(2019, 8, 18, 0, 0), datetime.datetime(2019, 8, 17, 0, 0), datetime.datetime(2019, 8, 17, 0, 0), datetime.datetime(2019, 8, 17, 0, 0), datetime.datetime(2019, 8, 16, 0, 0), datetime.datetime(2019, 8, 16, 0, 0), datetime.datetime(2019, 8, 16, 0, 0), datetime.datetime(2019, 8, 16, 0, 0), datetime.datetime(2019, 8, 16, 0, 0), datetime.datetime(2019, 8, 16, 0, 0), datetime.datetime(2019, 8, 16, 0, 0), datetime.datetime(2019, 8, 16, 0, 0), datetime.datetime(2019, 8, 16, 0, 0), datetime.datetime(2019, 8, 15, 0, 0), datetime.datetime(2019, 8, 15, 0, 0), datetime.datetime(2019, 8, 15, 0, 0), datetime.datetime(2019, 8, 15, 0, 0), datetime.datetime(2019, 8, 15, 0, 0), datetime.datetime(2019, 8, 15, 0, 0), datetime.datetime(2019, 8, 14, 0, 0), datetime.datetime(2019, 8, 14, 0, 0), datetime.datetime(2019, 8, 14, 0, 0), datetime.datetime(2019, 8, 14, 0, 0), datetime.datetime(2019, 8, 14, 0, 0), datetime.datetime(2019, 8, 14, 0, 0), datetime.datetime(2019, 8, 14, 0, 0), datetime.datetime(2019, 8, 14, 0, 0), datetime.datetime(2019, 8, 14, 0, 0), datetime.datetime(2019, 8, 13, 0, 0), datetime.datetime(2019, 8, 13, 0, 0), datetime.datetime(2019, 8, 13, 0, 0), datetime.datetime(2019, 8, 13, 0, 0), datetime.datetime(2019, 8, 13, 0, 0), datetime.datetime(2019, 8, 13, 0, 0), datetime.datetime(2019, 8, 13, 0, 0), datetime.datetime(2019, 8, 13, 0, 0), datetime.datetime(2019, 8, 13, 0, 0), datetime.datetime(2019, 8, 13, 0, 0), datetime.datetime(2019, 8, 12, 0, 0), datetime.datetime(2019, 8, 12, 0, 0), datetime.datetime(2019, 8, 12, 0, 0), datetime.datetime(2019, 8, 12, 0, 0), datetime.datetime(2019, 8, 12, 0, 0), datetime.datetime(2019, 8, 11, 0, 0), datetime.datetime(2019, 8, 11, 0, 0), datetime.datetime(2019, 8, 11, 0, 0), datetime.datetime(2019, 8, 11, 0, 0), datetime.datetime(2019, 8, 10, 0, 0), datetime.datetime(2019, 8, 10, 0, 0), datetime.datetime(2019, 8, 10, 0, 0), datetime.datetime(2019, 8, 10, 0, 0), datetime.datetime(2019, 8, 10, 0, 0), datetime.datetime(2019, 8, 10, 0, 0), datetime.datetime(2019, 8, 9, 0, 0), datetime.datetime(2019, 8, 9, 0, 0), datetime.datetime(2019, 8, 9, 0, 0), datetime.datetime(2019, 8, 9, 0, 0), datetime.datetime(2019, 8, 8, 0, 0), datetime.datetime(2019, 8, 8, 0, 0), datetime.datetime(2019, 8, 8, 0, 0), datetime.datetime(2019, 8, 8, 0, 0), datetime.datetime(2019, 8, 8, 0, 0), datetime.datetime(2019, 8, 8, 0, 0), datetime.datetime(2019, 8, 7, 0, 0), datetime.datetime(2019, 8, 7, 0, 0), datetime.datetime(2019, 8, 7, 0, 0), datetime.datetime(2019, 8, 7, 0, 0), datetime.datetime(2019, 8, 7, 0, 0), datetime.datetime(2019, 8, 7, 0, 0), datetime.datetime(2019, 8, 7, 0, 0), datetime.datetime(2019, 8, 7, 0, 0), datetime.datetime(2019, 8, 7, 0, 0), datetime.datetime(2019, 8, 7, 0, 0), datetime.datetime(2019, 8, 7, 0, 0), datetime.datetime(2019, 8, 6, 0, 0), datetime.datetime(2019, 8, 6, 0, 0), datetime.datetime(2019, 8, 6, 0, 0), datetime.datetime(2019, 8, 6, 0, 0), datetime.datetime(2019, 8, 6, 0, 0), datetime.datetime(2019, 8, 6, 0, 0), datetime.datetime(2019, 8, 6, 0, 0), datetime.datetime(2019, 8, 6, 0, 0), datetime.datetime(2019, 8, 6, 0, 0), datetime.datetime(2019, 8, 6, 0, 0), datetime.datetime(2019, 8, 6, 0, 0), datetime.datetime(2019, 8, 6, 0, 0), datetime.datetime(2019, 8, 6, 0, 0), datetime.datetime(2019, 8, 6, 0, 0), datetime.datetime(2019, 8, 5, 0, 0), datetime.datetime(2019, 8, 5, 0, 0), datetime.datetime(2019, 8, 5, 0, 0), datetime.datetime(2019, 8, 5, 0, 0), datetime.datetime(2019, 8, 5, 0, 0), datetime.datetime(2019, 8, 5, 0, 0), datetime.datetime(2019, 8, 5, 0, 0), datetime.datetime(2019, 8, 5, 0, 0), datetime.datetime(2019, 8, 4, 0, 0), datetime.datetime(2019, 8, 4, 0, 0), datetime.datetime(2019, 8, 3, 0, 0), datetime.datetime(2019, 8, 3, 0, 0), datetime.datetime(2019, 8, 3, 0, 0), datetime.datetime(2019, 8, 3, 0, 0), datetime.datetime(2019, 8, 3, 0, 0), datetime.datetime(2019, 8, 2, 0, 0), datetime.datetime(2019, 8, 2, 0, 0), datetime.datetime(2019, 8, 2, 0, 0), datetime.datetime(2019, 8, 2, 0, 0), datetime.datetime(2019, 8, 2, 0, 0), datetime.datetime(2019, 8, 1, 0, 0), datetime.datetime(2019, 8, 1, 0, 0), datetime.datetime(2019, 8, 1, 0, 0), datetime.datetime(2019, 8, 1, 0, 0), datetime.datetime(2019, 8, 1, 0, 0), datetime.datetime(2019, 7, 31, 0, 0), datetime.datetime(2019, 7, 31, 0, 0), datetime.datetime(2019, 7, 31, 0, 0), datetime.datetime(2019, 7, 31, 0, 0), datetime.datetime(2019, 7, 31, 0, 0), datetime.datetime(2019, 7, 31, 0, 0), datetime.datetime(2019, 7, 30, 0, 0), datetime.datetime(2019, 7, 30, 0, 0), datetime.datetime(2019, 7, 30, 0, 0), datetime.datetime(2019, 7, 30, 0, 0), datetime.datetime(2019, 7, 29, 0, 0), datetime.datetime(2019, 7, 29, 0, 0), datetime.datetime(2019, 7, 29, 0, 0), datetime.datetime(2019, 7, 29, 0, 0), datetime.datetime(2019, 7, 28, 0, 0), datetime.datetime(2019, 7, 28, 0, 0), datetime.datetime(2019, 7, 28, 0, 0), datetime.datetime(2019, 7, 28, 0, 0), datetime.datetime(2019, 7, 28, 0, 0), datetime.datetime(2019, 7, 27, 0, 0), datetime.datetime(2019, 7, 27, 0, 0), datetime.datetime(2019, 7, 27, 0, 0), datetime.datetime(2019, 7, 27, 0, 0), datetime.datetime(2019, 7, 27, 0, 0), datetime.datetime(2019, 7, 27, 0, 0), datetime.datetime(2019, 7, 27, 0, 0), datetime.datetime(2019, 7, 26, 0, 0), datetime.datetime(2019, 7, 26, 0, 0), datetime.datetime(2019, 7, 26, 0, 0), datetime.datetime(2019, 7, 26, 0, 0), datetime.datetime(2019, 7, 25, 0, 0), datetime.datetime(2019, 7, 25, 0, 0), datetime.datetime(2019, 7, 25, 0, 0), datetime.datetime(2019, 7, 25, 0, 0), datetime.datetime(2019, 7, 25, 0, 0), datetime.datetime(2019, 7, 25, 0, 0), datetime.datetime(2019, 7, 25, 0, 0), datetime.datetime(2019, 7, 25, 0, 0), datetime.datetime(2019, 7, 25, 0, 0), datetime.datetime(2019, 7, 24, 0, 0), datetime.datetime(2019, 7, 24, 0, 0), datetime.datetime(2019, 7, 24, 0, 0), datetime.datetime(2019, 7, 24, 0, 0), datetime.datetime(2019, 7, 24, 0, 0), datetime.datetime(2019, 7, 24, 0, 0), datetime.datetime(2019, 7, 24, 0, 0), datetime.datetime(2019, 7, 24, 0, 0), datetime.datetime(2019, 7, 23, 0, 0), datetime.datetime(2019, 7, 23, 0, 0), datetime.datetime(2019, 7, 23, 0, 0), datetime.datetime(2019, 7, 23, 0, 0), datetime.datetime(2019, 7, 23, 0, 0), datetime.datetime(2019, 7, 23, 0, 0), datetime.datetime(2019, 7, 23, 0, 0), datetime.datetime(2019, 7, 22, 0, 0), datetime.datetime(2019, 7, 22, 0, 0), datetime.datetime(2019, 7, 22, 0, 0), datetime.datetime(2019, 7, 22, 0, 0), datetime.datetime(2019, 7, 22, 0, 0), datetime.datetime(2019, 7, 22, 0, 0), datetime.datetime(2019, 7, 20, 0, 0), datetime.datetime(2019, 7, 20, 0, 0), datetime.datetime(2019, 7, 20, 0, 0), datetime.datetime(2019, 7, 20, 0, 0), datetime.datetime(2019, 7, 20, 0, 0), datetime.datetime(2019, 7, 20, 0, 0), datetime.datetime(2019, 7, 19, 0, 0), datetime.datetime(2019, 7, 19, 0, 0), datetime.datetime(2019, 7, 19, 0, 0), datetime.datetime(2019, 7, 19, 0, 0), datetime.datetime(2019, 7, 19, 0, 0), datetime.datetime(2019, 7, 19, 0, 0), datetime.datetime(2019, 7, 19, 0, 0), datetime.datetime(2019, 7, 19, 0, 0), datetime.datetime(2019, 7, 19, 0, 0), datetime.datetime(2019, 7, 19, 0, 0), datetime.datetime(2019, 7, 19, 0, 0), datetime.datetime(2019, 7, 19, 0, 0), datetime.datetime(2019, 7, 19, 0, 0), datetime.datetime(2019, 7, 19, 0, 0), datetime.datetime(2019, 7, 18, 0, 0), datetime.datetime(2019, 7, 18, 0, 0), datetime.datetime(2019, 7, 18, 0, 0), datetime.datetime(2019, 7, 18, 0, 0), datetime.datetime(2019, 7, 18, 0, 0), datetime.datetime(2019, 7, 18, 0, 0), datetime.datetime(2019, 7, 18, 0, 0), datetime.datetime(2019, 7, 18, 0, 0), datetime.datetime(2019, 7, 18, 0, 0), datetime.datetime(2019, 7, 18, 0, 0), datetime.datetime(2019, 7, 17, 0, 0), datetime.datetime(2019, 7, 17, 0, 0), datetime.datetime(2019, 7, 17, 0, 0), datetime.datetime(2019, 7, 17, 0, 0), datetime.datetime(2019, 7, 17, 0, 0), datetime.datetime(2019, 7, 17, 0, 0), datetime.datetime(2019, 7, 17, 0, 0), datetime.datetime(2019, 7, 17, 0, 0), datetime.datetime(2019, 7, 17, 0, 0), datetime.datetime(2019, 7, 16, 0, 0), datetime.datetime(2019, 7, 16, 0, 0), datetime.datetime(2019, 7, 16, 0, 0), datetime.datetime(2019, 7, 16, 0, 0), datetime.datetime(2019, 7, 16, 0, 0), datetime.datetime(2019, 7, 16, 0, 0), datetime.datetime(2019, 7, 15, 0, 0), datetime.datetime(2019, 7, 15, 0, 0), datetime.datetime(2019, 7, 15, 0, 0), datetime.datetime(2019, 7, 15, 0, 0), datetime.datetime(2019, 7, 15, 0, 0), datetime.datetime(2019, 7, 15, 0, 0), datetime.datetime(2019, 7, 15, 0, 0), datetime.datetime(2019, 7, 15, 0, 0), datetime.datetime(2019, 7, 15, 0, 0), datetime.datetime(2019, 7, 15, 0, 0), datetime.datetime(2019, 7, 15, 0, 0), datetime.datetime(2019, 7, 15, 0, 0), datetime.datetime(2019, 7, 15, 0, 0), datetime.datetime(2019, 7, 15, 0, 0), datetime.datetime(2019, 7, 15, 0, 0), datetime.datetime(2019, 7, 15, 0, 0), datetime.datetime(2019, 7, 15, 0, 0), datetime.datetime(2019, 7, 15, 0, 0), datetime.datetime(2019, 7, 14, 0, 0), datetime.datetime(2019, 7, 14, 0, 0), datetime.datetime(2019, 7, 14, 0, 0), datetime.datetime(2019, 7, 14, 0, 0), datetime.datetime(2019, 7, 14, 0, 0), datetime.datetime(2019, 7, 14, 0, 0), datetime.datetime(2019, 7, 14, 0, 0), datetime.datetime(2019, 7, 14, 0, 0), datetime.datetime(2019, 7, 14, 0, 0), datetime.datetime(2019, 7, 13, 0, 0), datetime.datetime(2019, 7, 13, 0, 0), datetime.datetime(2019, 7, 13, 0, 0), datetime.datetime(2019, 7, 12, 0, 0), datetime.datetime(2019, 7, 12, 0, 0), datetime.datetime(2019, 7, 12, 0, 0), datetime.datetime(2019, 7, 12, 0, 0), datetime.datetime(2019, 7, 12, 0, 0), datetime.datetime(2019, 7, 12, 0, 0), datetime.datetime(2019, 7, 11, 0, 0), datetime.datetime(2019, 7, 11, 0, 0), datetime.datetime(2019, 7, 11, 0, 0), datetime.datetime(2019, 7, 11, 0, 0), datetime.datetime(2019, 7, 11, 0, 0), datetime.datetime(2019, 7, 11, 0, 0), datetime.datetime(2019, 7, 11, 0, 0), datetime.datetime(2019, 7, 11, 0, 0), datetime.datetime(2019, 7, 11, 0, 0), datetime.datetime(2019, 7, 11, 0, 0), datetime.datetime(2019, 7, 10, 0, 0), datetime.datetime(2019, 7, 10, 0, 0), datetime.datetime(2019, 7, 10, 0, 0), datetime.datetime(2019, 7, 10, 0, 0), datetime.datetime(2019, 7, 9, 0, 0), datetime.datetime(2019, 7, 9, 0, 0), datetime.datetime(2019, 7, 9, 0, 0), datetime.datetime(2019, 7, 9, 0, 0), datetime.datetime(2019, 7, 9, 0, 0), datetime.datetime(2019, 7, 9, 0, 0), datetime.datetime(2019, 7, 8, 0, 0), datetime.datetime(2019, 7, 8, 0, 0), datetime.datetime(2019, 7, 8, 0, 0), datetime.datetime(2019, 7, 8, 0, 0), datetime.datetime(2019, 7, 8, 0, 0), datetime.datetime(2019, 7, 8, 0, 0), datetime.datetime(2019, 7, 7, 0, 0), datetime.datetime(2019, 7, 7, 0, 0), datetime.datetime(2019, 7, 7, 0, 0), datetime.datetime(2019, 7, 6, 0, 0), datetime.datetime(2019, 7, 6, 0, 0), datetime.datetime(2019, 7, 6, 0, 0), datetime.datetime(2019, 7, 6, 0, 0), datetime.datetime(2019, 7, 6, 0, 0), datetime.datetime(2019, 7, 6, 0, 0), datetime.datetime(2019, 7, 6, 0, 0), datetime.datetime(2019, 7, 5, 0, 0), datetime.datetime(2019, 7, 5, 0, 0), datetime.datetime(2019, 7, 5, 0, 0), datetime.datetime(2019, 7, 5, 0, 0), datetime.datetime(2019, 7, 5, 0, 0), datetime.datetime(2019, 7, 4, 0, 0), datetime.datetime(2019, 7, 4, 0, 0), datetime.datetime(2019, 7, 4, 0, 0), datetime.datetime(2019, 7, 4, 0, 0), datetime.datetime(2019, 7, 4, 0, 0), datetime.datetime(2019, 7, 4, 0, 0), datetime.datetime(2019, 7, 4, 0, 0), datetime.datetime(2019, 7, 4, 0, 0), datetime.datetime(2019, 7, 3, 0, 0), datetime.datetime(2019, 7, 3, 0, 0), datetime.datetime(2019, 7, 3, 0, 0), datetime.datetime(2019, 7, 3, 0, 0), datetime.datetime(2019, 7, 3, 0, 0), datetime.datetime(2019, 7, 3, 0, 0), datetime.datetime(2019, 7, 3, 0, 0), datetime.datetime(2019, 7, 3, 0, 0), datetime.datetime(2019, 7, 3, 0, 0), datetime.datetime(2019, 7, 3, 0, 0), datetime.datetime(2019, 7, 2, 0, 0), datetime.datetime(2019, 7, 2, 0, 0), datetime.datetime(2019, 7, 2, 0, 0), datetime.datetime(2019, 7, 2, 0, 0), datetime.datetime(2019, 7, 2, 0, 0), datetime.datetime(2019, 7, 2, 0, 0), datetime.datetime(2019, 7, 2, 0, 0), datetime.datetime(2019, 7, 2, 0, 0), datetime.datetime(2019, 7, 2, 0, 0), datetime.datetime(2019, 7, 2, 0, 0), datetime.datetime(2019, 7, 2, 0, 0), datetime.datetime(2019, 7, 1, 0, 0), datetime.datetime(2019, 7, 1, 0, 0), datetime.datetime(2019, 7, 1, 0, 0), datetime.datetime(2019, 7, 1, 0, 0), datetime.datetime(2019, 7, 1, 0, 0), datetime.datetime(2019, 7, 1, 0, 0), datetime.datetime(2019, 7, 1, 0, 0), datetime.datetime(2019, 7, 1, 0, 0), datetime.datetime(2019, 7, 1, 0, 0), datetime.datetime(2019, 7, 1, 0, 0), datetime.datetime(2019, 7, 1, 0, 0), datetime.datetime(2019, 7, 1, 0, 0), datetime.datetime(2019, 6, 30, 0, 0), datetime.datetime(2019, 6, 30, 0, 0), datetime.datetime(2019, 6, 30, 0, 0), datetime.datetime(2019, 6, 30, 0, 0), datetime.datetime(2019, 6, 29, 0, 0), datetime.datetime(2019, 6, 28, 0, 0), datetime.datetime(2019, 6, 28, 0, 0), datetime.datetime(2019, 6, 28, 0, 0), datetime.datetime(2019, 6, 28, 0, 0), datetime.datetime(2019, 6, 28, 0, 0), datetime.datetime(2019, 6, 28, 0, 0), datetime.datetime(2019, 6, 28, 0, 0), datetime.datetime(2019, 6, 28, 0, 0), datetime.datetime(2019, 6, 27, 0, 0), datetime.datetime(2019, 6, 27, 0, 0), datetime.datetime(2019, 6, 27, 0, 0), datetime.datetime(2019, 6, 27, 0, 0), datetime.datetime(2019, 6, 27, 0, 0), datetime.datetime(2019, 6, 27, 0, 0), datetime.datetime(2019, 6, 27, 0, 0), datetime.datetime(2019, 6, 26, 0, 0), datetime.datetime(2019, 6, 26, 0, 0), datetime.datetime(2019, 6, 26, 0, 0), datetime.datetime(2019, 6, 26, 0, 0), datetime.datetime(2019, 6, 26, 0, 0), datetime.datetime(2019, 6, 26, 0, 0), datetime.datetime(2019, 6, 26, 0, 0), datetime.datetime(2019, 6, 26, 0, 0), datetime.datetime(2019, 6, 26, 0, 0), datetime.datetime(2019, 6, 26, 0, 0), datetime.datetime(2019, 6, 26, 0, 0), datetime.datetime(2019, 6, 26, 0, 0), datetime.datetime(2019, 6, 26, 0, 0), datetime.datetime(2019, 6, 25, 0, 0), datetime.datetime(2019, 6, 25, 0, 0), datetime.datetime(2019, 6, 25, 0, 0), datetime.datetime(2019, 6, 25, 0, 0), datetime.datetime(2019, 6, 25, 0, 0), datetime.datetime(2019, 6, 25, 0, 0), datetime.datetime(2019, 6, 25, 0, 0), datetime.datetime(2019, 6, 25, 0, 0), datetime.datetime(2019, 6, 25, 0, 0), datetime.datetime(2019, 6, 25, 0, 0), datetime.datetime(2019, 6, 25, 0, 0), datetime.datetime(2019, 6, 25, 0, 0), datetime.datetime(2019, 6, 25, 0, 0), datetime.datetime(2019, 6, 25, 0, 0), datetime.datetime(2019, 6, 25, 0, 0), datetime.datetime(2019, 6, 25, 0, 0), datetime.datetime(2019, 6, 24, 0, 0), datetime.datetime(2019, 6, 24, 0, 0), datetime.datetime(2019, 6, 24, 0, 0), datetime.datetime(2019, 6, 24, 0, 0), datetime.datetime(2019, 6, 24, 0, 0), datetime.datetime(2019, 6, 24, 0, 0), datetime.datetime(2019, 6, 24, 0, 0), datetime.datetime(2019, 6, 24, 0, 0), datetime.datetime(2019, 6, 24, 0, 0), datetime.datetime(2019, 6, 24, 0, 0), datetime.datetime(2019, 6, 24, 0, 0), datetime.datetime(2019, 6, 24, 0, 0), datetime.datetime(2019, 6, 23, 0, 0), datetime.datetime(2019, 6, 23, 0, 0), datetime.datetime(2019, 6, 23, 0, 0), datetime.datetime(2019, 6, 23, 0, 0), datetime.datetime(2019, 6, 23, 0, 0), datetime.datetime(2019, 6, 23, 0, 0), datetime.datetime(2019, 6, 23, 0, 0), datetime.datetime(2019, 6, 22, 0, 0), datetime.datetime(2019, 6, 22, 0, 0), datetime.datetime(2019, 6, 21, 0, 0), datetime.datetime(2019, 6, 21, 0, 0), datetime.datetime(2019, 6, 21, 0, 0), datetime.datetime(2019, 6, 21, 0, 0), datetime.datetime(2019, 6, 21, 0, 0), datetime.datetime(2019, 6, 21, 0, 0), datetime.datetime(2019, 6, 21, 0, 0), datetime.datetime(2019, 6, 21, 0, 0), datetime.datetime(2019, 6, 20, 0, 0), datetime.datetime(2019, 6, 20, 0, 0), datetime.datetime(2019, 6, 20, 0, 0), datetime.datetime(2019, 6, 20, 0, 0), datetime.datetime(2019, 6, 20, 0, 0), datetime.datetime(2019, 6, 20, 0, 0), datetime.datetime(2019, 6, 20, 0, 0), datetime.datetime(2019, 6, 20, 0, 0), datetime.datetime(2019, 6, 20, 0, 0), datetime.datetime(2019, 6, 20, 0, 0), datetime.datetime(2019, 6, 20, 0, 0), datetime.datetime(2019, 6, 19, 0, 0), datetime.datetime(2019, 6, 19, 0, 0), datetime.datetime(2019, 6, 19, 0, 0), datetime.datetime(2019, 6, 19, 0, 0), datetime.datetime(2019, 6, 19, 0, 0), datetime.datetime(2019, 6, 19, 0, 0), datetime.datetime(2019, 6, 19, 0, 0), datetime.datetime(2019, 6, 19, 0, 0), datetime.datetime(2019, 6, 19, 0, 0), datetime.datetime(2019, 6, 18, 0, 0), datetime.datetime(2019, 6, 18, 0, 0), datetime.datetime(2019, 6, 18, 0, 0), datetime.datetime(2019, 6, 18, 0, 0), datetime.datetime(2019, 6, 18, 0, 0), datetime.datetime(2019, 6, 18, 0, 0), datetime.datetime(2019, 6, 18, 0, 0), datetime.datetime(2019, 6, 18, 0, 0), datetime.datetime(2019, 6, 18, 0, 0), datetime.datetime(2019, 6, 18, 0, 0), datetime.datetime(2019, 6, 18, 0, 0), datetime.datetime(2019, 6, 18, 0, 0), datetime.datetime(2019, 6, 18, 0, 0), datetime.datetime(2019, 6, 18, 0, 0), datetime.datetime(2019, 6, 18, 0, 0), datetime.datetime(2019, 6, 18, 0, 0), datetime.datetime(2019, 6, 18, 0, 0), datetime.datetime(2019, 6, 17, 0, 0), datetime.datetime(2019, 6, 17, 0, 0), datetime.datetime(2019, 6, 17, 0, 0), datetime.datetime(2019, 6, 17, 0, 0), datetime.datetime(2019, 6, 17, 0, 0), datetime.datetime(2019, 6, 17, 0, 0), datetime.datetime(2019, 6, 17, 0, 0), datetime.datetime(2019, 6, 17, 0, 0), datetime.datetime(2019, 6, 17, 0, 0), datetime.datetime(2019, 6, 17, 0, 0), datetime.datetime(2019, 6, 17, 0, 0), datetime.datetime(2019, 6, 17, 0, 0), datetime.datetime(2019, 6, 17, 0, 0), datetime.datetime(2019, 6, 16, 0, 0), datetime.datetime(2019, 6, 16, 0, 0), datetime.datetime(2019, 6, 15, 0, 0), datetime.datetime(2019, 6, 15, 0, 0), datetime.datetime(2019, 6, 15, 0, 0), datetime.datetime(2019, 6, 15, 0, 0), datetime.datetime(2019, 6, 15, 0, 0), datetime.datetime(2019, 6, 14, 0, 0), datetime.datetime(2019, 6, 14, 0, 0), datetime.datetime(2019, 6, 14, 0, 0), datetime.datetime(2019, 6, 14, 0, 0), datetime.datetime(2019, 6, 14, 0, 0), datetime.datetime(2019, 6, 14, 0, 0), datetime.datetime(2019, 6, 14, 0, 0), datetime.datetime(2019, 6, 14, 0, 0), datetime.datetime(2019, 6, 13, 0, 0), datetime.datetime(2019, 6, 13, 0, 0), datetime.datetime(2019, 6, 13, 0, 0), datetime.datetime(2019, 6, 13, 0, 0), datetime.datetime(2019, 6, 13, 0, 0), datetime.datetime(2019, 6, 13, 0, 0), datetime.datetime(2019, 6, 13, 0, 0), datetime.datetime(2019, 6, 13, 0, 0), datetime.datetime(2019, 6, 13, 0, 0), datetime.datetime(2019, 6, 13, 0, 0), datetime.datetime(2019, 6, 12, 0, 0), datetime.datetime(2019, 6, 12, 0, 0), datetime.datetime(2019, 6, 12, 0, 0), datetime.datetime(2019, 6, 12, 0, 0), datetime.datetime(2019, 6, 12, 0, 0), datetime.datetime(2019, 6, 11, 0, 0), datetime.datetime(2019, 6, 11, 0, 0), datetime.datetime(2019, 6, 11, 0, 0), datetime.datetime(2019, 6, 11, 0, 0), datetime.datetime(2019, 6, 11, 0, 0), datetime.datetime(2019, 6, 11, 0, 0), datetime.datetime(2019, 6, 10, 0, 0), datetime.datetime(2019, 6, 10, 0, 0), datetime.datetime(2019, 6, 10, 0, 0), datetime.datetime(2019, 6, 10, 0, 0), datetime.datetime(2019, 6, 10, 0, 0), datetime.datetime(2019, 6, 10, 0, 0), datetime.datetime(2019, 6, 9, 0, 0), datetime.datetime(2019, 6, 9, 0, 0), datetime.datetime(2019, 6, 9, 0, 0), datetime.datetime(2019, 6, 9, 0, 0), datetime.datetime(2019, 6, 8, 0, 0), datetime.datetime(2019, 6, 8, 0, 0), datetime.datetime(2019, 6, 8, 0, 0), datetime.datetime(2019, 6, 7, 0, 0), datetime.datetime(2019, 6, 7, 0, 0), datetime.datetime(2019, 6, 7, 0, 0), datetime.datetime(2019, 6, 7, 0, 0), datetime.datetime(2019, 6, 7, 0, 0), datetime.datetime(2019, 6, 7, 0, 0), datetime.datetime(2019, 6, 7, 0, 0), datetime.datetime(2019, 6, 7, 0, 0), datetime.datetime(2019, 6, 7, 0, 0), datetime.datetime(2019, 6, 7, 0, 0), datetime.datetime(2019, 6, 6, 0, 0), datetime.datetime(2019, 6, 6, 0, 0), datetime.datetime(2019, 6, 6, 0, 0), datetime.datetime(2019, 6, 6, 0, 0), datetime.datetime(2019, 6, 6, 0, 0), datetime.datetime(2019, 6, 6, 0, 0), datetime.datetime(2019, 6, 6, 0, 0), datetime.datetime(2019, 6, 6, 0, 0), datetime.datetime(2019, 6, 6, 0, 0), datetime.datetime(2019, 6, 5, 0, 0), datetime.datetime(2019, 6, 5, 0, 0), datetime.datetime(2019, 6, 5, 0, 0), datetime.datetime(2019, 6, 5, 0, 0), datetime.datetime(2019, 6, 5, 0, 0), datetime.datetime(2019, 6, 5, 0, 0), datetime.datetime(2019, 6, 5, 0, 0), datetime.datetime(2019, 6, 5, 0, 0), datetime.datetime(2019, 6, 5, 0, 0), datetime.datetime(2019, 6, 5, 0, 0), datetime.datetime(2019, 6, 5, 0, 0), datetime.datetime(2019, 6, 5, 0, 0), datetime.datetime(2019, 6, 4, 0, 0), datetime.datetime(2019, 6, 4, 0, 0), datetime.datetime(2019, 6, 4, 0, 0), datetime.datetime(2019, 6, 4, 0, 0), datetime.datetime(2019, 6, 4, 0, 0), datetime.datetime(2019, 6, 4, 0, 0), datetime.datetime(2019, 6, 4, 0, 0), datetime.datetime(2019, 6, 4, 0, 0), datetime.datetime(2019, 6, 4, 0, 0), datetime.datetime(2019, 6, 4, 0, 0), datetime.datetime(2019, 6, 4, 0, 0), datetime.datetime(2019, 6, 3, 0, 0), datetime.datetime(2019, 6, 3, 0, 0), datetime.datetime(2019, 6, 3, 0, 0), datetime.datetime(2019, 6, 3, 0, 0), datetime.datetime(2019, 6, 3, 0, 0), datetime.datetime(2019, 6, 3, 0, 0), datetime.datetime(2019, 6, 3, 0, 0), datetime.datetime(2019, 6, 3, 0, 0), datetime.datetime(2019, 6, 3, 0, 0), datetime.datetime(2019, 6, 3, 0, 0), datetime.datetime(2019, 6, 3, 0, 0), datetime.datetime(2019, 6, 2, 0, 0), datetime.datetime(2019, 6, 2, 0, 0), datetime.datetime(2019, 6, 1, 0, 0), datetime.datetime(2019, 6, 1, 0, 0), datetime.datetime(2019, 6, 1, 0, 0), datetime.datetime(2019, 6, 1, 0, 0), datetime.datetime(2019, 5, 31, 0, 0), datetime.datetime(2019, 5, 31, 0, 0), datetime.datetime(2019, 5, 31, 0, 0), datetime.datetime(2019, 5, 31, 0, 0), datetime.datetime(2019, 5, 31, 0, 0), datetime.datetime(2019, 5, 31, 0, 0), datetime.datetime(2019, 5, 31, 0, 0), datetime.datetime(2019, 5, 31, 0, 0), datetime.datetime(2019, 5, 30, 0, 0), datetime.datetime(2019, 5, 30, 0, 0), datetime.datetime(2019, 5, 30, 0, 0), datetime.datetime(2019, 5, 30, 0, 0), datetime.datetime(2019, 5, 30, 0, 0), datetime.datetime(2019, 5, 30, 0, 0), datetime.datetime(2019, 5, 30, 0, 0), datetime.datetime(2019, 5, 30, 0, 0), datetime.datetime(2019, 5, 30, 0, 0), datetime.datetime(2019, 5, 30, 0, 0), datetime.datetime(2019, 5, 29, 0, 0), datetime.datetime(2019, 5, 29, 0, 0), datetime.datetime(2019, 5, 29, 0, 0), datetime.datetime(2019, 5, 29, 0, 0), datetime.datetime(2019, 5, 29, 0, 0), datetime.datetime(2019, 5, 29, 0, 0), datetime.datetime(2019, 5, 29, 0, 0), datetime.datetime(2019, 5, 28, 0, 0), datetime.datetime(2019, 5, 28, 0, 0), datetime.datetime(2019, 5, 28, 0, 0), datetime.datetime(2019, 5, 28, 0, 0), datetime.datetime(2019, 5, 28, 0, 0), datetime.datetime(2019, 5, 28, 0, 0), datetime.datetime(2019, 5, 27, 0, 0), datetime.datetime(2019, 5, 27, 0, 0), datetime.datetime(2019, 5, 27, 0, 0), datetime.datetime(2019, 5, 27, 0, 0), datetime.datetime(2019, 5, 27, 0, 0), datetime.datetime(2019, 5, 27, 0, 0), datetime.datetime(2019, 5, 27, 0, 0), datetime.datetime(2019, 5, 27, 0, 0), datetime.datetime(2019, 5, 27, 0, 0), datetime.datetime(2019, 5, 27, 0, 0), datetime.datetime(2019, 5, 27, 0, 0), datetime.datetime(2019, 5, 27, 0, 0), datetime.datetime(2019, 5, 25, 0, 0), datetime.datetime(2019, 5, 25, 0, 0), datetime.datetime(2019, 5, 24, 0, 0), datetime.datetime(2019, 5, 24, 0, 0), datetime.datetime(2019, 5, 24, 0, 0), datetime.datetime(2019, 5, 24, 0, 0), datetime.datetime(2019, 5, 24, 0, 0), datetime.datetime(2019, 5, 24, 0, 0), datetime.datetime(2019, 5, 23, 0, 0), datetime.datetime(2019, 5, 23, 0, 0), datetime.datetime(2019, 5, 23, 0, 0), datetime.datetime(2019, 5, 23, 0, 0), datetime.datetime(2019, 5, 23, 0, 0), datetime.datetime(2019, 5, 23, 0, 0), datetime.datetime(2019, 5, 23, 0, 0), datetime.datetime(2019, 5, 23, 0, 0), datetime.datetime(2019, 5, 23, 0, 0), datetime.datetime(2019, 5, 22, 0, 0), datetime.datetime(2019, 5, 22, 0, 0), datetime.datetime(2019, 5, 22, 0, 0), datetime.datetime(2019, 5, 22, 0, 0), datetime.datetime(2019, 5, 22, 0, 0), datetime.datetime(2019, 5, 22, 0, 0), datetime.datetime(2019, 5, 22, 0, 0), datetime.datetime(2019, 5, 22, 0, 0), datetime.datetime(2019, 5, 22, 0, 0), datetime.datetime(2019, 5, 22, 0, 0), datetime.datetime(2019, 5, 21, 0, 0), datetime.datetime(2019, 5, 21, 0, 0), datetime.datetime(2019, 5, 21, 0, 0), datetime.datetime(2019, 5, 21, 0, 0), datetime.datetime(2019, 5, 21, 0, 0), datetime.datetime(2019, 5, 21, 0, 0), datetime.datetime(2019, 5, 21, 0, 0), datetime.datetime(2019, 5, 21, 0, 0), datetime.datetime(2019, 5, 21, 0, 0), datetime.datetime(2019, 5, 21, 0, 0), datetime.datetime(2019, 5, 21, 0, 0), datetime.datetime(2019, 5, 21, 0, 0), datetime.datetime(2019, 5, 20, 0, 0), datetime.datetime(2019, 5, 20, 0, 0), datetime.datetime(2019, 5, 20, 0, 0), datetime.datetime(2019, 5, 20, 0, 0), datetime.datetime(2019, 5, 19, 0, 0), datetime.datetime(2019, 5, 19, 0, 0), datetime.datetime(2019, 5, 19, 0, 0), datetime.datetime(2019, 5, 19, 0, 0), datetime.datetime(2019, 5, 19, 0, 0), datetime.datetime(2019, 5, 18, 0, 0), datetime.datetime(2019, 5, 18, 0, 0), datetime.datetime(2019, 5, 18, 0, 0), datetime.datetime(2019, 5, 18, 0, 0), datetime.datetime(2019, 5, 17, 0, 0), datetime.datetime(2019, 5, 17, 0, 0), datetime.datetime(2019, 5, 17, 0, 0), datetime.datetime(2019, 5, 17, 0, 0), datetime.datetime(2019, 5, 17, 0, 0), datetime.datetime(2019, 5, 17, 0, 0), datetime.datetime(2019, 5, 17, 0, 0), datetime.datetime(2019, 5, 17, 0, 0), datetime.datetime(2019, 5, 17, 0, 0), datetime.datetime(2019, 5, 17, 0, 0), datetime.datetime(2019, 5, 16, 0, 0), datetime.datetime(2019, 5, 16, 0, 0), datetime.datetime(2019, 5, 16, 0, 0), datetime.datetime(2019, 5, 16, 0, 0), datetime.datetime(2019, 5, 16, 0, 0), datetime.datetime(2019, 5, 16, 0, 0), datetime.datetime(2019, 5, 16, 0, 0), datetime.datetime(2019, 5, 16, 0, 0), datetime.datetime(2019, 5, 16, 0, 0), datetime.datetime(2019, 5, 16, 0, 0), datetime.datetime(2019, 5, 16, 0, 0), datetime.datetime(2019, 5, 15, 0, 0), datetime.datetime(2019, 5, 15, 0, 0), datetime.datetime(2019, 5, 15, 0, 0), datetime.datetime(2019, 5, 15, 0, 0), datetime.datetime(2019, 5, 15, 0, 0), datetime.datetime(2019, 5, 15, 0, 0), datetime.datetime(2019, 5, 15, 0, 0), datetime.datetime(2019, 5, 15, 0, 0), datetime.datetime(2019, 5, 15, 0, 0), datetime.datetime(2019, 5, 15, 0, 0), datetime.datetime(2019, 5, 14, 0, 0), datetime.datetime(2019, 5, 14, 0, 0), datetime.datetime(2019, 5, 14, 0, 0), datetime.datetime(2019, 5, 14, 0, 0), datetime.datetime(2019, 5, 14, 0, 0), datetime.datetime(2019, 5, 14, 0, 0), datetime.datetime(2019, 5, 14, 0, 0), datetime.datetime(2019, 5, 13, 0, 0), datetime.datetime(2019, 5, 13, 0, 0), datetime.datetime(2019, 5, 13, 0, 0), datetime.datetime(2019, 5, 13, 0, 0), datetime.datetime(2019, 5, 13, 0, 0), datetime.datetime(2019, 5, 13, 0, 0), datetime.datetime(2019, 5, 13, 0, 0), datetime.datetime(2019, 5, 13, 0, 0), datetime.datetime(2019, 5, 13, 0, 0), datetime.datetime(2019, 5, 12, 0, 0), datetime.datetime(2019, 5, 12, 0, 0), datetime.datetime(2019, 5, 12, 0, 0), datetime.datetime(2019, 5, 12, 0, 0), datetime.datetime(2019, 5, 12, 0, 0), datetime.datetime(2019, 5, 12, 0, 0), datetime.datetime(2019, 5, 12, 0, 0), datetime.datetime(2019, 5, 11, 0, 0), datetime.datetime(2019, 5, 11, 0, 0), datetime.datetime(2019, 5, 11, 0, 0), datetime.datetime(2019, 5, 11, 0, 0), datetime.datetime(2019, 5, 10, 0, 0), datetime.datetime(2019, 5, 10, 0, 0), datetime.datetime(2019, 5, 10, 0, 0), datetime.datetime(2019, 5, 9, 0, 0), datetime.datetime(2019, 5, 8, 0, 0), datetime.datetime(2019, 5, 8, 0, 0), datetime.datetime(2019, 5, 8, 0, 0), datetime.datetime(2019, 5, 8, 0, 0), datetime.datetime(2019, 5, 8, 0, 0), datetime.datetime(2019, 5, 8, 0, 0), datetime.datetime(2019, 5, 7, 0, 0), datetime.datetime(2019, 5, 7, 0, 0), datetime.datetime(2019, 5, 7, 0, 0), datetime.datetime(2019, 5, 7, 0, 0), datetime.datetime(2019, 5, 7, 0, 0), datetime.datetime(2019, 5, 7, 0, 0), datetime.datetime(2019, 5, 7, 0, 0), datetime.datetime(2019, 5, 6, 0, 0), datetime.datetime(2019, 5, 6, 0, 0), datetime.datetime(2019, 5, 6, 0, 0), datetime.datetime(2019, 5, 6, 0, 0), datetime.datetime(2019, 5, 6, 0, 0), datetime.datetime(2019, 5, 6, 0, 0), datetime.datetime(2019, 5, 6, 0, 0), datetime.datetime(2019, 5, 6, 0, 0), datetime.datetime(2019, 5, 6, 0, 0), datetime.datetime(2019, 5, 6, 0, 0), datetime.datetime(2019, 5, 5, 0, 0), datetime.datetime(2019, 5, 5, 0, 0), datetime.datetime(2019, 5, 5, 0, 0), datetime.datetime(2019, 5, 5, 0, 0), datetime.datetime(2019, 5, 5, 0, 0), datetime.datetime(2019, 5, 5, 0, 0), datetime.datetime(2019, 5, 5, 0, 0), datetime.datetime(2019, 5, 4, 0, 0), datetime.datetime(2019, 5, 4, 0, 0), datetime.datetime(2019, 5, 4, 0, 0), datetime.datetime(2019, 5, 4, 0, 0), datetime.datetime(2019, 5, 3, 0, 0), datetime.datetime(2019, 5, 3, 0, 0), datetime.datetime(2019, 5, 3, 0, 0), datetime.datetime(2019, 5, 2, 0, 0), datetime.datetime(2019, 5, 2, 0, 0), datetime.datetime(2019, 5, 2, 0, 0), datetime.datetime(2019, 5, 2, 0, 0), datetime.datetime(2019, 5, 1, 0, 0), datetime.datetime(2019, 5, 1, 0, 0), datetime.datetime(2019, 5, 1, 0, 0), datetime.datetime(2019, 5, 1, 0, 0), datetime.datetime(2019, 5, 1, 0, 0), datetime.datetime(2019, 4, 30, 0, 0), datetime.datetime(2019, 4, 30, 0, 0), datetime.datetime(2019, 4, 30, 0, 0), datetime.datetime(2019, 4, 30, 0, 0), datetime.datetime(2019, 4, 30, 0, 0), datetime.datetime(2019, 4, 30, 0, 0), datetime.datetime(2019, 4, 30, 0, 0), datetime.datetime(2019, 4, 30, 0, 0), datetime.datetime(2019, 4, 30, 0, 0), datetime.datetime(2019, 4, 30, 0, 0), datetime.datetime(2019, 4, 29, 0, 0), datetime.datetime(2019, 4, 29, 0, 0), datetime.datetime(2019, 4, 29, 0, 0), datetime.datetime(2019, 4, 29, 0, 0), datetime.datetime(2019, 4, 29, 0, 0), datetime.datetime(2019, 4, 29, 0, 0), datetime.datetime(2019, 4, 29, 0, 0), datetime.datetime(2019, 4, 29, 0, 0), datetime.datetime(2019, 4, 29, 0, 0), datetime.datetime(2019, 4, 29, 0, 0), datetime.datetime(2019, 4, 29, 0, 0), datetime.datetime(2019, 4, 28, 0, 0), datetime.datetime(2019, 4, 28, 0, 0), datetime.datetime(2019, 4, 28, 0, 0), datetime.datetime(2019, 4, 28, 0, 0), datetime.datetime(2019, 4, 28, 0, 0), datetime.datetime(2019, 4, 27, 0, 0), datetime.datetime(2019, 4, 27, 0, 0), datetime.datetime(2019, 4, 27, 0, 0), datetime.datetime(2019, 4, 27, 0, 0), datetime.datetime(2019, 4, 27, 0, 0), datetime.datetime(2019, 4, 26, 0, 0), datetime.datetime(2019, 4, 26, 0, 0), datetime.datetime(2019, 4, 26, 0, 0), datetime.datetime(2019, 4, 25, 0, 0), datetime.datetime(2019, 4, 25, 0, 0), datetime.datetime(2019, 4, 25, 0, 0), datetime.datetime(2019, 4, 25, 0, 0), datetime.datetime(2019, 4, 25, 0, 0), datetime.datetime(2019, 4, 25, 0, 0), datetime.datetime(2019, 4, 25, 0, 0), datetime.datetime(2019, 4, 25, 0, 0), datetime.datetime(2019, 4, 25, 0, 0), datetime.datetime(2019, 4, 25, 0, 0), datetime.datetime(2019, 4, 25, 0, 0), datetime.datetime(2019, 4, 24, 0, 0), datetime.datetime(2019, 4, 24, 0, 0), datetime.datetime(2019, 4, 24, 0, 0), datetime.datetime(2019, 4, 24, 0, 0), datetime.datetime(2019, 4, 24, 0, 0), datetime.datetime(2019, 4, 24, 0, 0), datetime.datetime(2019, 4, 23, 0, 0), datetime.datetime(2019, 4, 23, 0, 0), datetime.datetime(2019, 4, 23, 0, 0), datetime.datetime(2019, 4, 23, 0, 0), datetime.datetime(2019, 4, 23, 0, 0), datetime.datetime(2019, 4, 23, 0, 0), datetime.datetime(2019, 4, 23, 0, 0), datetime.datetime(2019, 4, 23, 0, 0), datetime.datetime(2019, 4, 23, 0, 0), datetime.datetime(2019, 4, 23, 0, 0), datetime.datetime(2019, 4, 23, 0, 0), datetime.datetime(2019, 4, 22, 0, 0), datetime.datetime(2019, 4, 22, 0, 0), datetime.datetime(2019, 4, 22, 0, 0), datetime.datetime(2019, 4, 22, 0, 0), datetime.datetime(2019, 4, 22, 0, 0), datetime.datetime(2019, 4, 22, 0, 0), datetime.datetime(2019, 4, 22, 0, 0), datetime.datetime(2019, 4, 22, 0, 0), datetime.datetime(2019, 4, 22, 0, 0), datetime.datetime(2019, 4, 22, 0, 0), datetime.datetime(2019, 4, 22, 0, 0), datetime.datetime(2019, 4, 22, 0, 0), datetime.datetime(2019, 4, 22, 0, 0), datetime.datetime(2019, 4, 21, 0, 0), datetime.datetime(2019, 4, 21, 0, 0), datetime.datetime(2019, 4, 20, 0, 0), datetime.datetime(2019, 4, 20, 0, 0), datetime.datetime(2019, 4, 20, 0, 0), datetime.datetime(2019, 4, 19, 0, 0), datetime.datetime(2019, 4, 19, 0, 0), datetime.datetime(2019, 4, 19, 0, 0), datetime.datetime(2019, 4, 19, 0, 0), datetime.datetime(2019, 4, 19, 0, 0), datetime.datetime(2019, 4, 19, 0, 0), datetime.datetime(2019, 4, 19, 0, 0), datetime.datetime(2019, 4, 19, 0, 0), datetime.datetime(2019, 4, 19, 0, 0), datetime.datetime(2019, 4, 19, 0, 0), datetime.datetime(2019, 4, 18, 0, 0), datetime.datetime(2019, 4, 18, 0, 0), datetime.datetime(2019, 4, 18, 0, 0), datetime.datetime(2019, 4, 18, 0, 0), datetime.datetime(2019, 4, 18, 0, 0), datetime.datetime(2019, 4, 18, 0, 0), datetime.datetime(2019, 4, 18, 0, 0), datetime.datetime(2019, 4, 18, 0, 0), datetime.datetime(2019, 4, 18, 0, 0), datetime.datetime(2019, 4, 18, 0, 0), datetime.datetime(2019, 4, 18, 0, 0), datetime.datetime(2019, 4, 18, 0, 0), datetime.datetime(2019, 4, 18, 0, 0), datetime.datetime(2019, 4, 17, 0, 0), datetime.datetime(2019, 4, 17, 0, 0), datetime.datetime(2019, 4, 17, 0, 0), datetime.datetime(2019, 4, 17, 0, 0), datetime.datetime(2019, 4, 17, 0, 0), datetime.datetime(2019, 4, 17, 0, 0), datetime.datetime(2019, 4, 17, 0, 0), datetime.datetime(2019, 4, 17, 0, 0), datetime.datetime(2019, 4, 16, 0, 0), datetime.datetime(2019, 4, 16, 0, 0), datetime.datetime(2019, 4, 16, 0, 0), datetime.datetime(2019, 4, 16, 0, 0), datetime.datetime(2019, 4, 16, 0, 0), datetime.datetime(2019, 4, 16, 0, 0), datetime.datetime(2019, 4, 16, 0, 0), datetime.datetime(2019, 4, 15, 0, 0), datetime.datetime(2019, 4, 15, 0, 0), datetime.datetime(2019, 4, 15, 0, 0), datetime.datetime(2019, 4, 15, 0, 0), datetime.datetime(2019, 4, 15, 0, 0), datetime.datetime(2019, 4, 15, 0, 0), datetime.datetime(2019, 4, 15, 0, 0), datetime.datetime(2019, 4, 15, 0, 0), datetime.datetime(2019, 4, 15, 0, 0), datetime.datetime(2019, 4, 15, 0, 0), datetime.datetime(2019, 4, 15, 0, 0), datetime.datetime(2019, 4, 15, 0, 0), datetime.datetime(2019, 4, 14, 0, 0), datetime.datetime(2019, 4, 14, 0, 0), datetime.datetime(2019, 4, 14, 0, 0), datetime.datetime(2019, 4, 14, 0, 0), datetime.datetime(2019, 4, 14, 0, 0), datetime.datetime(2019, 4, 13, 0, 0), datetime.datetime(2019, 4, 13, 0, 0), datetime.datetime(2019, 4, 13, 0, 0), datetime.datetime(2019, 4, 12, 0, 0), datetime.datetime(2019, 4, 12, 0, 0), datetime.datetime(2019, 4, 12, 0, 0), datetime.datetime(2019, 4, 12, 0, 0), datetime.datetime(2019, 4, 12, 0, 0), datetime.datetime(2019, 4, 12, 0, 0), datetime.datetime(2019, 4, 12, 0, 0), datetime.datetime(2019, 4, 12, 0, 0), datetime.datetime(2019, 4, 12, 0, 0), datetime.datetime(2019, 4, 12, 0, 0), datetime.datetime(2019, 4, 12, 0, 0), datetime.datetime(2019, 4, 11, 0, 0), datetime.datetime(2019, 4, 11, 0, 0), datetime.datetime(2019, 4, 11, 0, 0), datetime.datetime(2019, 4, 11, 0, 0), datetime.datetime(2019, 4, 11, 0, 0), datetime.datetime(2019, 4, 11, 0, 0), datetime.datetime(2019, 4, 11, 0, 0), datetime.datetime(2019, 4, 11, 0, 0), datetime.datetime(2019, 4, 11, 0, 0), datetime.datetime(2019, 4, 11, 0, 0), datetime.datetime(2019, 4, 11, 0, 0), datetime.datetime(2019, 4, 11, 0, 0), datetime.datetime(2019, 4, 10, 0, 0), datetime.datetime(2019, 4, 10, 0, 0), datetime.datetime(2019, 4, 10, 0, 0), datetime.datetime(2019, 4, 10, 0, 0), datetime.datetime(2019, 4, 10, 0, 0), datetime.datetime(2019, 4, 10, 0, 0), datetime.datetime(2019, 4, 10, 0, 0), datetime.datetime(2019, 4, 10, 0, 0), datetime.datetime(2019, 4, 9, 0, 0), datetime.datetime(2019, 4, 9, 0, 0), datetime.datetime(2019, 4, 9, 0, 0), datetime.datetime(2019, 4, 9, 0, 0), datetime.datetime(2019, 4, 9, 0, 0), datetime.datetime(2019, 4, 8, 0, 0), datetime.datetime(2019, 4, 8, 0, 0), datetime.datetime(2019, 4, 8, 0, 0), datetime.datetime(2019, 4, 8, 0, 0), datetime.datetime(2019, 4, 8, 0, 0), datetime.datetime(2019, 4, 8, 0, 0), datetime.datetime(2019, 4, 8, 0, 0), datetime.datetime(2019, 4, 7, 0, 0), datetime.datetime(2019, 4, 7, 0, 0), datetime.datetime(2019, 4, 7, 0, 0), datetime.datetime(2019, 4, 6, 0, 0), datetime.datetime(2019, 4, 6, 0, 0), datetime.datetime(2019, 4, 6, 0, 0), datetime.datetime(2019, 4, 6, 0, 0), datetime.datetime(2019, 4, 5, 0, 0), datetime.datetime(2019, 4, 5, 0, 0), datetime.datetime(2019, 4, 5, 0, 0), datetime.datetime(2019, 4, 4, 0, 0), datetime.datetime(2019, 4, 4, 0, 0), datetime.datetime(2019, 4, 4, 0, 0), datetime.datetime(2019, 4, 4, 0, 0), datetime.datetime(2019, 4, 4, 0, 0), datetime.datetime(2019, 4, 4, 0, 0), datetime.datetime(2019, 4, 4, 0, 0), datetime.datetime(2019, 4, 4, 0, 0), datetime.datetime(2019, 4, 4, 0, 0), datetime.datetime(2019, 4, 4, 0, 0), datetime.datetime(2019, 4, 4, 0, 0), datetime.datetime(2019, 4, 4, 0, 0), datetime.datetime(2019, 4, 4, 0, 0), datetime.datetime(2019, 4, 3, 0, 0), datetime.datetime(2019, 4, 3, 0, 0), datetime.datetime(2019, 4, 3, 0, 0), datetime.datetime(2019, 4, 3, 0, 0), datetime.datetime(2019, 4, 3, 0, 0), datetime.datetime(2019, 4, 3, 0, 0), datetime.datetime(2019, 4, 3, 0, 0), datetime.datetime(2019, 4, 3, 0, 0), datetime.datetime(2019, 4, 3, 0, 0), datetime.datetime(2019, 4, 3, 0, 0), datetime.datetime(2019, 4, 3, 0, 0), datetime.datetime(2019, 4, 3, 0, 0), datetime.datetime(2019, 4, 3, 0, 0), datetime.datetime(2019, 4, 3, 0, 0), datetime.datetime(2019, 4, 2, 0, 0), datetime.datetime(2019, 4, 2, 0, 0), datetime.datetime(2019, 4, 2, 0, 0), datetime.datetime(2019, 4, 2, 0, 0), datetime.datetime(2019, 4, 2, 0, 0), datetime.datetime(2019, 4, 2, 0, 0), datetime.datetime(2019, 4, 2, 0, 0), datetime.datetime(2019, 4, 2, 0, 0), datetime.datetime(2019, 4, 2, 0, 0), datetime.datetime(2019, 4, 2, 0, 0), datetime.datetime(2019, 4, 2, 0, 0), datetime.datetime(2019, 4, 2, 0, 0), datetime.datetime(2019, 4, 1, 0, 0), datetime.datetime(2019, 4, 1, 0, 0), datetime.datetime(2019, 4, 1, 0, 0), datetime.datetime(2019, 4, 1, 0, 0), datetime.datetime(2019, 4, 1, 0, 0), datetime.datetime(2019, 4, 1, 0, 0), datetime.datetime(2019, 4, 1, 0, 0), datetime.datetime(2019, 4, 1, 0, 0), datetime.datetime(2019, 4, 1, 0, 0), datetime.datetime(2019, 4, 1, 0, 0), datetime.datetime(2019, 4, 1, 0, 0), datetime.datetime(2019, 3, 31, 0, 0), datetime.datetime(2019, 3, 31, 0, 0), datetime.datetime(2019, 3, 31, 0, 0), datetime.datetime(2019, 3, 31, 0, 0), datetime.datetime(2019, 3, 30, 0, 0), datetime.datetime(2019, 3, 30, 0, 0), datetime.datetime(2019, 3, 30, 0, 0), datetime.datetime(2019, 3, 30, 0, 0), datetime.datetime(2019, 3, 30, 0, 0), datetime.datetime(2019, 3, 30, 0, 0), datetime.datetime(2019, 3, 30, 0, 0), datetime.datetime(2019, 3, 29, 0, 0), datetime.datetime(2019, 3, 29, 0, 0), datetime.datetime(2019, 3, 29, 0, 0), datetime.datetime(2019, 3, 29, 0, 0), datetime.datetime(2019, 3, 29, 0, 0), datetime.datetime(2019, 3, 29, 0, 0), datetime.datetime(2019, 3, 29, 0, 0), datetime.datetime(2019, 3, 29, 0, 0), datetime.datetime(2019, 3, 29, 0, 0), datetime.datetime(2019, 3, 29, 0, 0), datetime.datetime(2019, 3, 29, 0, 0), datetime.datetime(2019, 3, 29, 0, 0), datetime.datetime(2019, 3, 28, 0, 0), datetime.datetime(2019, 3, 28, 0, 0), datetime.datetime(2019, 3, 28, 0, 0), datetime.datetime(2019, 3, 28, 0, 0), datetime.datetime(2019, 3, 28, 0, 0), datetime.datetime(2019, 3, 28, 0, 0), datetime.datetime(2019, 3, 28, 0, 0), datetime.datetime(2019, 3, 28, 0, 0), datetime.datetime(2019, 3, 27, 0, 0), datetime.datetime(2019, 3, 27, 0, 0), datetime.datetime(2019, 3, 27, 0, 0), datetime.datetime(2019, 3, 27, 0, 0), datetime.datetime(2019, 3, 27, 0, 0), datetime.datetime(2019, 3, 27, 0, 0), datetime.datetime(2019, 3, 26, 0, 0), datetime.datetime(2019, 3, 26, 0, 0), datetime.datetime(2019, 3, 26, 0, 0), datetime.datetime(2019, 3, 26, 0, 0), datetime.datetime(2019, 3, 26, 0, 0), datetime.datetime(2019, 3, 26, 0, 0), datetime.datetime(2019, 3, 26, 0, 0), datetime.datetime(2019, 3, 26, 0, 0), datetime.datetime(2019, 3, 26, 0, 0), datetime.datetime(2019, 3, 26, 0, 0), datetime.datetime(2019, 3, 26, 0, 0), datetime.datetime(2019, 3, 25, 0, 0), datetime.datetime(2019, 3, 25, 0, 0), datetime.datetime(2019, 3, 25, 0, 0), datetime.datetime(2019, 3, 25, 0, 0), datetime.datetime(2019, 3, 25, 0, 0), datetime.datetime(2019, 3, 25, 0, 0), datetime.datetime(2019, 3, 25, 0, 0), datetime.datetime(2019, 3, 25, 0, 0), datetime.datetime(2019, 3, 24, 0, 0), datetime.datetime(2019, 3, 24, 0, 0), datetime.datetime(2019, 3, 24, 0, 0), datetime.datetime(2019, 3, 23, 0, 0), datetime.datetime(2019, 3, 23, 0, 0), datetime.datetime(2019, 3, 23, 0, 0), datetime.datetime(2019, 3, 23, 0, 0), datetime.datetime(2019, 3, 23, 0, 0), datetime.datetime(2019, 3, 22, 0, 0), datetime.datetime(2019, 3, 22, 0, 0), datetime.datetime(2019, 3, 22, 0, 0), datetime.datetime(2019, 3, 22, 0, 0), datetime.datetime(2019, 3, 22, 0, 0), datetime.datetime(2019, 3, 22, 0, 0), datetime.datetime(2019, 3, 22, 0, 0), datetime.datetime(2019, 3, 22, 0, 0), datetime.datetime(2019, 3, 22, 0, 0), datetime.datetime(2019, 3, 22, 0, 0), datetime.datetime(2019, 3, 22, 0, 0), datetime.datetime(2019, 3, 22, 0, 0), datetime.datetime(2019, 3, 22, 0, 0), datetime.datetime(2019, 3, 21, 0, 0), datetime.datetime(2019, 3, 21, 0, 0), datetime.datetime(2019, 3, 21, 0, 0), datetime.datetime(2019, 3, 21, 0, 0), datetime.datetime(2019, 3, 21, 0, 0), datetime.datetime(2019, 3, 21, 0, 0), datetime.datetime(2019, 3, 21, 0, 0), datetime.datetime(2019, 3, 21, 0, 0), datetime.datetime(2019, 3, 21, 0, 0), datetime.datetime(2019, 3, 21, 0, 0), datetime.datetime(2019, 3, 21, 0, 0), datetime.datetime(2019, 3, 21, 0, 0), datetime.datetime(2019, 3, 21, 0, 0), datetime.datetime(2019, 3, 21, 0, 0), datetime.datetime(2019, 3, 21, 0, 0), datetime.datetime(2019, 3, 20, 0, 0), datetime.datetime(2019, 3, 20, 0, 0), datetime.datetime(2019, 3, 20, 0, 0), datetime.datetime(2019, 3, 20, 0, 0), datetime.datetime(2019, 3, 20, 0, 0), datetime.datetime(2019, 3, 20, 0, 0), datetime.datetime(2019, 3, 20, 0, 0), datetime.datetime(2019, 3, 20, 0, 0), datetime.datetime(2019, 3, 20, 0, 0), datetime.datetime(2019, 3, 19, 0, 0), datetime.datetime(2019, 3, 19, 0, 0), datetime.datetime(2019, 3, 19, 0, 0), datetime.datetime(2019, 3, 19, 0, 0), datetime.datetime(2019, 3, 19, 0, 0), datetime.datetime(2019, 3, 19, 0, 0), datetime.datetime(2019, 3, 19, 0, 0), datetime.datetime(2019, 3, 19, 0, 0), datetime.datetime(2019, 3, 19, 0, 0), datetime.datetime(2019, 3, 19, 0, 0), datetime.datetime(2019, 3, 18, 0, 0), datetime.datetime(2019, 3, 18, 0, 0), datetime.datetime(2019, 3, 18, 0, 0), datetime.datetime(2019, 3, 18, 0, 0), datetime.datetime(2019, 3, 18, 0, 0), datetime.datetime(2019, 3, 18, 0, 0), datetime.datetime(2019, 3, 18, 0, 0), datetime.datetime(2019, 3, 18, 0, 0), datetime.datetime(2019, 3, 18, 0, 0), datetime.datetime(2019, 3, 18, 0, 0), datetime.datetime(2019, 3, 18, 0, 0), datetime.datetime(2019, 3, 17, 0, 0), datetime.datetime(2019, 3, 17, 0, 0), datetime.datetime(2019, 3, 17, 0, 0), datetime.datetime(2019, 3, 16, 0, 0), datetime.datetime(2019, 3, 16, 0, 0), datetime.datetime(2019, 3, 16, 0, 0), datetime.datetime(2019, 3, 15, 0, 0), datetime.datetime(2019, 3, 15, 0, 0), datetime.datetime(2019, 3, 15, 0, 0), datetime.datetime(2019, 3, 15, 0, 0), datetime.datetime(2019, 3, 15, 0, 0), datetime.datetime(2019, 3, 15, 0, 0), datetime.datetime(2019, 3, 15, 0, 0), datetime.datetime(2019, 3, 15, 0, 0), datetime.datetime(2019, 3, 15, 0, 0), datetime.datetime(2019, 3, 15, 0, 0), datetime.datetime(2019, 3, 14, 0, 0), datetime.datetime(2019, 3, 14, 0, 0), datetime.datetime(2019, 3, 14, 0, 0), datetime.datetime(2019, 3, 14, 0, 0), datetime.datetime(2019, 3, 14, 0, 0), datetime.datetime(2019, 3, 14, 0, 0), datetime.datetime(2019, 3, 14, 0, 0), datetime.datetime(2019, 3, 14, 0, 0), datetime.datetime(2019, 3, 14, 0, 0), datetime.datetime(2019, 3, 14, 0, 0), datetime.datetime(2019, 3, 14, 0, 0), datetime.datetime(2019, 3, 14, 0, 0), datetime.datetime(2019, 3, 14, 0, 0), datetime.datetime(2019, 3, 14, 0, 0), datetime.datetime(2019, 3, 14, 0, 0), datetime.datetime(2019, 3, 14, 0, 0), datetime.datetime(2019, 3, 14, 0, 0), datetime.datetime(2019, 3, 13, 0, 0), datetime.datetime(2019, 3, 13, 0, 0), datetime.datetime(2019, 3, 13, 0, 0), datetime.datetime(2019, 3, 13, 0, 0), datetime.datetime(2019, 3, 13, 0, 0), datetime.datetime(2019, 3, 13, 0, 0), datetime.datetime(2019, 3, 13, 0, 0), datetime.datetime(2019, 3, 13, 0, 0), datetime.datetime(2019, 3, 13, 0, 0), datetime.datetime(2019, 3, 13, 0, 0), datetime.datetime(2019, 3, 12, 0, 0), datetime.datetime(2019, 3, 12, 0, 0), datetime.datetime(2019, 3, 12, 0, 0), datetime.datetime(2019, 3, 12, 0, 0), datetime.datetime(2019, 3, 12, 0, 0), datetime.datetime(2019, 3, 12, 0, 0), datetime.datetime(2019, 3, 12, 0, 0), datetime.datetime(2019, 3, 12, 0, 0), datetime.datetime(2019, 3, 12, 0, 0), datetime.datetime(2019, 3, 12, 0, 0), datetime.datetime(2019, 3, 12, 0, 0), datetime.datetime(2019, 3, 12, 0, 0), datetime.datetime(2019, 3, 12, 0, 0), datetime.datetime(2019, 3, 12, 0, 0), datetime.datetime(2019, 3, 12, 0, 0), datetime.datetime(2019, 3, 12, 0, 0), datetime.datetime(2019, 3, 11, 0, 0), datetime.datetime(2019, 3, 11, 0, 0), datetime.datetime(2019, 3, 11, 0, 0), datetime.datetime(2019, 3, 11, 0, 0), datetime.datetime(2019, 3, 11, 0, 0), datetime.datetime(2019, 3, 11, 0, 0), datetime.datetime(2019, 3, 11, 0, 0), datetime.datetime(2019, 3, 11, 0, 0), datetime.datetime(2019, 3, 11, 0, 0), datetime.datetime(2019, 3, 11, 0, 0), datetime.datetime(2019, 3, 11, 0, 0), datetime.datetime(2019, 3, 11, 0, 0), datetime.datetime(2019, 3, 11, 0, 0), datetime.datetime(2019, 3, 10, 0, 0), datetime.datetime(2019, 3, 10, 0, 0), datetime.datetime(2019, 3, 10, 0, 0), datetime.datetime(2019, 3, 10, 0, 0), datetime.datetime(2019, 3, 10, 0, 0), datetime.datetime(2019, 3, 9, 0, 0), datetime.datetime(2019, 3, 9, 0, 0), datetime.datetime(2019, 3, 9, 0, 0), datetime.datetime(2019, 3, 9, 0, 0), datetime.datetime(2019, 3, 9, 0, 0), datetime.datetime(2019, 3, 8, 0, 0), datetime.datetime(2019, 3, 8, 0, 0), datetime.datetime(2019, 3, 8, 0, 0), datetime.datetime(2019, 3, 8, 0, 0), datetime.datetime(2019, 3, 8, 0, 0), datetime.datetime(2019, 3, 7, 0, 0), datetime.datetime(2019, 3, 7, 0, 0), datetime.datetime(2019, 3, 7, 0, 0), datetime.datetime(2019, 3, 7, 0, 0), datetime.datetime(2019, 3, 7, 0, 0), datetime.datetime(2019, 3, 7, 0, 0), datetime.datetime(2019, 3, 7, 0, 0), datetime.datetime(2019, 3, 7, 0, 0), datetime.datetime(2019, 3, 7, 0, 0), datetime.datetime(2019, 3, 7, 0, 0), datetime.datetime(2019, 3, 7, 0, 0), datetime.datetime(2019, 3, 6, 0, 0), datetime.datetime(2019, 3, 6, 0, 0), datetime.datetime(2019, 3, 6, 0, 0), datetime.datetime(2019, 3, 6, 0, 0), datetime.datetime(2019, 3, 6, 0, 0), datetime.datetime(2019, 3, 6, 0, 0), datetime.datetime(2019, 3, 5, 0, 0), datetime.datetime(2019, 3, 5, 0, 0), datetime.datetime(2019, 3, 5, 0, 0), datetime.datetime(2019, 3, 5, 0, 0), datetime.datetime(2019, 3, 5, 0, 0), datetime.datetime(2019, 3, 5, 0, 0), datetime.datetime(2019, 3, 5, 0, 0), datetime.datetime(2019, 3, 5, 0, 0), datetime.datetime(2019, 3, 5, 0, 0), datetime.datetime(2019, 3, 4, 0, 0), datetime.datetime(2019, 3, 4, 0, 0), datetime.datetime(2019, 3, 4, 0, 0), datetime.datetime(2019, 3, 4, 0, 0), datetime.datetime(2019, 3, 4, 0, 0), datetime.datetime(2019, 3, 4, 0, 0), datetime.datetime(2019, 3, 4, 0, 0), datetime.datetime(2019, 3, 4, 0, 0), datetime.datetime(2019, 3, 4, 0, 0), datetime.datetime(2019, 3, 3, 0, 0), datetime.datetime(2019, 3, 3, 0, 0), datetime.datetime(2019, 3, 3, 0, 0), datetime.datetime(2019, 3, 2, 0, 0), datetime.datetime(2019, 3, 2, 0, 0), datetime.datetime(2019, 3, 2, 0, 0), datetime.datetime(2019, 3, 2, 0, 0), datetime.datetime(2019, 3, 2, 0, 0), datetime.datetime(2019, 3, 2, 0, 0), datetime.datetime(2019, 3, 1, 0, 0), datetime.datetime(2019, 3, 1, 0, 0), datetime.datetime(2019, 3, 1, 0, 0), datetime.datetime(2019, 3, 1, 0, 0), datetime.datetime(2019, 3, 1, 0, 0), datetime.datetime(2019, 3, 1, 0, 0), datetime.datetime(2019, 3, 1, 0, 0), datetime.datetime(2019, 3, 1, 0, 0), datetime.datetime(2019, 3, 1, 0, 0), datetime.datetime(2019, 3, 1, 0, 0), datetime.datetime(2019, 3, 1, 0, 0), datetime.datetime(2019, 2, 28, 0, 0), datetime.datetime(2019, 2, 28, 0, 0), datetime.datetime(2019, 2, 28, 0, 0), datetime.datetime(2019, 2, 28, 0, 0), datetime.datetime(2019, 2, 28, 0, 0), datetime.datetime(2019, 2, 28, 0, 0), datetime.datetime(2019, 2, 27, 0, 0), datetime.datetime(2019, 2, 27, 0, 0), datetime.datetime(2019, 2, 27, 0, 0), datetime.datetime(2019, 2, 27, 0, 0), datetime.datetime(2019, 2, 27, 0, 0), datetime.datetime(2019, 2, 27, 0, 0), datetime.datetime(2019, 2, 27, 0, 0), datetime.datetime(2019, 2, 27, 0, 0), datetime.datetime(2019, 2, 27, 0, 0), datetime.datetime(2019, 2, 26, 0, 0), datetime.datetime(2019, 2, 26, 0, 0), datetime.datetime(2019, 2, 26, 0, 0), datetime.datetime(2019, 2, 26, 0, 0), datetime.datetime(2019, 2, 26, 0, 0), datetime.datetime(2019, 2, 26, 0, 0), datetime.datetime(2019, 2, 26, 0, 0), datetime.datetime(2019, 2, 26, 0, 0), datetime.datetime(2019, 2, 26, 0, 0), datetime.datetime(2019, 2, 26, 0, 0), datetime.datetime(2019, 2, 26, 0, 0), datetime.datetime(2019, 2, 26, 0, 0), datetime.datetime(2019, 2, 26, 0, 0), datetime.datetime(2019, 2, 25, 0, 0), datetime.datetime(2019, 2, 25, 0, 0), datetime.datetime(2019, 2, 25, 0, 0), datetime.datetime(2019, 2, 25, 0, 0), datetime.datetime(2019, 2, 25, 0, 0), datetime.datetime(2019, 2, 25, 0, 0), datetime.datetime(2019, 2, 25, 0, 0), datetime.datetime(2019, 2, 25, 0, 0), datetime.datetime(2019, 2, 25, 0, 0), datetime.datetime(2019, 2, 24, 0, 0), datetime.datetime(2019, 2, 24, 0, 0), datetime.datetime(2019, 2, 24, 0, 0), datetime.datetime(2019, 2, 24, 0, 0), datetime.datetime(2019, 2, 24, 0, 0), datetime.datetime(2019, 2, 24, 0, 0), datetime.datetime(2019, 2, 24, 0, 0), datetime.datetime(2019, 2, 24, 0, 0), datetime.datetime(2019, 2, 23, 0, 0), datetime.datetime(2019, 2, 23, 0, 0), datetime.datetime(2019, 2, 23, 0, 0), datetime.datetime(2019, 2, 23, 0, 0), datetime.datetime(2019, 2, 23, 0, 0), datetime.datetime(2019, 2, 22, 0, 0), datetime.datetime(2019, 2, 22, 0, 0), datetime.datetime(2019, 2, 22, 0, 0), datetime.datetime(2019, 2, 22, 0, 0), datetime.datetime(2019, 2, 22, 0, 0), datetime.datetime(2019, 2, 22, 0, 0), datetime.datetime(2019, 2, 22, 0, 0), datetime.datetime(2019, 2, 22, 0, 0), datetime.datetime(2019, 2, 21, 0, 0), datetime.datetime(2019, 2, 21, 0, 0), datetime.datetime(2019, 2, 21, 0, 0), datetime.datetime(2019, 2, 21, 0, 0), datetime.datetime(2019, 2, 21, 0, 0), datetime.datetime(2019, 2, 21, 0, 0), datetime.datetime(2019, 2, 21, 0, 0), datetime.datetime(2019, 2, 21, 0, 0), datetime.datetime(2019, 2, 21, 0, 0), datetime.datetime(2019, 2, 21, 0, 0), datetime.datetime(2019, 2, 20, 0, 0), datetime.datetime(2019, 2, 20, 0, 0), datetime.datetime(2019, 2, 20, 0, 0), datetime.datetime(2019, 2, 20, 0, 0), datetime.datetime(2019, 2, 20, 0, 0), datetime.datetime(2019, 2, 20, 0, 0), datetime.datetime(2019, 2, 20, 0, 0), datetime.datetime(2019, 2, 20, 0, 0), datetime.datetime(2019, 2, 20, 0, 0), datetime.datetime(2019, 2, 20, 0, 0), datetime.datetime(2019, 2, 19, 0, 0), datetime.datetime(2019, 2, 19, 0, 0), datetime.datetime(2019, 2, 19, 0, 0), datetime.datetime(2019, 2, 19, 0, 0), datetime.datetime(2019, 2, 19, 0, 0), datetime.datetime(2019, 2, 19, 0, 0), datetime.datetime(2019, 2, 19, 0, 0), datetime.datetime(2019, 2, 19, 0, 0), datetime.datetime(2019, 2, 19, 0, 0), datetime.datetime(2019, 2, 19, 0, 0), datetime.datetime(2019, 2, 19, 0, 0), datetime.datetime(2019, 2, 18, 0, 0), datetime.datetime(2019, 2, 18, 0, 0), datetime.datetime(2019, 2, 18, 0, 0), datetime.datetime(2019, 2, 18, 0, 0), datetime.datetime(2019, 2, 18, 0, 0), datetime.datetime(2019, 2, 18, 0, 0), datetime.datetime(2019, 2, 18, 0, 0), datetime.datetime(2019, 2, 18, 0, 0), datetime.datetime(2019, 2, 18, 0, 0), datetime.datetime(2019, 2, 18, 0, 0), datetime.datetime(2019, 2, 18, 0, 0), datetime.datetime(2019, 2, 18, 0, 0), datetime.datetime(2019, 2, 18, 0, 0), datetime.datetime(2019, 2, 18, 0, 0), datetime.datetime(2019, 2, 18, 0, 0), datetime.datetime(2019, 2, 18, 0, 0), datetime.datetime(2019, 2, 18, 0, 0), datetime.datetime(2019, 2, 17, 0, 0), datetime.datetime(2019, 2, 17, 0, 0), datetime.datetime(2019, 2, 17, 0, 0), datetime.datetime(2019, 2, 17, 0, 0), datetime.datetime(2019, 2, 17, 0, 0), datetime.datetime(2019, 2, 16, 0, 0), datetime.datetime(2019, 2, 16, 0, 0), datetime.datetime(2019, 2, 16, 0, 0), datetime.datetime(2019, 2, 16, 0, 0), datetime.datetime(2019, 2, 15, 0, 0), datetime.datetime(2019, 2, 15, 0, 0), datetime.datetime(2019, 2, 15, 0, 0), datetime.datetime(2019, 2, 15, 0, 0), datetime.datetime(2019, 2, 15, 0, 0), datetime.datetime(2019, 2, 15, 0, 0), datetime.datetime(2019, 2, 15, 0, 0), datetime.datetime(2019, 2, 15, 0, 0), datetime.datetime(2019, 2, 15, 0, 0), datetime.datetime(2019, 2, 15, 0, 0), datetime.datetime(2019, 2, 15, 0, 0), datetime.datetime(2019, 2, 14, 0, 0), datetime.datetime(2019, 2, 14, 0, 0), datetime.datetime(2019, 2, 14, 0, 0), datetime.datetime(2019, 2, 14, 0, 0), datetime.datetime(2019, 2, 14, 0, 0), datetime.datetime(2019, 2, 14, 0, 0), datetime.datetime(2019, 2, 14, 0, 0), datetime.datetime(2019, 2, 14, 0, 0), datetime.datetime(2019, 2, 14, 0, 0), datetime.datetime(2019, 2, 14, 0, 0), datetime.datetime(2019, 2, 14, 0, 0), datetime.datetime(2019, 2, 13, 0, 0), datetime.datetime(2019, 2, 13, 0, 0), datetime.datetime(2019, 2, 13, 0, 0), datetime.datetime(2019, 2, 13, 0, 0), datetime.datetime(2019, 2, 13, 0, 0), datetime.datetime(2019, 2, 13, 0, 0), datetime.datetime(2019, 2, 13, 0, 0), datetime.datetime(2019, 2, 13, 0, 0), datetime.datetime(2019, 2, 13, 0, 0), datetime.datetime(2019, 2, 13, 0, 0), datetime.datetime(2019, 2, 13, 0, 0), datetime.datetime(2019, 2, 13, 0, 0), datetime.datetime(2019, 2, 13, 0, 0), datetime.datetime(2019, 2, 12, 0, 0), datetime.datetime(2019, 2, 12, 0, 0), datetime.datetime(2019, 2, 12, 0, 0), datetime.datetime(2019, 2, 12, 0, 0), datetime.datetime(2019, 2, 12, 0, 0), datetime.datetime(2019, 2, 12, 0, 0), datetime.datetime(2019, 2, 12, 0, 0), datetime.datetime(2019, 2, 12, 0, 0), datetime.datetime(2019, 2, 12, 0, 0), datetime.datetime(2019, 2, 12, 0, 0), datetime.datetime(2019, 2, 11, 0, 0), datetime.datetime(2019, 2, 11, 0, 0), datetime.datetime(2019, 2, 11, 0, 0), datetime.datetime(2019, 2, 11, 0, 0), datetime.datetime(2019, 2, 11, 0, 0), datetime.datetime(2019, 2, 11, 0, 0), datetime.datetime(2019, 2, 11, 0, 0), datetime.datetime(2019, 2, 11, 0, 0), datetime.datetime(2019, 2, 11, 0, 0), datetime.datetime(2019, 2, 11, 0, 0), datetime.datetime(2019, 2, 11, 0, 0), datetime.datetime(2019, 2, 11, 0, 0), datetime.datetime(2019, 2, 11, 0, 0), datetime.datetime(2019, 2, 11, 0, 0), datetime.datetime(2019, 2, 11, 0, 0), datetime.datetime(2019, 2, 11, 0, 0), datetime.datetime(2019, 2, 10, 0, 0), datetime.datetime(2019, 2, 10, 0, 0), datetime.datetime(2019, 2, 10, 0, 0), datetime.datetime(2019, 2, 9, 0, 0), datetime.datetime(2019, 2, 9, 0, 0), datetime.datetime(2019, 2, 9, 0, 0), datetime.datetime(2019, 2, 9, 0, 0), datetime.datetime(2019, 2, 9, 0, 0), datetime.datetime(2019, 2, 9, 0, 0), datetime.datetime(2019, 2, 8, 0, 0), datetime.datetime(2019, 2, 8, 0, 0), datetime.datetime(2019, 2, 8, 0, 0), datetime.datetime(2019, 2, 8, 0, 0), datetime.datetime(2019, 2, 8, 0, 0), datetime.datetime(2019, 2, 8, 0, 0), datetime.datetime(2019, 2, 8, 0, 0), datetime.datetime(2019, 2, 8, 0, 0), datetime.datetime(2019, 2, 8, 0, 0), datetime.datetime(2019, 2, 8, 0, 0), datetime.datetime(2019, 2, 7, 0, 0), datetime.datetime(2019, 2, 7, 0, 0), datetime.datetime(2019, 2, 7, 0, 0), datetime.datetime(2019, 2, 7, 0, 0), datetime.datetime(2019, 2, 7, 0, 0), datetime.datetime(2019, 2, 7, 0, 0), datetime.datetime(2019, 2, 7, 0, 0), datetime.datetime(2019, 2, 6, 0, 0), datetime.datetime(2019, 2, 6, 0, 0), datetime.datetime(2019, 2, 6, 0, 0), datetime.datetime(2019, 2, 6, 0, 0), datetime.datetime(2019, 2, 6, 0, 0), datetime.datetime(2019, 2, 6, 0, 0), datetime.datetime(2019, 2, 6, 0, 0), datetime.datetime(2019, 2, 6, 0, 0), datetime.datetime(2019, 2, 6, 0, 0), datetime.datetime(2019, 2, 5, 0, 0), datetime.datetime(2019, 2, 5, 0, 0), datetime.datetime(2019, 2, 5, 0, 0), datetime.datetime(2019, 2, 5, 0, 0), datetime.datetime(2019, 2, 5, 0, 0), datetime.datetime(2019, 2, 5, 0, 0), datetime.datetime(2019, 2, 5, 0, 0), datetime.datetime(2019, 2, 5, 0, 0), datetime.datetime(2019, 2, 5, 0, 0), datetime.datetime(2019, 2, 5, 0, 0), datetime.datetime(2019, 2, 5, 0, 0), datetime.datetime(2019, 2, 4, 0, 0), datetime.datetime(2019, 2, 4, 0, 0), datetime.datetime(2019, 2, 4, 0, 0), datetime.datetime(2019, 2, 4, 0, 0), datetime.datetime(2019, 2, 4, 0, 0), datetime.datetime(2019, 2, 4, 0, 0), datetime.datetime(2019, 2, 4, 0, 0), datetime.datetime(2019, 2, 4, 0, 0), datetime.datetime(2019, 2, 4, 0, 0), datetime.datetime(2019, 2, 4, 0, 0), datetime.datetime(2019, 2, 4, 0, 0), datetime.datetime(2019, 2, 4, 0, 0), datetime.datetime(2019, 2, 4, 0, 0), datetime.datetime(2019, 2, 3, 0, 0), datetime.datetime(2019, 2, 3, 0, 0), datetime.datetime(2019, 2, 3, 0, 0), datetime.datetime(2019, 2, 3, 0, 0), datetime.datetime(2019, 2, 3, 0, 0), datetime.datetime(2019, 2, 3, 0, 0), datetime.datetime(2019, 2, 2, 0, 0), datetime.datetime(2019, 2, 2, 0, 0), datetime.datetime(2019, 2, 2, 0, 0), datetime.datetime(2019, 2, 1, 0, 0), datetime.datetime(2019, 2, 1, 0, 0), datetime.datetime(2019, 2, 1, 0, 0), datetime.datetime(2019, 2, 1, 0, 0), datetime.datetime(2019, 2, 1, 0, 0), datetime.datetime(2019, 2, 1, 0, 0), datetime.datetime(2019, 2, 1, 0, 0), datetime.datetime(2019, 2, 1, 0, 0), datetime.datetime(2019, 2, 1, 0, 0), datetime.datetime(2019, 2, 1, 0, 0), datetime.datetime(2019, 2, 1, 0, 0), datetime.datetime(2019, 2, 1, 0, 0), datetime.datetime(2019, 2, 1, 0, 0), datetime.datetime(2019, 1, 31, 0, 0), datetime.datetime(2019, 1, 31, 0, 0), datetime.datetime(2019, 1, 31, 0, 0), datetime.datetime(2019, 1, 31, 0, 0), datetime.datetime(2019, 1, 31, 0, 0), datetime.datetime(2019, 1, 31, 0, 0), datetime.datetime(2019, 1, 30, 0, 0), datetime.datetime(2019, 1, 30, 0, 0), datetime.datetime(2019, 1, 30, 0, 0), datetime.datetime(2019, 1, 30, 0, 0), datetime.datetime(2019, 1, 30, 0, 0), datetime.datetime(2019, 1, 30, 0, 0), datetime.datetime(2019, 1, 30, 0, 0), datetime.datetime(2019, 1, 30, 0, 0), datetime.datetime(2019, 1, 29, 0, 0), datetime.datetime(2019, 1, 29, 0, 0), datetime.datetime(2019, 1, 29, 0, 0), datetime.datetime(2019, 1, 29, 0, 0), datetime.datetime(2019, 1, 29, 0, 0), datetime.datetime(2019, 1, 29, 0, 0), datetime.datetime(2019, 1, 29, 0, 0), datetime.datetime(2019, 1, 29, 0, 0), datetime.datetime(2019, 1, 29, 0, 0), datetime.datetime(2019, 1, 29, 0, 0), datetime.datetime(2019, 1, 29, 0, 0), datetime.datetime(2019, 1, 29, 0, 0), datetime.datetime(2019, 1, 29, 0, 0), datetime.datetime(2019, 1, 28, 0, 0), datetime.datetime(2019, 1, 28, 0, 0), datetime.datetime(2019, 1, 28, 0, 0), datetime.datetime(2019, 1, 28, 0, 0), datetime.datetime(2019, 1, 28, 0, 0), datetime.datetime(2019, 1, 28, 0, 0), datetime.datetime(2019, 1, 28, 0, 0), datetime.datetime(2019, 1, 28, 0, 0), datetime.datetime(2019, 1, 28, 0, 0), datetime.datetime(2019, 1, 28, 0, 0), datetime.datetime(2019, 1, 28, 0, 0), datetime.datetime(2019, 1, 28, 0, 0), datetime.datetime(2019, 1, 28, 0, 0), datetime.datetime(2019, 1, 28, 0, 0), datetime.datetime(2019, 1, 28, 0, 0), datetime.datetime(2019, 1, 28, 0, 0), datetime.datetime(2019, 1, 27, 0, 0), datetime.datetime(2019, 1, 27, 0, 0), datetime.datetime(2019, 1, 27, 0, 0), datetime.datetime(2019, 1, 27, 0, 0), datetime.datetime(2019, 1, 26, 0, 0), datetime.datetime(2019, 1, 26, 0, 0), datetime.datetime(2019, 1, 26, 0, 0), datetime.datetime(2019, 1, 26, 0, 0), datetime.datetime(2019, 1, 26, 0, 0), datetime.datetime(2019, 1, 26, 0, 0), datetime.datetime(2019, 1, 25, 0, 0), datetime.datetime(2019, 1, 25, 0, 0), datetime.datetime(2019, 1, 25, 0, 0), datetime.datetime(2019, 1, 25, 0, 0), datetime.datetime(2019, 1, 25, 0, 0), datetime.datetime(2019, 1, 25, 0, 0), datetime.datetime(2019, 1, 25, 0, 0), datetime.datetime(2019, 1, 25, 0, 0), datetime.datetime(2019, 1, 25, 0, 0), datetime.datetime(2019, 1, 25, 0, 0), datetime.datetime(2019, 1, 24, 0, 0), datetime.datetime(2019, 1, 24, 0, 0), datetime.datetime(2019, 1, 24, 0, 0), datetime.datetime(2019, 1, 24, 0, 0), datetime.datetime(2019, 1, 24, 0, 0), datetime.datetime(2019, 1, 24, 0, 0), datetime.datetime(2019, 1, 24, 0, 0), datetime.datetime(2019, 1, 24, 0, 0), datetime.datetime(2019, 1, 24, 0, 0), datetime.datetime(2019, 1, 24, 0, 0), datetime.datetime(2019, 1, 24, 0, 0), datetime.datetime(2019, 1, 24, 0, 0), datetime.datetime(2019, 1, 24, 0, 0), datetime.datetime(2019, 1, 24, 0, 0), datetime.datetime(2019, 1, 24, 0, 0), datetime.datetime(2019, 1, 24, 0, 0), datetime.datetime(2019, 1, 24, 0, 0), datetime.datetime(2019, 1, 24, 0, 0), datetime.datetime(2019, 1, 23, 0, 0), datetime.datetime(2019, 1, 23, 0, 0), datetime.datetime(2019, 1, 23, 0, 0), datetime.datetime(2019, 1, 23, 0, 0), datetime.datetime(2019, 1, 23, 0, 0), datetime.datetime(2019, 1, 23, 0, 0), datetime.datetime(2019, 1, 23, 0, 0), datetime.datetime(2019, 1, 23, 0, 0), datetime.datetime(2019, 1, 23, 0, 0), datetime.datetime(2019, 1, 23, 0, 0), datetime.datetime(2019, 1, 23, 0, 0), datetime.datetime(2019, 1, 23, 0, 0), datetime.datetime(2019, 1, 22, 0, 0), datetime.datetime(2019, 1, 22, 0, 0), datetime.datetime(2019, 1, 22, 0, 0), datetime.datetime(2019, 1, 22, 0, 0), datetime.datetime(2019, 1, 22, 0, 0), datetime.datetime(2019, 1, 22, 0, 0), datetime.datetime(2019, 1, 22, 0, 0), datetime.datetime(2019, 1, 22, 0, 0), datetime.datetime(2019, 1, 22, 0, 0), datetime.datetime(2019, 1, 22, 0, 0), datetime.datetime(2019, 1, 22, 0, 0), datetime.datetime(2019, 1, 21, 0, 0), datetime.datetime(2019, 1, 21, 0, 0), datetime.datetime(2019, 1, 21, 0, 0), datetime.datetime(2019, 1, 21, 0, 0), datetime.datetime(2019, 1, 21, 0, 0), datetime.datetime(2019, 1, 21, 0, 0), datetime.datetime(2019, 1, 21, 0, 0), datetime.datetime(2019, 1, 21, 0, 0), datetime.datetime(2019, 1, 20, 0, 0), datetime.datetime(2019, 1, 20, 0, 0), datetime.datetime(2019, 1, 20, 0, 0), datetime.datetime(2019, 1, 20, 0, 0), datetime.datetime(2019, 1, 20, 0, 0), datetime.datetime(2019, 1, 19, 0, 0), datetime.datetime(2019, 1, 19, 0, 0), datetime.datetime(2019, 1, 19, 0, 0), datetime.datetime(2019, 1, 19, 0, 0), datetime.datetime(2019, 1, 19, 0, 0), datetime.datetime(2019, 1, 19, 0, 0), datetime.datetime(2019, 1, 18, 0, 0), datetime.datetime(2019, 1, 18, 0, 0), datetime.datetime(2019, 1, 18, 0, 0), datetime.datetime(2019, 1, 18, 0, 0), datetime.datetime(2019, 1, 18, 0, 0), datetime.datetime(2019, 1, 18, 0, 0), datetime.datetime(2019, 1, 17, 0, 0), datetime.datetime(2019, 1, 17, 0, 0), datetime.datetime(2019, 1, 17, 0, 0), datetime.datetime(2019, 1, 17, 0, 0), datetime.datetime(2019, 1, 17, 0, 0), datetime.datetime(2019, 1, 17, 0, 0), datetime.datetime(2019, 1, 17, 0, 0), datetime.datetime(2019, 1, 17, 0, 0), datetime.datetime(2019, 1, 17, 0, 0), datetime.datetime(2019, 1, 17, 0, 0), datetime.datetime(2019, 1, 17, 0, 0), datetime.datetime(2019, 1, 17, 0, 0), datetime.datetime(2019, 1, 17, 0, 0), datetime.datetime(2019, 1, 17, 0, 0), datetime.datetime(2019, 1, 16, 0, 0), datetime.datetime(2019, 1, 16, 0, 0), datetime.datetime(2019, 1, 16, 0, 0), datetime.datetime(2019, 1, 16, 0, 0), datetime.datetime(2019, 1, 16, 0, 0), datetime.datetime(2019, 1, 16, 0, 0), datetime.datetime(2019, 1, 16, 0, 0), datetime.datetime(2019, 1, 16, 0, 0), datetime.datetime(2019, 1, 16, 0, 0), datetime.datetime(2019, 1, 16, 0, 0), datetime.datetime(2019, 1, 16, 0, 0), datetime.datetime(2019, 1, 16, 0, 0), datetime.datetime(2019, 1, 16, 0, 0), datetime.datetime(2019, 1, 16, 0, 0), datetime.datetime(2019, 1, 16, 0, 0), datetime.datetime(2019, 1, 16, 0, 0), datetime.datetime(2019, 1, 16, 0, 0), datetime.datetime(2019, 1, 16, 0, 0), datetime.datetime(2019, 1, 16, 0, 0), datetime.datetime(2019, 1, 15, 0, 0), datetime.datetime(2019, 1, 15, 0, 0), datetime.datetime(2019, 1, 15, 0, 0), datetime.datetime(2019, 1, 15, 0, 0), datetime.datetime(2019, 1, 15, 0, 0), datetime.datetime(2019, 1, 15, 0, 0), datetime.datetime(2019, 1, 15, 0, 0), datetime.datetime(2019, 1, 15, 0, 0), datetime.datetime(2019, 1, 15, 0, 0), datetime.datetime(2019, 1, 15, 0, 0), datetime.datetime(2019, 1, 15, 0, 0), datetime.datetime(2019, 1, 15, 0, 0), datetime.datetime(2019, 1, 15, 0, 0), datetime.datetime(2019, 1, 15, 0, 0), datetime.datetime(2019, 1, 15, 0, 0), datetime.datetime(2019, 1, 15, 0, 0), datetime.datetime(2019, 1, 14, 0, 0), datetime.datetime(2019, 1, 14, 0, 0), datetime.datetime(2019, 1, 14, 0, 0), datetime.datetime(2019, 1, 14, 0, 0), datetime.datetime(2019, 1, 14, 0, 0), datetime.datetime(2019, 1, 14, 0, 0), datetime.datetime(2019, 1, 14, 0, 0), datetime.datetime(2019, 1, 14, 0, 0), datetime.datetime(2019, 1, 14, 0, 0), datetime.datetime(2019, 1, 14, 0, 0), datetime.datetime(2019, 1, 14, 0, 0), datetime.datetime(2019, 1, 13, 0, 0), datetime.datetime(2019, 1, 13, 0, 0), datetime.datetime(2019, 1, 13, 0, 0), datetime.datetime(2019, 1, 12, 0, 0), datetime.datetime(2019, 1, 12, 0, 0), datetime.datetime(2019, 1, 12, 0, 0), datetime.datetime(2019, 1, 12, 0, 0), datetime.datetime(2019, 1, 12, 0, 0), datetime.datetime(2019, 1, 12, 0, 0), datetime.datetime(2019, 1, 11, 0, 0), datetime.datetime(2019, 1, 11, 0, 0), datetime.datetime(2019, 1, 11, 0, 0), datetime.datetime(2019, 1, 11, 0, 0), datetime.datetime(2019, 1, 11, 0, 0), datetime.datetime(2019, 1, 11, 0, 0), datetime.datetime(2019, 1, 11, 0, 0), datetime.datetime(2019, 1, 11, 0, 0), datetime.datetime(2019, 1, 11, 0, 0), datetime.datetime(2019, 1, 11, 0, 0), datetime.datetime(2019, 1, 11, 0, 0), datetime.datetime(2019, 1, 11, 0, 0), datetime.datetime(2019, 1, 11, 0, 0), datetime.datetime(2019, 1, 10, 0, 0), datetime.datetime(2019, 1, 10, 0, 0), datetime.datetime(2019, 1, 10, 0, 0), datetime.datetime(2019, 1, 10, 0, 0), datetime.datetime(2019, 1, 10, 0, 0), datetime.datetime(2019, 1, 10, 0, 0), datetime.datetime(2019, 1, 10, 0, 0), datetime.datetime(2019, 1, 10, 0, 0), datetime.datetime(2019, 1, 10, 0, 0), datetime.datetime(2019, 1, 10, 0, 0), datetime.datetime(2019, 1, 10, 0, 0), datetime.datetime(2019, 1, 10, 0, 0), datetime.datetime(2019, 1, 10, 0, 0), datetime.datetime(2019, 1, 10, 0, 0), datetime.datetime(2019, 1, 10, 0, 0), datetime.datetime(2019, 1, 10, 0, 0), datetime.datetime(2019, 1, 10, 0, 0), datetime.datetime(2019, 1, 9, 0, 0), datetime.datetime(2019, 1, 9, 0, 0), datetime.datetime(2019, 1, 9, 0, 0), datetime.datetime(2019, 1, 9, 0, 0), datetime.datetime(2019, 1, 9, 0, 0), datetime.datetime(2019, 1, 9, 0, 0), datetime.datetime(2019, 1, 9, 0, 0), datetime.datetime(2019, 1, 9, 0, 0), datetime.datetime(2019, 1, 9, 0, 0), datetime.datetime(2019, 1, 9, 0, 0), datetime.datetime(2019, 1, 9, 0, 0), datetime.datetime(2019, 1, 9, 0, 0), datetime.datetime(2019, 1, 9, 0, 0), datetime.datetime(2019, 1, 9, 0, 0), datetime.datetime(2019, 1, 8, 0, 0), datetime.datetime(2019, 1, 8, 0, 0), datetime.datetime(2019, 1, 8, 0, 0), datetime.datetime(2019, 1, 8, 0, 0), datetime.datetime(2019, 1, 7, 0, 0), datetime.datetime(2019, 1, 7, 0, 0), datetime.datetime(2019, 1, 7, 0, 0), datetime.datetime(2019, 1, 6, 0, 0), datetime.datetime(2019, 1, 6, 0, 0), datetime.datetime(2019, 1, 6, 0, 0), datetime.datetime(2019, 1, 6, 0, 0), datetime.datetime(2019, 1, 6, 0, 0), datetime.datetime(2019, 1, 5, 0, 0), datetime.datetime(2019, 1, 5, 0, 0), datetime.datetime(2019, 1, 5, 0, 0), datetime.datetime(2019, 1, 5, 0, 0), datetime.datetime(2019, 1, 5, 0, 0), datetime.datetime(2019, 1, 5, 0, 0), datetime.datetime(2019, 1, 5, 0, 0), datetime.datetime(2019, 1, 5, 0, 0), datetime.datetime(2019, 1, 5, 0, 0), datetime.datetime(2019, 1, 4, 0, 0), datetime.datetime(2019, 1, 4, 0, 0), datetime.datetime(2019, 1, 4, 0, 0), datetime.datetime(2019, 1, 3, 0, 0), datetime.datetime(2019, 1, 3, 0, 0), datetime.datetime(2019, 1, 2, 0, 0), datetime.datetime(2019, 1, 2, 0, 0), datetime.datetime(2019, 1, 2, 0, 0), datetime.datetime(2019, 1, 2, 0, 0), datetime.datetime(2018, 12, 31, 0, 0), datetime.datetime(2018, 12, 31, 0, 0), datetime.datetime(2018, 12, 31, 0, 0), datetime.datetime(2018, 12, 30, 0, 0), datetime.datetime(2018, 12, 30, 0, 0), datetime.datetime(2018, 12, 30, 0, 0), datetime.datetime(2018, 12, 29, 0, 0), datetime.datetime(2018, 12, 29, 0, 0), datetime.datetime(2018, 12, 29, 0, 0), datetime.datetime(2018, 12, 29, 0, 0), datetime.datetime(2018, 12, 29, 0, 0), datetime.datetime(2018, 12, 29, 0, 0), datetime.datetime(2018, 12, 29, 0, 0), datetime.datetime(2018, 12, 28, 0, 0), datetime.datetime(2018, 12, 28, 0, 0), datetime.datetime(2018, 12, 28, 0, 0), datetime.datetime(2018, 12, 28, 0, 0), datetime.datetime(2018, 12, 28, 0, 0), datetime.datetime(2018, 12, 28, 0, 0), datetime.datetime(2018, 12, 27, 0, 0), datetime.datetime(2018, 12, 27, 0, 0), datetime.datetime(2018, 12, 27, 0, 0), datetime.datetime(2018, 12, 27, 0, 0), datetime.datetime(2018, 12, 27, 0, 0), datetime.datetime(2018, 12, 27, 0, 0), datetime.datetime(2018, 12, 27, 0, 0), datetime.datetime(2018, 12, 27, 0, 0), datetime.datetime(2018, 12, 27, 0, 0), datetime.datetime(2018, 12, 27, 0, 0), datetime.datetime(2018, 12, 27, 0, 0), datetime.datetime(2018, 12, 27, 0, 0), datetime.datetime(2018, 12, 27, 0, 0), datetime.datetime(2018, 12, 26, 0, 0), datetime.datetime(2018, 12, 26, 0, 0), datetime.datetime(2018, 12, 26, 0, 0), datetime.datetime(2018, 12, 26, 0, 0), datetime.datetime(2018, 12, 26, 0, 0), datetime.datetime(2018, 12, 26, 0, 0), datetime.datetime(2018, 12, 26, 0, 0), datetime.datetime(2018, 12, 26, 0, 0), datetime.datetime(2018, 12, 26, 0, 0), datetime.datetime(2018, 12, 26, 0, 0), datetime.datetime(2018, 12, 26, 0, 0), datetime.datetime(2018, 12, 26, 0, 0), datetime.datetime(2018, 12, 25, 0, 0), datetime.datetime(2018, 12, 25, 0, 0), datetime.datetime(2018, 12, 25, 0, 0), datetime.datetime(2018, 12, 25, 0, 0), datetime.datetime(2018, 12, 25, 0, 0), datetime.datetime(2018, 12, 25, 0, 0), datetime.datetime(2018, 12, 25, 0, 0), datetime.datetime(2018, 12, 25, 0, 0), datetime.datetime(2018, 12, 25, 0, 0), datetime.datetime(2018, 12, 25, 0, 0), datetime.datetime(2018, 12, 25, 0, 0), datetime.datetime(2018, 12, 24, 0, 0), datetime.datetime(2018, 12, 24, 0, 0), datetime.datetime(2018, 12, 24, 0, 0), datetime.datetime(2018, 12, 24, 0, 0), datetime.datetime(2018, 12, 24, 0, 0), datetime.datetime(2018, 12, 24, 0, 0), datetime.datetime(2018, 12, 24, 0, 0), datetime.datetime(2018, 12, 24, 0, 0), datetime.datetime(2018, 12, 24, 0, 0), datetime.datetime(2018, 12, 24, 0, 0), datetime.datetime(2018, 12, 24, 0, 0), datetime.datetime(2018, 12, 24, 0, 0), datetime.datetime(2018, 12, 23, 0, 0), datetime.datetime(2018, 12, 23, 0, 0), datetime.datetime(2018, 12, 23, 0, 0), datetime.datetime(2018, 12, 23, 0, 0), datetime.datetime(2018, 12, 23, 0, 0), datetime.datetime(2018, 12, 23, 0, 0), datetime.datetime(2018, 12, 23, 0, 0), datetime.datetime(2018, 12, 23, 0, 0), datetime.datetime(2018, 12, 22, 0, 0), datetime.datetime(2018, 12, 22, 0, 0), datetime.datetime(2018, 12, 22, 0, 0), datetime.datetime(2018, 12, 22, 0, 0), datetime.datetime(2018, 12, 22, 0, 0), datetime.datetime(2018, 12, 22, 0, 0), datetime.datetime(2018, 12, 22, 0, 0), datetime.datetime(2018, 12, 22, 0, 0), datetime.datetime(2018, 12, 22, 0, 0), datetime.datetime(2018, 12, 22, 0, 0), datetime.datetime(2018, 12, 22, 0, 0), datetime.datetime(2018, 12, 21, 0, 0), datetime.datetime(2018, 12, 21, 0, 0), datetime.datetime(2018, 12, 21, 0, 0), datetime.datetime(2018, 12, 21, 0, 0), datetime.datetime(2018, 12, 21, 0, 0), datetime.datetime(2018, 12, 21, 0, 0), datetime.datetime(2018, 12, 21, 0, 0), datetime.datetime(2018, 12, 21, 0, 0), datetime.datetime(2018, 12, 20, 0, 0), datetime.datetime(2018, 12, 20, 0, 0), datetime.datetime(2018, 12, 20, 0, 0), datetime.datetime(2018, 12, 20, 0, 0), datetime.datetime(2018, 12, 20, 0, 0), datetime.datetime(2018, 12, 20, 0, 0), datetime.datetime(2018, 12, 19, 0, 0), datetime.datetime(2018, 12, 19, 0, 0), datetime.datetime(2018, 12, 19, 0, 0), datetime.datetime(2018, 12, 19, 0, 0), datetime.datetime(2018, 12, 19, 0, 0), datetime.datetime(2018, 12, 19, 0, 0), datetime.datetime(2018, 12, 19, 0, 0), datetime.datetime(2018, 12, 19, 0, 0), datetime.datetime(2018, 12, 19, 0, 0), datetime.datetime(2018, 12, 19, 0, 0), datetime.datetime(2018, 12, 18, 0, 0), datetime.datetime(2018, 12, 18, 0, 0), datetime.datetime(2018, 12, 18, 0, 0), datetime.datetime(2018, 12, 18, 0, 0), datetime.datetime(2018, 12, 18, 0, 0), datetime.datetime(2018, 12, 18, 0, 0), datetime.datetime(2018, 12, 18, 0, 0), datetime.datetime(2018, 12, 18, 0, 0), datetime.datetime(2018, 12, 18, 0, 0), datetime.datetime(2018, 12, 17, 0, 0), datetime.datetime(2018, 12, 17, 0, 0), datetime.datetime(2018, 12, 17, 0, 0), datetime.datetime(2018, 12, 17, 0, 0), datetime.datetime(2018, 12, 17, 0, 0), datetime.datetime(2018, 12, 17, 0, 0), datetime.datetime(2018, 12, 17, 0, 0), datetime.datetime(2018, 12, 17, 0, 0), datetime.datetime(2018, 12, 17, 0, 0), datetime.datetime(2018, 12, 17, 0, 0), datetime.datetime(2018, 12, 17, 0, 0), datetime.datetime(2018, 12, 17, 0, 0), datetime.datetime(2018, 12, 17, 0, 0), datetime.datetime(2018, 12, 16, 0, 0), datetime.datetime(2018, 12, 16, 0, 0), datetime.datetime(2018, 12, 16, 0, 0), datetime.datetime(2018, 12, 16, 0, 0), datetime.datetime(2018, 12, 16, 0, 0), datetime.datetime(2018, 12, 15, 0, 0), datetime.datetime(2018, 12, 15, 0, 0), datetime.datetime(2018, 12, 14, 0, 0), datetime.datetime(2018, 12, 14, 0, 0), datetime.datetime(2018, 12, 14, 0, 0), datetime.datetime(2018, 12, 14, 0, 0), datetime.datetime(2018, 12, 14, 0, 0), datetime.datetime(2018, 12, 14, 0, 0), datetime.datetime(2018, 12, 14, 0, 0), datetime.datetime(2018, 12, 14, 0, 0), datetime.datetime(2018, 12, 14, 0, 0), datetime.datetime(2018, 12, 14, 0, 0), datetime.datetime(2018, 12, 13, 0, 0), datetime.datetime(2018, 12, 13, 0, 0), datetime.datetime(2018, 12, 13, 0, 0), datetime.datetime(2018, 12, 13, 0, 0), datetime.datetime(2018, 12, 13, 0, 0), datetime.datetime(2018, 12, 13, 0, 0), datetime.datetime(2018, 12, 13, 0, 0), datetime.datetime(2018, 12, 13, 0, 0), datetime.datetime(2018, 12, 13, 0, 0), datetime.datetime(2018, 12, 13, 0, 0), datetime.datetime(2018, 12, 13, 0, 0), datetime.datetime(2018, 12, 13, 0, 0), datetime.datetime(2018, 12, 13, 0, 0), datetime.datetime(2018, 12, 13, 0, 0), datetime.datetime(2018, 12, 13, 0, 0), datetime.datetime(2018, 12, 13, 0, 0), datetime.datetime(2018, 12, 13, 0, 0), datetime.datetime(2018, 12, 12, 0, 0), datetime.datetime(2018, 12, 12, 0, 0), datetime.datetime(2018, 12, 12, 0, 0), datetime.datetime(2018, 12, 12, 0, 0), datetime.datetime(2018, 12, 12, 0, 0), datetime.datetime(2018, 12, 12, 0, 0), datetime.datetime(2018, 12, 12, 0, 0), datetime.datetime(2018, 12, 12, 0, 0), datetime.datetime(2018, 12, 12, 0, 0), datetime.datetime(2018, 12, 12, 0, 0), datetime.datetime(2018, 12, 12, 0, 0), datetime.datetime(2018, 12, 12, 0, 0), datetime.datetime(2018, 12, 12, 0, 0), datetime.datetime(2018, 12, 12, 0, 0), datetime.datetime(2018, 12, 11, 0, 0), datetime.datetime(2018, 12, 11, 0, 0), datetime.datetime(2018, 12, 11, 0, 0), datetime.datetime(2018, 12, 11, 0, 0), datetime.datetime(2018, 12, 11, 0, 0), datetime.datetime(2018, 12, 11, 0, 0), datetime.datetime(2018, 12, 11, 0, 0), datetime.datetime(2018, 12, 11, 0, 0), datetime.datetime(2018, 12, 11, 0, 0), datetime.datetime(2018, 12, 11, 0, 0), datetime.datetime(2018, 12, 11, 0, 0), datetime.datetime(2018, 12, 11, 0, 0), datetime.datetime(2018, 12, 11, 0, 0), datetime.datetime(2018, 12, 10, 0, 0), datetime.datetime(2018, 12, 10, 0, 0), datetime.datetime(2018, 12, 10, 0, 0), datetime.datetime(2018, 12, 10, 0, 0), datetime.datetime(2018, 12, 10, 0, 0), datetime.datetime(2018, 12, 10, 0, 0), datetime.datetime(2018, 12, 10, 0, 0), datetime.datetime(2018, 12, 10, 0, 0), datetime.datetime(2018, 12, 10, 0, 0), datetime.datetime(2018, 12, 10, 0, 0), datetime.datetime(2018, 12, 10, 0, 0), datetime.datetime(2018, 12, 10, 0, 0), datetime.datetime(2018, 12, 10, 0, 0), datetime.datetime(2018, 12, 10, 0, 0), datetime.datetime(2018, 12, 9, 0, 0), datetime.datetime(2018, 12, 9, 0, 0), datetime.datetime(2018, 12, 9, 0, 0), datetime.datetime(2018, 12, 9, 0, 0), datetime.datetime(2018, 12, 9, 0, 0), datetime.datetime(2018, 12, 9, 0, 0), datetime.datetime(2018, 12, 9, 0, 0), datetime.datetime(2018, 12, 9, 0, 0), datetime.datetime(2018, 12, 9, 0, 0), datetime.datetime(2018, 12, 8, 0, 0), datetime.datetime(2018, 12, 8, 0, 0), datetime.datetime(2018, 12, 8, 0, 0), datetime.datetime(2018, 12, 8, 0, 0), datetime.datetime(2018, 12, 8, 0, 0), datetime.datetime(2018, 12, 7, 0, 0), datetime.datetime(2018, 12, 7, 0, 0), datetime.datetime(2018, 12, 7, 0, 0), datetime.datetime(2018, 12, 7, 0, 0), datetime.datetime(2018, 12, 7, 0, 0), datetime.datetime(2018, 12, 7, 0, 0), datetime.datetime(2018, 12, 7, 0, 0), datetime.datetime(2018, 12, 7, 0, 0), datetime.datetime(2018, 12, 7, 0, 0), datetime.datetime(2018, 12, 6, 0, 0), datetime.datetime(2018, 12, 6, 0, 0), datetime.datetime(2018, 12, 6, 0, 0), datetime.datetime(2018, 12, 6, 0, 0), datetime.datetime(2018, 12, 6, 0, 0), datetime.datetime(2018, 12, 6, 0, 0), datetime.datetime(2018, 12, 6, 0, 0), datetime.datetime(2018, 12, 5, 0, 0), datetime.datetime(2018, 12, 5, 0, 0), datetime.datetime(2018, 12, 5, 0, 0), datetime.datetime(2018, 12, 5, 0, 0), datetime.datetime(2018, 12, 5, 0, 0), datetime.datetime(2018, 12, 5, 0, 0), datetime.datetime(2018, 12, 5, 0, 0), datetime.datetime(2018, 12, 5, 0, 0), datetime.datetime(2018, 12, 5, 0, 0), datetime.datetime(2018, 12, 5, 0, 0), datetime.datetime(2018, 12, 5, 0, 0), datetime.datetime(2018, 12, 5, 0, 0), datetime.datetime(2018, 12, 5, 0, 0), datetime.datetime(2018, 12, 4, 0, 0), datetime.datetime(2018, 12, 4, 0, 0), datetime.datetime(2018, 12, 4, 0, 0), datetime.datetime(2018, 12, 4, 0, 0), datetime.datetime(2018, 12, 4, 0, 0), datetime.datetime(2018, 12, 4, 0, 0), datetime.datetime(2018, 12, 4, 0, 0), datetime.datetime(2018, 12, 4, 0, 0), datetime.datetime(2018, 12, 3, 0, 0), datetime.datetime(2018, 12, 3, 0, 0), datetime.datetime(2018, 12, 3, 0, 0), datetime.datetime(2018, 12, 3, 0, 0), datetime.datetime(2018, 12, 3, 0, 0), datetime.datetime(2018, 12, 3, 0, 0), datetime.datetime(2018, 12, 3, 0, 0), datetime.datetime(2018, 12, 3, 0, 0), datetime.datetime(2018, 12, 3, 0, 0), datetime.datetime(2018, 12, 3, 0, 0), datetime.datetime(2018, 12, 3, 0, 0), datetime.datetime(2018, 12, 3, 0, 0), datetime.datetime(2018, 12, 3, 0, 0), datetime.datetime(2018, 12, 3, 0, 0), datetime.datetime(2018, 12, 3, 0, 0), datetime.datetime(2018, 12, 2, 0, 0), datetime.datetime(2018, 12, 2, 0, 0), datetime.datetime(2018, 12, 2, 0, 0), datetime.datetime(2018, 12, 2, 0, 0), datetime.datetime(2018, 12, 2, 0, 0), datetime.datetime(2018, 12, 1, 0, 0), datetime.datetime(2018, 12, 1, 0, 0), datetime.datetime(2018, 12, 1, 0, 0), datetime.datetime(2018, 11, 30, 0, 0), datetime.datetime(2018, 11, 30, 0, 0), datetime.datetime(2018, 11, 30, 0, 0), datetime.datetime(2018, 11, 30, 0, 0), datetime.datetime(2018, 11, 30, 0, 0), datetime.datetime(2018, 11, 30, 0, 0), datetime.datetime(2018, 11, 30, 0, 0), datetime.datetime(2018, 11, 29, 0, 0), datetime.datetime(2018, 11, 29, 0, 0), datetime.datetime(2018, 11, 29, 0, 0), datetime.datetime(2018, 11, 29, 0, 0), datetime.datetime(2018, 11, 29, 0, 0), datetime.datetime(2018, 11, 29, 0, 0), datetime.datetime(2018, 11, 29, 0, 0), datetime.datetime(2018, 11, 28, 0, 0), datetime.datetime(2018, 11, 28, 0, 0), datetime.datetime(2018, 11, 28, 0, 0), datetime.datetime(2018, 11, 28, 0, 0), datetime.datetime(2018, 11, 28, 0, 0), datetime.datetime(2018, 11, 28, 0, 0), datetime.datetime(2018, 11, 28, 0, 0), datetime.datetime(2018, 11, 28, 0, 0), datetime.datetime(2018, 11, 28, 0, 0), datetime.datetime(2018, 11, 28, 0, 0), datetime.datetime(2018, 11, 28, 0, 0), datetime.datetime(2018, 11, 28, 0, 0), datetime.datetime(2018, 11, 28, 0, 0), datetime.datetime(2018, 11, 28, 0, 0), datetime.datetime(2018, 11, 28, 0, 0), datetime.datetime(2018, 11, 27, 0, 0), datetime.datetime(2018, 11, 27, 0, 0), datetime.datetime(2018, 11, 27, 0, 0), datetime.datetime(2018, 11, 27, 0, 0), datetime.datetime(2018, 11, 27, 0, 0), datetime.datetime(2018, 11, 27, 0, 0), datetime.datetime(2018, 11, 27, 0, 0), datetime.datetime(2018, 11, 27, 0, 0), datetime.datetime(2018, 11, 27, 0, 0), datetime.datetime(2018, 11, 27, 0, 0), datetime.datetime(2018, 11, 27, 0, 0), datetime.datetime(2018, 11, 27, 0, 0), datetime.datetime(2018, 11, 27, 0, 0), datetime.datetime(2018, 11, 27, 0, 0), datetime.datetime(2018, 11, 27, 0, 0), datetime.datetime(2018, 11, 27, 0, 0), datetime.datetime(2018, 11, 27, 0, 0), datetime.datetime(2018, 11, 27, 0, 0), datetime.datetime(2018, 11, 27, 0, 0), datetime.datetime(2018, 11, 26, 0, 0), datetime.datetime(2018, 11, 26, 0, 0), datetime.datetime(2018, 11, 26, 0, 0), datetime.datetime(2018, 11, 26, 0, 0), datetime.datetime(2018, 11, 26, 0, 0), datetime.datetime(2018, 11, 26, 0, 0), datetime.datetime(2018, 11, 26, 0, 0), datetime.datetime(2018, 11, 26, 0, 0), datetime.datetime(2018, 11, 26, 0, 0), datetime.datetime(2018, 11, 26, 0, 0), datetime.datetime(2018, 11, 26, 0, 0), datetime.datetime(2018, 11, 26, 0, 0), datetime.datetime(2018, 11, 25, 0, 0), datetime.datetime(2018, 11, 24, 0, 0), datetime.datetime(2018, 11, 24, 0, 0), datetime.datetime(2018, 11, 24, 0, 0), datetime.datetime(2018, 11, 24, 0, 0), datetime.datetime(2018, 11, 24, 0, 0), datetime.datetime(2018, 11, 24, 0, 0), datetime.datetime(2018, 11, 24, 0, 0), datetime.datetime(2018, 11, 24, 0, 0), datetime.datetime(2018, 11, 24, 0, 0), datetime.datetime(2018, 11, 23, 0, 0), datetime.datetime(2018, 11, 23, 0, 0), datetime.datetime(2018, 11, 23, 0, 0), datetime.datetime(2018, 11, 23, 0, 0), datetime.datetime(2018, 11, 23, 0, 0), datetime.datetime(2018, 11, 23, 0, 0), datetime.datetime(2018, 11, 23, 0, 0), datetime.datetime(2018, 11, 23, 0, 0), datetime.datetime(2018, 11, 23, 0, 0), datetime.datetime(2018, 11, 23, 0, 0), datetime.datetime(2018, 11, 23, 0, 0), datetime.datetime(2018, 11, 23, 0, 0), datetime.datetime(2018, 11, 22, 0, 0), datetime.datetime(2018, 11, 22, 0, 0), datetime.datetime(2018, 11, 22, 0, 0), datetime.datetime(2018, 11, 22, 0, 0), datetime.datetime(2018, 11, 22, 0, 0), datetime.datetime(2018, 11, 22, 0, 0), datetime.datetime(2018, 11, 22, 0, 0), datetime.datetime(2018, 11, 22, 0, 0), datetime.datetime(2018, 11, 22, 0, 0), datetime.datetime(2018, 11, 22, 0, 0), datetime.datetime(2018, 11, 22, 0, 0), datetime.datetime(2018, 11, 21, 0, 0), datetime.datetime(2018, 11, 21, 0, 0), datetime.datetime(2018, 11, 21, 0, 0), datetime.datetime(2018, 11, 21, 0, 0), datetime.datetime(2018, 11, 21, 0, 0), datetime.datetime(2018, 11, 21, 0, 0), datetime.datetime(2018, 11, 21, 0, 0), datetime.datetime(2018, 11, 21, 0, 0), datetime.datetime(2018, 11, 21, 0, 0), datetime.datetime(2018, 11, 21, 0, 0), datetime.datetime(2018, 11, 21, 0, 0), datetime.datetime(2018, 11, 21, 0, 0), datetime.datetime(2018, 11, 21, 0, 0), datetime.datetime(2018, 11, 21, 0, 0), datetime.datetime(2018, 11, 20, 0, 0), datetime.datetime(2018, 11, 20, 0, 0), datetime.datetime(2018, 11, 20, 0, 0), datetime.datetime(2018, 11, 20, 0, 0), datetime.datetime(2018, 11, 20, 0, 0), datetime.datetime(2018, 11, 20, 0, 0), datetime.datetime(2018, 11, 20, 0, 0), datetime.datetime(2018, 11, 20, 0, 0), datetime.datetime(2018, 11, 20, 0, 0), datetime.datetime(2018, 11, 20, 0, 0), datetime.datetime(2018, 11, 20, 0, 0), datetime.datetime(2018, 11, 20, 0, 0), datetime.datetime(2018, 11, 20, 0, 0), datetime.datetime(2018, 11, 20, 0, 0), datetime.datetime(2018, 11, 20, 0, 0), datetime.datetime(2018, 11, 19, 0, 0), datetime.datetime(2018, 11, 19, 0, 0), datetime.datetime(2018, 11, 19, 0, 0), datetime.datetime(2018, 11, 19, 0, 0), datetime.datetime(2018, 11, 19, 0, 0), datetime.datetime(2018, 11, 19, 0, 0), datetime.datetime(2018, 11, 19, 0, 0), datetime.datetime(2018, 11, 19, 0, 0), datetime.datetime(2018, 11, 19, 0, 0), datetime.datetime(2018, 11, 19, 0, 0), datetime.datetime(2018, 11, 19, 0, 0), datetime.datetime(2018, 11, 18, 0, 0), datetime.datetime(2018, 11, 18, 0, 0), datetime.datetime(2018, 11, 18, 0, 0), datetime.datetime(2018, 11, 18, 0, 0), datetime.datetime(2018, 11, 18, 0, 0), datetime.datetime(2018, 11, 18, 0, 0), datetime.datetime(2018, 11, 18, 0, 0), datetime.datetime(2018, 11, 18, 0, 0), datetime.datetime(2018, 11, 17, 0, 0), datetime.datetime(2018, 11, 17, 0, 0), datetime.datetime(2018, 11, 17, 0, 0), datetime.datetime(2018, 11, 17, 0, 0), datetime.datetime(2018, 11, 17, 0, 0), datetime.datetime(2018, 11, 17, 0, 0), datetime.datetime(2018, 11, 16, 0, 0), datetime.datetime(2018, 11, 16, 0, 0), datetime.datetime(2018, 11, 16, 0, 0), datetime.datetime(2018, 11, 16, 0, 0), datetime.datetime(2018, 11, 16, 0, 0), datetime.datetime(2018, 11, 16, 0, 0), datetime.datetime(2018, 11, 16, 0, 0), datetime.datetime(2018, 11, 16, 0, 0), datetime.datetime(2018, 11, 16, 0, 0), datetime.datetime(2018, 11, 16, 0, 0), datetime.datetime(2018, 11, 16, 0, 0), datetime.datetime(2018, 11, 15, 0, 0), datetime.datetime(2018, 11, 15, 0, 0), datetime.datetime(2018, 11, 15, 0, 0), datetime.datetime(2018, 11, 15, 0, 0), datetime.datetime(2018, 11, 15, 0, 0), datetime.datetime(2018, 11, 15, 0, 0), datetime.datetime(2018, 11, 15, 0, 0), datetime.datetime(2018, 11, 15, 0, 0), datetime.datetime(2018, 11, 15, 0, 0), datetime.datetime(2018, 11, 15, 0, 0), datetime.datetime(2018, 11, 15, 0, 0), datetime.datetime(2018, 11, 15, 0, 0), datetime.datetime(2018, 11, 15, 0, 0), datetime.datetime(2018, 11, 15, 0, 0), datetime.datetime(2018, 11, 15, 0, 0), datetime.datetime(2018, 11, 15, 0, 0), datetime.datetime(2018, 11, 14, 0, 0), datetime.datetime(2018, 11, 14, 0, 0), datetime.datetime(2018, 11, 14, 0, 0), datetime.datetime(2018, 11, 14, 0, 0), datetime.datetime(2018, 11, 14, 0, 0), datetime.datetime(2018, 11, 14, 0, 0), datetime.datetime(2018, 11, 14, 0, 0), datetime.datetime(2018, 11, 14, 0, 0), datetime.datetime(2018, 11, 14, 0, 0), datetime.datetime(2018, 11, 14, 0, 0), datetime.datetime(2018, 11, 13, 0, 0), datetime.datetime(2018, 11, 13, 0, 0), datetime.datetime(2018, 11, 13, 0, 0), datetime.datetime(2018, 11, 13, 0, 0), datetime.datetime(2018, 11, 13, 0, 0), datetime.datetime(2018, 11, 13, 0, 0), datetime.datetime(2018, 11, 13, 0, 0), datetime.datetime(2018, 11, 13, 0, 0), datetime.datetime(2018, 11, 13, 0, 0), datetime.datetime(2018, 11, 13, 0, 0), datetime.datetime(2018, 11, 13, 0, 0), datetime.datetime(2018, 11, 13, 0, 0), datetime.datetime(2018, 11, 13, 0, 0), datetime.datetime(2018, 11, 13, 0, 0), datetime.datetime(2018, 11, 13, 0, 0), datetime.datetime(2018, 11, 13, 0, 0), datetime.datetime(2018, 11, 13, 0, 0), datetime.datetime(2018, 11, 12, 0, 0), datetime.datetime(2018, 11, 12, 0, 0), datetime.datetime(2018, 11, 12, 0, 0), datetime.datetime(2018, 11, 12, 0, 0), datetime.datetime(2018, 11, 12, 0, 0), datetime.datetime(2018, 11, 12, 0, 0), datetime.datetime(2018, 11, 12, 0, 0), datetime.datetime(2018, 11, 12, 0, 0), datetime.datetime(2018, 11, 12, 0, 0), datetime.datetime(2018, 11, 12, 0, 0), datetime.datetime(2018, 11, 12, 0, 0), datetime.datetime(2018, 11, 12, 0, 0), datetime.datetime(2018, 11, 12, 0, 0), datetime.datetime(2018, 11, 12, 0, 0), datetime.datetime(2018, 11, 12, 0, 0), datetime.datetime(2018, 11, 12, 0, 0), datetime.datetime(2018, 11, 12, 0, 0), datetime.datetime(2018, 11, 11, 0, 0), datetime.datetime(2018, 11, 11, 0, 0), datetime.datetime(2018, 11, 11, 0, 0), datetime.datetime(2018, 11, 11, 0, 0), datetime.datetime(2018, 11, 11, 0, 0), datetime.datetime(2018, 11, 10, 0, 0), datetime.datetime(2018, 11, 10, 0, 0), datetime.datetime(2018, 11, 10, 0, 0), datetime.datetime(2018, 11, 10, 0, 0), datetime.datetime(2018, 11, 10, 0, 0), datetime.datetime(2018, 11, 9, 0, 0), datetime.datetime(2018, 11, 9, 0, 0), datetime.datetime(2018, 11, 9, 0, 0), datetime.datetime(2018, 11, 9, 0, 0), datetime.datetime(2018, 11, 9, 0, 0), datetime.datetime(2018, 11, 9, 0, 0), datetime.datetime(2018, 11, 9, 0, 0), datetime.datetime(2018, 11, 9, 0, 0), datetime.datetime(2018, 11, 9, 0, 0), datetime.datetime(2018, 11, 9, 0, 0), datetime.datetime(2018, 11, 9, 0, 0), datetime.datetime(2018, 11, 9, 0, 0), datetime.datetime(2018, 11, 8, 0, 0), datetime.datetime(2018, 11, 8, 0, 0), datetime.datetime(2018, 11, 8, 0, 0), datetime.datetime(2018, 11, 8, 0, 0), datetime.datetime(2018, 11, 8, 0, 0), datetime.datetime(2018, 11, 8, 0, 0), datetime.datetime(2018, 11, 8, 0, 0), datetime.datetime(2018, 11, 8, 0, 0), datetime.datetime(2018, 11, 8, 0, 0), datetime.datetime(2018, 11, 8, 0, 0), datetime.datetime(2018, 11, 8, 0, 0), datetime.datetime(2018, 11, 8, 0, 0), datetime.datetime(2018, 11, 8, 0, 0), datetime.datetime(2018, 11, 7, 0, 0), datetime.datetime(2018, 11, 7, 0, 0), datetime.datetime(2018, 11, 7, 0, 0), datetime.datetime(2018, 11, 7, 0, 0), datetime.datetime(2018, 11, 7, 0, 0), datetime.datetime(2018, 11, 7, 0, 0), datetime.datetime(2018, 11, 7, 0, 0), datetime.datetime(2018, 11, 7, 0, 0), datetime.datetime(2018, 11, 7, 0, 0), datetime.datetime(2018, 11, 7, 0, 0), datetime.datetime(2018, 11, 7, 0, 0), datetime.datetime(2018, 11, 7, 0, 0), datetime.datetime(2018, 11, 7, 0, 0), datetime.datetime(2018, 11, 6, 0, 0), datetime.datetime(2018, 11, 6, 0, 0), datetime.datetime(2018, 11, 6, 0, 0), datetime.datetime(2018, 11, 6, 0, 0), datetime.datetime(2018, 11, 6, 0, 0), datetime.datetime(2018, 11, 6, 0, 0), datetime.datetime(2018, 11, 6, 0, 0), datetime.datetime(2018, 11, 6, 0, 0), datetime.datetime(2018, 11, 6, 0, 0), datetime.datetime(2018, 11, 6, 0, 0), datetime.datetime(2018, 11, 6, 0, 0), datetime.datetime(2018, 11, 6, 0, 0), datetime.datetime(2018, 11, 6, 0, 0), datetime.datetime(2018, 11, 6, 0, 0), datetime.datetime(2018, 11, 6, 0, 0), datetime.datetime(2018, 11, 6, 0, 0), datetime.datetime(2018, 11, 6, 0, 0), datetime.datetime(2018, 11, 6, 0, 0), datetime.datetime(2018, 11, 6, 0, 0), datetime.datetime(2018, 11, 6, 0, 0), datetime.datetime(2018, 11, 6, 0, 0), datetime.datetime(2018, 11, 6, 0, 0), datetime.datetime(2018, 11, 5, 0, 0), datetime.datetime(2018, 11, 5, 0, 0), datetime.datetime(2018, 11, 5, 0, 0), datetime.datetime(2018, 11, 5, 0, 0), datetime.datetime(2018, 11, 5, 0, 0), datetime.datetime(2018, 11, 4, 0, 0), datetime.datetime(2018, 11, 4, 0, 0), datetime.datetime(2018, 11, 4, 0, 0), datetime.datetime(2018, 11, 4, 0, 0), datetime.datetime(2018, 11, 4, 0, 0), datetime.datetime(2018, 11, 4, 0, 0), datetime.datetime(2018, 11, 4, 0, 0), datetime.datetime(2018, 11, 4, 0, 0), datetime.datetime(2018, 11, 3, 0, 0), datetime.datetime(2018, 11, 3, 0, 0), datetime.datetime(2018, 11, 3, 0, 0), datetime.datetime(2018, 11, 3, 0, 0), datetime.datetime(2018, 11, 3, 0, 0), datetime.datetime(2018, 11, 3, 0, 0), datetime.datetime(2018, 11, 3, 0, 0), datetime.datetime(2018, 11, 3, 0, 0), datetime.datetime(2018, 11, 3, 0, 0), datetime.datetime(2018, 11, 2, 0, 0), datetime.datetime(2018, 11, 2, 0, 0), datetime.datetime(2018, 11, 2, 0, 0), datetime.datetime(2018, 11, 2, 0, 0), datetime.datetime(2018, 11, 2, 0, 0), datetime.datetime(2018, 11, 2, 0, 0), datetime.datetime(2018, 11, 2, 0, 0), datetime.datetime(2018, 11, 2, 0, 0), datetime.datetime(2018, 11, 2, 0, 0), datetime.datetime(2018, 11, 2, 0, 0), datetime.datetime(2018, 11, 2, 0, 0), datetime.datetime(2018, 11, 2, 0, 0), datetime.datetime(2018, 11, 2, 0, 0), datetime.datetime(2018, 11, 2, 0, 0), datetime.datetime(2018, 11, 2, 0, 0), datetime.datetime(2018, 11, 2, 0, 0), datetime.datetime(2018, 11, 2, 0, 0), datetime.datetime(2018, 11, 2, 0, 0), datetime.datetime(2018, 11, 2, 0, 0), datetime.datetime(2018, 11, 2, 0, 0), datetime.datetime(2018, 11, 2, 0, 0), datetime.datetime(2018, 11, 1, 0, 0), datetime.datetime(2018, 11, 1, 0, 0), datetime.datetime(2018, 11, 1, 0, 0), datetime.datetime(2018, 11, 1, 0, 0), datetime.datetime(2018, 11, 1, 0, 0), datetime.datetime(2018, 11, 1, 0, 0), datetime.datetime(2018, 11, 1, 0, 0), datetime.datetime(2018, 11, 1, 0, 0), datetime.datetime(2018, 11, 1, 0, 0), datetime.datetime(2018, 11, 1, 0, 0), datetime.datetime(2018, 10, 31, 0, 0), datetime.datetime(2018, 10, 31, 0, 0), datetime.datetime(2018, 10, 31, 0, 0), datetime.datetime(2018, 10, 31, 0, 0), datetime.datetime(2018, 10, 31, 0, 0), datetime.datetime(2018, 10, 31, 0, 0), datetime.datetime(2018, 10, 31, 0, 0), datetime.datetime(2018, 10, 31, 0, 0), datetime.datetime(2018, 10, 31, 0, 0), datetime.datetime(2018, 10, 31, 0, 0), datetime.datetime(2018, 10, 31, 0, 0), datetime.datetime(2018, 10, 31, 0, 0), datetime.datetime(2018, 10, 31, 0, 0), datetime.datetime(2018, 10, 31, 0, 0), datetime.datetime(2018, 10, 31, 0, 0), datetime.datetime(2018, 10, 30, 0, 0), datetime.datetime(2018, 10, 30, 0, 0), datetime.datetime(2018, 10, 30, 0, 0), datetime.datetime(2018, 10, 30, 0, 0), datetime.datetime(2018, 10, 30, 0, 0), datetime.datetime(2018, 10, 30, 0, 0), datetime.datetime(2018, 10, 30, 0, 0), datetime.datetime(2018, 10, 30, 0, 0), datetime.datetime(2018, 10, 30, 0, 0), datetime.datetime(2018, 10, 30, 0, 0), datetime.datetime(2018, 10, 30, 0, 0), datetime.datetime(2018, 10, 30, 0, 0), datetime.datetime(2018, 10, 30, 0, 0), datetime.datetime(2018, 10, 29, 0, 0), datetime.datetime(2018, 10, 29, 0, 0), datetime.datetime(2018, 10, 29, 0, 0), datetime.datetime(2018, 10, 29, 0, 0), datetime.datetime(2018, 10, 29, 0, 0), datetime.datetime(2018, 10, 29, 0, 0), datetime.datetime(2018, 10, 29, 0, 0), datetime.datetime(2018, 10, 29, 0, 0), datetime.datetime(2018, 10, 29, 0, 0), datetime.datetime(2018, 10, 28, 0, 0), datetime.datetime(2018, 10, 28, 0, 0), datetime.datetime(2018, 10, 28, 0, 0), datetime.datetime(2018, 10, 28, 0, 0), datetime.datetime(2018, 10, 28, 0, 0), datetime.datetime(2018, 10, 28, 0, 0), datetime.datetime(2018, 10, 28, 0, 0), datetime.datetime(2018, 10, 27, 0, 0), datetime.datetime(2018, 10, 27, 0, 0), datetime.datetime(2018, 10, 27, 0, 0), datetime.datetime(2018, 10, 27, 0, 0), datetime.datetime(2018, 10, 27, 0, 0), datetime.datetime(2018, 10, 27, 0, 0), datetime.datetime(2018, 10, 26, 0, 0), datetime.datetime(2018, 10, 26, 0, 0), datetime.datetime(2018, 10, 26, 0, 0), datetime.datetime(2018, 10, 26, 0, 0), datetime.datetime(2018, 10, 26, 0, 0), datetime.datetime(2018, 10, 26, 0, 0), datetime.datetime(2018, 10, 26, 0, 0), datetime.datetime(2018, 10, 26, 0, 0), datetime.datetime(2018, 10, 26, 0, 0), datetime.datetime(2018, 10, 25, 0, 0), datetime.datetime(2018, 10, 25, 0, 0), datetime.datetime(2018, 10, 25, 0, 0), datetime.datetime(2018, 10, 25, 0, 0), datetime.datetime(2018, 10, 25, 0, 0), datetime.datetime(2018, 10, 25, 0, 0), datetime.datetime(2018, 10, 25, 0, 0), datetime.datetime(2018, 10, 25, 0, 0), datetime.datetime(2018, 10, 25, 0, 0), datetime.datetime(2018, 10, 25, 0, 0), datetime.datetime(2018, 10, 25, 0, 0), datetime.datetime(2018, 10, 25, 0, 0), datetime.datetime(2018, 10, 25, 0, 0), datetime.datetime(2018, 10, 25, 0, 0), datetime.datetime(2018, 10, 24, 0, 0), datetime.datetime(2018, 10, 24, 0, 0), datetime.datetime(2018, 10, 24, 0, 0), datetime.datetime(2018, 10, 24, 0, 0), datetime.datetime(2018, 10, 24, 0, 0), datetime.datetime(2018, 10, 24, 0, 0), datetime.datetime(2018, 10, 24, 0, 0), datetime.datetime(2018, 10, 24, 0, 0), datetime.datetime(2018, 10, 24, 0, 0), datetime.datetime(2018, 10, 24, 0, 0), datetime.datetime(2018, 10, 24, 0, 0), datetime.datetime(2018, 10, 24, 0, 0), datetime.datetime(2018, 10, 24, 0, 0), datetime.datetime(2018, 10, 24, 0, 0), datetime.datetime(2018, 10, 24, 0, 0), datetime.datetime(2018, 10, 24, 0, 0), datetime.datetime(2018, 10, 24, 0, 0), datetime.datetime(2018, 10, 24, 0, 0), datetime.datetime(2018, 10, 23, 0, 0), datetime.datetime(2018, 10, 23, 0, 0), datetime.datetime(2018, 10, 23, 0, 0), datetime.datetime(2018, 10, 23, 0, 0), datetime.datetime(2018, 10, 23, 0, 0), datetime.datetime(2018, 10, 23, 0, 0), datetime.datetime(2018, 10, 23, 0, 0), datetime.datetime(2018, 10, 23, 0, 0), datetime.datetime(2018, 10, 23, 0, 0), datetime.datetime(2018, 10, 22, 0, 0), datetime.datetime(2018, 10, 22, 0, 0), datetime.datetime(2018, 10, 22, 0, 0), datetime.datetime(2018, 10, 22, 0, 0), datetime.datetime(2018, 10, 22, 0, 0), datetime.datetime(2018, 10, 21, 0, 0), datetime.datetime(2018, 10, 21, 0, 0), datetime.datetime(2018, 10, 21, 0, 0), datetime.datetime(2018, 10, 20, 0, 0), datetime.datetime(2018, 10, 20, 0, 0), datetime.datetime(2018, 10, 20, 0, 0), datetime.datetime(2018, 10, 20, 0, 0), datetime.datetime(2018, 10, 20, 0, 0), datetime.datetime(2018, 10, 20, 0, 0), datetime.datetime(2018, 10, 20, 0, 0), datetime.datetime(2018, 10, 20, 0, 0), datetime.datetime(2018, 10, 20, 0, 0), datetime.datetime(2018, 10, 19, 0, 0), datetime.datetime(2018, 10, 19, 0, 0), datetime.datetime(2018, 10, 19, 0, 0), datetime.datetime(2018, 10, 19, 0, 0), datetime.datetime(2018, 10, 19, 0, 0), datetime.datetime(2018, 10, 19, 0, 0), datetime.datetime(2018, 10, 19, 0, 0), datetime.datetime(2018, 10, 19, 0, 0), datetime.datetime(2018, 10, 19, 0, 0), datetime.datetime(2018, 10, 19, 0, 0), datetime.datetime(2018, 10, 19, 0, 0), datetime.datetime(2018, 10, 18, 0, 0), datetime.datetime(2018, 10, 18, 0, 0), datetime.datetime(2018, 10, 18, 0, 0), datetime.datetime(2018, 10, 18, 0, 0), datetime.datetime(2018, 10, 18, 0, 0), datetime.datetime(2018, 10, 18, 0, 0), datetime.datetime(2018, 10, 18, 0, 0), datetime.datetime(2018, 10, 18, 0, 0), datetime.datetime(2018, 10, 18, 0, 0), datetime.datetime(2018, 10, 17, 0, 0), datetime.datetime(2018, 10, 17, 0, 0), datetime.datetime(2018, 10, 17, 0, 0), datetime.datetime(2018, 10, 17, 0, 0), datetime.datetime(2018, 10, 17, 0, 0), datetime.datetime(2018, 10, 17, 0, 0), datetime.datetime(2018, 10, 17, 0, 0), datetime.datetime(2018, 10, 17, 0, 0), datetime.datetime(2018, 10, 17, 0, 0), datetime.datetime(2018, 10, 17, 0, 0), datetime.datetime(2018, 10, 17, 0, 0), datetime.datetime(2018, 10, 17, 0, 0), datetime.datetime(2018, 10, 17, 0, 0), datetime.datetime(2018, 10, 17, 0, 0), datetime.datetime(2018, 10, 17, 0, 0), datetime.datetime(2018, 10, 17, 0, 0), datetime.datetime(2018, 10, 16, 0, 0), datetime.datetime(2018, 10, 16, 0, 0), datetime.datetime(2018, 10, 16, 0, 0), datetime.datetime(2018, 10, 16, 0, 0), datetime.datetime(2018, 10, 16, 0, 0), datetime.datetime(2018, 10, 16, 0, 0), datetime.datetime(2018, 10, 16, 0, 0), datetime.datetime(2018, 10, 16, 0, 0), datetime.datetime(2018, 10, 16, 0, 0), datetime.datetime(2018, 10, 15, 0, 0), datetime.datetime(2018, 10, 15, 0, 0), datetime.datetime(2018, 10, 15, 0, 0), datetime.datetime(2018, 10, 15, 0, 0), datetime.datetime(2018, 10, 15, 0, 0), datetime.datetime(2018, 10, 15, 0, 0), datetime.datetime(2018, 10, 15, 0, 0), datetime.datetime(2018, 10, 15, 0, 0), datetime.datetime(2018, 10, 15, 0, 0), datetime.datetime(2018, 10, 15, 0, 0), datetime.datetime(2018, 10, 15, 0, 0), datetime.datetime(2018, 10, 15, 0, 0), datetime.datetime(2018, 10, 15, 0, 0), datetime.datetime(2018, 10, 15, 0, 0), datetime.datetime(2018, 10, 14, 0, 0), datetime.datetime(2018, 10, 14, 0, 0), datetime.datetime(2018, 10, 14, 0, 0), datetime.datetime(2018, 10, 14, 0, 0), datetime.datetime(2018, 10, 14, 0, 0), datetime.datetime(2018, 10, 14, 0, 0), datetime.datetime(2018, 10, 14, 0, 0), datetime.datetime(2018, 10, 14, 0, 0), datetime.datetime(2018, 10, 14, 0, 0), datetime.datetime(2018, 10, 14, 0, 0), datetime.datetime(2018, 10, 14, 0, 0), datetime.datetime(2018, 10, 14, 0, 0), datetime.datetime(2018, 10, 14, 0, 0), datetime.datetime(2018, 10, 14, 0, 0), datetime.datetime(2018, 10, 14, 0, 0), datetime.datetime(2018, 10, 13, 0, 0), datetime.datetime(2018, 10, 13, 0, 0), datetime.datetime(2018, 10, 13, 0, 0), datetime.datetime(2018, 10, 13, 0, 0), datetime.datetime(2018, 10, 13, 0, 0), datetime.datetime(2018, 10, 13, 0, 0), datetime.datetime(2018, 10, 13, 0, 0), datetime.datetime(2018, 10, 13, 0, 0), datetime.datetime(2018, 10, 13, 0, 0), datetime.datetime(2018, 10, 12, 0, 0), datetime.datetime(2018, 10, 12, 0, 0), datetime.datetime(2018, 10, 12, 0, 0), datetime.datetime(2018, 10, 12, 0, 0), datetime.datetime(2018, 10, 12, 0, 0), datetime.datetime(2018, 10, 12, 0, 0), datetime.datetime(2018, 10, 12, 0, 0), datetime.datetime(2018, 10, 12, 0, 0), datetime.datetime(2018, 10, 12, 0, 0), datetime.datetime(2018, 10, 12, 0, 0), datetime.datetime(2018, 10, 12, 0, 0), datetime.datetime(2018, 10, 12, 0, 0), datetime.datetime(2018, 10, 11, 0, 0), datetime.datetime(2018, 10, 11, 0, 0), datetime.datetime(2018, 10, 11, 0, 0), datetime.datetime(2018, 10, 11, 0, 0), datetime.datetime(2018, 10, 11, 0, 0), datetime.datetime(2018, 10, 11, 0, 0), datetime.datetime(2018, 10, 11, 0, 0), datetime.datetime(2018, 10, 11, 0, 0), datetime.datetime(2018, 10, 11, 0, 0), datetime.datetime(2018, 10, 11, 0, 0), datetime.datetime(2018, 10, 11, 0, 0), datetime.datetime(2018, 10, 11, 0, 0), datetime.datetime(2018, 10, 11, 0, 0), datetime.datetime(2018, 10, 11, 0, 0), datetime.datetime(2018, 10, 11, 0, 0), datetime.datetime(2018, 10, 11, 0, 0), datetime.datetime(2018, 10, 10, 0, 0), datetime.datetime(2018, 10, 10, 0, 0), datetime.datetime(2018, 10, 10, 0, 0), datetime.datetime(2018, 10, 10, 0, 0), datetime.datetime(2018, 10, 10, 0, 0), datetime.datetime(2018, 10, 10, 0, 0), datetime.datetime(2018, 10, 10, 0, 0), datetime.datetime(2018, 10, 10, 0, 0), datetime.datetime(2018, 10, 10, 0, 0), datetime.datetime(2018, 10, 10, 0, 0), datetime.datetime(2018, 10, 10, 0, 0), datetime.datetime(2018, 10, 9, 0, 0), datetime.datetime(2018, 10, 9, 0, 0), datetime.datetime(2018, 10, 9, 0, 0), datetime.datetime(2018, 10, 9, 0, 0), datetime.datetime(2018, 10, 9, 0, 0), datetime.datetime(2018, 10, 9, 0, 0), datetime.datetime(2018, 10, 9, 0, 0), datetime.datetime(2018, 10, 9, 0, 0), datetime.datetime(2018, 10, 9, 0, 0), datetime.datetime(2018, 10, 9, 0, 0), datetime.datetime(2018, 10, 9, 0, 0), datetime.datetime(2018, 10, 9, 0, 0), datetime.datetime(2018, 10, 9, 0, 0), datetime.datetime(2018, 10, 9, 0, 0), datetime.datetime(2018, 10, 8, 0, 0), datetime.datetime(2018, 10, 8, 0, 0), datetime.datetime(2018, 10, 8, 0, 0), datetime.datetime(2018, 10, 8, 0, 0), datetime.datetime(2018, 10, 8, 0, 0), datetime.datetime(2018, 10, 8, 0, 0), datetime.datetime(2018, 10, 8, 0, 0), datetime.datetime(2018, 10, 8, 0, 0), datetime.datetime(2018, 10, 8, 0, 0), datetime.datetime(2018, 10, 8, 0, 0), datetime.datetime(2018, 10, 8, 0, 0), datetime.datetime(2018, 10, 8, 0, 0), datetime.datetime(2018, 10, 8, 0, 0), datetime.datetime(2018, 10, 8, 0, 0), datetime.datetime(2018, 10, 8, 0, 0), datetime.datetime(2018, 10, 8, 0, 0), datetime.datetime(2018, 10, 8, 0, 0), datetime.datetime(2018, 10, 8, 0, 0), datetime.datetime(2018, 10, 7, 0, 0), datetime.datetime(2018, 10, 7, 0, 0), datetime.datetime(2018, 10, 7, 0, 0), datetime.datetime(2018, 10, 7, 0, 0), datetime.datetime(2018, 10, 7, 0, 0), datetime.datetime(2018, 10, 6, 0, 0), datetime.datetime(2018, 10, 6, 0, 0), datetime.datetime(2018, 10, 6, 0, 0), datetime.datetime(2018, 10, 5, 0, 0), datetime.datetime(2018, 10, 5, 0, 0), datetime.datetime(2018, 10, 5, 0, 0), datetime.datetime(2018, 10, 5, 0, 0), datetime.datetime(2018, 10, 5, 0, 0), datetime.datetime(2018, 10, 4, 0, 0), datetime.datetime(2018, 10, 4, 0, 0), datetime.datetime(2018, 10, 4, 0, 0), datetime.datetime(2018, 10, 4, 0, 0), datetime.datetime(2018, 10, 4, 0, 0), datetime.datetime(2018, 10, 4, 0, 0), datetime.datetime(2018, 10, 4, 0, 0), datetime.datetime(2018, 10, 4, 0, 0), datetime.datetime(2018, 10, 4, 0, 0), datetime.datetime(2018, 10, 4, 0, 0), datetime.datetime(2018, 10, 4, 0, 0), datetime.datetime(2018, 10, 4, 0, 0), datetime.datetime(2018, 10, 4, 0, 0), datetime.datetime(2018, 10, 4, 0, 0), datetime.datetime(2018, 10, 4, 0, 0), datetime.datetime(2018, 10, 4, 0, 0), datetime.datetime(2018, 10, 3, 0, 0), datetime.datetime(2018, 10, 3, 0, 0), datetime.datetime(2018, 10, 3, 0, 0), datetime.datetime(2018, 10, 3, 0, 0), datetime.datetime(2018, 10, 3, 0, 0), datetime.datetime(2018, 10, 3, 0, 0), datetime.datetime(2018, 10, 3, 0, 0), datetime.datetime(2018, 10, 3, 0, 0), datetime.datetime(2018, 10, 3, 0, 0), datetime.datetime(2018, 10, 3, 0, 0), datetime.datetime(2018, 10, 3, 0, 0), datetime.datetime(2018, 10, 3, 0, 0), datetime.datetime(2018, 10, 3, 0, 0), datetime.datetime(2018, 10, 3, 0, 0), datetime.datetime(2018, 10, 2, 0, 0), datetime.datetime(2018, 10, 2, 0, 0), datetime.datetime(2018, 10, 2, 0, 0), datetime.datetime(2018, 10, 2, 0, 0), datetime.datetime(2018, 10, 2, 0, 0), datetime.datetime(2018, 10, 2, 0, 0), datetime.datetime(2018, 10, 2, 0, 0), datetime.datetime(2018, 10, 2, 0, 0), datetime.datetime(2018, 10, 2, 0, 0), datetime.datetime(2018, 10, 2, 0, 0), datetime.datetime(2018, 10, 2, 0, 0), datetime.datetime(2018, 10, 2, 0, 0), datetime.datetime(2018, 10, 2, 0, 0), datetime.datetime(2018, 10, 2, 0, 0), datetime.datetime(2018, 10, 2, 0, 0), datetime.datetime(2018, 10, 2, 0, 0), datetime.datetime(2018, 10, 1, 0, 0), datetime.datetime(2018, 10, 1, 0, 0), datetime.datetime(2018, 10, 1, 0, 0), datetime.datetime(2018, 10, 1, 0, 0), datetime.datetime(2018, 10, 1, 0, 0), datetime.datetime(2018, 10, 1, 0, 0), datetime.datetime(2018, 10, 1, 0, 0), datetime.datetime(2018, 10, 1, 0, 0), datetime.datetime(2018, 10, 1, 0, 0), datetime.datetime(2018, 10, 1, 0, 0), datetime.datetime(2018, 10, 1, 0, 0), datetime.datetime(2018, 9, 30, 0, 0), datetime.datetime(2018, 9, 30, 0, 0), datetime.datetime(2018, 9, 30, 0, 0), datetime.datetime(2018, 9, 30, 0, 0), datetime.datetime(2018, 9, 30, 0, 0), datetime.datetime(2018, 9, 30, 0, 0), datetime.datetime(2018, 9, 29, 0, 0), datetime.datetime(2018, 9, 29, 0, 0), datetime.datetime(2018, 9, 29, 0, 0), datetime.datetime(2018, 9, 29, 0, 0), datetime.datetime(2018, 9, 29, 0, 0), datetime.datetime(2018, 9, 29, 0, 0), datetime.datetime(2018, 9, 28, 0, 0), datetime.datetime(2018, 9, 28, 0, 0), datetime.datetime(2018, 9, 28, 0, 0), datetime.datetime(2018, 9, 28, 0, 0), datetime.datetime(2018, 9, 28, 0, 0), datetime.datetime(2018, 9, 28, 0, 0), datetime.datetime(2018, 9, 28, 0, 0), datetime.datetime(2018, 9, 28, 0, 0), datetime.datetime(2018, 9, 28, 0, 0), datetime.datetime(2018, 9, 28, 0, 0), datetime.datetime(2018, 9, 28, 0, 0), datetime.datetime(2018, 9, 28, 0, 0), datetime.datetime(2018, 9, 27, 0, 0), datetime.datetime(2018, 9, 27, 0, 0), datetime.datetime(2018, 9, 27, 0, 0), datetime.datetime(2018, 9, 27, 0, 0), datetime.datetime(2018, 9, 27, 0, 0), datetime.datetime(2018, 9, 27, 0, 0), datetime.datetime(2018, 9, 27, 0, 0), datetime.datetime(2018, 9, 27, 0, 0), datetime.datetime(2018, 9, 27, 0, 0), datetime.datetime(2018, 9, 27, 0, 0), datetime.datetime(2018, 9, 27, 0, 0), datetime.datetime(2018, 9, 27, 0, 0), datetime.datetime(2018, 9, 27, 0, 0), datetime.datetime(2018, 9, 27, 0, 0), datetime.datetime(2018, 9, 27, 0, 0), datetime.datetime(2018, 9, 27, 0, 0), datetime.datetime(2018, 9, 27, 0, 0), datetime.datetime(2018, 9, 27, 0, 0), datetime.datetime(2018, 9, 26, 0, 0), datetime.datetime(2018, 9, 26, 0, 0), datetime.datetime(2018, 9, 26, 0, 0), datetime.datetime(2018, 9, 26, 0, 0), datetime.datetime(2018, 9, 26, 0, 0), datetime.datetime(2018, 9, 26, 0, 0), datetime.datetime(2018, 9, 26, 0, 0), datetime.datetime(2018, 9, 26, 0, 0), datetime.datetime(2018, 9, 26, 0, 0), datetime.datetime(2018, 9, 25, 0, 0), datetime.datetime(2018, 9, 25, 0, 0), datetime.datetime(2018, 9, 25, 0, 0), datetime.datetime(2018, 9, 25, 0, 0), datetime.datetime(2018, 9, 25, 0, 0), datetime.datetime(2018, 9, 25, 0, 0), datetime.datetime(2018, 9, 25, 0, 0), datetime.datetime(2018, 9, 25, 0, 0), datetime.datetime(2018, 9, 25, 0, 0), datetime.datetime(2018, 9, 25, 0, 0), datetime.datetime(2018, 9, 25, 0, 0), datetime.datetime(2018, 9, 25, 0, 0), datetime.datetime(2018, 9, 25, 0, 0), datetime.datetime(2018, 9, 25, 0, 0), datetime.datetime(2018, 9, 25, 0, 0), datetime.datetime(2018, 9, 25, 0, 0), datetime.datetime(2018, 9, 25, 0, 0), datetime.datetime(2018, 9, 24, 0, 0), datetime.datetime(2018, 9, 24, 0, 0), datetime.datetime(2018, 9, 24, 0, 0), datetime.datetime(2018, 9, 24, 0, 0), datetime.datetime(2018, 9, 24, 0, 0), datetime.datetime(2018, 9, 24, 0, 0), datetime.datetime(2018, 9, 24, 0, 0), datetime.datetime(2018, 9, 24, 0, 0), datetime.datetime(2018, 9, 24, 0, 0), datetime.datetime(2018, 9, 24, 0, 0), datetime.datetime(2018, 9, 24, 0, 0), datetime.datetime(2018, 9, 24, 0, 0), datetime.datetime(2018, 9, 24, 0, 0), datetime.datetime(2018, 9, 24, 0, 0), datetime.datetime(2018, 9, 24, 0, 0), datetime.datetime(2018, 9, 23, 0, 0), datetime.datetime(2018, 9, 23, 0, 0), datetime.datetime(2018, 9, 23, 0, 0), datetime.datetime(2018, 9, 23, 0, 0), datetime.datetime(2018, 9, 22, 0, 0), datetime.datetime(2018, 9, 22, 0, 0), datetime.datetime(2018, 9, 21, 0, 0), datetime.datetime(2018, 9, 21, 0, 0), datetime.datetime(2018, 9, 21, 0, 0), datetime.datetime(2018, 9, 21, 0, 0), datetime.datetime(2018, 9, 21, 0, 0), datetime.datetime(2018, 9, 21, 0, 0), datetime.datetime(2018, 9, 21, 0, 0), datetime.datetime(2018, 9, 21, 0, 0), datetime.datetime(2018, 9, 21, 0, 0), datetime.datetime(2018, 9, 21, 0, 0), datetime.datetime(2018, 9, 21, 0, 0), datetime.datetime(2018, 9, 21, 0, 0), datetime.datetime(2018, 9, 21, 0, 0), datetime.datetime(2018, 9, 21, 0, 0), datetime.datetime(2018, 9, 20, 0, 0), datetime.datetime(2018, 9, 20, 0, 0), datetime.datetime(2018, 9, 20, 0, 0), datetime.datetime(2018, 9, 20, 0, 0), datetime.datetime(2018, 9, 20, 0, 0), datetime.datetime(2018, 9, 20, 0, 0), datetime.datetime(2018, 9, 20, 0, 0), datetime.datetime(2018, 9, 20, 0, 0), datetime.datetime(2018, 9, 20, 0, 0), datetime.datetime(2018, 9, 20, 0, 0), datetime.datetime(2018, 9, 19, 0, 0), datetime.datetime(2018, 9, 19, 0, 0), datetime.datetime(2018, 9, 19, 0, 0), datetime.datetime(2018, 9, 19, 0, 0), datetime.datetime(2018, 9, 19, 0, 0), datetime.datetime(2018, 9, 19, 0, 0), datetime.datetime(2018, 9, 19, 0, 0), datetime.datetime(2018, 9, 19, 0, 0), datetime.datetime(2018, 9, 19, 0, 0), datetime.datetime(2018, 9, 19, 0, 0), datetime.datetime(2018, 9, 19, 0, 0), datetime.datetime(2018, 9, 19, 0, 0), datetime.datetime(2018, 9, 19, 0, 0), datetime.datetime(2018, 9, 19, 0, 0), datetime.datetime(2018, 9, 19, 0, 0), datetime.datetime(2018, 9, 19, 0, 0), datetime.datetime(2018, 9, 18, 0, 0), datetime.datetime(2018, 9, 18, 0, 0), datetime.datetime(2018, 9, 18, 0, 0), datetime.datetime(2018, 9, 18, 0, 0), datetime.datetime(2018, 9, 18, 0, 0), datetime.datetime(2018, 9, 17, 0, 0), datetime.datetime(2018, 9, 17, 0, 0), datetime.datetime(2018, 9, 17, 0, 0), datetime.datetime(2018, 9, 17, 0, 0), datetime.datetime(2018, 9, 17, 0, 0), datetime.datetime(2018, 9, 17, 0, 0), datetime.datetime(2018, 9, 17, 0, 0), datetime.datetime(2018, 9, 17, 0, 0), datetime.datetime(2018, 9, 17, 0, 0), datetime.datetime(2018, 9, 17, 0, 0), datetime.datetime(2018, 9, 17, 0, 0), datetime.datetime(2018, 9, 16, 0, 0), datetime.datetime(2018, 9, 16, 0, 0), datetime.datetime(2018, 9, 16, 0, 0), datetime.datetime(2018, 9, 16, 0, 0), datetime.datetime(2018, 9, 16, 0, 0), datetime.datetime(2018, 9, 16, 0, 0), datetime.datetime(2018, 9, 16, 0, 0), datetime.datetime(2018, 9, 16, 0, 0), datetime.datetime(2018, 9, 16, 0, 0), datetime.datetime(2018, 9, 15, 0, 0), datetime.datetime(2018, 9, 15, 0, 0), datetime.datetime(2018, 9, 15, 0, 0), datetime.datetime(2018, 9, 15, 0, 0), datetime.datetime(2018, 9, 14, 0, 0), datetime.datetime(2018, 9, 14, 0, 0), datetime.datetime(2018, 9, 14, 0, 0), datetime.datetime(2018, 9, 14, 0, 0), datetime.datetime(2018, 9, 14, 0, 0), datetime.datetime(2018, 9, 14, 0, 0), datetime.datetime(2018, 9, 14, 0, 0), datetime.datetime(2018, 9, 14, 0, 0), datetime.datetime(2018, 9, 14, 0, 0), datetime.datetime(2018, 9, 14, 0, 0), datetime.datetime(2018, 9, 14, 0, 0), datetime.datetime(2018, 9, 14, 0, 0), datetime.datetime(2018, 9, 14, 0, 0), datetime.datetime(2018, 9, 14, 0, 0), datetime.datetime(2018, 9, 14, 0, 0), datetime.datetime(2018, 9, 13, 0, 0), datetime.datetime(2018, 9, 13, 0, 0), datetime.datetime(2018, 9, 13, 0, 0), datetime.datetime(2018, 9, 13, 0, 0), datetime.datetime(2018, 9, 13, 0, 0), datetime.datetime(2018, 9, 13, 0, 0), datetime.datetime(2018, 9, 13, 0, 0), datetime.datetime(2018, 9, 13, 0, 0), datetime.datetime(2018, 9, 13, 0, 0), datetime.datetime(2018, 9, 13, 0, 0), datetime.datetime(2018, 9, 13, 0, 0), datetime.datetime(2018, 9, 12, 0, 0), datetime.datetime(2018, 9, 12, 0, 0), datetime.datetime(2018, 9, 12, 0, 0), datetime.datetime(2018, 9, 12, 0, 0), datetime.datetime(2018, 9, 12, 0, 0), datetime.datetime(2018, 9, 12, 0, 0), datetime.datetime(2018, 9, 12, 0, 0), datetime.datetime(2018, 9, 12, 0, 0), datetime.datetime(2018, 9, 12, 0, 0), datetime.datetime(2018, 9, 12, 0, 0), datetime.datetime(2018, 9, 11, 0, 0), datetime.datetime(2018, 9, 11, 0, 0), datetime.datetime(2018, 9, 11, 0, 0), datetime.datetime(2018, 9, 11, 0, 0), datetime.datetime(2018, 9, 11, 0, 0), datetime.datetime(2018, 9, 11, 0, 0), datetime.datetime(2018, 9, 11, 0, 0), datetime.datetime(2018, 9, 11, 0, 0), datetime.datetime(2018, 9, 11, 0, 0), datetime.datetime(2018, 9, 11, 0, 0), datetime.datetime(2018, 9, 11, 0, 0), datetime.datetime(2018, 9, 11, 0, 0), datetime.datetime(2018, 9, 11, 0, 0), datetime.datetime(2018, 9, 10, 0, 0), datetime.datetime(2018, 9, 10, 0, 0), datetime.datetime(2018, 9, 10, 0, 0), datetime.datetime(2018, 9, 10, 0, 0), datetime.datetime(2018, 9, 10, 0, 0), datetime.datetime(2018, 9, 10, 0, 0), datetime.datetime(2018, 9, 10, 0, 0), datetime.datetime(2018, 9, 10, 0, 0), datetime.datetime(2018, 9, 10, 0, 0), datetime.datetime(2018, 9, 10, 0, 0), datetime.datetime(2018, 9, 10, 0, 0), datetime.datetime(2018, 9, 10, 0, 0), datetime.datetime(2018, 9, 10, 0, 0), datetime.datetime(2018, 9, 10, 0, 0), datetime.datetime(2018, 9, 10, 0, 0), datetime.datetime(2018, 9, 10, 0, 0), datetime.datetime(2018, 9, 10, 0, 0), datetime.datetime(2018, 9, 10, 0, 0), datetime.datetime(2018, 9, 9, 0, 0), datetime.datetime(2018, 9, 9, 0, 0), datetime.datetime(2018, 9, 9, 0, 0), datetime.datetime(2018, 9, 9, 0, 0), datetime.datetime(2018, 9, 9, 0, 0), datetime.datetime(2018, 9, 9, 0, 0), datetime.datetime(2018, 9, 9, 0, 0), datetime.datetime(2018, 9, 9, 0, 0), datetime.datetime(2018, 9, 8, 0, 0), datetime.datetime(2018, 9, 8, 0, 0), datetime.datetime(2018, 9, 8, 0, 0), datetime.datetime(2018, 9, 8, 0, 0), datetime.datetime(2018, 9, 8, 0, 0), datetime.datetime(2018, 9, 7, 0, 0), datetime.datetime(2018, 9, 7, 0, 0), datetime.datetime(2018, 9, 7, 0, 0), datetime.datetime(2018, 9, 7, 0, 0), datetime.datetime(2018, 9, 7, 0, 0), datetime.datetime(2018, 9, 7, 0, 0), datetime.datetime(2018, 9, 7, 0, 0), datetime.datetime(2018, 9, 7, 0, 0), datetime.datetime(2018, 9, 7, 0, 0), datetime.datetime(2018, 9, 7, 0, 0), datetime.datetime(2018, 9, 7, 0, 0), datetime.datetime(2018, 9, 6, 0, 0), datetime.datetime(2018, 9, 6, 0, 0), datetime.datetime(2018, 9, 6, 0, 0), datetime.datetime(2018, 9, 6, 0, 0), datetime.datetime(2018, 9, 6, 0, 0), datetime.datetime(2018, 9, 6, 0, 0), datetime.datetime(2018, 9, 6, 0, 0), datetime.datetime(2018, 9, 6, 0, 0), datetime.datetime(2018, 9, 6, 0, 0), datetime.datetime(2018, 9, 5, 0, 0), datetime.datetime(2018, 9, 5, 0, 0), datetime.datetime(2018, 9, 5, 0, 0), datetime.datetime(2018, 9, 5, 0, 0), datetime.datetime(2018, 9, 5, 0, 0), datetime.datetime(2018, 9, 5, 0, 0), datetime.datetime(2018, 9, 5, 0, 0), datetime.datetime(2018, 9, 5, 0, 0), datetime.datetime(2018, 9, 5, 0, 0), datetime.datetime(2018, 9, 5, 0, 0), datetime.datetime(2018, 9, 4, 0, 0), datetime.datetime(2018, 9, 4, 0, 0), datetime.datetime(2018, 9, 4, 0, 0), datetime.datetime(2018, 9, 4, 0, 0), datetime.datetime(2018, 9, 4, 0, 0), datetime.datetime(2018, 9, 4, 0, 0), datetime.datetime(2018, 9, 4, 0, 0), datetime.datetime(2018, 9, 3, 0, 0), datetime.datetime(2018, 9, 3, 0, 0), datetime.datetime(2018, 9, 3, 0, 0), datetime.datetime(2018, 9, 3, 0, 0), datetime.datetime(2018, 9, 3, 0, 0), datetime.datetime(2018, 9, 3, 0, 0), datetime.datetime(2018, 9, 3, 0, 0), datetime.datetime(2018, 9, 3, 0, 0), datetime.datetime(2018, 9, 3, 0, 0), datetime.datetime(2018, 9, 3, 0, 0), datetime.datetime(2018, 9, 3, 0, 0), datetime.datetime(2018, 9, 3, 0, 0), datetime.datetime(2018, 9, 3, 0, 0), datetime.datetime(2018, 9, 3, 0, 0), datetime.datetime(2018, 9, 3, 0, 0), datetime.datetime(2018, 9, 2, 0, 0), datetime.datetime(2018, 9, 2, 0, 0), datetime.datetime(2018, 9, 2, 0, 0), datetime.datetime(2018, 9, 2, 0, 0), datetime.datetime(2018, 9, 2, 0, 0), datetime.datetime(2018, 9, 2, 0, 0), datetime.datetime(2018, 9, 2, 0, 0), datetime.datetime(2018, 9, 2, 0, 0), datetime.datetime(2018, 9, 2, 0, 0), datetime.datetime(2018, 9, 2, 0, 0), datetime.datetime(2018, 9, 2, 0, 0), datetime.datetime(2018, 9, 2, 0, 0), datetime.datetime(2018, 9, 2, 0, 0), datetime.datetime(2018, 9, 2, 0, 0), datetime.datetime(2018, 9, 2, 0, 0), datetime.datetime(2018, 9, 1, 0, 0), datetime.datetime(2018, 9, 1, 0, 0), datetime.datetime(2018, 9, 1, 0, 0), datetime.datetime(2018, 9, 1, 0, 0), datetime.datetime(2018, 9, 1, 0, 0), datetime.datetime(2018, 9, 1, 0, 0), datetime.datetime(2018, 9, 1, 0, 0), datetime.datetime(2018, 9, 1, 0, 0), datetime.datetime(2018, 9, 1, 0, 0), datetime.datetime(2018, 9, 1, 0, 0), datetime.datetime(2018, 8, 31, 0, 0), datetime.datetime(2018, 8, 31, 0, 0), datetime.datetime(2018, 8, 31, 0, 0), datetime.datetime(2018, 8, 31, 0, 0), datetime.datetime(2018, 8, 31, 0, 0), datetime.datetime(2018, 8, 31, 0, 0), datetime.datetime(2018, 8, 31, 0, 0), datetime.datetime(2018, 8, 31, 0, 0), datetime.datetime(2018, 8, 31, 0, 0), datetime.datetime(2018, 8, 31, 0, 0), datetime.datetime(2018, 8, 30, 0, 0), datetime.datetime(2018, 8, 30, 0, 0), datetime.datetime(2018, 8, 30, 0, 0), datetime.datetime(2018, 8, 30, 0, 0), datetime.datetime(2018, 8, 30, 0, 0), datetime.datetime(2018, 8, 30, 0, 0), datetime.datetime(2018, 8, 30, 0, 0), datetime.datetime(2018, 8, 30, 0, 0), datetime.datetime(2018, 8, 30, 0, 0), datetime.datetime(2018, 8, 29, 0, 0), datetime.datetime(2018, 8, 29, 0, 0), datetime.datetime(2018, 8, 29, 0, 0), datetime.datetime(2018, 8, 29, 0, 0), datetime.datetime(2018, 8, 29, 0, 0), datetime.datetime(2018, 8, 29, 0, 0), datetime.datetime(2018, 8, 29, 0, 0), datetime.datetime(2018, 8, 29, 0, 0), datetime.datetime(2018, 8, 29, 0, 0), datetime.datetime(2018, 8, 29, 0, 0), datetime.datetime(2018, 8, 29, 0, 0), datetime.datetime(2018, 8, 28, 0, 0), datetime.datetime(2018, 8, 28, 0, 0), datetime.datetime(2018, 8, 28, 0, 0), datetime.datetime(2018, 8, 28, 0, 0), datetime.datetime(2018, 8, 28, 0, 0), datetime.datetime(2018, 8, 28, 0, 0), datetime.datetime(2018, 8, 28, 0, 0), datetime.datetime(2018, 8, 28, 0, 0), datetime.datetime(2018, 8, 28, 0, 0), datetime.datetime(2018, 8, 28, 0, 0), datetime.datetime(2018, 8, 28, 0, 0), datetime.datetime(2018, 8, 28, 0, 0), datetime.datetime(2018, 8, 27, 0, 0), datetime.datetime(2018, 8, 27, 0, 0), datetime.datetime(2018, 8, 27, 0, 0), datetime.datetime(2018, 8, 27, 0, 0), datetime.datetime(2018, 8, 27, 0, 0), datetime.datetime(2018, 8, 27, 0, 0), datetime.datetime(2018, 8, 27, 0, 0), datetime.datetime(2018, 8, 27, 0, 0), datetime.datetime(2018, 8, 27, 0, 0), datetime.datetime(2018, 8, 27, 0, 0), datetime.datetime(2018, 8, 27, 0, 0), datetime.datetime(2018, 8, 27, 0, 0), datetime.datetime(2018, 8, 27, 0, 0), datetime.datetime(2018, 8, 27, 0, 0), datetime.datetime(2018, 8, 26, 0, 0), datetime.datetime(2018, 8, 26, 0, 0), datetime.datetime(2018, 8, 26, 0, 0), datetime.datetime(2018, 8, 26, 0, 0), datetime.datetime(2018, 8, 26, 0, 0), datetime.datetime(2018, 8, 26, 0, 0), datetime.datetime(2018, 8, 26, 0, 0), datetime.datetime(2018, 8, 25, 0, 0), datetime.datetime(2018, 8, 25, 0, 0), datetime.datetime(2018, 8, 25, 0, 0), datetime.datetime(2018, 8, 25, 0, 0), datetime.datetime(2018, 8, 24, 0, 0), datetime.datetime(2018, 8, 24, 0, 0), datetime.datetime(2018, 8, 24, 0, 0), datetime.datetime(2018, 8, 24, 0, 0), datetime.datetime(2018, 8, 24, 0, 0), datetime.datetime(2018, 8, 24, 0, 0), datetime.datetime(2018, 8, 24, 0, 0), datetime.datetime(2018, 8, 24, 0, 0), datetime.datetime(2018, 8, 24, 0, 0), datetime.datetime(2018, 8, 23, 0, 0), datetime.datetime(2018, 8, 23, 0, 0), datetime.datetime(2018, 8, 23, 0, 0), datetime.datetime(2018, 8, 23, 0, 0), datetime.datetime(2018, 8, 23, 0, 0), datetime.datetime(2018, 8, 23, 0, 0), datetime.datetime(2018, 8, 23, 0, 0), datetime.datetime(2018, 8, 23, 0, 0), datetime.datetime(2018, 8, 23, 0, 0), datetime.datetime(2018, 8, 23, 0, 0), datetime.datetime(2018, 8, 23, 0, 0), datetime.datetime(2018, 8, 23, 0, 0), datetime.datetime(2018, 8, 23, 0, 0), datetime.datetime(2018, 8, 23, 0, 0), datetime.datetime(2018, 8, 22, 0, 0), datetime.datetime(2018, 8, 22, 0, 0), datetime.datetime(2018, 8, 22, 0, 0), datetime.datetime(2018, 8, 22, 0, 0), datetime.datetime(2018, 8, 22, 0, 0), datetime.datetime(2018, 8, 22, 0, 0), datetime.datetime(2018, 8, 22, 0, 0), datetime.datetime(2018, 8, 22, 0, 0), datetime.datetime(2018, 8, 22, 0, 0), datetime.datetime(2018, 8, 22, 0, 0), datetime.datetime(2018, 8, 22, 0, 0), datetime.datetime(2018, 8, 22, 0, 0), datetime.datetime(2018, 8, 22, 0, 0), datetime.datetime(2018, 8, 22, 0, 0), datetime.datetime(2018, 8, 21, 0, 0), datetime.datetime(2018, 8, 21, 0, 0), datetime.datetime(2018, 8, 21, 0, 0), datetime.datetime(2018, 8, 21, 0, 0), datetime.datetime(2018, 8, 21, 0, 0), datetime.datetime(2018, 8, 21, 0, 0), datetime.datetime(2018, 8, 21, 0, 0), datetime.datetime(2018, 8, 21, 0, 0), datetime.datetime(2018, 8, 21, 0, 0), datetime.datetime(2018, 8, 21, 0, 0), datetime.datetime(2018, 8, 21, 0, 0), datetime.datetime(2018, 8, 20, 0, 0), datetime.datetime(2018, 8, 20, 0, 0), datetime.datetime(2018, 8, 20, 0, 0), datetime.datetime(2018, 8, 20, 0, 0), datetime.datetime(2018, 8, 20, 0, 0), datetime.datetime(2018, 8, 20, 0, 0), datetime.datetime(2018, 8, 20, 0, 0), datetime.datetime(2018, 8, 20, 0, 0), datetime.datetime(2018, 8, 20, 0, 0), datetime.datetime(2018, 8, 20, 0, 0), datetime.datetime(2018, 8, 20, 0, 0), datetime.datetime(2018, 8, 20, 0, 0), datetime.datetime(2018, 8, 20, 0, 0), datetime.datetime(2018, 8, 20, 0, 0), datetime.datetime(2018, 8, 20, 0, 0), datetime.datetime(2018, 8, 20, 0, 0), datetime.datetime(2018, 8, 20, 0, 0), datetime.datetime(2018, 8, 19, 0, 0), datetime.datetime(2018, 8, 19, 0, 0), datetime.datetime(2018, 8, 19, 0, 0), datetime.datetime(2018, 8, 19, 0, 0), datetime.datetime(2018, 8, 18, 0, 0), datetime.datetime(2018, 8, 18, 0, 0), datetime.datetime(2018, 8, 18, 0, 0), datetime.datetime(2018, 8, 17, 0, 0), datetime.datetime(2018, 8, 17, 0, 0), datetime.datetime(2018, 8, 17, 0, 0), datetime.datetime(2018, 8, 17, 0, 0), datetime.datetime(2018, 8, 17, 0, 0), datetime.datetime(2018, 8, 17, 0, 0), datetime.datetime(2018, 8, 17, 0, 0), datetime.datetime(2018, 8, 17, 0, 0), datetime.datetime(2018, 8, 17, 0, 0), datetime.datetime(2018, 8, 16, 0, 0), datetime.datetime(2018, 8, 16, 0, 0), datetime.datetime(2018, 8, 16, 0, 0), datetime.datetime(2018, 8, 16, 0, 0), datetime.datetime(2018, 8, 16, 0, 0), datetime.datetime(2018, 8, 16, 0, 0), datetime.datetime(2018, 8, 16, 0, 0), datetime.datetime(2018, 8, 16, 0, 0), datetime.datetime(2018, 8, 16, 0, 0), datetime.datetime(2018, 8, 16, 0, 0), datetime.datetime(2018, 8, 16, 0, 0), datetime.datetime(2018, 8, 15, 0, 0), datetime.datetime(2018, 8, 15, 0, 0), datetime.datetime(2018, 8, 15, 0, 0), datetime.datetime(2018, 8, 15, 0, 0), datetime.datetime(2018, 8, 15, 0, 0), datetime.datetime(2018, 8, 15, 0, 0), datetime.datetime(2018, 8, 15, 0, 0), datetime.datetime(2018, 8, 15, 0, 0), datetime.datetime(2018, 8, 15, 0, 0), datetime.datetime(2018, 8, 15, 0, 0), datetime.datetime(2018, 8, 15, 0, 0), datetime.datetime(2018, 8, 14, 0, 0), datetime.datetime(2018, 8, 14, 0, 0), datetime.datetime(2018, 8, 14, 0, 0), datetime.datetime(2018, 8, 14, 0, 0), datetime.datetime(2018, 8, 14, 0, 0), datetime.datetime(2018, 8, 14, 0, 0), datetime.datetime(2018, 8, 14, 0, 0), datetime.datetime(2018, 8, 14, 0, 0), datetime.datetime(2018, 8, 14, 0, 0), datetime.datetime(2018, 8, 14, 0, 0), datetime.datetime(2018, 8, 14, 0, 0), datetime.datetime(2018, 8, 14, 0, 0), datetime.datetime(2018, 8, 14, 0, 0), datetime.datetime(2018, 8, 14, 0, 0), datetime.datetime(2018, 8, 14, 0, 0), datetime.datetime(2018, 8, 14, 0, 0), datetime.datetime(2018, 8, 14, 0, 0), datetime.datetime(2018, 8, 14, 0, 0), datetime.datetime(2018, 8, 14, 0, 0), datetime.datetime(2018, 8, 13, 0, 0), datetime.datetime(2018, 8, 13, 0, 0), datetime.datetime(2018, 8, 13, 0, 0), datetime.datetime(2018, 8, 13, 0, 0), datetime.datetime(2018, 8, 13, 0, 0), datetime.datetime(2018, 8, 13, 0, 0), datetime.datetime(2018, 8, 13, 0, 0), datetime.datetime(2018, 8, 13, 0, 0), datetime.datetime(2018, 8, 13, 0, 0), datetime.datetime(2018, 8, 13, 0, 0), datetime.datetime(2018, 8, 13, 0, 0), datetime.datetime(2018, 8, 13, 0, 0), datetime.datetime(2018, 8, 13, 0, 0), datetime.datetime(2018, 8, 12, 0, 0), datetime.datetime(2018, 8, 12, 0, 0), datetime.datetime(2018, 8, 12, 0, 0), datetime.datetime(2018, 8, 12, 0, 0), datetime.datetime(2018, 8, 11, 0, 0), datetime.datetime(2018, 8, 11, 0, 0), datetime.datetime(2018, 8, 11, 0, 0), datetime.datetime(2018, 8, 10, 0, 0), datetime.datetime(2018, 8, 10, 0, 0), datetime.datetime(2018, 8, 10, 0, 0), datetime.datetime(2018, 8, 10, 0, 0), datetime.datetime(2018, 8, 10, 0, 0), datetime.datetime(2018, 8, 10, 0, 0), datetime.datetime(2018, 8, 10, 0, 0), datetime.datetime(2018, 8, 10, 0, 0), datetime.datetime(2018, 8, 10, 0, 0), datetime.datetime(2018, 8, 10, 0, 0), datetime.datetime(2018, 8, 10, 0, 0), datetime.datetime(2018, 8, 10, 0, 0), datetime.datetime(2018, 8, 10, 0, 0), datetime.datetime(2018, 8, 10, 0, 0), datetime.datetime(2018, 8, 10, 0, 0), datetime.datetime(2018, 8, 10, 0, 0), datetime.datetime(2018, 8, 9, 0, 0), datetime.datetime(2018, 8, 9, 0, 0), datetime.datetime(2018, 8, 9, 0, 0), datetime.datetime(2018, 8, 9, 0, 0), datetime.datetime(2018, 8, 9, 0, 0), datetime.datetime(2018, 8, 9, 0, 0), datetime.datetime(2018, 8, 9, 0, 0), datetime.datetime(2018, 8, 9, 0, 0), datetime.datetime(2018, 8, 9, 0, 0), datetime.datetime(2018, 8, 9, 0, 0), datetime.datetime(2018, 8, 9, 0, 0), datetime.datetime(2018, 8, 9, 0, 0), datetime.datetime(2018, 8, 9, 0, 0), datetime.datetime(2018, 8, 9, 0, 0), datetime.datetime(2018, 8, 9, 0, 0), datetime.datetime(2018, 8, 9, 0, 0), datetime.datetime(2018, 8, 8, 0, 0), datetime.datetime(2018, 8, 8, 0, 0), datetime.datetime(2018, 8, 8, 0, 0), datetime.datetime(2018, 8, 8, 0, 0), datetime.datetime(2018, 8, 8, 0, 0), datetime.datetime(2018, 8, 8, 0, 0), datetime.datetime(2018, 8, 8, 0, 0), datetime.datetime(2018, 8, 8, 0, 0), datetime.datetime(2018, 8, 8, 0, 0), datetime.datetime(2018, 8, 8, 0, 0), datetime.datetime(2018, 8, 8, 0, 0), datetime.datetime(2018, 8, 8, 0, 0), datetime.datetime(2018, 8, 8, 0, 0), datetime.datetime(2018, 8, 8, 0, 0), datetime.datetime(2018, 8, 8, 0, 0), datetime.datetime(2018, 8, 8, 0, 0), datetime.datetime(2018, 8, 8, 0, 0), datetime.datetime(2018, 8, 8, 0, 0), datetime.datetime(2018, 8, 8, 0, 0), datetime.datetime(2018, 8, 7, 0, 0), datetime.datetime(2018, 8, 7, 0, 0), datetime.datetime(2018, 8, 7, 0, 0), datetime.datetime(2018, 8, 7, 0, 0), datetime.datetime(2018, 8, 7, 0, 0), datetime.datetime(2018, 8, 7, 0, 0), datetime.datetime(2018, 8, 7, 0, 0), datetime.datetime(2018, 8, 7, 0, 0), datetime.datetime(2018, 8, 7, 0, 0), datetime.datetime(2018, 8, 6, 0, 0), datetime.datetime(2018, 8, 6, 0, 0), datetime.datetime(2018, 8, 6, 0, 0), datetime.datetime(2018, 8, 6, 0, 0), datetime.datetime(2018, 8, 6, 0, 0), datetime.datetime(2018, 8, 6, 0, 0), datetime.datetime(2018, 8, 6, 0, 0), datetime.datetime(2018, 8, 6, 0, 0), datetime.datetime(2018, 8, 6, 0, 0), datetime.datetime(2018, 8, 6, 0, 0), datetime.datetime(2018, 8, 6, 0, 0), datetime.datetime(2018, 8, 6, 0, 0), datetime.datetime(2018, 8, 6, 0, 0), datetime.datetime(2018, 8, 6, 0, 0), datetime.datetime(2018, 8, 6, 0, 0), datetime.datetime(2018, 8, 6, 0, 0), datetime.datetime(2018, 8, 6, 0, 0), datetime.datetime(2018, 8, 6, 0, 0), datetime.datetime(2018, 8, 6, 0, 0), datetime.datetime(2018, 8, 6, 0, 0), datetime.datetime(2018, 8, 5, 0, 0), datetime.datetime(2018, 8, 5, 0, 0), datetime.datetime(2018, 8, 5, 0, 0), datetime.datetime(2018, 8, 5, 0, 0), datetime.datetime(2018, 8, 5, 0, 0), datetime.datetime(2018, 8, 5, 0, 0), datetime.datetime(2018, 8, 4, 0, 0), datetime.datetime(2018, 8, 4, 0, 0), datetime.datetime(2018, 8, 3, 0, 0), datetime.datetime(2018, 8, 3, 0, 0), datetime.datetime(2018, 8, 3, 0, 0), datetime.datetime(2018, 8, 3, 0, 0), datetime.datetime(2018, 8, 3, 0, 0), datetime.datetime(2018, 8, 3, 0, 0), datetime.datetime(2018, 8, 3, 0, 0), datetime.datetime(2018, 8, 3, 0, 0), datetime.datetime(2018, 8, 3, 0, 0), datetime.datetime(2018, 8, 3, 0, 0), datetime.datetime(2018, 8, 3, 0, 0), datetime.datetime(2018, 8, 3, 0, 0), datetime.datetime(2018, 8, 3, 0, 0), datetime.datetime(2018, 8, 3, 0, 0), datetime.datetime(2018, 8, 2, 0, 0), datetime.datetime(2018, 8, 2, 0, 0), datetime.datetime(2018, 8, 2, 0, 0), datetime.datetime(2018, 8, 2, 0, 0), datetime.datetime(2018, 8, 2, 0, 0), datetime.datetime(2018, 8, 2, 0, 0), datetime.datetime(2018, 8, 2, 0, 0), datetime.datetime(2018, 8, 2, 0, 0), datetime.datetime(2018, 8, 2, 0, 0), datetime.datetime(2018, 8, 1, 0, 0), datetime.datetime(2018, 8, 1, 0, 0), datetime.datetime(2018, 8, 1, 0, 0), datetime.datetime(2018, 8, 1, 0, 0), datetime.datetime(2018, 8, 1, 0, 0), datetime.datetime(2018, 8, 1, 0, 0), datetime.datetime(2018, 8, 1, 0, 0), datetime.datetime(2018, 8, 1, 0, 0), datetime.datetime(2018, 8, 1, 0, 0), datetime.datetime(2018, 8, 1, 0, 0), datetime.datetime(2018, 8, 1, 0, 0), datetime.datetime(2018, 7, 31, 0, 0), datetime.datetime(2018, 7, 31, 0, 0), datetime.datetime(2018, 7, 31, 0, 0), datetime.datetime(2018, 7, 31, 0, 0), datetime.datetime(2018, 7, 31, 0, 0), datetime.datetime(2018, 7, 31, 0, 0), datetime.datetime(2018, 7, 31, 0, 0), datetime.datetime(2018, 7, 31, 0, 0), datetime.datetime(2018, 7, 31, 0, 0), datetime.datetime(2018, 7, 31, 0, 0), datetime.datetime(2018, 7, 31, 0, 0), datetime.datetime(2018, 7, 31, 0, 0), datetime.datetime(2018, 7, 31, 0, 0), datetime.datetime(2018, 7, 31, 0, 0), datetime.datetime(2018, 7, 31, 0, 0), datetime.datetime(2018, 7, 30, 0, 0), datetime.datetime(2018, 7, 30, 0, 0), datetime.datetime(2018, 7, 30, 0, 0), datetime.datetime(2018, 7, 30, 0, 0), datetime.datetime(2018, 7, 30, 0, 0), datetime.datetime(2018, 7, 30, 0, 0), datetime.datetime(2018, 7, 30, 0, 0), datetime.datetime(2018, 7, 30, 0, 0), datetime.datetime(2018, 7, 30, 0, 0), datetime.datetime(2018, 7, 30, 0, 0), datetime.datetime(2018, 7, 30, 0, 0), datetime.datetime(2018, 7, 30, 0, 0), datetime.datetime(2018, 7, 30, 0, 0), datetime.datetime(2018, 7, 30, 0, 0), datetime.datetime(2018, 7, 30, 0, 0), datetime.datetime(2018, 7, 30, 0, 0), datetime.datetime(2018, 7, 29, 0, 0), datetime.datetime(2018, 7, 29, 0, 0), datetime.datetime(2018, 7, 29, 0, 0), datetime.datetime(2018, 7, 29, 0, 0), datetime.datetime(2018, 7, 28, 0, 0), datetime.datetime(2018, 7, 28, 0, 0), datetime.datetime(2018, 7, 28, 0, 0), datetime.datetime(2018, 7, 28, 0, 0), datetime.datetime(2018, 7, 28, 0, 0), datetime.datetime(2018, 7, 27, 0, 0), datetime.datetime(2018, 7, 27, 0, 0), datetime.datetime(2018, 7, 27, 0, 0), datetime.datetime(2018, 7, 27, 0, 0), datetime.datetime(2018, 7, 27, 0, 0), datetime.datetime(2018, 7, 27, 0, 0), datetime.datetime(2018, 7, 27, 0, 0), datetime.datetime(2018, 7, 27, 0, 0), datetime.datetime(2018, 7, 27, 0, 0), datetime.datetime(2018, 7, 27, 0, 0), datetime.datetime(2018, 7, 26, 0, 0), datetime.datetime(2018, 7, 26, 0, 0), datetime.datetime(2018, 7, 26, 0, 0), datetime.datetime(2018, 7, 26, 0, 0), datetime.datetime(2018, 7, 26, 0, 0), datetime.datetime(2018, 7, 26, 0, 0), datetime.datetime(2018, 7, 26, 0, 0), datetime.datetime(2018, 7, 26, 0, 0), datetime.datetime(2018, 7, 26, 0, 0), datetime.datetime(2018, 7, 26, 0, 0), datetime.datetime(2018, 7, 26, 0, 0), datetime.datetime(2018, 7, 26, 0, 0), datetime.datetime(2018, 7, 26, 0, 0), datetime.datetime(2018, 7, 26, 0, 0), datetime.datetime(2018, 7, 25, 0, 0), datetime.datetime(2018, 7, 25, 0, 0), datetime.datetime(2018, 7, 25, 0, 0), datetime.datetime(2018, 7, 25, 0, 0), datetime.datetime(2018, 7, 25, 0, 0), datetime.datetime(2018, 7, 25, 0, 0), datetime.datetime(2018, 7, 25, 0, 0), datetime.datetime(2018, 7, 25, 0, 0), datetime.datetime(2018, 7, 25, 0, 0), datetime.datetime(2018, 7, 25, 0, 0), datetime.datetime(2018, 7, 25, 0, 0), datetime.datetime(2018, 7, 25, 0, 0), datetime.datetime(2018, 7, 24, 0, 0), datetime.datetime(2018, 7, 24, 0, 0), datetime.datetime(2018, 7, 24, 0, 0), datetime.datetime(2018, 7, 24, 0, 0), datetime.datetime(2018, 7, 24, 0, 0), datetime.datetime(2018, 7, 24, 0, 0), datetime.datetime(2018, 7, 24, 0, 0), datetime.datetime(2018, 7, 24, 0, 0), datetime.datetime(2018, 7, 24, 0, 0), datetime.datetime(2018, 7, 24, 0, 0), datetime.datetime(2018, 7, 23, 0, 0), datetime.datetime(2018, 7, 23, 0, 0), datetime.datetime(2018, 7, 23, 0, 0), datetime.datetime(2018, 7, 23, 0, 0), datetime.datetime(2018, 7, 23, 0, 0), datetime.datetime(2018, 7, 23, 0, 0), datetime.datetime(2018, 7, 23, 0, 0), datetime.datetime(2018, 7, 23, 0, 0), datetime.datetime(2018, 7, 23, 0, 0), datetime.datetime(2018, 7, 22, 0, 0), datetime.datetime(2018, 7, 22, 0, 0), datetime.datetime(2018, 7, 22, 0, 0), datetime.datetime(2018, 7, 21, 0, 0), datetime.datetime(2018, 7, 21, 0, 0), datetime.datetime(2018, 7, 21, 0, 0), datetime.datetime(2018, 7, 21, 0, 0), datetime.datetime(2018, 7, 21, 0, 0), datetime.datetime(2018, 7, 21, 0, 0), datetime.datetime(2018, 7, 21, 0, 0), datetime.datetime(2018, 7, 21, 0, 0), datetime.datetime(2018, 7, 20, 0, 0), datetime.datetime(2018, 7, 20, 0, 0), datetime.datetime(2018, 7, 20, 0, 0), datetime.datetime(2018, 7, 20, 0, 0), datetime.datetime(2018, 7, 20, 0, 0), datetime.datetime(2018, 7, 20, 0, 0), datetime.datetime(2018, 7, 19, 0, 0), datetime.datetime(2018, 7, 19, 0, 0), datetime.datetime(2018, 7, 19, 0, 0), datetime.datetime(2018, 7, 19, 0, 0), datetime.datetime(2018, 7, 19, 0, 0), datetime.datetime(2018, 7, 19, 0, 0), datetime.datetime(2018, 7, 18, 0, 0), datetime.datetime(2018, 7, 18, 0, 0), datetime.datetime(2018, 7, 18, 0, 0), datetime.datetime(2018, 7, 18, 0, 0), datetime.datetime(2018, 7, 18, 0, 0), datetime.datetime(2018, 7, 18, 0, 0), datetime.datetime(2018, 7, 18, 0, 0), datetime.datetime(2018, 7, 18, 0, 0), datetime.datetime(2018, 7, 18, 0, 0), datetime.datetime(2018, 7, 18, 0, 0), datetime.datetime(2018, 7, 18, 0, 0), datetime.datetime(2018, 7, 18, 0, 0), datetime.datetime(2018, 7, 18, 0, 0), datetime.datetime(2018, 7, 18, 0, 0), datetime.datetime(2018, 7, 17, 0, 0), datetime.datetime(2018, 7, 17, 0, 0), datetime.datetime(2018, 7, 17, 0, 0), datetime.datetime(2018, 7, 17, 0, 0), datetime.datetime(2018, 7, 17, 0, 0), datetime.datetime(2018, 7, 17, 0, 0), datetime.datetime(2018, 7, 17, 0, 0), datetime.datetime(2018, 7, 17, 0, 0), datetime.datetime(2018, 7, 17, 0, 0), datetime.datetime(2018, 7, 17, 0, 0), datetime.datetime(2018, 7, 17, 0, 0), datetime.datetime(2018, 7, 16, 0, 0), datetime.datetime(2018, 7, 16, 0, 0), datetime.datetime(2018, 7, 16, 0, 0), datetime.datetime(2018, 7, 16, 0, 0), datetime.datetime(2018, 7, 16, 0, 0), datetime.datetime(2018, 7, 16, 0, 0), datetime.datetime(2018, 7, 16, 0, 0), datetime.datetime(2018, 7, 16, 0, 0), datetime.datetime(2018, 7, 16, 0, 0), datetime.datetime(2018, 7, 16, 0, 0), datetime.datetime(2018, 7, 16, 0, 0), datetime.datetime(2018, 7, 15, 0, 0), datetime.datetime(2018, 7, 14, 0, 0), datetime.datetime(2018, 7, 14, 0, 0), datetime.datetime(2018, 7, 14, 0, 0), datetime.datetime(2018, 7, 14, 0, 0), datetime.datetime(2018, 7, 14, 0, 0), datetime.datetime(2018, 7, 14, 0, 0), datetime.datetime(2018, 7, 14, 0, 0), datetime.datetime(2018, 7, 13, 0, 0), datetime.datetime(2018, 7, 13, 0, 0), datetime.datetime(2018, 7, 13, 0, 0), datetime.datetime(2018, 7, 13, 0, 0), datetime.datetime(2018, 7, 13, 0, 0), datetime.datetime(2018, 7, 13, 0, 0), datetime.datetime(2018, 7, 13, 0, 0), datetime.datetime(2018, 7, 12, 0, 0), datetime.datetime(2018, 7, 12, 0, 0), datetime.datetime(2018, 7, 12, 0, 0), datetime.datetime(2018, 7, 12, 0, 0), datetime.datetime(2018, 7, 12, 0, 0), datetime.datetime(2018, 7, 12, 0, 0), datetime.datetime(2018, 7, 12, 0, 0), datetime.datetime(2018, 7, 12, 0, 0), datetime.datetime(2018, 7, 12, 0, 0), datetime.datetime(2018, 7, 12, 0, 0), datetime.datetime(2018, 7, 12, 0, 0), datetime.datetime(2018, 7, 12, 0, 0), datetime.datetime(2018, 7, 12, 0, 0), datetime.datetime(2018, 7, 11, 0, 0), datetime.datetime(2018, 7, 11, 0, 0), datetime.datetime(2018, 7, 11, 0, 0), datetime.datetime(2018, 7, 11, 0, 0), datetime.datetime(2018, 7, 11, 0, 0), datetime.datetime(2018, 7, 11, 0, 0), datetime.datetime(2018, 7, 11, 0, 0), datetime.datetime(2018, 7, 11, 0, 0), datetime.datetime(2018, 7, 11, 0, 0), datetime.datetime(2018, 7, 11, 0, 0), datetime.datetime(2018, 7, 11, 0, 0), datetime.datetime(2018, 7, 11, 0, 0), datetime.datetime(2018, 7, 11, 0, 0), datetime.datetime(2018, 7, 10, 0, 0), datetime.datetime(2018, 7, 10, 0, 0), datetime.datetime(2018, 7, 10, 0, 0), datetime.datetime(2018, 7, 10, 0, 0), datetime.datetime(2018, 7, 10, 0, 0), datetime.datetime(2018, 7, 10, 0, 0), datetime.datetime(2018, 7, 10, 0, 0), datetime.datetime(2018, 7, 10, 0, 0), datetime.datetime(2018, 7, 10, 0, 0), datetime.datetime(2018, 7, 10, 0, 0), datetime.datetime(2018, 7, 10, 0, 0), datetime.datetime(2018, 7, 10, 0, 0), datetime.datetime(2018, 7, 10, 0, 0), datetime.datetime(2018, 7, 10, 0, 0), datetime.datetime(2018, 7, 10, 0, 0), datetime.datetime(2018, 7, 10, 0, 0), datetime.datetime(2018, 7, 10, 0, 0), datetime.datetime(2018, 7, 10, 0, 0), datetime.datetime(2018, 7, 10, 0, 0), datetime.datetime(2018, 7, 9, 0, 0), datetime.datetime(2018, 7, 9, 0, 0), datetime.datetime(2018, 7, 9, 0, 0), datetime.datetime(2018, 7, 9, 0, 0), datetime.datetime(2018, 7, 9, 0, 0), datetime.datetime(2018, 7, 9, 0, 0), datetime.datetime(2018, 7, 9, 0, 0), datetime.datetime(2018, 7, 9, 0, 0), datetime.datetime(2018, 7, 9, 0, 0), datetime.datetime(2018, 7, 9, 0, 0), datetime.datetime(2018, 7, 9, 0, 0), datetime.datetime(2018, 7, 9, 0, 0), datetime.datetime(2018, 7, 9, 0, 0), datetime.datetime(2018, 7, 9, 0, 0), datetime.datetime(2018, 7, 9, 0, 0), datetime.datetime(2018, 7, 8, 0, 0), datetime.datetime(2018, 7, 8, 0, 0), datetime.datetime(2018, 7, 8, 0, 0), datetime.datetime(2018, 7, 8, 0, 0), datetime.datetime(2018, 7, 8, 0, 0), datetime.datetime(2018, 7, 8, 0, 0), datetime.datetime(2018, 7, 7, 0, 0), datetime.datetime(2018, 7, 7, 0, 0), datetime.datetime(2018, 7, 7, 0, 0), datetime.datetime(2018, 7, 7, 0, 0), datetime.datetime(2018, 7, 7, 0, 0), datetime.datetime(2018, 7, 7, 0, 0), datetime.datetime(2018, 7, 7, 0, 0), datetime.datetime(2018, 7, 7, 0, 0), datetime.datetime(2018, 7, 6, 0, 0), datetime.datetime(2018, 7, 6, 0, 0), datetime.datetime(2018, 7, 6, 0, 0), datetime.datetime(2018, 7, 6, 0, 0), datetime.datetime(2018, 7, 6, 0, 0), datetime.datetime(2018, 7, 6, 0, 0), datetime.datetime(2018, 7, 6, 0, 0), datetime.datetime(2018, 7, 6, 0, 0), datetime.datetime(2018, 7, 6, 0, 0), datetime.datetime(2018, 7, 6, 0, 0), datetime.datetime(2018, 7, 6, 0, 0), datetime.datetime(2018, 7, 5, 0, 0), datetime.datetime(2018, 7, 5, 0, 0), datetime.datetime(2018, 7, 5, 0, 0), datetime.datetime(2018, 7, 5, 0, 0), datetime.datetime(2018, 7, 5, 0, 0), datetime.datetime(2018, 7, 5, 0, 0), datetime.datetime(2018, 7, 5, 0, 0), datetime.datetime(2018, 7, 5, 0, 0), datetime.datetime(2018, 7, 5, 0, 0), datetime.datetime(2018, 7, 5, 0, 0), datetime.datetime(2018, 7, 5, 0, 0), datetime.datetime(2018, 7, 5, 0, 0), datetime.datetime(2018, 7, 5, 0, 0), datetime.datetime(2018, 7, 4, 0, 0), datetime.datetime(2018, 7, 4, 0, 0), datetime.datetime(2018, 7, 4, 0, 0), datetime.datetime(2018, 7, 4, 0, 0), datetime.datetime(2018, 7, 4, 0, 0), datetime.datetime(2018, 7, 4, 0, 0), datetime.datetime(2018, 7, 4, 0, 0), datetime.datetime(2018, 7, 4, 0, 0), datetime.datetime(2018, 7, 4, 0, 0), datetime.datetime(2018, 7, 4, 0, 0), datetime.datetime(2018, 7, 4, 0, 0), datetime.datetime(2018, 7, 4, 0, 0), datetime.datetime(2018, 7, 4, 0, 0), datetime.datetime(2018, 7, 4, 0, 0), datetime.datetime(2018, 7, 4, 0, 0), datetime.datetime(2018, 7, 4, 0, 0), datetime.datetime(2018, 7, 3, 0, 0), datetime.datetime(2018, 7, 3, 0, 0), datetime.datetime(2018, 7, 3, 0, 0), datetime.datetime(2018, 7, 3, 0, 0), datetime.datetime(2018, 7, 3, 0, 0), datetime.datetime(2018, 7, 3, 0, 0), datetime.datetime(2018, 7, 3, 0, 0), datetime.datetime(2018, 7, 3, 0, 0), datetime.datetime(2018, 7, 3, 0, 0), datetime.datetime(2018, 7, 3, 0, 0), datetime.datetime(2018, 7, 3, 0, 0), datetime.datetime(2018, 7, 3, 0, 0), datetime.datetime(2018, 7, 3, 0, 0), datetime.datetime(2018, 7, 2, 0, 0), datetime.datetime(2018, 7, 2, 0, 0), datetime.datetime(2018, 7, 2, 0, 0), datetime.datetime(2018, 7, 2, 0, 0), datetime.datetime(2018, 7, 2, 0, 0), datetime.datetime(2018, 7, 2, 0, 0), datetime.datetime(2018, 7, 2, 0, 0), datetime.datetime(2018, 7, 2, 0, 0), datetime.datetime(2018, 7, 1, 0, 0), datetime.datetime(2018, 7, 1, 0, 0), datetime.datetime(2018, 7, 1, 0, 0), datetime.datetime(2018, 7, 1, 0, 0), datetime.datetime(2018, 6, 30, 0, 0), datetime.datetime(2018, 6, 30, 0, 0), datetime.datetime(2018, 6, 30, 0, 0), datetime.datetime(2018, 6, 30, 0, 0), datetime.datetime(2018, 6, 30, 0, 0), datetime.datetime(2018, 6, 29, 0, 0), datetime.datetime(2018, 6, 29, 0, 0), datetime.datetime(2018, 6, 29, 0, 0), datetime.datetime(2018, 6, 29, 0, 0), datetime.datetime(2018, 6, 29, 0, 0), datetime.datetime(2018, 6, 29, 0, 0), datetime.datetime(2018, 6, 29, 0, 0), datetime.datetime(2018, 6, 29, 0, 0), datetime.datetime(2018, 6, 29, 0, 0), datetime.datetime(2018, 6, 29, 0, 0), datetime.datetime(2018, 6, 28, 0, 0), datetime.datetime(2018, 6, 28, 0, 0), datetime.datetime(2018, 6, 28, 0, 0), datetime.datetime(2018, 6, 28, 0, 0), datetime.datetime(2018, 6, 28, 0, 0), datetime.datetime(2018, 6, 28, 0, 0), datetime.datetime(2018, 6, 28, 0, 0), datetime.datetime(2018, 6, 27, 0, 0), datetime.datetime(2018, 6, 27, 0, 0), datetime.datetime(2018, 6, 27, 0, 0), datetime.datetime(2018, 6, 27, 0, 0), datetime.datetime(2018, 6, 27, 0, 0), datetime.datetime(2018, 6, 27, 0, 0), datetime.datetime(2018, 6, 27, 0, 0), datetime.datetime(2018, 6, 27, 0, 0), datetime.datetime(2018, 6, 27, 0, 0), datetime.datetime(2018, 6, 27, 0, 0), datetime.datetime(2018, 6, 27, 0, 0), datetime.datetime(2018, 6, 27, 0, 0), datetime.datetime(2018, 6, 27, 0, 0), datetime.datetime(2018, 6, 27, 0, 0), datetime.datetime(2018, 6, 26, 0, 0), datetime.datetime(2018, 6, 26, 0, 0), datetime.datetime(2018, 6, 26, 0, 0), datetime.datetime(2018, 6, 26, 0, 0), datetime.datetime(2018, 6, 26, 0, 0), datetime.datetime(2018, 6, 26, 0, 0), datetime.datetime(2018, 6, 26, 0, 0), datetime.datetime(2018, 6, 26, 0, 0), datetime.datetime(2018, 6, 26, 0, 0), datetime.datetime(2018, 6, 26, 0, 0), datetime.datetime(2018, 6, 26, 0, 0), datetime.datetime(2018, 6, 26, 0, 0), datetime.datetime(2018, 6, 25, 0, 0), datetime.datetime(2018, 6, 25, 0, 0), datetime.datetime(2018, 6, 25, 0, 0), datetime.datetime(2018, 6, 25, 0, 0), datetime.datetime(2018, 6, 25, 0, 0), datetime.datetime(2018, 6, 25, 0, 0), datetime.datetime(2018, 6, 25, 0, 0), datetime.datetime(2018, 6, 25, 0, 0), datetime.datetime(2018, 6, 25, 0, 0), datetime.datetime(2018, 6, 25, 0, 0), datetime.datetime(2018, 6, 25, 0, 0), datetime.datetime(2018, 6, 25, 0, 0), datetime.datetime(2018, 6, 24, 0, 0), datetime.datetime(2018, 6, 24, 0, 0), datetime.datetime(2018, 6, 23, 0, 0), datetime.datetime(2018, 6, 23, 0, 0), datetime.datetime(2018, 6, 23, 0, 0), datetime.datetime(2018, 6, 23, 0, 0), datetime.datetime(2018, 6, 23, 0, 0), datetime.datetime(2018, 6, 23, 0, 0), datetime.datetime(2018, 6, 22, 0, 0), datetime.datetime(2018, 6, 22, 0, 0), datetime.datetime(2018, 6, 22, 0, 0), datetime.datetime(2018, 6, 22, 0, 0), datetime.datetime(2018, 6, 22, 0, 0), datetime.datetime(2018, 6, 22, 0, 0), datetime.datetime(2018, 6, 22, 0, 0), datetime.datetime(2018, 6, 22, 0, 0), datetime.datetime(2018, 6, 22, 0, 0), datetime.datetime(2018, 6, 22, 0, 0), datetime.datetime(2018, 6, 22, 0, 0), datetime.datetime(2018, 6, 22, 0, 0), datetime.datetime(2018, 6, 21, 0, 0), datetime.datetime(2018, 6, 21, 0, 0), datetime.datetime(2018, 6, 21, 0, 0), datetime.datetime(2018, 6, 21, 0, 0), datetime.datetime(2018, 6, 21, 0, 0), datetime.datetime(2018, 6, 21, 0, 0), datetime.datetime(2018, 6, 21, 0, 0), datetime.datetime(2018, 6, 21, 0, 0), datetime.datetime(2018, 6, 21, 0, 0), datetime.datetime(2018, 6, 21, 0, 0), datetime.datetime(2018, 6, 21, 0, 0), datetime.datetime(2018, 6, 21, 0, 0), datetime.datetime(2018, 6, 21, 0, 0), datetime.datetime(2018, 6, 21, 0, 0), datetime.datetime(2018, 6, 21, 0, 0), datetime.datetime(2018, 6, 21, 0, 0), datetime.datetime(2018, 6, 21, 0, 0), datetime.datetime(2018, 6, 21, 0, 0), datetime.datetime(2018, 6, 20, 0, 0), datetime.datetime(2018, 6, 20, 0, 0), datetime.datetime(2018, 6, 20, 0, 0), datetime.datetime(2018, 6, 20, 0, 0), datetime.datetime(2018, 6, 20, 0, 0), datetime.datetime(2018, 6, 20, 0, 0), datetime.datetime(2018, 6, 20, 0, 0), datetime.datetime(2018, 6, 19, 0, 0), datetime.datetime(2018, 6, 19, 0, 0), datetime.datetime(2018, 6, 19, 0, 0), datetime.datetime(2018, 6, 19, 0, 0), datetime.datetime(2018, 6, 19, 0, 0), datetime.datetime(2018, 6, 19, 0, 0), datetime.datetime(2018, 6, 19, 0, 0), datetime.datetime(2018, 6, 19, 0, 0), datetime.datetime(2018, 6, 18, 0, 0), datetime.datetime(2018, 6, 18, 0, 0), datetime.datetime(2018, 6, 18, 0, 0), datetime.datetime(2018, 6, 18, 0, 0), datetime.datetime(2018, 6, 18, 0, 0), datetime.datetime(2018, 6, 18, 0, 0), datetime.datetime(2018, 6, 18, 0, 0), datetime.datetime(2018, 6, 17, 0, 0), datetime.datetime(2018, 6, 17, 0, 0), datetime.datetime(2018, 6, 17, 0, 0), datetime.datetime(2018, 6, 17, 0, 0), datetime.datetime(2018, 6, 17, 0, 0), datetime.datetime(2018, 6, 17, 0, 0), datetime.datetime(2018, 6, 17, 0, 0), datetime.datetime(2018, 6, 16, 0, 0), datetime.datetime(2018, 6, 16, 0, 0), datetime.datetime(2018, 6, 16, 0, 0), datetime.datetime(2018, 6, 16, 0, 0), datetime.datetime(2018, 6, 16, 0, 0), datetime.datetime(2018, 6, 16, 0, 0), datetime.datetime(2018, 6, 16, 0, 0), datetime.datetime(2018, 6, 16, 0, 0), datetime.datetime(2018, 6, 16, 0, 0), datetime.datetime(2018, 6, 16, 0, 0), datetime.datetime(2018, 6, 16, 0, 0), datetime.datetime(2018, 6, 15, 0, 0), datetime.datetime(2018, 6, 15, 0, 0), datetime.datetime(2018, 6, 15, 0, 0), datetime.datetime(2018, 6, 15, 0, 0), datetime.datetime(2018, 6, 15, 0, 0), datetime.datetime(2018, 6, 15, 0, 0), datetime.datetime(2018, 6, 15, 0, 0), datetime.datetime(2018, 6, 15, 0, 0), datetime.datetime(2018, 6, 15, 0, 0), datetime.datetime(2018, 6, 15, 0, 0), datetime.datetime(2018, 6, 14, 0, 0), datetime.datetime(2018, 6, 14, 0, 0), datetime.datetime(2018, 6, 14, 0, 0), datetime.datetime(2018, 6, 14, 0, 0), datetime.datetime(2018, 6, 14, 0, 0), datetime.datetime(2018, 6, 14, 0, 0), datetime.datetime(2018, 6, 14, 0, 0), datetime.datetime(2018, 6, 13, 0, 0), datetime.datetime(2018, 6, 13, 0, 0), datetime.datetime(2018, 6, 13, 0, 0), datetime.datetime(2018, 6, 13, 0, 0), datetime.datetime(2018, 6, 13, 0, 0), datetime.datetime(2018, 6, 13, 0, 0), datetime.datetime(2018, 6, 13, 0, 0), datetime.datetime(2018, 6, 13, 0, 0), datetime.datetime(2018, 6, 13, 0, 0), datetime.datetime(2018, 6, 13, 0, 0), datetime.datetime(2018, 6, 13, 0, 0), datetime.datetime(2018, 6, 13, 0, 0), datetime.datetime(2018, 6, 13, 0, 0), datetime.datetime(2018, 6, 13, 0, 0), datetime.datetime(2018, 6, 13, 0, 0), datetime.datetime(2018, 6, 13, 0, 0), datetime.datetime(2018, 6, 13, 0, 0), datetime.datetime(2018, 6, 13, 0, 0), datetime.datetime(2018, 6, 12, 0, 0), datetime.datetime(2018, 6, 12, 0, 0), datetime.datetime(2018, 6, 12, 0, 0), datetime.datetime(2018, 6, 12, 0, 0), datetime.datetime(2018, 6, 12, 0, 0), datetime.datetime(2018, 6, 12, 0, 0), datetime.datetime(2018, 6, 12, 0, 0), datetime.datetime(2018, 6, 11, 0, 0), datetime.datetime(2018, 6, 11, 0, 0), datetime.datetime(2018, 6, 11, 0, 0), datetime.datetime(2018, 6, 11, 0, 0), datetime.datetime(2018, 6, 10, 0, 0), datetime.datetime(2018, 6, 10, 0, 0), datetime.datetime(2018, 6, 9, 0, 0), datetime.datetime(2018, 6, 9, 0, 0), datetime.datetime(2018, 6, 9, 0, 0), datetime.datetime(2018, 6, 9, 0, 0), datetime.datetime(2018, 6, 9, 0, 0), datetime.datetime(2018, 6, 8, 0, 0), datetime.datetime(2018, 6, 8, 0, 0), datetime.datetime(2018, 6, 8, 0, 0), datetime.datetime(2018, 6, 8, 0, 0), datetime.datetime(2018, 6, 8, 0, 0), datetime.datetime(2018, 6, 8, 0, 0), datetime.datetime(2018, 6, 8, 0, 0), datetime.datetime(2018, 6, 8, 0, 0), datetime.datetime(2018, 6, 8, 0, 0), datetime.datetime(2018, 6, 8, 0, 0), datetime.datetime(2018, 6, 8, 0, 0), datetime.datetime(2018, 6, 8, 0, 0), datetime.datetime(2018, 6, 8, 0, 0), datetime.datetime(2018, 6, 7, 0, 0), datetime.datetime(2018, 6, 7, 0, 0), datetime.datetime(2018, 6, 7, 0, 0), datetime.datetime(2018, 6, 7, 0, 0), datetime.datetime(2018, 6, 7, 0, 0), datetime.datetime(2018, 6, 7, 0, 0), datetime.datetime(2018, 6, 7, 0, 0), datetime.datetime(2018, 6, 7, 0, 0), datetime.datetime(2018, 6, 7, 0, 0), datetime.datetime(2018, 6, 7, 0, 0), datetime.datetime(2018, 6, 7, 0, 0), datetime.datetime(2018, 6, 7, 0, 0), datetime.datetime(2018, 6, 6, 0, 0), datetime.datetime(2018, 6, 6, 0, 0), datetime.datetime(2018, 6, 6, 0, 0), datetime.datetime(2018, 6, 6, 0, 0), datetime.datetime(2018, 6, 6, 0, 0), datetime.datetime(2018, 6, 6, 0, 0), datetime.datetime(2018, 6, 6, 0, 0), datetime.datetime(2018, 6, 6, 0, 0), datetime.datetime(2018, 6, 6, 0, 0), datetime.datetime(2018, 6, 6, 0, 0), datetime.datetime(2018, 6, 6, 0, 0), datetime.datetime(2018, 6, 6, 0, 0), datetime.datetime(2018, 6, 6, 0, 0), datetime.datetime(2018, 6, 5, 0, 0), datetime.datetime(2018, 6, 5, 0, 0), datetime.datetime(2018, 6, 5, 0, 0), datetime.datetime(2018, 6, 5, 0, 0), datetime.datetime(2018, 6, 5, 0, 0), datetime.datetime(2018, 6, 5, 0, 0), datetime.datetime(2018, 6, 4, 0, 0), datetime.datetime(2018, 6, 4, 0, 0), datetime.datetime(2018, 6, 4, 0, 0), datetime.datetime(2018, 6, 4, 0, 0), datetime.datetime(2018, 6, 4, 0, 0), datetime.datetime(2018, 6, 4, 0, 0), datetime.datetime(2018, 6, 4, 0, 0), datetime.datetime(2018, 6, 4, 0, 0), datetime.datetime(2018, 6, 4, 0, 0), datetime.datetime(2018, 6, 4, 0, 0), datetime.datetime(2018, 6, 4, 0, 0), datetime.datetime(2018, 6, 4, 0, 0), datetime.datetime(2018, 6, 4, 0, 0), datetime.datetime(2018, 6, 4, 0, 0), datetime.datetime(2018, 6, 3, 0, 0), datetime.datetime(2018, 6, 3, 0, 0), datetime.datetime(2018, 6, 3, 0, 0), datetime.datetime(2018, 6, 3, 0, 0), datetime.datetime(2018, 6, 3, 0, 0), datetime.datetime(2018, 6, 2, 0, 0), datetime.datetime(2018, 6, 2, 0, 0), datetime.datetime(2018, 6, 2, 0, 0), datetime.datetime(2018, 6, 2, 0, 0), datetime.datetime(2018, 6, 2, 0, 0), datetime.datetime(2018, 6, 2, 0, 0), datetime.datetime(2018, 6, 1, 0, 0), datetime.datetime(2018, 6, 1, 0, 0), datetime.datetime(2018, 6, 1, 0, 0), datetime.datetime(2018, 6, 1, 0, 0), datetime.datetime(2018, 6, 1, 0, 0), datetime.datetime(2018, 6, 1, 0, 0), datetime.datetime(2018, 6, 1, 0, 0), datetime.datetime(2018, 6, 1, 0, 0), datetime.datetime(2018, 5, 31, 0, 0), datetime.datetime(2018, 5, 31, 0, 0), datetime.datetime(2018, 5, 31, 0, 0), datetime.datetime(2018, 5, 31, 0, 0), datetime.datetime(2018, 5, 31, 0, 0), datetime.datetime(2018, 5, 31, 0, 0), datetime.datetime(2018, 5, 31, 0, 0), datetime.datetime(2018, 5, 31, 0, 0), datetime.datetime(2018, 5, 31, 0, 0), datetime.datetime(2018, 5, 31, 0, 0), datetime.datetime(2018, 5, 31, 0, 0), datetime.datetime(2018, 5, 30, 0, 0), datetime.datetime(2018, 5, 30, 0, 0), datetime.datetime(2018, 5, 30, 0, 0), datetime.datetime(2018, 5, 30, 0, 0), datetime.datetime(2018, 5, 30, 0, 0), datetime.datetime(2018, 5, 30, 0, 0), datetime.datetime(2018, 5, 30, 0, 0), datetime.datetime(2018, 5, 30, 0, 0), datetime.datetime(2018, 5, 30, 0, 0), datetime.datetime(2018, 5, 30, 0, 0), datetime.datetime(2018, 5, 30, 0, 0), datetime.datetime(2018, 5, 30, 0, 0), datetime.datetime(2018, 5, 30, 0, 0), datetime.datetime(2018, 5, 30, 0, 0), datetime.datetime(2018, 5, 30, 0, 0), datetime.datetime(2018, 5, 30, 0, 0), datetime.datetime(2018, 5, 30, 0, 0), datetime.datetime(2018, 5, 30, 0, 0), datetime.datetime(2018, 5, 30, 0, 0), datetime.datetime(2018, 5, 29, 0, 0), datetime.datetime(2018, 5, 29, 0, 0), datetime.datetime(2018, 5, 29, 0, 0), datetime.datetime(2018, 5, 29, 0, 0), datetime.datetime(2018, 5, 29, 0, 0), datetime.datetime(2018, 5, 29, 0, 0), datetime.datetime(2018, 5, 29, 0, 0), datetime.datetime(2018, 5, 29, 0, 0), datetime.datetime(2018, 5, 29, 0, 0), datetime.datetime(2018, 5, 29, 0, 0), datetime.datetime(2018, 5, 29, 0, 0), datetime.datetime(2018, 5, 29, 0, 0), datetime.datetime(2018, 5, 29, 0, 0), datetime.datetime(2018, 5, 29, 0, 0), datetime.datetime(2018, 5, 29, 0, 0), datetime.datetime(2018, 5, 29, 0, 0), datetime.datetime(2018, 5, 28, 0, 0), datetime.datetime(2018, 5, 28, 0, 0), datetime.datetime(2018, 5, 28, 0, 0), datetime.datetime(2018, 5, 28, 0, 0), datetime.datetime(2018, 5, 28, 0, 0), datetime.datetime(2018, 5, 28, 0, 0), datetime.datetime(2018, 5, 28, 0, 0), datetime.datetime(2018, 5, 28, 0, 0), datetime.datetime(2018, 5, 28, 0, 0), datetime.datetime(2018, 5, 28, 0, 0), datetime.datetime(2018, 5, 28, 0, 0), datetime.datetime(2018, 5, 28, 0, 0), datetime.datetime(2018, 5, 27, 0, 0), datetime.datetime(2018, 5, 27, 0, 0), datetime.datetime(2018, 5, 27, 0, 0), datetime.datetime(2018, 5, 27, 0, 0), datetime.datetime(2018, 5, 27, 0, 0), datetime.datetime(2018, 5, 27, 0, 0), datetime.datetime(2018, 5, 26, 0, 0), datetime.datetime(2018, 5, 26, 0, 0), datetime.datetime(2018, 5, 26, 0, 0), datetime.datetime(2018, 5, 26, 0, 0), datetime.datetime(2018, 5, 26, 0, 0), datetime.datetime(2018, 5, 25, 0, 0), datetime.datetime(2018, 5, 25, 0, 0), datetime.datetime(2018, 5, 25, 0, 0), datetime.datetime(2018, 5, 25, 0, 0), datetime.datetime(2018, 5, 25, 0, 0), datetime.datetime(2018, 5, 25, 0, 0), datetime.datetime(2018, 5, 25, 0, 0), datetime.datetime(2018, 5, 25, 0, 0), datetime.datetime(2018, 5, 25, 0, 0), datetime.datetime(2018, 5, 25, 0, 0), datetime.datetime(2018, 5, 25, 0, 0), datetime.datetime(2018, 5, 25, 0, 0), datetime.datetime(2018, 5, 25, 0, 0), datetime.datetime(2018, 5, 25, 0, 0), datetime.datetime(2018, 5, 25, 0, 0), datetime.datetime(2018, 5, 25, 0, 0), datetime.datetime(2018, 5, 24, 0, 0), datetime.datetime(2018, 5, 24, 0, 0), datetime.datetime(2018, 5, 24, 0, 0), datetime.datetime(2018, 5, 24, 0, 0), datetime.datetime(2018, 5, 24, 0, 0), datetime.datetime(2018, 5, 24, 0, 0), datetime.datetime(2018, 5, 24, 0, 0), datetime.datetime(2018, 5, 23, 0, 0), datetime.datetime(2018, 5, 23, 0, 0), datetime.datetime(2018, 5, 23, 0, 0), datetime.datetime(2018, 5, 23, 0, 0), datetime.datetime(2018, 5, 23, 0, 0), datetime.datetime(2018, 5, 23, 0, 0), datetime.datetime(2018, 5, 23, 0, 0), datetime.datetime(2018, 5, 23, 0, 0), datetime.datetime(2018, 5, 23, 0, 0), datetime.datetime(2018, 5, 23, 0, 0), datetime.datetime(2018, 5, 23, 0, 0), datetime.datetime(2018, 5, 23, 0, 0), datetime.datetime(2018, 5, 22, 0, 0), datetime.datetime(2018, 5, 22, 0, 0), datetime.datetime(2018, 5, 22, 0, 0), datetime.datetime(2018, 5, 22, 0, 0), datetime.datetime(2018, 5, 22, 0, 0), datetime.datetime(2018, 5, 22, 0, 0), datetime.datetime(2018, 5, 22, 0, 0), datetime.datetime(2018, 5, 22, 0, 0), datetime.datetime(2018, 5, 22, 0, 0), datetime.datetime(2018, 5, 22, 0, 0), datetime.datetime(2018, 5, 22, 0, 0), datetime.datetime(2018, 5, 22, 0, 0), datetime.datetime(2018, 5, 22, 0, 0), datetime.datetime(2018, 5, 21, 0, 0), datetime.datetime(2018, 5, 21, 0, 0), datetime.datetime(2018, 5, 21, 0, 0), datetime.datetime(2018, 5, 21, 0, 0), datetime.datetime(2018, 5, 21, 0, 0), datetime.datetime(2018, 5, 21, 0, 0), datetime.datetime(2018, 5, 21, 0, 0), datetime.datetime(2018, 5, 21, 0, 0), datetime.datetime(2018, 5, 21, 0, 0), datetime.datetime(2018, 5, 21, 0, 0), datetime.datetime(2018, 5, 21, 0, 0), datetime.datetime(2018, 5, 21, 0, 0), datetime.datetime(2018, 5, 21, 0, 0), datetime.datetime(2018, 5, 21, 0, 0), datetime.datetime(2018, 5, 21, 0, 0), datetime.datetime(2018, 5, 21, 0, 0), datetime.datetime(2018, 5, 21, 0, 0), datetime.datetime(2018, 5, 21, 0, 0), datetime.datetime(2018, 5, 21, 0, 0), datetime.datetime(2018, 5, 20, 0, 0), datetime.datetime(2018, 5, 20, 0, 0), datetime.datetime(2018, 5, 20, 0, 0), datetime.datetime(2018, 5, 20, 0, 0), datetime.datetime(2018, 5, 20, 0, 0), datetime.datetime(2018, 5, 19, 0, 0), datetime.datetime(2018, 5, 19, 0, 0), datetime.datetime(2018, 5, 19, 0, 0), datetime.datetime(2018, 5, 18, 0, 0), datetime.datetime(2018, 5, 18, 0, 0), datetime.datetime(2018, 5, 18, 0, 0), datetime.datetime(2018, 5, 18, 0, 0), datetime.datetime(2018, 5, 18, 0, 0), datetime.datetime(2018, 5, 18, 0, 0), datetime.datetime(2018, 5, 18, 0, 0), datetime.datetime(2018, 5, 18, 0, 0), datetime.datetime(2018, 5, 17, 0, 0), datetime.datetime(2018, 5, 17, 0, 0), datetime.datetime(2018, 5, 17, 0, 0), datetime.datetime(2018, 5, 17, 0, 0), datetime.datetime(2018, 5, 17, 0, 0), datetime.datetime(2018, 5, 17, 0, 0), datetime.datetime(2018, 5, 17, 0, 0), datetime.datetime(2018, 5, 17, 0, 0), datetime.datetime(2018, 5, 17, 0, 0), datetime.datetime(2018, 5, 17, 0, 0), datetime.datetime(2018, 5, 17, 0, 0), datetime.datetime(2018, 5, 16, 0, 0), datetime.datetime(2018, 5, 16, 0, 0), datetime.datetime(2018, 5, 16, 0, 0), datetime.datetime(2018, 5, 16, 0, 0), datetime.datetime(2018, 5, 16, 0, 0), datetime.datetime(2018, 5, 16, 0, 0), datetime.datetime(2018, 5, 16, 0, 0), datetime.datetime(2018, 5, 16, 0, 0), datetime.datetime(2018, 5, 16, 0, 0), datetime.datetime(2018, 5, 16, 0, 0), datetime.datetime(2018, 5, 16, 0, 0), datetime.datetime(2018, 5, 16, 0, 0), datetime.datetime(2018, 5, 16, 0, 0), datetime.datetime(2018, 5, 16, 0, 0), datetime.datetime(2018, 5, 16, 0, 0), datetime.datetime(2018, 5, 15, 0, 0), datetime.datetime(2018, 5, 15, 0, 0), datetime.datetime(2018, 5, 15, 0, 0), datetime.datetime(2018, 5, 15, 0, 0), datetime.datetime(2018, 5, 15, 0, 0), datetime.datetime(2018, 5, 15, 0, 0), datetime.datetime(2018, 5, 15, 0, 0), datetime.datetime(2018, 5, 15, 0, 0), datetime.datetime(2018, 5, 15, 0, 0), datetime.datetime(2018, 5, 15, 0, 0), datetime.datetime(2018, 5, 15, 0, 0), datetime.datetime(2018, 5, 15, 0, 0), datetime.datetime(2018, 5, 15, 0, 0), datetime.datetime(2018, 5, 15, 0, 0), datetime.datetime(2018, 5, 15, 0, 0), datetime.datetime(2018, 5, 15, 0, 0), datetime.datetime(2018, 5, 15, 0, 0), datetime.datetime(2018, 5, 15, 0, 0), datetime.datetime(2018, 5, 14, 0, 0), datetime.datetime(2018, 5, 14, 0, 0), datetime.datetime(2018, 5, 14, 0, 0), datetime.datetime(2018, 5, 14, 0, 0), datetime.datetime(2018, 5, 14, 0, 0), datetime.datetime(2018, 5, 14, 0, 0), datetime.datetime(2018, 5, 14, 0, 0), datetime.datetime(2018, 5, 14, 0, 0), datetime.datetime(2018, 5, 14, 0, 0), datetime.datetime(2018, 5, 14, 0, 0), datetime.datetime(2018, 5, 14, 0, 0), datetime.datetime(2018, 5, 14, 0, 0), datetime.datetime(2018, 5, 14, 0, 0), datetime.datetime(2018, 5, 14, 0, 0), datetime.datetime(2018, 5, 13, 0, 0), datetime.datetime(2018, 5, 13, 0, 0), datetime.datetime(2018, 5, 13, 0, 0), datetime.datetime(2018, 5, 13, 0, 0), datetime.datetime(2018, 5, 13, 0, 0), datetime.datetime(2018, 5, 13, 0, 0), datetime.datetime(2018, 5, 12, 0, 0), datetime.datetime(2018, 5, 12, 0, 0), datetime.datetime(2018, 5, 12, 0, 0), datetime.datetime(2018, 5, 12, 0, 0), datetime.datetime(2018, 5, 11, 0, 0), datetime.datetime(2018, 5, 11, 0, 0), datetime.datetime(2018, 5, 11, 0, 0), datetime.datetime(2018, 5, 11, 0, 0), datetime.datetime(2018, 5, 11, 0, 0), datetime.datetime(2018, 5, 11, 0, 0), datetime.datetime(2018, 5, 11, 0, 0), datetime.datetime(2018, 5, 11, 0, 0), datetime.datetime(2018, 5, 11, 0, 0), datetime.datetime(2018, 5, 11, 0, 0), datetime.datetime(2018, 5, 11, 0, 0), datetime.datetime(2018, 5, 11, 0, 0), datetime.datetime(2018, 5, 11, 0, 0), datetime.datetime(2018, 5, 11, 0, 0), datetime.datetime(2018, 5, 10, 0, 0), datetime.datetime(2018, 5, 10, 0, 0), datetime.datetime(2018, 5, 10, 0, 0), datetime.datetime(2018, 5, 10, 0, 0), datetime.datetime(2018, 5, 10, 0, 0), datetime.datetime(2018, 5, 10, 0, 0), datetime.datetime(2018, 5, 10, 0, 0), datetime.datetime(2018, 5, 10, 0, 0), datetime.datetime(2018, 5, 10, 0, 0), datetime.datetime(2018, 5, 10, 0, 0), datetime.datetime(2018, 5, 10, 0, 0), datetime.datetime(2018, 5, 10, 0, 0), datetime.datetime(2018, 5, 10, 0, 0), datetime.datetime(2018, 5, 10, 0, 0), datetime.datetime(2018, 5, 10, 0, 0), datetime.datetime(2018, 5, 9, 0, 0), datetime.datetime(2018, 5, 9, 0, 0), datetime.datetime(2018, 5, 9, 0, 0), datetime.datetime(2018, 5, 9, 0, 0), datetime.datetime(2018, 5, 9, 0, 0), datetime.datetime(2018, 5, 8, 0, 0), datetime.datetime(2018, 5, 8, 0, 0), datetime.datetime(2018, 5, 8, 0, 0), datetime.datetime(2018, 5, 8, 0, 0), datetime.datetime(2018, 5, 8, 0, 0), datetime.datetime(2018, 5, 8, 0, 0), datetime.datetime(2018, 5, 8, 0, 0), datetime.datetime(2018, 5, 8, 0, 0), datetime.datetime(2018, 5, 8, 0, 0), datetime.datetime(2018, 5, 8, 0, 0), datetime.datetime(2018, 5, 8, 0, 0), datetime.datetime(2018, 5, 8, 0, 0), datetime.datetime(2018, 5, 8, 0, 0), datetime.datetime(2018, 5, 7, 0, 0), datetime.datetime(2018, 5, 7, 0, 0), datetime.datetime(2018, 5, 7, 0, 0), datetime.datetime(2018, 5, 7, 0, 0), datetime.datetime(2018, 5, 7, 0, 0), datetime.datetime(2018, 5, 7, 0, 0), datetime.datetime(2018, 5, 7, 0, 0), datetime.datetime(2018, 5, 7, 0, 0), datetime.datetime(2018, 5, 7, 0, 0), datetime.datetime(2018, 5, 7, 0, 0), datetime.datetime(2018, 5, 7, 0, 0), datetime.datetime(2018, 5, 7, 0, 0), datetime.datetime(2018, 5, 7, 0, 0), datetime.datetime(2018, 5, 7, 0, 0), datetime.datetime(2018, 5, 7, 0, 0), datetime.datetime(2018, 5, 7, 0, 0), datetime.datetime(2018, 5, 7, 0, 0), datetime.datetime(2018, 5, 7, 0, 0), datetime.datetime(2018, 5, 7, 0, 0), datetime.datetime(2018, 5, 7, 0, 0), datetime.datetime(2018, 5, 6, 0, 0), datetime.datetime(2018, 5, 6, 0, 0), datetime.datetime(2018, 5, 6, 0, 0), datetime.datetime(2018, 5, 6, 0, 0), datetime.datetime(2018, 5, 6, 0, 0), datetime.datetime(2018, 5, 6, 0, 0), datetime.datetime(2018, 5, 6, 0, 0), datetime.datetime(2018, 5, 6, 0, 0), datetime.datetime(2018, 5, 6, 0, 0), datetime.datetime(2018, 5, 5, 0, 0), datetime.datetime(2018, 5, 5, 0, 0), datetime.datetime(2018, 5, 5, 0, 0), datetime.datetime(2018, 5, 5, 0, 0), datetime.datetime(2018, 5, 5, 0, 0), datetime.datetime(2018, 5, 5, 0, 0), datetime.datetime(2018, 5, 5, 0, 0), datetime.datetime(2018, 5, 5, 0, 0), datetime.datetime(2018, 5, 5, 0, 0), datetime.datetime(2018, 5, 4, 0, 0), datetime.datetime(2018, 5, 4, 0, 0), datetime.datetime(2018, 5, 4, 0, 0), datetime.datetime(2018, 5, 4, 0, 0), datetime.datetime(2018, 5, 4, 0, 0), datetime.datetime(2018, 5, 4, 0, 0), datetime.datetime(2018, 5, 4, 0, 0), datetime.datetime(2018, 5, 4, 0, 0), datetime.datetime(2018, 5, 4, 0, 0), datetime.datetime(2018, 5, 4, 0, 0), datetime.datetime(2018, 5, 3, 0, 0), datetime.datetime(2018, 5, 3, 0, 0), datetime.datetime(2018, 5, 3, 0, 0), datetime.datetime(2018, 5, 3, 0, 0), datetime.datetime(2018, 5, 3, 0, 0), datetime.datetime(2018, 5, 3, 0, 0), datetime.datetime(2018, 5, 3, 0, 0), datetime.datetime(2018, 5, 3, 0, 0), datetime.datetime(2018, 5, 3, 0, 0), datetime.datetime(2018, 5, 3, 0, 0), datetime.datetime(2018, 5, 2, 0, 0), datetime.datetime(2018, 5, 2, 0, 0), datetime.datetime(2018, 5, 2, 0, 0), datetime.datetime(2018, 5, 2, 0, 0), datetime.datetime(2018, 5, 1, 0, 0), datetime.datetime(2018, 5, 1, 0, 0), datetime.datetime(2018, 5, 1, 0, 0), datetime.datetime(2018, 4, 30, 0, 0), datetime.datetime(2018, 4, 30, 0, 0), datetime.datetime(2018, 4, 30, 0, 0), datetime.datetime(2018, 4, 30, 0, 0), datetime.datetime(2018, 4, 30, 0, 0), datetime.datetime(2018, 4, 29, 0, 0), datetime.datetime(2018, 4, 29, 0, 0), datetime.datetime(2018, 4, 28, 0, 0), datetime.datetime(2018, 4, 28, 0, 0), datetime.datetime(2018, 4, 28, 0, 0), datetime.datetime(2018, 4, 28, 0, 0), datetime.datetime(2018, 4, 28, 0, 0), datetime.datetime(2018, 4, 28, 0, 0), datetime.datetime(2018, 4, 28, 0, 0), datetime.datetime(2018, 4, 28, 0, 0), datetime.datetime(2018, 4, 28, 0, 0), datetime.datetime(2018, 4, 28, 0, 0), datetime.datetime(2018, 4, 27, 0, 0), datetime.datetime(2018, 4, 27, 0, 0), datetime.datetime(2018, 4, 27, 0, 0), datetime.datetime(2018, 4, 27, 0, 0), datetime.datetime(2018, 4, 27, 0, 0), datetime.datetime(2018, 4, 27, 0, 0), datetime.datetime(2018, 4, 27, 0, 0), datetime.datetime(2018, 4, 27, 0, 0), datetime.datetime(2018, 4, 27, 0, 0), datetime.datetime(2018, 4, 27, 0, 0), datetime.datetime(2018, 4, 27, 0, 0), datetime.datetime(2018, 4, 27, 0, 0), datetime.datetime(2018, 4, 27, 0, 0), datetime.datetime(2018, 4, 27, 0, 0), datetime.datetime(2018, 4, 27, 0, 0), datetime.datetime(2018, 4, 27, 0, 0), datetime.datetime(2018, 4, 26, 0, 0), datetime.datetime(2018, 4, 26, 0, 0), datetime.datetime(2018, 4, 26, 0, 0), datetime.datetime(2018, 4, 26, 0, 0), datetime.datetime(2018, 4, 26, 0, 0), datetime.datetime(2018, 4, 26, 0, 0), datetime.datetime(2018, 4, 26, 0, 0), datetime.datetime(2018, 4, 26, 0, 0), datetime.datetime(2018, 4, 26, 0, 0), datetime.datetime(2018, 4, 26, 0, 0), datetime.datetime(2018, 4, 26, 0, 0), datetime.datetime(2018, 4, 26, 0, 0), datetime.datetime(2018, 4, 26, 0, 0), datetime.datetime(2018, 4, 26, 0, 0), datetime.datetime(2018, 4, 26, 0, 0), datetime.datetime(2018, 4, 26, 0, 0), datetime.datetime(2018, 4, 26, 0, 0), datetime.datetime(2018, 4, 26, 0, 0), datetime.datetime(2018, 4, 26, 0, 0), datetime.datetime(2018, 4, 25, 0, 0), datetime.datetime(2018, 4, 25, 0, 0), datetime.datetime(2018, 4, 25, 0, 0), datetime.datetime(2018, 4, 25, 0, 0), datetime.datetime(2018, 4, 25, 0, 0), datetime.datetime(2018, 4, 25, 0, 0), datetime.datetime(2018, 4, 25, 0, 0), datetime.datetime(2018, 4, 25, 0, 0), datetime.datetime(2018, 4, 25, 0, 0), datetime.datetime(2018, 4, 25, 0, 0), datetime.datetime(2018, 4, 24, 0, 0), datetime.datetime(2018, 4, 24, 0, 0), datetime.datetime(2018, 4, 24, 0, 0), datetime.datetime(2018, 4, 24, 0, 0), datetime.datetime(2018, 4, 24, 0, 0), datetime.datetime(2018, 4, 24, 0, 0), datetime.datetime(2018, 4, 24, 0, 0), datetime.datetime(2018, 4, 24, 0, 0), datetime.datetime(2018, 4, 24, 0, 0), datetime.datetime(2018, 4, 24, 0, 0), datetime.datetime(2018, 4, 24, 0, 0), datetime.datetime(2018, 4, 24, 0, 0), datetime.datetime(2018, 4, 23, 0, 0), datetime.datetime(2018, 4, 23, 0, 0), datetime.datetime(2018, 4, 23, 0, 0), datetime.datetime(2018, 4, 23, 0, 0), datetime.datetime(2018, 4, 23, 0, 0), datetime.datetime(2018, 4, 23, 0, 0), datetime.datetime(2018, 4, 23, 0, 0), datetime.datetime(2018, 4, 23, 0, 0), datetime.datetime(2018, 4, 23, 0, 0), datetime.datetime(2018, 4, 23, 0, 0), datetime.datetime(2018, 4, 23, 0, 0), datetime.datetime(2018, 4, 23, 0, 0), datetime.datetime(2018, 4, 23, 0, 0), datetime.datetime(2018, 4, 23, 0, 0), datetime.datetime(2018, 4, 23, 0, 0), datetime.datetime(2018, 4, 23, 0, 0), datetime.datetime(2018, 4, 23, 0, 0), datetime.datetime(2018, 4, 23, 0, 0), datetime.datetime(2018, 4, 23, 0, 0), datetime.datetime(2018, 4, 23, 0, 0), datetime.datetime(2018, 4, 23, 0, 0), datetime.datetime(2018, 4, 22, 0, 0), datetime.datetime(2018, 4, 22, 0, 0), datetime.datetime(2018, 4, 22, 0, 0), datetime.datetime(2018, 4, 22, 0, 0), datetime.datetime(2018, 4, 22, 0, 0), datetime.datetime(2018, 4, 21, 0, 0), datetime.datetime(2018, 4, 21, 0, 0), datetime.datetime(2018, 4, 21, 0, 0), datetime.datetime(2018, 4, 20, 0, 0), datetime.datetime(2018, 4, 20, 0, 0), datetime.datetime(2018, 4, 20, 0, 0), datetime.datetime(2018, 4, 20, 0, 0), datetime.datetime(2018, 4, 20, 0, 0), datetime.datetime(2018, 4, 20, 0, 0), datetime.datetime(2018, 4, 20, 0, 0), datetime.datetime(2018, 4, 20, 0, 0), datetime.datetime(2018, 4, 20, 0, 0), datetime.datetime(2018, 4, 19, 0, 0), datetime.datetime(2018, 4, 19, 0, 0), datetime.datetime(2018, 4, 19, 0, 0), datetime.datetime(2018, 4, 19, 0, 0), datetime.datetime(2018, 4, 19, 0, 0), datetime.datetime(2018, 4, 19, 0, 0), datetime.datetime(2018, 4, 19, 0, 0), datetime.datetime(2018, 4, 19, 0, 0), datetime.datetime(2018, 4, 19, 0, 0), datetime.datetime(2018, 4, 18, 0, 0), datetime.datetime(2018, 4, 18, 0, 0), datetime.datetime(2018, 4, 18, 0, 0), datetime.datetime(2018, 4, 18, 0, 0), datetime.datetime(2018, 4, 18, 0, 0), datetime.datetime(2018, 4, 18, 0, 0), datetime.datetime(2018, 4, 18, 0, 0), datetime.datetime(2018, 4, 18, 0, 0), datetime.datetime(2018, 4, 18, 0, 0), datetime.datetime(2018, 4, 18, 0, 0), datetime.datetime(2018, 4, 18, 0, 0), datetime.datetime(2018, 4, 18, 0, 0), datetime.datetime(2018, 4, 18, 0, 0), datetime.datetime(2018, 4, 17, 0, 0), datetime.datetime(2018, 4, 17, 0, 0), datetime.datetime(2018, 4, 17, 0, 0), datetime.datetime(2018, 4, 17, 0, 0), datetime.datetime(2018, 4, 17, 0, 0), datetime.datetime(2018, 4, 17, 0, 0), datetime.datetime(2018, 4, 17, 0, 0), datetime.datetime(2018, 4, 17, 0, 0), datetime.datetime(2018, 4, 17, 0, 0), datetime.datetime(2018, 4, 17, 0, 0), datetime.datetime(2018, 4, 17, 0, 0), datetime.datetime(2018, 4, 17, 0, 0), datetime.datetime(2018, 4, 17, 0, 0), datetime.datetime(2018, 4, 17, 0, 0), datetime.datetime(2018, 4, 17, 0, 0), datetime.datetime(2018, 4, 16, 0, 0), datetime.datetime(2018, 4, 16, 0, 0), datetime.datetime(2018, 4, 16, 0, 0), datetime.datetime(2018, 4, 16, 0, 0), datetime.datetime(2018, 4, 16, 0, 0), datetime.datetime(2018, 4, 16, 0, 0), datetime.datetime(2018, 4, 16, 0, 0), datetime.datetime(2018, 4, 16, 0, 0), datetime.datetime(2018, 4, 16, 0, 0), datetime.datetime(2018, 4, 15, 0, 0), datetime.datetime(2018, 4, 15, 0, 0), datetime.datetime(2018, 4, 15, 0, 0), datetime.datetime(2018, 4, 15, 0, 0), datetime.datetime(2018, 4, 14, 0, 0), datetime.datetime(2018, 4, 14, 0, 0), datetime.datetime(2018, 4, 14, 0, 0), datetime.datetime(2018, 4, 14, 0, 0), datetime.datetime(2018, 4, 14, 0, 0), datetime.datetime(2018, 4, 14, 0, 0), datetime.datetime(2018, 4, 14, 0, 0), datetime.datetime(2018, 4, 14, 0, 0), datetime.datetime(2018, 4, 13, 0, 0), datetime.datetime(2018, 4, 13, 0, 0), datetime.datetime(2018, 4, 13, 0, 0), datetime.datetime(2018, 4, 13, 0, 0), datetime.datetime(2018, 4, 13, 0, 0), datetime.datetime(2018, 4, 13, 0, 0), datetime.datetime(2018, 4, 13, 0, 0), datetime.datetime(2018, 4, 13, 0, 0), datetime.datetime(2018, 4, 12, 0, 0), datetime.datetime(2018, 4, 12, 0, 0), datetime.datetime(2018, 4, 12, 0, 0), datetime.datetime(2018, 4, 12, 0, 0), datetime.datetime(2018, 4, 12, 0, 0), datetime.datetime(2018, 4, 12, 0, 0), datetime.datetime(2018, 4, 12, 0, 0), datetime.datetime(2018, 4, 12, 0, 0), datetime.datetime(2018, 4, 12, 0, 0), datetime.datetime(2018, 4, 12, 0, 0), datetime.datetime(2018, 4, 12, 0, 0), datetime.datetime(2018, 4, 11, 0, 0), datetime.datetime(2018, 4, 11, 0, 0), datetime.datetime(2018, 4, 11, 0, 0), datetime.datetime(2018, 4, 11, 0, 0), datetime.datetime(2018, 4, 11, 0, 0), datetime.datetime(2018, 4, 11, 0, 0), datetime.datetime(2018, 4, 11, 0, 0), datetime.datetime(2018, 4, 11, 0, 0), datetime.datetime(2018, 4, 11, 0, 0), datetime.datetime(2018, 4, 11, 0, 0), datetime.datetime(2018, 4, 10, 0, 0), datetime.datetime(2018, 4, 10, 0, 0), datetime.datetime(2018, 4, 10, 0, 0), datetime.datetime(2018, 4, 10, 0, 0), datetime.datetime(2018, 4, 10, 0, 0), datetime.datetime(2018, 4, 10, 0, 0), datetime.datetime(2018, 4, 10, 0, 0), datetime.datetime(2018, 4, 10, 0, 0), datetime.datetime(2018, 4, 10, 0, 0), datetime.datetime(2018, 4, 10, 0, 0), datetime.datetime(2018, 4, 10, 0, 0), datetime.datetime(2018, 4, 10, 0, 0), datetime.datetime(2018, 4, 10, 0, 0), datetime.datetime(2018, 4, 10, 0, 0), datetime.datetime(2018, 4, 9, 0, 0), datetime.datetime(2018, 4, 9, 0, 0), datetime.datetime(2018, 4, 9, 0, 0), datetime.datetime(2018, 4, 9, 0, 0), datetime.datetime(2018, 4, 9, 0, 0), datetime.datetime(2018, 4, 9, 0, 0), datetime.datetime(2018, 4, 9, 0, 0), datetime.datetime(2018, 4, 8, 0, 0), datetime.datetime(2018, 4, 8, 0, 0), datetime.datetime(2018, 4, 8, 0, 0), datetime.datetime(2018, 4, 8, 0, 0), datetime.datetime(2018, 4, 8, 0, 0), datetime.datetime(2018, 4, 8, 0, 0), datetime.datetime(2018, 4, 8, 0, 0), datetime.datetime(2018, 4, 7, 0, 0), datetime.datetime(2018, 4, 7, 0, 0), datetime.datetime(2018, 4, 7, 0, 0), datetime.datetime(2018, 4, 7, 0, 0), datetime.datetime(2018, 4, 7, 0, 0), datetime.datetime(2018, 4, 7, 0, 0), datetime.datetime(2018, 4, 6, 0, 0), datetime.datetime(2018, 4, 6, 0, 0), datetime.datetime(2018, 4, 6, 0, 0), datetime.datetime(2018, 4, 6, 0, 0), datetime.datetime(2018, 4, 6, 0, 0), datetime.datetime(2018, 4, 6, 0, 0), datetime.datetime(2018, 4, 5, 0, 0), datetime.datetime(2018, 4, 5, 0, 0), datetime.datetime(2018, 4, 5, 0, 0), datetime.datetime(2018, 4, 5, 0, 0), datetime.datetime(2018, 4, 5, 0, 0), datetime.datetime(2018, 4, 5, 0, 0), datetime.datetime(2018, 4, 5, 0, 0), datetime.datetime(2018, 4, 5, 0, 0), datetime.datetime(2018, 4, 5, 0, 0), datetime.datetime(2018, 4, 5, 0, 0), datetime.datetime(2018, 4, 5, 0, 0), datetime.datetime(2018, 4, 5, 0, 0), datetime.datetime(2018, 4, 5, 0, 0), datetime.datetime(2018, 4, 4, 0, 0), datetime.datetime(2018, 4, 4, 0, 0), datetime.datetime(2018, 4, 4, 0, 0), datetime.datetime(2018, 4, 4, 0, 0), datetime.datetime(2018, 4, 4, 0, 0), datetime.datetime(2018, 4, 4, 0, 0), datetime.datetime(2018, 4, 4, 0, 0), datetime.datetime(2018, 4, 4, 0, 0), datetime.datetime(2018, 4, 4, 0, 0), datetime.datetime(2018, 4, 4, 0, 0), datetime.datetime(2018, 4, 4, 0, 0), datetime.datetime(2018, 4, 4, 0, 0), datetime.datetime(2018, 4, 3, 0, 0), datetime.datetime(2018, 4, 3, 0, 0), datetime.datetime(2018, 4, 3, 0, 0), datetime.datetime(2018, 4, 3, 0, 0), datetime.datetime(2018, 4, 3, 0, 0), datetime.datetime(2018, 4, 3, 0, 0), datetime.datetime(2018, 4, 3, 0, 0), datetime.datetime(2018, 4, 3, 0, 0), datetime.datetime(2018, 4, 3, 0, 0), datetime.datetime(2018, 4, 3, 0, 0), datetime.datetime(2018, 4, 3, 0, 0), datetime.datetime(2018, 4, 3, 0, 0), datetime.datetime(2018, 4, 3, 0, 0), datetime.datetime(2018, 4, 3, 0, 0), datetime.datetime(2018, 4, 3, 0, 0), datetime.datetime(2018, 4, 3, 0, 0), datetime.datetime(2018, 4, 3, 0, 0), datetime.datetime(2018, 4, 2, 0, 0), datetime.datetime(2018, 4, 2, 0, 0), datetime.datetime(2018, 4, 2, 0, 0), datetime.datetime(2018, 4, 2, 0, 0), datetime.datetime(2018, 4, 2, 0, 0), datetime.datetime(2018, 4, 2, 0, 0), datetime.datetime(2018, 4, 2, 0, 0), datetime.datetime(2018, 4, 2, 0, 0), datetime.datetime(2018, 4, 2, 0, 0), datetime.datetime(2018, 4, 2, 0, 0), datetime.datetime(2018, 4, 1, 0, 0), datetime.datetime(2018, 4, 1, 0, 0), datetime.datetime(2018, 4, 1, 0, 0), datetime.datetime(2018, 4, 1, 0, 0), datetime.datetime(2018, 4, 1, 0, 0), datetime.datetime(2018, 4, 1, 0, 0), datetime.datetime(2018, 4, 1, 0, 0), datetime.datetime(2018, 4, 1, 0, 0), datetime.datetime(2018, 3, 31, 0, 0), datetime.datetime(2018, 3, 31, 0, 0), datetime.datetime(2018, 3, 31, 0, 0), datetime.datetime(2018, 3, 31, 0, 0), datetime.datetime(2018, 3, 31, 0, 0), datetime.datetime(2018, 3, 31, 0, 0), datetime.datetime(2018, 3, 31, 0, 0), datetime.datetime(2018, 3, 31, 0, 0), datetime.datetime(2018, 3, 31, 0, 0), datetime.datetime(2018, 3, 30, 0, 0), datetime.datetime(2018, 3, 30, 0, 0), datetime.datetime(2018, 3, 30, 0, 0), datetime.datetime(2018, 3, 30, 0, 0), datetime.datetime(2018, 3, 30, 0, 0), datetime.datetime(2018, 3, 30, 0, 0), datetime.datetime(2018, 3, 30, 0, 0), datetime.datetime(2018, 3, 30, 0, 0), datetime.datetime(2018, 3, 30, 0, 0), datetime.datetime(2018, 3, 30, 0, 0), datetime.datetime(2018, 3, 30, 0, 0), datetime.datetime(2018, 3, 30, 0, 0), datetime.datetime(2018, 3, 29, 0, 0), datetime.datetime(2018, 3, 29, 0, 0), datetime.datetime(2018, 3, 29, 0, 0), datetime.datetime(2018, 3, 29, 0, 0), datetime.datetime(2018, 3, 29, 0, 0), datetime.datetime(2018, 3, 29, 0, 0), datetime.datetime(2018, 3, 29, 0, 0), datetime.datetime(2018, 3, 29, 0, 0), datetime.datetime(2018, 3, 29, 0, 0), datetime.datetime(2018, 3, 29, 0, 0), datetime.datetime(2018, 3, 29, 0, 0), datetime.datetime(2018, 3, 29, 0, 0), datetime.datetime(2018, 3, 29, 0, 0), datetime.datetime(2018, 3, 28, 0, 0), datetime.datetime(2018, 3, 28, 0, 0), datetime.datetime(2018, 3, 28, 0, 0), datetime.datetime(2018, 3, 28, 0, 0), datetime.datetime(2018, 3, 28, 0, 0), datetime.datetime(2018, 3, 28, 0, 0), datetime.datetime(2018, 3, 28, 0, 0), datetime.datetime(2018, 3, 28, 0, 0), datetime.datetime(2018, 3, 28, 0, 0), datetime.datetime(2018, 3, 28, 0, 0), datetime.datetime(2018, 3, 28, 0, 0), datetime.datetime(2018, 3, 27, 0, 0), datetime.datetime(2018, 3, 27, 0, 0), datetime.datetime(2018, 3, 27, 0, 0), datetime.datetime(2018, 3, 27, 0, 0), datetime.datetime(2018, 3, 27, 0, 0), datetime.datetime(2018, 3, 27, 0, 0), datetime.datetime(2018, 3, 27, 0, 0), datetime.datetime(2018, 3, 27, 0, 0), datetime.datetime(2018, 3, 27, 0, 0), datetime.datetime(2018, 3, 27, 0, 0), datetime.datetime(2018, 3, 27, 0, 0), datetime.datetime(2018, 3, 27, 0, 0), datetime.datetime(2018, 3, 27, 0, 0), datetime.datetime(2018, 3, 27, 0, 0), datetime.datetime(2018, 3, 27, 0, 0), datetime.datetime(2018, 3, 27, 0, 0), datetime.datetime(2018, 3, 26, 0, 0), datetime.datetime(2018, 3, 26, 0, 0), datetime.datetime(2018, 3, 26, 0, 0), datetime.datetime(2018, 3, 26, 0, 0), datetime.datetime(2018, 3, 26, 0, 0), datetime.datetime(2018, 3, 26, 0, 0), datetime.datetime(2018, 3, 26, 0, 0), datetime.datetime(2018, 3, 26, 0, 0), datetime.datetime(2018, 3, 26, 0, 0), datetime.datetime(2018, 3, 26, 0, 0), datetime.datetime(2018, 3, 25, 0, 0), datetime.datetime(2018, 3, 25, 0, 0), datetime.datetime(2018, 3, 25, 0, 0), datetime.datetime(2018, 3, 25, 0, 0), datetime.datetime(2018, 3, 25, 0, 0), datetime.datetime(2018, 3, 24, 0, 0), datetime.datetime(2018, 3, 24, 0, 0), datetime.datetime(2018, 3, 23, 0, 0), datetime.datetime(2018, 3, 23, 0, 0), datetime.datetime(2018, 3, 23, 0, 0), datetime.datetime(2018, 3, 23, 0, 0), datetime.datetime(2018, 3, 23, 0, 0), datetime.datetime(2018, 3, 23, 0, 0), datetime.datetime(2018, 3, 23, 0, 0), datetime.datetime(2018, 3, 23, 0, 0), datetime.datetime(2018, 3, 23, 0, 0), datetime.datetime(2018, 3, 23, 0, 0), datetime.datetime(2018, 3, 23, 0, 0), datetime.datetime(2018, 3, 22, 0, 0), datetime.datetime(2018, 3, 22, 0, 0), datetime.datetime(2018, 3, 22, 0, 0), datetime.datetime(2018, 3, 22, 0, 0), datetime.datetime(2018, 3, 22, 0, 0), datetime.datetime(2018, 3, 22, 0, 0), datetime.datetime(2018, 3, 22, 0, 0), datetime.datetime(2018, 3, 22, 0, 0), datetime.datetime(2018, 3, 22, 0, 0), datetime.datetime(2018, 3, 22, 0, 0), datetime.datetime(2018, 3, 22, 0, 0), datetime.datetime(2018, 3, 22, 0, 0), datetime.datetime(2018, 3, 21, 0, 0), datetime.datetime(2018, 3, 21, 0, 0), datetime.datetime(2018, 3, 21, 0, 0), datetime.datetime(2018, 3, 21, 0, 0), datetime.datetime(2018, 3, 21, 0, 0), datetime.datetime(2018, 3, 21, 0, 0), datetime.datetime(2018, 3, 21, 0, 0), datetime.datetime(2018, 3, 21, 0, 0), datetime.datetime(2018, 3, 21, 0, 0), datetime.datetime(2018, 3, 21, 0, 0), datetime.datetime(2018, 3, 21, 0, 0), datetime.datetime(2018, 3, 21, 0, 0), datetime.datetime(2018, 3, 21, 0, 0), datetime.datetime(2018, 3, 21, 0, 0), datetime.datetime(2018, 3, 20, 0, 0), datetime.datetime(2018, 3, 20, 0, 0), datetime.datetime(2018, 3, 20, 0, 0), datetime.datetime(2018, 3, 20, 0, 0), datetime.datetime(2018, 3, 20, 0, 0), datetime.datetime(2018, 3, 20, 0, 0), datetime.datetime(2018, 3, 20, 0, 0), datetime.datetime(2018, 3, 20, 0, 0), datetime.datetime(2018, 3, 20, 0, 0), datetime.datetime(2018, 3, 20, 0, 0), datetime.datetime(2018, 3, 20, 0, 0), datetime.datetime(2018, 3, 20, 0, 0), datetime.datetime(2018, 3, 20, 0, 0), datetime.datetime(2018, 3, 20, 0, 0), datetime.datetime(2018, 3, 19, 0, 0), datetime.datetime(2018, 3, 19, 0, 0), datetime.datetime(2018, 3, 19, 0, 0), datetime.datetime(2018, 3, 19, 0, 0), datetime.datetime(2018, 3, 19, 0, 0), datetime.datetime(2018, 3, 19, 0, 0), datetime.datetime(2018, 3, 19, 0, 0), datetime.datetime(2018, 3, 19, 0, 0), datetime.datetime(2018, 3, 19, 0, 0), datetime.datetime(2018, 3, 19, 0, 0), datetime.datetime(2018, 3, 18, 0, 0), datetime.datetime(2018, 3, 18, 0, 0), datetime.datetime(2018, 3, 18, 0, 0), datetime.datetime(2018, 3, 18, 0, 0), datetime.datetime(2018, 3, 18, 0, 0), datetime.datetime(2018, 3, 18, 0, 0), datetime.datetime(2018, 3, 18, 0, 0), datetime.datetime(2018, 3, 18, 0, 0), datetime.datetime(2018, 3, 18, 0, 0), datetime.datetime(2018, 3, 18, 0, 0), datetime.datetime(2018, 3, 18, 0, 0), datetime.datetime(2018, 3, 18, 0, 0), datetime.datetime(2018, 3, 17, 0, 0), datetime.datetime(2018, 3, 17, 0, 0), datetime.datetime(2018, 3, 17, 0, 0), datetime.datetime(2018, 3, 17, 0, 0), datetime.datetime(2018, 3, 16, 0, 0), datetime.datetime(2018, 3, 16, 0, 0), datetime.datetime(2018, 3, 16, 0, 0), datetime.datetime(2018, 3, 16, 0, 0), datetime.datetime(2018, 3, 16, 0, 0), datetime.datetime(2018, 3, 16, 0, 0), datetime.datetime(2018, 3, 16, 0, 0), datetime.datetime(2018, 3, 16, 0, 0), datetime.datetime(2018, 3, 16, 0, 0), datetime.datetime(2018, 3, 16, 0, 0), datetime.datetime(2018, 3, 16, 0, 0), datetime.datetime(2018, 3, 16, 0, 0), datetime.datetime(2018, 3, 16, 0, 0), datetime.datetime(2018, 3, 15, 0, 0), datetime.datetime(2018, 3, 15, 0, 0), datetime.datetime(2018, 3, 15, 0, 0), datetime.datetime(2018, 3, 15, 0, 0), datetime.datetime(2018, 3, 15, 0, 0), datetime.datetime(2018, 3, 15, 0, 0), datetime.datetime(2018, 3, 15, 0, 0), datetime.datetime(2018, 3, 15, 0, 0), datetime.datetime(2018, 3, 15, 0, 0), datetime.datetime(2018, 3, 15, 0, 0), datetime.datetime(2018, 3, 15, 0, 0), datetime.datetime(2018, 3, 15, 0, 0), datetime.datetime(2018, 3, 15, 0, 0), datetime.datetime(2018, 3, 15, 0, 0), datetime.datetime(2018, 3, 15, 0, 0), datetime.datetime(2018, 3, 15, 0, 0), datetime.datetime(2018, 3, 15, 0, 0), datetime.datetime(2018, 3, 14, 0, 0), datetime.datetime(2018, 3, 14, 0, 0), datetime.datetime(2018, 3, 14, 0, 0), datetime.datetime(2018, 3, 14, 0, 0), datetime.datetime(2018, 3, 14, 0, 0), datetime.datetime(2018, 3, 14, 0, 0), datetime.datetime(2018, 3, 14, 0, 0), datetime.datetime(2018, 3, 14, 0, 0), datetime.datetime(2018, 3, 14, 0, 0), datetime.datetime(2018, 3, 14, 0, 0), datetime.datetime(2018, 3, 13, 0, 0), datetime.datetime(2018, 3, 13, 0, 0), datetime.datetime(2018, 3, 13, 0, 0), datetime.datetime(2018, 3, 13, 0, 0), datetime.datetime(2018, 3, 13, 0, 0), datetime.datetime(2018, 3, 13, 0, 0), datetime.datetime(2018, 3, 13, 0, 0), datetime.datetime(2018, 3, 13, 0, 0), datetime.datetime(2018, 3, 12, 0, 0), datetime.datetime(2018, 3, 12, 0, 0), datetime.datetime(2018, 3, 12, 0, 0), datetime.datetime(2018, 3, 12, 0, 0), datetime.datetime(2018, 3, 12, 0, 0), datetime.datetime(2018, 3, 12, 0, 0), datetime.datetime(2018, 3, 12, 0, 0), datetime.datetime(2018, 3, 12, 0, 0), datetime.datetime(2018, 3, 12, 0, 0), datetime.datetime(2018, 3, 12, 0, 0), datetime.datetime(2018, 3, 12, 0, 0), datetime.datetime(2018, 3, 12, 0, 0), datetime.datetime(2018, 3, 12, 0, 0), datetime.datetime(2018, 3, 12, 0, 0), datetime.datetime(2018, 3, 11, 0, 0), datetime.datetime(2018, 3, 11, 0, 0), datetime.datetime(2018, 3, 11, 0, 0), datetime.datetime(2018, 3, 11, 0, 0), datetime.datetime(2018, 3, 11, 0, 0), datetime.datetime(2018, 3, 10, 0, 0), datetime.datetime(2018, 3, 10, 0, 0), datetime.datetime(2018, 3, 10, 0, 0), datetime.datetime(2018, 3, 10, 0, 0), datetime.datetime(2018, 3, 10, 0, 0), datetime.datetime(2018, 3, 9, 0, 0), datetime.datetime(2018, 3, 9, 0, 0), datetime.datetime(2018, 3, 9, 0, 0), datetime.datetime(2018, 3, 9, 0, 0), datetime.datetime(2018, 3, 9, 0, 0), datetime.datetime(2018, 3, 8, 0, 0), datetime.datetime(2018, 3, 8, 0, 0), datetime.datetime(2018, 3, 8, 0, 0), datetime.datetime(2018, 3, 7, 0, 0), datetime.datetime(2018, 3, 7, 0, 0), datetime.datetime(2018, 3, 7, 0, 0), datetime.datetime(2018, 3, 7, 0, 0), datetime.datetime(2018, 3, 7, 0, 0), datetime.datetime(2018, 3, 7, 0, 0), datetime.datetime(2018, 3, 7, 0, 0), datetime.datetime(2018, 3, 7, 0, 0), datetime.datetime(2018, 3, 7, 0, 0), datetime.datetime(2018, 3, 7, 0, 0), datetime.datetime(2018, 3, 6, 0, 0), datetime.datetime(2018, 3, 6, 0, 0), datetime.datetime(2018, 3, 6, 0, 0), datetime.datetime(2018, 3, 6, 0, 0), datetime.datetime(2018, 3, 6, 0, 0), datetime.datetime(2018, 3, 6, 0, 0), datetime.datetime(2018, 3, 6, 0, 0), datetime.datetime(2018, 3, 6, 0, 0), datetime.datetime(2018, 3, 5, 0, 0), datetime.datetime(2018, 3, 5, 0, 0), datetime.datetime(2018, 3, 5, 0, 0), datetime.datetime(2018, 3, 5, 0, 0), datetime.datetime(2018, 3, 5, 0, 0), datetime.datetime(2018, 3, 5, 0, 0), datetime.datetime(2018, 3, 5, 0, 0), datetime.datetime(2018, 3, 5, 0, 0), datetime.datetime(2018, 3, 5, 0, 0), datetime.datetime(2018, 3, 5, 0, 0), datetime.datetime(2018, 3, 5, 0, 0), datetime.datetime(2018, 3, 4, 0, 0), datetime.datetime(2018, 3, 4, 0, 0), datetime.datetime(2018, 3, 4, 0, 0), datetime.datetime(2018, 3, 4, 0, 0), datetime.datetime(2018, 3, 4, 0, 0), datetime.datetime(2018, 3, 4, 0, 0), datetime.datetime(2018, 3, 4, 0, 0), datetime.datetime(2018, 3, 4, 0, 0), datetime.datetime(2018, 3, 4, 0, 0), datetime.datetime(2018, 3, 4, 0, 0), datetime.datetime(2018, 3, 3, 0, 0), datetime.datetime(2018, 3, 3, 0, 0), datetime.datetime(2018, 3, 3, 0, 0), datetime.datetime(2018, 3, 3, 0, 0), datetime.datetime(2018, 3, 2, 0, 0), datetime.datetime(2018, 3, 2, 0, 0), datetime.datetime(2018, 3, 2, 0, 0), datetime.datetime(2018, 3, 2, 0, 0), datetime.datetime(2018, 3, 2, 0, 0), datetime.datetime(2018, 3, 2, 0, 0), datetime.datetime(2018, 3, 2, 0, 0), datetime.datetime(2018, 3, 2, 0, 0), datetime.datetime(2018, 3, 2, 0, 0), datetime.datetime(2018, 3, 2, 0, 0), datetime.datetime(2018, 3, 2, 0, 0), datetime.datetime(2018, 3, 2, 0, 0), datetime.datetime(2018, 3, 1, 0, 0), datetime.datetime(2018, 3, 1, 0, 0), datetime.datetime(2018, 3, 1, 0, 0), datetime.datetime(2018, 3, 1, 0, 0), datetime.datetime(2018, 3, 1, 0, 0), datetime.datetime(2018, 3, 1, 0, 0), datetime.datetime(2018, 3, 1, 0, 0), datetime.datetime(2018, 3, 1, 0, 0), datetime.datetime(2018, 3, 1, 0, 0), datetime.datetime(2018, 3, 1, 0, 0), datetime.datetime(2018, 3, 1, 0, 0), datetime.datetime(2018, 2, 28, 0, 0), datetime.datetime(2018, 2, 28, 0, 0), datetime.datetime(2018, 2, 28, 0, 0), datetime.datetime(2018, 2, 28, 0, 0), datetime.datetime(2018, 2, 28, 0, 0), datetime.datetime(2018, 2, 28, 0, 0), datetime.datetime(2018, 2, 28, 0, 0), datetime.datetime(2018, 2, 28, 0, 0), datetime.datetime(2018, 2, 28, 0, 0), datetime.datetime(2018, 2, 28, 0, 0), datetime.datetime(2018, 2, 27, 0, 0), datetime.datetime(2018, 2, 27, 0, 0), datetime.datetime(2018, 2, 27, 0, 0), datetime.datetime(2018, 2, 27, 0, 0), datetime.datetime(2018, 2, 27, 0, 0), datetime.datetime(2018, 2, 27, 0, 0), datetime.datetime(2018, 2, 27, 0, 0), datetime.datetime(2018, 2, 27, 0, 0), datetime.datetime(2018, 2, 26, 0, 0), datetime.datetime(2018, 2, 26, 0, 0), datetime.datetime(2018, 2, 26, 0, 0), datetime.datetime(2018, 2, 26, 0, 0), datetime.datetime(2018, 2, 26, 0, 0), datetime.datetime(2018, 2, 26, 0, 0), datetime.datetime(2018, 2, 26, 0, 0), datetime.datetime(2018, 2, 26, 0, 0), datetime.datetime(2018, 2, 26, 0, 0), datetime.datetime(2018, 2, 26, 0, 0), datetime.datetime(2018, 2, 26, 0, 0), datetime.datetime(2018, 2, 26, 0, 0), datetime.datetime(2018, 2, 26, 0, 0), datetime.datetime(2018, 2, 26, 0, 0), datetime.datetime(2018, 2, 25, 0, 0), datetime.datetime(2018, 2, 25, 0, 0), datetime.datetime(2018, 2, 24, 0, 0), datetime.datetime(2018, 2, 24, 0, 0), datetime.datetime(2018, 2, 24, 0, 0), datetime.datetime(2018, 2, 24, 0, 0), datetime.datetime(2018, 2, 23, 0, 0), datetime.datetime(2018, 2, 23, 0, 0), datetime.datetime(2018, 2, 22, 0, 0), datetime.datetime(2018, 2, 22, 0, 0), datetime.datetime(2018, 2, 22, 0, 0), datetime.datetime(2018, 2, 22, 0, 0), datetime.datetime(2018, 2, 22, 0, 0), datetime.datetime(2018, 2, 22, 0, 0), datetime.datetime(2018, 2, 22, 0, 0), datetime.datetime(2018, 2, 22, 0, 0), datetime.datetime(2018, 2, 22, 0, 0), datetime.datetime(2018, 2, 22, 0, 0), datetime.datetime(2018, 2, 22, 0, 0), datetime.datetime(2018, 2, 22, 0, 0), datetime.datetime(2018, 2, 22, 0, 0), datetime.datetime(2018, 2, 22, 0, 0), datetime.datetime(2018, 2, 22, 0, 0), datetime.datetime(2018, 2, 22, 0, 0), datetime.datetime(2018, 2, 22, 0, 0), datetime.datetime(2018, 2, 21, 0, 0), datetime.datetime(2018, 2, 21, 0, 0), datetime.datetime(2018, 2, 21, 0, 0), datetime.datetime(2018, 2, 21, 0, 0), datetime.datetime(2018, 2, 21, 0, 0), datetime.datetime(2018, 2, 21, 0, 0), datetime.datetime(2018, 2, 21, 0, 0), datetime.datetime(2018, 2, 21, 0, 0), datetime.datetime(2018, 2, 21, 0, 0), datetime.datetime(2018, 2, 21, 0, 0), datetime.datetime(2018, 2, 20, 0, 0), datetime.datetime(2018, 2, 20, 0, 0), datetime.datetime(2018, 2, 20, 0, 0), datetime.datetime(2018, 2, 20, 0, 0), datetime.datetime(2018, 2, 20, 0, 0), datetime.datetime(2018, 2, 20, 0, 0), datetime.datetime(2018, 2, 20, 0, 0), datetime.datetime(2018, 2, 20, 0, 0), datetime.datetime(2018, 2, 20, 0, 0), datetime.datetime(2018, 2, 19, 0, 0), datetime.datetime(2018, 2, 19, 0, 0), datetime.datetime(2018, 2, 19, 0, 0), datetime.datetime(2018, 2, 19, 0, 0), datetime.datetime(2018, 2, 19, 0, 0), datetime.datetime(2018, 2, 19, 0, 0), datetime.datetime(2018, 2, 19, 0, 0), datetime.datetime(2018, 2, 19, 0, 0), datetime.datetime(2018, 2, 19, 0, 0), datetime.datetime(2018, 2, 19, 0, 0), datetime.datetime(2018, 2, 19, 0, 0), datetime.datetime(2018, 2, 19, 0, 0), datetime.datetime(2018, 2, 19, 0, 0), datetime.datetime(2018, 2, 19, 0, 0), datetime.datetime(2018, 2, 19, 0, 0), datetime.datetime(2018, 2, 19, 0, 0), datetime.datetime(2018, 2, 19, 0, 0), datetime.datetime(2018, 2, 19, 0, 0), datetime.datetime(2018, 2, 19, 0, 0), datetime.datetime(2018, 2, 18, 0, 0), datetime.datetime(2018, 2, 18, 0, 0), datetime.datetime(2018, 2, 18, 0, 0), datetime.datetime(2018, 2, 18, 0, 0), datetime.datetime(2018, 2, 18, 0, 0), datetime.datetime(2018, 2, 18, 0, 0), datetime.datetime(2018, 2, 17, 0, 0), datetime.datetime(2018, 2, 17, 0, 0), datetime.datetime(2018, 2, 17, 0, 0), datetime.datetime(2018, 2, 17, 0, 0), datetime.datetime(2018, 2, 17, 0, 0), datetime.datetime(2018, 2, 16, 0, 0), datetime.datetime(2018, 2, 16, 0, 0), datetime.datetime(2018, 2, 16, 0, 0), datetime.datetime(2018, 2, 16, 0, 0), datetime.datetime(2018, 2, 16, 0, 0), datetime.datetime(2018, 2, 16, 0, 0), datetime.datetime(2018, 2, 16, 0, 0), datetime.datetime(2018, 2, 16, 0, 0), datetime.datetime(2018, 2, 15, 0, 0), datetime.datetime(2018, 2, 15, 0, 0), datetime.datetime(2018, 2, 15, 0, 0), datetime.datetime(2018, 2, 15, 0, 0), datetime.datetime(2018, 2, 15, 0, 0), datetime.datetime(2018, 2, 15, 0, 0), datetime.datetime(2018, 2, 15, 0, 0), datetime.datetime(2018, 2, 15, 0, 0), datetime.datetime(2018, 2, 14, 0, 0), datetime.datetime(2018, 2, 14, 0, 0), datetime.datetime(2018, 2, 14, 0, 0), datetime.datetime(2018, 2, 14, 0, 0), datetime.datetime(2018, 2, 14, 0, 0), datetime.datetime(2018, 2, 14, 0, 0), datetime.datetime(2018, 2, 14, 0, 0), datetime.datetime(2018, 2, 14, 0, 0), datetime.datetime(2018, 2, 14, 0, 0), datetime.datetime(2018, 2, 14, 0, 0), datetime.datetime(2018, 2, 14, 0, 0), datetime.datetime(2018, 2, 14, 0, 0), datetime.datetime(2018, 2, 14, 0, 0), datetime.datetime(2018, 2, 14, 0, 0), datetime.datetime(2018, 2, 14, 0, 0), datetime.datetime(2018, 2, 14, 0, 0), datetime.datetime(2018, 2, 14, 0, 0), datetime.datetime(2018, 2, 14, 0, 0), datetime.datetime(2018, 2, 13, 0, 0), datetime.datetime(2018, 2, 13, 0, 0), datetime.datetime(2018, 2, 13, 0, 0), datetime.datetime(2018, 2, 13, 0, 0), datetime.datetime(2018, 2, 13, 0, 0), datetime.datetime(2018, 2, 13, 0, 0), datetime.datetime(2018, 2, 13, 0, 0), datetime.datetime(2018, 2, 13, 0, 0), datetime.datetime(2018, 2, 13, 0, 0), datetime.datetime(2018, 2, 13, 0, 0), datetime.datetime(2018, 2, 13, 0, 0), datetime.datetime(2018, 2, 13, 0, 0), datetime.datetime(2018, 2, 13, 0, 0), datetime.datetime(2018, 2, 13, 0, 0), datetime.datetime(2018, 2, 12, 0, 0), datetime.datetime(2018, 2, 12, 0, 0), datetime.datetime(2018, 2, 12, 0, 0), datetime.datetime(2018, 2, 12, 0, 0), datetime.datetime(2018, 2, 12, 0, 0), datetime.datetime(2018, 2, 12, 0, 0), datetime.datetime(2018, 2, 12, 0, 0), datetime.datetime(2018, 2, 12, 0, 0), datetime.datetime(2018, 2, 12, 0, 0), datetime.datetime(2018, 2, 12, 0, 0), datetime.datetime(2018, 2, 12, 0, 0), datetime.datetime(2018, 2, 12, 0, 0), datetime.datetime(2018, 2, 12, 0, 0), datetime.datetime(2018, 2, 12, 0, 0), datetime.datetime(2018, 2, 12, 0, 0), datetime.datetime(2018, 2, 11, 0, 0), datetime.datetime(2018, 2, 11, 0, 0), datetime.datetime(2018, 2, 11, 0, 0), datetime.datetime(2018, 2, 11, 0, 0), datetime.datetime(2018, 2, 11, 0, 0), datetime.datetime(2018, 2, 11, 0, 0), datetime.datetime(2018, 2, 11, 0, 0), datetime.datetime(2018, 2, 11, 0, 0), datetime.datetime(2018, 2, 11, 0, 0), datetime.datetime(2018, 2, 11, 0, 0), datetime.datetime(2018, 2, 11, 0, 0), datetime.datetime(2018, 2, 11, 0, 0), datetime.datetime(2018, 2, 11, 0, 0), datetime.datetime(2018, 2, 10, 0, 0), datetime.datetime(2018, 2, 10, 0, 0), datetime.datetime(2018, 2, 10, 0, 0), datetime.datetime(2018, 2, 10, 0, 0), datetime.datetime(2018, 2, 10, 0, 0), datetime.datetime(2018, 2, 10, 0, 0), datetime.datetime(2018, 2, 10, 0, 0), datetime.datetime(2018, 2, 10, 0, 0), datetime.datetime(2018, 2, 10, 0, 0), datetime.datetime(2018, 2, 10, 0, 0), datetime.datetime(2018, 2, 10, 0, 0), datetime.datetime(2018, 2, 9, 0, 0), datetime.datetime(2018, 2, 9, 0, 0), datetime.datetime(2018, 2, 9, 0, 0), datetime.datetime(2018, 2, 9, 0, 0), datetime.datetime(2018, 2, 9, 0, 0), datetime.datetime(2018, 2, 9, 0, 0), datetime.datetime(2018, 2, 9, 0, 0), datetime.datetime(2018, 2, 9, 0, 0), datetime.datetime(2018, 2, 9, 0, 0), datetime.datetime(2018, 2, 9, 0, 0), datetime.datetime(2018, 2, 9, 0, 0), datetime.datetime(2018, 2, 8, 0, 0), datetime.datetime(2018, 2, 8, 0, 0), datetime.datetime(2018, 2, 8, 0, 0), datetime.datetime(2018, 2, 8, 0, 0), datetime.datetime(2018, 2, 8, 0, 0), datetime.datetime(2018, 2, 8, 0, 0), datetime.datetime(2018, 2, 8, 0, 0), datetime.datetime(2018, 2, 8, 0, 0), datetime.datetime(2018, 2, 8, 0, 0), datetime.datetime(2018, 2, 8, 0, 0), datetime.datetime(2018, 2, 8, 0, 0), datetime.datetime(2018, 2, 7, 0, 0), datetime.datetime(2018, 2, 7, 0, 0), datetime.datetime(2018, 2, 7, 0, 0), datetime.datetime(2018, 2, 7, 0, 0), datetime.datetime(2018, 2, 7, 0, 0), datetime.datetime(2018, 2, 7, 0, 0), datetime.datetime(2018, 2, 7, 0, 0), datetime.datetime(2018, 2, 7, 0, 0), datetime.datetime(2018, 2, 7, 0, 0), datetime.datetime(2018, 2, 7, 0, 0), datetime.datetime(2018, 2, 7, 0, 0), datetime.datetime(2018, 2, 7, 0, 0), datetime.datetime(2018, 2, 6, 0, 0), datetime.datetime(2018, 2, 6, 0, 0), datetime.datetime(2018, 2, 6, 0, 0), datetime.datetime(2018, 2, 6, 0, 0), datetime.datetime(2018, 2, 6, 0, 0), datetime.datetime(2018, 2, 6, 0, 0), datetime.datetime(2018, 2, 6, 0, 0), datetime.datetime(2018, 2, 6, 0, 0), datetime.datetime(2018, 2, 6, 0, 0), datetime.datetime(2018, 2, 6, 0, 0), datetime.datetime(2018, 2, 5, 0, 0), datetime.datetime(2018, 2, 5, 0, 0), datetime.datetime(2018, 2, 5, 0, 0), datetime.datetime(2018, 2, 5, 0, 0), datetime.datetime(2018, 2, 5, 0, 0), datetime.datetime(2018, 2, 5, 0, 0), datetime.datetime(2018, 2, 5, 0, 0), datetime.datetime(2018, 2, 5, 0, 0), datetime.datetime(2018, 2, 5, 0, 0), datetime.datetime(2018, 2, 5, 0, 0), datetime.datetime(2018, 2, 5, 0, 0), datetime.datetime(2018, 2, 5, 0, 0), datetime.datetime(2018, 2, 5, 0, 0), datetime.datetime(2018, 2, 5, 0, 0), datetime.datetime(2018, 2, 5, 0, 0), datetime.datetime(2018, 2, 5, 0, 0), datetime.datetime(2018, 2, 5, 0, 0), datetime.datetime(2018, 2, 5, 0, 0), datetime.datetime(2018, 2, 5, 0, 0), datetime.datetime(2018, 2, 4, 0, 0), datetime.datetime(2018, 2, 4, 0, 0), datetime.datetime(2018, 2, 4, 0, 0), datetime.datetime(2018, 2, 4, 0, 0), datetime.datetime(2018, 2, 4, 0, 0), datetime.datetime(2018, 2, 4, 0, 0), datetime.datetime(2018, 2, 3, 0, 0), datetime.datetime(2018, 2, 3, 0, 0), datetime.datetime(2018, 2, 3, 0, 0), datetime.datetime(2018, 2, 3, 0, 0), datetime.datetime(2018, 2, 3, 0, 0), datetime.datetime(2018, 2, 3, 0, 0), datetime.datetime(2018, 2, 3, 0, 0), datetime.datetime(2018, 2, 3, 0, 0), datetime.datetime(2018, 2, 3, 0, 0), datetime.datetime(2018, 2, 2, 0, 0), datetime.datetime(2018, 2, 2, 0, 0), datetime.datetime(2018, 2, 2, 0, 0), datetime.datetime(2018, 2, 2, 0, 0), datetime.datetime(2018, 2, 2, 0, 0), datetime.datetime(2018, 2, 2, 0, 0), datetime.datetime(2018, 2, 2, 0, 0), datetime.datetime(2018, 2, 1, 0, 0), datetime.datetime(2018, 2, 1, 0, 0), datetime.datetime(2018, 2, 1, 0, 0), datetime.datetime(2018, 2, 1, 0, 0), datetime.datetime(2018, 2, 1, 0, 0), datetime.datetime(2018, 2, 1, 0, 0), datetime.datetime(2018, 2, 1, 0, 0), datetime.datetime(2018, 2, 1, 0, 0), datetime.datetime(2018, 2, 1, 0, 0), datetime.datetime(2018, 2, 1, 0, 0), datetime.datetime(2018, 2, 1, 0, 0), datetime.datetime(2018, 1, 31, 0, 0), datetime.datetime(2018, 1, 31, 0, 0), datetime.datetime(2018, 1, 31, 0, 0), datetime.datetime(2018, 1, 31, 0, 0), datetime.datetime(2018, 1, 31, 0, 0), datetime.datetime(2018, 1, 31, 0, 0), datetime.datetime(2018, 1, 31, 0, 0), datetime.datetime(2018, 1, 31, 0, 0), datetime.datetime(2018, 1, 30, 0, 0), datetime.datetime(2018, 1, 30, 0, 0), datetime.datetime(2018, 1, 30, 0, 0), datetime.datetime(2018, 1, 30, 0, 0), datetime.datetime(2018, 1, 30, 0, 0), datetime.datetime(2018, 1, 30, 0, 0), datetime.datetime(2018, 1, 30, 0, 0), datetime.datetime(2018, 1, 30, 0, 0), datetime.datetime(2018, 1, 30, 0, 0), datetime.datetime(2018, 1, 30, 0, 0), datetime.datetime(2018, 1, 30, 0, 0), datetime.datetime(2018, 1, 30, 0, 0), datetime.datetime(2018, 1, 30, 0, 0), datetime.datetime(2018, 1, 30, 0, 0), datetime.datetime(2018, 1, 30, 0, 0), datetime.datetime(2018, 1, 30, 0, 0), datetime.datetime(2018, 1, 29, 0, 0), datetime.datetime(2018, 1, 29, 0, 0), datetime.datetime(2018, 1, 29, 0, 0), datetime.datetime(2018, 1, 29, 0, 0), datetime.datetime(2018, 1, 29, 0, 0), datetime.datetime(2018, 1, 29, 0, 0), datetime.datetime(2018, 1, 29, 0, 0), datetime.datetime(2018, 1, 29, 0, 0), datetime.datetime(2018, 1, 29, 0, 0), datetime.datetime(2018, 1, 29, 0, 0), datetime.datetime(2018, 1, 29, 0, 0), datetime.datetime(2018, 1, 28, 0, 0), datetime.datetime(2018, 1, 28, 0, 0), datetime.datetime(2018, 1, 27, 0, 0), datetime.datetime(2018, 1, 27, 0, 0), datetime.datetime(2018, 1, 27, 0, 0), datetime.datetime(2018, 1, 27, 0, 0), datetime.datetime(2018, 1, 27, 0, 0), datetime.datetime(2018, 1, 27, 0, 0), datetime.datetime(2018, 1, 26, 0, 0), datetime.datetime(2018, 1, 26, 0, 0), datetime.datetime(2018, 1, 26, 0, 0), datetime.datetime(2018, 1, 26, 0, 0), datetime.datetime(2018, 1, 26, 0, 0), datetime.datetime(2018, 1, 26, 0, 0), datetime.datetime(2018, 1, 26, 0, 0), datetime.datetime(2018, 1, 26, 0, 0), datetime.datetime(2018, 1, 26, 0, 0), datetime.datetime(2018, 1, 25, 0, 0), datetime.datetime(2018, 1, 25, 0, 0), datetime.datetime(2018, 1, 25, 0, 0), datetime.datetime(2018, 1, 25, 0, 0), datetime.datetime(2018, 1, 25, 0, 0), datetime.datetime(2018, 1, 25, 0, 0), datetime.datetime(2018, 1, 25, 0, 0), datetime.datetime(2018, 1, 25, 0, 0), datetime.datetime(2018, 1, 25, 0, 0), datetime.datetime(2018, 1, 25, 0, 0), datetime.datetime(2018, 1, 25, 0, 0), datetime.datetime(2018, 1, 25, 0, 0), datetime.datetime(2018, 1, 25, 0, 0), datetime.datetime(2018, 1, 25, 0, 0), datetime.datetime(2018, 1, 25, 0, 0), datetime.datetime(2018, 1, 25, 0, 0), datetime.datetime(2018, 1, 25, 0, 0), datetime.datetime(2018, 1, 24, 0, 0), datetime.datetime(2018, 1, 24, 0, 0), datetime.datetime(2018, 1, 24, 0, 0), datetime.datetime(2018, 1, 24, 0, 0), datetime.datetime(2018, 1, 24, 0, 0), datetime.datetime(2018, 1, 24, 0, 0), datetime.datetime(2018, 1, 24, 0, 0), datetime.datetime(2018, 1, 24, 0, 0), datetime.datetime(2018, 1, 24, 0, 0), datetime.datetime(2018, 1, 24, 0, 0), datetime.datetime(2018, 1, 24, 0, 0), datetime.datetime(2018, 1, 24, 0, 0), datetime.datetime(2018, 1, 24, 0, 0), datetime.datetime(2018, 1, 24, 0, 0), datetime.datetime(2018, 1, 24, 0, 0), datetime.datetime(2018, 1, 24, 0, 0), datetime.datetime(2018, 1, 23, 0, 0), datetime.datetime(2018, 1, 23, 0, 0), datetime.datetime(2018, 1, 23, 0, 0), datetime.datetime(2018, 1, 23, 0, 0), datetime.datetime(2018, 1, 23, 0, 0), datetime.datetime(2018, 1, 23, 0, 0), datetime.datetime(2018, 1, 23, 0, 0), datetime.datetime(2018, 1, 23, 0, 0), datetime.datetime(2018, 1, 23, 0, 0), datetime.datetime(2018, 1, 23, 0, 0), datetime.datetime(2018, 1, 23, 0, 0), datetime.datetime(2018, 1, 23, 0, 0), datetime.datetime(2018, 1, 23, 0, 0), datetime.datetime(2018, 1, 22, 0, 0), datetime.datetime(2018, 1, 22, 0, 0), datetime.datetime(2018, 1, 22, 0, 0), datetime.datetime(2018, 1, 22, 0, 0), datetime.datetime(2018, 1, 22, 0, 0), datetime.datetime(2018, 1, 22, 0, 0), datetime.datetime(2018, 1, 22, 0, 0), datetime.datetime(2018, 1, 22, 0, 0), datetime.datetime(2018, 1, 22, 0, 0), datetime.datetime(2018, 1, 22, 0, 0), datetime.datetime(2018, 1, 22, 0, 0), datetime.datetime(2018, 1, 22, 0, 0), datetime.datetime(2018, 1, 22, 0, 0), datetime.datetime(2018, 1, 22, 0, 0), datetime.datetime(2018, 1, 22, 0, 0), datetime.datetime(2018, 1, 22, 0, 0), datetime.datetime(2018, 1, 22, 0, 0), datetime.datetime(2018, 1, 22, 0, 0), datetime.datetime(2018, 1, 22, 0, 0), datetime.datetime(2018, 1, 22, 0, 0), datetime.datetime(2018, 1, 22, 0, 0), datetime.datetime(2018, 1, 22, 0, 0), datetime.datetime(2018, 1, 22, 0, 0), datetime.datetime(2018, 1, 22, 0, 0), datetime.datetime(2018, 1, 21, 0, 0), datetime.datetime(2018, 1, 21, 0, 0), datetime.datetime(2018, 1, 21, 0, 0), datetime.datetime(2018, 1, 21, 0, 0), datetime.datetime(2018, 1, 21, 0, 0), datetime.datetime(2018, 1, 20, 0, 0), datetime.datetime(2018, 1, 20, 0, 0), datetime.datetime(2018, 1, 20, 0, 0), datetime.datetime(2018, 1, 20, 0, 0), datetime.datetime(2018, 1, 20, 0, 0), datetime.datetime(2018, 1, 20, 0, 0), datetime.datetime(2018, 1, 20, 0, 0), datetime.datetime(2018, 1, 20, 0, 0), datetime.datetime(2018, 1, 19, 0, 0), datetime.datetime(2018, 1, 19, 0, 0), datetime.datetime(2018, 1, 19, 0, 0), datetime.datetime(2018, 1, 19, 0, 0), datetime.datetime(2018, 1, 19, 0, 0), datetime.datetime(2018, 1, 19, 0, 0), datetime.datetime(2018, 1, 19, 0, 0), datetime.datetime(2018, 1, 19, 0, 0), datetime.datetime(2018, 1, 19, 0, 0), datetime.datetime(2018, 1, 18, 0, 0), datetime.datetime(2018, 1, 18, 0, 0), datetime.datetime(2018, 1, 18, 0, 0), datetime.datetime(2018, 1, 18, 0, 0), datetime.datetime(2018, 1, 18, 0, 0), datetime.datetime(2018, 1, 18, 0, 0), datetime.datetime(2018, 1, 18, 0, 0), datetime.datetime(2018, 1, 18, 0, 0), datetime.datetime(2018, 1, 18, 0, 0), datetime.datetime(2018, 1, 18, 0, 0), datetime.datetime(2018, 1, 17, 0, 0), datetime.datetime(2018, 1, 17, 0, 0), datetime.datetime(2018, 1, 17, 0, 0), datetime.datetime(2018, 1, 17, 0, 0), datetime.datetime(2018, 1, 17, 0, 0), datetime.datetime(2018, 1, 17, 0, 0), datetime.datetime(2018, 1, 17, 0, 0), datetime.datetime(2018, 1, 17, 0, 0), datetime.datetime(2018, 1, 17, 0, 0), datetime.datetime(2018, 1, 17, 0, 0), datetime.datetime(2018, 1, 17, 0, 0), datetime.datetime(2018, 1, 17, 0, 0), datetime.datetime(2018, 1, 17, 0, 0), datetime.datetime(2018, 1, 17, 0, 0), datetime.datetime(2018, 1, 17, 0, 0), datetime.datetime(2018, 1, 17, 0, 0), datetime.datetime(2018, 1, 17, 0, 0), datetime.datetime(2018, 1, 16, 0, 0), datetime.datetime(2018, 1, 16, 0, 0), datetime.datetime(2018, 1, 16, 0, 0), datetime.datetime(2018, 1, 16, 0, 0), datetime.datetime(2018, 1, 16, 0, 0), datetime.datetime(2018, 1, 15, 0, 0), datetime.datetime(2018, 1, 15, 0, 0), datetime.datetime(2018, 1, 15, 0, 0), datetime.datetime(2018, 1, 15, 0, 0), datetime.datetime(2018, 1, 15, 0, 0), datetime.datetime(2018, 1, 15, 0, 0), datetime.datetime(2018, 1, 15, 0, 0), datetime.datetime(2018, 1, 15, 0, 0), datetime.datetime(2018, 1, 15, 0, 0), datetime.datetime(2018, 1, 15, 0, 0), datetime.datetime(2018, 1, 15, 0, 0), datetime.datetime(2018, 1, 15, 0, 0), datetime.datetime(2018, 1, 14, 0, 0), datetime.datetime(2018, 1, 14, 0, 0), datetime.datetime(2018, 1, 13, 0, 0), datetime.datetime(2018, 1, 13, 0, 0), datetime.datetime(2018, 1, 13, 0, 0), datetime.datetime(2018, 1, 13, 0, 0), datetime.datetime(2018, 1, 13, 0, 0), datetime.datetime(2018, 1, 12, 0, 0), datetime.datetime(2018, 1, 12, 0, 0), datetime.datetime(2018, 1, 12, 0, 0), datetime.datetime(2018, 1, 12, 0, 0), datetime.datetime(2018, 1, 12, 0, 0), datetime.datetime(2018, 1, 12, 0, 0), datetime.datetime(2018, 1, 12, 0, 0), datetime.datetime(2018, 1, 11, 0, 0), datetime.datetime(2018, 1, 11, 0, 0), datetime.datetime(2018, 1, 11, 0, 0), datetime.datetime(2018, 1, 11, 0, 0), datetime.datetime(2018, 1, 11, 0, 0), datetime.datetime(2018, 1, 11, 0, 0), datetime.datetime(2018, 1, 11, 0, 0), datetime.datetime(2018, 1, 11, 0, 0), datetime.datetime(2018, 1, 11, 0, 0), datetime.datetime(2018, 1, 11, 0, 0), datetime.datetime(2018, 1, 11, 0, 0), datetime.datetime(2018, 1, 11, 0, 0), datetime.datetime(2018, 1, 11, 0, 0), datetime.datetime(2018, 1, 11, 0, 0), datetime.datetime(2018, 1, 11, 0, 0), datetime.datetime(2018, 1, 11, 0, 0), datetime.datetime(2018, 1, 10, 0, 0), datetime.datetime(2018, 1, 10, 0, 0), datetime.datetime(2018, 1, 10, 0, 0), datetime.datetime(2018, 1, 10, 0, 0), datetime.datetime(2018, 1, 10, 0, 0), datetime.datetime(2018, 1, 10, 0, 0), datetime.datetime(2018, 1, 10, 0, 0), datetime.datetime(2018, 1, 10, 0, 0), datetime.datetime(2018, 1, 10, 0, 0), datetime.datetime(2018, 1, 10, 0, 0), datetime.datetime(2018, 1, 10, 0, 0), datetime.datetime(2018, 1, 10, 0, 0), datetime.datetime(2018, 1, 10, 0, 0), datetime.datetime(2018, 1, 10, 0, 0), datetime.datetime(2018, 1, 10, 0, 0), datetime.datetime(2018, 1, 10, 0, 0), datetime.datetime(2018, 1, 10, 0, 0), datetime.datetime(2018, 1, 10, 0, 0), datetime.datetime(2018, 1, 10, 0, 0), datetime.datetime(2018, 1, 10, 0, 0), datetime.datetime(2018, 1, 10, 0, 0), datetime.datetime(2018, 1, 10, 0, 0), datetime.datetime(2018, 1, 10, 0, 0), datetime.datetime(2018, 1, 10, 0, 0), datetime.datetime(2018, 1, 10, 0, 0), datetime.datetime(2018, 1, 10, 0, 0), datetime.datetime(2018, 1, 10, 0, 0), datetime.datetime(2018, 1, 9, 0, 0), datetime.datetime(2018, 1, 9, 0, 0), datetime.datetime(2018, 1, 9, 0, 0), datetime.datetime(2018, 1, 9, 0, 0), datetime.datetime(2018, 1, 9, 0, 0), datetime.datetime(2018, 1, 9, 0, 0), datetime.datetime(2018, 1, 9, 0, 0), datetime.datetime(2018, 1, 9, 0, 0), datetime.datetime(2018, 1, 9, 0, 0), datetime.datetime(2018, 1, 9, 0, 0), datetime.datetime(2018, 1, 9, 0, 0), datetime.datetime(2018, 1, 9, 0, 0), datetime.datetime(2018, 1, 9, 0, 0), datetime.datetime(2018, 1, 9, 0, 0), datetime.datetime(2018, 1, 9, 0, 0), datetime.datetime(2018, 1, 9, 0, 0), datetime.datetime(2018, 1, 8, 0, 0), datetime.datetime(2018, 1, 8, 0, 0), datetime.datetime(2018, 1, 8, 0, 0), datetime.datetime(2018, 1, 8, 0, 0), datetime.datetime(2018, 1, 8, 0, 0), datetime.datetime(2018, 1, 8, 0, 0), datetime.datetime(2018, 1, 7, 0, 0), datetime.datetime(2018, 1, 7, 0, 0), datetime.datetime(2018, 1, 7, 0, 0), datetime.datetime(2018, 1, 7, 0, 0), datetime.datetime(2018, 1, 6, 0, 0), datetime.datetime(2018, 1, 6, 0, 0), datetime.datetime(2018, 1, 6, 0, 0), datetime.datetime(2018, 1, 5, 0, 0), datetime.datetime(2018, 1, 5, 0, 0), datetime.datetime(2018, 1, 5, 0, 0), datetime.datetime(2018, 1, 4, 0, 0), datetime.datetime(2018, 1, 4, 0, 0), datetime.datetime(2018, 1, 4, 0, 0), datetime.datetime(2018, 1, 4, 0, 0), datetime.datetime(2018, 1, 3, 0, 0), datetime.datetime(2018, 1, 3, 0, 0), datetime.datetime(2018, 1, 3, 0, 0), datetime.datetime(2018, 1, 2, 0, 0), datetime.datetime(2018, 1, 2, 0, 0), datetime.datetime(2018, 1, 2, 0, 0), datetime.datetime(2018, 1, 2, 0, 0), datetime.datetime(2017, 12, 31, 0, 0), datetime.datetime(2017, 12, 31, 0, 0), datetime.datetime(2017, 12, 30, 0, 0), datetime.datetime(2017, 12, 30, 0, 0), datetime.datetime(2017, 12, 30, 0, 0), datetime.datetime(2017, 12, 30, 0, 0), datetime.datetime(2017, 12, 30, 0, 0), datetime.datetime(2017, 12, 30, 0, 0), datetime.datetime(2017, 12, 29, 0, 0), datetime.datetime(2017, 12, 29, 0, 0), datetime.datetime(2017, 12, 29, 0, 0), datetime.datetime(2017, 12, 29, 0, 0), datetime.datetime(2017, 12, 29, 0, 0), datetime.datetime(2017, 12, 29, 0, 0), datetime.datetime(2017, 12, 28, 0, 0), datetime.datetime(2017, 12, 28, 0, 0), datetime.datetime(2017, 12, 28, 0, 0), datetime.datetime(2017, 12, 28, 0, 0), datetime.datetime(2017, 12, 28, 0, 0), datetime.datetime(2017, 12, 28, 0, 0), datetime.datetime(2017, 12, 28, 0, 0), datetime.datetime(2017, 12, 28, 0, 0), datetime.datetime(2017, 12, 28, 0, 0), datetime.datetime(2017, 12, 28, 0, 0), datetime.datetime(2017, 12, 28, 0, 0), datetime.datetime(2017, 12, 28, 0, 0), datetime.datetime(2017, 12, 28, 0, 0), datetime.datetime(2017, 12, 28, 0, 0), datetime.datetime(2017, 12, 28, 0, 0), datetime.datetime(2017, 12, 28, 0, 0), datetime.datetime(2017, 12, 28, 0, 0), datetime.datetime(2017, 12, 28, 0, 0), datetime.datetime(2017, 12, 28, 0, 0), datetime.datetime(2017, 12, 27, 0, 0), datetime.datetime(2017, 12, 27, 0, 0), datetime.datetime(2017, 12, 27, 0, 0), datetime.datetime(2017, 12, 27, 0, 0), datetime.datetime(2017, 12, 27, 0, 0), datetime.datetime(2017, 12, 27, 0, 0), datetime.datetime(2017, 12, 27, 0, 0), datetime.datetime(2017, 12, 27, 0, 0), datetime.datetime(2017, 12, 27, 0, 0), datetime.datetime(2017, 12, 27, 0, 0), datetime.datetime(2017, 12, 26, 0, 0), datetime.datetime(2017, 12, 26, 0, 0), datetime.datetime(2017, 12, 26, 0, 0), datetime.datetime(2017, 12, 26, 0, 0), datetime.datetime(2017, 12, 26, 0, 0), datetime.datetime(2017, 12, 26, 0, 0), datetime.datetime(2017, 12, 26, 0, 0), datetime.datetime(2017, 12, 26, 0, 0), datetime.datetime(2017, 12, 26, 0, 0), datetime.datetime(2017, 12, 26, 0, 0), datetime.datetime(2017, 12, 26, 0, 0), datetime.datetime(2017, 12, 26, 0, 0), datetime.datetime(2017, 12, 25, 0, 0), datetime.datetime(2017, 12, 25, 0, 0), datetime.datetime(2017, 12, 25, 0, 0), datetime.datetime(2017, 12, 25, 0, 0), datetime.datetime(2017, 12, 25, 0, 0), datetime.datetime(2017, 12, 25, 0, 0), datetime.datetime(2017, 12, 25, 0, 0), datetime.datetime(2017, 12, 25, 0, 0), datetime.datetime(2017, 12, 25, 0, 0), datetime.datetime(2017, 12, 24, 0, 0), datetime.datetime(2017, 12, 24, 0, 0), datetime.datetime(2017, 12, 24, 0, 0), datetime.datetime(2017, 12, 24, 0, 0), datetime.datetime(2017, 12, 24, 0, 0), datetime.datetime(2017, 12, 24, 0, 0), datetime.datetime(2017, 12, 24, 0, 0), datetime.datetime(2017, 12, 24, 0, 0), datetime.datetime(2017, 12, 24, 0, 0), datetime.datetime(2017, 12, 24, 0, 0), datetime.datetime(2017, 12, 23, 0, 0), datetime.datetime(2017, 12, 23, 0, 0), datetime.datetime(2017, 12, 23, 0, 0), datetime.datetime(2017, 12, 23, 0, 0), datetime.datetime(2017, 12, 23, 0, 0), datetime.datetime(2017, 12, 23, 0, 0), datetime.datetime(2017, 12, 23, 0, 0), datetime.datetime(2017, 12, 23, 0, 0), datetime.datetime(2017, 12, 23, 0, 0), datetime.datetime(2017, 12, 23, 0, 0), datetime.datetime(2017, 12, 23, 0, 0), datetime.datetime(2017, 12, 22, 0, 0), datetime.datetime(2017, 12, 22, 0, 0), datetime.datetime(2017, 12, 22, 0, 0), datetime.datetime(2017, 12, 22, 0, 0), datetime.datetime(2017, 12, 22, 0, 0), datetime.datetime(2017, 12, 22, 0, 0), datetime.datetime(2017, 12, 22, 0, 0), datetime.datetime(2017, 12, 22, 0, 0), datetime.datetime(2017, 12, 22, 0, 0), datetime.datetime(2017, 12, 22, 0, 0), datetime.datetime(2017, 12, 21, 0, 0), datetime.datetime(2017, 12, 21, 0, 0), datetime.datetime(2017, 12, 21, 0, 0), datetime.datetime(2017, 12, 21, 0, 0), datetime.datetime(2017, 12, 21, 0, 0), datetime.datetime(2017, 12, 21, 0, 0), datetime.datetime(2017, 12, 21, 0, 0), datetime.datetime(2017, 12, 21, 0, 0), datetime.datetime(2017, 12, 21, 0, 0), datetime.datetime(2017, 12, 21, 0, 0), datetime.datetime(2017, 12, 21, 0, 0), datetime.datetime(2017, 12, 21, 0, 0), datetime.datetime(2017, 12, 21, 0, 0), datetime.datetime(2017, 12, 21, 0, 0), datetime.datetime(2017, 12, 21, 0, 0), datetime.datetime(2017, 12, 21, 0, 0), datetime.datetime(2017, 12, 20, 0, 0), datetime.datetime(2017, 12, 20, 0, 0), datetime.datetime(2017, 12, 20, 0, 0), datetime.datetime(2017, 12, 20, 0, 0), datetime.datetime(2017, 12, 20, 0, 0), datetime.datetime(2017, 12, 20, 0, 0), datetime.datetime(2017, 12, 20, 0, 0), datetime.datetime(2017, 12, 20, 0, 0), datetime.datetime(2017, 12, 19, 0, 0), datetime.datetime(2017, 12, 19, 0, 0), datetime.datetime(2017, 12, 19, 0, 0), datetime.datetime(2017, 12, 19, 0, 0), datetime.datetime(2017, 12, 19, 0, 0), datetime.datetime(2017, 12, 19, 0, 0), datetime.datetime(2017, 12, 19, 0, 0), datetime.datetime(2017, 12, 19, 0, 0), datetime.datetime(2017, 12, 19, 0, 0), datetime.datetime(2017, 12, 19, 0, 0), datetime.datetime(2017, 12, 18, 0, 0), datetime.datetime(2017, 12, 18, 0, 0), datetime.datetime(2017, 12, 18, 0, 0), datetime.datetime(2017, 12, 18, 0, 0), datetime.datetime(2017, 12, 18, 0, 0), datetime.datetime(2017, 12, 18, 0, 0), datetime.datetime(2017, 12, 18, 0, 0), datetime.datetime(2017, 12, 18, 0, 0), datetime.datetime(2017, 12, 18, 0, 0), datetime.datetime(2017, 12, 18, 0, 0), datetime.datetime(2017, 12, 18, 0, 0), datetime.datetime(2017, 12, 18, 0, 0), datetime.datetime(2017, 12, 18, 0, 0), datetime.datetime(2017, 12, 18, 0, 0), datetime.datetime(2017, 12, 18, 0, 0), datetime.datetime(2017, 12, 18, 0, 0), datetime.datetime(2017, 12, 17, 0, 0), datetime.datetime(2017, 12, 17, 0, 0), datetime.datetime(2017, 12, 17, 0, 0), datetime.datetime(2017, 12, 17, 0, 0), datetime.datetime(2017, 12, 17, 0, 0), datetime.datetime(2017, 12, 17, 0, 0), datetime.datetime(2017, 12, 17, 0, 0), datetime.datetime(2017, 12, 17, 0, 0), datetime.datetime(2017, 12, 17, 0, 0), datetime.datetime(2017, 12, 16, 0, 0), datetime.datetime(2017, 12, 16, 0, 0), datetime.datetime(2017, 12, 16, 0, 0), datetime.datetime(2017, 12, 16, 0, 0), datetime.datetime(2017, 12, 15, 0, 0), datetime.datetime(2017, 12, 15, 0, 0), datetime.datetime(2017, 12, 15, 0, 0), datetime.datetime(2017, 12, 15, 0, 0), datetime.datetime(2017, 12, 15, 0, 0), datetime.datetime(2017, 12, 15, 0, 0), datetime.datetime(2017, 12, 15, 0, 0), datetime.datetime(2017, 12, 15, 0, 0), datetime.datetime(2017, 12, 15, 0, 0), datetime.datetime(2017, 12, 15, 0, 0), datetime.datetime(2017, 12, 15, 0, 0), datetime.datetime(2017, 12, 15, 0, 0), datetime.datetime(2017, 12, 14, 0, 0), datetime.datetime(2017, 12, 14, 0, 0), datetime.datetime(2017, 12, 14, 0, 0), datetime.datetime(2017, 12, 14, 0, 0), datetime.datetime(2017, 12, 14, 0, 0), datetime.datetime(2017, 12, 14, 0, 0), datetime.datetime(2017, 12, 14, 0, 0), datetime.datetime(2017, 12, 14, 0, 0), datetime.datetime(2017, 12, 14, 0, 0), datetime.datetime(2017, 12, 14, 0, 0), datetime.datetime(2017, 12, 14, 0, 0), datetime.datetime(2017, 12, 14, 0, 0), datetime.datetime(2017, 12, 14, 0, 0), datetime.datetime(2017, 12, 14, 0, 0), datetime.datetime(2017, 12, 14, 0, 0), datetime.datetime(2017, 12, 14, 0, 0), datetime.datetime(2017, 12, 14, 0, 0), datetime.datetime(2017, 12, 13, 0, 0), datetime.datetime(2017, 12, 13, 0, 0), datetime.datetime(2017, 12, 13, 0, 0), datetime.datetime(2017, 12, 13, 0, 0), datetime.datetime(2017, 12, 13, 0, 0), datetime.datetime(2017, 12, 13, 0, 0), datetime.datetime(2017, 12, 13, 0, 0), datetime.datetime(2017, 12, 13, 0, 0), datetime.datetime(2017, 12, 13, 0, 0), datetime.datetime(2017, 12, 13, 0, 0), datetime.datetime(2017, 12, 13, 0, 0), datetime.datetime(2017, 12, 13, 0, 0), datetime.datetime(2017, 12, 13, 0, 0), datetime.datetime(2017, 12, 13, 0, 0), datetime.datetime(2017, 12, 13, 0, 0), datetime.datetime(2017, 12, 13, 0, 0), datetime.datetime(2017, 12, 13, 0, 0), datetime.datetime(2017, 12, 13, 0, 0), datetime.datetime(2017, 12, 12, 0, 0), datetime.datetime(2017, 12, 12, 0, 0), datetime.datetime(2017, 12, 12, 0, 0), datetime.datetime(2017, 12, 12, 0, 0), datetime.datetime(2017, 12, 12, 0, 0), datetime.datetime(2017, 12, 12, 0, 0), datetime.datetime(2017, 12, 12, 0, 0), datetime.datetime(2017, 12, 12, 0, 0), datetime.datetime(2017, 12, 12, 0, 0), datetime.datetime(2017, 12, 12, 0, 0), datetime.datetime(2017, 12, 12, 0, 0), datetime.datetime(2017, 12, 12, 0, 0), datetime.datetime(2017, 12, 12, 0, 0), datetime.datetime(2017, 12, 12, 0, 0), datetime.datetime(2017, 12, 12, 0, 0), datetime.datetime(2017, 12, 12, 0, 0), datetime.datetime(2017, 12, 12, 0, 0), datetime.datetime(2017, 12, 12, 0, 0), datetime.datetime(2017, 12, 12, 0, 0), datetime.datetime(2017, 12, 11, 0, 0), datetime.datetime(2017, 12, 11, 0, 0), datetime.datetime(2017, 12, 11, 0, 0), datetime.datetime(2017, 12, 11, 0, 0), datetime.datetime(2017, 12, 11, 0, 0), datetime.datetime(2017, 12, 11, 0, 0), datetime.datetime(2017, 12, 11, 0, 0), datetime.datetime(2017, 12, 11, 0, 0), datetime.datetime(2017, 12, 11, 0, 0), datetime.datetime(2017, 12, 11, 0, 0), datetime.datetime(2017, 12, 11, 0, 0), datetime.datetime(2017, 12, 11, 0, 0), datetime.datetime(2017, 12, 11, 0, 0), datetime.datetime(2017, 12, 11, 0, 0), datetime.datetime(2017, 12, 11, 0, 0), datetime.datetime(2017, 12, 11, 0, 0), datetime.datetime(2017, 12, 10, 0, 0), datetime.datetime(2017, 12, 10, 0, 0), datetime.datetime(2017, 12, 10, 0, 0), datetime.datetime(2017, 12, 10, 0, 0), datetime.datetime(2017, 12, 10, 0, 0), datetime.datetime(2017, 12, 10, 0, 0), datetime.datetime(2017, 12, 10, 0, 0), datetime.datetime(2017, 12, 10, 0, 0), datetime.datetime(2017, 12, 10, 0, 0), datetime.datetime(2017, 12, 10, 0, 0), datetime.datetime(2017, 12, 9, 0, 0), datetime.datetime(2017, 12, 9, 0, 0), datetime.datetime(2017, 12, 9, 0, 0), datetime.datetime(2017, 12, 9, 0, 0), datetime.datetime(2017, 12, 9, 0, 0), datetime.datetime(2017, 12, 9, 0, 0), datetime.datetime(2017, 12, 9, 0, 0), datetime.datetime(2017, 12, 9, 0, 0), datetime.datetime(2017, 12, 8, 0, 0), datetime.datetime(2017, 12, 8, 0, 0), datetime.datetime(2017, 12, 8, 0, 0), datetime.datetime(2017, 12, 8, 0, 0), datetime.datetime(2017, 12, 8, 0, 0), datetime.datetime(2017, 12, 8, 0, 0), datetime.datetime(2017, 12, 8, 0, 0), datetime.datetime(2017, 12, 8, 0, 0), datetime.datetime(2017, 12, 8, 0, 0), datetime.datetime(2017, 12, 7, 0, 0), datetime.datetime(2017, 12, 7, 0, 0), datetime.datetime(2017, 12, 7, 0, 0), datetime.datetime(2017, 12, 7, 0, 0), datetime.datetime(2017, 12, 7, 0, 0), datetime.datetime(2017, 12, 7, 0, 0), datetime.datetime(2017, 12, 7, 0, 0), datetime.datetime(2017, 12, 7, 0, 0), datetime.datetime(2017, 12, 7, 0, 0), datetime.datetime(2017, 12, 7, 0, 0), datetime.datetime(2017, 12, 7, 0, 0), datetime.datetime(2017, 12, 7, 0, 0), datetime.datetime(2017, 12, 7, 0, 0), datetime.datetime(2017, 12, 7, 0, 0), datetime.datetime(2017, 12, 7, 0, 0), datetime.datetime(2017, 12, 6, 0, 0), datetime.datetime(2017, 12, 6, 0, 0), datetime.datetime(2017, 12, 6, 0, 0), datetime.datetime(2017, 12, 6, 0, 0), datetime.datetime(2017, 12, 6, 0, 0), datetime.datetime(2017, 12, 6, 0, 0), datetime.datetime(2017, 12, 6, 0, 0), datetime.datetime(2017, 12, 6, 0, 0), datetime.datetime(2017, 12, 6, 0, 0), datetime.datetime(2017, 12, 6, 0, 0), datetime.datetime(2017, 12, 6, 0, 0), datetime.datetime(2017, 12, 6, 0, 0), datetime.datetime(2017, 12, 6, 0, 0), datetime.datetime(2017, 12, 6, 0, 0), datetime.datetime(2017, 12, 6, 0, 0), datetime.datetime(2017, 12, 6, 0, 0), datetime.datetime(2017, 12, 6, 0, 0), datetime.datetime(2017, 12, 6, 0, 0), datetime.datetime(2017, 12, 5, 0, 0), datetime.datetime(2017, 12, 5, 0, 0), datetime.datetime(2017, 12, 5, 0, 0), datetime.datetime(2017, 12, 5, 0, 0), datetime.datetime(2017, 12, 5, 0, 0), datetime.datetime(2017, 12, 5, 0, 0), datetime.datetime(2017, 12, 5, 0, 0), datetime.datetime(2017, 12, 5, 0, 0), datetime.datetime(2017, 12, 5, 0, 0), datetime.datetime(2017, 12, 5, 0, 0), datetime.datetime(2017, 12, 5, 0, 0), datetime.datetime(2017, 12, 5, 0, 0), datetime.datetime(2017, 12, 5, 0, 0), datetime.datetime(2017, 12, 5, 0, 0), datetime.datetime(2017, 12, 5, 0, 0), datetime.datetime(2017, 12, 5, 0, 0), datetime.datetime(2017, 12, 4, 0, 0), datetime.datetime(2017, 12, 4, 0, 0), datetime.datetime(2017, 12, 4, 0, 0), datetime.datetime(2017, 12, 4, 0, 0), datetime.datetime(2017, 12, 4, 0, 0), datetime.datetime(2017, 12, 4, 0, 0), datetime.datetime(2017, 12, 4, 0, 0), datetime.datetime(2017, 12, 4, 0, 0), datetime.datetime(2017, 12, 4, 0, 0), datetime.datetime(2017, 12, 3, 0, 0), datetime.datetime(2017, 12, 3, 0, 0), datetime.datetime(2017, 12, 3, 0, 0), datetime.datetime(2017, 12, 3, 0, 0), datetime.datetime(2017, 12, 3, 0, 0), datetime.datetime(2017, 12, 2, 0, 0), datetime.datetime(2017, 12, 2, 0, 0), datetime.datetime(2017, 12, 2, 0, 0), datetime.datetime(2017, 12, 2, 0, 0), datetime.datetime(2017, 12, 2, 0, 0), datetime.datetime(2017, 12, 2, 0, 0), datetime.datetime(2017, 12, 1, 0, 0), datetime.datetime(2017, 12, 1, 0, 0), datetime.datetime(2017, 12, 1, 0, 0), datetime.datetime(2017, 12, 1, 0, 0), datetime.datetime(2017, 12, 1, 0, 0), datetime.datetime(2017, 12, 1, 0, 0), datetime.datetime(2017, 12, 1, 0, 0), datetime.datetime(2017, 12, 1, 0, 0), datetime.datetime(2017, 12, 1, 0, 0), datetime.datetime(2017, 12, 1, 0, 0), datetime.datetime(2017, 12, 1, 0, 0), datetime.datetime(2017, 12, 1, 0, 0), datetime.datetime(2017, 12, 1, 0, 0), datetime.datetime(2017, 12, 1, 0, 0), datetime.datetime(2017, 11, 30, 0, 0), datetime.datetime(2017, 11, 30, 0, 0), datetime.datetime(2017, 11, 30, 0, 0), datetime.datetime(2017, 11, 30, 0, 0), datetime.datetime(2017, 11, 30, 0, 0), datetime.datetime(2017, 11, 30, 0, 0), datetime.datetime(2017, 11, 30, 0, 0), datetime.datetime(2017, 11, 30, 0, 0), datetime.datetime(2017, 11, 30, 0, 0), datetime.datetime(2017, 11, 30, 0, 0), datetime.datetime(2017, 11, 30, 0, 0), datetime.datetime(2017, 11, 30, 0, 0), datetime.datetime(2017, 11, 30, 0, 0), datetime.datetime(2017, 11, 30, 0, 0), datetime.datetime(2017, 11, 30, 0, 0), datetime.datetime(2017, 11, 30, 0, 0), datetime.datetime(2017, 11, 30, 0, 0), datetime.datetime(2017, 11, 29, 0, 0), datetime.datetime(2017, 11, 29, 0, 0), datetime.datetime(2017, 11, 29, 0, 0), datetime.datetime(2017, 11, 29, 0, 0), datetime.datetime(2017, 11, 29, 0, 0), datetime.datetime(2017, 11, 29, 0, 0), datetime.datetime(2017, 11, 29, 0, 0), datetime.datetime(2017, 11, 29, 0, 0), datetime.datetime(2017, 11, 29, 0, 0), datetime.datetime(2017, 11, 29, 0, 0), datetime.datetime(2017, 11, 29, 0, 0), datetime.datetime(2017, 11, 29, 0, 0), datetime.datetime(2017, 11, 29, 0, 0), datetime.datetime(2017, 11, 29, 0, 0), datetime.datetime(2017, 11, 28, 0, 0), datetime.datetime(2017, 11, 28, 0, 0), datetime.datetime(2017, 11, 28, 0, 0), datetime.datetime(2017, 11, 28, 0, 0), datetime.datetime(2017, 11, 28, 0, 0), datetime.datetime(2017, 11, 28, 0, 0), datetime.datetime(2017, 11, 28, 0, 0), datetime.datetime(2017, 11, 28, 0, 0), datetime.datetime(2017, 11, 28, 0, 0), datetime.datetime(2017, 11, 28, 0, 0), datetime.datetime(2017, 11, 28, 0, 0), datetime.datetime(2017, 11, 28, 0, 0), datetime.datetime(2017, 11, 28, 0, 0), datetime.datetime(2017, 11, 28, 0, 0), datetime.datetime(2017, 11, 28, 0, 0), datetime.datetime(2017, 11, 28, 0, 0), datetime.datetime(2017, 11, 28, 0, 0), datetime.datetime(2017, 11, 28, 0, 0), datetime.datetime(2017, 11, 28, 0, 0), datetime.datetime(2017, 11, 28, 0, 0), datetime.datetime(2017, 11, 28, 0, 0), datetime.datetime(2017, 11, 28, 0, 0), datetime.datetime(2017, 11, 27, 0, 0), datetime.datetime(2017, 11, 27, 0, 0), datetime.datetime(2017, 11, 27, 0, 0), datetime.datetime(2017, 11, 27, 0, 0), datetime.datetime(2017, 11, 27, 0, 0), datetime.datetime(2017, 11, 27, 0, 0), datetime.datetime(2017, 11, 27, 0, 0), datetime.datetime(2017, 11, 27, 0, 0), datetime.datetime(2017, 11, 27, 0, 0), datetime.datetime(2017, 11, 27, 0, 0), datetime.datetime(2017, 11, 27, 0, 0), datetime.datetime(2017, 11, 27, 0, 0), datetime.datetime(2017, 11, 27, 0, 0), datetime.datetime(2017, 11, 27, 0, 0), datetime.datetime(2017, 11, 27, 0, 0), datetime.datetime(2017, 11, 26, 0, 0), datetime.datetime(2017, 11, 26, 0, 0), datetime.datetime(2017, 11, 26, 0, 0), datetime.datetime(2017, 11, 26, 0, 0), datetime.datetime(2017, 11, 26, 0, 0), datetime.datetime(2017, 11, 26, 0, 0), datetime.datetime(2017, 11, 25, 0, 0), datetime.datetime(2017, 11, 25, 0, 0), datetime.datetime(2017, 11, 25, 0, 0), datetime.datetime(2017, 11, 25, 0, 0), datetime.datetime(2017, 11, 25, 0, 0), datetime.datetime(2017, 11, 24, 0, 0), datetime.datetime(2017, 11, 24, 0, 0), datetime.datetime(2017, 11, 24, 0, 0), datetime.datetime(2017, 11, 24, 0, 0), datetime.datetime(2017, 11, 24, 0, 0), datetime.datetime(2017, 11, 24, 0, 0), datetime.datetime(2017, 11, 24, 0, 0), datetime.datetime(2017, 11, 24, 0, 0), datetime.datetime(2017, 11, 23, 0, 0), datetime.datetime(2017, 11, 23, 0, 0), datetime.datetime(2017, 11, 23, 0, 0), datetime.datetime(2017, 11, 23, 0, 0), datetime.datetime(2017, 11, 23, 0, 0), datetime.datetime(2017, 11, 23, 0, 0), datetime.datetime(2017, 11, 23, 0, 0), datetime.datetime(2017, 11, 23, 0, 0), datetime.datetime(2017, 11, 22, 0, 0), datetime.datetime(2017, 11, 22, 0, 0), datetime.datetime(2017, 11, 22, 0, 0), datetime.datetime(2017, 11, 22, 0, 0), datetime.datetime(2017, 11, 22, 0, 0), datetime.datetime(2017, 11, 22, 0, 0), datetime.datetime(2017, 11, 22, 0, 0), datetime.datetime(2017, 11, 22, 0, 0), datetime.datetime(2017, 11, 22, 0, 0), datetime.datetime(2017, 11, 22, 0, 0), datetime.datetime(2017, 11, 22, 0, 0), datetime.datetime(2017, 11, 22, 0, 0), datetime.datetime(2017, 11, 22, 0, 0), datetime.datetime(2017, 11, 22, 0, 0), datetime.datetime(2017, 11, 22, 0, 0), datetime.datetime(2017, 11, 21, 0, 0), datetime.datetime(2017, 11, 21, 0, 0), datetime.datetime(2017, 11, 21, 0, 0), datetime.datetime(2017, 11, 21, 0, 0), datetime.datetime(2017, 11, 21, 0, 0), datetime.datetime(2017, 11, 21, 0, 0), datetime.datetime(2017, 11, 21, 0, 0), datetime.datetime(2017, 11, 21, 0, 0), datetime.datetime(2017, 11, 21, 0, 0), datetime.datetime(2017, 11, 21, 0, 0), datetime.datetime(2017, 11, 21, 0, 0), datetime.datetime(2017, 11, 21, 0, 0), datetime.datetime(2017, 11, 21, 0, 0), datetime.datetime(2017, 11, 21, 0, 0), datetime.datetime(2017, 11, 21, 0, 0), datetime.datetime(2017, 11, 21, 0, 0), datetime.datetime(2017, 11, 21, 0, 0), datetime.datetime(2017, 11, 21, 0, 0), datetime.datetime(2017, 11, 21, 0, 0), datetime.datetime(2017, 11, 21, 0, 0), datetime.datetime(2017, 11, 20, 0, 0), datetime.datetime(2017, 11, 20, 0, 0), datetime.datetime(2017, 11, 20, 0, 0), datetime.datetime(2017, 11, 20, 0, 0), datetime.datetime(2017, 11, 20, 0, 0), datetime.datetime(2017, 11, 20, 0, 0), datetime.datetime(2017, 11, 20, 0, 0), datetime.datetime(2017, 11, 20, 0, 0), datetime.datetime(2017, 11, 20, 0, 0), datetime.datetime(2017, 11, 20, 0, 0), datetime.datetime(2017, 11, 20, 0, 0), datetime.datetime(2017, 11, 20, 0, 0), datetime.datetime(2017, 11, 20, 0, 0), datetime.datetime(2017, 11, 20, 0, 0), datetime.datetime(2017, 11, 20, 0, 0), datetime.datetime(2017, 11, 20, 0, 0), datetime.datetime(2017, 11, 20, 0, 0), datetime.datetime(2017, 11, 20, 0, 0), datetime.datetime(2017, 11, 20, 0, 0), datetime.datetime(2017, 11, 20, 0, 0), datetime.datetime(2017, 11, 20, 0, 0), datetime.datetime(2017, 11, 19, 0, 0), datetime.datetime(2017, 11, 19, 0, 0), datetime.datetime(2017, 11, 19, 0, 0), datetime.datetime(2017, 11, 19, 0, 0), datetime.datetime(2017, 11, 19, 0, 0), datetime.datetime(2017, 11, 19, 0, 0), datetime.datetime(2017, 11, 18, 0, 0), datetime.datetime(2017, 11, 18, 0, 0), datetime.datetime(2017, 11, 18, 0, 0), datetime.datetime(2017, 11, 18, 0, 0), datetime.datetime(2017, 11, 18, 0, 0), datetime.datetime(2017, 11, 18, 0, 0), datetime.datetime(2017, 11, 18, 0, 0), datetime.datetime(2017, 11, 17, 0, 0), datetime.datetime(2017, 11, 17, 0, 0), datetime.datetime(2017, 11, 17, 0, 0), datetime.datetime(2017, 11, 17, 0, 0), datetime.datetime(2017, 11, 17, 0, 0), datetime.datetime(2017, 11, 17, 0, 0), datetime.datetime(2017, 11, 17, 0, 0), datetime.datetime(2017, 11, 17, 0, 0), datetime.datetime(2017, 11, 17, 0, 0), datetime.datetime(2017, 11, 17, 0, 0), datetime.datetime(2017, 11, 16, 0, 0), datetime.datetime(2017, 11, 16, 0, 0), datetime.datetime(2017, 11, 16, 0, 0), datetime.datetime(2017, 11, 16, 0, 0), datetime.datetime(2017, 11, 16, 0, 0), datetime.datetime(2017, 11, 16, 0, 0), datetime.datetime(2017, 11, 16, 0, 0), datetime.datetime(2017, 11, 16, 0, 0), datetime.datetime(2017, 11, 16, 0, 0), datetime.datetime(2017, 11, 16, 0, 0), datetime.datetime(2017, 11, 16, 0, 0), datetime.datetime(2017, 11, 16, 0, 0), datetime.datetime(2017, 11, 16, 0, 0), datetime.datetime(2017, 11, 15, 0, 0), datetime.datetime(2017, 11, 15, 0, 0), datetime.datetime(2017, 11, 15, 0, 0), datetime.datetime(2017, 11, 15, 0, 0), datetime.datetime(2017, 11, 15, 0, 0), datetime.datetime(2017, 11, 15, 0, 0), datetime.datetime(2017, 11, 15, 0, 0), datetime.datetime(2017, 11, 15, 0, 0), datetime.datetime(2017, 11, 15, 0, 0), datetime.datetime(2017, 11, 15, 0, 0), datetime.datetime(2017, 11, 14, 0, 0), datetime.datetime(2017, 11, 14, 0, 0), datetime.datetime(2017, 11, 14, 0, 0), datetime.datetime(2017, 11, 14, 0, 0), datetime.datetime(2017, 11, 14, 0, 0), datetime.datetime(2017, 11, 14, 0, 0), datetime.datetime(2017, 11, 14, 0, 0), datetime.datetime(2017, 11, 14, 0, 0), datetime.datetime(2017, 11, 14, 0, 0), datetime.datetime(2017, 11, 14, 0, 0), datetime.datetime(2017, 11, 14, 0, 0), datetime.datetime(2017, 11, 14, 0, 0), datetime.datetime(2017, 11, 14, 0, 0), datetime.datetime(2017, 11, 14, 0, 0), datetime.datetime(2017, 11, 14, 0, 0), datetime.datetime(2017, 11, 13, 0, 0), datetime.datetime(2017, 11, 13, 0, 0), datetime.datetime(2017, 11, 13, 0, 0), datetime.datetime(2017, 11, 13, 0, 0), datetime.datetime(2017, 11, 13, 0, 0), datetime.datetime(2017, 11, 13, 0, 0), datetime.datetime(2017, 11, 13, 0, 0), datetime.datetime(2017, 11, 13, 0, 0), datetime.datetime(2017, 11, 13, 0, 0), datetime.datetime(2017, 11, 12, 0, 0), datetime.datetime(2017, 11, 12, 0, 0), datetime.datetime(2017, 11, 12, 0, 0), datetime.datetime(2017, 11, 12, 0, 0), datetime.datetime(2017, 11, 12, 0, 0), datetime.datetime(2017, 11, 11, 0, 0), datetime.datetime(2017, 11, 11, 0, 0), datetime.datetime(2017, 11, 11, 0, 0), datetime.datetime(2017, 11, 11, 0, 0), datetime.datetime(2017, 11, 11, 0, 0), datetime.datetime(2017, 11, 11, 0, 0), datetime.datetime(2017, 11, 11, 0, 0), datetime.datetime(2017, 11, 10, 0, 0), datetime.datetime(2017, 11, 10, 0, 0), datetime.datetime(2017, 11, 10, 0, 0), datetime.datetime(2017, 11, 10, 0, 0), datetime.datetime(2017, 11, 10, 0, 0), datetime.datetime(2017, 11, 10, 0, 0), datetime.datetime(2017, 11, 10, 0, 0), datetime.datetime(2017, 11, 10, 0, 0), datetime.datetime(2017, 11, 10, 0, 0), datetime.datetime(2017, 11, 10, 0, 0), datetime.datetime(2017, 11, 10, 0, 0), datetime.datetime(2017, 11, 10, 0, 0), datetime.datetime(2017, 11, 9, 0, 0), datetime.datetime(2017, 11, 9, 0, 0), datetime.datetime(2017, 11, 9, 0, 0), datetime.datetime(2017, 11, 9, 0, 0), datetime.datetime(2017, 11, 9, 0, 0), datetime.datetime(2017, 11, 9, 0, 0), datetime.datetime(2017, 11, 9, 0, 0), datetime.datetime(2017, 11, 9, 0, 0), datetime.datetime(2017, 11, 9, 0, 0), datetime.datetime(2017, 11, 9, 0, 0), datetime.datetime(2017, 11, 9, 0, 0), datetime.datetime(2017, 11, 9, 0, 0), datetime.datetime(2017, 11, 9, 0, 0), datetime.datetime(2017, 11, 8, 0, 0), datetime.datetime(2017, 11, 8, 0, 0), datetime.datetime(2017, 11, 8, 0, 0), datetime.datetime(2017, 11, 8, 0, 0), datetime.datetime(2017, 11, 8, 0, 0), datetime.datetime(2017, 11, 8, 0, 0), datetime.datetime(2017, 11, 8, 0, 0), datetime.datetime(2017, 11, 8, 0, 0), datetime.datetime(2017, 11, 8, 0, 0), datetime.datetime(2017, 11, 8, 0, 0), datetime.datetime(2017, 11, 8, 0, 0), datetime.datetime(2017, 11, 8, 0, 0), datetime.datetime(2017, 11, 7, 0, 0), datetime.datetime(2017, 11, 7, 0, 0), datetime.datetime(2017, 11, 7, 0, 0), datetime.datetime(2017, 11, 7, 0, 0), datetime.datetime(2017, 11, 7, 0, 0), datetime.datetime(2017, 11, 7, 0, 0), datetime.datetime(2017, 11, 7, 0, 0), datetime.datetime(2017, 11, 7, 0, 0), datetime.datetime(2017, 11, 7, 0, 0), datetime.datetime(2017, 11, 7, 0, 0), datetime.datetime(2017, 11, 7, 0, 0), datetime.datetime(2017, 11, 7, 0, 0), datetime.datetime(2017, 11, 7, 0, 0), datetime.datetime(2017, 11, 7, 0, 0), datetime.datetime(2017, 11, 7, 0, 0), datetime.datetime(2017, 11, 7, 0, 0), datetime.datetime(2017, 11, 7, 0, 0), datetime.datetime(2017, 11, 7, 0, 0), datetime.datetime(2017, 11, 7, 0, 0), datetime.datetime(2017, 11, 7, 0, 0), datetime.datetime(2017, 11, 6, 0, 0), datetime.datetime(2017, 11, 6, 0, 0), datetime.datetime(2017, 11, 6, 0, 0), datetime.datetime(2017, 11, 6, 0, 0), datetime.datetime(2017, 11, 6, 0, 0), datetime.datetime(2017, 11, 6, 0, 0), datetime.datetime(2017, 11, 5, 0, 0), datetime.datetime(2017, 11, 5, 0, 0), datetime.datetime(2017, 11, 5, 0, 0), datetime.datetime(2017, 11, 5, 0, 0), datetime.datetime(2017, 11, 5, 0, 0), datetime.datetime(2017, 11, 5, 0, 0), datetime.datetime(2017, 11, 5, 0, 0), datetime.datetime(2017, 11, 4, 0, 0), datetime.datetime(2017, 11, 4, 0, 0), datetime.datetime(2017, 11, 4, 0, 0), datetime.datetime(2017, 11, 4, 0, 0), datetime.datetime(2017, 11, 4, 0, 0), datetime.datetime(2017, 11, 4, 0, 0), datetime.datetime(2017, 11, 4, 0, 0), datetime.datetime(2017, 11, 4, 0, 0), datetime.datetime(2017, 11, 3, 0, 0), datetime.datetime(2017, 11, 3, 0, 0), datetime.datetime(2017, 11, 3, 0, 0), datetime.datetime(2017, 11, 3, 0, 0), datetime.datetime(2017, 11, 3, 0, 0), datetime.datetime(2017, 11, 3, 0, 0), datetime.datetime(2017, 11, 3, 0, 0), datetime.datetime(2017, 11, 3, 0, 0), datetime.datetime(2017, 11, 3, 0, 0), datetime.datetime(2017, 11, 3, 0, 0), datetime.datetime(2017, 11, 2, 0, 0), datetime.datetime(2017, 11, 2, 0, 0), datetime.datetime(2017, 11, 2, 0, 0), datetime.datetime(2017, 11, 2, 0, 0), datetime.datetime(2017, 11, 2, 0, 0), datetime.datetime(2017, 11, 2, 0, 0), datetime.datetime(2017, 11, 1, 0, 0), datetime.datetime(2017, 11, 1, 0, 0), datetime.datetime(2017, 11, 1, 0, 0), datetime.datetime(2017, 11, 1, 0, 0), datetime.datetime(2017, 11, 1, 0, 0), datetime.datetime(2017, 11, 1, 0, 0), datetime.datetime(2017, 11, 1, 0, 0), datetime.datetime(2017, 11, 1, 0, 0), datetime.datetime(2017, 11, 1, 0, 0), datetime.datetime(2017, 11, 1, 0, 0), datetime.datetime(2017, 11, 1, 0, 0), datetime.datetime(2017, 11, 1, 0, 0), datetime.datetime(2017, 11, 1, 0, 0), datetime.datetime(2017, 11, 1, 0, 0), datetime.datetime(2017, 10, 31, 0, 0), datetime.datetime(2017, 10, 31, 0, 0), datetime.datetime(2017, 10, 31, 0, 0), datetime.datetime(2017, 10, 31, 0, 0), datetime.datetime(2017, 10, 31, 0, 0), datetime.datetime(2017, 10, 31, 0, 0), datetime.datetime(2017, 10, 31, 0, 0), datetime.datetime(2017, 10, 31, 0, 0), datetime.datetime(2017, 10, 31, 0, 0), datetime.datetime(2017, 10, 31, 0, 0), datetime.datetime(2017, 10, 30, 0, 0), datetime.datetime(2017, 10, 30, 0, 0), datetime.datetime(2017, 10, 30, 0, 0), datetime.datetime(2017, 10, 30, 0, 0), datetime.datetime(2017, 10, 30, 0, 0), datetime.datetime(2017, 10, 30, 0, 0), datetime.datetime(2017, 10, 30, 0, 0), datetime.datetime(2017, 10, 30, 0, 0), datetime.datetime(2017, 10, 30, 0, 0), datetime.datetime(2017, 10, 30, 0, 0), datetime.datetime(2017, 10, 30, 0, 0), datetime.datetime(2017, 10, 29, 0, 0), datetime.datetime(2017, 10, 29, 0, 0), datetime.datetime(2017, 10, 29, 0, 0), datetime.datetime(2017, 10, 29, 0, 0), datetime.datetime(2017, 10, 28, 0, 0), datetime.datetime(2017, 10, 28, 0, 0), datetime.datetime(2017, 10, 28, 0, 0), datetime.datetime(2017, 10, 28, 0, 0), datetime.datetime(2017, 10, 27, 0, 0), datetime.datetime(2017, 10, 27, 0, 0), datetime.datetime(2017, 10, 27, 0, 0), datetime.datetime(2017, 10, 27, 0, 0), datetime.datetime(2017, 10, 27, 0, 0), datetime.datetime(2017, 10, 27, 0, 0), datetime.datetime(2017, 10, 27, 0, 0), datetime.datetime(2017, 10, 26, 0, 0), datetime.datetime(2017, 10, 26, 0, 0), datetime.datetime(2017, 10, 26, 0, 0), datetime.datetime(2017, 10, 26, 0, 0), datetime.datetime(2017, 10, 26, 0, 0), datetime.datetime(2017, 10, 26, 0, 0), datetime.datetime(2017, 10, 26, 0, 0), datetime.datetime(2017, 10, 26, 0, 0), datetime.datetime(2017, 10, 25, 0, 0), datetime.datetime(2017, 10, 25, 0, 0), datetime.datetime(2017, 10, 25, 0, 0), datetime.datetime(2017, 10, 25, 0, 0), datetime.datetime(2017, 10, 25, 0, 0), datetime.datetime(2017, 10, 25, 0, 0), datetime.datetime(2017, 10, 25, 0, 0), datetime.datetime(2017, 10, 25, 0, 0), datetime.datetime(2017, 10, 25, 0, 0), datetime.datetime(2017, 10, 25, 0, 0), datetime.datetime(2017, 10, 25, 0, 0), datetime.datetime(2017, 10, 25, 0, 0), datetime.datetime(2017, 10, 25, 0, 0), datetime.datetime(2017, 10, 24, 0, 0), datetime.datetime(2017, 10, 24, 0, 0), datetime.datetime(2017, 10, 24, 0, 0), datetime.datetime(2017, 10, 24, 0, 0), datetime.datetime(2017, 10, 24, 0, 0), datetime.datetime(2017, 10, 24, 0, 0), datetime.datetime(2017, 10, 24, 0, 0), datetime.datetime(2017, 10, 24, 0, 0), datetime.datetime(2017, 10, 24, 0, 0), datetime.datetime(2017, 10, 24, 0, 0), datetime.datetime(2017, 10, 23, 0, 0), datetime.datetime(2017, 10, 23, 0, 0), datetime.datetime(2017, 10, 23, 0, 0), datetime.datetime(2017, 10, 23, 0, 0), datetime.datetime(2017, 10, 23, 0, 0), datetime.datetime(2017, 10, 23, 0, 0), datetime.datetime(2017, 10, 23, 0, 0), datetime.datetime(2017, 10, 23, 0, 0), datetime.datetime(2017, 10, 23, 0, 0), datetime.datetime(2017, 10, 23, 0, 0), datetime.datetime(2017, 10, 23, 0, 0), datetime.datetime(2017, 10, 23, 0, 0), datetime.datetime(2017, 10, 22, 0, 0), datetime.datetime(2017, 10, 21, 0, 0), datetime.datetime(2017, 10, 21, 0, 0), datetime.datetime(2017, 10, 21, 0, 0), datetime.datetime(2017, 10, 21, 0, 0), datetime.datetime(2017, 10, 21, 0, 0), datetime.datetime(2017, 10, 21, 0, 0), datetime.datetime(2017, 10, 20, 0, 0), datetime.datetime(2017, 10, 20, 0, 0), datetime.datetime(2017, 10, 20, 0, 0), datetime.datetime(2017, 10, 20, 0, 0), datetime.datetime(2017, 10, 20, 0, 0), datetime.datetime(2017, 10, 19, 0, 0), datetime.datetime(2017, 10, 19, 0, 0), datetime.datetime(2017, 10, 19, 0, 0), datetime.datetime(2017, 10, 19, 0, 0), datetime.datetime(2017, 10, 19, 0, 0), datetime.datetime(2017, 10, 18, 0, 0), datetime.datetime(2017, 10, 18, 0, 0), datetime.datetime(2017, 10, 18, 0, 0), datetime.datetime(2017, 10, 18, 0, 0), datetime.datetime(2017, 10, 18, 0, 0), datetime.datetime(2017, 10, 18, 0, 0), datetime.datetime(2017, 10, 18, 0, 0), datetime.datetime(2017, 10, 18, 0, 0), datetime.datetime(2017, 10, 17, 0, 0), datetime.datetime(2017, 10, 17, 0, 0), datetime.datetime(2017, 10, 17, 0, 0), datetime.datetime(2017, 10, 17, 0, 0), datetime.datetime(2017, 10, 16, 0, 0), datetime.datetime(2017, 10, 16, 0, 0), datetime.datetime(2017, 10, 16, 0, 0), datetime.datetime(2017, 10, 16, 0, 0), datetime.datetime(2017, 10, 15, 0, 0), datetime.datetime(2017, 10, 15, 0, 0), datetime.datetime(2017, 10, 15, 0, 0), datetime.datetime(2017, 10, 14, 0, 0), datetime.datetime(2017, 10, 14, 0, 0), datetime.datetime(2017, 10, 14, 0, 0), datetime.datetime(2017, 10, 13, 0, 0), datetime.datetime(2017, 10, 13, 0, 0), datetime.datetime(2017, 10, 13, 0, 0), datetime.datetime(2017, 10, 13, 0, 0), datetime.datetime(2017, 10, 13, 0, 0), datetime.datetime(2017, 10, 12, 0, 0), datetime.datetime(2017, 10, 12, 0, 0), datetime.datetime(2017, 10, 12, 0, 0), datetime.datetime(2017, 10, 12, 0, 0), datetime.datetime(2017, 10, 12, 0, 0), datetime.datetime(2017, 10, 12, 0, 0), datetime.datetime(2017, 10, 11, 0, 0), datetime.datetime(2017, 10, 11, 0, 0), datetime.datetime(2017, 10, 11, 0, 0), datetime.datetime(2017, 10, 11, 0, 0), datetime.datetime(2017, 10, 11, 0, 0), datetime.datetime(2017, 10, 11, 0, 0), datetime.datetime(2017, 10, 11, 0, 0), datetime.datetime(2017, 10, 11, 0, 0), datetime.datetime(2017, 10, 11, 0, 0), datetime.datetime(2017, 10, 10, 0, 0), datetime.datetime(2017, 10, 10, 0, 0), datetime.datetime(2017, 10, 10, 0, 0), datetime.datetime(2017, 10, 10, 0, 0), datetime.datetime(2017, 10, 10, 0, 0), datetime.datetime(2017, 10, 10, 0, 0), datetime.datetime(2017, 10, 10, 0, 0), datetime.datetime(2017, 10, 10, 0, 0), datetime.datetime(2017, 10, 10, 0, 0), datetime.datetime(2017, 10, 10, 0, 0), datetime.datetime(2017, 10, 10, 0, 0), datetime.datetime(2017, 10, 10, 0, 0), datetime.datetime(2017, 10, 9, 0, 0), datetime.datetime(2017, 10, 9, 0, 0), datetime.datetime(2017, 10, 9, 0, 0), datetime.datetime(2017, 10, 9, 0, 0), datetime.datetime(2017, 10, 9, 0, 0), datetime.datetime(2017, 10, 8, 0, 0), datetime.datetime(2017, 10, 8, 0, 0), datetime.datetime(2017, 10, 8, 0, 0), datetime.datetime(2017, 10, 8, 0, 0), datetime.datetime(2017, 10, 8, 0, 0), datetime.datetime(2017, 10, 6, 0, 0), datetime.datetime(2017, 10, 6, 0, 0), datetime.datetime(2017, 10, 6, 0, 0), datetime.datetime(2017, 10, 6, 0, 0), datetime.datetime(2017, 10, 6, 0, 0), datetime.datetime(2017, 10, 6, 0, 0), datetime.datetime(2017, 10, 6, 0, 0), datetime.datetime(2017, 10, 5, 0, 0), datetime.datetime(2017, 10, 5, 0, 0), datetime.datetime(2017, 10, 5, 0, 0), datetime.datetime(2017, 10, 5, 0, 0), datetime.datetime(2017, 10, 5, 0, 0), datetime.datetime(2017, 10, 5, 0, 0), datetime.datetime(2017, 10, 5, 0, 0), datetime.datetime(2017, 10, 5, 0, 0), datetime.datetime(2017, 10, 5, 0, 0), datetime.datetime(2017, 10, 5, 0, 0), datetime.datetime(2017, 10, 5, 0, 0), datetime.datetime(2017, 10, 4, 0, 0), datetime.datetime(2017, 10, 4, 0, 0), datetime.datetime(2017, 10, 4, 0, 0), datetime.datetime(2017, 10, 4, 0, 0), datetime.datetime(2017, 10, 4, 0, 0), datetime.datetime(2017, 10, 3, 0, 0), datetime.datetime(2017, 10, 3, 0, 0), datetime.datetime(2017, 10, 3, 0, 0), datetime.datetime(2017, 10, 3, 0, 0), datetime.datetime(2017, 10, 3, 0, 0), datetime.datetime(2017, 10, 3, 0, 0), datetime.datetime(2017, 10, 3, 0, 0), datetime.datetime(2017, 10, 3, 0, 0), datetime.datetime(2017, 10, 3, 0, 0), datetime.datetime(2017, 10, 3, 0, 0), datetime.datetime(2017, 10, 3, 0, 0), datetime.datetime(2017, 10, 2, 0, 0), datetime.datetime(2017, 10, 2, 0, 0), datetime.datetime(2017, 10, 2, 0, 0), datetime.datetime(2017, 10, 2, 0, 0), datetime.datetime(2017, 10, 2, 0, 0), datetime.datetime(2017, 10, 2, 0, 0), datetime.datetime(2017, 10, 2, 0, 0), datetime.datetime(2017, 10, 2, 0, 0), datetime.datetime(2017, 10, 2, 0, 0), datetime.datetime(2017, 10, 2, 0, 0), datetime.datetime(2017, 10, 2, 0, 0), datetime.datetime(2017, 10, 2, 0, 0), datetime.datetime(2017, 10, 2, 0, 0), datetime.datetime(2017, 10, 2, 0, 0), datetime.datetime(2017, 10, 2, 0, 0), datetime.datetime(2017, 10, 2, 0, 0), datetime.datetime(2017, 10, 2, 0, 0), datetime.datetime(2017, 10, 1, 0, 0), datetime.datetime(2017, 10, 1, 0, 0), datetime.datetime(2017, 10, 1, 0, 0), datetime.datetime(2017, 10, 1, 0, 0), datetime.datetime(2017, 9, 30, 0, 0), datetime.datetime(2017, 9, 30, 0, 0), datetime.datetime(2017, 9, 30, 0, 0), datetime.datetime(2017, 9, 29, 0, 0), datetime.datetime(2017, 9, 29, 0, 0), datetime.datetime(2017, 9, 29, 0, 0), datetime.datetime(2017, 9, 29, 0, 0), datetime.datetime(2017, 9, 29, 0, 0), datetime.datetime(2017, 9, 29, 0, 0), datetime.datetime(2017, 9, 29, 0, 0), datetime.datetime(2017, 9, 29, 0, 0), datetime.datetime(2017, 9, 29, 0, 0), datetime.datetime(2017, 9, 28, 0, 0), datetime.datetime(2017, 9, 28, 0, 0), datetime.datetime(2017, 9, 28, 0, 0), datetime.datetime(2017, 9, 28, 0, 0), datetime.datetime(2017, 9, 28, 0, 0), datetime.datetime(2017, 9, 28, 0, 0), datetime.datetime(2017, 9, 28, 0, 0), datetime.datetime(2017, 9, 28, 0, 0), datetime.datetime(2017, 9, 27, 0, 0), datetime.datetime(2017, 9, 27, 0, 0), datetime.datetime(2017, 9, 27, 0, 0), datetime.datetime(2017, 9, 27, 0, 0), datetime.datetime(2017, 9, 27, 0, 0), datetime.datetime(2017, 9, 27, 0, 0), datetime.datetime(2017, 9, 27, 0, 0), datetime.datetime(2017, 9, 27, 0, 0), datetime.datetime(2017, 9, 27, 0, 0), datetime.datetime(2017, 9, 27, 0, 0), datetime.datetime(2017, 9, 26, 0, 0), datetime.datetime(2017, 9, 26, 0, 0), datetime.datetime(2017, 9, 26, 0, 0), datetime.datetime(2017, 9, 26, 0, 0), datetime.datetime(2017, 9, 26, 0, 0), datetime.datetime(2017, 9, 26, 0, 0), datetime.datetime(2017, 9, 26, 0, 0), datetime.datetime(2017, 9, 26, 0, 0), datetime.datetime(2017, 9, 26, 0, 0), datetime.datetime(2017, 9, 26, 0, 0), datetime.datetime(2017, 9, 26, 0, 0), datetime.datetime(2017, 9, 26, 0, 0), datetime.datetime(2017, 9, 26, 0, 0), datetime.datetime(2017, 9, 26, 0, 0), datetime.datetime(2017, 9, 25, 0, 0), datetime.datetime(2017, 9, 25, 0, 0), datetime.datetime(2017, 9, 25, 0, 0), datetime.datetime(2017, 9, 25, 0, 0), datetime.datetime(2017, 9, 25, 0, 0), datetime.datetime(2017, 9, 25, 0, 0), datetime.datetime(2017, 9, 25, 0, 0), datetime.datetime(2017, 9, 25, 0, 0), datetime.datetime(2017, 9, 25, 0, 0), datetime.datetime(2017, 9, 25, 0, 0), datetime.datetime(2017, 9, 25, 0, 0), datetime.datetime(2017, 9, 25, 0, 0), datetime.datetime(2017, 9, 24, 0, 0), datetime.datetime(2017, 9, 24, 0, 0), datetime.datetime(2017, 9, 23, 0, 0), datetime.datetime(2017, 9, 23, 0, 0), datetime.datetime(2017, 9, 23, 0, 0), datetime.datetime(2017, 9, 22, 0, 0), datetime.datetime(2017, 9, 22, 0, 0), datetime.datetime(2017, 9, 22, 0, 0), datetime.datetime(2017, 9, 22, 0, 0), datetime.datetime(2017, 9, 22, 0, 0), datetime.datetime(2017, 9, 21, 0, 0), datetime.datetime(2017, 9, 21, 0, 0), datetime.datetime(2017, 9, 21, 0, 0), datetime.datetime(2017, 9, 21, 0, 0), datetime.datetime(2017, 9, 21, 0, 0), datetime.datetime(2017, 9, 21, 0, 0), datetime.datetime(2017, 9, 21, 0, 0), datetime.datetime(2017, 9, 21, 0, 0), datetime.datetime(2017, 9, 21, 0, 0), datetime.datetime(2017, 9, 21, 0, 0), datetime.datetime(2017, 9, 21, 0, 0), datetime.datetime(2017, 9, 21, 0, 0), datetime.datetime(2017, 9, 21, 0, 0), datetime.datetime(2017, 9, 21, 0, 0), datetime.datetime(2017, 9, 21, 0, 0), datetime.datetime(2017, 9, 20, 0, 0), datetime.datetime(2017, 9, 20, 0, 0), datetime.datetime(2017, 9, 20, 0, 0), datetime.datetime(2017, 9, 20, 0, 0), datetime.datetime(2017, 9, 20, 0, 0), datetime.datetime(2017, 9, 20, 0, 0), datetime.datetime(2017, 9, 20, 0, 0), datetime.datetime(2017, 9, 19, 0, 0), datetime.datetime(2017, 9, 19, 0, 0), datetime.datetime(2017, 9, 19, 0, 0), datetime.datetime(2017, 9, 19, 0, 0), datetime.datetime(2017, 9, 19, 0, 0), datetime.datetime(2017, 9, 19, 0, 0), datetime.datetime(2017, 9, 19, 0, 0), datetime.datetime(2017, 9, 19, 0, 0), datetime.datetime(2017, 9, 19, 0, 0), datetime.datetime(2017, 9, 19, 0, 0), datetime.datetime(2017, 9, 19, 0, 0), datetime.datetime(2017, 9, 19, 0, 0), datetime.datetime(2017, 9, 19, 0, 0), datetime.datetime(2017, 9, 19, 0, 0), datetime.datetime(2017, 9, 19, 0, 0), datetime.datetime(2017, 9, 18, 0, 0), datetime.datetime(2017, 9, 18, 0, 0), datetime.datetime(2017, 9, 18, 0, 0), datetime.datetime(2017, 9, 18, 0, 0), datetime.datetime(2017, 9, 18, 0, 0), datetime.datetime(2017, 9, 18, 0, 0), datetime.datetime(2017, 9, 18, 0, 0), datetime.datetime(2017, 9, 17, 0, 0), datetime.datetime(2017, 9, 16, 0, 0), datetime.datetime(2017, 9, 16, 0, 0), datetime.datetime(2017, 9, 16, 0, 0), datetime.datetime(2017, 9, 16, 0, 0), datetime.datetime(2017, 9, 15, 0, 0), datetime.datetime(2017, 9, 15, 0, 0), datetime.datetime(2017, 9, 15, 0, 0), datetime.datetime(2017, 9, 15, 0, 0), datetime.datetime(2017, 9, 15, 0, 0), datetime.datetime(2017, 9, 15, 0, 0), datetime.datetime(2017, 9, 15, 0, 0), datetime.datetime(2017, 9, 14, 0, 0), datetime.datetime(2017, 9, 14, 0, 0), datetime.datetime(2017, 9, 14, 0, 0), datetime.datetime(2017, 9, 14, 0, 0), datetime.datetime(2017, 9, 14, 0, 0), datetime.datetime(2017, 9, 14, 0, 0), datetime.datetime(2017, 9, 14, 0, 0), datetime.datetime(2017, 9, 14, 0, 0), datetime.datetime(2017, 9, 14, 0, 0), datetime.datetime(2017, 9, 14, 0, 0), datetime.datetime(2017, 9, 13, 0, 0), datetime.datetime(2017, 9, 13, 0, 0), datetime.datetime(2017, 9, 13, 0, 0), datetime.datetime(2017, 9, 13, 0, 0), datetime.datetime(2017, 9, 13, 0, 0), datetime.datetime(2017, 9, 13, 0, 0), datetime.datetime(2017, 9, 13, 0, 0), datetime.datetime(2017, 9, 12, 0, 0), datetime.datetime(2017, 9, 12, 0, 0), datetime.datetime(2017, 9, 12, 0, 0), datetime.datetime(2017, 9, 12, 0, 0), datetime.datetime(2017, 9, 12, 0, 0), datetime.datetime(2017, 9, 12, 0, 0), datetime.datetime(2017, 9, 12, 0, 0), datetime.datetime(2017, 9, 12, 0, 0), datetime.datetime(2017, 9, 12, 0, 0), datetime.datetime(2017, 9, 12, 0, 0), datetime.datetime(2017, 9, 11, 0, 0), datetime.datetime(2017, 9, 11, 0, 0), datetime.datetime(2017, 9, 11, 0, 0), datetime.datetime(2017, 9, 11, 0, 0), datetime.datetime(2017, 9, 11, 0, 0), datetime.datetime(2017, 9, 11, 0, 0), datetime.datetime(2017, 9, 11, 0, 0), datetime.datetime(2017, 9, 10, 0, 0), datetime.datetime(2017, 9, 10, 0, 0), datetime.datetime(2017, 9, 10, 0, 0), datetime.datetime(2017, 9, 10, 0, 0), datetime.datetime(2017, 9, 10, 0, 0), datetime.datetime(2017, 9, 10, 0, 0), datetime.datetime(2017, 9, 10, 0, 0), datetime.datetime(2017, 9, 10, 0, 0), datetime.datetime(2017, 9, 10, 0, 0), datetime.datetime(2017, 9, 10, 0, 0), datetime.datetime(2017, 9, 9, 0, 0), datetime.datetime(2017, 9, 9, 0, 0), datetime.datetime(2017, 9, 8, 0, 0), datetime.datetime(2017, 9, 8, 0, 0), datetime.datetime(2017, 9, 8, 0, 0), datetime.datetime(2017, 9, 8, 0, 0), datetime.datetime(2017, 9, 8, 0, 0), datetime.datetime(2017, 9, 8, 0, 0), datetime.datetime(2017, 9, 7, 0, 0), datetime.datetime(2017, 9, 7, 0, 0), datetime.datetime(2017, 9, 7, 0, 0), datetime.datetime(2017, 9, 7, 0, 0), datetime.datetime(2017, 9, 7, 0, 0), datetime.datetime(2017, 9, 7, 0, 0), datetime.datetime(2017, 9, 7, 0, 0), datetime.datetime(2017, 9, 7, 0, 0), datetime.datetime(2017, 9, 7, 0, 0), datetime.datetime(2017, 9, 6, 0, 0), datetime.datetime(2017, 9, 6, 0, 0), datetime.datetime(2017, 9, 6, 0, 0), datetime.datetime(2017, 9, 6, 0, 0), datetime.datetime(2017, 9, 6, 0, 0), datetime.datetime(2017, 9, 6, 0, 0), datetime.datetime(2017, 9, 6, 0, 0), datetime.datetime(2017, 9, 6, 0, 0), datetime.datetime(2017, 9, 6, 0, 0), datetime.datetime(2017, 9, 5, 0, 0), datetime.datetime(2017, 9, 5, 0, 0), datetime.datetime(2017, 9, 5, 0, 0), datetime.datetime(2017, 9, 5, 0, 0), datetime.datetime(2017, 9, 5, 0, 0), datetime.datetime(2017, 9, 5, 0, 0), datetime.datetime(2017, 9, 4, 0, 0), datetime.datetime(2017, 9, 4, 0, 0), datetime.datetime(2017, 9, 4, 0, 0), datetime.datetime(2017, 9, 4, 0, 0), datetime.datetime(2017, 9, 4, 0, 0), datetime.datetime(2017, 9, 4, 0, 0), datetime.datetime(2017, 9, 4, 0, 0), datetime.datetime(2017, 9, 4, 0, 0), datetime.datetime(2017, 9, 4, 0, 0), datetime.datetime(2017, 9, 4, 0, 0), datetime.datetime(2017, 9, 4, 0, 0), datetime.datetime(2017, 9, 4, 0, 0), datetime.datetime(2017, 9, 4, 0, 0), datetime.datetime(2017, 9, 4, 0, 0), datetime.datetime(2017, 9, 4, 0, 0), datetime.datetime(2017, 9, 3, 0, 0), datetime.datetime(2017, 9, 3, 0, 0), datetime.datetime(2017, 9, 3, 0, 0), datetime.datetime(2017, 9, 2, 0, 0), datetime.datetime(2017, 9, 2, 0, 0), datetime.datetime(2017, 9, 2, 0, 0), datetime.datetime(2017, 9, 2, 0, 0), datetime.datetime(2017, 9, 2, 0, 0), datetime.datetime(2017, 9, 2, 0, 0), datetime.datetime(2017, 9, 1, 0, 0), datetime.datetime(2017, 9, 1, 0, 0), datetime.datetime(2017, 9, 1, 0, 0), datetime.datetime(2017, 9, 1, 0, 0), datetime.datetime(2017, 9, 1, 0, 0), datetime.datetime(2017, 9, 1, 0, 0), datetime.datetime(2017, 8, 31, 0, 0), datetime.datetime(2017, 8, 31, 0, 0), datetime.datetime(2017, 8, 31, 0, 0), datetime.datetime(2017, 8, 31, 0, 0), datetime.datetime(2017, 8, 31, 0, 0), datetime.datetime(2017, 8, 31, 0, 0), datetime.datetime(2017, 8, 30, 0, 0), datetime.datetime(2017, 8, 30, 0, 0), datetime.datetime(2017, 8, 30, 0, 0), datetime.datetime(2017, 8, 30, 0, 0), datetime.datetime(2017, 8, 30, 0, 0), datetime.datetime(2017, 8, 30, 0, 0), datetime.datetime(2017, 8, 30, 0, 0), datetime.datetime(2017, 8, 30, 0, 0), datetime.datetime(2017, 8, 30, 0, 0), datetime.datetime(2017, 8, 30, 0, 0), datetime.datetime(2017, 8, 30, 0, 0), datetime.datetime(2017, 8, 29, 0, 0), datetime.datetime(2017, 8, 29, 0, 0), datetime.datetime(2017, 8, 29, 0, 0), datetime.datetime(2017, 8, 29, 0, 0), datetime.datetime(2017, 8, 29, 0, 0), datetime.datetime(2017, 8, 29, 0, 0), datetime.datetime(2017, 8, 29, 0, 0), datetime.datetime(2017, 8, 29, 0, 0), datetime.datetime(2017, 8, 29, 0, 0), datetime.datetime(2017, 8, 29, 0, 0), datetime.datetime(2017, 8, 29, 0, 0), datetime.datetime(2017, 8, 28, 0, 0), datetime.datetime(2017, 8, 28, 0, 0), datetime.datetime(2017, 8, 28, 0, 0), datetime.datetime(2017, 8, 26, 0, 0), datetime.datetime(2017, 8, 26, 0, 0), datetime.datetime(2017, 8, 25, 0, 0), datetime.datetime(2017, 8, 25, 0, 0), datetime.datetime(2017, 8, 25, 0, 0), datetime.datetime(2017, 8, 25, 0, 0), datetime.datetime(2017, 8, 25, 0, 0), datetime.datetime(2017, 8, 25, 0, 0), datetime.datetime(2017, 8, 24, 0, 0), datetime.datetime(2017, 8, 24, 0, 0), datetime.datetime(2017, 8, 24, 0, 0), datetime.datetime(2017, 8, 24, 0, 0), datetime.datetime(2017, 8, 24, 0, 0), datetime.datetime(2017, 8, 24, 0, 0), datetime.datetime(2017, 8, 24, 0, 0), datetime.datetime(2017, 8, 24, 0, 0), datetime.datetime(2017, 8, 23, 0, 0), datetime.datetime(2017, 8, 23, 0, 0), datetime.datetime(2017, 8, 23, 0, 0), datetime.datetime(2017, 8, 23, 0, 0), datetime.datetime(2017, 8, 23, 0, 0), datetime.datetime(2017, 8, 23, 0, 0), datetime.datetime(2017, 8, 23, 0, 0), datetime.datetime(2017, 8, 23, 0, 0), datetime.datetime(2017, 8, 23, 0, 0), datetime.datetime(2017, 8, 23, 0, 0), datetime.datetime(2017, 8, 23, 0, 0), datetime.datetime(2017, 8, 22, 0, 0), datetime.datetime(2017, 8, 22, 0, 0), datetime.datetime(2017, 8, 22, 0, 0), datetime.datetime(2017, 8, 22, 0, 0), datetime.datetime(2017, 8, 22, 0, 0), datetime.datetime(2017, 8, 22, 0, 0), datetime.datetime(2017, 8, 22, 0, 0), datetime.datetime(2017, 8, 22, 0, 0), datetime.datetime(2017, 8, 22, 0, 0), datetime.datetime(2017, 8, 22, 0, 0), datetime.datetime(2017, 8, 21, 0, 0), datetime.datetime(2017, 8, 21, 0, 0), datetime.datetime(2017, 8, 21, 0, 0), datetime.datetime(2017, 8, 21, 0, 0), datetime.datetime(2017, 8, 21, 0, 0), datetime.datetime(2017, 8, 21, 0, 0), datetime.datetime(2017, 8, 21, 0, 0), datetime.datetime(2017, 8, 21, 0, 0), datetime.datetime(2017, 8, 21, 0, 0), datetime.datetime(2017, 8, 21, 0, 0), datetime.datetime(2017, 8, 21, 0, 0), datetime.datetime(2017, 8, 20, 0, 0), datetime.datetime(2017, 8, 20, 0, 0), datetime.datetime(2017, 8, 20, 0, 0), datetime.datetime(2017, 8, 19, 0, 0), datetime.datetime(2017, 8, 19, 0, 0), datetime.datetime(2017, 8, 18, 0, 0), datetime.datetime(2017, 8, 18, 0, 0), datetime.datetime(2017, 8, 18, 0, 0), datetime.datetime(2017, 8, 18, 0, 0), datetime.datetime(2017, 8, 18, 0, 0), datetime.datetime(2017, 8, 18, 0, 0), datetime.datetime(2017, 8, 18, 0, 0), datetime.datetime(2017, 8, 18, 0, 0), datetime.datetime(2017, 8, 18, 0, 0), datetime.datetime(2017, 8, 18, 0, 0), datetime.datetime(2017, 8, 17, 0, 0), datetime.datetime(2017, 8, 17, 0, 0), datetime.datetime(2017, 8, 17, 0, 0), datetime.datetime(2017, 8, 17, 0, 0), datetime.datetime(2017, 8, 16, 0, 0), datetime.datetime(2017, 8, 16, 0, 0), datetime.datetime(2017, 8, 16, 0, 0), datetime.datetime(2017, 8, 16, 0, 0), datetime.datetime(2017, 8, 16, 0, 0), datetime.datetime(2017, 8, 16, 0, 0), datetime.datetime(2017, 8, 16, 0, 0), datetime.datetime(2017, 8, 16, 0, 0), datetime.datetime(2017, 8, 16, 0, 0), datetime.datetime(2017, 8, 15, 0, 0), datetime.datetime(2017, 8, 15, 0, 0), datetime.datetime(2017, 8, 15, 0, 0), datetime.datetime(2017, 8, 15, 0, 0), datetime.datetime(2017, 8, 15, 0, 0), datetime.datetime(2017, 8, 15, 0, 0), datetime.datetime(2017, 8, 15, 0, 0), datetime.datetime(2017, 8, 15, 0, 0), datetime.datetime(2017, 8, 15, 0, 0), datetime.datetime(2017, 8, 15, 0, 0), datetime.datetime(2017, 8, 15, 0, 0), datetime.datetime(2017, 8, 15, 0, 0), datetime.datetime(2017, 8, 15, 0, 0), datetime.datetime(2017, 8, 15, 0, 0), datetime.datetime(2017, 8, 15, 0, 0), datetime.datetime(2017, 8, 15, 0, 0), datetime.datetime(2017, 8, 15, 0, 0), datetime.datetime(2017, 8, 14, 0, 0), datetime.datetime(2017, 8, 14, 0, 0), datetime.datetime(2017, 8, 14, 0, 0), datetime.datetime(2017, 8, 14, 0, 0), datetime.datetime(2017, 8, 14, 0, 0), datetime.datetime(2017, 8, 14, 0, 0), datetime.datetime(2017, 8, 13, 0, 0), datetime.datetime(2017, 8, 13, 0, 0), datetime.datetime(2017, 8, 13, 0, 0), datetime.datetime(2017, 8, 13, 0, 0), datetime.datetime(2017, 8, 13, 0, 0), datetime.datetime(2017, 8, 13, 0, 0), datetime.datetime(2017, 8, 13, 0, 0), datetime.datetime(2017, 8, 13, 0, 0), datetime.datetime(2017, 8, 13, 0, 0), datetime.datetime(2017, 8, 13, 0, 0), datetime.datetime(2017, 8, 13, 0, 0), datetime.datetime(2017, 8, 13, 0, 0), datetime.datetime(2017, 8, 13, 0, 0), datetime.datetime(2017, 8, 12, 0, 0), datetime.datetime(2017, 8, 12, 0, 0), datetime.datetime(2017, 8, 11, 0, 0), datetime.datetime(2017, 8, 11, 0, 0), datetime.datetime(2017, 8, 11, 0, 0), datetime.datetime(2017, 8, 11, 0, 0), datetime.datetime(2017, 8, 11, 0, 0), datetime.datetime(2017, 8, 11, 0, 0), datetime.datetime(2017, 8, 11, 0, 0), datetime.datetime(2017, 8, 11, 0, 0), datetime.datetime(2017, 8, 11, 0, 0), datetime.datetime(2017, 8, 11, 0, 0), datetime.datetime(2017, 8, 11, 0, 0), datetime.datetime(2017, 8, 11, 0, 0), datetime.datetime(2017, 8, 11, 0, 0), datetime.datetime(2017, 8, 11, 0, 0), datetime.datetime(2017, 8, 10, 0, 0), datetime.datetime(2017, 8, 10, 0, 0), datetime.datetime(2017, 8, 10, 0, 0), datetime.datetime(2017, 8, 10, 0, 0), datetime.datetime(2017, 8, 10, 0, 0), datetime.datetime(2017, 8, 10, 0, 0), datetime.datetime(2017, 8, 10, 0, 0), datetime.datetime(2017, 8, 10, 0, 0), datetime.datetime(2017, 8, 9, 0, 0), datetime.datetime(2017, 8, 9, 0, 0), datetime.datetime(2017, 8, 9, 0, 0), datetime.datetime(2017, 8, 9, 0, 0), datetime.datetime(2017, 8, 9, 0, 0), datetime.datetime(2017, 8, 9, 0, 0), datetime.datetime(2017, 8, 9, 0, 0), datetime.datetime(2017, 8, 9, 0, 0), datetime.datetime(2017, 8, 9, 0, 0), datetime.datetime(2017, 8, 9, 0, 0), datetime.datetime(2017, 8, 9, 0, 0), datetime.datetime(2017, 8, 9, 0, 0), datetime.datetime(2017, 8, 9, 0, 0), datetime.datetime(2017, 8, 9, 0, 0), datetime.datetime(2017, 8, 9, 0, 0), datetime.datetime(2017, 8, 9, 0, 0), datetime.datetime(2017, 8, 8, 0, 0), datetime.datetime(2017, 8, 8, 0, 0), datetime.datetime(2017, 8, 8, 0, 0), datetime.datetime(2017, 8, 8, 0, 0), datetime.datetime(2017, 8, 8, 0, 0), datetime.datetime(2017, 8, 8, 0, 0), datetime.datetime(2017, 8, 8, 0, 0), datetime.datetime(2017, 8, 8, 0, 0), datetime.datetime(2017, 8, 7, 0, 0), datetime.datetime(2017, 8, 7, 0, 0), datetime.datetime(2017, 8, 7, 0, 0), datetime.datetime(2017, 8, 7, 0, 0), datetime.datetime(2017, 8, 7, 0, 0), datetime.datetime(2017, 8, 7, 0, 0), datetime.datetime(2017, 8, 7, 0, 0), datetime.datetime(2017, 8, 7, 0, 0), datetime.datetime(2017, 8, 7, 0, 0), datetime.datetime(2017, 8, 6, 0, 0), datetime.datetime(2017, 8, 6, 0, 0), datetime.datetime(2017, 8, 6, 0, 0), datetime.datetime(2017, 8, 6, 0, 0), datetime.datetime(2017, 8, 6, 0, 0), datetime.datetime(2017, 8, 5, 0, 0), datetime.datetime(2017, 8, 5, 0, 0), datetime.datetime(2017, 8, 5, 0, 0), datetime.datetime(2017, 8, 5, 0, 0), datetime.datetime(2017, 8, 5, 0, 0), datetime.datetime(2017, 8, 4, 0, 0), datetime.datetime(2017, 8, 4, 0, 0), datetime.datetime(2017, 8, 4, 0, 0), datetime.datetime(2017, 8, 4, 0, 0), datetime.datetime(2017, 8, 4, 0, 0), datetime.datetime(2017, 8, 4, 0, 0), datetime.datetime(2017, 8, 4, 0, 0), datetime.datetime(2017, 8, 4, 0, 0), datetime.datetime(2017, 8, 4, 0, 0), datetime.datetime(2017, 8, 4, 0, 0), datetime.datetime(2017, 8, 4, 0, 0), datetime.datetime(2017, 8, 3, 0, 0), datetime.datetime(2017, 8, 3, 0, 0), datetime.datetime(2017, 8, 3, 0, 0), datetime.datetime(2017, 8, 3, 0, 0), datetime.datetime(2017, 8, 3, 0, 0), datetime.datetime(2017, 8, 2, 0, 0), datetime.datetime(2017, 8, 2, 0, 0), datetime.datetime(2017, 8, 2, 0, 0), datetime.datetime(2017, 8, 2, 0, 0), datetime.datetime(2017, 8, 2, 0, 0), datetime.datetime(2017, 8, 2, 0, 0), datetime.datetime(2017, 8, 2, 0, 0), datetime.datetime(2017, 8, 2, 0, 0), datetime.datetime(2017, 8, 2, 0, 0), datetime.datetime(2017, 8, 2, 0, 0), datetime.datetime(2017, 8, 2, 0, 0), datetime.datetime(2017, 8, 1, 0, 0), datetime.datetime(2017, 8, 1, 0, 0), datetime.datetime(2017, 8, 1, 0, 0), datetime.datetime(2017, 8, 1, 0, 0), datetime.datetime(2017, 8, 1, 0, 0), datetime.datetime(2017, 8, 1, 0, 0), datetime.datetime(2017, 8, 1, 0, 0), datetime.datetime(2017, 8, 1, 0, 0), datetime.datetime(2017, 8, 1, 0, 0), datetime.datetime(2017, 8, 1, 0, 0), datetime.datetime(2017, 7, 31, 0, 0), datetime.datetime(2017, 7, 31, 0, 0), datetime.datetime(2017, 7, 31, 0, 0), datetime.datetime(2017, 7, 31, 0, 0), datetime.datetime(2017, 7, 31, 0, 0), datetime.datetime(2017, 7, 31, 0, 0), datetime.datetime(2017, 7, 31, 0, 0), datetime.datetime(2017, 7, 31, 0, 0), datetime.datetime(2017, 7, 31, 0, 0), datetime.datetime(2017, 7, 31, 0, 0), datetime.datetime(2017, 7, 31, 0, 0), datetime.datetime(2017, 7, 31, 0, 0), datetime.datetime(2017, 7, 31, 0, 0), datetime.datetime(2017, 7, 30, 0, 0), datetime.datetime(2017, 7, 30, 0, 0), datetime.datetime(2017, 7, 30, 0, 0), datetime.datetime(2017, 7, 30, 0, 0), datetime.datetime(2017, 7, 30, 0, 0), datetime.datetime(2017, 7, 30, 0, 0), datetime.datetime(2017, 7, 30, 0, 0), datetime.datetime(2017, 7, 30, 0, 0), datetime.datetime(2017, 7, 30, 0, 0), datetime.datetime(2017, 7, 29, 0, 0), datetime.datetime(2017, 7, 29, 0, 0), datetime.datetime(2017, 7, 28, 0, 0), datetime.datetime(2017, 7, 28, 0, 0), datetime.datetime(2017, 7, 28, 0, 0), datetime.datetime(2017, 7, 28, 0, 0), datetime.datetime(2017, 7, 28, 0, 0), datetime.datetime(2017, 7, 28, 0, 0), datetime.datetime(2017, 7, 28, 0, 0), datetime.datetime(2017, 7, 28, 0, 0), datetime.datetime(2017, 7, 28, 0, 0), datetime.datetime(2017, 7, 28, 0, 0), datetime.datetime(2017, 7, 28, 0, 0), datetime.datetime(2017, 7, 28, 0, 0), datetime.datetime(2017, 7, 27, 0, 0), datetime.datetime(2017, 7, 27, 0, 0), datetime.datetime(2017, 7, 27, 0, 0), datetime.datetime(2017, 7, 27, 0, 0), datetime.datetime(2017, 7, 27, 0, 0), datetime.datetime(2017, 7, 27, 0, 0), datetime.datetime(2017, 7, 26, 0, 0), datetime.datetime(2017, 7, 26, 0, 0), datetime.datetime(2017, 7, 26, 0, 0), datetime.datetime(2017, 7, 26, 0, 0), datetime.datetime(2017, 7, 26, 0, 0), datetime.datetime(2017, 7, 25, 0, 0), datetime.datetime(2017, 7, 25, 0, 0), datetime.datetime(2017, 7, 25, 0, 0), datetime.datetime(2017, 7, 25, 0, 0), datetime.datetime(2017, 7, 25, 0, 0), datetime.datetime(2017, 7, 25, 0, 0), datetime.datetime(2017, 7, 25, 0, 0), datetime.datetime(2017, 7, 25, 0, 0), datetime.datetime(2017, 7, 25, 0, 0), datetime.datetime(2017, 7, 25, 0, 0), datetime.datetime(2017, 7, 25, 0, 0), datetime.datetime(2017, 7, 25, 0, 0), datetime.datetime(2017, 7, 25, 0, 0), datetime.datetime(2017, 7, 24, 0, 0), datetime.datetime(2017, 7, 24, 0, 0), datetime.datetime(2017, 7, 24, 0, 0), datetime.datetime(2017, 7, 24, 0, 0), datetime.datetime(2017, 7, 24, 0, 0), datetime.datetime(2017, 7, 24, 0, 0), datetime.datetime(2017, 7, 23, 0, 0), datetime.datetime(2017, 7, 23, 0, 0), datetime.datetime(2017, 7, 23, 0, 0), datetime.datetime(2017, 7, 22, 0, 0), datetime.datetime(2017, 7, 22, 0, 0), datetime.datetime(2017, 7, 22, 0, 0), datetime.datetime(2017, 7, 22, 0, 0), datetime.datetime(2017, 7, 22, 0, 0), datetime.datetime(2017, 7, 22, 0, 0), datetime.datetime(2017, 7, 21, 0, 0), datetime.datetime(2017, 7, 21, 0, 0), datetime.datetime(2017, 7, 21, 0, 0), datetime.datetime(2017, 7, 21, 0, 0), datetime.datetime(2017, 7, 21, 0, 0), datetime.datetime(2017, 7, 21, 0, 0), datetime.datetime(2017, 7, 21, 0, 0), datetime.datetime(2017, 7, 21, 0, 0), datetime.datetime(2017, 7, 21, 0, 0), datetime.datetime(2017, 7, 20, 0, 0), datetime.datetime(2017, 7, 20, 0, 0), datetime.datetime(2017, 7, 20, 0, 0), datetime.datetime(2017, 7, 20, 0, 0), datetime.datetime(2017, 7, 20, 0, 0), datetime.datetime(2017, 7, 20, 0, 0), datetime.datetime(2017, 7, 20, 0, 0), datetime.datetime(2017, 7, 20, 0, 0), datetime.datetime(2017, 7, 20, 0, 0), datetime.datetime(2017, 7, 20, 0, 0), datetime.datetime(2017, 7, 20, 0, 0), datetime.datetime(2017, 7, 20, 0, 0), datetime.datetime(2017, 7, 20, 0, 0), datetime.datetime(2017, 7, 19, 0, 0), datetime.datetime(2017, 7, 19, 0, 0), datetime.datetime(2017, 7, 19, 0, 0), datetime.datetime(2017, 7, 19, 0, 0), datetime.datetime(2017, 7, 19, 0, 0), datetime.datetime(2017, 7, 19, 0, 0), datetime.datetime(2017, 7, 19, 0, 0), datetime.datetime(2017, 7, 19, 0, 0), datetime.datetime(2017, 7, 19, 0, 0), datetime.datetime(2017, 7, 19, 0, 0), datetime.datetime(2017, 7, 19, 0, 0), datetime.datetime(2017, 7, 18, 0, 0), datetime.datetime(2017, 7, 18, 0, 0), datetime.datetime(2017, 7, 18, 0, 0), datetime.datetime(2017, 7, 18, 0, 0), datetime.datetime(2017, 7, 18, 0, 0), datetime.datetime(2017, 7, 18, 0, 0), datetime.datetime(2017, 7, 18, 0, 0), datetime.datetime(2017, 7, 18, 0, 0), datetime.datetime(2017, 7, 18, 0, 0), datetime.datetime(2017, 7, 18, 0, 0), datetime.datetime(2017, 7, 18, 0, 0), datetime.datetime(2017, 7, 17, 0, 0), datetime.datetime(2017, 7, 17, 0, 0), datetime.datetime(2017, 7, 17, 0, 0), datetime.datetime(2017, 7, 17, 0, 0), datetime.datetime(2017, 7, 17, 0, 0), datetime.datetime(2017, 7, 17, 0, 0), datetime.datetime(2017, 7, 17, 0, 0), datetime.datetime(2017, 7, 17, 0, 0), datetime.datetime(2017, 7, 16, 0, 0), datetime.datetime(2017, 7, 16, 0, 0), datetime.datetime(2017, 7, 16, 0, 0), datetime.datetime(2017, 7, 15, 0, 0), datetime.datetime(2017, 7, 15, 0, 0), datetime.datetime(2017, 7, 15, 0, 0), datetime.datetime(2017, 7, 15, 0, 0), datetime.datetime(2017, 7, 15, 0, 0), datetime.datetime(2017, 7, 14, 0, 0), datetime.datetime(2017, 7, 14, 0, 0), datetime.datetime(2017, 7, 14, 0, 0), datetime.datetime(2017, 7, 14, 0, 0), datetime.datetime(2017, 7, 14, 0, 0), datetime.datetime(2017, 7, 14, 0, 0), datetime.datetime(2017, 7, 14, 0, 0), datetime.datetime(2017, 7, 14, 0, 0), datetime.datetime(2017, 7, 14, 0, 0), datetime.datetime(2017, 7, 14, 0, 0), datetime.datetime(2017, 7, 14, 0, 0), datetime.datetime(2017, 7, 14, 0, 0), datetime.datetime(2017, 7, 14, 0, 0), datetime.datetime(2017, 7, 14, 0, 0), datetime.datetime(2017, 7, 13, 0, 0), datetime.datetime(2017, 7, 13, 0, 0), datetime.datetime(2017, 7, 13, 0, 0), datetime.datetime(2017, 7, 13, 0, 0), datetime.datetime(2017, 7, 13, 0, 0), datetime.datetime(2017, 7, 13, 0, 0), datetime.datetime(2017, 7, 12, 0, 0), datetime.datetime(2017, 7, 12, 0, 0), datetime.datetime(2017, 7, 12, 0, 0), datetime.datetime(2017, 7, 12, 0, 0), datetime.datetime(2017, 7, 12, 0, 0), datetime.datetime(2017, 7, 12, 0, 0), datetime.datetime(2017, 7, 12, 0, 0), datetime.datetime(2017, 7, 12, 0, 0), datetime.datetime(2017, 7, 12, 0, 0), datetime.datetime(2017, 7, 12, 0, 0), datetime.datetime(2017, 7, 12, 0, 0), datetime.datetime(2017, 7, 12, 0, 0), datetime.datetime(2017, 7, 12, 0, 0), datetime.datetime(2017, 7, 12, 0, 0), datetime.datetime(2017, 7, 12, 0, 0), datetime.datetime(2017, 7, 12, 0, 0), datetime.datetime(2017, 7, 11, 0, 0), datetime.datetime(2017, 7, 11, 0, 0), datetime.datetime(2017, 7, 11, 0, 0), datetime.datetime(2017, 7, 11, 0, 0), datetime.datetime(2017, 7, 11, 0, 0), datetime.datetime(2017, 7, 11, 0, 0), datetime.datetime(2017, 7, 11, 0, 0), datetime.datetime(2017, 7, 11, 0, 0), datetime.datetime(2017, 7, 11, 0, 0), datetime.datetime(2017, 7, 10, 0, 0), datetime.datetime(2017, 7, 10, 0, 0), datetime.datetime(2017, 7, 10, 0, 0), datetime.datetime(2017, 7, 10, 0, 0), datetime.datetime(2017, 7, 10, 0, 0), datetime.datetime(2017, 7, 10, 0, 0), datetime.datetime(2017, 7, 10, 0, 0), datetime.datetime(2017, 7, 10, 0, 0), datetime.datetime(2017, 7, 10, 0, 0), datetime.datetime(2017, 7, 8, 0, 0), datetime.datetime(2017, 7, 8, 0, 0), datetime.datetime(2017, 7, 8, 0, 0), datetime.datetime(2017, 7, 7, 0, 0), datetime.datetime(2017, 7, 7, 0, 0), datetime.datetime(2017, 7, 7, 0, 0), datetime.datetime(2017, 7, 7, 0, 0), datetime.datetime(2017, 7, 7, 0, 0), datetime.datetime(2017, 7, 7, 0, 0), datetime.datetime(2017, 7, 7, 0, 0), datetime.datetime(2017, 7, 7, 0, 0), datetime.datetime(2017, 7, 6, 0, 0), datetime.datetime(2017, 7, 6, 0, 0), datetime.datetime(2017, 7, 6, 0, 0), datetime.datetime(2017, 7, 6, 0, 0), datetime.datetime(2017, 7, 6, 0, 0), datetime.datetime(2017, 7, 6, 0, 0), datetime.datetime(2017, 7, 6, 0, 0), datetime.datetime(2017, 7, 5, 0, 0), datetime.datetime(2017, 7, 5, 0, 0), datetime.datetime(2017, 7, 5, 0, 0), datetime.datetime(2017, 7, 5, 0, 0), datetime.datetime(2017, 7, 5, 0, 0), datetime.datetime(2017, 7, 5, 0, 0), datetime.datetime(2017, 7, 5, 0, 0), datetime.datetime(2017, 7, 5, 0, 0), datetime.datetime(2017, 7, 5, 0, 0), datetime.datetime(2017, 7, 4, 0, 0), datetime.datetime(2017, 7, 4, 0, 0), datetime.datetime(2017, 7, 4, 0, 0), datetime.datetime(2017, 7, 4, 0, 0), datetime.datetime(2017, 7, 4, 0, 0), datetime.datetime(2017, 7, 4, 0, 0), datetime.datetime(2017, 7, 4, 0, 0), datetime.datetime(2017, 7, 3, 0, 0), datetime.datetime(2017, 7, 3, 0, 0), datetime.datetime(2017, 7, 3, 0, 0), datetime.datetime(2017, 7, 3, 0, 0), datetime.datetime(2017, 7, 3, 0, 0), datetime.datetime(2017, 7, 3, 0, 0), datetime.datetime(2017, 7, 3, 0, 0), datetime.datetime(2017, 7, 3, 0, 0), datetime.datetime(2017, 7, 3, 0, 0), datetime.datetime(2017, 7, 3, 0, 0), datetime.datetime(2017, 7, 3, 0, 0), datetime.datetime(2017, 7, 3, 0, 0), datetime.datetime(2017, 7, 3, 0, 0), datetime.datetime(2017, 7, 3, 0, 0), datetime.datetime(2017, 7, 3, 0, 0), datetime.datetime(2017, 7, 2, 0, 0), datetime.datetime(2017, 7, 2, 0, 0), datetime.datetime(2017, 7, 2, 0, 0), datetime.datetime(2017, 7, 1, 0, 0), datetime.datetime(2017, 7, 1, 0, 0), datetime.datetime(2017, 6, 30, 0, 0), datetime.datetime(2017, 6, 30, 0, 0), datetime.datetime(2017, 6, 30, 0, 0), datetime.datetime(2017, 6, 30, 0, 0), datetime.datetime(2017, 6, 30, 0, 0), datetime.datetime(2017, 6, 30, 0, 0), datetime.datetime(2017, 6, 30, 0, 0), datetime.datetime(2017, 6, 29, 0, 0), datetime.datetime(2017, 6, 29, 0, 0), datetime.datetime(2017, 6, 29, 0, 0), datetime.datetime(2017, 6, 29, 0, 0), datetime.datetime(2017, 6, 29, 0, 0), datetime.datetime(2017, 6, 29, 0, 0), datetime.datetime(2017, 6, 29, 0, 0), datetime.datetime(2017, 6, 29, 0, 0), datetime.datetime(2017, 6, 28, 0, 0), datetime.datetime(2017, 6, 28, 0, 0), datetime.datetime(2017, 6, 28, 0, 0), datetime.datetime(2017, 6, 28, 0, 0), datetime.datetime(2017, 6, 28, 0, 0), datetime.datetime(2017, 6, 28, 0, 0), datetime.datetime(2017, 6, 28, 0, 0), datetime.datetime(2017, 6, 28, 0, 0), datetime.datetime(2017, 6, 28, 0, 0), datetime.datetime(2017, 6, 28, 0, 0), datetime.datetime(2017, 6, 27, 0, 0), datetime.datetime(2017, 6, 27, 0, 0), datetime.datetime(2017, 6, 27, 0, 0), datetime.datetime(2017, 6, 27, 0, 0), datetime.datetime(2017, 6, 27, 0, 0), datetime.datetime(2017, 6, 27, 0, 0), datetime.datetime(2017, 6, 27, 0, 0), datetime.datetime(2017, 6, 27, 0, 0), datetime.datetime(2017, 6, 27, 0, 0), datetime.datetime(2017, 6, 27, 0, 0), datetime.datetime(2017, 6, 27, 0, 0), datetime.datetime(2017, 6, 27, 0, 0), datetime.datetime(2017, 6, 26, 0, 0), datetime.datetime(2017, 6, 26, 0, 0), datetime.datetime(2017, 6, 26, 0, 0), datetime.datetime(2017, 6, 26, 0, 0), datetime.datetime(2017, 6, 26, 0, 0), datetime.datetime(2017, 6, 26, 0, 0), datetime.datetime(2017, 6, 26, 0, 0), datetime.datetime(2017, 6, 26, 0, 0), datetime.datetime(2017, 6, 26, 0, 0), datetime.datetime(2017, 6, 26, 0, 0), datetime.datetime(2017, 6, 26, 0, 0), datetime.datetime(2017, 6, 25, 0, 0), datetime.datetime(2017, 6, 25, 0, 0), datetime.datetime(2017, 6, 25, 0, 0), datetime.datetime(2017, 6, 25, 0, 0), datetime.datetime(2017, 6, 25, 0, 0), datetime.datetime(2017, 6, 25, 0, 0), datetime.datetime(2017, 6, 24, 0, 0), datetime.datetime(2017, 6, 23, 0, 0), datetime.datetime(2017, 6, 23, 0, 0), datetime.datetime(2017, 6, 23, 0, 0), datetime.datetime(2017, 6, 23, 0, 0), datetime.datetime(2017, 6, 23, 0, 0), datetime.datetime(2017, 6, 23, 0, 0), datetime.datetime(2017, 6, 23, 0, 0), datetime.datetime(2017, 6, 23, 0, 0), datetime.datetime(2017, 6, 23, 0, 0), datetime.datetime(2017, 6, 23, 0, 0), datetime.datetime(2017, 6, 23, 0, 0), datetime.datetime(2017, 6, 23, 0, 0), datetime.datetime(2017, 6, 23, 0, 0), datetime.datetime(2017, 6, 23, 0, 0), datetime.datetime(2017, 6, 23, 0, 0), datetime.datetime(2017, 6, 22, 0, 0), datetime.datetime(2017, 6, 22, 0, 0), datetime.datetime(2017, 6, 22, 0, 0), datetime.datetime(2017, 6, 22, 0, 0), datetime.datetime(2017, 6, 22, 0, 0), datetime.datetime(2017, 6, 22, 0, 0), datetime.datetime(2017, 6, 22, 0, 0), datetime.datetime(2017, 6, 22, 0, 0), datetime.datetime(2017, 6, 22, 0, 0), datetime.datetime(2017, 6, 22, 0, 0), datetime.datetime(2017, 6, 22, 0, 0), datetime.datetime(2017, 6, 22, 0, 0), datetime.datetime(2017, 6, 21, 0, 0), datetime.datetime(2017, 6, 21, 0, 0), datetime.datetime(2017, 6, 21, 0, 0), datetime.datetime(2017, 6, 21, 0, 0), datetime.datetime(2017, 6, 21, 0, 0), datetime.datetime(2017, 6, 21, 0, 0), datetime.datetime(2017, 6, 21, 0, 0), datetime.datetime(2017, 6, 21, 0, 0), datetime.datetime(2017, 6, 21, 0, 0), datetime.datetime(2017, 6, 21, 0, 0), datetime.datetime(2017, 6, 21, 0, 0), datetime.datetime(2017, 6, 21, 0, 0), datetime.datetime(2017, 6, 21, 0, 0), datetime.datetime(2017, 6, 21, 0, 0), datetime.datetime(2017, 6, 21, 0, 0), datetime.datetime(2017, 6, 21, 0, 0), datetime.datetime(2017, 6, 20, 0, 0), datetime.datetime(2017, 6, 20, 0, 0), datetime.datetime(2017, 6, 20, 0, 0), datetime.datetime(2017, 6, 20, 0, 0), datetime.datetime(2017, 6, 20, 0, 0), datetime.datetime(2017, 6, 20, 0, 0), datetime.datetime(2017, 6, 20, 0, 0), datetime.datetime(2017, 6, 20, 0, 0), datetime.datetime(2017, 6, 20, 0, 0), datetime.datetime(2017, 6, 20, 0, 0), datetime.datetime(2017, 6, 20, 0, 0), datetime.datetime(2017, 6, 20, 0, 0), datetime.datetime(2017, 6, 19, 0, 0), datetime.datetime(2017, 6, 19, 0, 0), datetime.datetime(2017, 6, 19, 0, 0), datetime.datetime(2017, 6, 19, 0, 0), datetime.datetime(2017, 6, 19, 0, 0), datetime.datetime(2017, 6, 19, 0, 0), datetime.datetime(2017, 6, 19, 0, 0), datetime.datetime(2017, 6, 19, 0, 0), datetime.datetime(2017, 6, 19, 0, 0), datetime.datetime(2017, 6, 19, 0, 0), datetime.datetime(2017, 6, 19, 0, 0), datetime.datetime(2017, 6, 19, 0, 0), datetime.datetime(2017, 6, 19, 0, 0), datetime.datetime(2017, 6, 19, 0, 0), datetime.datetime(2017, 6, 19, 0, 0), datetime.datetime(2017, 6, 19, 0, 0), datetime.datetime(2017, 6, 19, 0, 0), datetime.datetime(2017, 6, 19, 0, 0), datetime.datetime(2017, 6, 19, 0, 0), datetime.datetime(2017, 6, 19, 0, 0), datetime.datetime(2017, 6, 19, 0, 0), datetime.datetime(2017, 6, 18, 0, 0), datetime.datetime(2017, 6, 18, 0, 0), datetime.datetime(2017, 6, 18, 0, 0), datetime.datetime(2017, 6, 18, 0, 0), datetime.datetime(2017, 6, 18, 0, 0), datetime.datetime(2017, 6, 18, 0, 0), datetime.datetime(2017, 6, 18, 0, 0), datetime.datetime(2017, 6, 18, 0, 0), datetime.datetime(2017, 6, 17, 0, 0), datetime.datetime(2017, 6, 17, 0, 0), datetime.datetime(2017, 6, 17, 0, 0), datetime.datetime(2017, 6, 17, 0, 0), datetime.datetime(2017, 6, 17, 0, 0), datetime.datetime(2017, 6, 17, 0, 0), datetime.datetime(2017, 6, 17, 0, 0), datetime.datetime(2017, 6, 16, 0, 0), datetime.datetime(2017, 6, 16, 0, 0), datetime.datetime(2017, 6, 16, 0, 0), datetime.datetime(2017, 6, 16, 0, 0), datetime.datetime(2017, 6, 16, 0, 0), datetime.datetime(2017, 6, 16, 0, 0), datetime.datetime(2017, 6, 16, 0, 0), datetime.datetime(2017, 6, 16, 0, 0), datetime.datetime(2017, 6, 16, 0, 0), datetime.datetime(2017, 6, 16, 0, 0), datetime.datetime(2017, 6, 15, 0, 0), datetime.datetime(2017, 6, 15, 0, 0), datetime.datetime(2017, 6, 15, 0, 0), datetime.datetime(2017, 6, 15, 0, 0), datetime.datetime(2017, 6, 15, 0, 0), datetime.datetime(2017, 6, 15, 0, 0), datetime.datetime(2017, 6, 15, 0, 0), datetime.datetime(2017, 6, 15, 0, 0), datetime.datetime(2017, 6, 15, 0, 0), datetime.datetime(2017, 6, 15, 0, 0), datetime.datetime(2017, 6, 14, 0, 0), datetime.datetime(2017, 6, 14, 0, 0), datetime.datetime(2017, 6, 14, 0, 0), datetime.datetime(2017, 6, 14, 0, 0), datetime.datetime(2017, 6, 14, 0, 0), datetime.datetime(2017, 6, 14, 0, 0), datetime.datetime(2017, 6, 14, 0, 0), datetime.datetime(2017, 6, 14, 0, 0), datetime.datetime(2017, 6, 14, 0, 0), datetime.datetime(2017, 6, 14, 0, 0), datetime.datetime(2017, 6, 14, 0, 0), datetime.datetime(2017, 6, 14, 0, 0), datetime.datetime(2017, 6, 14, 0, 0), datetime.datetime(2017, 6, 14, 0, 0), datetime.datetime(2017, 6, 13, 0, 0), datetime.datetime(2017, 6, 13, 0, 0), datetime.datetime(2017, 6, 13, 0, 0), datetime.datetime(2017, 6, 13, 0, 0), datetime.datetime(2017, 6, 13, 0, 0), datetime.datetime(2017, 6, 13, 0, 0), datetime.datetime(2017, 6, 13, 0, 0), datetime.datetime(2017, 6, 13, 0, 0), datetime.datetime(2017, 6, 13, 0, 0), datetime.datetime(2017, 6, 12, 0, 0), datetime.datetime(2017, 6, 12, 0, 0), datetime.datetime(2017, 6, 11, 0, 0), datetime.datetime(2017, 6, 11, 0, 0), datetime.datetime(2017, 6, 10, 0, 0), datetime.datetime(2017, 6, 10, 0, 0), datetime.datetime(2017, 6, 10, 0, 0), datetime.datetime(2017, 6, 10, 0, 0), datetime.datetime(2017, 6, 9, 0, 0), datetime.datetime(2017, 6, 9, 0, 0), datetime.datetime(2017, 6, 9, 0, 0), datetime.datetime(2017, 6, 9, 0, 0), datetime.datetime(2017, 6, 9, 0, 0), datetime.datetime(2017, 6, 9, 0, 0), datetime.datetime(2017, 6, 9, 0, 0), datetime.datetime(2017, 6, 9, 0, 0), datetime.datetime(2017, 6, 8, 0, 0), datetime.datetime(2017, 6, 8, 0, 0), datetime.datetime(2017, 6, 8, 0, 0), datetime.datetime(2017, 6, 8, 0, 0), datetime.datetime(2017, 6, 8, 0, 0), datetime.datetime(2017, 6, 8, 0, 0), datetime.datetime(2017, 6, 7, 0, 0), datetime.datetime(2017, 6, 7, 0, 0), datetime.datetime(2017, 6, 7, 0, 0), datetime.datetime(2017, 6, 7, 0, 0), datetime.datetime(2017, 6, 7, 0, 0), datetime.datetime(2017, 6, 7, 0, 0), datetime.datetime(2017, 6, 6, 0, 0), datetime.datetime(2017, 6, 6, 0, 0), datetime.datetime(2017, 6, 6, 0, 0), datetime.datetime(2017, 6, 6, 0, 0), datetime.datetime(2017, 6, 6, 0, 0), datetime.datetime(2017, 6, 6, 0, 0), datetime.datetime(2017, 6, 6, 0, 0), datetime.datetime(2017, 6, 6, 0, 0), datetime.datetime(2017, 6, 5, 0, 0), datetime.datetime(2017, 6, 5, 0, 0), datetime.datetime(2017, 6, 5, 0, 0), datetime.datetime(2017, 6, 5, 0, 0), datetime.datetime(2017, 6, 5, 0, 0), datetime.datetime(2017, 6, 5, 0, 0), datetime.datetime(2017, 6, 5, 0, 0), datetime.datetime(2017, 6, 5, 0, 0), datetime.datetime(2017, 6, 5, 0, 0), datetime.datetime(2017, 6, 5, 0, 0), datetime.datetime(2017, 6, 5, 0, 0), datetime.datetime(2017, 6, 5, 0, 0), datetime.datetime(2017, 6, 5, 0, 0), datetime.datetime(2017, 6, 5, 0, 0), datetime.datetime(2017, 6, 5, 0, 0), datetime.datetime(2017, 6, 5, 0, 0), datetime.datetime(2017, 6, 5, 0, 0), datetime.datetime(2017, 6, 4, 0, 0), datetime.datetime(2017, 6, 4, 0, 0), datetime.datetime(2017, 6, 4, 0, 0), datetime.datetime(2017, 6, 4, 0, 0), datetime.datetime(2017, 6, 4, 0, 0), datetime.datetime(2017, 6, 3, 0, 0), datetime.datetime(2017, 6, 3, 0, 0), datetime.datetime(2017, 6, 2, 0, 0), datetime.datetime(2017, 6, 2, 0, 0), datetime.datetime(2017, 6, 2, 0, 0), datetime.datetime(2017, 6, 2, 0, 0), datetime.datetime(2017, 6, 2, 0, 0), datetime.datetime(2017, 6, 2, 0, 0), datetime.datetime(2017, 6, 2, 0, 0), datetime.datetime(2017, 6, 1, 0, 0), datetime.datetime(2017, 6, 1, 0, 0), datetime.datetime(2017, 6, 1, 0, 0), datetime.datetime(2017, 6, 1, 0, 0), datetime.datetime(2017, 6, 1, 0, 0), datetime.datetime(2017, 5, 31, 0, 0), datetime.datetime(2017, 5, 31, 0, 0), datetime.datetime(2017, 5, 31, 0, 0), datetime.datetime(2017, 5, 31, 0, 0), datetime.datetime(2017, 5, 31, 0, 0), datetime.datetime(2017, 5, 31, 0, 0), datetime.datetime(2017, 5, 30, 0, 0), datetime.datetime(2017, 5, 30, 0, 0), datetime.datetime(2017, 5, 30, 0, 0), datetime.datetime(2017, 5, 30, 0, 0), datetime.datetime(2017, 5, 30, 0, 0), datetime.datetime(2017, 5, 30, 0, 0), datetime.datetime(2017, 5, 30, 0, 0), datetime.datetime(2017, 5, 30, 0, 0), datetime.datetime(2017, 5, 30, 0, 0), datetime.datetime(2017, 5, 30, 0, 0), datetime.datetime(2017, 5, 29, 0, 0), datetime.datetime(2017, 5, 29, 0, 0), datetime.datetime(2017, 5, 29, 0, 0), datetime.datetime(2017, 5, 29, 0, 0), datetime.datetime(2017, 5, 29, 0, 0), datetime.datetime(2017, 5, 29, 0, 0), datetime.datetime(2017, 5, 29, 0, 0), datetime.datetime(2017, 5, 29, 0, 0), datetime.datetime(2017, 5, 29, 0, 0), datetime.datetime(2017, 5, 29, 0, 0), datetime.datetime(2017, 5, 29, 0, 0), datetime.datetime(2017, 5, 29, 0, 0), datetime.datetime(2017, 5, 29, 0, 0), datetime.datetime(2017, 5, 29, 0, 0), datetime.datetime(2017, 5, 28, 0, 0), datetime.datetime(2017, 5, 28, 0, 0), datetime.datetime(2017, 5, 28, 0, 0), datetime.datetime(2017, 5, 28, 0, 0), datetime.datetime(2017, 5, 28, 0, 0), datetime.datetime(2017, 5, 28, 0, 0), datetime.datetime(2017, 5, 28, 0, 0), datetime.datetime(2017, 5, 27, 0, 0), datetime.datetime(2017, 5, 27, 0, 0), datetime.datetime(2017, 5, 27, 0, 0), datetime.datetime(2017, 5, 26, 0, 0), datetime.datetime(2017, 5, 26, 0, 0), datetime.datetime(2017, 5, 26, 0, 0), datetime.datetime(2017, 5, 26, 0, 0), datetime.datetime(2017, 5, 25, 0, 0), datetime.datetime(2017, 5, 25, 0, 0), datetime.datetime(2017, 5, 25, 0, 0), datetime.datetime(2017, 5, 25, 0, 0), datetime.datetime(2017, 5, 25, 0, 0), datetime.datetime(2017, 5, 25, 0, 0), datetime.datetime(2017, 5, 25, 0, 0), datetime.datetime(2017, 5, 24, 0, 0), datetime.datetime(2017, 5, 24, 0, 0), datetime.datetime(2017, 5, 24, 0, 0), datetime.datetime(2017, 5, 24, 0, 0), datetime.datetime(2017, 5, 24, 0, 0), datetime.datetime(2017, 5, 24, 0, 0), datetime.datetime(2017, 5, 24, 0, 0), datetime.datetime(2017, 5, 24, 0, 0), datetime.datetime(2017, 5, 23, 0, 0), datetime.datetime(2017, 5, 23, 0, 0), datetime.datetime(2017, 5, 23, 0, 0), datetime.datetime(2017, 5, 23, 0, 0), datetime.datetime(2017, 5, 23, 0, 0), datetime.datetime(2017, 5, 23, 0, 0), datetime.datetime(2017, 5, 23, 0, 0), datetime.datetime(2017, 5, 22, 0, 0), datetime.datetime(2017, 5, 22, 0, 0), datetime.datetime(2017, 5, 22, 0, 0), datetime.datetime(2017, 5, 22, 0, 0), datetime.datetime(2017, 5, 22, 0, 0), datetime.datetime(2017, 5, 22, 0, 0), datetime.datetime(2017, 5, 22, 0, 0), datetime.datetime(2017, 5, 22, 0, 0), datetime.datetime(2017, 5, 22, 0, 0), datetime.datetime(2017, 5, 21, 0, 0), datetime.datetime(2017, 5, 20, 0, 0), datetime.datetime(2017, 5, 20, 0, 0), datetime.datetime(2017, 5, 20, 0, 0), datetime.datetime(2017, 5, 19, 0, 0), datetime.datetime(2017, 5, 19, 0, 0), datetime.datetime(2017, 5, 19, 0, 0), datetime.datetime(2017, 5, 19, 0, 0), datetime.datetime(2017, 5, 19, 0, 0), datetime.datetime(2017, 5, 19, 0, 0), datetime.datetime(2017, 5, 18, 0, 0), datetime.datetime(2017, 5, 18, 0, 0), datetime.datetime(2017, 5, 18, 0, 0), datetime.datetime(2017, 5, 18, 0, 0), datetime.datetime(2017, 5, 18, 0, 0), datetime.datetime(2017, 5, 18, 0, 0), datetime.datetime(2017, 5, 18, 0, 0), datetime.datetime(2017, 5, 18, 0, 0), datetime.datetime(2017, 5, 17, 0, 0), datetime.datetime(2017, 5, 17, 0, 0), datetime.datetime(2017, 5, 17, 0, 0), datetime.datetime(2017, 5, 17, 0, 0), datetime.datetime(2017, 5, 17, 0, 0), datetime.datetime(2017, 5, 17, 0, 0), datetime.datetime(2017, 5, 16, 0, 0), datetime.datetime(2017, 5, 16, 0, 0), datetime.datetime(2017, 5, 16, 0, 0), datetime.datetime(2017, 5, 16, 0, 0), datetime.datetime(2017, 5, 16, 0, 0), datetime.datetime(2017, 5, 16, 0, 0), datetime.datetime(2017, 5, 16, 0, 0), datetime.datetime(2017, 5, 16, 0, 0), datetime.datetime(2017, 5, 15, 0, 0), datetime.datetime(2017, 5, 15, 0, 0), datetime.datetime(2017, 5, 15, 0, 0), datetime.datetime(2017, 5, 15, 0, 0), datetime.datetime(2017, 5, 15, 0, 0), datetime.datetime(2017, 5, 15, 0, 0), datetime.datetime(2017, 5, 15, 0, 0), datetime.datetime(2017, 5, 15, 0, 0), datetime.datetime(2017, 5, 15, 0, 0), datetime.datetime(2017, 5, 14, 0, 0), datetime.datetime(2017, 5, 13, 0, 0), datetime.datetime(2017, 5, 13, 0, 0), datetime.datetime(2017, 5, 12, 0, 0), datetime.datetime(2017, 5, 12, 0, 0), datetime.datetime(2017, 5, 12, 0, 0), datetime.datetime(2017, 5, 12, 0, 0), datetime.datetime(2017, 5, 12, 0, 0), datetime.datetime(2017, 5, 12, 0, 0), datetime.datetime(2017, 5, 12, 0, 0), datetime.datetime(2017, 5, 12, 0, 0), datetime.datetime(2017, 5, 12, 0, 0), datetime.datetime(2017, 5, 11, 0, 0), datetime.datetime(2017, 5, 11, 0, 0), datetime.datetime(2017, 5, 11, 0, 0), datetime.datetime(2017, 5, 11, 0, 0), datetime.datetime(2017, 5, 11, 0, 0), datetime.datetime(2017, 5, 11, 0, 0), datetime.datetime(2017, 5, 11, 0, 0), datetime.datetime(2017, 5, 11, 0, 0), datetime.datetime(2017, 5, 11, 0, 0), datetime.datetime(2017, 5, 11, 0, 0), datetime.datetime(2017, 5, 11, 0, 0), datetime.datetime(2017, 5, 11, 0, 0), datetime.datetime(2017, 5, 10, 0, 0), datetime.datetime(2017, 5, 10, 0, 0), datetime.datetime(2017, 5, 10, 0, 0), datetime.datetime(2017, 5, 10, 0, 0), datetime.datetime(2017, 5, 10, 0, 0), datetime.datetime(2017, 5, 10, 0, 0), datetime.datetime(2017, 5, 10, 0, 0), datetime.datetime(2017, 5, 9, 0, 0), datetime.datetime(2017, 5, 9, 0, 0), datetime.datetime(2017, 5, 9, 0, 0), datetime.datetime(2017, 5, 8, 0, 0), datetime.datetime(2017, 5, 8, 0, 0), datetime.datetime(2017, 5, 8, 0, 0), datetime.datetime(2017, 5, 8, 0, 0), datetime.datetime(2017, 5, 7, 0, 0), datetime.datetime(2017, 5, 7, 0, 0), datetime.datetime(2017, 5, 5, 0, 0), datetime.datetime(2017, 5, 5, 0, 0), datetime.datetime(2017, 5, 5, 0, 0), datetime.datetime(2017, 5, 5, 0, 0), datetime.datetime(2017, 5, 5, 0, 0), datetime.datetime(2017, 5, 5, 0, 0), datetime.datetime(2017, 5, 5, 0, 0), datetime.datetime(2017, 5, 4, 0, 0), datetime.datetime(2017, 5, 4, 0, 0), datetime.datetime(2017, 5, 4, 0, 0), datetime.datetime(2017, 5, 4, 0, 0), datetime.datetime(2017, 5, 4, 0, 0), datetime.datetime(2017, 5, 4, 0, 0), datetime.datetime(2017, 5, 4, 0, 0), datetime.datetime(2017, 5, 4, 0, 0), datetime.datetime(2017, 5, 3, 0, 0), datetime.datetime(2017, 5, 3, 0, 0), datetime.datetime(2017, 5, 3, 0, 0), datetime.datetime(2017, 5, 3, 0, 0), datetime.datetime(2017, 5, 3, 0, 0), datetime.datetime(2017, 5, 3, 0, 0), datetime.datetime(2017, 5, 3, 0, 0), datetime.datetime(2017, 5, 2, 0, 0), datetime.datetime(2017, 5, 2, 0, 0), datetime.datetime(2017, 5, 2, 0, 0), datetime.datetime(2017, 5, 2, 0, 0), datetime.datetime(2017, 5, 2, 0, 0), datetime.datetime(2017, 5, 2, 0, 0), datetime.datetime(2017, 5, 2, 0, 0), datetime.datetime(2017, 5, 2, 0, 0), datetime.datetime(2017, 5, 2, 0, 0), datetime.datetime(2017, 5, 2, 0, 0), datetime.datetime(2017, 5, 2, 0, 0), datetime.datetime(2017, 5, 2, 0, 0), datetime.datetime(2017, 5, 2, 0, 0), datetime.datetime(2017, 5, 2, 0, 0), datetime.datetime(2017, 5, 1, 0, 0), datetime.datetime(2017, 5, 1, 0, 0), datetime.datetime(2017, 5, 1, 0, 0), datetime.datetime(2017, 5, 1, 0, 0), datetime.datetime(2017, 5, 1, 0, 0), datetime.datetime(2017, 4, 30, 0, 0), datetime.datetime(2017, 4, 30, 0, 0), datetime.datetime(2017, 4, 30, 0, 0), datetime.datetime(2017, 4, 30, 0, 0), datetime.datetime(2017, 4, 29, 0, 0), datetime.datetime(2017, 4, 28, 0, 0), datetime.datetime(2017, 4, 28, 0, 0), datetime.datetime(2017, 4, 28, 0, 0), datetime.datetime(2017, 4, 28, 0, 0), datetime.datetime(2017, 4, 28, 0, 0), datetime.datetime(2017, 4, 28, 0, 0), datetime.datetime(2017, 4, 27, 0, 0), datetime.datetime(2017, 4, 27, 0, 0), datetime.datetime(2017, 4, 27, 0, 0), datetime.datetime(2017, 4, 27, 0, 0), datetime.datetime(2017, 4, 27, 0, 0), datetime.datetime(2017, 4, 27, 0, 0), datetime.datetime(2017, 4, 27, 0, 0), datetime.datetime(2017, 4, 27, 0, 0), datetime.datetime(2017, 4, 27, 0, 0), datetime.datetime(2017, 4, 27, 0, 0), datetime.datetime(2017, 4, 27, 0, 0), datetime.datetime(2017, 4, 27, 0, 0), datetime.datetime(2017, 4, 26, 0, 0), datetime.datetime(2017, 4, 26, 0, 0), datetime.datetime(2017, 4, 26, 0, 0), datetime.datetime(2017, 4, 26, 0, 0), datetime.datetime(2017, 4, 26, 0, 0), datetime.datetime(2017, 4, 26, 0, 0), datetime.datetime(2017, 4, 26, 0, 0), datetime.datetime(2017, 4, 26, 0, 0), datetime.datetime(2017, 4, 26, 0, 0), datetime.datetime(2017, 4, 26, 0, 0), datetime.datetime(2017, 4, 26, 0, 0), datetime.datetime(2017, 4, 26, 0, 0), datetime.datetime(2017, 4, 26, 0, 0), datetime.datetime(2017, 4, 26, 0, 0), datetime.datetime(2017, 4, 26, 0, 0), datetime.datetime(2017, 4, 26, 0, 0), datetime.datetime(2017, 4, 26, 0, 0), datetime.datetime(2017, 4, 25, 0, 0), datetime.datetime(2017, 4, 25, 0, 0), datetime.datetime(2017, 4, 25, 0, 0), datetime.datetime(2017, 4, 25, 0, 0), datetime.datetime(2017, 4, 25, 0, 0), datetime.datetime(2017, 4, 25, 0, 0), datetime.datetime(2017, 4, 25, 0, 0), datetime.datetime(2017, 4, 25, 0, 0), datetime.datetime(2017, 4, 25, 0, 0), datetime.datetime(2017, 4, 25, 0, 0), datetime.datetime(2017, 4, 25, 0, 0), datetime.datetime(2017, 4, 25, 0, 0), datetime.datetime(2017, 4, 24, 0, 0), datetime.datetime(2017, 4, 24, 0, 0), datetime.datetime(2017, 4, 24, 0, 0), datetime.datetime(2017, 4, 24, 0, 0), datetime.datetime(2017, 4, 24, 0, 0), datetime.datetime(2017, 4, 24, 0, 0), datetime.datetime(2017, 4, 24, 0, 0), datetime.datetime(2017, 4, 23, 0, 0), datetime.datetime(2017, 4, 23, 0, 0), datetime.datetime(2017, 4, 23, 0, 0), datetime.datetime(2017, 4, 23, 0, 0), datetime.datetime(2017, 4, 22, 0, 0), datetime.datetime(2017, 4, 22, 0, 0), datetime.datetime(2017, 4, 22, 0, 0), datetime.datetime(2017, 4, 22, 0, 0), datetime.datetime(2017, 4, 22, 0, 0), datetime.datetime(2017, 4, 22, 0, 0), datetime.datetime(2017, 4, 22, 0, 0), datetime.datetime(2017, 4, 22, 0, 0), datetime.datetime(2017, 4, 21, 0, 0), datetime.datetime(2017, 4, 21, 0, 0), datetime.datetime(2017, 4, 21, 0, 0), datetime.datetime(2017, 4, 21, 0, 0), datetime.datetime(2017, 4, 21, 0, 0), datetime.datetime(2017, 4, 21, 0, 0), datetime.datetime(2017, 4, 21, 0, 0), datetime.datetime(2017, 4, 20, 0, 0), datetime.datetime(2017, 4, 20, 0, 0), datetime.datetime(2017, 4, 20, 0, 0), datetime.datetime(2017, 4, 20, 0, 0), datetime.datetime(2017, 4, 20, 0, 0), datetime.datetime(2017, 4, 20, 0, 0), datetime.datetime(2017, 4, 20, 0, 0), datetime.datetime(2017, 4, 20, 0, 0), datetime.datetime(2017, 4, 19, 0, 0), datetime.datetime(2017, 4, 19, 0, 0), datetime.datetime(2017, 4, 19, 0, 0), datetime.datetime(2017, 4, 19, 0, 0), datetime.datetime(2017, 4, 18, 0, 0), datetime.datetime(2017, 4, 18, 0, 0), datetime.datetime(2017, 4, 18, 0, 0), datetime.datetime(2017, 4, 18, 0, 0), datetime.datetime(2017, 4, 18, 0, 0), datetime.datetime(2017, 4, 18, 0, 0), datetime.datetime(2017, 4, 18, 0, 0), datetime.datetime(2017, 4, 18, 0, 0), datetime.datetime(2017, 4, 18, 0, 0), datetime.datetime(2017, 4, 18, 0, 0), datetime.datetime(2017, 4, 17, 0, 0), datetime.datetime(2017, 4, 17, 0, 0), datetime.datetime(2017, 4, 17, 0, 0), datetime.datetime(2017, 4, 17, 0, 0), datetime.datetime(2017, 4, 17, 0, 0), datetime.datetime(2017, 4, 17, 0, 0), datetime.datetime(2017, 4, 15, 0, 0), datetime.datetime(2017, 4, 14, 0, 0), datetime.datetime(2017, 4, 14, 0, 0), datetime.datetime(2017, 4, 14, 0, 0), datetime.datetime(2017, 4, 14, 0, 0), datetime.datetime(2017, 4, 14, 0, 0), datetime.datetime(2017, 4, 13, 0, 0), datetime.datetime(2017, 4, 13, 0, 0), datetime.datetime(2017, 4, 13, 0, 0), datetime.datetime(2017, 4, 13, 0, 0), datetime.datetime(2017, 4, 13, 0, 0), datetime.datetime(2017, 4, 13, 0, 0), datetime.datetime(2017, 4, 13, 0, 0), datetime.datetime(2017, 4, 13, 0, 0), datetime.datetime(2017, 4, 13, 0, 0), datetime.datetime(2017, 4, 12, 0, 0), datetime.datetime(2017, 4, 12, 0, 0), datetime.datetime(2017, 4, 12, 0, 0), datetime.datetime(2017, 4, 12, 0, 0), datetime.datetime(2017, 4, 12, 0, 0), datetime.datetime(2017, 4, 12, 0, 0), datetime.datetime(2017, 4, 12, 0, 0), datetime.datetime(2017, 4, 12, 0, 0), datetime.datetime(2017, 4, 12, 0, 0), datetime.datetime(2017, 4, 12, 0, 0), datetime.datetime(2017, 4, 12, 0, 0), datetime.datetime(2017, 4, 12, 0, 0), datetime.datetime(2017, 4, 12, 0, 0), datetime.datetime(2017, 4, 12, 0, 0), datetime.datetime(2017, 4, 12, 0, 0), datetime.datetime(2017, 4, 12, 0, 0), datetime.datetime(2017, 4, 12, 0, 0), datetime.datetime(2017, 4, 11, 0, 0), datetime.datetime(2017, 4, 11, 0, 0), datetime.datetime(2017, 4, 11, 0, 0), datetime.datetime(2017, 4, 11, 0, 0), datetime.datetime(2017, 4, 11, 0, 0), datetime.datetime(2017, 4, 11, 0, 0), datetime.datetime(2017, 4, 11, 0, 0), datetime.datetime(2017, 4, 11, 0, 0), datetime.datetime(2017, 4, 11, 0, 0), datetime.datetime(2017, 4, 11, 0, 0), datetime.datetime(2017, 4, 11, 0, 0), datetime.datetime(2017, 4, 11, 0, 0), datetime.datetime(2017, 4, 11, 0, 0), datetime.datetime(2017, 4, 10, 0, 0), datetime.datetime(2017, 4, 10, 0, 0), datetime.datetime(2017, 4, 10, 0, 0), datetime.datetime(2017, 4, 10, 0, 0), datetime.datetime(2017, 4, 10, 0, 0), datetime.datetime(2017, 4, 10, 0, 0), datetime.datetime(2017, 4, 10, 0, 0), datetime.datetime(2017, 4, 10, 0, 0), datetime.datetime(2017, 4, 10, 0, 0), datetime.datetime(2017, 4, 10, 0, 0), datetime.datetime(2017, 4, 10, 0, 0), datetime.datetime(2017, 4, 10, 0, 0), datetime.datetime(2017, 4, 10, 0, 0), datetime.datetime(2017, 4, 10, 0, 0), datetime.datetime(2017, 4, 9, 0, 0), datetime.datetime(2017, 4, 9, 0, 0), datetime.datetime(2017, 4, 9, 0, 0), datetime.datetime(2017, 4, 9, 0, 0), datetime.datetime(2017, 4, 9, 0, 0), datetime.datetime(2017, 4, 9, 0, 0), datetime.datetime(2017, 4, 8, 0, 0), datetime.datetime(2017, 4, 8, 0, 0), datetime.datetime(2017, 4, 8, 0, 0), datetime.datetime(2017, 4, 8, 0, 0), datetime.datetime(2017, 4, 8, 0, 0), datetime.datetime(2017, 4, 8, 0, 0), datetime.datetime(2017, 4, 8, 0, 0), datetime.datetime(2017, 4, 8, 0, 0), datetime.datetime(2017, 4, 8, 0, 0), datetime.datetime(2017, 4, 8, 0, 0), datetime.datetime(2017, 4, 7, 0, 0), datetime.datetime(2017, 4, 7, 0, 0), datetime.datetime(2017, 4, 7, 0, 0), datetime.datetime(2017, 4, 7, 0, 0), datetime.datetime(2017, 4, 7, 0, 0), datetime.datetime(2017, 4, 7, 0, 0), datetime.datetime(2017, 4, 7, 0, 0), datetime.datetime(2017, 4, 7, 0, 0), datetime.datetime(2017, 4, 7, 0, 0), datetime.datetime(2017, 4, 7, 0, 0), datetime.datetime(2017, 4, 7, 0, 0), datetime.datetime(2017, 4, 7, 0, 0), datetime.datetime(2017, 4, 7, 0, 0), datetime.datetime(2017, 4, 7, 0, 0), datetime.datetime(2017, 4, 7, 0, 0), datetime.datetime(2017, 4, 6, 0, 0), datetime.datetime(2017, 4, 6, 0, 0), datetime.datetime(2017, 4, 6, 0, 0), datetime.datetime(2017, 4, 6, 0, 0), datetime.datetime(2017, 4, 6, 0, 0), datetime.datetime(2017, 4, 6, 0, 0), datetime.datetime(2017, 4, 5, 0, 0), datetime.datetime(2017, 4, 5, 0, 0), datetime.datetime(2017, 4, 5, 0, 0), datetime.datetime(2017, 4, 5, 0, 0), datetime.datetime(2017, 4, 5, 0, 0), datetime.datetime(2017, 4, 5, 0, 0), datetime.datetime(2017, 4, 5, 0, 0), datetime.datetime(2017, 4, 4, 0, 0), datetime.datetime(2017, 4, 4, 0, 0), datetime.datetime(2017, 4, 4, 0, 0), datetime.datetime(2017, 4, 4, 0, 0), datetime.datetime(2017, 4, 4, 0, 0), datetime.datetime(2017, 4, 4, 0, 0), datetime.datetime(2017, 4, 4, 0, 0), datetime.datetime(2017, 4, 4, 0, 0), datetime.datetime(2017, 4, 4, 0, 0), datetime.datetime(2017, 4, 4, 0, 0), datetime.datetime(2017, 4, 4, 0, 0), datetime.datetime(2017, 4, 4, 0, 0), datetime.datetime(2017, 4, 3, 0, 0), datetime.datetime(2017, 4, 3, 0, 0), datetime.datetime(2017, 4, 3, 0, 0), datetime.datetime(2017, 4, 3, 0, 0), datetime.datetime(2017, 4, 3, 0, 0), datetime.datetime(2017, 4, 3, 0, 0), datetime.datetime(2017, 4, 3, 0, 0), datetime.datetime(2017, 4, 3, 0, 0), datetime.datetime(2017, 4, 3, 0, 0), datetime.datetime(2017, 4, 3, 0, 0), datetime.datetime(2017, 4, 3, 0, 0), datetime.datetime(2017, 4, 3, 0, 0), datetime.datetime(2017, 4, 3, 0, 0), datetime.datetime(2017, 4, 2, 0, 0), datetime.datetime(2017, 4, 2, 0, 0), datetime.datetime(2017, 4, 2, 0, 0), datetime.datetime(2017, 4, 2, 0, 0), datetime.datetime(2017, 4, 2, 0, 0), datetime.datetime(2017, 4, 2, 0, 0), datetime.datetime(2017, 4, 2, 0, 0), datetime.datetime(2017, 4, 1, 0, 0), datetime.datetime(2017, 4, 1, 0, 0), datetime.datetime(2017, 4, 1, 0, 0), datetime.datetime(2017, 4, 1, 0, 0), datetime.datetime(2017, 4, 1, 0, 0), datetime.datetime(2017, 3, 31, 0, 0), datetime.datetime(2017, 3, 31, 0, 0), datetime.datetime(2017, 3, 31, 0, 0), datetime.datetime(2017, 3, 31, 0, 0), datetime.datetime(2017, 3, 31, 0, 0), datetime.datetime(2017, 3, 31, 0, 0), datetime.datetime(2017, 3, 31, 0, 0), datetime.datetime(2017, 3, 31, 0, 0), datetime.datetime(2017, 3, 30, 0, 0), datetime.datetime(2017, 3, 30, 0, 0), datetime.datetime(2017, 3, 30, 0, 0), datetime.datetime(2017, 3, 30, 0, 0), datetime.datetime(2017, 3, 30, 0, 0), datetime.datetime(2017, 3, 30, 0, 0), datetime.datetime(2017, 3, 30, 0, 0), datetime.datetime(2017, 3, 30, 0, 0), datetime.datetime(2017, 3, 30, 0, 0), datetime.datetime(2017, 3, 30, 0, 0), datetime.datetime(2017, 3, 29, 0, 0), datetime.datetime(2017, 3, 29, 0, 0), datetime.datetime(2017, 3, 29, 0, 0), datetime.datetime(2017, 3, 29, 0, 0), datetime.datetime(2017, 3, 29, 0, 0), datetime.datetime(2017, 3, 29, 0, 0), datetime.datetime(2017, 3, 29, 0, 0), datetime.datetime(2017, 3, 29, 0, 0), datetime.datetime(2017, 3, 29, 0, 0), datetime.datetime(2017, 3, 29, 0, 0), datetime.datetime(2017, 3, 29, 0, 0), datetime.datetime(2017, 3, 28, 0, 0), datetime.datetime(2017, 3, 28, 0, 0), datetime.datetime(2017, 3, 28, 0, 0), datetime.datetime(2017, 3, 28, 0, 0), datetime.datetime(2017, 3, 28, 0, 0), datetime.datetime(2017, 3, 27, 0, 0), datetime.datetime(2017, 3, 27, 0, 0), datetime.datetime(2017, 3, 27, 0, 0), datetime.datetime(2017, 3, 27, 0, 0), datetime.datetime(2017, 3, 27, 0, 0), datetime.datetime(2017, 3, 27, 0, 0), datetime.datetime(2017, 3, 27, 0, 0), datetime.datetime(2017, 3, 27, 0, 0), datetime.datetime(2017, 3, 27, 0, 0), datetime.datetime(2017, 3, 27, 0, 0), datetime.datetime(2017, 3, 27, 0, 0), datetime.datetime(2017, 3, 27, 0, 0), datetime.datetime(2017, 3, 27, 0, 0), datetime.datetime(2017, 3, 26, 0, 0), datetime.datetime(2017, 3, 26, 0, 0), datetime.datetime(2017, 3, 25, 0, 0), datetime.datetime(2017, 3, 25, 0, 0), datetime.datetime(2017, 3, 25, 0, 0), datetime.datetime(2017, 3, 25, 0, 0), datetime.datetime(2017, 3, 25, 0, 0), datetime.datetime(2017, 3, 25, 0, 0), datetime.datetime(2017, 3, 25, 0, 0), datetime.datetime(2017, 3, 24, 0, 0), datetime.datetime(2017, 3, 24, 0, 0), datetime.datetime(2017, 3, 24, 0, 0), datetime.datetime(2017, 3, 24, 0, 0), datetime.datetime(2017, 3, 24, 0, 0), datetime.datetime(2017, 3, 24, 0, 0), datetime.datetime(2017, 3, 24, 0, 0), datetime.datetime(2017, 3, 24, 0, 0), datetime.datetime(2017, 3, 23, 0, 0), datetime.datetime(2017, 3, 23, 0, 0), datetime.datetime(2017, 3, 23, 0, 0), datetime.datetime(2017, 3, 23, 0, 0), datetime.datetime(2017, 3, 23, 0, 0), datetime.datetime(2017, 3, 23, 0, 0), datetime.datetime(2017, 3, 23, 0, 0), datetime.datetime(2017, 3, 23, 0, 0), datetime.datetime(2017, 3, 23, 0, 0), datetime.datetime(2017, 3, 22, 0, 0), datetime.datetime(2017, 3, 22, 0, 0), datetime.datetime(2017, 3, 22, 0, 0), datetime.datetime(2017, 3, 22, 0, 0), datetime.datetime(2017, 3, 22, 0, 0), datetime.datetime(2017, 3, 22, 0, 0), datetime.datetime(2017, 3, 22, 0, 0), datetime.datetime(2017, 3, 22, 0, 0), datetime.datetime(2017, 3, 22, 0, 0), datetime.datetime(2017, 3, 22, 0, 0), datetime.datetime(2017, 3, 21, 0, 0), datetime.datetime(2017, 3, 21, 0, 0), datetime.datetime(2017, 3, 21, 0, 0), datetime.datetime(2017, 3, 21, 0, 0), datetime.datetime(2017, 3, 21, 0, 0), datetime.datetime(2017, 3, 21, 0, 0), datetime.datetime(2017, 3, 21, 0, 0), datetime.datetime(2017, 3, 21, 0, 0), datetime.datetime(2017, 3, 21, 0, 0), datetime.datetime(2017, 3, 21, 0, 0), datetime.datetime(2017, 3, 21, 0, 0), datetime.datetime(2017, 3, 21, 0, 0), datetime.datetime(2017, 3, 21, 0, 0), datetime.datetime(2017, 3, 21, 0, 0), datetime.datetime(2017, 3, 21, 0, 0), datetime.datetime(2017, 3, 21, 0, 0), datetime.datetime(2017, 3, 21, 0, 0), datetime.datetime(2017, 3, 21, 0, 0), datetime.datetime(2017, 3, 20, 0, 0), datetime.datetime(2017, 3, 20, 0, 0), datetime.datetime(2017, 3, 20, 0, 0), datetime.datetime(2017, 3, 20, 0, 0), datetime.datetime(2017, 3, 20, 0, 0), datetime.datetime(2017, 3, 20, 0, 0), datetime.datetime(2017, 3, 20, 0, 0), datetime.datetime(2017, 3, 20, 0, 0), datetime.datetime(2017, 3, 20, 0, 0), datetime.datetime(2017, 3, 20, 0, 0), datetime.datetime(2017, 3, 20, 0, 0), datetime.datetime(2017, 3, 20, 0, 0), datetime.datetime(2017, 3, 20, 0, 0), datetime.datetime(2017, 3, 20, 0, 0), datetime.datetime(2017, 3, 19, 0, 0), datetime.datetime(2017, 3, 19, 0, 0), datetime.datetime(2017, 3, 19, 0, 0), datetime.datetime(2017, 3, 19, 0, 0), datetime.datetime(2017, 3, 19, 0, 0), datetime.datetime(2017, 3, 19, 0, 0), datetime.datetime(2017, 3, 19, 0, 0), datetime.datetime(2017, 3, 18, 0, 0), datetime.datetime(2017, 3, 18, 0, 0), datetime.datetime(2017, 3, 17, 0, 0), datetime.datetime(2017, 3, 17, 0, 0), datetime.datetime(2017, 3, 17, 0, 0), datetime.datetime(2017, 3, 17, 0, 0), datetime.datetime(2017, 3, 17, 0, 0), datetime.datetime(2017, 3, 16, 0, 0), datetime.datetime(2017, 3, 16, 0, 0), datetime.datetime(2017, 3, 16, 0, 0), datetime.datetime(2017, 3, 16, 0, 0), datetime.datetime(2017, 3, 16, 0, 0), datetime.datetime(2017, 3, 16, 0, 0), datetime.datetime(2017, 3, 15, 0, 0), datetime.datetime(2017, 3, 15, 0, 0), datetime.datetime(2017, 3, 15, 0, 0), datetime.datetime(2017, 3, 15, 0, 0), datetime.datetime(2017, 3, 15, 0, 0), datetime.datetime(2017, 3, 15, 0, 0), datetime.datetime(2017, 3, 15, 0, 0), datetime.datetime(2017, 3, 15, 0, 0), datetime.datetime(2017, 3, 15, 0, 0), datetime.datetime(2017, 3, 15, 0, 0), datetime.datetime(2017, 3, 15, 0, 0), datetime.datetime(2017, 3, 15, 0, 0), datetime.datetime(2017, 3, 15, 0, 0), datetime.datetime(2017, 3, 15, 0, 0), datetime.datetime(2017, 3, 15, 0, 0), datetime.datetime(2017, 3, 15, 0, 0), datetime.datetime(2017, 3, 14, 0, 0), datetime.datetime(2017, 3, 14, 0, 0), datetime.datetime(2017, 3, 14, 0, 0), datetime.datetime(2017, 3, 14, 0, 0), datetime.datetime(2017, 3, 14, 0, 0), datetime.datetime(2017, 3, 14, 0, 0), datetime.datetime(2017, 3, 14, 0, 0), datetime.datetime(2017, 3, 14, 0, 0), datetime.datetime(2017, 3, 14, 0, 0), datetime.datetime(2017, 3, 13, 0, 0), datetime.datetime(2017, 3, 13, 0, 0), datetime.datetime(2017, 3, 13, 0, 0), datetime.datetime(2017, 3, 13, 0, 0), datetime.datetime(2017, 3, 13, 0, 0), datetime.datetime(2017, 3, 13, 0, 0), datetime.datetime(2017, 3, 13, 0, 0), datetime.datetime(2017, 3, 13, 0, 0), datetime.datetime(2017, 3, 13, 0, 0), datetime.datetime(2017, 3, 12, 0, 0), datetime.datetime(2017, 3, 12, 0, 0), datetime.datetime(2017, 3, 12, 0, 0), datetime.datetime(2017, 3, 12, 0, 0), datetime.datetime(2017, 3, 12, 0, 0), datetime.datetime(2017, 3, 12, 0, 0), datetime.datetime(2017, 3, 12, 0, 0), datetime.datetime(2017, 3, 12, 0, 0), datetime.datetime(2017, 3, 11, 0, 0), datetime.datetime(2017, 3, 11, 0, 0), datetime.datetime(2017, 3, 11, 0, 0), datetime.datetime(2017, 3, 11, 0, 0), datetime.datetime(2017, 3, 10, 0, 0), datetime.datetime(2017, 3, 10, 0, 0), datetime.datetime(2017, 3, 10, 0, 0), datetime.datetime(2017, 3, 10, 0, 0), datetime.datetime(2017, 3, 10, 0, 0), datetime.datetime(2017, 3, 10, 0, 0), datetime.datetime(2017, 3, 10, 0, 0), datetime.datetime(2017, 3, 10, 0, 0), datetime.datetime(2017, 3, 9, 0, 0), datetime.datetime(2017, 3, 9, 0, 0), datetime.datetime(2017, 3, 9, 0, 0), datetime.datetime(2017, 3, 9, 0, 0), datetime.datetime(2017, 3, 9, 0, 0), datetime.datetime(2017, 3, 9, 0, 0), datetime.datetime(2017, 3, 9, 0, 0), datetime.datetime(2017, 3, 9, 0, 0), datetime.datetime(2017, 3, 9, 0, 0), datetime.datetime(2017, 3, 9, 0, 0), datetime.datetime(2017, 3, 9, 0, 0), datetime.datetime(2017, 3, 8, 0, 0), datetime.datetime(2017, 3, 8, 0, 0), datetime.datetime(2017, 3, 8, 0, 0), datetime.datetime(2017, 3, 8, 0, 0), datetime.datetime(2017, 3, 8, 0, 0), datetime.datetime(2017, 3, 7, 0, 0), datetime.datetime(2017, 3, 7, 0, 0), datetime.datetime(2017, 3, 7, 0, 0), datetime.datetime(2017, 3, 7, 0, 0), datetime.datetime(2017, 3, 7, 0, 0), datetime.datetime(2017, 3, 6, 0, 0), datetime.datetime(2017, 3, 6, 0, 0), datetime.datetime(2017, 3, 6, 0, 0), datetime.datetime(2017, 3, 6, 0, 0), datetime.datetime(2017, 3, 6, 0, 0), datetime.datetime(2017, 3, 6, 0, 0), datetime.datetime(2017, 3, 6, 0, 0), datetime.datetime(2017, 3, 6, 0, 0), datetime.datetime(2017, 3, 6, 0, 0), datetime.datetime(2017, 3, 6, 0, 0), datetime.datetime(2017, 3, 5, 0, 0), datetime.datetime(2017, 3, 5, 0, 0), datetime.datetime(2017, 3, 5, 0, 0), datetime.datetime(2017, 3, 5, 0, 0), datetime.datetime(2017, 3, 5, 0, 0), datetime.datetime(2017, 3, 5, 0, 0), datetime.datetime(2017, 3, 5, 0, 0), datetime.datetime(2017, 3, 4, 0, 0), datetime.datetime(2017, 3, 4, 0, 0), datetime.datetime(2017, 3, 4, 0, 0), datetime.datetime(2017, 3, 3, 0, 0), datetime.datetime(2017, 3, 3, 0, 0), datetime.datetime(2017, 3, 3, 0, 0), datetime.datetime(2017, 3, 3, 0, 0), datetime.datetime(2017, 3, 3, 0, 0), datetime.datetime(2017, 3, 3, 0, 0), datetime.datetime(2017, 3, 3, 0, 0), datetime.datetime(2017, 3, 2, 0, 0), datetime.datetime(2017, 3, 2, 0, 0), datetime.datetime(2017, 3, 2, 0, 0), datetime.datetime(2017, 3, 2, 0, 0), datetime.datetime(2017, 3, 2, 0, 0), datetime.datetime(2017, 3, 2, 0, 0), datetime.datetime(2017, 3, 2, 0, 0), datetime.datetime(2017, 3, 2, 0, 0), datetime.datetime(2017, 3, 2, 0, 0), datetime.datetime(2017, 3, 2, 0, 0), datetime.datetime(2017, 3, 2, 0, 0), datetime.datetime(2017, 3, 2, 0, 0), datetime.datetime(2017, 3, 1, 0, 0), datetime.datetime(2017, 3, 1, 0, 0), datetime.datetime(2017, 3, 1, 0, 0), datetime.datetime(2017, 3, 1, 0, 0), datetime.datetime(2017, 3, 1, 0, 0), datetime.datetime(2017, 3, 1, 0, 0), datetime.datetime(2017, 3, 1, 0, 0), datetime.datetime(2017, 3, 1, 0, 0), datetime.datetime(2017, 3, 1, 0, 0), datetime.datetime(2017, 2, 28, 0, 0), datetime.datetime(2017, 2, 28, 0, 0), datetime.datetime(2017, 2, 28, 0, 0), datetime.datetime(2017, 2, 28, 0, 0), datetime.datetime(2017, 2, 28, 0, 0), datetime.datetime(2017, 2, 28, 0, 0), datetime.datetime(2017, 2, 28, 0, 0), datetime.datetime(2017, 2, 28, 0, 0), datetime.datetime(2017, 2, 28, 0, 0), datetime.datetime(2017, 2, 28, 0, 0), datetime.datetime(2017, 2, 28, 0, 0), datetime.datetime(2017, 2, 28, 0, 0), datetime.datetime(2017, 2, 28, 0, 0), datetime.datetime(2017, 2, 27, 0, 0), datetime.datetime(2017, 2, 27, 0, 0), datetime.datetime(2017, 2, 27, 0, 0), datetime.datetime(2017, 2, 27, 0, 0), datetime.datetime(2017, 2, 27, 0, 0), datetime.datetime(2017, 2, 27, 0, 0), datetime.datetime(2017, 2, 27, 0, 0), datetime.datetime(2017, 2, 27, 0, 0), datetime.datetime(2017, 2, 27, 0, 0), datetime.datetime(2017, 2, 27, 0, 0), datetime.datetime(2017, 2, 27, 0, 0), datetime.datetime(2017, 2, 27, 0, 0), datetime.datetime(2017, 2, 27, 0, 0), datetime.datetime(2017, 2, 26, 0, 0), datetime.datetime(2017, 2, 26, 0, 0), datetime.datetime(2017, 2, 26, 0, 0), datetime.datetime(2017, 2, 26, 0, 0), datetime.datetime(2017, 2, 26, 0, 0), datetime.datetime(2017, 2, 26, 0, 0), datetime.datetime(2017, 2, 26, 0, 0), datetime.datetime(2017, 2, 25, 0, 0), datetime.datetime(2017, 2, 25, 0, 0), datetime.datetime(2017, 2, 25, 0, 0), datetime.datetime(2017, 2, 25, 0, 0), datetime.datetime(2017, 2, 25, 0, 0), datetime.datetime(2017, 2, 25, 0, 0), datetime.datetime(2017, 2, 25, 0, 0), datetime.datetime(2017, 2, 25, 0, 0), datetime.datetime(2017, 2, 24, 0, 0), datetime.datetime(2017, 2, 24, 0, 0), datetime.datetime(2017, 2, 24, 0, 0), datetime.datetime(2017, 2, 24, 0, 0), datetime.datetime(2017, 2, 23, 0, 0), datetime.datetime(2017, 2, 23, 0, 0), datetime.datetime(2017, 2, 23, 0, 0), datetime.datetime(2017, 2, 23, 0, 0), datetime.datetime(2017, 2, 23, 0, 0), datetime.datetime(2017, 2, 23, 0, 0), datetime.datetime(2017, 2, 23, 0, 0), datetime.datetime(2017, 2, 22, 0, 0), datetime.datetime(2017, 2, 22, 0, 0), datetime.datetime(2017, 2, 22, 0, 0), datetime.datetime(2017, 2, 22, 0, 0), datetime.datetime(2017, 2, 22, 0, 0), datetime.datetime(2017, 2, 22, 0, 0), datetime.datetime(2017, 2, 22, 0, 0), datetime.datetime(2017, 2, 21, 0, 0), datetime.datetime(2017, 2, 21, 0, 0), datetime.datetime(2017, 2, 21, 0, 0), datetime.datetime(2017, 2, 21, 0, 0), datetime.datetime(2017, 2, 21, 0, 0), datetime.datetime(2017, 2, 21, 0, 0), datetime.datetime(2017, 2, 21, 0, 0), datetime.datetime(2017, 2, 21, 0, 0), datetime.datetime(2017, 2, 21, 0, 0), datetime.datetime(2017, 2, 20, 0, 0), datetime.datetime(2017, 2, 20, 0, 0), datetime.datetime(2017, 2, 20, 0, 0), datetime.datetime(2017, 2, 20, 0, 0), datetime.datetime(2017, 2, 20, 0, 0), datetime.datetime(2017, 2, 20, 0, 0), datetime.datetime(2017, 2, 20, 0, 0), datetime.datetime(2017, 2, 20, 0, 0), datetime.datetime(2017, 2, 20, 0, 0), datetime.datetime(2017, 2, 20, 0, 0), datetime.datetime(2017, 2, 19, 0, 0), datetime.datetime(2017, 2, 19, 0, 0), datetime.datetime(2017, 2, 19, 0, 0), datetime.datetime(2017, 2, 19, 0, 0), datetime.datetime(2017, 2, 18, 0, 0), datetime.datetime(2017, 2, 18, 0, 0), datetime.datetime(2017, 2, 18, 0, 0), datetime.datetime(2017, 2, 18, 0, 0), datetime.datetime(2017, 2, 17, 0, 0), datetime.datetime(2017, 2, 17, 0, 0), datetime.datetime(2017, 2, 17, 0, 0), datetime.datetime(2017, 2, 17, 0, 0), datetime.datetime(2017, 2, 17, 0, 0), datetime.datetime(2017, 2, 17, 0, 0), datetime.datetime(2017, 2, 17, 0, 0), datetime.datetime(2017, 2, 17, 0, 0), datetime.datetime(2017, 2, 16, 0, 0), datetime.datetime(2017, 2, 16, 0, 0), datetime.datetime(2017, 2, 16, 0, 0), datetime.datetime(2017, 2, 16, 0, 0), datetime.datetime(2017, 2, 16, 0, 0), datetime.datetime(2017, 2, 16, 0, 0), datetime.datetime(2017, 2, 16, 0, 0), datetime.datetime(2017, 2, 15, 0, 0), datetime.datetime(2017, 2, 15, 0, 0), datetime.datetime(2017, 2, 15, 0, 0), datetime.datetime(2017, 2, 15, 0, 0), datetime.datetime(2017, 2, 15, 0, 0), datetime.datetime(2017, 2, 15, 0, 0), datetime.datetime(2017, 2, 15, 0, 0), datetime.datetime(2017, 2, 15, 0, 0), datetime.datetime(2017, 2, 15, 0, 0), datetime.datetime(2017, 2, 14, 0, 0), datetime.datetime(2017, 2, 14, 0, 0), datetime.datetime(2017, 2, 14, 0, 0), datetime.datetime(2017, 2, 14, 0, 0), datetime.datetime(2017, 2, 14, 0, 0), datetime.datetime(2017, 2, 14, 0, 0), datetime.datetime(2017, 2, 14, 0, 0), datetime.datetime(2017, 2, 14, 0, 0), datetime.datetime(2017, 2, 14, 0, 0), datetime.datetime(2017, 2, 14, 0, 0), datetime.datetime(2017, 2, 14, 0, 0), datetime.datetime(2017, 2, 14, 0, 0), datetime.datetime(2017, 2, 14, 0, 0), datetime.datetime(2017, 2, 13, 0, 0), datetime.datetime(2017, 2, 13, 0, 0), datetime.datetime(2017, 2, 13, 0, 0), datetime.datetime(2017, 2, 13, 0, 0), datetime.datetime(2017, 2, 13, 0, 0), datetime.datetime(2017, 2, 13, 0, 0), datetime.datetime(2017, 2, 13, 0, 0), datetime.datetime(2017, 2, 13, 0, 0), datetime.datetime(2017, 2, 13, 0, 0), datetime.datetime(2017, 2, 13, 0, 0), datetime.datetime(2017, 2, 13, 0, 0), datetime.datetime(2017, 2, 13, 0, 0), datetime.datetime(2017, 2, 13, 0, 0), datetime.datetime(2017, 2, 13, 0, 0), datetime.datetime(2017, 2, 13, 0, 0), datetime.datetime(2017, 2, 13, 0, 0), datetime.datetime(2017, 2, 12, 0, 0), datetime.datetime(2017, 2, 12, 0, 0), datetime.datetime(2017, 2, 12, 0, 0), datetime.datetime(2017, 2, 12, 0, 0), datetime.datetime(2017, 2, 12, 0, 0), datetime.datetime(2017, 2, 11, 0, 0), datetime.datetime(2017, 2, 11, 0, 0), datetime.datetime(2017, 2, 11, 0, 0), datetime.datetime(2017, 2, 11, 0, 0), datetime.datetime(2017, 2, 10, 0, 0), datetime.datetime(2017, 2, 10, 0, 0), datetime.datetime(2017, 2, 10, 0, 0), datetime.datetime(2017, 2, 10, 0, 0), datetime.datetime(2017, 2, 10, 0, 0), datetime.datetime(2017, 2, 10, 0, 0), datetime.datetime(2017, 2, 10, 0, 0), datetime.datetime(2017, 2, 10, 0, 0), datetime.datetime(2017, 2, 10, 0, 0), datetime.datetime(2017, 2, 10, 0, 0), datetime.datetime(2017, 2, 9, 0, 0), datetime.datetime(2017, 2, 9, 0, 0), datetime.datetime(2017, 2, 9, 0, 0), datetime.datetime(2017, 2, 9, 0, 0), datetime.datetime(2017, 2, 9, 0, 0), datetime.datetime(2017, 2, 9, 0, 0), datetime.datetime(2017, 2, 9, 0, 0), datetime.datetime(2017, 2, 9, 0, 0), datetime.datetime(2017, 2, 9, 0, 0), datetime.datetime(2017, 2, 9, 0, 0), datetime.datetime(2017, 2, 9, 0, 0), datetime.datetime(2017, 2, 9, 0, 0), datetime.datetime(2017, 2, 8, 0, 0), datetime.datetime(2017, 2, 8, 0, 0), datetime.datetime(2017, 2, 8, 0, 0), datetime.datetime(2017, 2, 8, 0, 0), datetime.datetime(2017, 2, 8, 0, 0), datetime.datetime(2017, 2, 8, 0, 0), datetime.datetime(2017, 2, 8, 0, 0), datetime.datetime(2017, 2, 8, 0, 0), datetime.datetime(2017, 2, 8, 0, 0), datetime.datetime(2017, 2, 8, 0, 0), datetime.datetime(2017, 2, 8, 0, 0), datetime.datetime(2017, 2, 8, 0, 0), datetime.datetime(2017, 2, 7, 0, 0), datetime.datetime(2017, 2, 7, 0, 0), datetime.datetime(2017, 2, 7, 0, 0), datetime.datetime(2017, 2, 7, 0, 0), datetime.datetime(2017, 2, 7, 0, 0), datetime.datetime(2017, 2, 7, 0, 0), datetime.datetime(2017, 2, 6, 0, 0), datetime.datetime(2017, 2, 6, 0, 0), datetime.datetime(2017, 2, 6, 0, 0), datetime.datetime(2017, 2, 6, 0, 0), datetime.datetime(2017, 2, 6, 0, 0), datetime.datetime(2017, 2, 6, 0, 0), datetime.datetime(2017, 2, 6, 0, 0), datetime.datetime(2017, 2, 6, 0, 0), datetime.datetime(2017, 2, 6, 0, 0), datetime.datetime(2017, 2, 6, 0, 0), datetime.datetime(2017, 2, 6, 0, 0), datetime.datetime(2017, 2, 6, 0, 0), datetime.datetime(2017, 2, 6, 0, 0), datetime.datetime(2017, 2, 6, 0, 0), datetime.datetime(2017, 2, 6, 0, 0), datetime.datetime(2017, 2, 5, 0, 0), datetime.datetime(2017, 2, 5, 0, 0), datetime.datetime(2017, 2, 5, 0, 0), datetime.datetime(2017, 2, 5, 0, 0), datetime.datetime(2017, 2, 5, 0, 0), datetime.datetime(2017, 2, 5, 0, 0), datetime.datetime(2017, 2, 5, 0, 0), datetime.datetime(2017, 2, 5, 0, 0), datetime.datetime(2017, 2, 5, 0, 0), datetime.datetime(2017, 2, 4, 0, 0), datetime.datetime(2017, 2, 4, 0, 0), datetime.datetime(2017, 2, 4, 0, 0), datetime.datetime(2017, 2, 3, 0, 0), datetime.datetime(2017, 2, 3, 0, 0), datetime.datetime(2017, 2, 3, 0, 0), datetime.datetime(2017, 2, 3, 0, 0), datetime.datetime(2017, 2, 2, 0, 0), datetime.datetime(2017, 2, 2, 0, 0), datetime.datetime(2017, 2, 2, 0, 0), datetime.datetime(2017, 2, 2, 0, 0), datetime.datetime(2017, 2, 2, 0, 0), datetime.datetime(2017, 2, 2, 0, 0), datetime.datetime(2017, 2, 2, 0, 0), datetime.datetime(2017, 2, 2, 0, 0), datetime.datetime(2017, 2, 2, 0, 0), datetime.datetime(2017, 2, 2, 0, 0), datetime.datetime(2017, 2, 2, 0, 0), datetime.datetime(2017, 2, 2, 0, 0), datetime.datetime(2017, 2, 2, 0, 0), datetime.datetime(2017, 2, 2, 0, 0), datetime.datetime(2017, 2, 2, 0, 0), datetime.datetime(2017, 2, 1, 0, 0), datetime.datetime(2017, 2, 1, 0, 0), datetime.datetime(2017, 2, 1, 0, 0), datetime.datetime(2017, 2, 1, 0, 0), datetime.datetime(2017, 2, 1, 0, 0), datetime.datetime(2017, 2, 1, 0, 0), datetime.datetime(2017, 2, 1, 0, 0), datetime.datetime(2017, 2, 1, 0, 0), datetime.datetime(2017, 2, 1, 0, 0), datetime.datetime(2017, 2, 1, 0, 0), datetime.datetime(2017, 2, 1, 0, 0), datetime.datetime(2017, 2, 1, 0, 0), datetime.datetime(2017, 1, 31, 0, 0), datetime.datetime(2017, 1, 31, 0, 0), datetime.datetime(2017, 1, 31, 0, 0), datetime.datetime(2017, 1, 31, 0, 0), datetime.datetime(2017, 1, 31, 0, 0), datetime.datetime(2017, 1, 31, 0, 0), datetime.datetime(2017, 1, 31, 0, 0), datetime.datetime(2017, 1, 31, 0, 0), datetime.datetime(2017, 1, 31, 0, 0), datetime.datetime(2017, 1, 31, 0, 0), datetime.datetime(2017, 1, 31, 0, 0), datetime.datetime(2017, 1, 31, 0, 0), datetime.datetime(2017, 1, 31, 0, 0), datetime.datetime(2017, 1, 31, 0, 0), datetime.datetime(2017, 1, 31, 0, 0), datetime.datetime(2017, 1, 31, 0, 0), datetime.datetime(2017, 1, 31, 0, 0), datetime.datetime(2017, 1, 31, 0, 0), datetime.datetime(2017, 1, 31, 0, 0), datetime.datetime(2017, 1, 31, 0, 0), datetime.datetime(2017, 1, 31, 0, 0), datetime.datetime(2017, 1, 31, 0, 0), datetime.datetime(2017, 1, 31, 0, 0), datetime.datetime(2017, 1, 30, 0, 0), datetime.datetime(2017, 1, 30, 0, 0), datetime.datetime(2017, 1, 30, 0, 0), datetime.datetime(2017, 1, 30, 0, 0), datetime.datetime(2017, 1, 30, 0, 0), datetime.datetime(2017, 1, 30, 0, 0), datetime.datetime(2017, 1, 30, 0, 0), datetime.datetime(2017, 1, 30, 0, 0), datetime.datetime(2017, 1, 30, 0, 0), datetime.datetime(2017, 1, 30, 0, 0), datetime.datetime(2017, 1, 30, 0, 0), datetime.datetime(2017, 1, 30, 0, 0), datetime.datetime(2017, 1, 30, 0, 0), datetime.datetime(2017, 1, 29, 0, 0), datetime.datetime(2017, 1, 29, 0, 0), datetime.datetime(2017, 1, 29, 0, 0), datetime.datetime(2017, 1, 29, 0, 0), datetime.datetime(2017, 1, 29, 0, 0), datetime.datetime(2017, 1, 29, 0, 0), datetime.datetime(2017, 1, 29, 0, 0), datetime.datetime(2017, 1, 29, 0, 0), datetime.datetime(2017, 1, 29, 0, 0), datetime.datetime(2017, 1, 29, 0, 0), datetime.datetime(2017, 1, 28, 0, 0), datetime.datetime(2017, 1, 28, 0, 0), datetime.datetime(2017, 1, 28, 0, 0), datetime.datetime(2017, 1, 28, 0, 0), datetime.datetime(2017, 1, 28, 0, 0), datetime.datetime(2017, 1, 27, 0, 0), datetime.datetime(2017, 1, 27, 0, 0), datetime.datetime(2017, 1, 27, 0, 0), datetime.datetime(2017, 1, 27, 0, 0), datetime.datetime(2017, 1, 27, 0, 0), datetime.datetime(2017, 1, 27, 0, 0), datetime.datetime(2017, 1, 27, 0, 0), datetime.datetime(2017, 1, 27, 0, 0), datetime.datetime(2017, 1, 27, 0, 0), datetime.datetime(2017, 1, 27, 0, 0), datetime.datetime(2017, 1, 27, 0, 0), datetime.datetime(2017, 1, 27, 0, 0), datetime.datetime(2017, 1, 27, 0, 0), datetime.datetime(2017, 1, 26, 0, 0), datetime.datetime(2017, 1, 26, 0, 0), datetime.datetime(2017, 1, 26, 0, 0), datetime.datetime(2017, 1, 26, 0, 0), datetime.datetime(2017, 1, 26, 0, 0), datetime.datetime(2017, 1, 26, 0, 0), datetime.datetime(2017, 1, 26, 0, 0), datetime.datetime(2017, 1, 25, 0, 0), datetime.datetime(2017, 1, 25, 0, 0), datetime.datetime(2017, 1, 25, 0, 0), datetime.datetime(2017, 1, 25, 0, 0), datetime.datetime(2017, 1, 25, 0, 0), datetime.datetime(2017, 1, 25, 0, 0), datetime.datetime(2017, 1, 25, 0, 0), datetime.datetime(2017, 1, 25, 0, 0), datetime.datetime(2017, 1, 25, 0, 0), datetime.datetime(2017, 1, 24, 0, 0), datetime.datetime(2017, 1, 24, 0, 0), datetime.datetime(2017, 1, 24, 0, 0), datetime.datetime(2017, 1, 24, 0, 0), datetime.datetime(2017, 1, 24, 0, 0), datetime.datetime(2017, 1, 24, 0, 0), datetime.datetime(2017, 1, 24, 0, 0), datetime.datetime(2017, 1, 24, 0, 0), datetime.datetime(2017, 1, 24, 0, 0), datetime.datetime(2017, 1, 24, 0, 0), datetime.datetime(2017, 1, 24, 0, 0), datetime.datetime(2017, 1, 24, 0, 0), datetime.datetime(2017, 1, 24, 0, 0), datetime.datetime(2017, 1, 24, 0, 0), datetime.datetime(2017, 1, 24, 0, 0), datetime.datetime(2017, 1, 24, 0, 0), datetime.datetime(2017, 1, 24, 0, 0), datetime.datetime(2017, 1, 23, 0, 0), datetime.datetime(2017, 1, 23, 0, 0), datetime.datetime(2017, 1, 23, 0, 0), datetime.datetime(2017, 1, 23, 0, 0), datetime.datetime(2017, 1, 23, 0, 0), datetime.datetime(2017, 1, 23, 0, 0), datetime.datetime(2017, 1, 23, 0, 0), datetime.datetime(2017, 1, 23, 0, 0), datetime.datetime(2017, 1, 23, 0, 0), datetime.datetime(2017, 1, 23, 0, 0), datetime.datetime(2017, 1, 23, 0, 0), datetime.datetime(2017, 1, 23, 0, 0), datetime.datetime(2017, 1, 23, 0, 0), datetime.datetime(2017, 1, 23, 0, 0), datetime.datetime(2017, 1, 23, 0, 0), datetime.datetime(2017, 1, 21, 0, 0), datetime.datetime(2017, 1, 21, 0, 0), datetime.datetime(2017, 1, 21, 0, 0), datetime.datetime(2017, 1, 21, 0, 0), datetime.datetime(2017, 1, 21, 0, 0), datetime.datetime(2017, 1, 21, 0, 0), datetime.datetime(2017, 1, 21, 0, 0), datetime.datetime(2017, 1, 21, 0, 0), datetime.datetime(2017, 1, 21, 0, 0), datetime.datetime(2017, 1, 21, 0, 0), datetime.datetime(2017, 1, 20, 0, 0), datetime.datetime(2017, 1, 20, 0, 0), datetime.datetime(2017, 1, 20, 0, 0), datetime.datetime(2017, 1, 20, 0, 0), datetime.datetime(2017, 1, 20, 0, 0), datetime.datetime(2017, 1, 20, 0, 0), datetime.datetime(2017, 1, 20, 0, 0), datetime.datetime(2017, 1, 20, 0, 0), datetime.datetime(2017, 1, 20, 0, 0), datetime.datetime(2017, 1, 20, 0, 0), datetime.datetime(2017, 1, 20, 0, 0), datetime.datetime(2017, 1, 20, 0, 0), datetime.datetime(2017, 1, 20, 0, 0), datetime.datetime(2017, 1, 19, 0, 0), datetime.datetime(2017, 1, 19, 0, 0), datetime.datetime(2017, 1, 19, 0, 0), datetime.datetime(2017, 1, 19, 0, 0), datetime.datetime(2017, 1, 19, 0, 0), datetime.datetime(2017, 1, 19, 0, 0), datetime.datetime(2017, 1, 19, 0, 0), datetime.datetime(2017, 1, 19, 0, 0), datetime.datetime(2017, 1, 19, 0, 0), datetime.datetime(2017, 1, 19, 0, 0), datetime.datetime(2017, 1, 18, 0, 0), datetime.datetime(2017, 1, 18, 0, 0), datetime.datetime(2017, 1, 18, 0, 0), datetime.datetime(2017, 1, 18, 0, 0), datetime.datetime(2017, 1, 18, 0, 0), datetime.datetime(2017, 1, 18, 0, 0), datetime.datetime(2017, 1, 18, 0, 0), datetime.datetime(2017, 1, 18, 0, 0), datetime.datetime(2017, 1, 18, 0, 0), datetime.datetime(2017, 1, 18, 0, 0), datetime.datetime(2017, 1, 18, 0, 0), datetime.datetime(2017, 1, 18, 0, 0), datetime.datetime(2017, 1, 18, 0, 0), datetime.datetime(2017, 1, 18, 0, 0), datetime.datetime(2017, 1, 18, 0, 0), datetime.datetime(2017, 1, 18, 0, 0), datetime.datetime(2017, 1, 18, 0, 0), datetime.datetime(2017, 1, 18, 0, 0), datetime.datetime(2017, 1, 17, 0, 0), datetime.datetime(2017, 1, 17, 0, 0), datetime.datetime(2017, 1, 17, 0, 0), datetime.datetime(2017, 1, 17, 0, 0), datetime.datetime(2017, 1, 17, 0, 0), datetime.datetime(2017, 1, 17, 0, 0), datetime.datetime(2017, 1, 17, 0, 0), datetime.datetime(2017, 1, 17, 0, 0), datetime.datetime(2017, 1, 17, 0, 0), datetime.datetime(2017, 1, 17, 0, 0), datetime.datetime(2017, 1, 17, 0, 0), datetime.datetime(2017, 1, 17, 0, 0), datetime.datetime(2017, 1, 17, 0, 0), datetime.datetime(2017, 1, 17, 0, 0), datetime.datetime(2017, 1, 17, 0, 0), datetime.datetime(2017, 1, 17, 0, 0), datetime.datetime(2017, 1, 17, 0, 0), datetime.datetime(2017, 1, 16, 0, 0), datetime.datetime(2017, 1, 16, 0, 0), datetime.datetime(2017, 1, 16, 0, 0), datetime.datetime(2017, 1, 16, 0, 0), datetime.datetime(2017, 1, 16, 0, 0), datetime.datetime(2017, 1, 16, 0, 0), datetime.datetime(2017, 1, 16, 0, 0), datetime.datetime(2017, 1, 16, 0, 0), datetime.datetime(2017, 1, 16, 0, 0), datetime.datetime(2017, 1, 15, 0, 0), datetime.datetime(2017, 1, 15, 0, 0), datetime.datetime(2017, 1, 15, 0, 0), datetime.datetime(2017, 1, 14, 0, 0), datetime.datetime(2017, 1, 14, 0, 0), datetime.datetime(2017, 1, 14, 0, 0), datetime.datetime(2017, 1, 14, 0, 0), datetime.datetime(2017, 1, 14, 0, 0), datetime.datetime(2017, 1, 14, 0, 0), datetime.datetime(2017, 1, 14, 0, 0), datetime.datetime(2017, 1, 14, 0, 0), datetime.datetime(2017, 1, 13, 0, 0), datetime.datetime(2017, 1, 13, 0, 0), datetime.datetime(2017, 1, 13, 0, 0), datetime.datetime(2017, 1, 13, 0, 0), datetime.datetime(2017, 1, 13, 0, 0), datetime.datetime(2017, 1, 13, 0, 0), datetime.datetime(2017, 1, 13, 0, 0), datetime.datetime(2017, 1, 13, 0, 0), datetime.datetime(2017, 1, 13, 0, 0), datetime.datetime(2017, 1, 13, 0, 0), datetime.datetime(2017, 1, 13, 0, 0), datetime.datetime(2017, 1, 13, 0, 0), datetime.datetime(2017, 1, 13, 0, 0), datetime.datetime(2017, 1, 12, 0, 0), datetime.datetime(2017, 1, 12, 0, 0), datetime.datetime(2017, 1, 12, 0, 0), datetime.datetime(2017, 1, 12, 0, 0), datetime.datetime(2017, 1, 12, 0, 0), datetime.datetime(2017, 1, 12, 0, 0), datetime.datetime(2017, 1, 11, 0, 0), datetime.datetime(2017, 1, 11, 0, 0), datetime.datetime(2017, 1, 11, 0, 0), datetime.datetime(2017, 1, 11, 0, 0), datetime.datetime(2017, 1, 11, 0, 0), datetime.datetime(2017, 1, 11, 0, 0), datetime.datetime(2017, 1, 11, 0, 0), datetime.datetime(2017, 1, 11, 0, 0), datetime.datetime(2017, 1, 11, 0, 0), datetime.datetime(2017, 1, 11, 0, 0), datetime.datetime(2017, 1, 11, 0, 0), datetime.datetime(2017, 1, 10, 0, 0), datetime.datetime(2017, 1, 10, 0, 0), datetime.datetime(2017, 1, 10, 0, 0), datetime.datetime(2017, 1, 10, 0, 0), datetime.datetime(2017, 1, 10, 0, 0), datetime.datetime(2017, 1, 10, 0, 0), datetime.datetime(2017, 1, 10, 0, 0), datetime.datetime(2017, 1, 10, 0, 0), datetime.datetime(2017, 1, 10, 0, 0), datetime.datetime(2017, 1, 10, 0, 0), datetime.datetime(2017, 1, 10, 0, 0), datetime.datetime(2017, 1, 9, 0, 0), datetime.datetime(2017, 1, 9, 0, 0), datetime.datetime(2017, 1, 9, 0, 0), datetime.datetime(2017, 1, 9, 0, 0), datetime.datetime(2017, 1, 9, 0, 0), datetime.datetime(2017, 1, 9, 0, 0), datetime.datetime(2017, 1, 9, 0, 0), datetime.datetime(2017, 1, 9, 0, 0), datetime.datetime(2017, 1, 9, 0, 0), datetime.datetime(2017, 1, 9, 0, 0), datetime.datetime(2017, 1, 9, 0, 0), datetime.datetime(2017, 1, 8, 0, 0), datetime.datetime(2017, 1, 8, 0, 0), datetime.datetime(2017, 1, 8, 0, 0), datetime.datetime(2017, 1, 8, 0, 0), datetime.datetime(2017, 1, 7, 0, 0), datetime.datetime(2017, 1, 7, 0, 0), datetime.datetime(2017, 1, 6, 0, 0), datetime.datetime(2017, 1, 6, 0, 0), datetime.datetime(2017, 1, 6, 0, 0), datetime.datetime(2017, 1, 6, 0, 0), datetime.datetime(2017, 1, 6, 0, 0), datetime.datetime(2017, 1, 6, 0, 0), datetime.datetime(2017, 1, 6, 0, 0), datetime.datetime(2017, 1, 5, 0, 0), datetime.datetime(2017, 1, 5, 0, 0), datetime.datetime(2017, 1, 5, 0, 0), datetime.datetime(2017, 1, 4, 0, 0), datetime.datetime(2017, 1, 4, 0, 0), datetime.datetime(2017, 1, 4, 0, 0), datetime.datetime(2017, 1, 3, 0, 0), datetime.datetime(2017, 1, 3, 0, 0), datetime.datetime(2017, 1, 3, 0, 0), datetime.datetime(2017, 1, 3, 0, 0), datetime.datetime(2017, 1, 2, 0, 0), datetime.datetime(2017, 1, 2, 0, 0), datetime.datetime(2017, 1, 2, 0, 0), datetime.datetime(2017, 1, 2, 0, 0), datetime.datetime(2017, 1, 2, 0, 0), datetime.datetime(2017, 1, 1, 0, 0), datetime.datetime(2016, 12, 31, 0, 0), datetime.datetime(2016, 12, 30, 0, 0), datetime.datetime(2016, 12, 30, 0, 0), datetime.datetime(2016, 12, 30, 0, 0), datetime.datetime(2016, 12, 29, 0, 0), datetime.datetime(2016, 12, 29, 0, 0), datetime.datetime(2016, 12, 29, 0, 0), datetime.datetime(2016, 12, 28, 0, 0), datetime.datetime(2016, 12, 28, 0, 0), datetime.datetime(2016, 12, 28, 0, 0), datetime.datetime(2016, 12, 28, 0, 0), datetime.datetime(2016, 12, 28, 0, 0), datetime.datetime(2016, 12, 27, 0, 0), datetime.datetime(2016, 12, 27, 0, 0), datetime.datetime(2016, 12, 27, 0, 0), datetime.datetime(2016, 12, 27, 0, 0), datetime.datetime(2016, 12, 26, 0, 0), datetime.datetime(2016, 12, 26, 0, 0), datetime.datetime(2016, 12, 26, 0, 0), datetime.datetime(2016, 12, 26, 0, 0), datetime.datetime(2016, 12, 25, 0, 0), datetime.datetime(2016, 12, 25, 0, 0), datetime.datetime(2016, 12, 25, 0, 0), datetime.datetime(2016, 12, 25, 0, 0), datetime.datetime(2016, 12, 24, 0, 0), datetime.datetime(2016, 12, 24, 0, 0), datetime.datetime(2016, 12, 24, 0, 0), datetime.datetime(2016, 12, 23, 0, 0), datetime.datetime(2016, 12, 22, 0, 0), datetime.datetime(2016, 12, 22, 0, 0), datetime.datetime(2016, 12, 22, 0, 0), datetime.datetime(2016, 12, 21, 0, 0), datetime.datetime(2016, 12, 21, 0, 0), datetime.datetime(2016, 12, 21, 0, 0), datetime.datetime(2016, 12, 21, 0, 0), datetime.datetime(2016, 12, 21, 0, 0), datetime.datetime(2016, 12, 21, 0, 0), datetime.datetime(2016, 12, 21, 0, 0), datetime.datetime(2016, 12, 20, 0, 0), datetime.datetime(2016, 12, 20, 0, 0), datetime.datetime(2016, 12, 20, 0, 0), datetime.datetime(2016, 12, 20, 0, 0), datetime.datetime(2016, 12, 19, 0, 0), datetime.datetime(2016, 12, 19, 0, 0), datetime.datetime(2016, 12, 19, 0, 0), datetime.datetime(2016, 12, 19, 0, 0), datetime.datetime(2016, 12, 18, 0, 0), datetime.datetime(2016, 12, 16, 0, 0), datetime.datetime(2016, 12, 16, 0, 0), datetime.datetime(2016, 12, 15, 0, 0), datetime.datetime(2016, 12, 15, 0, 0), datetime.datetime(2016, 12, 15, 0, 0), datetime.datetime(2016, 12, 15, 0, 0), datetime.datetime(2016, 12, 15, 0, 0), datetime.datetime(2016, 12, 14, 0, 0), datetime.datetime(2016, 12, 14, 0, 0), datetime.datetime(2016, 12, 14, 0, 0), datetime.datetime(2016, 12, 14, 0, 0), datetime.datetime(2016, 12, 14, 0, 0), datetime.datetime(2016, 12, 14, 0, 0), datetime.datetime(2016, 12, 13, 0, 0), datetime.datetime(2016, 12, 13, 0, 0), datetime.datetime(2016, 12, 13, 0, 0), datetime.datetime(2016, 12, 13, 0, 0), datetime.datetime(2016, 12, 13, 0, 0), datetime.datetime(2016, 12, 13, 0, 0), datetime.datetime(2016, 12, 12, 0, 0), datetime.datetime(2016, 12, 12, 0, 0), datetime.datetime(2016, 12, 12, 0, 0), datetime.datetime(2016, 12, 12, 0, 0), datetime.datetime(2016, 12, 12, 0, 0), datetime.datetime(2016, 12, 12, 0, 0), datetime.datetime(2016, 12, 11, 0, 0), datetime.datetime(2016, 12, 10, 0, 0), datetime.datetime(2016, 12, 9, 0, 0), datetime.datetime(2016, 12, 9, 0, 0), datetime.datetime(2016, 12, 9, 0, 0), datetime.datetime(2016, 12, 8, 0, 0), datetime.datetime(2016, 12, 8, 0, 0), datetime.datetime(2016, 12, 8, 0, 0), datetime.datetime(2016, 12, 8, 0, 0), datetime.datetime(2016, 12, 8, 0, 0), datetime.datetime(2016, 12, 8, 0, 0), datetime.datetime(2016, 12, 8, 0, 0), datetime.datetime(2016, 12, 8, 0, 0), datetime.datetime(2016, 12, 7, 0, 0), datetime.datetime(2016, 12, 7, 0, 0), datetime.datetime(2016, 12, 7, 0, 0), datetime.datetime(2016, 12, 7, 0, 0), datetime.datetime(2016, 12, 7, 0, 0), datetime.datetime(2016, 12, 7, 0, 0), datetime.datetime(2016, 12, 7, 0, 0), datetime.datetime(2016, 12, 6, 0, 0), datetime.datetime(2016, 12, 6, 0, 0), datetime.datetime(2016, 12, 5, 0, 0), datetime.datetime(2016, 12, 5, 0, 0), datetime.datetime(2016, 12, 5, 0, 0), datetime.datetime(2016, 12, 5, 0, 0), datetime.datetime(2016, 12, 5, 0, 0), datetime.datetime(2016, 12, 4, 0, 0), datetime.datetime(2016, 12, 4, 0, 0), datetime.datetime(2016, 12, 4, 0, 0), datetime.datetime(2016, 12, 3, 0, 0), datetime.datetime(2016, 12, 3, 0, 0), datetime.datetime(2016, 12, 3, 0, 0), datetime.datetime(2016, 12, 2, 0, 0), datetime.datetime(2016, 12, 2, 0, 0), datetime.datetime(2016, 12, 1, 0, 0), datetime.datetime(2016, 12, 1, 0, 0), datetime.datetime(2016, 12, 1, 0, 0), datetime.datetime(2016, 12, 1, 0, 0), datetime.datetime(2016, 12, 1, 0, 0), datetime.datetime(2016, 12, 1, 0, 0), datetime.datetime(2016, 11, 30, 0, 0), datetime.datetime(2016, 11, 30, 0, 0), datetime.datetime(2016, 11, 30, 0, 0), datetime.datetime(2016, 11, 30, 0, 0), datetime.datetime(2016, 11, 29, 0, 0), datetime.datetime(2016, 11, 29, 0, 0), datetime.datetime(2016, 11, 29, 0, 0), datetime.datetime(2016, 11, 29, 0, 0), datetime.datetime(2016, 11, 29, 0, 0), datetime.datetime(2016, 11, 29, 0, 0), datetime.datetime(2016, 11, 29, 0, 0), datetime.datetime(2016, 11, 29, 0, 0), datetime.datetime(2016, 11, 29, 0, 0), datetime.datetime(2016, 11, 28, 0, 0), datetime.datetime(2016, 11, 28, 0, 0), datetime.datetime(2016, 11, 28, 0, 0), datetime.datetime(2016, 11, 28, 0, 0), datetime.datetime(2016, 11, 27, 0, 0), datetime.datetime(2016, 11, 26, 0, 0), datetime.datetime(2016, 11, 26, 0, 0), datetime.datetime(2016, 11, 26, 0, 0), datetime.datetime(2016, 11, 26, 0, 0), datetime.datetime(2016, 11, 26, 0, 0), datetime.datetime(2016, 11, 25, 0, 0), datetime.datetime(2016, 11, 25, 0, 0), datetime.datetime(2016, 11, 25, 0, 0), datetime.datetime(2016, 11, 25, 0, 0), datetime.datetime(2016, 11, 25, 0, 0), datetime.datetime(2016, 11, 25, 0, 0), datetime.datetime(2016, 11, 25, 0, 0), datetime.datetime(2016, 11, 25, 0, 0), datetime.datetime(2016, 11, 25, 0, 0), datetime.datetime(2016, 11, 25, 0, 0), datetime.datetime(2016, 11, 25, 0, 0), datetime.datetime(2016, 11, 24, 0, 0), datetime.datetime(2016, 11, 24, 0, 0), datetime.datetime(2016, 11, 23, 0, 0), datetime.datetime(2016, 11, 23, 0, 0), datetime.datetime(2016, 11, 23, 0, 0), datetime.datetime(2016, 11, 23, 0, 0), datetime.datetime(2016, 11, 23, 0, 0), datetime.datetime(2016, 11, 23, 0, 0), datetime.datetime(2016, 11, 23, 0, 0), datetime.datetime(2016, 11, 22, 0, 0), datetime.datetime(2016, 11, 22, 0, 0), datetime.datetime(2016, 11, 22, 0, 0), datetime.datetime(2016, 11, 22, 0, 0), datetime.datetime(2016, 11, 22, 0, 0), datetime.datetime(2016, 11, 22, 0, 0), datetime.datetime(2016, 11, 22, 0, 0), datetime.datetime(2016, 11, 22, 0, 0), datetime.datetime(2016, 11, 22, 0, 0), datetime.datetime(2016, 11, 22, 0, 0), datetime.datetime(2016, 11, 21, 0, 0), datetime.datetime(2016, 11, 21, 0, 0), datetime.datetime(2016, 11, 21, 0, 0), datetime.datetime(2016, 11, 21, 0, 0), datetime.datetime(2016, 11, 21, 0, 0), datetime.datetime(2016, 11, 21, 0, 0), datetime.datetime(2016, 11, 20, 0, 0), datetime.datetime(2016, 11, 20, 0, 0), datetime.datetime(2016, 11, 20, 0, 0), datetime.datetime(2016, 11, 20, 0, 0), datetime.datetime(2016, 11, 19, 0, 0), datetime.datetime(2016, 11, 19, 0, 0), datetime.datetime(2016, 11, 19, 0, 0), datetime.datetime(2016, 11, 18, 0, 0), datetime.datetime(2016, 11, 18, 0, 0), datetime.datetime(2016, 11, 18, 0, 0), datetime.datetime(2016, 11, 18, 0, 0), datetime.datetime(2016, 11, 18, 0, 0), datetime.datetime(2016, 11, 18, 0, 0), datetime.datetime(2016, 11, 17, 0, 0), datetime.datetime(2016, 11, 17, 0, 0), datetime.datetime(2016, 11, 17, 0, 0), datetime.datetime(2016, 11, 17, 0, 0), datetime.datetime(2016, 11, 17, 0, 0), datetime.datetime(2016, 11, 17, 0, 0), datetime.datetime(2016, 11, 17, 0, 0), datetime.datetime(2016, 11, 16, 0, 0), datetime.datetime(2016, 11, 16, 0, 0), datetime.datetime(2016, 11, 16, 0, 0), datetime.datetime(2016, 11, 15, 0, 0), datetime.datetime(2016, 11, 15, 0, 0), datetime.datetime(2016, 11, 15, 0, 0), datetime.datetime(2016, 11, 15, 0, 0), datetime.datetime(2016, 11, 15, 0, 0), datetime.datetime(2016, 11, 15, 0, 0), datetime.datetime(2016, 11, 15, 0, 0), datetime.datetime(2016, 11, 14, 0, 0), datetime.datetime(2016, 11, 14, 0, 0), datetime.datetime(2016, 11, 14, 0, 0), datetime.datetime(2016, 11, 14, 0, 0), datetime.datetime(2016, 11, 14, 0, 0), datetime.datetime(2016, 11, 13, 0, 0), datetime.datetime(2016, 11, 13, 0, 0), datetime.datetime(2016, 11, 13, 0, 0), datetime.datetime(2016, 11, 12, 0, 0), datetime.datetime(2016, 11, 12, 0, 0), datetime.datetime(2016, 11, 12, 0, 0), datetime.datetime(2016, 11, 12, 0, 0), datetime.datetime(2016, 11, 12, 0, 0), datetime.datetime(2016, 11, 12, 0, 0), datetime.datetime(2016, 11, 11, 0, 0), datetime.datetime(2016, 11, 11, 0, 0), datetime.datetime(2016, 11, 11, 0, 0), datetime.datetime(2016, 11, 10, 0, 0), datetime.datetime(2016, 11, 10, 0, 0), datetime.datetime(2016, 11, 10, 0, 0), datetime.datetime(2016, 11, 10, 0, 0), datetime.datetime(2016, 11, 9, 0, 0), datetime.datetime(2016, 11, 9, 0, 0), datetime.datetime(2016, 11, 9, 0, 0), datetime.datetime(2016, 11, 9, 0, 0), datetime.datetime(2016, 11, 9, 0, 0), datetime.datetime(2016, 11, 8, 0, 0), datetime.datetime(2016, 11, 8, 0, 0), datetime.datetime(2016, 11, 8, 0, 0), datetime.datetime(2016, 11, 8, 0, 0), datetime.datetime(2016, 11, 7, 0, 0), datetime.datetime(2016, 11, 7, 0, 0), datetime.datetime(2016, 11, 7, 0, 0), datetime.datetime(2016, 11, 7, 0, 0), datetime.datetime(2016, 11, 7, 0, 0), datetime.datetime(2016, 11, 6, 0, 0), datetime.datetime(2016, 11, 6, 0, 0), datetime.datetime(2016, 11, 6, 0, 0), datetime.datetime(2016, 11, 5, 0, 0), datetime.datetime(2016, 11, 4, 0, 0), datetime.datetime(2016, 11, 4, 0, 0), datetime.datetime(2016, 11, 4, 0, 0), datetime.datetime(2016, 11, 3, 0, 0), datetime.datetime(2016, 11, 3, 0, 0), datetime.datetime(2016, 11, 3, 0, 0), datetime.datetime(2016, 11, 3, 0, 0), datetime.datetime(2016, 11, 2, 0, 0), datetime.datetime(2016, 11, 2, 0, 0), datetime.datetime(2016, 11, 2, 0, 0), datetime.datetime(2016, 11, 2, 0, 0), datetime.datetime(2016, 11, 2, 0, 0), datetime.datetime(2016, 11, 2, 0, 0), datetime.datetime(2016, 11, 2, 0, 0), datetime.datetime(2016, 11, 2, 0, 0), datetime.datetime(2016, 11, 1, 0, 0), datetime.datetime(2016, 11, 1, 0, 0), datetime.datetime(2016, 11, 1, 0, 0), datetime.datetime(2016, 11, 1, 0, 0), datetime.datetime(2016, 11, 1, 0, 0), datetime.datetime(2016, 11, 1, 0, 0), datetime.datetime(2016, 11, 1, 0, 0), datetime.datetime(2016, 10, 31, 0, 0), datetime.datetime(2016, 10, 31, 0, 0), datetime.datetime(2016, 10, 31, 0, 0), datetime.datetime(2016, 10, 31, 0, 0), datetime.datetime(2016, 10, 31, 0, 0), datetime.datetime(2016, 10, 30, 0, 0), datetime.datetime(2016, 10, 29, 0, 0), datetime.datetime(2016, 10, 29, 0, 0), datetime.datetime(2016, 10, 29, 0, 0), datetime.datetime(2016, 10, 28, 0, 0), datetime.datetime(2016, 10, 28, 0, 0), datetime.datetime(2016, 10, 28, 0, 0), datetime.datetime(2016, 10, 28, 0, 0), datetime.datetime(2016, 10, 27, 0, 0), datetime.datetime(2016, 10, 27, 0, 0), datetime.datetime(2016, 10, 27, 0, 0), datetime.datetime(2016, 10, 27, 0, 0), datetime.datetime(2016, 10, 26, 0, 0), datetime.datetime(2016, 10, 26, 0, 0), datetime.datetime(2016, 10, 26, 0, 0), datetime.datetime(2016, 10, 26, 0, 0), datetime.datetime(2016, 10, 26, 0, 0), datetime.datetime(2016, 10, 26, 0, 0), datetime.datetime(2016, 10, 26, 0, 0), datetime.datetime(2016, 10, 25, 0, 0), datetime.datetime(2016, 10, 25, 0, 0), datetime.datetime(2016, 10, 25, 0, 0), datetime.datetime(2016, 10, 25, 0, 0), datetime.datetime(2016, 10, 25, 0, 0), datetime.datetime(2016, 10, 24, 0, 0), datetime.datetime(2016, 10, 24, 0, 0), datetime.datetime(2016, 10, 24, 0, 0), datetime.datetime(2016, 10, 24, 0, 0), datetime.datetime(2016, 10, 23, 0, 0), datetime.datetime(2016, 10, 23, 0, 0), datetime.datetime(2016, 10, 23, 0, 0), datetime.datetime(2016, 10, 22, 0, 0), datetime.datetime(2016, 10, 22, 0, 0), datetime.datetime(2016, 10, 22, 0, 0), datetime.datetime(2016, 10, 21, 0, 0), datetime.datetime(2016, 10, 21, 0, 0), datetime.datetime(2016, 10, 21, 0, 0), datetime.datetime(2016, 10, 21, 0, 0), datetime.datetime(2016, 10, 21, 0, 0), datetime.datetime(2016, 10, 20, 0, 0), datetime.datetime(2016, 10, 20, 0, 0), datetime.datetime(2016, 10, 20, 0, 0), datetime.datetime(2016, 10, 20, 0, 0), datetime.datetime(2016, 10, 20, 0, 0), datetime.datetime(2016, 10, 20, 0, 0), datetime.datetime(2016, 10, 19, 0, 0), datetime.datetime(2016, 10, 19, 0, 0), datetime.datetime(2016, 10, 19, 0, 0), datetime.datetime(2016, 10, 19, 0, 0), datetime.datetime(2016, 10, 18, 0, 0), datetime.datetime(2016, 10, 18, 0, 0), datetime.datetime(2016, 10, 18, 0, 0), datetime.datetime(2016, 10, 17, 0, 0), datetime.datetime(2016, 10, 17, 0, 0), datetime.datetime(2016, 10, 17, 0, 0), datetime.datetime(2016, 10, 17, 0, 0), datetime.datetime(2016, 10, 17, 0, 0), datetime.datetime(2016, 10, 17, 0, 0), datetime.datetime(2016, 10, 16, 0, 0), datetime.datetime(2016, 10, 15, 0, 0), datetime.datetime(2016, 10, 15, 0, 0), datetime.datetime(2016, 10, 14, 0, 0), datetime.datetime(2016, 10, 14, 0, 0), datetime.datetime(2016, 10, 14, 0, 0), datetime.datetime(2016, 10, 14, 0, 0), datetime.datetime(2016, 10, 13, 0, 0), datetime.datetime(2016, 10, 13, 0, 0), datetime.datetime(2016, 10, 12, 0, 0), datetime.datetime(2016, 10, 12, 0, 0), datetime.datetime(2016, 10, 11, 0, 0), datetime.datetime(2016, 10, 11, 0, 0), datetime.datetime(2016, 10, 11, 0, 0), datetime.datetime(2016, 10, 10, 0, 0), datetime.datetime(2016, 10, 10, 0, 0), datetime.datetime(2016, 10, 10, 0, 0), datetime.datetime(2016, 10, 8, 0, 0), datetime.datetime(2016, 10, 8, 0, 0), datetime.datetime(2016, 10, 7, 0, 0), datetime.datetime(2016, 10, 7, 0, 0), datetime.datetime(2016, 10, 7, 0, 0), datetime.datetime(2016, 10, 6, 0, 0), datetime.datetime(2016, 10, 6, 0, 0), datetime.datetime(2016, 10, 6, 0, 0), datetime.datetime(2016, 10, 5, 0, 0), datetime.datetime(2016, 10, 4, 0, 0), datetime.datetime(2016, 10, 4, 0, 0), datetime.datetime(2016, 10, 4, 0, 0), datetime.datetime(2016, 10, 3, 0, 0), datetime.datetime(2016, 10, 3, 0, 0), datetime.datetime(2016, 10, 3, 0, 0), datetime.datetime(2016, 10, 3, 0, 0), datetime.datetime(2016, 10, 3, 0, 0), datetime.datetime(2016, 10, 1, 0, 0), datetime.datetime(2016, 10, 1, 0, 0), datetime.datetime(2016, 9, 30, 0, 0), datetime.datetime(2016, 9, 30, 0, 0), datetime.datetime(2016, 9, 30, 0, 0), datetime.datetime(2016, 9, 30, 0, 0), datetime.datetime(2016, 9, 29, 0, 0), datetime.datetime(2016, 9, 29, 0, 0), datetime.datetime(2016, 9, 29, 0, 0), datetime.datetime(2016, 9, 29, 0, 0), datetime.datetime(2016, 9, 28, 0, 0), datetime.datetime(2016, 9, 28, 0, 0), datetime.datetime(2016, 9, 28, 0, 0), datetime.datetime(2016, 9, 28, 0, 0), datetime.datetime(2016, 9, 27, 0, 0), datetime.datetime(2016, 9, 27, 0, 0), datetime.datetime(2016, 9, 27, 0, 0), datetime.datetime(2016, 9, 27, 0, 0), datetime.datetime(2016, 9, 27, 0, 0), datetime.datetime(2016, 9, 27, 0, 0), datetime.datetime(2016, 9, 27, 0, 0), datetime.datetime(2016, 9, 27, 0, 0), datetime.datetime(2016, 9, 27, 0, 0), datetime.datetime(2016, 9, 26, 0, 0), datetime.datetime(2016, 9, 26, 0, 0), datetime.datetime(2016, 9, 25, 0, 0), datetime.datetime(2016, 9, 25, 0, 0), datetime.datetime(2016, 9, 25, 0, 0), datetime.datetime(2016, 9, 25, 0, 0), datetime.datetime(2016, 9, 23, 0, 0), datetime.datetime(2016, 9, 23, 0, 0), datetime.datetime(2016, 9, 23, 0, 0), datetime.datetime(2016, 9, 23, 0, 0), datetime.datetime(2016, 9, 23, 0, 0), datetime.datetime(2016, 9, 23, 0, 0), datetime.datetime(2016, 9, 23, 0, 0), datetime.datetime(2016, 9, 22, 0, 0), datetime.datetime(2016, 9, 22, 0, 0), datetime.datetime(2016, 9, 22, 0, 0), datetime.datetime(2016, 9, 22, 0, 0), datetime.datetime(2016, 9, 22, 0, 0), datetime.datetime(2016, 9, 21, 0, 0), datetime.datetime(2016, 9, 21, 0, 0), datetime.datetime(2016, 9, 20, 0, 0), datetime.datetime(2016, 9, 20, 0, 0), datetime.datetime(2016, 9, 20, 0, 0), datetime.datetime(2016, 9, 20, 0, 0), datetime.datetime(2016, 9, 20, 0, 0), datetime.datetime(2016, 9, 19, 0, 0), datetime.datetime(2016, 9, 19, 0, 0), datetime.datetime(2016, 9, 19, 0, 0), datetime.datetime(2016, 9, 19, 0, 0), datetime.datetime(2016, 9, 19, 0, 0), datetime.datetime(2016, 9, 18, 0, 0), datetime.datetime(2016, 9, 18, 0, 0), datetime.datetime(2016, 9, 18, 0, 0), datetime.datetime(2016, 9, 16, 0, 0), datetime.datetime(2016, 9, 16, 0, 0), datetime.datetime(2016, 9, 16, 0, 0), datetime.datetime(2016, 9, 15, 0, 0), datetime.datetime(2016, 9, 15, 0, 0), datetime.datetime(2016, 9, 15, 0, 0), datetime.datetime(2016, 9, 14, 0, 0), datetime.datetime(2016, 9, 14, 0, 0), datetime.datetime(2016, 9, 14, 0, 0), datetime.datetime(2016, 9, 14, 0, 0), datetime.datetime(2016, 9, 14, 0, 0), datetime.datetime(2016, 9, 13, 0, 0), datetime.datetime(2016, 9, 13, 0, 0), datetime.datetime(2016, 9, 12, 0, 0), datetime.datetime(2016, 9, 12, 0, 0), datetime.datetime(2016, 9, 12, 0, 0), datetime.datetime(2016, 9, 11, 0, 0), datetime.datetime(2016, 9, 10, 0, 0), datetime.datetime(2016, 9, 9, 0, 0), datetime.datetime(2016, 9, 9, 0, 0), datetime.datetime(2016, 9, 8, 0, 0), datetime.datetime(2016, 9, 8, 0, 0), datetime.datetime(2016, 9, 8, 0, 0), datetime.datetime(2016, 9, 8, 0, 0), datetime.datetime(2016, 9, 8, 0, 0), datetime.datetime(2016, 9, 7, 0, 0), datetime.datetime(2016, 9, 7, 0, 0), datetime.datetime(2016, 9, 7, 0, 0), datetime.datetime(2016, 9, 7, 0, 0), datetime.datetime(2016, 9, 7, 0, 0), datetime.datetime(2016, 9, 7, 0, 0), datetime.datetime(2016, 9, 6, 0, 0), datetime.datetime(2016, 9, 6, 0, 0), datetime.datetime(2016, 9, 6, 0, 0), datetime.datetime(2016, 9, 5, 0, 0), datetime.datetime(2016, 9, 5, 0, 0), datetime.datetime(2016, 9, 5, 0, 0), datetime.datetime(2016, 9, 4, 0, 0), datetime.datetime(2016, 9, 3, 0, 0), datetime.datetime(2016, 9, 2, 0, 0), datetime.datetime(2016, 9, 2, 0, 0), datetime.datetime(2016, 9, 1, 0, 0), datetime.datetime(2016, 9, 1, 0, 0), datetime.datetime(2016, 9, 1, 0, 0), datetime.datetime(2016, 9, 1, 0, 0), datetime.datetime(2016, 8, 31, 0, 0), datetime.datetime(2016, 8, 31, 0, 0), datetime.datetime(2016, 8, 31, 0, 0), datetime.datetime(2016, 8, 31, 0, 0), datetime.datetime(2016, 8, 31, 0, 0), datetime.datetime(2016, 8, 31, 0, 0), datetime.datetime(2016, 8, 30, 0, 0), datetime.datetime(2016, 8, 30, 0, 0), datetime.datetime(2016, 8, 30, 0, 0), datetime.datetime(2016, 8, 30, 0, 0), datetime.datetime(2016, 8, 30, 0, 0), datetime.datetime(2016, 8, 30, 0, 0), datetime.datetime(2016, 8, 29, 0, 0), datetime.datetime(2016, 8, 29, 0, 0), datetime.datetime(2016, 8, 29, 0, 0), datetime.datetime(2016, 8, 28, 0, 0), datetime.datetime(2016, 8, 27, 0, 0), datetime.datetime(2016, 8, 27, 0, 0), datetime.datetime(2016, 8, 26, 0, 0), datetime.datetime(2016, 8, 26, 0, 0), datetime.datetime(2016, 8, 26, 0, 0), datetime.datetime(2016, 8, 26, 0, 0), datetime.datetime(2016, 8, 26, 0, 0), datetime.datetime(2016, 8, 26, 0, 0), datetime.datetime(2016, 8, 26, 0, 0), datetime.datetime(2016, 8, 25, 0, 0), datetime.datetime(2016, 8, 25, 0, 0), datetime.datetime(2016, 8, 25, 0, 0), datetime.datetime(2016, 8, 25, 0, 0), datetime.datetime(2016, 8, 24, 0, 0), datetime.datetime(2016, 8, 24, 0, 0), datetime.datetime(2016, 8, 23, 0, 0), datetime.datetime(2016, 8, 22, 0, 0), datetime.datetime(2016, 8, 22, 0, 0), datetime.datetime(2016, 8, 22, 0, 0), datetime.datetime(2016, 8, 22, 0, 0), datetime.datetime(2016, 8, 22, 0, 0), datetime.datetime(2016, 8, 21, 0, 0), datetime.datetime(2016, 8, 20, 0, 0), datetime.datetime(2016, 8, 20, 0, 0), datetime.datetime(2016, 8, 19, 0, 0), datetime.datetime(2016, 8, 19, 0, 0), datetime.datetime(2016, 8, 19, 0, 0), datetime.datetime(2016, 8, 18, 0, 0), datetime.datetime(2016, 8, 18, 0, 0), datetime.datetime(2016, 8, 18, 0, 0), datetime.datetime(2016, 8, 17, 0, 0), datetime.datetime(2016, 8, 17, 0, 0), datetime.datetime(2016, 8, 16, 0, 0), datetime.datetime(2016, 8, 16, 0, 0), datetime.datetime(2016, 8, 16, 0, 0), datetime.datetime(2016, 8, 16, 0, 0), datetime.datetime(2016, 8, 15, 0, 0), datetime.datetime(2016, 8, 15, 0, 0), datetime.datetime(2016, 8, 15, 0, 0), datetime.datetime(2016, 8, 15, 0, 0), datetime.datetime(2016, 8, 15, 0, 0), datetime.datetime(2016, 8, 15, 0, 0), datetime.datetime(2016, 8, 15, 0, 0), datetime.datetime(2016, 8, 15, 0, 0), datetime.datetime(2016, 8, 14, 0, 0), datetime.datetime(2016, 8, 14, 0, 0), datetime.datetime(2016, 8, 14, 0, 0), datetime.datetime(2016, 8, 12, 0, 0), datetime.datetime(2016, 8, 12, 0, 0), datetime.datetime(2016, 8, 12, 0, 0), datetime.datetime(2016, 8, 12, 0, 0), datetime.datetime(2016, 8, 11, 0, 0), datetime.datetime(2016, 8, 11, 0, 0), datetime.datetime(2016, 8, 11, 0, 0), datetime.datetime(2016, 8, 10, 0, 0), datetime.datetime(2016, 8, 10, 0, 0), datetime.datetime(2016, 8, 10, 0, 0), datetime.datetime(2016, 8, 10, 0, 0), datetime.datetime(2016, 8, 9, 0, 0), datetime.datetime(2016, 8, 9, 0, 0), datetime.datetime(2016, 8, 8, 0, 0), datetime.datetime(2016, 8, 8, 0, 0), datetime.datetime(2016, 8, 8, 0, 0), datetime.datetime(2016, 8, 8, 0, 0), datetime.datetime(2016, 8, 7, 0, 0), datetime.datetime(2016, 8, 6, 0, 0), datetime.datetime(2016, 8, 5, 0, 0), datetime.datetime(2016, 8, 5, 0, 0), datetime.datetime(2016, 8, 5, 0, 0), datetime.datetime(2016, 8, 5, 0, 0), datetime.datetime(2016, 8, 5, 0, 0), datetime.datetime(2016, 8, 5, 0, 0), datetime.datetime(2016, 8, 5, 0, 0), datetime.datetime(2016, 8, 5, 0, 0), datetime.datetime(2016, 8, 4, 0, 0), datetime.datetime(2016, 8, 4, 0, 0), datetime.datetime(2016, 8, 3, 0, 0), datetime.datetime(2016, 8, 3, 0, 0), datetime.datetime(2016, 8, 3, 0, 0), datetime.datetime(2016, 8, 2, 0, 0), datetime.datetime(2016, 8, 2, 0, 0), datetime.datetime(2016, 8, 2, 0, 0), datetime.datetime(2016, 8, 2, 0, 0), datetime.datetime(2016, 8, 2, 0, 0), datetime.datetime(2016, 8, 2, 0, 0), datetime.datetime(2016, 8, 2, 0, 0), datetime.datetime(2016, 8, 1, 0, 0), datetime.datetime(2016, 8, 1, 0, 0), datetime.datetime(2016, 8, 1, 0, 0), datetime.datetime(2016, 7, 30, 0, 0), datetime.datetime(2016, 7, 30, 0, 0), datetime.datetime(2016, 7, 29, 0, 0), datetime.datetime(2016, 7, 29, 0, 0), datetime.datetime(2016, 7, 29, 0, 0), datetime.datetime(2016, 7, 28, 0, 0), datetime.datetime(2016, 7, 28, 0, 0), datetime.datetime(2016, 7, 28, 0, 0), datetime.datetime(2016, 7, 28, 0, 0), datetime.datetime(2016, 7, 28, 0, 0), datetime.datetime(2016, 7, 28, 0, 0), datetime.datetime(2016, 7, 27, 0, 0), datetime.datetime(2016, 7, 27, 0, 0), datetime.datetime(2016, 7, 27, 0, 0), datetime.datetime(2016, 7, 27, 0, 0), datetime.datetime(2016, 7, 26, 0, 0), datetime.datetime(2016, 7, 26, 0, 0), datetime.datetime(2016, 7, 25, 0, 0), datetime.datetime(2016, 7, 25, 0, 0), datetime.datetime(2016, 7, 25, 0, 0), datetime.datetime(2016, 7, 24, 0, 0), datetime.datetime(2016, 7, 24, 0, 0), datetime.datetime(2016, 7, 24, 0, 0), datetime.datetime(2016, 7, 24, 0, 0), datetime.datetime(2016, 7, 23, 0, 0), datetime.datetime(2016, 7, 22, 0, 0), datetime.datetime(2016, 7, 22, 0, 0), datetime.datetime(2016, 7, 21, 0, 0), datetime.datetime(2016, 7, 21, 0, 0), datetime.datetime(2016, 7, 21, 0, 0), datetime.datetime(2016, 7, 20, 0, 0), datetime.datetime(2016, 7, 20, 0, 0), datetime.datetime(2016, 7, 20, 0, 0), datetime.datetime(2016, 7, 20, 0, 0), datetime.datetime(2016, 7, 20, 0, 0), datetime.datetime(2016, 7, 19, 0, 0), datetime.datetime(2016, 7, 19, 0, 0), datetime.datetime(2016, 7, 19, 0, 0), datetime.datetime(2016, 7, 19, 0, 0), datetime.datetime(2016, 7, 19, 0, 0), datetime.datetime(2016, 7, 18, 0, 0), datetime.datetime(2016, 7, 18, 0, 0), datetime.datetime(2016, 7, 18, 0, 0), datetime.datetime(2016, 7, 18, 0, 0), datetime.datetime(2016, 7, 18, 0, 0), datetime.datetime(2016, 7, 17, 0, 0), datetime.datetime(2016, 7, 16, 0, 0), datetime.datetime(2016, 7, 16, 0, 0), datetime.datetime(2016, 7, 16, 0, 0), datetime.datetime(2016, 7, 16, 0, 0), datetime.datetime(2016, 7, 15, 0, 0), datetime.datetime(2016, 7, 15, 0, 0), datetime.datetime(2016, 7, 15, 0, 0), datetime.datetime(2016, 7, 14, 0, 0), datetime.datetime(2016, 7, 14, 0, 0), datetime.datetime(2016, 7, 14, 0, 0), datetime.datetime(2016, 7, 14, 0, 0), datetime.datetime(2016, 7, 14, 0, 0), datetime.datetime(2016, 7, 14, 0, 0), datetime.datetime(2016, 7, 14, 0, 0), datetime.datetime(2016, 7, 14, 0, 0), datetime.datetime(2016, 7, 14, 0, 0), datetime.datetime(2016, 7, 13, 0, 0), datetime.datetime(2016, 7, 13, 0, 0), datetime.datetime(2016, 7, 13, 0, 0), datetime.datetime(2016, 7, 13, 0, 0), datetime.datetime(2016, 7, 13, 0, 0), datetime.datetime(2016, 7, 13, 0, 0), datetime.datetime(2016, 7, 13, 0, 0), datetime.datetime(2016, 7, 13, 0, 0), datetime.datetime(2016, 7, 13, 0, 0), datetime.datetime(2016, 7, 12, 0, 0), datetime.datetime(2016, 7, 12, 0, 0), datetime.datetime(2016, 7, 12, 0, 0), datetime.datetime(2016, 7, 11, 0, 0), datetime.datetime(2016, 7, 11, 0, 0), datetime.datetime(2016, 7, 11, 0, 0), datetime.datetime(2016, 7, 11, 0, 0), datetime.datetime(2016, 7, 11, 0, 0), datetime.datetime(2016, 7, 11, 0, 0), datetime.datetime(2016, 7, 11, 0, 0), datetime.datetime(2016, 7, 9, 0, 0), datetime.datetime(2016, 7, 9, 0, 0), datetime.datetime(2016, 7, 8, 0, 0), datetime.datetime(2016, 7, 8, 0, 0), datetime.datetime(2016, 7, 8, 0, 0), datetime.datetime(2016, 7, 8, 0, 0), datetime.datetime(2016, 7, 8, 0, 0), datetime.datetime(2016, 7, 7, 0, 0), datetime.datetime(2016, 7, 7, 0, 0), datetime.datetime(2016, 7, 7, 0, 0), datetime.datetime(2016, 7, 7, 0, 0), datetime.datetime(2016, 7, 7, 0, 0), datetime.datetime(2016, 7, 7, 0, 0), datetime.datetime(2016, 7, 7, 0, 0), datetime.datetime(2016, 7, 6, 0, 0), datetime.datetime(2016, 7, 6, 0, 0), datetime.datetime(2016, 7, 6, 0, 0), datetime.datetime(2016, 7, 6, 0, 0), datetime.datetime(2016, 7, 6, 0, 0), datetime.datetime(2016, 7, 6, 0, 0), datetime.datetime(2016, 7, 5, 0, 0), datetime.datetime(2016, 7, 5, 0, 0), datetime.datetime(2016, 7, 4, 0, 0), datetime.datetime(2016, 7, 4, 0, 0), datetime.datetime(2016, 7, 4, 0, 0), datetime.datetime(2016, 7, 4, 0, 0), datetime.datetime(2016, 7, 4, 0, 0), datetime.datetime(2016, 7, 4, 0, 0), datetime.datetime(2016, 7, 4, 0, 0), datetime.datetime(2016, 7, 3, 0, 0), datetime.datetime(2016, 7, 2, 0, 0), datetime.datetime(2016, 7, 2, 0, 0), datetime.datetime(2016, 7, 2, 0, 0), datetime.datetime(2016, 7, 2, 0, 0), datetime.datetime(2016, 7, 2, 0, 0), datetime.datetime(2016, 7, 1, 0, 0), datetime.datetime(2016, 7, 1, 0, 0), datetime.datetime(2016, 7, 1, 0, 0), datetime.datetime(2016, 7, 1, 0, 0), datetime.datetime(2016, 7, 1, 0, 0), datetime.datetime(2016, 7, 1, 0, 0), datetime.datetime(2016, 6, 30, 0, 0), datetime.datetime(2016, 6, 29, 0, 0), datetime.datetime(2016, 6, 29, 0, 0), datetime.datetime(2016, 6, 28, 0, 0), datetime.datetime(2016, 6, 28, 0, 0), datetime.datetime(2016, 6, 28, 0, 0), datetime.datetime(2016, 6, 28, 0, 0), datetime.datetime(2016, 6, 27, 0, 0), datetime.datetime(2016, 6, 27, 0, 0), datetime.datetime(2016, 6, 27, 0, 0), datetime.datetime(2016, 6, 27, 0, 0), datetime.datetime(2016, 6, 26, 0, 0), datetime.datetime(2016, 6, 26, 0, 0), datetime.datetime(2016, 6, 26, 0, 0), datetime.datetime(2016, 6, 25, 0, 0), datetime.datetime(2016, 6, 24, 0, 0), datetime.datetime(2016, 6, 24, 0, 0), datetime.datetime(2016, 6, 24, 0, 0), datetime.datetime(2016, 6, 24, 0, 0), datetime.datetime(2016, 6, 24, 0, 0), datetime.datetime(2016, 6, 24, 0, 0), datetime.datetime(2016, 6, 22, 0, 0), datetime.datetime(2016, 6, 22, 0, 0), datetime.datetime(2016, 6, 22, 0, 0), datetime.datetime(2016, 6, 22, 0, 0), datetime.datetime(2016, 6, 21, 0, 0), datetime.datetime(2016, 6, 21, 0, 0), datetime.datetime(2016, 6, 21, 0, 0), datetime.datetime(2016, 6, 21, 0, 0), datetime.datetime(2016, 6, 21, 0, 0), datetime.datetime(2016, 6, 21, 0, 0), datetime.datetime(2016, 6, 21, 0, 0), datetime.datetime(2016, 6, 20, 0, 0), datetime.datetime(2016, 6, 20, 0, 0), datetime.datetime(2016, 6, 20, 0, 0), datetime.datetime(2016, 6, 20, 0, 0), datetime.datetime(2016, 6, 20, 0, 0), datetime.datetime(2016, 6, 19, 0, 0), datetime.datetime(2016, 6, 19, 0, 0), datetime.datetime(2016, 6, 19, 0, 0), datetime.datetime(2016, 6, 19, 0, 0), datetime.datetime(2016, 6, 18, 0, 0), datetime.datetime(2016, 6, 17, 0, 0), datetime.datetime(2016, 6, 17, 0, 0), datetime.datetime(2016, 6, 16, 0, 0), datetime.datetime(2016, 6, 16, 0, 0), datetime.datetime(2016, 6, 16, 0, 0), datetime.datetime(2016, 6, 16, 0, 0), datetime.datetime(2016, 6, 16, 0, 0), datetime.datetime(2016, 6, 16, 0, 0), datetime.datetime(2016, 6, 16, 0, 0), datetime.datetime(2016, 6, 15, 0, 0), datetime.datetime(2016, 6, 15, 0, 0), datetime.datetime(2016, 6, 15, 0, 0), datetime.datetime(2016, 6, 15, 0, 0), datetime.datetime(2016, 6, 15, 0, 0), datetime.datetime(2016, 6, 15, 0, 0), datetime.datetime(2016, 6, 14, 0, 0), datetime.datetime(2016, 6, 13, 0, 0), datetime.datetime(2016, 6, 12, 0, 0), datetime.datetime(2016, 6, 12, 0, 0), datetime.datetime(2016, 6, 12, 0, 0), datetime.datetime(2016, 6, 12, 0, 0), datetime.datetime(2016, 6, 11, 0, 0), datetime.datetime(2016, 6, 11, 0, 0), datetime.datetime(2016, 6, 10, 0, 0), datetime.datetime(2016, 6, 10, 0, 0), datetime.datetime(2016, 6, 10, 0, 0), datetime.datetime(2016, 6, 10, 0, 0), datetime.datetime(2016, 6, 10, 0, 0), datetime.datetime(2016, 6, 10, 0, 0), datetime.datetime(2016, 6, 10, 0, 0), datetime.datetime(2016, 6, 10, 0, 0), datetime.datetime(2016, 6, 10, 0, 0), datetime.datetime(2016, 6, 9, 0, 0), datetime.datetime(2016, 6, 9, 0, 0), datetime.datetime(2016, 6, 8, 0, 0), datetime.datetime(2016, 6, 8, 0, 0), datetime.datetime(2016, 6, 8, 0, 0), datetime.datetime(2016, 6, 8, 0, 0), datetime.datetime(2016, 6, 8, 0, 0), datetime.datetime(2016, 6, 8, 0, 0), datetime.datetime(2016, 6, 8, 0, 0), datetime.datetime(2016, 6, 7, 0, 0), datetime.datetime(2016, 6, 7, 0, 0), datetime.datetime(2016, 6, 7, 0, 0), datetime.datetime(2016, 6, 7, 0, 0), datetime.datetime(2016, 6, 7, 0, 0), datetime.datetime(2016, 6, 7, 0, 0), datetime.datetime(2016, 6, 7, 0, 0), datetime.datetime(2016, 6, 6, 0, 0), datetime.datetime(2016, 6, 6, 0, 0), datetime.datetime(2016, 6, 6, 0, 0), datetime.datetime(2016, 6, 6, 0, 0), datetime.datetime(2016, 6, 6, 0, 0), datetime.datetime(2016, 6, 6, 0, 0), datetime.datetime(2016, 6, 5, 0, 0), datetime.datetime(2016, 6, 5, 0, 0), datetime.datetime(2016, 6, 5, 0, 0), datetime.datetime(2016, 6, 5, 0, 0), datetime.datetime(2016, 6, 5, 0, 0), datetime.datetime(2016, 6, 5, 0, 0), datetime.datetime(2016, 6, 5, 0, 0), datetime.datetime(2016, 6, 4, 0, 0), datetime.datetime(2016, 6, 4, 0, 0), datetime.datetime(2016, 6, 4, 0, 0), datetime.datetime(2016, 6, 4, 0, 0), datetime.datetime(2016, 6, 3, 0, 0), datetime.datetime(2016, 6, 3, 0, 0), datetime.datetime(2016, 6, 3, 0, 0), datetime.datetime(2016, 6, 3, 0, 0), datetime.datetime(2016, 6, 2, 0, 0), datetime.datetime(2016, 6, 2, 0, 0), datetime.datetime(2016, 6, 2, 0, 0), datetime.datetime(2016, 6, 2, 0, 0), datetime.datetime(2016, 6, 2, 0, 0), datetime.datetime(2016, 6, 2, 0, 0), datetime.datetime(2016, 6, 2, 0, 0), datetime.datetime(2016, 6, 2, 0, 0), datetime.datetime(2016, 6, 2, 0, 0), datetime.datetime(2016, 6, 2, 0, 0), datetime.datetime(2016, 6, 2, 0, 0), datetime.datetime(2016, 6, 1, 0, 0), datetime.datetime(2016, 6, 1, 0, 0), datetime.datetime(2016, 6, 1, 0, 0), datetime.datetime(2016, 6, 1, 0, 0), datetime.datetime(2016, 6, 1, 0, 0), datetime.datetime(2016, 5, 31, 0, 0), datetime.datetime(2016, 5, 31, 0, 0), datetime.datetime(2016, 5, 31, 0, 0), datetime.datetime(2016, 5, 31, 0, 0), datetime.datetime(2016, 5, 31, 0, 0), datetime.datetime(2016, 5, 30, 0, 0), datetime.datetime(2016, 5, 30, 0, 0), datetime.datetime(2016, 5, 29, 0, 0), datetime.datetime(2016, 5, 27, 0, 0), datetime.datetime(2016, 5, 26, 0, 0), datetime.datetime(2016, 5, 26, 0, 0), datetime.datetime(2016, 5, 26, 0, 0), datetime.datetime(2016, 5, 26, 0, 0), datetime.datetime(2016, 5, 26, 0, 0), datetime.datetime(2016, 5, 26, 0, 0), datetime.datetime(2016, 5, 26, 0, 0), datetime.datetime(2016, 5, 26, 0, 0), datetime.datetime(2016, 5, 25, 0, 0), datetime.datetime(2016, 5, 25, 0, 0), datetime.datetime(2016, 5, 25, 0, 0), datetime.datetime(2016, 5, 25, 0, 0), datetime.datetime(2016, 5, 25, 0, 0), datetime.datetime(2016, 5, 25, 0, 0), datetime.datetime(2016, 5, 24, 0, 0), datetime.datetime(2016, 5, 24, 0, 0), datetime.datetime(2016, 5, 24, 0, 0), datetime.datetime(2016, 5, 23, 0, 0), datetime.datetime(2016, 5, 23, 0, 0), datetime.datetime(2016, 5, 23, 0, 0), datetime.datetime(2016, 5, 21, 0, 0), datetime.datetime(2016, 5, 21, 0, 0), datetime.datetime(2016, 5, 20, 0, 0), datetime.datetime(2016, 5, 20, 0, 0), datetime.datetime(2016, 5, 19, 0, 0), datetime.datetime(2016, 5, 19, 0, 0), datetime.datetime(2016, 5, 19, 0, 0), datetime.datetime(2016, 5, 19, 0, 0), datetime.datetime(2016, 5, 19, 0, 0), datetime.datetime(2016, 5, 18, 0, 0), datetime.datetime(2016, 5, 18, 0, 0), datetime.datetime(2016, 5, 18, 0, 0), datetime.datetime(2016, 5, 18, 0, 0), datetime.datetime(2016, 5, 18, 0, 0), datetime.datetime(2016, 5, 17, 0, 0), datetime.datetime(2016, 5, 17, 0, 0), datetime.datetime(2016, 5, 17, 0, 0), datetime.datetime(2016, 5, 17, 0, 0), datetime.datetime(2016, 5, 17, 0, 0), datetime.datetime(2016, 5, 16, 0, 0), datetime.datetime(2016, 5, 16, 0, 0), datetime.datetime(2016, 5, 16, 0, 0), datetime.datetime(2016, 5, 16, 0, 0), datetime.datetime(2016, 5, 16, 0, 0), datetime.datetime(2016, 5, 15, 0, 0), datetime.datetime(2016, 5, 15, 0, 0), datetime.datetime(2016, 5, 15, 0, 0), datetime.datetime(2016, 5, 15, 0, 0), datetime.datetime(2016, 5, 14, 0, 0), datetime.datetime(2016, 5, 14, 0, 0), datetime.datetime(2016, 5, 13, 0, 0), datetime.datetime(2016, 5, 13, 0, 0), datetime.datetime(2016, 5, 13, 0, 0), datetime.datetime(2016, 5, 11, 0, 0), datetime.datetime(2016, 5, 11, 0, 0), datetime.datetime(2016, 5, 11, 0, 0), datetime.datetime(2016, 5, 11, 0, 0), datetime.datetime(2016, 5, 11, 0, 0), datetime.datetime(2016, 5, 11, 0, 0), datetime.datetime(2016, 5, 11, 0, 0), datetime.datetime(2016, 5, 10, 0, 0), datetime.datetime(2016, 5, 10, 0, 0), datetime.datetime(2016, 5, 10, 0, 0), datetime.datetime(2016, 5, 9, 0, 0), datetime.datetime(2016, 5, 8, 0, 0), datetime.datetime(2016, 5, 7, 0, 0), datetime.datetime(2016, 5, 6, 0, 0), datetime.datetime(2016, 5, 6, 0, 0), datetime.datetime(2016, 5, 5, 0, 0), datetime.datetime(2016, 5, 5, 0, 0), datetime.datetime(2016, 5, 5, 0, 0), datetime.datetime(2016, 5, 4, 0, 0), datetime.datetime(2016, 5, 4, 0, 0), datetime.datetime(2016, 5, 3, 0, 0), datetime.datetime(2016, 5, 2, 0, 0), datetime.datetime(2016, 5, 2, 0, 0), datetime.datetime(2016, 5, 2, 0, 0), datetime.datetime(2016, 4, 30, 0, 0), datetime.datetime(2016, 4, 29, 0, 0), datetime.datetime(2016, 4, 29, 0, 0), datetime.datetime(2016, 4, 28, 0, 0), datetime.datetime(2016, 4, 28, 0, 0), datetime.datetime(2016, 4, 26, 0, 0), datetime.datetime(2016, 4, 26, 0, 0), datetime.datetime(2016, 4, 25, 0, 0), datetime.datetime(2016, 4, 25, 0, 0), datetime.datetime(2016, 4, 25, 0, 0), datetime.datetime(2016, 4, 24, 0, 0), datetime.datetime(2016, 4, 24, 0, 0), datetime.datetime(2016, 4, 23, 0, 0), datetime.datetime(2016, 4, 23, 0, 0), datetime.datetime(2016, 4, 23, 0, 0), datetime.datetime(2016, 4, 23, 0, 0), datetime.datetime(2016, 4, 22, 0, 0), datetime.datetime(2016, 4, 22, 0, 0), datetime.datetime(2016, 4, 22, 0, 0), datetime.datetime(2016, 4, 22, 0, 0), datetime.datetime(2016, 4, 22, 0, 0), datetime.datetime(2016, 4, 21, 0, 0), datetime.datetime(2016, 4, 21, 0, 0), datetime.datetime(2016, 4, 21, 0, 0), datetime.datetime(2016, 4, 21, 0, 0), datetime.datetime(2016, 4, 20, 0, 0), datetime.datetime(2016, 4, 20, 0, 0), datetime.datetime(2016, 4, 20, 0, 0), datetime.datetime(2016, 4, 20, 0, 0), datetime.datetime(2016, 4, 19, 0, 0), datetime.datetime(2016, 4, 19, 0, 0), datetime.datetime(2016, 4, 19, 0, 0), datetime.datetime(2016, 4, 18, 0, 0), datetime.datetime(2016, 4, 17, 0, 0), datetime.datetime(2016, 4, 17, 0, 0), datetime.datetime(2016, 4, 17, 0, 0), datetime.datetime(2016, 4, 16, 0, 0), datetime.datetime(2016, 4, 16, 0, 0), datetime.datetime(2016, 4, 16, 0, 0), datetime.datetime(2016, 4, 15, 0, 0), datetime.datetime(2016, 4, 15, 0, 0), datetime.datetime(2016, 4, 14, 0, 0), datetime.datetime(2016, 4, 14, 0, 0), datetime.datetime(2016, 4, 13, 0, 0), datetime.datetime(2016, 4, 13, 0, 0), datetime.datetime(2016, 4, 11, 0, 0), datetime.datetime(2016, 4, 10, 0, 0), datetime.datetime(2016, 4, 10, 0, 0), datetime.datetime(2016, 4, 10, 0, 0), datetime.datetime(2016, 4, 8, 0, 0), datetime.datetime(2016, 4, 8, 0, 0), datetime.datetime(2016, 4, 8, 0, 0), datetime.datetime(2016, 4, 8, 0, 0), datetime.datetime(2016, 4, 7, 0, 0), datetime.datetime(2016, 4, 7, 0, 0), datetime.datetime(2016, 4, 7, 0, 0), datetime.datetime(2016, 4, 6, 0, 0), datetime.datetime(2016, 4, 6, 0, 0), datetime.datetime(2016, 4, 5, 0, 0), datetime.datetime(2016, 4, 4, 0, 0), datetime.datetime(2016, 4, 4, 0, 0), datetime.datetime(2016, 4, 4, 0, 0), datetime.datetime(2016, 4, 4, 0, 0), datetime.datetime(2016, 4, 4, 0, 0), datetime.datetime(2016, 4, 4, 0, 0), datetime.datetime(2016, 4, 3, 0, 0), datetime.datetime(2016, 4, 3, 0, 0), datetime.datetime(2016, 4, 2, 0, 0), datetime.datetime(2016, 4, 2, 0, 0), datetime.datetime(2016, 4, 2, 0, 0), datetime.datetime(2016, 3, 31, 0, 0), datetime.datetime(2016, 3, 31, 0, 0), datetime.datetime(2016, 3, 31, 0, 0), datetime.datetime(2016, 3, 30, 0, 0), datetime.datetime(2016, 3, 30, 0, 0), datetime.datetime(2016, 3, 30, 0, 0), datetime.datetime(2016, 3, 29, 0, 0), datetime.datetime(2016, 3, 29, 0, 0), datetime.datetime(2016, 3, 29, 0, 0), datetime.datetime(2016, 3, 29, 0, 0), datetime.datetime(2016, 3, 29, 0, 0), datetime.datetime(2016, 3, 29, 0, 0), datetime.datetime(2016, 3, 28, 0, 0), datetime.datetime(2016, 3, 28, 0, 0), datetime.datetime(2016, 3, 28, 0, 0), datetime.datetime(2016, 3, 27, 0, 0), datetime.datetime(2016, 3, 27, 0, 0), datetime.datetime(2016, 3, 27, 0, 0), datetime.datetime(2016, 3, 26, 0, 0), datetime.datetime(2016, 3, 25, 0, 0), datetime.datetime(2016, 3, 24, 0, 0), datetime.datetime(2016, 3, 24, 0, 0), datetime.datetime(2016, 3, 24, 0, 0), datetime.datetime(2016, 3, 24, 0, 0), datetime.datetime(2016, 3, 24, 0, 0), datetime.datetime(2016, 3, 23, 0, 0), datetime.datetime(2016, 3, 23, 0, 0), datetime.datetime(2016, 3, 22, 0, 0), datetime.datetime(2016, 3, 22, 0, 0), datetime.datetime(2016, 3, 21, 0, 0), datetime.datetime(2016, 3, 21, 0, 0), datetime.datetime(2016, 3, 21, 0, 0), datetime.datetime(2016, 3, 21, 0, 0), datetime.datetime(2016, 3, 21, 0, 0), datetime.datetime(2016, 3, 21, 0, 0), datetime.datetime(2016, 3, 20, 0, 0), datetime.datetime(2016, 3, 20, 0, 0), datetime.datetime(2016, 3, 19, 0, 0), datetime.datetime(2016, 3, 19, 0, 0), datetime.datetime(2016, 3, 19, 0, 0), datetime.datetime(2016, 3, 19, 0, 0), datetime.datetime(2016, 3, 18, 0, 0), datetime.datetime(2016, 3, 18, 0, 0), datetime.datetime(2016, 3, 18, 0, 0), datetime.datetime(2016, 3, 18, 0, 0), datetime.datetime(2016, 3, 18, 0, 0), datetime.datetime(2016, 3, 18, 0, 0), datetime.datetime(2016, 3, 18, 0, 0), datetime.datetime(2016, 3, 18, 0, 0), datetime.datetime(2016, 3, 18, 0, 0), datetime.datetime(2016, 3, 17, 0, 0), datetime.datetime(2016, 3, 17, 0, 0), datetime.datetime(2016, 3, 17, 0, 0), datetime.datetime(2016, 3, 17, 0, 0), datetime.datetime(2016, 3, 17, 0, 0), datetime.datetime(2016, 3, 17, 0, 0), datetime.datetime(2016, 3, 16, 0, 0), datetime.datetime(2016, 3, 16, 0, 0), datetime.datetime(2016, 3, 16, 0, 0), datetime.datetime(2016, 3, 16, 0, 0), datetime.datetime(2016, 3, 16, 0, 0), datetime.datetime(2016, 3, 15, 0, 0), datetime.datetime(2016, 3, 15, 0, 0), datetime.datetime(2016, 3, 14, 0, 0), datetime.datetime(2016, 3, 14, 0, 0), datetime.datetime(2016, 3, 14, 0, 0), datetime.datetime(2016, 3, 13, 0, 0), datetime.datetime(2016, 3, 12, 0, 0), datetime.datetime(2016, 3, 11, 0, 0), datetime.datetime(2016, 3, 11, 0, 0), datetime.datetime(2016, 3, 11, 0, 0), datetime.datetime(2016, 3, 11, 0, 0), datetime.datetime(2016, 3, 11, 0, 0), datetime.datetime(2016, 3, 11, 0, 0), datetime.datetime(2016, 3, 11, 0, 0), datetime.datetime(2016, 3, 11, 0, 0), datetime.datetime(2016, 3, 11, 0, 0), datetime.datetime(2016, 3, 10, 0, 0), datetime.datetime(2016, 3, 10, 0, 0), datetime.datetime(2016, 3, 9, 0, 0), datetime.datetime(2016, 3, 9, 0, 0), datetime.datetime(2016, 3, 9, 0, 0), datetime.datetime(2016, 3, 8, 0, 0), datetime.datetime(2016, 3, 7, 0, 0), datetime.datetime(2016, 3, 6, 0, 0), datetime.datetime(2016, 3, 4, 0, 0), datetime.datetime(2016, 3, 4, 0, 0), datetime.datetime(2016, 3, 4, 0, 0), datetime.datetime(2016, 3, 3, 0, 0), datetime.datetime(2016, 3, 3, 0, 0), datetime.datetime(2016, 3, 3, 0, 0), datetime.datetime(2016, 3, 3, 0, 0), datetime.datetime(2016, 3, 2, 0, 0), datetime.datetime(2016, 3, 1, 0, 0), datetime.datetime(2016, 2, 29, 0, 0), datetime.datetime(2016, 2, 27, 0, 0), datetime.datetime(2016, 2, 26, 0, 0), datetime.datetime(2016, 2, 26, 0, 0), datetime.datetime(2016, 2, 25, 0, 0), datetime.datetime(2016, 2, 24, 0, 0), datetime.datetime(2016, 2, 24, 0, 0), datetime.datetime(2016, 2, 19, 0, 0), datetime.datetime(2016, 2, 17, 0, 0), datetime.datetime(2016, 2, 17, 0, 0), datetime.datetime(2016, 2, 17, 0, 0), datetime.datetime(2016, 2, 17, 0, 0), datetime.datetime(2016, 2, 17, 0, 0), datetime.datetime(2016, 2, 17, 0, 0)]\n"
     ]
    }
   ],
   "source": [
    "publishdateformatted = [datetime.strptime(re.sub(' Опубликовано:  ', '', a), \"%d.%m.%Y\") for a in publishdateflat]\n",
    "print(publishdateformatted)"
   ]
  },
  {
   "cell_type": "code",
   "execution_count": 97,
   "metadata": {},
   "outputs": [],
   "source": [
    "#Making a Data Frame and Saving as CSV File\n",
    "cdata = {'links':links_second_flat,\"author\":authorflat,\"publishdate\":publishdateflat, 'publishdateformatted': publishdateformatted, \"region\":regionflat, 'category': categoryflat}\n",
    "df = pd.DataFrame(data = cdata)\n",
    "df.to_csv(\"zpp301019.csv\", header=True, index=False, encoding='utf-8')"
   ]
  },
  {
   "cell_type": "code",
   "execution_count": 8,
   "metadata": {},
   "outputs": [
    {
     "name": "stdout",
     "output_type": "stream",
     "text": [
      "100\n",
      "200\n",
      "300\n",
      "400\n",
      "500\n",
      "600\n",
      "700\n",
      "800\n"
     ]
    },
    {
     "ename": "URLError",
     "evalue": "<urlopen error [WinError 10060] Попытка установить соединение была безуспешной, т.к. от другого компьютера за требуемое время не получен нужный отклик, или было разорвано уже установленное соединение из-за неверного отклика уже подключенного компьютера>",
     "output_type": "error",
     "traceback": [
      "\u001b[1;31m---------------------------------------------------------------------------\u001b[0m",
      "\u001b[1;31mTimeoutError\u001b[0m                              Traceback (most recent call last)",
      "\u001b[1;32m~\\Anaconda3\\lib\\urllib\\request.py\u001b[0m in \u001b[0;36mdo_open\u001b[1;34m(self, http_class, req, **http_conn_args)\u001b[0m\n\u001b[0;32m   1316\u001b[0m                 h.request(req.get_method(), req.selector, req.data, headers,\n\u001b[1;32m-> 1317\u001b[1;33m                           encode_chunked=req.has_header('Transfer-encoding'))\n\u001b[0m\u001b[0;32m   1318\u001b[0m             \u001b[1;32mexcept\u001b[0m \u001b[0mOSError\u001b[0m \u001b[1;32mas\u001b[0m \u001b[0merr\u001b[0m\u001b[1;33m:\u001b[0m \u001b[1;31m# timeout error\u001b[0m\u001b[1;33m\u001b[0m\u001b[1;33m\u001b[0m\u001b[0m\n",
      "\u001b[1;32m~\\Anaconda3\\lib\\http\\client.py\u001b[0m in \u001b[0;36mrequest\u001b[1;34m(self, method, url, body, headers, encode_chunked)\u001b[0m\n\u001b[0;32m   1228\u001b[0m         \u001b[1;34m\"\"\"Send a complete request to the server.\"\"\"\u001b[0m\u001b[1;33m\u001b[0m\u001b[1;33m\u001b[0m\u001b[0m\n\u001b[1;32m-> 1229\u001b[1;33m         \u001b[0mself\u001b[0m\u001b[1;33m.\u001b[0m\u001b[0m_send_request\u001b[0m\u001b[1;33m(\u001b[0m\u001b[0mmethod\u001b[0m\u001b[1;33m,\u001b[0m \u001b[0murl\u001b[0m\u001b[1;33m,\u001b[0m \u001b[0mbody\u001b[0m\u001b[1;33m,\u001b[0m \u001b[0mheaders\u001b[0m\u001b[1;33m,\u001b[0m \u001b[0mencode_chunked\u001b[0m\u001b[1;33m)\u001b[0m\u001b[1;33m\u001b[0m\u001b[1;33m\u001b[0m\u001b[0m\n\u001b[0m\u001b[0;32m   1230\u001b[0m \u001b[1;33m\u001b[0m\u001b[0m\n",
      "\u001b[1;32m~\\Anaconda3\\lib\\http\\client.py\u001b[0m in \u001b[0;36m_send_request\u001b[1;34m(self, method, url, body, headers, encode_chunked)\u001b[0m\n\u001b[0;32m   1274\u001b[0m             \u001b[0mbody\u001b[0m \u001b[1;33m=\u001b[0m \u001b[0m_encode\u001b[0m\u001b[1;33m(\u001b[0m\u001b[0mbody\u001b[0m\u001b[1;33m,\u001b[0m \u001b[1;34m'body'\u001b[0m\u001b[1;33m)\u001b[0m\u001b[1;33m\u001b[0m\u001b[1;33m\u001b[0m\u001b[0m\n\u001b[1;32m-> 1275\u001b[1;33m         \u001b[0mself\u001b[0m\u001b[1;33m.\u001b[0m\u001b[0mendheaders\u001b[0m\u001b[1;33m(\u001b[0m\u001b[0mbody\u001b[0m\u001b[1;33m,\u001b[0m \u001b[0mencode_chunked\u001b[0m\u001b[1;33m=\u001b[0m\u001b[0mencode_chunked\u001b[0m\u001b[1;33m)\u001b[0m\u001b[1;33m\u001b[0m\u001b[1;33m\u001b[0m\u001b[0m\n\u001b[0m\u001b[0;32m   1276\u001b[0m \u001b[1;33m\u001b[0m\u001b[0m\n",
      "\u001b[1;32m~\\Anaconda3\\lib\\http\\client.py\u001b[0m in \u001b[0;36mendheaders\u001b[1;34m(self, message_body, encode_chunked)\u001b[0m\n\u001b[0;32m   1223\u001b[0m             \u001b[1;32mraise\u001b[0m \u001b[0mCannotSendHeader\u001b[0m\u001b[1;33m(\u001b[0m\u001b[1;33m)\u001b[0m\u001b[1;33m\u001b[0m\u001b[1;33m\u001b[0m\u001b[0m\n\u001b[1;32m-> 1224\u001b[1;33m         \u001b[0mself\u001b[0m\u001b[1;33m.\u001b[0m\u001b[0m_send_output\u001b[0m\u001b[1;33m(\u001b[0m\u001b[0mmessage_body\u001b[0m\u001b[1;33m,\u001b[0m \u001b[0mencode_chunked\u001b[0m\u001b[1;33m=\u001b[0m\u001b[0mencode_chunked\u001b[0m\u001b[1;33m)\u001b[0m\u001b[1;33m\u001b[0m\u001b[1;33m\u001b[0m\u001b[0m\n\u001b[0m\u001b[0;32m   1225\u001b[0m \u001b[1;33m\u001b[0m\u001b[0m\n",
      "\u001b[1;32m~\\Anaconda3\\lib\\http\\client.py\u001b[0m in \u001b[0;36m_send_output\u001b[1;34m(self, message_body, encode_chunked)\u001b[0m\n\u001b[0;32m   1015\u001b[0m         \u001b[1;32mdel\u001b[0m \u001b[0mself\u001b[0m\u001b[1;33m.\u001b[0m\u001b[0m_buffer\u001b[0m\u001b[1;33m[\u001b[0m\u001b[1;33m:\u001b[0m\u001b[1;33m]\u001b[0m\u001b[1;33m\u001b[0m\u001b[1;33m\u001b[0m\u001b[0m\n\u001b[1;32m-> 1016\u001b[1;33m         \u001b[0mself\u001b[0m\u001b[1;33m.\u001b[0m\u001b[0msend\u001b[0m\u001b[1;33m(\u001b[0m\u001b[0mmsg\u001b[0m\u001b[1;33m)\u001b[0m\u001b[1;33m\u001b[0m\u001b[1;33m\u001b[0m\u001b[0m\n\u001b[0m\u001b[0;32m   1017\u001b[0m \u001b[1;33m\u001b[0m\u001b[0m\n",
      "\u001b[1;32m~\\Anaconda3\\lib\\http\\client.py\u001b[0m in \u001b[0;36msend\u001b[1;34m(self, data)\u001b[0m\n\u001b[0;32m    955\u001b[0m             \u001b[1;32mif\u001b[0m \u001b[0mself\u001b[0m\u001b[1;33m.\u001b[0m\u001b[0mauto_open\u001b[0m\u001b[1;33m:\u001b[0m\u001b[1;33m\u001b[0m\u001b[1;33m\u001b[0m\u001b[0m\n\u001b[1;32m--> 956\u001b[1;33m                 \u001b[0mself\u001b[0m\u001b[1;33m.\u001b[0m\u001b[0mconnect\u001b[0m\u001b[1;33m(\u001b[0m\u001b[1;33m)\u001b[0m\u001b[1;33m\u001b[0m\u001b[1;33m\u001b[0m\u001b[0m\n\u001b[0m\u001b[0;32m    957\u001b[0m             \u001b[1;32melse\u001b[0m\u001b[1;33m:\u001b[0m\u001b[1;33m\u001b[0m\u001b[1;33m\u001b[0m\u001b[0m\n",
      "\u001b[1;32m~\\Anaconda3\\lib\\http\\client.py\u001b[0m in \u001b[0;36mconnect\u001b[1;34m(self)\u001b[0m\n\u001b[0;32m    927\u001b[0m         self.sock = self._create_connection(\n\u001b[1;32m--> 928\u001b[1;33m             (self.host,self.port), self.timeout, self.source_address)\n\u001b[0m\u001b[0;32m    929\u001b[0m         \u001b[0mself\u001b[0m\u001b[1;33m.\u001b[0m\u001b[0msock\u001b[0m\u001b[1;33m.\u001b[0m\u001b[0msetsockopt\u001b[0m\u001b[1;33m(\u001b[0m\u001b[0msocket\u001b[0m\u001b[1;33m.\u001b[0m\u001b[0mIPPROTO_TCP\u001b[0m\u001b[1;33m,\u001b[0m \u001b[0msocket\u001b[0m\u001b[1;33m.\u001b[0m\u001b[0mTCP_NODELAY\u001b[0m\u001b[1;33m,\u001b[0m \u001b[1;36m1\u001b[0m\u001b[1;33m)\u001b[0m\u001b[1;33m\u001b[0m\u001b[1;33m\u001b[0m\u001b[0m\n",
      "\u001b[1;32m~\\Anaconda3\\lib\\socket.py\u001b[0m in \u001b[0;36mcreate_connection\u001b[1;34m(address, timeout, source_address)\u001b[0m\n\u001b[0;32m    726\u001b[0m     \u001b[1;32mif\u001b[0m \u001b[0merr\u001b[0m \u001b[1;32mis\u001b[0m \u001b[1;32mnot\u001b[0m \u001b[1;32mNone\u001b[0m\u001b[1;33m:\u001b[0m\u001b[1;33m\u001b[0m\u001b[1;33m\u001b[0m\u001b[0m\n\u001b[1;32m--> 727\u001b[1;33m         \u001b[1;32mraise\u001b[0m \u001b[0merr\u001b[0m\u001b[1;33m\u001b[0m\u001b[1;33m\u001b[0m\u001b[0m\n\u001b[0m\u001b[0;32m    728\u001b[0m     \u001b[1;32melse\u001b[0m\u001b[1;33m:\u001b[0m\u001b[1;33m\u001b[0m\u001b[1;33m\u001b[0m\u001b[0m\n",
      "\u001b[1;32m~\\Anaconda3\\lib\\socket.py\u001b[0m in \u001b[0;36mcreate_connection\u001b[1;34m(address, timeout, source_address)\u001b[0m\n\u001b[0;32m    715\u001b[0m                 \u001b[0msock\u001b[0m\u001b[1;33m.\u001b[0m\u001b[0mbind\u001b[0m\u001b[1;33m(\u001b[0m\u001b[0msource_address\u001b[0m\u001b[1;33m)\u001b[0m\u001b[1;33m\u001b[0m\u001b[1;33m\u001b[0m\u001b[0m\n\u001b[1;32m--> 716\u001b[1;33m             \u001b[0msock\u001b[0m\u001b[1;33m.\u001b[0m\u001b[0mconnect\u001b[0m\u001b[1;33m(\u001b[0m\u001b[0msa\u001b[0m\u001b[1;33m)\u001b[0m\u001b[1;33m\u001b[0m\u001b[1;33m\u001b[0m\u001b[0m\n\u001b[0m\u001b[0;32m    717\u001b[0m             \u001b[1;31m# Break explicitly a reference cycle\u001b[0m\u001b[1;33m\u001b[0m\u001b[1;33m\u001b[0m\u001b[1;33m\u001b[0m\u001b[0m\n",
      "\u001b[1;31mTimeoutError\u001b[0m: [WinError 10060] Попытка установить соединение была безуспешной, т.к. от другого компьютера за требуемое время не получен нужный отклик, или было разорвано уже установленное соединение из-за неверного отклика уже подключенного компьютера",
      "\nDuring handling of the above exception, another exception occurred:\n",
      "\u001b[1;31mURLError\u001b[0m                                  Traceback (most recent call last)",
      "\u001b[1;32m<ipython-input-8-bb3eca515cef>\u001b[0m in \u001b[0;36m<module>\u001b[1;34m\u001b[0m\n\u001b[0;32m      1\u001b[0m \u001b[1;32mfor\u001b[0m \u001b[0mcp\u001b[0m \u001b[1;32min\u001b[0m \u001b[0mnp\u001b[0m\u001b[1;33m.\u001b[0m\u001b[0marange\u001b[0m\u001b[1;33m(\u001b[0m\u001b[1;36m1\u001b[0m\u001b[1;33m,\u001b[0m\u001b[0mint\u001b[0m\u001b[1;33m(\u001b[0m\u001b[0mlastpage3\u001b[0m\u001b[1;33m)\u001b[0m\u001b[1;33m+\u001b[0m\u001b[1;36m1\u001b[0m\u001b[1;33m)\u001b[0m\u001b[1;33m:\u001b[0m\u001b[1;33m\u001b[0m\u001b[1;33m\u001b[0m\u001b[0m\n\u001b[0;32m      2\u001b[0m     \u001b[0murl\u001b[0m \u001b[1;33m=\u001b[0m \u001b[1;34m\"http://zpp.rospotrebnadzor.ru/Forum/Appeals/AjaxindexList?page=\"\u001b[0m \u001b[1;33m+\u001b[0m \u001b[0mstr\u001b[0m\u001b[1;33m(\u001b[0m\u001b[0mcp\u001b[0m\u001b[1;33m)\u001b[0m \u001b[1;33m+\u001b[0m \u001b[1;34m\"&searchtext=&categories=%5B%5D\"\u001b[0m\u001b[1;33m\u001b[0m\u001b[1;33m\u001b[0m\u001b[0m\n\u001b[1;32m----> 3\u001b[1;33m     \u001b[0mhtml\u001b[0m \u001b[1;33m=\u001b[0m \u001b[0murlopen\u001b[0m\u001b[1;33m(\u001b[0m\u001b[0murl\u001b[0m\u001b[1;33m)\u001b[0m\u001b[1;33m\u001b[0m\u001b[1;33m\u001b[0m\u001b[0m\n\u001b[0m\u001b[0;32m      4\u001b[0m     \u001b[0msoup\u001b[0m \u001b[1;33m=\u001b[0m \u001b[0mBeautifulSoup\u001b[0m\u001b[1;33m(\u001b[0m\u001b[0mhtml\u001b[0m\u001b[1;33m,\u001b[0m \u001b[1;34m'html'\u001b[0m\u001b[1;33m)\u001b[0m\u001b[1;33m\u001b[0m\u001b[1;33m\u001b[0m\u001b[0m\n\u001b[0;32m      5\u001b[0m     \u001b[0mlinks\u001b[0m\u001b[1;33m.\u001b[0m\u001b[0mappend\u001b[0m\u001b[1;33m(\u001b[0m\u001b[1;33m[\u001b[0m\u001b[0mi\u001b[0m\u001b[1;33m.\u001b[0m\u001b[0mget\u001b[0m\u001b[1;33m(\u001b[0m\u001b[1;34m'href'\u001b[0m\u001b[1;33m)\u001b[0m \u001b[1;32mfor\u001b[0m \u001b[0mi\u001b[0m \u001b[1;32min\u001b[0m \u001b[0msoup\u001b[0m\u001b[1;33m.\u001b[0m\u001b[0mfind_all\u001b[0m\u001b[1;33m(\u001b[0m\u001b[0mclass_\u001b[0m\u001b[1;33m=\u001b[0m\u001b[1;34m'appeal-title-link'\u001b[0m\u001b[1;33m)\u001b[0m\u001b[1;33m]\u001b[0m\u001b[1;33m)\u001b[0m\u001b[1;33m\u001b[0m\u001b[1;33m\u001b[0m\u001b[0m\n",
      "\u001b[1;32m~\\Anaconda3\\lib\\urllib\\request.py\u001b[0m in \u001b[0;36murlopen\u001b[1;34m(url, data, timeout, cafile, capath, cadefault, context)\u001b[0m\n\u001b[0;32m    220\u001b[0m     \u001b[1;32melse\u001b[0m\u001b[1;33m:\u001b[0m\u001b[1;33m\u001b[0m\u001b[1;33m\u001b[0m\u001b[0m\n\u001b[0;32m    221\u001b[0m         \u001b[0mopener\u001b[0m \u001b[1;33m=\u001b[0m \u001b[0m_opener\u001b[0m\u001b[1;33m\u001b[0m\u001b[1;33m\u001b[0m\u001b[0m\n\u001b[1;32m--> 222\u001b[1;33m     \u001b[1;32mreturn\u001b[0m \u001b[0mopener\u001b[0m\u001b[1;33m.\u001b[0m\u001b[0mopen\u001b[0m\u001b[1;33m(\u001b[0m\u001b[0murl\u001b[0m\u001b[1;33m,\u001b[0m \u001b[0mdata\u001b[0m\u001b[1;33m,\u001b[0m \u001b[0mtimeout\u001b[0m\u001b[1;33m)\u001b[0m\u001b[1;33m\u001b[0m\u001b[1;33m\u001b[0m\u001b[0m\n\u001b[0m\u001b[0;32m    223\u001b[0m \u001b[1;33m\u001b[0m\u001b[0m\n\u001b[0;32m    224\u001b[0m \u001b[1;32mdef\u001b[0m \u001b[0minstall_opener\u001b[0m\u001b[1;33m(\u001b[0m\u001b[0mopener\u001b[0m\u001b[1;33m)\u001b[0m\u001b[1;33m:\u001b[0m\u001b[1;33m\u001b[0m\u001b[1;33m\u001b[0m\u001b[0m\n",
      "\u001b[1;32m~\\Anaconda3\\lib\\urllib\\request.py\u001b[0m in \u001b[0;36mopen\u001b[1;34m(self, fullurl, data, timeout)\u001b[0m\n\u001b[0;32m    523\u001b[0m             \u001b[0mreq\u001b[0m \u001b[1;33m=\u001b[0m \u001b[0mmeth\u001b[0m\u001b[1;33m(\u001b[0m\u001b[0mreq\u001b[0m\u001b[1;33m)\u001b[0m\u001b[1;33m\u001b[0m\u001b[1;33m\u001b[0m\u001b[0m\n\u001b[0;32m    524\u001b[0m \u001b[1;33m\u001b[0m\u001b[0m\n\u001b[1;32m--> 525\u001b[1;33m         \u001b[0mresponse\u001b[0m \u001b[1;33m=\u001b[0m \u001b[0mself\u001b[0m\u001b[1;33m.\u001b[0m\u001b[0m_open\u001b[0m\u001b[1;33m(\u001b[0m\u001b[0mreq\u001b[0m\u001b[1;33m,\u001b[0m \u001b[0mdata\u001b[0m\u001b[1;33m)\u001b[0m\u001b[1;33m\u001b[0m\u001b[1;33m\u001b[0m\u001b[0m\n\u001b[0m\u001b[0;32m    526\u001b[0m \u001b[1;33m\u001b[0m\u001b[0m\n\u001b[0;32m    527\u001b[0m         \u001b[1;31m# post-process response\u001b[0m\u001b[1;33m\u001b[0m\u001b[1;33m\u001b[0m\u001b[1;33m\u001b[0m\u001b[0m\n",
      "\u001b[1;32m~\\Anaconda3\\lib\\urllib\\request.py\u001b[0m in \u001b[0;36m_open\u001b[1;34m(self, req, data)\u001b[0m\n\u001b[0;32m    541\u001b[0m         \u001b[0mprotocol\u001b[0m \u001b[1;33m=\u001b[0m \u001b[0mreq\u001b[0m\u001b[1;33m.\u001b[0m\u001b[0mtype\u001b[0m\u001b[1;33m\u001b[0m\u001b[1;33m\u001b[0m\u001b[0m\n\u001b[0;32m    542\u001b[0m         result = self._call_chain(self.handle_open, protocol, protocol +\n\u001b[1;32m--> 543\u001b[1;33m                                   '_open', req)\n\u001b[0m\u001b[0;32m    544\u001b[0m         \u001b[1;32mif\u001b[0m \u001b[0mresult\u001b[0m\u001b[1;33m:\u001b[0m\u001b[1;33m\u001b[0m\u001b[1;33m\u001b[0m\u001b[0m\n\u001b[0;32m    545\u001b[0m             \u001b[1;32mreturn\u001b[0m \u001b[0mresult\u001b[0m\u001b[1;33m\u001b[0m\u001b[1;33m\u001b[0m\u001b[0m\n",
      "\u001b[1;32m~\\Anaconda3\\lib\\urllib\\request.py\u001b[0m in \u001b[0;36m_call_chain\u001b[1;34m(self, chain, kind, meth_name, *args)\u001b[0m\n\u001b[0;32m    501\u001b[0m         \u001b[1;32mfor\u001b[0m \u001b[0mhandler\u001b[0m \u001b[1;32min\u001b[0m \u001b[0mhandlers\u001b[0m\u001b[1;33m:\u001b[0m\u001b[1;33m\u001b[0m\u001b[1;33m\u001b[0m\u001b[0m\n\u001b[0;32m    502\u001b[0m             \u001b[0mfunc\u001b[0m \u001b[1;33m=\u001b[0m \u001b[0mgetattr\u001b[0m\u001b[1;33m(\u001b[0m\u001b[0mhandler\u001b[0m\u001b[1;33m,\u001b[0m \u001b[0mmeth_name\u001b[0m\u001b[1;33m)\u001b[0m\u001b[1;33m\u001b[0m\u001b[1;33m\u001b[0m\u001b[0m\n\u001b[1;32m--> 503\u001b[1;33m             \u001b[0mresult\u001b[0m \u001b[1;33m=\u001b[0m \u001b[0mfunc\u001b[0m\u001b[1;33m(\u001b[0m\u001b[1;33m*\u001b[0m\u001b[0margs\u001b[0m\u001b[1;33m)\u001b[0m\u001b[1;33m\u001b[0m\u001b[1;33m\u001b[0m\u001b[0m\n\u001b[0m\u001b[0;32m    504\u001b[0m             \u001b[1;32mif\u001b[0m \u001b[0mresult\u001b[0m \u001b[1;32mis\u001b[0m \u001b[1;32mnot\u001b[0m \u001b[1;32mNone\u001b[0m\u001b[1;33m:\u001b[0m\u001b[1;33m\u001b[0m\u001b[1;33m\u001b[0m\u001b[0m\n\u001b[0;32m    505\u001b[0m                 \u001b[1;32mreturn\u001b[0m \u001b[0mresult\u001b[0m\u001b[1;33m\u001b[0m\u001b[1;33m\u001b[0m\u001b[0m\n",
      "\u001b[1;32m~\\Anaconda3\\lib\\urllib\\request.py\u001b[0m in \u001b[0;36mhttp_open\u001b[1;34m(self, req)\u001b[0m\n\u001b[0;32m   1343\u001b[0m \u001b[1;33m\u001b[0m\u001b[0m\n\u001b[0;32m   1344\u001b[0m     \u001b[1;32mdef\u001b[0m \u001b[0mhttp_open\u001b[0m\u001b[1;33m(\u001b[0m\u001b[0mself\u001b[0m\u001b[1;33m,\u001b[0m \u001b[0mreq\u001b[0m\u001b[1;33m)\u001b[0m\u001b[1;33m:\u001b[0m\u001b[1;33m\u001b[0m\u001b[1;33m\u001b[0m\u001b[0m\n\u001b[1;32m-> 1345\u001b[1;33m         \u001b[1;32mreturn\u001b[0m \u001b[0mself\u001b[0m\u001b[1;33m.\u001b[0m\u001b[0mdo_open\u001b[0m\u001b[1;33m(\u001b[0m\u001b[0mhttp\u001b[0m\u001b[1;33m.\u001b[0m\u001b[0mclient\u001b[0m\u001b[1;33m.\u001b[0m\u001b[0mHTTPConnection\u001b[0m\u001b[1;33m,\u001b[0m \u001b[0mreq\u001b[0m\u001b[1;33m)\u001b[0m\u001b[1;33m\u001b[0m\u001b[1;33m\u001b[0m\u001b[0m\n\u001b[0m\u001b[0;32m   1346\u001b[0m \u001b[1;33m\u001b[0m\u001b[0m\n\u001b[0;32m   1347\u001b[0m     \u001b[0mhttp_request\u001b[0m \u001b[1;33m=\u001b[0m \u001b[0mAbstractHTTPHandler\u001b[0m\u001b[1;33m.\u001b[0m\u001b[0mdo_request_\u001b[0m\u001b[1;33m\u001b[0m\u001b[1;33m\u001b[0m\u001b[0m\n",
      "\u001b[1;32m~\\Anaconda3\\lib\\urllib\\request.py\u001b[0m in \u001b[0;36mdo_open\u001b[1;34m(self, http_class, req, **http_conn_args)\u001b[0m\n\u001b[0;32m   1317\u001b[0m                           encode_chunked=req.has_header('Transfer-encoding'))\n\u001b[0;32m   1318\u001b[0m             \u001b[1;32mexcept\u001b[0m \u001b[0mOSError\u001b[0m \u001b[1;32mas\u001b[0m \u001b[0merr\u001b[0m\u001b[1;33m:\u001b[0m \u001b[1;31m# timeout error\u001b[0m\u001b[1;33m\u001b[0m\u001b[1;33m\u001b[0m\u001b[0m\n\u001b[1;32m-> 1319\u001b[1;33m                 \u001b[1;32mraise\u001b[0m \u001b[0mURLError\u001b[0m\u001b[1;33m(\u001b[0m\u001b[0merr\u001b[0m\u001b[1;33m)\u001b[0m\u001b[1;33m\u001b[0m\u001b[1;33m\u001b[0m\u001b[0m\n\u001b[0m\u001b[0;32m   1320\u001b[0m             \u001b[0mr\u001b[0m \u001b[1;33m=\u001b[0m \u001b[0mh\u001b[0m\u001b[1;33m.\u001b[0m\u001b[0mgetresponse\u001b[0m\u001b[1;33m(\u001b[0m\u001b[1;33m)\u001b[0m\u001b[1;33m\u001b[0m\u001b[1;33m\u001b[0m\u001b[0m\n\u001b[0;32m   1321\u001b[0m         \u001b[1;32mexcept\u001b[0m\u001b[1;33m:\u001b[0m\u001b[1;33m\u001b[0m\u001b[1;33m\u001b[0m\u001b[0m\n",
      "\u001b[1;31mURLError\u001b[0m: <urlopen error [WinError 10060] Попытка установить соединение была безуспешной, т.к. от другого компьютера за требуемое время не получен нужный отклик, или было разорвано уже установленное соединение из-за неверного отклика уже подключенного компьютера>"
     ]
    }
   ],
   "source": [
    "for cp in np.arange(1,int(lastpage3)+1):\n",
    "    url = \"http://zpp.rospotrebnadzor.ru/Forum/Appeals/AjaxindexList?page=\" + str(cp) + \"&searchtext=&categories=%5B%5D\"\n",
    "    html = urlopen(url)\n",
    "    soup = BeautifulSoup(html, 'html')\n",
    "    links.append([i.get('href') for i in soup.find_all(class_='appeal-title-link')])\n",
    "#     author.append([i.text for i in soup.find_all(class_='jsx-566588255 name')])\n",
    "#     publishdate.append([i.text for i in soup.find_all(class_='jsx-566588255 date')])\n",
    "#     title.append([i.text for i in soup.find_all(class_='jsx-379356511 blue')])\n",
    "    if cp%100==0:\n",
    "        print(cp)\n",
    "    time.sleep(3)\n",
    "print (\"Done!\")"
   ]
  },
  {
   "cell_type": "code",
   "execution_count": 13,
   "metadata": {},
   "outputs": [
    {
     "data": {
      "text/plain": [
       "1994"
      ]
     },
     "execution_count": 13,
     "metadata": {},
     "output_type": "execute_result"
    }
   ],
   "source": [
    "len(links)"
   ]
  },
  {
   "cell_type": "code",
   "execution_count": 14,
   "metadata": {},
   "outputs": [
    {
     "data": {
      "text/plain": [
       "['/Forum/Appeals/Details/9443',\n",
       " '/Forum/Appeals/Details/9442',\n",
       " '/Forum/Appeals/Details/9441',\n",
       " '/Forum/Appeals/Details/9440',\n",
       " '/Forum/Appeals/Details/9439']"
      ]
     },
     "execution_count": 14,
     "metadata": {},
     "output_type": "execute_result"
    }
   ],
   "source": [
    "links[-1]"
   ]
  },
  {
   "cell_type": "code",
   "execution_count": 10,
   "metadata": {},
   "outputs": [
    {
     "name": "stdout",
     "output_type": "stream",
     "text": [
      "900\n",
      "1000\n",
      "1100\n"
     ]
    },
    {
     "ename": "URLError",
     "evalue": "<urlopen error [WinError 10060] Попытка установить соединение была безуспешной, т.к. от другого компьютера за требуемое время не получен нужный отклик, или было разорвано уже установленное соединение из-за неверного отклика уже подключенного компьютера>",
     "output_type": "error",
     "traceback": [
      "\u001b[1;31m---------------------------------------------------------------------------\u001b[0m",
      "\u001b[1;31mTimeoutError\u001b[0m                              Traceback (most recent call last)",
      "\u001b[1;32m~\\Anaconda3\\lib\\urllib\\request.py\u001b[0m in \u001b[0;36mdo_open\u001b[1;34m(self, http_class, req, **http_conn_args)\u001b[0m\n\u001b[0;32m   1316\u001b[0m                 h.request(req.get_method(), req.selector, req.data, headers,\n\u001b[1;32m-> 1317\u001b[1;33m                           encode_chunked=req.has_header('Transfer-encoding'))\n\u001b[0m\u001b[0;32m   1318\u001b[0m             \u001b[1;32mexcept\u001b[0m \u001b[0mOSError\u001b[0m \u001b[1;32mas\u001b[0m \u001b[0merr\u001b[0m\u001b[1;33m:\u001b[0m \u001b[1;31m# timeout error\u001b[0m\u001b[1;33m\u001b[0m\u001b[1;33m\u001b[0m\u001b[0m\n",
      "\u001b[1;32m~\\Anaconda3\\lib\\http\\client.py\u001b[0m in \u001b[0;36mrequest\u001b[1;34m(self, method, url, body, headers, encode_chunked)\u001b[0m\n\u001b[0;32m   1228\u001b[0m         \u001b[1;34m\"\"\"Send a complete request to the server.\"\"\"\u001b[0m\u001b[1;33m\u001b[0m\u001b[1;33m\u001b[0m\u001b[0m\n\u001b[1;32m-> 1229\u001b[1;33m         \u001b[0mself\u001b[0m\u001b[1;33m.\u001b[0m\u001b[0m_send_request\u001b[0m\u001b[1;33m(\u001b[0m\u001b[0mmethod\u001b[0m\u001b[1;33m,\u001b[0m \u001b[0murl\u001b[0m\u001b[1;33m,\u001b[0m \u001b[0mbody\u001b[0m\u001b[1;33m,\u001b[0m \u001b[0mheaders\u001b[0m\u001b[1;33m,\u001b[0m \u001b[0mencode_chunked\u001b[0m\u001b[1;33m)\u001b[0m\u001b[1;33m\u001b[0m\u001b[1;33m\u001b[0m\u001b[0m\n\u001b[0m\u001b[0;32m   1230\u001b[0m \u001b[1;33m\u001b[0m\u001b[0m\n",
      "\u001b[1;32m~\\Anaconda3\\lib\\http\\client.py\u001b[0m in \u001b[0;36m_send_request\u001b[1;34m(self, method, url, body, headers, encode_chunked)\u001b[0m\n\u001b[0;32m   1274\u001b[0m             \u001b[0mbody\u001b[0m \u001b[1;33m=\u001b[0m \u001b[0m_encode\u001b[0m\u001b[1;33m(\u001b[0m\u001b[0mbody\u001b[0m\u001b[1;33m,\u001b[0m \u001b[1;34m'body'\u001b[0m\u001b[1;33m)\u001b[0m\u001b[1;33m\u001b[0m\u001b[1;33m\u001b[0m\u001b[0m\n\u001b[1;32m-> 1275\u001b[1;33m         \u001b[0mself\u001b[0m\u001b[1;33m.\u001b[0m\u001b[0mendheaders\u001b[0m\u001b[1;33m(\u001b[0m\u001b[0mbody\u001b[0m\u001b[1;33m,\u001b[0m \u001b[0mencode_chunked\u001b[0m\u001b[1;33m=\u001b[0m\u001b[0mencode_chunked\u001b[0m\u001b[1;33m)\u001b[0m\u001b[1;33m\u001b[0m\u001b[1;33m\u001b[0m\u001b[0m\n\u001b[0m\u001b[0;32m   1276\u001b[0m \u001b[1;33m\u001b[0m\u001b[0m\n",
      "\u001b[1;32m~\\Anaconda3\\lib\\http\\client.py\u001b[0m in \u001b[0;36mendheaders\u001b[1;34m(self, message_body, encode_chunked)\u001b[0m\n\u001b[0;32m   1223\u001b[0m             \u001b[1;32mraise\u001b[0m \u001b[0mCannotSendHeader\u001b[0m\u001b[1;33m(\u001b[0m\u001b[1;33m)\u001b[0m\u001b[1;33m\u001b[0m\u001b[1;33m\u001b[0m\u001b[0m\n\u001b[1;32m-> 1224\u001b[1;33m         \u001b[0mself\u001b[0m\u001b[1;33m.\u001b[0m\u001b[0m_send_output\u001b[0m\u001b[1;33m(\u001b[0m\u001b[0mmessage_body\u001b[0m\u001b[1;33m,\u001b[0m \u001b[0mencode_chunked\u001b[0m\u001b[1;33m=\u001b[0m\u001b[0mencode_chunked\u001b[0m\u001b[1;33m)\u001b[0m\u001b[1;33m\u001b[0m\u001b[1;33m\u001b[0m\u001b[0m\n\u001b[0m\u001b[0;32m   1225\u001b[0m \u001b[1;33m\u001b[0m\u001b[0m\n",
      "\u001b[1;32m~\\Anaconda3\\lib\\http\\client.py\u001b[0m in \u001b[0;36m_send_output\u001b[1;34m(self, message_body, encode_chunked)\u001b[0m\n\u001b[0;32m   1015\u001b[0m         \u001b[1;32mdel\u001b[0m \u001b[0mself\u001b[0m\u001b[1;33m.\u001b[0m\u001b[0m_buffer\u001b[0m\u001b[1;33m[\u001b[0m\u001b[1;33m:\u001b[0m\u001b[1;33m]\u001b[0m\u001b[1;33m\u001b[0m\u001b[1;33m\u001b[0m\u001b[0m\n\u001b[1;32m-> 1016\u001b[1;33m         \u001b[0mself\u001b[0m\u001b[1;33m.\u001b[0m\u001b[0msend\u001b[0m\u001b[1;33m(\u001b[0m\u001b[0mmsg\u001b[0m\u001b[1;33m)\u001b[0m\u001b[1;33m\u001b[0m\u001b[1;33m\u001b[0m\u001b[0m\n\u001b[0m\u001b[0;32m   1017\u001b[0m \u001b[1;33m\u001b[0m\u001b[0m\n",
      "\u001b[1;32m~\\Anaconda3\\lib\\http\\client.py\u001b[0m in \u001b[0;36msend\u001b[1;34m(self, data)\u001b[0m\n\u001b[0;32m    955\u001b[0m             \u001b[1;32mif\u001b[0m \u001b[0mself\u001b[0m\u001b[1;33m.\u001b[0m\u001b[0mauto_open\u001b[0m\u001b[1;33m:\u001b[0m\u001b[1;33m\u001b[0m\u001b[1;33m\u001b[0m\u001b[0m\n\u001b[1;32m--> 956\u001b[1;33m                 \u001b[0mself\u001b[0m\u001b[1;33m.\u001b[0m\u001b[0mconnect\u001b[0m\u001b[1;33m(\u001b[0m\u001b[1;33m)\u001b[0m\u001b[1;33m\u001b[0m\u001b[1;33m\u001b[0m\u001b[0m\n\u001b[0m\u001b[0;32m    957\u001b[0m             \u001b[1;32melse\u001b[0m\u001b[1;33m:\u001b[0m\u001b[1;33m\u001b[0m\u001b[1;33m\u001b[0m\u001b[0m\n",
      "\u001b[1;32m~\\Anaconda3\\lib\\http\\client.py\u001b[0m in \u001b[0;36mconnect\u001b[1;34m(self)\u001b[0m\n\u001b[0;32m    927\u001b[0m         self.sock = self._create_connection(\n\u001b[1;32m--> 928\u001b[1;33m             (self.host,self.port), self.timeout, self.source_address)\n\u001b[0m\u001b[0;32m    929\u001b[0m         \u001b[0mself\u001b[0m\u001b[1;33m.\u001b[0m\u001b[0msock\u001b[0m\u001b[1;33m.\u001b[0m\u001b[0msetsockopt\u001b[0m\u001b[1;33m(\u001b[0m\u001b[0msocket\u001b[0m\u001b[1;33m.\u001b[0m\u001b[0mIPPROTO_TCP\u001b[0m\u001b[1;33m,\u001b[0m \u001b[0msocket\u001b[0m\u001b[1;33m.\u001b[0m\u001b[0mTCP_NODELAY\u001b[0m\u001b[1;33m,\u001b[0m \u001b[1;36m1\u001b[0m\u001b[1;33m)\u001b[0m\u001b[1;33m\u001b[0m\u001b[1;33m\u001b[0m\u001b[0m\n",
      "\u001b[1;32m~\\Anaconda3\\lib\\socket.py\u001b[0m in \u001b[0;36mcreate_connection\u001b[1;34m(address, timeout, source_address)\u001b[0m\n\u001b[0;32m    726\u001b[0m     \u001b[1;32mif\u001b[0m \u001b[0merr\u001b[0m \u001b[1;32mis\u001b[0m \u001b[1;32mnot\u001b[0m \u001b[1;32mNone\u001b[0m\u001b[1;33m:\u001b[0m\u001b[1;33m\u001b[0m\u001b[1;33m\u001b[0m\u001b[0m\n\u001b[1;32m--> 727\u001b[1;33m         \u001b[1;32mraise\u001b[0m \u001b[0merr\u001b[0m\u001b[1;33m\u001b[0m\u001b[1;33m\u001b[0m\u001b[0m\n\u001b[0m\u001b[0;32m    728\u001b[0m     \u001b[1;32melse\u001b[0m\u001b[1;33m:\u001b[0m\u001b[1;33m\u001b[0m\u001b[1;33m\u001b[0m\u001b[0m\n",
      "\u001b[1;32m~\\Anaconda3\\lib\\socket.py\u001b[0m in \u001b[0;36mcreate_connection\u001b[1;34m(address, timeout, source_address)\u001b[0m\n\u001b[0;32m    715\u001b[0m                 \u001b[0msock\u001b[0m\u001b[1;33m.\u001b[0m\u001b[0mbind\u001b[0m\u001b[1;33m(\u001b[0m\u001b[0msource_address\u001b[0m\u001b[1;33m)\u001b[0m\u001b[1;33m\u001b[0m\u001b[1;33m\u001b[0m\u001b[0m\n\u001b[1;32m--> 716\u001b[1;33m             \u001b[0msock\u001b[0m\u001b[1;33m.\u001b[0m\u001b[0mconnect\u001b[0m\u001b[1;33m(\u001b[0m\u001b[0msa\u001b[0m\u001b[1;33m)\u001b[0m\u001b[1;33m\u001b[0m\u001b[1;33m\u001b[0m\u001b[0m\n\u001b[0m\u001b[0;32m    717\u001b[0m             \u001b[1;31m# Break explicitly a reference cycle\u001b[0m\u001b[1;33m\u001b[0m\u001b[1;33m\u001b[0m\u001b[1;33m\u001b[0m\u001b[0m\n",
      "\u001b[1;31mTimeoutError\u001b[0m: [WinError 10060] Попытка установить соединение была безуспешной, т.к. от другого компьютера за требуемое время не получен нужный отклик, или было разорвано уже установленное соединение из-за неверного отклика уже подключенного компьютера",
      "\nDuring handling of the above exception, another exception occurred:\n",
      "\u001b[1;31mURLError\u001b[0m                                  Traceback (most recent call last)",
      "\u001b[1;32m<ipython-input-10-03c7378abefd>\u001b[0m in \u001b[0;36m<module>\u001b[1;34m\u001b[0m\n\u001b[0;32m      1\u001b[0m \u001b[1;32mfor\u001b[0m \u001b[0mcp\u001b[0m \u001b[1;32min\u001b[0m \u001b[0mnp\u001b[0m\u001b[1;33m.\u001b[0m\u001b[0marange\u001b[0m\u001b[1;33m(\u001b[0m\u001b[1;36m837\u001b[0m\u001b[1;33m,\u001b[0m\u001b[0mint\u001b[0m\u001b[1;33m(\u001b[0m\u001b[0mlastpage3\u001b[0m\u001b[1;33m)\u001b[0m\u001b[1;33m+\u001b[0m\u001b[1;36m1\u001b[0m\u001b[1;33m)\u001b[0m\u001b[1;33m:\u001b[0m\u001b[1;33m\u001b[0m\u001b[1;33m\u001b[0m\u001b[0m\n\u001b[0;32m      2\u001b[0m     \u001b[0murl\u001b[0m \u001b[1;33m=\u001b[0m \u001b[1;34m\"http://zpp.rospotrebnadzor.ru/Forum/Appeals/AjaxindexList?page=\"\u001b[0m \u001b[1;33m+\u001b[0m \u001b[0mstr\u001b[0m\u001b[1;33m(\u001b[0m\u001b[0mcp\u001b[0m\u001b[1;33m)\u001b[0m \u001b[1;33m+\u001b[0m \u001b[1;34m\"&searchtext=&categories=%5B%5D\"\u001b[0m\u001b[1;33m\u001b[0m\u001b[1;33m\u001b[0m\u001b[0m\n\u001b[1;32m----> 3\u001b[1;33m     \u001b[0mhtml\u001b[0m \u001b[1;33m=\u001b[0m \u001b[0murlopen\u001b[0m\u001b[1;33m(\u001b[0m\u001b[0murl\u001b[0m\u001b[1;33m)\u001b[0m\u001b[1;33m\u001b[0m\u001b[1;33m\u001b[0m\u001b[0m\n\u001b[0m\u001b[0;32m      4\u001b[0m     \u001b[0msoup\u001b[0m \u001b[1;33m=\u001b[0m \u001b[0mBeautifulSoup\u001b[0m\u001b[1;33m(\u001b[0m\u001b[0mhtml\u001b[0m\u001b[1;33m,\u001b[0m \u001b[1;34m'html'\u001b[0m\u001b[1;33m)\u001b[0m\u001b[1;33m\u001b[0m\u001b[1;33m\u001b[0m\u001b[0m\n\u001b[0;32m      5\u001b[0m     \u001b[0mlinks\u001b[0m\u001b[1;33m.\u001b[0m\u001b[0mappend\u001b[0m\u001b[1;33m(\u001b[0m\u001b[1;33m[\u001b[0m\u001b[0mi\u001b[0m\u001b[1;33m.\u001b[0m\u001b[0mget\u001b[0m\u001b[1;33m(\u001b[0m\u001b[1;34m'href'\u001b[0m\u001b[1;33m)\u001b[0m \u001b[1;32mfor\u001b[0m \u001b[0mi\u001b[0m \u001b[1;32min\u001b[0m \u001b[0msoup\u001b[0m\u001b[1;33m.\u001b[0m\u001b[0mfind_all\u001b[0m\u001b[1;33m(\u001b[0m\u001b[0mclass_\u001b[0m\u001b[1;33m=\u001b[0m\u001b[1;34m'appeal-title-link'\u001b[0m\u001b[1;33m)\u001b[0m\u001b[1;33m]\u001b[0m\u001b[1;33m)\u001b[0m\u001b[1;33m\u001b[0m\u001b[1;33m\u001b[0m\u001b[0m\n",
      "\u001b[1;32m~\\Anaconda3\\lib\\urllib\\request.py\u001b[0m in \u001b[0;36murlopen\u001b[1;34m(url, data, timeout, cafile, capath, cadefault, context)\u001b[0m\n\u001b[0;32m    220\u001b[0m     \u001b[1;32melse\u001b[0m\u001b[1;33m:\u001b[0m\u001b[1;33m\u001b[0m\u001b[1;33m\u001b[0m\u001b[0m\n\u001b[0;32m    221\u001b[0m         \u001b[0mopener\u001b[0m \u001b[1;33m=\u001b[0m \u001b[0m_opener\u001b[0m\u001b[1;33m\u001b[0m\u001b[1;33m\u001b[0m\u001b[0m\n\u001b[1;32m--> 222\u001b[1;33m     \u001b[1;32mreturn\u001b[0m \u001b[0mopener\u001b[0m\u001b[1;33m.\u001b[0m\u001b[0mopen\u001b[0m\u001b[1;33m(\u001b[0m\u001b[0murl\u001b[0m\u001b[1;33m,\u001b[0m \u001b[0mdata\u001b[0m\u001b[1;33m,\u001b[0m \u001b[0mtimeout\u001b[0m\u001b[1;33m)\u001b[0m\u001b[1;33m\u001b[0m\u001b[1;33m\u001b[0m\u001b[0m\n\u001b[0m\u001b[0;32m    223\u001b[0m \u001b[1;33m\u001b[0m\u001b[0m\n\u001b[0;32m    224\u001b[0m \u001b[1;32mdef\u001b[0m \u001b[0minstall_opener\u001b[0m\u001b[1;33m(\u001b[0m\u001b[0mopener\u001b[0m\u001b[1;33m)\u001b[0m\u001b[1;33m:\u001b[0m\u001b[1;33m\u001b[0m\u001b[1;33m\u001b[0m\u001b[0m\n",
      "\u001b[1;32m~\\Anaconda3\\lib\\urllib\\request.py\u001b[0m in \u001b[0;36mopen\u001b[1;34m(self, fullurl, data, timeout)\u001b[0m\n\u001b[0;32m    523\u001b[0m             \u001b[0mreq\u001b[0m \u001b[1;33m=\u001b[0m \u001b[0mmeth\u001b[0m\u001b[1;33m(\u001b[0m\u001b[0mreq\u001b[0m\u001b[1;33m)\u001b[0m\u001b[1;33m\u001b[0m\u001b[1;33m\u001b[0m\u001b[0m\n\u001b[0;32m    524\u001b[0m \u001b[1;33m\u001b[0m\u001b[0m\n\u001b[1;32m--> 525\u001b[1;33m         \u001b[0mresponse\u001b[0m \u001b[1;33m=\u001b[0m \u001b[0mself\u001b[0m\u001b[1;33m.\u001b[0m\u001b[0m_open\u001b[0m\u001b[1;33m(\u001b[0m\u001b[0mreq\u001b[0m\u001b[1;33m,\u001b[0m \u001b[0mdata\u001b[0m\u001b[1;33m)\u001b[0m\u001b[1;33m\u001b[0m\u001b[1;33m\u001b[0m\u001b[0m\n\u001b[0m\u001b[0;32m    526\u001b[0m \u001b[1;33m\u001b[0m\u001b[0m\n\u001b[0;32m    527\u001b[0m         \u001b[1;31m# post-process response\u001b[0m\u001b[1;33m\u001b[0m\u001b[1;33m\u001b[0m\u001b[1;33m\u001b[0m\u001b[0m\n",
      "\u001b[1;32m~\\Anaconda3\\lib\\urllib\\request.py\u001b[0m in \u001b[0;36m_open\u001b[1;34m(self, req, data)\u001b[0m\n\u001b[0;32m    541\u001b[0m         \u001b[0mprotocol\u001b[0m \u001b[1;33m=\u001b[0m \u001b[0mreq\u001b[0m\u001b[1;33m.\u001b[0m\u001b[0mtype\u001b[0m\u001b[1;33m\u001b[0m\u001b[1;33m\u001b[0m\u001b[0m\n\u001b[0;32m    542\u001b[0m         result = self._call_chain(self.handle_open, protocol, protocol +\n\u001b[1;32m--> 543\u001b[1;33m                                   '_open', req)\n\u001b[0m\u001b[0;32m    544\u001b[0m         \u001b[1;32mif\u001b[0m \u001b[0mresult\u001b[0m\u001b[1;33m:\u001b[0m\u001b[1;33m\u001b[0m\u001b[1;33m\u001b[0m\u001b[0m\n\u001b[0;32m    545\u001b[0m             \u001b[1;32mreturn\u001b[0m \u001b[0mresult\u001b[0m\u001b[1;33m\u001b[0m\u001b[1;33m\u001b[0m\u001b[0m\n",
      "\u001b[1;32m~\\Anaconda3\\lib\\urllib\\request.py\u001b[0m in \u001b[0;36m_call_chain\u001b[1;34m(self, chain, kind, meth_name, *args)\u001b[0m\n\u001b[0;32m    501\u001b[0m         \u001b[1;32mfor\u001b[0m \u001b[0mhandler\u001b[0m \u001b[1;32min\u001b[0m \u001b[0mhandlers\u001b[0m\u001b[1;33m:\u001b[0m\u001b[1;33m\u001b[0m\u001b[1;33m\u001b[0m\u001b[0m\n\u001b[0;32m    502\u001b[0m             \u001b[0mfunc\u001b[0m \u001b[1;33m=\u001b[0m \u001b[0mgetattr\u001b[0m\u001b[1;33m(\u001b[0m\u001b[0mhandler\u001b[0m\u001b[1;33m,\u001b[0m \u001b[0mmeth_name\u001b[0m\u001b[1;33m)\u001b[0m\u001b[1;33m\u001b[0m\u001b[1;33m\u001b[0m\u001b[0m\n\u001b[1;32m--> 503\u001b[1;33m             \u001b[0mresult\u001b[0m \u001b[1;33m=\u001b[0m \u001b[0mfunc\u001b[0m\u001b[1;33m(\u001b[0m\u001b[1;33m*\u001b[0m\u001b[0margs\u001b[0m\u001b[1;33m)\u001b[0m\u001b[1;33m\u001b[0m\u001b[1;33m\u001b[0m\u001b[0m\n\u001b[0m\u001b[0;32m    504\u001b[0m             \u001b[1;32mif\u001b[0m \u001b[0mresult\u001b[0m \u001b[1;32mis\u001b[0m \u001b[1;32mnot\u001b[0m \u001b[1;32mNone\u001b[0m\u001b[1;33m:\u001b[0m\u001b[1;33m\u001b[0m\u001b[1;33m\u001b[0m\u001b[0m\n\u001b[0;32m    505\u001b[0m                 \u001b[1;32mreturn\u001b[0m \u001b[0mresult\u001b[0m\u001b[1;33m\u001b[0m\u001b[1;33m\u001b[0m\u001b[0m\n",
      "\u001b[1;32m~\\Anaconda3\\lib\\urllib\\request.py\u001b[0m in \u001b[0;36mhttp_open\u001b[1;34m(self, req)\u001b[0m\n\u001b[0;32m   1343\u001b[0m \u001b[1;33m\u001b[0m\u001b[0m\n\u001b[0;32m   1344\u001b[0m     \u001b[1;32mdef\u001b[0m \u001b[0mhttp_open\u001b[0m\u001b[1;33m(\u001b[0m\u001b[0mself\u001b[0m\u001b[1;33m,\u001b[0m \u001b[0mreq\u001b[0m\u001b[1;33m)\u001b[0m\u001b[1;33m:\u001b[0m\u001b[1;33m\u001b[0m\u001b[1;33m\u001b[0m\u001b[0m\n\u001b[1;32m-> 1345\u001b[1;33m         \u001b[1;32mreturn\u001b[0m \u001b[0mself\u001b[0m\u001b[1;33m.\u001b[0m\u001b[0mdo_open\u001b[0m\u001b[1;33m(\u001b[0m\u001b[0mhttp\u001b[0m\u001b[1;33m.\u001b[0m\u001b[0mclient\u001b[0m\u001b[1;33m.\u001b[0m\u001b[0mHTTPConnection\u001b[0m\u001b[1;33m,\u001b[0m \u001b[0mreq\u001b[0m\u001b[1;33m)\u001b[0m\u001b[1;33m\u001b[0m\u001b[1;33m\u001b[0m\u001b[0m\n\u001b[0m\u001b[0;32m   1346\u001b[0m \u001b[1;33m\u001b[0m\u001b[0m\n\u001b[0;32m   1347\u001b[0m     \u001b[0mhttp_request\u001b[0m \u001b[1;33m=\u001b[0m \u001b[0mAbstractHTTPHandler\u001b[0m\u001b[1;33m.\u001b[0m\u001b[0mdo_request_\u001b[0m\u001b[1;33m\u001b[0m\u001b[1;33m\u001b[0m\u001b[0m\n",
      "\u001b[1;32m~\\Anaconda3\\lib\\urllib\\request.py\u001b[0m in \u001b[0;36mdo_open\u001b[1;34m(self, http_class, req, **http_conn_args)\u001b[0m\n\u001b[0;32m   1317\u001b[0m                           encode_chunked=req.has_header('Transfer-encoding'))\n\u001b[0;32m   1318\u001b[0m             \u001b[1;32mexcept\u001b[0m \u001b[0mOSError\u001b[0m \u001b[1;32mas\u001b[0m \u001b[0merr\u001b[0m\u001b[1;33m:\u001b[0m \u001b[1;31m# timeout error\u001b[0m\u001b[1;33m\u001b[0m\u001b[1;33m\u001b[0m\u001b[0m\n\u001b[1;32m-> 1319\u001b[1;33m                 \u001b[1;32mraise\u001b[0m \u001b[0mURLError\u001b[0m\u001b[1;33m(\u001b[0m\u001b[0merr\u001b[0m\u001b[1;33m)\u001b[0m\u001b[1;33m\u001b[0m\u001b[1;33m\u001b[0m\u001b[0m\n\u001b[0m\u001b[0;32m   1320\u001b[0m             \u001b[0mr\u001b[0m \u001b[1;33m=\u001b[0m \u001b[0mh\u001b[0m\u001b[1;33m.\u001b[0m\u001b[0mgetresponse\u001b[0m\u001b[1;33m(\u001b[0m\u001b[1;33m)\u001b[0m\u001b[1;33m\u001b[0m\u001b[1;33m\u001b[0m\u001b[0m\n\u001b[0;32m   1321\u001b[0m         \u001b[1;32mexcept\u001b[0m\u001b[1;33m:\u001b[0m\u001b[1;33m\u001b[0m\u001b[1;33m\u001b[0m\u001b[0m\n",
      "\u001b[1;31mURLError\u001b[0m: <urlopen error [WinError 10060] Попытка установить соединение была безуспешной, т.к. от другого компьютера за требуемое время не получен нужный отклик, или было разорвано уже установленное соединение из-за неверного отклика уже подключенного компьютера>"
     ]
    }
   ],
   "source": [
    "for cp in np.arange(837,int(lastpage3)+1):\n",
    "    url = \"http://zpp.rospotrebnadzor.ru/Forum/Appeals/AjaxindexList?page=\" + str(cp) + \"&searchtext=&categories=%5B%5D\"\n",
    "    html = urlopen(url)\n",
    "    soup = BeautifulSoup(html, 'html')\n",
    "    links.append([i.get('href') for i in soup.find_all(class_='appeal-title-link')])\n",
    "    if cp%100==0:\n",
    "        print(cp)\n",
    "    time.sleep(3)\n",
    "print (\"Done!\")"
   ]
  },
  {
   "cell_type": "code",
   "execution_count": 12,
   "metadata": {},
   "outputs": [
    {
     "name": "stdout",
     "output_type": "stream",
     "text": [
      "1200\n",
      "1300\n",
      "1400\n",
      "1500\n",
      "1600\n",
      "1700\n",
      "1800\n",
      "1900\n"
     ]
    },
    {
     "ename": "URLError",
     "evalue": "<urlopen error [WinError 10060] Попытка установить соединение была безуспешной, т.к. от другого компьютера за требуемое время не получен нужный отклик, или было разорвано уже установленное соединение из-за неверного отклика уже подключенного компьютера>",
     "output_type": "error",
     "traceback": [
      "\u001b[1;31m---------------------------------------------------------------------------\u001b[0m",
      "\u001b[1;31mTimeoutError\u001b[0m                              Traceback (most recent call last)",
      "\u001b[1;32m~\\Anaconda3\\lib\\urllib\\request.py\u001b[0m in \u001b[0;36mdo_open\u001b[1;34m(self, http_class, req, **http_conn_args)\u001b[0m\n\u001b[0;32m   1316\u001b[0m                 h.request(req.get_method(), req.selector, req.data, headers,\n\u001b[1;32m-> 1317\u001b[1;33m                           encode_chunked=req.has_header('Transfer-encoding'))\n\u001b[0m\u001b[0;32m   1318\u001b[0m             \u001b[1;32mexcept\u001b[0m \u001b[0mOSError\u001b[0m \u001b[1;32mas\u001b[0m \u001b[0merr\u001b[0m\u001b[1;33m:\u001b[0m \u001b[1;31m# timeout error\u001b[0m\u001b[1;33m\u001b[0m\u001b[1;33m\u001b[0m\u001b[0m\n",
      "\u001b[1;32m~\\Anaconda3\\lib\\http\\client.py\u001b[0m in \u001b[0;36mrequest\u001b[1;34m(self, method, url, body, headers, encode_chunked)\u001b[0m\n\u001b[0;32m   1228\u001b[0m         \u001b[1;34m\"\"\"Send a complete request to the server.\"\"\"\u001b[0m\u001b[1;33m\u001b[0m\u001b[1;33m\u001b[0m\u001b[0m\n\u001b[1;32m-> 1229\u001b[1;33m         \u001b[0mself\u001b[0m\u001b[1;33m.\u001b[0m\u001b[0m_send_request\u001b[0m\u001b[1;33m(\u001b[0m\u001b[0mmethod\u001b[0m\u001b[1;33m,\u001b[0m \u001b[0murl\u001b[0m\u001b[1;33m,\u001b[0m \u001b[0mbody\u001b[0m\u001b[1;33m,\u001b[0m \u001b[0mheaders\u001b[0m\u001b[1;33m,\u001b[0m \u001b[0mencode_chunked\u001b[0m\u001b[1;33m)\u001b[0m\u001b[1;33m\u001b[0m\u001b[1;33m\u001b[0m\u001b[0m\n\u001b[0m\u001b[0;32m   1230\u001b[0m \u001b[1;33m\u001b[0m\u001b[0m\n",
      "\u001b[1;32m~\\Anaconda3\\lib\\http\\client.py\u001b[0m in \u001b[0;36m_send_request\u001b[1;34m(self, method, url, body, headers, encode_chunked)\u001b[0m\n\u001b[0;32m   1274\u001b[0m             \u001b[0mbody\u001b[0m \u001b[1;33m=\u001b[0m \u001b[0m_encode\u001b[0m\u001b[1;33m(\u001b[0m\u001b[0mbody\u001b[0m\u001b[1;33m,\u001b[0m \u001b[1;34m'body'\u001b[0m\u001b[1;33m)\u001b[0m\u001b[1;33m\u001b[0m\u001b[1;33m\u001b[0m\u001b[0m\n\u001b[1;32m-> 1275\u001b[1;33m         \u001b[0mself\u001b[0m\u001b[1;33m.\u001b[0m\u001b[0mendheaders\u001b[0m\u001b[1;33m(\u001b[0m\u001b[0mbody\u001b[0m\u001b[1;33m,\u001b[0m \u001b[0mencode_chunked\u001b[0m\u001b[1;33m=\u001b[0m\u001b[0mencode_chunked\u001b[0m\u001b[1;33m)\u001b[0m\u001b[1;33m\u001b[0m\u001b[1;33m\u001b[0m\u001b[0m\n\u001b[0m\u001b[0;32m   1276\u001b[0m \u001b[1;33m\u001b[0m\u001b[0m\n",
      "\u001b[1;32m~\\Anaconda3\\lib\\http\\client.py\u001b[0m in \u001b[0;36mendheaders\u001b[1;34m(self, message_body, encode_chunked)\u001b[0m\n\u001b[0;32m   1223\u001b[0m             \u001b[1;32mraise\u001b[0m \u001b[0mCannotSendHeader\u001b[0m\u001b[1;33m(\u001b[0m\u001b[1;33m)\u001b[0m\u001b[1;33m\u001b[0m\u001b[1;33m\u001b[0m\u001b[0m\n\u001b[1;32m-> 1224\u001b[1;33m         \u001b[0mself\u001b[0m\u001b[1;33m.\u001b[0m\u001b[0m_send_output\u001b[0m\u001b[1;33m(\u001b[0m\u001b[0mmessage_body\u001b[0m\u001b[1;33m,\u001b[0m \u001b[0mencode_chunked\u001b[0m\u001b[1;33m=\u001b[0m\u001b[0mencode_chunked\u001b[0m\u001b[1;33m)\u001b[0m\u001b[1;33m\u001b[0m\u001b[1;33m\u001b[0m\u001b[0m\n\u001b[0m\u001b[0;32m   1225\u001b[0m \u001b[1;33m\u001b[0m\u001b[0m\n",
      "\u001b[1;32m~\\Anaconda3\\lib\\http\\client.py\u001b[0m in \u001b[0;36m_send_output\u001b[1;34m(self, message_body, encode_chunked)\u001b[0m\n\u001b[0;32m   1015\u001b[0m         \u001b[1;32mdel\u001b[0m \u001b[0mself\u001b[0m\u001b[1;33m.\u001b[0m\u001b[0m_buffer\u001b[0m\u001b[1;33m[\u001b[0m\u001b[1;33m:\u001b[0m\u001b[1;33m]\u001b[0m\u001b[1;33m\u001b[0m\u001b[1;33m\u001b[0m\u001b[0m\n\u001b[1;32m-> 1016\u001b[1;33m         \u001b[0mself\u001b[0m\u001b[1;33m.\u001b[0m\u001b[0msend\u001b[0m\u001b[1;33m(\u001b[0m\u001b[0mmsg\u001b[0m\u001b[1;33m)\u001b[0m\u001b[1;33m\u001b[0m\u001b[1;33m\u001b[0m\u001b[0m\n\u001b[0m\u001b[0;32m   1017\u001b[0m \u001b[1;33m\u001b[0m\u001b[0m\n",
      "\u001b[1;32m~\\Anaconda3\\lib\\http\\client.py\u001b[0m in \u001b[0;36msend\u001b[1;34m(self, data)\u001b[0m\n\u001b[0;32m    955\u001b[0m             \u001b[1;32mif\u001b[0m \u001b[0mself\u001b[0m\u001b[1;33m.\u001b[0m\u001b[0mauto_open\u001b[0m\u001b[1;33m:\u001b[0m\u001b[1;33m\u001b[0m\u001b[1;33m\u001b[0m\u001b[0m\n\u001b[1;32m--> 956\u001b[1;33m                 \u001b[0mself\u001b[0m\u001b[1;33m.\u001b[0m\u001b[0mconnect\u001b[0m\u001b[1;33m(\u001b[0m\u001b[1;33m)\u001b[0m\u001b[1;33m\u001b[0m\u001b[1;33m\u001b[0m\u001b[0m\n\u001b[0m\u001b[0;32m    957\u001b[0m             \u001b[1;32melse\u001b[0m\u001b[1;33m:\u001b[0m\u001b[1;33m\u001b[0m\u001b[1;33m\u001b[0m\u001b[0m\n",
      "\u001b[1;32m~\\Anaconda3\\lib\\http\\client.py\u001b[0m in \u001b[0;36mconnect\u001b[1;34m(self)\u001b[0m\n\u001b[0;32m    927\u001b[0m         self.sock = self._create_connection(\n\u001b[1;32m--> 928\u001b[1;33m             (self.host,self.port), self.timeout, self.source_address)\n\u001b[0m\u001b[0;32m    929\u001b[0m         \u001b[0mself\u001b[0m\u001b[1;33m.\u001b[0m\u001b[0msock\u001b[0m\u001b[1;33m.\u001b[0m\u001b[0msetsockopt\u001b[0m\u001b[1;33m(\u001b[0m\u001b[0msocket\u001b[0m\u001b[1;33m.\u001b[0m\u001b[0mIPPROTO_TCP\u001b[0m\u001b[1;33m,\u001b[0m \u001b[0msocket\u001b[0m\u001b[1;33m.\u001b[0m\u001b[0mTCP_NODELAY\u001b[0m\u001b[1;33m,\u001b[0m \u001b[1;36m1\u001b[0m\u001b[1;33m)\u001b[0m\u001b[1;33m\u001b[0m\u001b[1;33m\u001b[0m\u001b[0m\n",
      "\u001b[1;32m~\\Anaconda3\\lib\\socket.py\u001b[0m in \u001b[0;36mcreate_connection\u001b[1;34m(address, timeout, source_address)\u001b[0m\n\u001b[0;32m    726\u001b[0m     \u001b[1;32mif\u001b[0m \u001b[0merr\u001b[0m \u001b[1;32mis\u001b[0m \u001b[1;32mnot\u001b[0m \u001b[1;32mNone\u001b[0m\u001b[1;33m:\u001b[0m\u001b[1;33m\u001b[0m\u001b[1;33m\u001b[0m\u001b[0m\n\u001b[1;32m--> 727\u001b[1;33m         \u001b[1;32mraise\u001b[0m \u001b[0merr\u001b[0m\u001b[1;33m\u001b[0m\u001b[1;33m\u001b[0m\u001b[0m\n\u001b[0m\u001b[0;32m    728\u001b[0m     \u001b[1;32melse\u001b[0m\u001b[1;33m:\u001b[0m\u001b[1;33m\u001b[0m\u001b[1;33m\u001b[0m\u001b[0m\n",
      "\u001b[1;32m~\\Anaconda3\\lib\\socket.py\u001b[0m in \u001b[0;36mcreate_connection\u001b[1;34m(address, timeout, source_address)\u001b[0m\n\u001b[0;32m    715\u001b[0m                 \u001b[0msock\u001b[0m\u001b[1;33m.\u001b[0m\u001b[0mbind\u001b[0m\u001b[1;33m(\u001b[0m\u001b[0msource_address\u001b[0m\u001b[1;33m)\u001b[0m\u001b[1;33m\u001b[0m\u001b[1;33m\u001b[0m\u001b[0m\n\u001b[1;32m--> 716\u001b[1;33m             \u001b[0msock\u001b[0m\u001b[1;33m.\u001b[0m\u001b[0mconnect\u001b[0m\u001b[1;33m(\u001b[0m\u001b[0msa\u001b[0m\u001b[1;33m)\u001b[0m\u001b[1;33m\u001b[0m\u001b[1;33m\u001b[0m\u001b[0m\n\u001b[0m\u001b[0;32m    717\u001b[0m             \u001b[1;31m# Break explicitly a reference cycle\u001b[0m\u001b[1;33m\u001b[0m\u001b[1;33m\u001b[0m\u001b[1;33m\u001b[0m\u001b[0m\n",
      "\u001b[1;31mTimeoutError\u001b[0m: [WinError 10060] Попытка установить соединение была безуспешной, т.к. от другого компьютера за требуемое время не получен нужный отклик, или было разорвано уже установленное соединение из-за неверного отклика уже подключенного компьютера",
      "\nDuring handling of the above exception, another exception occurred:\n",
      "\u001b[1;31mURLError\u001b[0m                                  Traceback (most recent call last)",
      "\u001b[1;32m<ipython-input-12-4610ea87e30e>\u001b[0m in \u001b[0;36m<module>\u001b[1;34m\u001b[0m\n\u001b[0;32m      1\u001b[0m \u001b[1;32mfor\u001b[0m \u001b[0mcp\u001b[0m \u001b[1;32min\u001b[0m \u001b[0mnp\u001b[0m\u001b[1;33m.\u001b[0m\u001b[0marange\u001b[0m\u001b[1;33m(\u001b[0m\u001b[1;36m1189\u001b[0m\u001b[1;33m,\u001b[0m\u001b[0mint\u001b[0m\u001b[1;33m(\u001b[0m\u001b[0mlastpage3\u001b[0m\u001b[1;33m)\u001b[0m\u001b[1;33m+\u001b[0m\u001b[1;36m1\u001b[0m\u001b[1;33m)\u001b[0m\u001b[1;33m:\u001b[0m\u001b[1;33m\u001b[0m\u001b[1;33m\u001b[0m\u001b[0m\n\u001b[0;32m      2\u001b[0m     \u001b[0murl\u001b[0m \u001b[1;33m=\u001b[0m \u001b[1;34m\"http://zpp.rospotrebnadzor.ru/Forum/Appeals/AjaxindexList?page=\"\u001b[0m \u001b[1;33m+\u001b[0m \u001b[0mstr\u001b[0m\u001b[1;33m(\u001b[0m\u001b[0mcp\u001b[0m\u001b[1;33m)\u001b[0m \u001b[1;33m+\u001b[0m \u001b[1;34m\"&searchtext=&categories=%5B%5D\"\u001b[0m\u001b[1;33m\u001b[0m\u001b[1;33m\u001b[0m\u001b[0m\n\u001b[1;32m----> 3\u001b[1;33m     \u001b[0mhtml\u001b[0m \u001b[1;33m=\u001b[0m \u001b[0murlopen\u001b[0m\u001b[1;33m(\u001b[0m\u001b[0murl\u001b[0m\u001b[1;33m)\u001b[0m\u001b[1;33m\u001b[0m\u001b[1;33m\u001b[0m\u001b[0m\n\u001b[0m\u001b[0;32m      4\u001b[0m     \u001b[0msoup\u001b[0m \u001b[1;33m=\u001b[0m \u001b[0mBeautifulSoup\u001b[0m\u001b[1;33m(\u001b[0m\u001b[0mhtml\u001b[0m\u001b[1;33m,\u001b[0m \u001b[1;34m'html'\u001b[0m\u001b[1;33m)\u001b[0m\u001b[1;33m\u001b[0m\u001b[1;33m\u001b[0m\u001b[0m\n\u001b[0;32m      5\u001b[0m     \u001b[0mlinks\u001b[0m\u001b[1;33m.\u001b[0m\u001b[0mappend\u001b[0m\u001b[1;33m(\u001b[0m\u001b[1;33m[\u001b[0m\u001b[0mi\u001b[0m\u001b[1;33m.\u001b[0m\u001b[0mget\u001b[0m\u001b[1;33m(\u001b[0m\u001b[1;34m'href'\u001b[0m\u001b[1;33m)\u001b[0m \u001b[1;32mfor\u001b[0m \u001b[0mi\u001b[0m \u001b[1;32min\u001b[0m \u001b[0msoup\u001b[0m\u001b[1;33m.\u001b[0m\u001b[0mfind_all\u001b[0m\u001b[1;33m(\u001b[0m\u001b[0mclass_\u001b[0m\u001b[1;33m=\u001b[0m\u001b[1;34m'appeal-title-link'\u001b[0m\u001b[1;33m)\u001b[0m\u001b[1;33m]\u001b[0m\u001b[1;33m)\u001b[0m\u001b[1;33m\u001b[0m\u001b[1;33m\u001b[0m\u001b[0m\n",
      "\u001b[1;32m~\\Anaconda3\\lib\\urllib\\request.py\u001b[0m in \u001b[0;36murlopen\u001b[1;34m(url, data, timeout, cafile, capath, cadefault, context)\u001b[0m\n\u001b[0;32m    220\u001b[0m     \u001b[1;32melse\u001b[0m\u001b[1;33m:\u001b[0m\u001b[1;33m\u001b[0m\u001b[1;33m\u001b[0m\u001b[0m\n\u001b[0;32m    221\u001b[0m         \u001b[0mopener\u001b[0m \u001b[1;33m=\u001b[0m \u001b[0m_opener\u001b[0m\u001b[1;33m\u001b[0m\u001b[1;33m\u001b[0m\u001b[0m\n\u001b[1;32m--> 222\u001b[1;33m     \u001b[1;32mreturn\u001b[0m \u001b[0mopener\u001b[0m\u001b[1;33m.\u001b[0m\u001b[0mopen\u001b[0m\u001b[1;33m(\u001b[0m\u001b[0murl\u001b[0m\u001b[1;33m,\u001b[0m \u001b[0mdata\u001b[0m\u001b[1;33m,\u001b[0m \u001b[0mtimeout\u001b[0m\u001b[1;33m)\u001b[0m\u001b[1;33m\u001b[0m\u001b[1;33m\u001b[0m\u001b[0m\n\u001b[0m\u001b[0;32m    223\u001b[0m \u001b[1;33m\u001b[0m\u001b[0m\n\u001b[0;32m    224\u001b[0m \u001b[1;32mdef\u001b[0m \u001b[0minstall_opener\u001b[0m\u001b[1;33m(\u001b[0m\u001b[0mopener\u001b[0m\u001b[1;33m)\u001b[0m\u001b[1;33m:\u001b[0m\u001b[1;33m\u001b[0m\u001b[1;33m\u001b[0m\u001b[0m\n",
      "\u001b[1;32m~\\Anaconda3\\lib\\urllib\\request.py\u001b[0m in \u001b[0;36mopen\u001b[1;34m(self, fullurl, data, timeout)\u001b[0m\n\u001b[0;32m    523\u001b[0m             \u001b[0mreq\u001b[0m \u001b[1;33m=\u001b[0m \u001b[0mmeth\u001b[0m\u001b[1;33m(\u001b[0m\u001b[0mreq\u001b[0m\u001b[1;33m)\u001b[0m\u001b[1;33m\u001b[0m\u001b[1;33m\u001b[0m\u001b[0m\n\u001b[0;32m    524\u001b[0m \u001b[1;33m\u001b[0m\u001b[0m\n\u001b[1;32m--> 525\u001b[1;33m         \u001b[0mresponse\u001b[0m \u001b[1;33m=\u001b[0m \u001b[0mself\u001b[0m\u001b[1;33m.\u001b[0m\u001b[0m_open\u001b[0m\u001b[1;33m(\u001b[0m\u001b[0mreq\u001b[0m\u001b[1;33m,\u001b[0m \u001b[0mdata\u001b[0m\u001b[1;33m)\u001b[0m\u001b[1;33m\u001b[0m\u001b[1;33m\u001b[0m\u001b[0m\n\u001b[0m\u001b[0;32m    526\u001b[0m \u001b[1;33m\u001b[0m\u001b[0m\n\u001b[0;32m    527\u001b[0m         \u001b[1;31m# post-process response\u001b[0m\u001b[1;33m\u001b[0m\u001b[1;33m\u001b[0m\u001b[1;33m\u001b[0m\u001b[0m\n",
      "\u001b[1;32m~\\Anaconda3\\lib\\urllib\\request.py\u001b[0m in \u001b[0;36m_open\u001b[1;34m(self, req, data)\u001b[0m\n\u001b[0;32m    541\u001b[0m         \u001b[0mprotocol\u001b[0m \u001b[1;33m=\u001b[0m \u001b[0mreq\u001b[0m\u001b[1;33m.\u001b[0m\u001b[0mtype\u001b[0m\u001b[1;33m\u001b[0m\u001b[1;33m\u001b[0m\u001b[0m\n\u001b[0;32m    542\u001b[0m         result = self._call_chain(self.handle_open, protocol, protocol +\n\u001b[1;32m--> 543\u001b[1;33m                                   '_open', req)\n\u001b[0m\u001b[0;32m    544\u001b[0m         \u001b[1;32mif\u001b[0m \u001b[0mresult\u001b[0m\u001b[1;33m:\u001b[0m\u001b[1;33m\u001b[0m\u001b[1;33m\u001b[0m\u001b[0m\n\u001b[0;32m    545\u001b[0m             \u001b[1;32mreturn\u001b[0m \u001b[0mresult\u001b[0m\u001b[1;33m\u001b[0m\u001b[1;33m\u001b[0m\u001b[0m\n",
      "\u001b[1;32m~\\Anaconda3\\lib\\urllib\\request.py\u001b[0m in \u001b[0;36m_call_chain\u001b[1;34m(self, chain, kind, meth_name, *args)\u001b[0m\n\u001b[0;32m    501\u001b[0m         \u001b[1;32mfor\u001b[0m \u001b[0mhandler\u001b[0m \u001b[1;32min\u001b[0m \u001b[0mhandlers\u001b[0m\u001b[1;33m:\u001b[0m\u001b[1;33m\u001b[0m\u001b[1;33m\u001b[0m\u001b[0m\n\u001b[0;32m    502\u001b[0m             \u001b[0mfunc\u001b[0m \u001b[1;33m=\u001b[0m \u001b[0mgetattr\u001b[0m\u001b[1;33m(\u001b[0m\u001b[0mhandler\u001b[0m\u001b[1;33m,\u001b[0m \u001b[0mmeth_name\u001b[0m\u001b[1;33m)\u001b[0m\u001b[1;33m\u001b[0m\u001b[1;33m\u001b[0m\u001b[0m\n\u001b[1;32m--> 503\u001b[1;33m             \u001b[0mresult\u001b[0m \u001b[1;33m=\u001b[0m \u001b[0mfunc\u001b[0m\u001b[1;33m(\u001b[0m\u001b[1;33m*\u001b[0m\u001b[0margs\u001b[0m\u001b[1;33m)\u001b[0m\u001b[1;33m\u001b[0m\u001b[1;33m\u001b[0m\u001b[0m\n\u001b[0m\u001b[0;32m    504\u001b[0m             \u001b[1;32mif\u001b[0m \u001b[0mresult\u001b[0m \u001b[1;32mis\u001b[0m \u001b[1;32mnot\u001b[0m \u001b[1;32mNone\u001b[0m\u001b[1;33m:\u001b[0m\u001b[1;33m\u001b[0m\u001b[1;33m\u001b[0m\u001b[0m\n\u001b[0;32m    505\u001b[0m                 \u001b[1;32mreturn\u001b[0m \u001b[0mresult\u001b[0m\u001b[1;33m\u001b[0m\u001b[1;33m\u001b[0m\u001b[0m\n",
      "\u001b[1;32m~\\Anaconda3\\lib\\urllib\\request.py\u001b[0m in \u001b[0;36mhttp_open\u001b[1;34m(self, req)\u001b[0m\n\u001b[0;32m   1343\u001b[0m \u001b[1;33m\u001b[0m\u001b[0m\n\u001b[0;32m   1344\u001b[0m     \u001b[1;32mdef\u001b[0m \u001b[0mhttp_open\u001b[0m\u001b[1;33m(\u001b[0m\u001b[0mself\u001b[0m\u001b[1;33m,\u001b[0m \u001b[0mreq\u001b[0m\u001b[1;33m)\u001b[0m\u001b[1;33m:\u001b[0m\u001b[1;33m\u001b[0m\u001b[1;33m\u001b[0m\u001b[0m\n\u001b[1;32m-> 1345\u001b[1;33m         \u001b[1;32mreturn\u001b[0m \u001b[0mself\u001b[0m\u001b[1;33m.\u001b[0m\u001b[0mdo_open\u001b[0m\u001b[1;33m(\u001b[0m\u001b[0mhttp\u001b[0m\u001b[1;33m.\u001b[0m\u001b[0mclient\u001b[0m\u001b[1;33m.\u001b[0m\u001b[0mHTTPConnection\u001b[0m\u001b[1;33m,\u001b[0m \u001b[0mreq\u001b[0m\u001b[1;33m)\u001b[0m\u001b[1;33m\u001b[0m\u001b[1;33m\u001b[0m\u001b[0m\n\u001b[0m\u001b[0;32m   1346\u001b[0m \u001b[1;33m\u001b[0m\u001b[0m\n\u001b[0;32m   1347\u001b[0m     \u001b[0mhttp_request\u001b[0m \u001b[1;33m=\u001b[0m \u001b[0mAbstractHTTPHandler\u001b[0m\u001b[1;33m.\u001b[0m\u001b[0mdo_request_\u001b[0m\u001b[1;33m\u001b[0m\u001b[1;33m\u001b[0m\u001b[0m\n",
      "\u001b[1;32m~\\Anaconda3\\lib\\urllib\\request.py\u001b[0m in \u001b[0;36mdo_open\u001b[1;34m(self, http_class, req, **http_conn_args)\u001b[0m\n\u001b[0;32m   1317\u001b[0m                           encode_chunked=req.has_header('Transfer-encoding'))\n\u001b[0;32m   1318\u001b[0m             \u001b[1;32mexcept\u001b[0m \u001b[0mOSError\u001b[0m \u001b[1;32mas\u001b[0m \u001b[0merr\u001b[0m\u001b[1;33m:\u001b[0m \u001b[1;31m# timeout error\u001b[0m\u001b[1;33m\u001b[0m\u001b[1;33m\u001b[0m\u001b[0m\n\u001b[1;32m-> 1319\u001b[1;33m                 \u001b[1;32mraise\u001b[0m \u001b[0mURLError\u001b[0m\u001b[1;33m(\u001b[0m\u001b[0merr\u001b[0m\u001b[1;33m)\u001b[0m\u001b[1;33m\u001b[0m\u001b[1;33m\u001b[0m\u001b[0m\n\u001b[0m\u001b[0;32m   1320\u001b[0m             \u001b[0mr\u001b[0m \u001b[1;33m=\u001b[0m \u001b[0mh\u001b[0m\u001b[1;33m.\u001b[0m\u001b[0mgetresponse\u001b[0m\u001b[1;33m(\u001b[0m\u001b[1;33m)\u001b[0m\u001b[1;33m\u001b[0m\u001b[1;33m\u001b[0m\u001b[0m\n\u001b[0;32m   1321\u001b[0m         \u001b[1;32mexcept\u001b[0m\u001b[1;33m:\u001b[0m\u001b[1;33m\u001b[0m\u001b[1;33m\u001b[0m\u001b[0m\n",
      "\u001b[1;31mURLError\u001b[0m: <urlopen error [WinError 10060] Попытка установить соединение была безуспешной, т.к. от другого компьютера за требуемое время не получен нужный отклик, или было разорвано уже установленное соединение из-за неверного отклика уже подключенного компьютера>"
     ]
    }
   ],
   "source": [
    "for cp in np.arange(1189,int(lastpage3)+1):\n",
    "    url = \"http://zpp.rospotrebnadzor.ru/Forum/Appeals/AjaxindexList?page=\" + str(cp) + \"&searchtext=&categories=%5B%5D\"\n",
    "    html = urlopen(url)\n",
    "    soup = BeautifulSoup(html, 'html')\n",
    "    links.append([i.get('href') for i in soup.find_all(class_='appeal-title-link')])\n",
    "    if cp%100==0:\n",
    "        print(cp)\n",
    "    time.sleep(3)\n",
    "print (\"Done!\")"
   ]
  },
  {
   "cell_type": "code",
   "execution_count": 41,
   "metadata": {},
   "outputs": [
    {
     "ename": "KeyboardInterrupt",
     "evalue": "",
     "output_type": "error",
     "traceback": [
      "\u001b[1;31m---------------------------------------------------------------------------\u001b[0m",
      "\u001b[1;31mKeyboardInterrupt\u001b[0m                         Traceback (most recent call last)",
      "\u001b[1;32m<ipython-input-41-8d2013f63798>\u001b[0m in \u001b[0;36m<module>\u001b[1;34m\u001b[0m\n\u001b[0;32m      6\u001b[0m     \u001b[1;32mif\u001b[0m \u001b[0mcp\u001b[0m\u001b[1;33m%\u001b[0m\u001b[1;36m100\u001b[0m\u001b[1;33m==\u001b[0m\u001b[1;36m0\u001b[0m\u001b[1;33m:\u001b[0m\u001b[1;33m\u001b[0m\u001b[1;33m\u001b[0m\u001b[0m\n\u001b[0;32m      7\u001b[0m         \u001b[0mprint\u001b[0m\u001b[1;33m(\u001b[0m\u001b[0mcp\u001b[0m\u001b[1;33m)\u001b[0m\u001b[1;33m\u001b[0m\u001b[1;33m\u001b[0m\u001b[0m\n\u001b[1;32m----> 8\u001b[1;33m     \u001b[0mtime\u001b[0m\u001b[1;33m.\u001b[0m\u001b[0msleep\u001b[0m\u001b[1;33m(\u001b[0m\u001b[1;36m3\u001b[0m\u001b[1;33m)\u001b[0m\u001b[1;33m\u001b[0m\u001b[1;33m\u001b[0m\u001b[0m\n\u001b[0m\u001b[0;32m      9\u001b[0m \u001b[0mprint\u001b[0m \u001b[1;33m(\u001b[0m\u001b[1;34m\"Done!\"\u001b[0m\u001b[1;33m)\u001b[0m\u001b[1;33m\u001b[0m\u001b[1;33m\u001b[0m\u001b[0m\n",
      "\u001b[1;31mKeyboardInterrupt\u001b[0m: "
     ]
    }
   ],
   "source": [
    "for cp in np.arange(1,int(lastpage3)+1):\n",
    "    url = \"http://zpp.rospotrebnadzor.ru/Forum/Appeals/AjaxindexList?page=\" + str(cp) + \"&searchtext=&categories=%5B%5D\"\n",
    "    html = urlopen(url)\n",
    "    soup = BeautifulSoup(html, 'html')\n",
    "    title.append([])\n",
    "    if cp%100==0:\n",
    "        print(cp)\n",
    "    time.sleep(3)\n",
    "print (\"Done!\")"
   ]
  },
  {
   "cell_type": "code",
   "execution_count": null,
   "metadata": {},
   "outputs": [],
   "source": [
    "for cp in np.arange(1994,int(lastpage3)+1):\n",
    "    url = \"http://zpp.rospotrebnadzor.ru/Forum/Appeals/AjaxindexList?page=\" + str(cp) + \"&searchtext=&categories=%5B%5D\"\n",
    "    html = urlopen(url)\n",
    "    soup = BeautifulSoup(html, 'html')\n",
    "    title.append([i.text for i in soup.find_all(class_='custom-underline')])\n",
    "    if cp%100==0:\n",
    "        print(cp)\n",
    "    time.sleep(3)\n",
    "print (\"Done!\")"
   ]
  },
  {
   "cell_type": "code",
   "execution_count": 15,
   "metadata": {},
   "outputs": [],
   "source": [
    "linksflat = [y for x in links for y in x]"
   ]
  },
  {
   "cell_type": "code",
   "execution_count": 17,
   "metadata": {},
   "outputs": [
    {
     "data": {
      "text/plain": [
       "10184"
      ]
     },
     "execution_count": 17,
     "metadata": {},
     "output_type": "execute_result"
    }
   ],
   "source": [
    "len(linksflat)"
   ]
  },
  {
   "cell_type": "code",
   "execution_count": 21,
   "metadata": {},
   "outputs": [
    {
     "data": {
      "text/plain": [
       "['/Forum/Appeals/Details/67',\n",
       " '/Forum/Appeals/Details/66',\n",
       " '/Forum/Appeals/Details/65',\n",
       " '/Forum/Appeals/Details/64',\n",
       " '/Forum/Appeals/Details/62',\n",
       " '/Forum/Appeals/Details/61',\n",
       " '/Forum/Appeals/Details/60',\n",
       " '/Forum/Appeals/Details/59',\n",
       " '/Forum/Appeals/Details/58']"
      ]
     },
     "execution_count": 21,
     "metadata": {},
     "output_type": "execute_result"
    }
   ],
   "source": [
    "linksflat[-10:-1]"
   ]
  },
  {
   "cell_type": "code",
   "execution_count": 22,
   "metadata": {},
   "outputs": [
    {
     "data": {
      "text/plain": [
       "['/Forum/Appeals/Details/12851',\n",
       " '/Forum/Appeals/Details/12828',\n",
       " '/Forum/Appeals/Details/12821',\n",
       " '/Forum/Appeals/Details/12815',\n",
       " '/Forum/Appeals/Details/12797',\n",
       " '/Forum/Appeals/Details/12796',\n",
       " '/Forum/Appeals/Details/12788',\n",
       " '/Forum/Appeals/Details/12786',\n",
       " '/Forum/Appeals/Details/12784',\n",
       " '/Forum/Appeals/Details/12781']"
      ]
     },
     "execution_count": 22,
     "metadata": {},
     "output_type": "execute_result"
    }
   ],
   "source": [
    "linksflat[0:10]"
   ]
  },
  {
   "cell_type": "code",
   "execution_count": 28,
   "metadata": {},
   "outputs": [
    {
     "data": {
      "text/plain": [
       "10179"
      ]
     },
     "execution_count": 28,
     "metadata": {},
     "output_type": "execute_result"
    }
   ],
   "source": [
    "#Are all of the urls unique?\n",
    "len(linksflat) == len(set(linksflat))\n",
    "len(linksflat)\n",
    "len(set(linksflat))"
   ]
  },
  {
   "cell_type": "code",
   "execution_count": 32,
   "metadata": {},
   "outputs": [],
   "source": [
    "linksflat = set(linksflat)\n",
    "linksflat = list(linksflat)"
   ]
  },
  {
   "cell_type": "code",
   "execution_count": 38,
   "metadata": {},
   "outputs": [],
   "source": [
    "urlarticle = 'http://zpp.rospotrebnadzor.ru' + linksflat[2]\n",
    "htmlarticle = urlopen(urlarticle)\n",
    "souparticle = BeautifulSoup(htmlarticle, 'html')"
   ]
  },
  {
   "cell_type": "code",
   "execution_count": 39,
   "metadata": {},
   "outputs": [
    {
     "data": {
      "text/plain": [
       "<!DOCTYPE html>\n",
       "<html>\n",
       "<head>\n",
       "<meta content=\"text/html; charset=utf-8\" http-equiv=\"Content-Type\"/>\n",
       "<meta charset=\"utf-8\"/>\n",
       "<meta content=\"width=device-width, initial-scale=1.0\" name=\"viewport\"/>\n",
       "<meta content=\"IE=edge\" http-equiv=\"X-UA-Compatible\"/>\n",
       "<meta name=\"description\"/>\n",
       "<meta name=\"keywords\"/>\n",
       "<meta content=\"IE=edge\" http-equiv=\"X-UA-Compatible\"/>\n",
       "<meta content=\"lH6Z9PWIRq3180Y6\" name=\"sputnik-verification\"/>\n",
       "<title>Собака воет и лает целый день - Виртуальная приемная - Роспотребнадзор</title>\n",
       "<link href=\"/fonts/firasans/firasans.css\" rel=\"stylesheet\"/>\n",
       "<!--[if lt IE 9]>\n",
       "    <script src=\"http://ie7-js.googlecode.com/svn/version/2.1(beta4)/IE9.js\"></script>\n",
       "    <![endif]-->\n",
       "<link href=\"/Skin/rpn2/font/font.css\" rel=\"stylesheet\"/>\n",
       "<link href=\"/Content/font-awesome.min.css\" rel=\"stylesheet\"/>\n",
       "<link href=\"/Content/css?v=NQGD633p8LVb3M5_IWEqJHuZWbhsiDqS1PMl-WIDzL01\" rel=\"stylesheet\"/>\n",
       "<script src=\"/bundles/modernizr?v=inCVuEFe6J4Q07A0AcRsbJic_UE5MwpRMNGcOtk94TE1\"></script>\n",
       "<link href=\"/Skin/rpn2/css/Main.css?v2\" rel=\"stylesheet\"/>\n",
       "<script src=\"/bundles/jquery?v=gkWyJthHPtwkFjvHuNinBjchIfwLwc_KbE-H26J2kAI1\"></script>\n",
       "<script src=\"/Scripts/portal.js\"></script>\n",
       "<script src=\"/Skin/rpn2/js/design.js\"></script>\n",
       "</head>\n",
       "<body>\n",
       "<div id=\"mainmenu_container_short\">\n",
       "<nav class=\"navbar navbar-default\">\n",
       "<div class=\"navbar-header\">\n",
       "<button aria-expanded=\"false\" class=\"navbar-toggle collapsed\" data-target=\"#mainmenu_container_short_menu\" data-toggle=\"collapse\" type=\"button\">\n",
       "<span class=\"sr-only\">Показать</span>\n",
       "<span class=\"icon-bar\"></span>\n",
       "<span class=\"icon-bar\"></span>\n",
       "<span class=\"icon-bar\"></span>\n",
       "</button>\n",
       "<a class=\"navbar-brand\" href=\"/\">\n",
       "                    Роспотребнадзор<br/>\n",
       "<span class=\"description\">Государственный информационный ресурс в сфере защиты прав потребителей</span>\n",
       "<span class=\"description600\"><abbr title=\"Государственный информационный ресурс в сфере защиты прав потребителей\">ГИС ЗПП</abbr></span>\n",
       "</a>\n",
       "</div>\n",
       "<div class=\"collapse navbar-collapse\" id=\"mainmenu_container_short_menu\">\n",
       "<ul class=\"nav navbar-nav\"></ul>\n",
       "</div>\n",
       "</nav>\n",
       "</div>\n",
       "<div id=\"mainmenu_container\">\n",
       "<table class=\"mainmenu_block\">\n",
       "<tr>\n",
       "<td style=\"padding-right:0\">\n",
       "<a href=\"/\" id=\"logo-link2root\">\n",
       "<div><img class=\"logo\" src=\"/Skin/rpn2/assets/rpn-logo.png\"/></div>\n",
       "</a>\n",
       "</td>\n",
       "</tr>\n",
       "<tr>\n",
       "<td height=\"100%\">\n",
       "<div class=\"position position_mainmenu\">\n",
       "<div class=\"module moduletype_menu\">\n",
       "<div class=\"module_body\">\n",
       "<div>\n",
       "<ul>\n",
       "<li class=\"mmi-consumer level1\">\n",
       "<a href=\"/handbook/actual\"><span class=\"text\">Справочник потребителя</span></a>\n",
       "</li>\n",
       "<li class=\"level1\">\n",
       "<a href=\"/advices\"><span class=\"text\">Советы по здоровому питанию</span></a>\n",
       "</li>\n",
       "<li class=\"mmi-npa level1\">\n",
       "<a href=\"/npa/global\"><span class=\"text\">Нормативные правовые акты</span></a>\n",
       "</li>\n",
       "<li class=\"mmi-info level1\">\n",
       "<a href=\"/info/doclad\"><span class=\"text\">Информационно-аналитические материалы</span></a>\n",
       "</li>\n",
       "<li class=\"mmi-organizations level1\">\n",
       "<a href=\"/organizations/gos\"><span class=\"text\">Органы и организации в сфере защиты прав потребителей</span></a>\n",
       "</li>\n",
       "<li class=\"mmi-verifications level1\">\n",
       "<a href=\"/verifications\"><span class=\"text\">Результаты проверок</span></a>\n",
       "</li>\n",
       "<li class=\"mmi-badproducts level1\">\n",
       "<a href=\"/badproducts/violations\"><span class=\"text\">Продукция, не соответствующая обязательным требованиям</span></a>\n",
       "</li>\n",
       "<li class=\"mmi-adjudications level1\">\n",
       "<a href=\"/adjudications/federal\"><span class=\"text\">Судебная практика</span></a>\n",
       "</li>\n",
       "<li class=\"mmi-news level1\">\n",
       "<a href=\"/news/federal\"><span class=\"text\">Новости</span></a>\n",
       "</li>\n",
       "<li class=\"level1\">\n",
       "<a href=\"/staff\"><span class=\"text\">Для сотрудников</span></a>\n",
       "</li>\n",
       "</ul>\n",
       "</div>\n",
       "</div>\n",
       "</div>\n",
       "</div>\n",
       "</td>\n",
       "</tr>\n",
       "<tr>\n",
       "<td>\n",
       "<div class=\"search-form\" id=\"search-form\">\n",
       "<form action=\"/Search/Index\" method=\"get\">\n",
       "<div class=\"form-group input-group\">\n",
       "<input autocomplete=\"off\" class=\"form-control search-button\" id=\"autocompleteSearch\" name=\"SearchQuery\" placeholder=\"Поиск\" type=\"text\"/>\n",
       "<span class=\"input-group-btn\">\n",
       "<button class=\"btn search-button-icon\" type=\"submit\">\n",
       "<i class=\"fa fa-search\"></i>\n",
       "</button>\n",
       "</span>\n",
       "</div>\n",
       "</form>\n",
       "</div>\n",
       "</td>\n",
       "</tr>\n",
       "<tr>\n",
       "<td>\n",
       "<div class=\"mainmenu_optmenu\">\n",
       "<ul>\n",
       "<li><a href=\"/Show/Special\">Версия для слабовидящих</a></li>\n",
       "<li><a href=\"/Forum/Appeals\">Виртуальная приемная</a></li>\n",
       "</ul>\n",
       "</div>\n",
       "</td>\n",
       "</tr>\n",
       "<tr>\n",
       "<td>\n",
       "<div class=\"mainmenu_copyright\">\n",
       "                        2019<span class=\"copy\">©</span>Роспотребнадзор\n",
       "                    </div>\n",
       "</td>\n",
       "</tr>\n",
       "</table>\n",
       "</div>\n",
       "<div id=\"main_container\">\n",
       "<div>\n",
       "<div id=\"mainbody\">\n",
       "<link href=\"/Skin/rpn2/css/forum/forum-styles.css\" rel=\"stylesheet\" type=\"text/css\"/>\n",
       "<link href=\"/Skin/rpn2/css/formcomponents/core.css\" rel=\"stylesheet\" type=\"text/css\"/>\n",
       "<link href=\"/Skin/rpn2/css/formcomponents/components.css\" rel=\"stylesheet\" type=\"text/css\"/>\n",
       "<link href=\"/Skin/rpn2/css/formcomponents/color.css\" rel=\"stylesheet\" type=\"text/css\"/>\n",
       "<link href=\"/Scripts/magnific-popup/magnific-popup.css\" rel=\"stylesheet\" type=\"text/css\"/>\n",
       "<script src=\"/Scripts/jquery-2.1.4.min.js\" type=\"text/javascript\"></script>\n",
       "<script src=\"/Scripts/jquery.validate.js\" type=\"text/javascript\"></script>\n",
       "<script src=\"/Scripts/magnific-popup/jquery.magnific-popup.min.js\" type=\"text/javascript\"></script>\n",
       "<div class=\"row\">\n",
       "<div class=\"col-md-9\">\n",
       "<h2>Собака воет и лает целый день</h2>\n",
       "</div>\n",
       "</div>\n",
       "<div class=\"row vm-20\">\n",
       "<div class=\"col-md-9\">\n",
       "<div class=\"appeal-details-container\">\n",
       "<p class=\"appeal-details-auth-name\">Елена</p>\n",
       "<div class=\"row\">\n",
       "<div class=\"col-md-12\">\n",
       "<p class=\"appeal-details-message\">Здравствуйте! Подскажите, что можно сделать? Собака воет и лает систематически в квартире, с 8.00 до 23.00, чем мешает спокойному нахождению в квартире, дети не хотят спать, даже включенный телевизор не заглушает вой, хозяйка на контакт не идет. У нас 17-этажный дом, по 6 квартир на этаже, половина подъезда страдает от бесконечного лая. Как заставить хозяйку убрать собаку?</p>\n",
       "</div>\n",
       "<div class=\"col-md-12\">\n",
       "<p class=\"appeal-element-bottom\"><span> Опубликовано: </span> 16.01.2018 в 21:51</p>\n",
       "</div>\n",
       "</div>\n",
       "<div class=\"row\">\n",
       "<div class=\"col-md-12\">\n",
       "<hr class=\"appeal-comments-divider\"/>\n",
       "<p class=\"appeal-comments-title\">Ответы</p>\n",
       "<div class=\"appeal-comments-container\">\n",
       "<p class=\"appeal-comments-message\">Уважаемая Елена! По данному вопросу рекомендуем Вам обратиться в отдел полиции по месту жительства к участковому уполномоченному, который выполняет функции по охране порядка на вверенной ему территории.</p>\n",
       "<p class=\"appeal-comments-date\">17.01.2018 в 10:56</p>\n",
       "</div>\n",
       "</div> <div class=\"col-md-12\">\n",
       "</div>\n",
       "</div>\n",
       "</div>\n",
       "</div>\n",
       "</div>\n",
       "<script type=\"text/javascript\">\n",
       "\n",
       "    $(\".validate-form\").validate();\n",
       "    $('.image-popup-no-margins').magnificPopup({\n",
       "        type: 'image',\n",
       "        closeOnContentClick: true,\n",
       "        closeBtnInside: false,\n",
       "        fixedContentPos: true,\n",
       "        mainClass: 'mfp-no-margins mfp-with-zoom',\n",
       "        image: {\n",
       "            verticalFit: true\n",
       "        },\n",
       "        zoom: {\n",
       "            enabled: true,\n",
       "            duration: 300\n",
       "        }\n",
       "    });\n",
       "</script>\n",
       "</div>\n",
       "<footer>\n",
       "<div class=\"container-fluid\">\n",
       "<div id=\"bottom\">\n",
       "<div class=\"text-center bottom-extlinks\">\n",
       "<a href=\"http://www.kremlin.ru/\">\n",
       "<div class=\"img-container\"><img src=\"/Skin/rpn/images/footerLinks2/prezident.png\"/></div>\n",
       "<span class=\"img-description\">Президент России</span>\n",
       "</a>\n",
       "<a href=\"http://government.ru/\">\n",
       "<div class=\"img-container\"><img src=\"/Skin/rpn/images/footerLinks2/gov.png\"/></div>\n",
       "<span class=\"img-description\">Правительство России</span>\n",
       "</a>\n",
       "<a href=\"http://rospotrebnadzor.ru/\">\n",
       "<div class=\"img-container\"><img src=\"/Skin/rpn/images/footerLinks2/Rospotreb.png\"/></div>\n",
       "<span class=\"img-description\">Роспотребнадзор</span>\n",
       "</a>\n",
       "<a href=\"http://open.gov.ru/\">\n",
       "<div class=\"img-container\"><img src=\"/Skin/rpn/images/footerLinks2/open.png\"/></div>\n",
       "<span class=\"img-description\">Открытое Правительство</span>\n",
       "</a>\n",
       "<a href=\"http://www.gosuslugi.ru/\">\n",
       "<div class=\"img-container\"><img src=\"/Skin/rpn/images/footerLinks2/gosuslugi.png\"/></div>\n",
       "<span class=\"img-description\">Госуслуги</span>\n",
       "</a>\n",
       "<a href=\"http://fcgie.ru/\">\n",
       "<div class=\"img-container\"><img src=\"/Skin/rpn/images/footerLinks2/fcgie.png\"/></div>\n",
       "<span class=\"img-description\">ФБУЗ ФЦГиЭ</span>\n",
       "</a>\n",
       "</div>\n",
       "</div>\n",
       "</div>\n",
       "<div class=\"container-fluid\">\n",
       "<div id=\"copyright\">\n",
       "<div class=\"pull-left copyright-text\">\n",
       "                            Пожелания и предложения по работе портала ГИС ЗПП просим направлять на адрес <a href=\"mailto:zpp@gsen.ru\">zpp@gsen.ru</a>\n",
       "</div>\n",
       "<div class=\"pull-right counters\">\n",
       "<div class=\"position position_counters\">\n",
       "<div class=\"module moduletype_html\">\n",
       "<div class=\"module_body\">\n",
       "<div style=\"width:1px;height:1px;overflow:hidden\">\n",
       "<!--LiveInternet counter--><script type=\"text/javascript\">\n",
       "document.write(\"<a href='//www.liveinternet.ru/click' \"+\n",
       "\"target=_blank><img style=src='//counter.yadro.ru/hit?t44.6;r\"+\n",
       "escape(document.referrer)+((typeof(screen)==\"undefined\")?\"\":\n",
       "\";s\"+screen.width+\"*\"+screen.height+\"*\"+(screen.colorDepth?\n",
       "screen.colorDepth:screen.pixelDepth))+\";u\"+escape(document.URL)+\n",
       "\";h\"+escape(document.title.substring(0,80))+\";\"+Math.random()+\n",
       "\"' alt='' title='LiveInternet' \"+\n",
       "\"border='0' width='31' height='31'><\\/a>\")\n",
       "</script><!--/LiveInternet-->\n",
       "</div>\n",
       "<script>\n",
       "  (function(d, t, p) {\n",
       "  var j = d.createElement(t); j.async = true; j.type = \"text/javascript\";\n",
       "  j.src = (\"https:\" == p ? \"https:\" : \"http:\") + \"//stat.sputnik.ru/cnt.js\";\n",
       "  var s = d.getElementsByTagName(t)[0]; s.parentNode.insertBefore(j, s);\n",
       "  })(document, \"script\", document.location.protocol);\n",
       "</script>\n",
       "</div>\n",
       "</div>\n",
       "</div>\n",
       "</div>\n",
       "</div>\n",
       "</div>\n",
       "</footer>\n",
       "</div>\n",
       "</div>\n",
       "<script src=\"/bundles/bootstrap?v=OfX192nbUgK5NE8ftV4Ef6ToCtjUTli3wC5jn344bfM1\"></script>\n",
       "</body>\n",
       "</html>"
      ]
     },
     "execution_count": 39,
     "metadata": {},
     "output_type": "execute_result"
    }
   ],
   "source": [
    "souparticle"
   ]
  },
  {
   "cell_type": "code",
   "execution_count": 45,
   "metadata": {},
   "outputs": [
    {
     "name": "stdout",
     "output_type": "stream",
     "text": [
      "['Елена']\n",
      "['Здравствуйте! Подскажите, что можно сделать? Собака воет и лает систематически в квартире, с 8.00 до 23.00, чем мешает спокойному нахождению в квартире, дети не хотят спать, даже включенный телевизор не заглушает вой, хозяйка на контакт не идет. У нас 17-этажный дом, по 6 квартир на этаже, половина подъезда страдает от бесконечного лая. Как заставить хозяйку убрать собаку?']\n"
     ]
    }
   ],
   "source": [
    "namearticle = [i.text for i in souparticle.find_all(class_='appeal-details-auth-name')]\n",
    "appealtxtarticle = [i.text for i in souparticle.find_all(class_='appeal-details-message')]\n",
    "print(namearticle)\n",
    "print(appealtxtarticle)"
   ]
  },
  {
   "cell_type": "code",
   "execution_count": 46,
   "metadata": {},
   "outputs": [
    {
     "name": "stdout",
     "output_type": "stream",
     "text": [
      "[' Опубликовано:  16.01.2018 в 21:51']\n"
     ]
    }
   ],
   "source": [
    "timearticle = [i.text for i in souparticle.find_all(class_='appeal-element-bottom')]\n",
    "print(timearticle)"
   ]
  },
  {
   "cell_type": "code",
   "execution_count": 48,
   "metadata": {},
   "outputs": [
    {
     "name": "stdout",
     "output_type": "stream",
     "text": [
      "['17.01.2018 в 10:56']\n",
      "['Уважаемая Елена! По данному вопросу рекомендуем Вам обратиться в отдел полиции по месту жительства к участковому уполномоченному, который выполняет функции по охране порядка на вверенной ему территории.']\n"
     ]
    }
   ],
   "source": [
    "answertxtarticle = [i.text for i in souparticle.find_all(class_='appeal-comments-message')]\n",
    "timeanswer = [i.text for i in souparticle.find_all(class_='appeal-comments-date')]\n",
    "print(timeanswer)\n",
    "print(answertxtarticle)"
   ]
  },
  {
   "cell_type": "code",
   "execution_count": 101,
   "metadata": {},
   "outputs": [],
   "source": [
    "AuthorAppeal = []\n",
    "TextAppeal = []\n",
    "TimeAppeal = []\n",
    "TextAnswer = []\n",
    "TimeAnswer = []\n",
    "AppealID = []"
   ]
  },
  {
   "cell_type": "code",
   "execution_count": 104,
   "metadata": {},
   "outputs": [
    {
     "name": "stdout",
     "output_type": "stream",
     "text": [
      "Done!\n"
     ]
    }
   ],
   "source": [
    "for lnk in np.arange(0, len(links_second_flat)):\n",
    "    urlarticle = 'http://zpp.rospotrebnadzor.ru' + linksflat[lnk]\n",
    "    htmlarticle = urlopen(urlarticle)\n",
    "    souparticle = BeautifulSoup(htmlarticle, 'html')\n",
    "    AuthorAppeal.append([i.text for i in souparticle.find_all(class_='appeal-details-auth-name')])\n",
    "    TextAppeal.append([i.text for i in souparticle.find_all(class_='appeal-details-message')])\n",
    "    TimeAppeal.append([i.text for i in souparticle.find_all(class_='appeal-element-bottom')])\n",
    "    TextAnswer.append([i.text for i in souparticle.find_all(class_='appeal-comments-message')])\n",
    "    TimeAnswer.append([i.text for i in souparticle.find_all(class_='appeal-comments-date')])\n",
    "    AppealID.append(int(re.sub('http://zpp.rospotrebnadzor.ru/Forum/Appeals/Details/', '', urlarticle)))\n",
    "    if lnk%100==0:\n",
    "        print(lnk)\n",
    "    time.sleep(3)\n",
    "print (\"Done!\")"
   ]
  },
  {
   "cell_type": "code",
   "execution_count": 105,
   "metadata": {},
   "outputs": [
    {
     "name": "stdout",
     "output_type": "stream",
     "text": [
      "10179\n",
      "10179\n",
      "10179\n",
      "10179\n",
      "10179\n",
      "10179\n"
     ]
    }
   ],
   "source": [
    "print(len(AuthorAppeal))\n",
    "print(len(TextAppeal))\n",
    "print(len(TimeAppeal))\n",
    "print(len(TextAnswer))\n",
    "print(len(TimeAnswer))\n",
    "print(len(AppealID))"
   ]
  },
  {
   "cell_type": "code",
   "execution_count": 130,
   "metadata": {},
   "outputs": [],
   "source": [
    "#Flattening List of Lists\n",
    "AuthorAppealFlat = []\n",
    "TextAppealFlat = []\n",
    "TimeAppealFlat = []\n",
    "TextAnswerFlat = []\n",
    "TimeAnswerFlat = []\n",
    "\n",
    "\n",
    "AuthorAppealFlat = [i[0] for i in AuthorAppeal]\n",
    "TextAppealFlat = [i[0] for i in TextAppeal]\n",
    "TimeAppealFlat = [i[0] for i in TimeAppeal]\n",
    "TextAnswerFlat = [i[0] for i in TextAnswer]\n",
    "TimeAnswerFlat = [i[0] for i in TimeAnswer]"
   ]
  },
  {
   "cell_type": "code",
   "execution_count": 131,
   "metadata": {},
   "outputs": [],
   "source": [
    "EmptyTextAnswer = []\n",
    "EmptyTimeAnswer = []\n",
    "\n",
    "for i in range(0, len(TextAnswer)-1):\n",
    "    if len(TextAnswer[i]) == 0:\n",
    "        EmptyTextAnswer.append(i)\n",
    "        \n",
    "for i in range(0, len(TimeAnswer)-1):\n",
    "    if len(TimeAnswer[i]) == 0:\n",
    "        EmptyTimeAnswer.append(i)"
   ]
  },
  {
   "cell_type": "code",
   "execution_count": 132,
   "metadata": {},
   "outputs": [
    {
     "name": "stdout",
     "output_type": "stream",
     "text": [
      "[55, 63, 262, 380, 440, 476, 666, 688, 950, 1261, 1297, 1826, 2254, 2256, 2315, 2444, 2467, 2486, 2515, 2680, 2888, 2912, 3083, 3302, 3357, 3561, 3699, 3793, 3826, 4076, 4110, 4138, 4150, 4168, 4287, 4413, 4415, 4652, 4728, 4790, 4807, 5111, 5136, 5174, 5535, 5583, 5598, 5691, 6160, 6288, 6334, 6414, 6760, 6782, 6798, 6858, 6917, 7159, 7325, 7473, 7588, 8266, 8539, 8630, 8840, 8860, 8934, 9151, 9226, 9338, 9587, 9705]\n",
      "[55, 63, 262, 380, 440, 476, 666, 688, 950, 1261, 1297, 1826, 2254, 2256, 2315, 2444, 2467, 2486, 2515, 2680, 2888, 2912, 3083, 3302, 3357, 3561, 3699, 3793, 3826, 4076, 4110, 4138, 4150, 4168, 4287, 4413, 4415, 4652, 4728, 4790, 4807, 5111, 5136, 5174, 5535, 5583, 5598, 5691, 6160, 6288, 6334, 6414, 6760, 6782, 6798, 6858, 6917, 7159, 7325, 7473, 7588, 8266, 8539, 8630, 8840, 8860, 8934, 9151, 9226, 9338, 9587, 9705]\n"
     ]
    }
   ],
   "source": [
    "print(EmptyTextAnswer)\n",
    "print(EmptyTimeAnswer)"
   ]
  },
  {
   "cell_type": "code",
   "execution_count": 133,
   "metadata": {},
   "outputs": [
    {
     "data": {
      "text/plain": [
       "True"
      ]
     },
     "execution_count": 133,
     "metadata": {},
     "output_type": "execute_result"
    }
   ],
   "source": [
    "EmptyTextAnswer == EmptyTimeAnswer"
   ]
  },
  {
   "cell_type": "code",
   "execution_count": 134,
   "metadata": {},
   "outputs": [
    {
     "data": {
      "text/plain": [
       "'/Forum/Appeals/Details/12679'"
      ]
     },
     "execution_count": 134,
     "metadata": {},
     "output_type": "execute_result"
    }
   ],
   "source": [
    "links_second_flat[55]"
   ]
  },
  {
   "cell_type": "code",
   "execution_count": 135,
   "metadata": {},
   "outputs": [
    {
     "data": {
      "text/plain": [
       "<!DOCTYPE html>\n",
       "<html>\n",
       "<head>\n",
       "<meta content=\"text/html; charset=utf-8\" http-equiv=\"Content-Type\"/>\n",
       "<meta charset=\"utf-8\"/>\n",
       "<meta content=\"width=device-width, initial-scale=1.0\" name=\"viewport\"/>\n",
       "<meta content=\"IE=edge\" http-equiv=\"X-UA-Compatible\"/>\n",
       "<meta name=\"description\"/>\n",
       "<meta name=\"keywords\"/>\n",
       "<meta content=\"IE=edge\" http-equiv=\"X-UA-Compatible\"/>\n",
       "<meta content=\"lH6Z9PWIRq3180Y6\" name=\"sputnik-verification\"/>\n",
       "<title>Образец заявления - Виртуальная приемная - Роспотребнадзор</title>\n",
       "<link href=\"/fonts/firasans/firasans.css\" rel=\"stylesheet\"/>\n",
       "<!--[if lt IE 9]>\n",
       "    <script src=\"http://ie7-js.googlecode.com/svn/version/2.1(beta4)/IE9.js\"></script>\n",
       "    <![endif]-->\n",
       "<link href=\"/Skin/rpn2/font/font.css\" rel=\"stylesheet\"/>\n",
       "<link href=\"/Content/font-awesome.min.css\" rel=\"stylesheet\"/>\n",
       "<link href=\"/Content/css?v=NQGD633p8LVb3M5_IWEqJHuZWbhsiDqS1PMl-WIDzL01\" rel=\"stylesheet\"/>\n",
       "<script src=\"/bundles/modernizr?v=inCVuEFe6J4Q07A0AcRsbJic_UE5MwpRMNGcOtk94TE1\"></script>\n",
       "<link href=\"/Skin/rpn2/css/Main.css?v2\" rel=\"stylesheet\"/>\n",
       "<script src=\"/bundles/jquery?v=gkWyJthHPtwkFjvHuNinBjchIfwLwc_KbE-H26J2kAI1\"></script>\n",
       "<script src=\"/Scripts/portal.js\"></script>\n",
       "<script src=\"/Skin/rpn2/js/design.js\"></script>\n",
       "</head>\n",
       "<body>\n",
       "<div id=\"mainmenu_container_short\">\n",
       "<nav class=\"navbar navbar-default\">\n",
       "<div class=\"navbar-header\">\n",
       "<button aria-expanded=\"false\" class=\"navbar-toggle collapsed\" data-target=\"#mainmenu_container_short_menu\" data-toggle=\"collapse\" type=\"button\">\n",
       "<span class=\"sr-only\">Показать</span>\n",
       "<span class=\"icon-bar\"></span>\n",
       "<span class=\"icon-bar\"></span>\n",
       "<span class=\"icon-bar\"></span>\n",
       "</button>\n",
       "<a class=\"navbar-brand\" href=\"/\">\n",
       "                    Роспотребнадзор<br/>\n",
       "<span class=\"description\">Государственный информационный ресурс в сфере защиты прав потребителей</span>\n",
       "<span class=\"description600\"><abbr title=\"Государственный информационный ресурс в сфере защиты прав потребителей\">ГИС ЗПП</abbr></span>\n",
       "</a>\n",
       "</div>\n",
       "<div class=\"collapse navbar-collapse\" id=\"mainmenu_container_short_menu\">\n",
       "<ul class=\"nav navbar-nav\"></ul>\n",
       "</div>\n",
       "</nav>\n",
       "</div>\n",
       "<div id=\"mainmenu_container\">\n",
       "<table class=\"mainmenu_block\">\n",
       "<tr>\n",
       "<td style=\"padding-right:0\">\n",
       "<a href=\"/\" id=\"logo-link2root\">\n",
       "<div><img class=\"logo\" src=\"/Skin/rpn2/assets/rpn-logo.png\"/></div>\n",
       "</a>\n",
       "</td>\n",
       "</tr>\n",
       "<tr>\n",
       "<td height=\"100%\">\n",
       "<div class=\"position position_mainmenu\">\n",
       "<div class=\"module moduletype_menu\">\n",
       "<div class=\"module_body\">\n",
       "<div>\n",
       "<ul>\n",
       "<li class=\"mmi-consumer level1\">\n",
       "<a href=\"/handbook/actual\"><span class=\"text\">Справочник потребителя</span></a>\n",
       "</li>\n",
       "<li class=\"level1\">\n",
       "<a href=\"/advices\"><span class=\"text\">Советы по здоровому питанию</span></a>\n",
       "</li>\n",
       "<li class=\"mmi-npa level1\">\n",
       "<a href=\"/npa/global\"><span class=\"text\">Нормативные правовые акты</span></a>\n",
       "</li>\n",
       "<li class=\"mmi-info level1\">\n",
       "<a href=\"/info/doclad\"><span class=\"text\">Информационно-аналитические материалы</span></a>\n",
       "</li>\n",
       "<li class=\"mmi-organizations level1\">\n",
       "<a href=\"/organizations/gos\"><span class=\"text\">Органы и организации в сфере защиты прав потребителей</span></a>\n",
       "</li>\n",
       "<li class=\"mmi-verifications level1\">\n",
       "<a href=\"/verifications\"><span class=\"text\">Результаты проверок</span></a>\n",
       "</li>\n",
       "<li class=\"mmi-badproducts level1\">\n",
       "<a href=\"/badproducts/violations\"><span class=\"text\">Продукция, не соответствующая обязательным требованиям</span></a>\n",
       "</li>\n",
       "<li class=\"mmi-adjudications level1\">\n",
       "<a href=\"/adjudications/federal\"><span class=\"text\">Судебная практика</span></a>\n",
       "</li>\n",
       "<li class=\"mmi-news level1\">\n",
       "<a href=\"/news/federal\"><span class=\"text\">Новости</span></a>\n",
       "</li>\n",
       "<li class=\"level1\">\n",
       "<a href=\"/staff\"><span class=\"text\">Для сотрудников</span></a>\n",
       "</li>\n",
       "</ul>\n",
       "</div>\n",
       "</div>\n",
       "</div>\n",
       "</div>\n",
       "</td>\n",
       "</tr>\n",
       "<tr>\n",
       "<td>\n",
       "<div class=\"search-form\" id=\"search-form\">\n",
       "<form action=\"/Search/Index\" method=\"get\">\n",
       "<div class=\"form-group input-group\">\n",
       "<input autocomplete=\"off\" class=\"form-control search-button\" id=\"autocompleteSearch\" name=\"SearchQuery\" placeholder=\"Поиск\" type=\"text\"/>\n",
       "<span class=\"input-group-btn\">\n",
       "<button class=\"btn search-button-icon\" type=\"submit\">\n",
       "<i class=\"fa fa-search\"></i>\n",
       "</button>\n",
       "</span>\n",
       "</div>\n",
       "</form>\n",
       "</div>\n",
       "</td>\n",
       "</tr>\n",
       "<tr>\n",
       "<td>\n",
       "<div class=\"mainmenu_optmenu\">\n",
       "<ul>\n",
       "<li><a href=\"/Show/Special\">Версия для слабовидящих</a></li>\n",
       "<li><a href=\"/Forum/Appeals\">Виртуальная приемная</a></li>\n",
       "</ul>\n",
       "</div>\n",
       "</td>\n",
       "</tr>\n",
       "<tr>\n",
       "<td>\n",
       "<div class=\"mainmenu_copyright\">\n",
       "                        2019<span class=\"copy\">©</span>Роспотребнадзор\n",
       "                    </div>\n",
       "</td>\n",
       "</tr>\n",
       "</table>\n",
       "</div>\n",
       "<div id=\"main_container\">\n",
       "<div>\n",
       "<div id=\"mainbody\">\n",
       "<link href=\"/Skin/rpn2/css/forum/forum-styles.css\" rel=\"stylesheet\" type=\"text/css\"/>\n",
       "<link href=\"/Skin/rpn2/css/formcomponents/core.css\" rel=\"stylesheet\" type=\"text/css\"/>\n",
       "<link href=\"/Skin/rpn2/css/formcomponents/components.css\" rel=\"stylesheet\" type=\"text/css\"/>\n",
       "<link href=\"/Skin/rpn2/css/formcomponents/color.css\" rel=\"stylesheet\" type=\"text/css\"/>\n",
       "<link href=\"/Scripts/magnific-popup/magnific-popup.css\" rel=\"stylesheet\" type=\"text/css\"/>\n",
       "<script src=\"/Scripts/jquery-2.1.4.min.js\" type=\"text/javascript\"></script>\n",
       "<script src=\"/Scripts/jquery.validate.js\" type=\"text/javascript\"></script>\n",
       "<script src=\"/Scripts/magnific-popup/jquery.magnific-popup.min.js\" type=\"text/javascript\"></script>\n",
       "<div class=\"row\">\n",
       "<div class=\"col-md-9\">\n",
       "<h2>Образец заявления</h2>\n",
       "</div>\n",
       "</div>\n",
       "<div class=\"row vm-20\">\n",
       "<div class=\"col-md-9\">\n",
       "<div class=\"appeal-details-container\">\n",
       "<p class=\"appeal-details-auth-name\">Анастасия Евгеньевна</p>\n",
       "<div class=\"row\">\n",
       "<div class=\"col-md-12\">\n",
       "<p class=\"appeal-details-message\">Добрый день!\n",
       "Прошу сообщить где можно ознакомиться с формой заявления об установлении санитарно-защитной зоны, которая должна быть утверждена Федеральной службой по надзору в сфере защиты прав потребителей и благополучия человека (пункт 4 Правил установления санитарно-защитных зон и использования земельных участков, расположенных в границах санитарно-защитных зон, утв. постановлением Правительства РФ от 03.03.2018 г. №222).\n",
       "\n",
       "С уважением,\n",
       "Скалозуб Анастасия Евгеньевна</p>\n",
       "</div>\n",
       "<div class=\"col-md-12\">\n",
       "<p class=\"appeal-element-bottom\"><span> Опубликовано: </span> 11.04.2018 в 11:51</p>\n",
       "</div>\n",
       "</div>\n",
       "<div class=\"row\">\n",
       "<div class=\"col-md-12\">\n",
       "</div>\n",
       "</div>\n",
       "</div>\n",
       "</div>\n",
       "</div>\n",
       "<script type=\"text/javascript\">\n",
       "\n",
       "    $(\".validate-form\").validate();\n",
       "    $('.image-popup-no-margins').magnificPopup({\n",
       "        type: 'image',\n",
       "        closeOnContentClick: true,\n",
       "        closeBtnInside: false,\n",
       "        fixedContentPos: true,\n",
       "        mainClass: 'mfp-no-margins mfp-with-zoom',\n",
       "        image: {\n",
       "            verticalFit: true\n",
       "        },\n",
       "        zoom: {\n",
       "            enabled: true,\n",
       "            duration: 300\n",
       "        }\n",
       "    });\n",
       "</script>\n",
       "</div>\n",
       "<footer>\n",
       "<div class=\"container-fluid\">\n",
       "<div id=\"bottom\">\n",
       "<div class=\"text-center bottom-extlinks\">\n",
       "<a href=\"http://www.kremlin.ru/\">\n",
       "<div class=\"img-container\"><img src=\"/Skin/rpn/images/footerLinks2/prezident.png\"/></div>\n",
       "<span class=\"img-description\">Президент России</span>\n",
       "</a>\n",
       "<a href=\"http://government.ru/\">\n",
       "<div class=\"img-container\"><img src=\"/Skin/rpn/images/footerLinks2/gov.png\"/></div>\n",
       "<span class=\"img-description\">Правительство России</span>\n",
       "</a>\n",
       "<a href=\"http://rospotrebnadzor.ru/\">\n",
       "<div class=\"img-container\"><img src=\"/Skin/rpn/images/footerLinks2/Rospotreb.png\"/></div>\n",
       "<span class=\"img-description\">Роспотребнадзор</span>\n",
       "</a>\n",
       "<a href=\"http://open.gov.ru/\">\n",
       "<div class=\"img-container\"><img src=\"/Skin/rpn/images/footerLinks2/open.png\"/></div>\n",
       "<span class=\"img-description\">Открытое Правительство</span>\n",
       "</a>\n",
       "<a href=\"http://www.gosuslugi.ru/\">\n",
       "<div class=\"img-container\"><img src=\"/Skin/rpn/images/footerLinks2/gosuslugi.png\"/></div>\n",
       "<span class=\"img-description\">Госуслуги</span>\n",
       "</a>\n",
       "<a href=\"http://fcgie.ru/\">\n",
       "<div class=\"img-container\"><img src=\"/Skin/rpn/images/footerLinks2/fcgie.png\"/></div>\n",
       "<span class=\"img-description\">ФБУЗ ФЦГиЭ</span>\n",
       "</a>\n",
       "</div>\n",
       "</div>\n",
       "</div>\n",
       "<div class=\"container-fluid\">\n",
       "<div id=\"copyright\">\n",
       "<div class=\"pull-left copyright-text\">\n",
       "                            Пожелания и предложения по работе портала ГИС ЗПП просим направлять на адрес <a href=\"mailto:zpp@gsen.ru\">zpp@gsen.ru</a>\n",
       "</div>\n",
       "<div class=\"pull-right counters\">\n",
       "<div class=\"position position_counters\">\n",
       "<div class=\"module moduletype_html\">\n",
       "<div class=\"module_body\">\n",
       "<div style=\"width:1px;height:1px;overflow:hidden\">\n",
       "<!--LiveInternet counter--><script type=\"text/javascript\">\n",
       "document.write(\"<a href='//www.liveinternet.ru/click' \"+\n",
       "\"target=_blank><img style=src='//counter.yadro.ru/hit?t44.6;r\"+\n",
       "escape(document.referrer)+((typeof(screen)==\"undefined\")?\"\":\n",
       "\";s\"+screen.width+\"*\"+screen.height+\"*\"+(screen.colorDepth?\n",
       "screen.colorDepth:screen.pixelDepth))+\";u\"+escape(document.URL)+\n",
       "\";h\"+escape(document.title.substring(0,80))+\";\"+Math.random()+\n",
       "\"' alt='' title='LiveInternet' \"+\n",
       "\"border='0' width='31' height='31'><\\/a>\")\n",
       "</script><!--/LiveInternet-->\n",
       "</div>\n",
       "<script>\n",
       "  (function(d, t, p) {\n",
       "  var j = d.createElement(t); j.async = true; j.type = \"text/javascript\";\n",
       "  j.src = (\"https:\" == p ? \"https:\" : \"http:\") + \"//stat.sputnik.ru/cnt.js\";\n",
       "  var s = d.getElementsByTagName(t)[0]; s.parentNode.insertBefore(j, s);\n",
       "  })(document, \"script\", document.location.protocol);\n",
       "</script>\n",
       "</div>\n",
       "</div>\n",
       "</div>\n",
       "</div>\n",
       "</div>\n",
       "</div>\n",
       "</footer>\n",
       "</div>\n",
       "</div>\n",
       "<script src=\"/bundles/bootstrap?v=OfX192nbUgK5NE8ftV4Ef6ToCtjUTli3wC5jn344bfM1\"></script>\n",
       "</body>\n",
       "</html>"
      ]
     },
     "execution_count": 135,
     "metadata": {},
     "output_type": "execute_result"
    }
   ],
   "source": [
    "urlarticle2 = 'http://zpp.rospotrebnadzor.ru' + linksflat[55]\n",
    "htmlarticle2 = urlopen(urlarticle2)\n",
    "souparticle2 = BeautifulSoup(htmlarticle2, 'html')\n",
    "souparticle2"
   ]
  },
  {
   "cell_type": "code",
   "execution_count": 137,
   "metadata": {},
   "outputs": [
    {
     "data": {
      "text/plain": [
       "int"
      ]
     },
     "execution_count": 137,
     "metadata": {},
     "output_type": "execute_result"
    }
   ],
   "source": [
    "type(EmptyTextAnswer[0])"
   ]
  },
  {
   "cell_type": "code",
   "execution_count": 138,
   "metadata": {},
   "outputs": [],
   "source": [
    "for i in EmptyTextAnswer:\n",
    "    TextAnswer[i] = ['No response']\n",
    "    TimeAnswer[i] = ['No response']"
   ]
  },
  {
   "cell_type": "code",
   "execution_count": 139,
   "metadata": {},
   "outputs": [],
   "source": [
    "TextAnswerFlat = [i[0] for i in TextAnswer]\n",
    "TimeAnswerFlat = [i[0] for i in TimeAnswer]"
   ]
  },
  {
   "cell_type": "code",
   "execution_count": null,
   "metadata": {},
   "outputs": [],
   "source": [
    "AuthorAppealFlat[0:5]\n",
    "TextAppealFlat[0:5]\n",
    "TimeAppealFlat[0:5]\n",
    "TextAnswerFlat[0:5]\n",
    "TimeAnswerFlat[0:5]\n",
    "AppealID[0:5]"
   ]
  },
  {
   "cell_type": "code",
   "execution_count": 146,
   "metadata": {},
   "outputs": [
    {
     "name": "stdout",
     "output_type": "stream",
     "text": [
      "['Наталья', 'Губин ', 'Елена', 'Елена ', 'Михаил']\n",
      "['21.11.2017 в 8:30', '22.06.2017 в 18:40', '16.01.2018 в 21:51', '11.04.2017 в 2:54', '30.06.2017 в 17:23']\n",
      "['22.11.2017 в 9:51', '26.06.2017 в 14:48', '17.01.2018 в 10:56', '12.04.2017 в 10:04', '11.07.2017 в 17:09']\n",
      "[4371, 3009, 5033, 2365, 3093]\n"
     ]
    }
   ],
   "source": [
    "print(AuthorAppealFlat[0:5])\n",
    "#print(TextAppealFlat[0:5])\n",
    "print(TimeAppealFlat[0:5])\n",
    "#print(TextAnswerFlat[0:5])\n",
    "print(TimeAnswerFlat[0:5])\n",
    "print(AppealID[0:5])"
   ]
  },
  {
   "cell_type": "code",
   "execution_count": 145,
   "metadata": {},
   "outputs": [],
   "source": [
    "for i in range(0, len(TimeAppealFlat)):\n",
    "    TimeAppealFlat[i] = re.sub(' Опубликовано:  ', '', TimeAppealFlat[i])\n",
    "    "
   ]
  },
  {
   "cell_type": "code",
   "execution_count": 165,
   "metadata": {},
   "outputs": [],
   "source": [
    "TimeAppealFormatted = [datetime.strptime(re.sub(' в ', ' ', a), \"%d.%m.%Y %H:%M\") for a in TimeAppealFlat]\n",
    "TimeAnswerFormatted = [datetime.strptime(re.sub(' в ', ' ', a), \"%d.%m.%Y %H:%M\") if a!='No response' else a for a in TimeAnswerFlat]"
   ]
  },
  {
   "cell_type": "code",
   "execution_count": 166,
   "metadata": {},
   "outputs": [
    {
     "name": "stdout",
     "output_type": "stream",
     "text": [
      "10179\n",
      "10179\n"
     ]
    }
   ],
   "source": [
    "print(len(TimeAppealFormatted))\n",
    "print(len(TimeAnswerFormatted))"
   ]
  },
  {
   "cell_type": "code",
   "execution_count": 167,
   "metadata": {},
   "outputs": [],
   "source": [
    "fulldata = {\n",
    "    'id':AppealID,\n",
    "    'links':links_second_flat,\n",
    "    \"region\":regionflat,\n",
    "    'category': categoryflat,\n",
    "    \"author\":authorflat,\n",
    "    'author2':AuthorAppealFlat,\n",
    "    \"publishdate\":publishdateflat,\n",
    "    'publishdateformatted': publishdateformatted,\n",
    "    'publishtime':TimeAppealFormatted,\n",
    "    'appeal':TextAppealFlat,\n",
    "    'answerpublishtime':TimeAnswerFormatted,\n",
    "    'answer':TextAnswerFlat\n",
    "}\n",
    "fulldf = pd.DataFrame(data = fulldata)"
   ]
  },
  {
   "cell_type": "code",
   "execution_count": 168,
   "metadata": {},
   "outputs": [
    {
     "data": {
      "text/html": [
       "<div>\n",
       "<style scoped>\n",
       "    .dataframe tbody tr th:only-of-type {\n",
       "        vertical-align: middle;\n",
       "    }\n",
       "\n",
       "    .dataframe tbody tr th {\n",
       "        vertical-align: top;\n",
       "    }\n",
       "\n",
       "    .dataframe thead th {\n",
       "        text-align: right;\n",
       "    }\n",
       "</style>\n",
       "<table border=\"1\" class=\"dataframe\">\n",
       "  <thead>\n",
       "    <tr style=\"text-align: right;\">\n",
       "      <th></th>\n",
       "      <th>id</th>\n",
       "      <th>links</th>\n",
       "      <th>region</th>\n",
       "      <th>category</th>\n",
       "      <th>author</th>\n",
       "      <th>author2</th>\n",
       "      <th>publishdate</th>\n",
       "      <th>publishdateformatted</th>\n",
       "      <th>publishtime</th>\n",
       "      <th>appeal</th>\n",
       "      <th>answerpublishtime</th>\n",
       "      <th>answer</th>\n",
       "    </tr>\n",
       "  </thead>\n",
       "  <tbody>\n",
       "    <tr>\n",
       "      <th>0</th>\n",
       "      <td>4371</td>\n",
       "      <td>/Forum/Appeals/Details/12851</td>\n",
       "      <td>Регион:  Республика Башкортостан</td>\n",
       "      <td>Розничная торговля</td>\n",
       "      <td>Автор:  Ирина</td>\n",
       "      <td>Наталья</td>\n",
       "      <td>Опубликовано:  28.10.2019</td>\n",
       "      <td>2019-10-28</td>\n",
       "      <td>2017-11-21 08:30:00</td>\n",
       "      <td>Здравствуйте. У нас последний этаж так как все...</td>\n",
       "      <td>2017-11-22 09:51:00</td>\n",
       "      <td>Здравствуйте, Наталья!\\r\\nПоставленные Вами во...</td>\n",
       "    </tr>\n",
       "    <tr>\n",
       "      <th>1</th>\n",
       "      <td>3009</td>\n",
       "      <td>/Forum/Appeals/Details/12828</td>\n",
       "      <td>Регион:  Орловская область</td>\n",
       "      <td>Услуги связи</td>\n",
       "      <td>Автор:  Екатерина</td>\n",
       "      <td>Губин</td>\n",
       "      <td>Опубликовано:  26.10.2019</td>\n",
       "      <td>2019-10-26</td>\n",
       "      <td>2017-06-22 18:40:00</td>\n",
       "      <td>В течении десяти месяцев пользовались интернет...</td>\n",
       "      <td>2017-06-26 14:48:00</td>\n",
       "      <td>Управление Федеральной службы по надзору в сфе...</td>\n",
       "    </tr>\n",
       "    <tr>\n",
       "      <th>2</th>\n",
       "      <td>5033</td>\n",
       "      <td>/Forum/Appeals/Details/12821</td>\n",
       "      <td>Регион:  Ленинградская область</td>\n",
       "      <td>Розничная торговля</td>\n",
       "      <td>Автор:  ольга</td>\n",
       "      <td>Елена</td>\n",
       "      <td>Опубликовано:  25.10.2019</td>\n",
       "      <td>2019-10-25</td>\n",
       "      <td>2018-01-16 21:51:00</td>\n",
       "      <td>Здравствуйте! Подскажите, что можно сделать? С...</td>\n",
       "      <td>2018-01-17 10:56:00</td>\n",
       "      <td>Уважаемая Елена! По данному вопросу рекомендуе...</td>\n",
       "    </tr>\n",
       "    <tr>\n",
       "      <th>3</th>\n",
       "      <td>2365</td>\n",
       "      <td>/Forum/Appeals/Details/12815</td>\n",
       "      <td>Регион:  Архангельская область</td>\n",
       "      <td>Розничная торговля</td>\n",
       "      <td>Автор:  Иван</td>\n",
       "      <td>Елена</td>\n",
       "      <td>Опубликовано:  25.10.2019</td>\n",
       "      <td>2019-10-25</td>\n",
       "      <td>2017-04-11 02:54:00</td>\n",
       "      <td>Хотела повторно отправить жалобу на ИП (наруше...</td>\n",
       "      <td>2017-04-12 10:04:00</td>\n",
       "      <td>В настоящее время, на сайте Управления предусм...</td>\n",
       "    </tr>\n",
       "    <tr>\n",
       "      <th>4</th>\n",
       "      <td>3093</td>\n",
       "      <td>/Forum/Appeals/Details/12797</td>\n",
       "      <td>Регион:  Ростовская область</td>\n",
       "      <td>Услуги связи</td>\n",
       "      <td>Автор:  Наталия Леонидовна</td>\n",
       "      <td>Михаил</td>\n",
       "      <td>Опубликовано:  24.10.2019</td>\n",
       "      <td>2019-10-24</td>\n",
       "      <td>2017-06-30 17:23:00</td>\n",
       "      <td>Здравствуйте.\\r\\nВ гарантийный период у нас пр...</td>\n",
       "      <td>2017-07-11 17:09:00</td>\n",
       "      <td>Уважаемый Михаил!\\r\\n\\r\\nИсходя из информации,...</td>\n",
       "    </tr>\n",
       "  </tbody>\n",
       "</table>\n",
       "</div>"
      ],
      "text/plain": [
       "     id                         links                             region  \\\n",
       "0  4371  /Forum/Appeals/Details/12851   Регион:  Республика Башкортостан   \n",
       "1  3009  /Forum/Appeals/Details/12828         Регион:  Орловская область   \n",
       "2  5033  /Forum/Appeals/Details/12821     Регион:  Ленинградская область   \n",
       "3  2365  /Forum/Appeals/Details/12815     Регион:  Архангельская область   \n",
       "4  3093  /Forum/Appeals/Details/12797        Регион:  Ростовская область   \n",
       "\n",
       "             category                       author  author2  \\\n",
       "0  Розничная торговля                Автор:  Ирина  Наталья   \n",
       "1        Услуги связи           Автор:  Екатерина    Губин    \n",
       "2  Розничная торговля                Автор:  ольга    Елена   \n",
       "3  Розничная торговля                 Автор:  Иван   Елена    \n",
       "4        Услуги связи   Автор:  Наталия Леонидовна   Михаил   \n",
       "\n",
       "                  publishdate publishdateformatted         publishtime  \\\n",
       "0   Опубликовано:  28.10.2019           2019-10-28 2017-11-21 08:30:00   \n",
       "1   Опубликовано:  26.10.2019           2019-10-26 2017-06-22 18:40:00   \n",
       "2   Опубликовано:  25.10.2019           2019-10-25 2018-01-16 21:51:00   \n",
       "3   Опубликовано:  25.10.2019           2019-10-25 2017-04-11 02:54:00   \n",
       "4   Опубликовано:  24.10.2019           2019-10-24 2017-06-30 17:23:00   \n",
       "\n",
       "                                              appeal    answerpublishtime  \\\n",
       "0  Здравствуйте. У нас последний этаж так как все...  2017-11-22 09:51:00   \n",
       "1  В течении десяти месяцев пользовались интернет...  2017-06-26 14:48:00   \n",
       "2  Здравствуйте! Подскажите, что можно сделать? С...  2018-01-17 10:56:00   \n",
       "3  Хотела повторно отправить жалобу на ИП (наруше...  2017-04-12 10:04:00   \n",
       "4  Здравствуйте.\\r\\nВ гарантийный период у нас пр...  2017-07-11 17:09:00   \n",
       "\n",
       "                                              answer  \n",
       "0  Здравствуйте, Наталья!\\r\\nПоставленные Вами во...  \n",
       "1  Управление Федеральной службы по надзору в сфе...  \n",
       "2  Уважаемая Елена! По данному вопросу рекомендуе...  \n",
       "3  В настоящее время, на сайте Управления предусм...  \n",
       "4  Уважаемый Михаил!\\r\\n\\r\\nИсходя из информации,...  "
      ]
     },
     "execution_count": 168,
     "metadata": {},
     "output_type": "execute_result"
    }
   ],
   "source": [
    "fulldf.head()"
   ]
  },
  {
   "cell_type": "code",
   "execution_count": 169,
   "metadata": {},
   "outputs": [],
   "source": [
    "firstdata = {\n",
    "    'links':links_second_flat,\n",
    "    \"region\":regionflat,\n",
    "    'category': categoryflat,\n",
    "    \"author\":authorflat,\n",
    "    \"publishdate\":publishdateflat,\n",
    "    'publishdateformatted': publishdateformatted,\n",
    "}\n",
    "seconddata = {\n",
    "    'id':AppealID,\n",
    "    'author2':AuthorAppealFlat,\n",
    "    'publishtime':TimeAppealFormatted,\n",
    "    'appeal':TextAppealFlat,\n",
    "    'answerpublishtime':TimeAnswerFormatted,\n",
    "    'answer':TextAnswerFlat\n",
    "}\n",
    "\n",
    "firstdf = pd.DataFrame(data = firstdata)\n",
    "seconddf = pd.DataFrame(data = seconddata)"
   ]
  },
  {
   "cell_type": "code",
   "execution_count": 177,
   "metadata": {},
   "outputs": [
    {
     "data": {
      "text/html": [
       "<div>\n",
       "<style scoped>\n",
       "    .dataframe tbody tr th:only-of-type {\n",
       "        vertical-align: middle;\n",
       "    }\n",
       "\n",
       "    .dataframe tbody tr th {\n",
       "        vertical-align: top;\n",
       "    }\n",
       "\n",
       "    .dataframe thead th {\n",
       "        text-align: right;\n",
       "    }\n",
       "</style>\n",
       "<table border=\"1\" class=\"dataframe\">\n",
       "  <thead>\n",
       "    <tr style=\"text-align: right;\">\n",
       "      <th></th>\n",
       "      <th>links</th>\n",
       "      <th>region</th>\n",
       "      <th>category</th>\n",
       "      <th>author</th>\n",
       "      <th>publishdate</th>\n",
       "      <th>publishdateformatted</th>\n",
       "    </tr>\n",
       "  </thead>\n",
       "  <tbody>\n",
       "    <tr>\n",
       "      <th>0</th>\n",
       "      <td>/Forum/Appeals/Details/12851</td>\n",
       "      <td>Регион:  Республика Башкортостан</td>\n",
       "      <td>Розничная торговля</td>\n",
       "      <td>Автор:  Ирина</td>\n",
       "      <td>Опубликовано:  28.10.2019</td>\n",
       "      <td>2019-10-28</td>\n",
       "    </tr>\n",
       "    <tr>\n",
       "      <th>1</th>\n",
       "      <td>/Forum/Appeals/Details/12828</td>\n",
       "      <td>Регион:  Орловская область</td>\n",
       "      <td>Услуги связи</td>\n",
       "      <td>Автор:  Екатерина</td>\n",
       "      <td>Опубликовано:  26.10.2019</td>\n",
       "      <td>2019-10-26</td>\n",
       "    </tr>\n",
       "    <tr>\n",
       "      <th>2</th>\n",
       "      <td>/Forum/Appeals/Details/12821</td>\n",
       "      <td>Регион:  Ленинградская область</td>\n",
       "      <td>Розничная торговля</td>\n",
       "      <td>Автор:  ольга</td>\n",
       "      <td>Опубликовано:  25.10.2019</td>\n",
       "      <td>2019-10-25</td>\n",
       "    </tr>\n",
       "    <tr>\n",
       "      <th>3</th>\n",
       "      <td>/Forum/Appeals/Details/12815</td>\n",
       "      <td>Регион:  Архангельская область</td>\n",
       "      <td>Розничная торговля</td>\n",
       "      <td>Автор:  Иван</td>\n",
       "      <td>Опубликовано:  25.10.2019</td>\n",
       "      <td>2019-10-25</td>\n",
       "    </tr>\n",
       "    <tr>\n",
       "      <th>4</th>\n",
       "      <td>/Forum/Appeals/Details/12797</td>\n",
       "      <td>Регион:  Ростовская область</td>\n",
       "      <td>Услуги связи</td>\n",
       "      <td>Автор:  Наталия Леонидовна</td>\n",
       "      <td>Опубликовано:  24.10.2019</td>\n",
       "      <td>2019-10-24</td>\n",
       "    </tr>\n",
       "  </tbody>\n",
       "</table>\n",
       "</div>"
      ],
      "text/plain": [
       "                          links                             region  \\\n",
       "0  /Forum/Appeals/Details/12851   Регион:  Республика Башкортостан   \n",
       "1  /Forum/Appeals/Details/12828         Регион:  Орловская область   \n",
       "2  /Forum/Appeals/Details/12821     Регион:  Ленинградская область   \n",
       "3  /Forum/Appeals/Details/12815     Регион:  Архангельская область   \n",
       "4  /Forum/Appeals/Details/12797        Регион:  Ростовская область   \n",
       "\n",
       "             category                       author  \\\n",
       "0  Розничная торговля                Автор:  Ирина   \n",
       "1        Услуги связи           Автор:  Екатерина    \n",
       "2  Розничная торговля                Автор:  ольга   \n",
       "3  Розничная торговля                 Автор:  Иван   \n",
       "4        Услуги связи   Автор:  Наталия Леонидовна   \n",
       "\n",
       "                  publishdate publishdateformatted  \n",
       "0   Опубликовано:  28.10.2019           2019-10-28  \n",
       "1   Опубликовано:  26.10.2019           2019-10-26  \n",
       "2   Опубликовано:  25.10.2019           2019-10-25  \n",
       "3   Опубликовано:  25.10.2019           2019-10-25  \n",
       "4   Опубликовано:  24.10.2019           2019-10-24  "
      ]
     },
     "execution_count": 177,
     "metadata": {},
     "output_type": "execute_result"
    }
   ],
   "source": [
    "firstdf.head()"
   ]
  },
  {
   "cell_type": "code",
   "execution_count": 2,
   "metadata": {},
   "outputs": [
    {
     "ename": "NameError",
     "evalue": "name 'firstdf' is not defined",
     "output_type": "error",
     "traceback": [
      "\u001b[1;31m---------------------------------------------------------------------------\u001b[0m",
      "\u001b[1;31mNameError\u001b[0m                                 Traceback (most recent call last)",
      "\u001b[1;32m<ipython-input-2-c68e21173030>\u001b[0m in \u001b[0;36m<module>\u001b[1;34m\u001b[0m\n\u001b[1;32m----> 1\u001b[1;33m \u001b[0mfirstdf\u001b[0m\u001b[1;33m[\u001b[0m\u001b[1;34m'links'\u001b[0m\u001b[1;33m]\u001b[0m \u001b[1;33m=\u001b[0m \u001b[0mfirstdf\u001b[0m\u001b[1;33m[\u001b[0m\u001b[1;34m'links'\u001b[0m\u001b[1;33m]\u001b[0m\u001b[1;33m.\u001b[0m\u001b[0mapply\u001b[0m\u001b[1;33m(\u001b[0m\u001b[1;32mlambda\u001b[0m \u001b[0mx\u001b[0m\u001b[1;33m:\u001b[0m \u001b[0mre\u001b[0m\u001b[1;33m.\u001b[0m\u001b[0msub\u001b[0m\u001b[1;33m(\u001b[0m\u001b[1;34m'/Forum/Appeals/Details/'\u001b[0m\u001b[1;33m,\u001b[0m \u001b[1;34m''\u001b[0m\u001b[1;33m,\u001b[0m \u001b[0mx\u001b[0m\u001b[1;33m)\u001b[0m\u001b[1;33m)\u001b[0m\u001b[1;33m\u001b[0m\u001b[1;33m\u001b[0m\u001b[0m\n\u001b[0m",
      "\u001b[1;31mNameError\u001b[0m: name 'firstdf' is not defined"
     ]
    }
   ],
   "source": [
    "firstdf['links'] = firstdf['links'].apply(lambda x: re.sub('/Forum/Appeals/Details/', '', x))"
   ]
  },
  {
   "cell_type": "code",
   "execution_count": null,
   "metadata": {},
   "outputs": [],
   "source": []
  },
  {
   "cell_type": "code",
   "execution_count": null,
   "metadata": {},
   "outputs": [],
   "source": []
  },
  {
   "cell_type": "code",
   "execution_count": null,
   "metadata": {},
   "outputs": [],
   "source": []
  },
  {
   "cell_type": "code",
   "execution_count": null,
   "metadata": {},
   "outputs": [],
   "source": []
  },
  {
   "cell_type": "code",
   "execution_count": null,
   "metadata": {},
   "outputs": [],
   "source": []
  },
  {
   "cell_type": "code",
   "execution_count": null,
   "metadata": {},
   "outputs": [],
   "source": []
  },
  {
   "cell_type": "code",
   "execution_count": null,
   "metadata": {},
   "outputs": [],
   "source": []
  },
  {
   "cell_type": "markdown",
   "metadata": {},
   "source": [
    "# How to Scrape the Web using Python with ScraPy Spiders"
   ]
  },
  {
   "cell_type": "code",
   "execution_count": null,
   "metadata": {},
   "outputs": [],
   "source": []
  },
  {
   "cell_type": "code",
   "execution_count": null,
   "metadata": {},
   "outputs": [],
   "source": []
  },
  {
   "cell_type": "code",
   "execution_count": null,
   "metadata": {},
   "outputs": [],
   "source": []
  },
  {
   "cell_type": "code",
   "execution_count": null,
   "metadata": {},
   "outputs": [],
   "source": []
  },
  {
   "cell_type": "code",
   "execution_count": null,
   "metadata": {},
   "outputs": [],
   "source": []
  },
  {
   "cell_type": "code",
   "execution_count": null,
   "metadata": {},
   "outputs": [],
   "source": []
  },
  {
   "cell_type": "code",
   "execution_count": null,
   "metadata": {},
   "outputs": [],
   "source": []
  },
  {
   "cell_type": "code",
   "execution_count": null,
   "metadata": {},
   "outputs": [],
   "source": []
  },
  {
   "cell_type": "code",
   "execution_count": null,
   "metadata": {},
   "outputs": [],
   "source": []
  },
  {
   "cell_type": "code",
   "execution_count": null,
   "metadata": {},
   "outputs": [],
   "source": []
  }
 ],
 "metadata": {
  "kernelspec": {
   "display_name": "Python 3",
   "language": "python",
   "name": "python3"
  },
  "language_info": {
   "codemirror_mode": {
    "name": "ipython",
    "version": 3
   },
   "file_extension": ".py",
   "mimetype": "text/x-python",
   "name": "python",
   "nbconvert_exporter": "python",
   "pygments_lexer": "ipython3",
   "version": "3.7.3"
  }
 },
 "nbformat": 4,
 "nbformat_minor": 2
}
